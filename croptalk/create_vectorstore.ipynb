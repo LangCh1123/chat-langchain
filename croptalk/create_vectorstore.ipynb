{
 "cells": [
  {
   "cell_type": "code",
   "execution_count": 1,
   "metadata": {},
   "outputs": [],
   "source": [
    "# # For chromadb embeddings\n",
    "# !pip install sentence_transformers \n",
    "\n",
    "import os\n",
    "import pandas as pd\n",
    "\n",
    "import chromadb\n",
    "from chromadb.utils import embedding_functions\n",
    "\n",
    "from langchain.document_loaders import PyMuPDFLoader\n",
    "from langchain.text_splitter import RecursiveCharacterTextSplitter\n",
    "from langchain.embeddings.openai import OpenAIEmbeddings\n",
    "from langchain.embeddings.sentence_transformer import SentenceTransformerEmbeddings\n"
   ]
  },
  {
   "cell_type": "code",
   "execution_count": 9,
   "metadata": {},
   "outputs": [
    {
     "name": "stdout",
     "output_type": "stream",
     "text": [
      "(50060, 13)\n"
     ]
    },
    {
     "data": {
      "text/html": [
       "<div>\n",
       "<style scoped>\n",
       "    .dataframe tbody tr th:only-of-type {\n",
       "        vertical-align: middle;\n",
       "    }\n",
       "\n",
       "    .dataframe tbody tr th {\n",
       "        vertical-align: top;\n",
       "    }\n",
       "\n",
       "    .dataframe thead th {\n",
       "        text-align: right;\n",
       "    }\n",
       "</style>\n",
       "<table border=\"1\" class=\"dataframe\">\n",
       "  <thead>\n",
       "    <tr style=\"text-align: right;\">\n",
       "      <th></th>\n",
       "      <th>title</th>\n",
       "      <th>year</th>\n",
       "      <th>commodity</th>\n",
       "      <th>plan</th>\n",
       "      <th>source_url</th>\n",
       "      <th>filename</th>\n",
       "      <th>s3_url</th>\n",
       "      <th>date_published</th>\n",
       "      <th>doc_category</th>\n",
       "      <th>file_ext</th>\n",
       "      <th>county</th>\n",
       "      <th>state</th>\n",
       "      <th>plan_commodity_county_state</th>\n",
       "    </tr>\n",
       "  </thead>\n",
       "  <tbody>\n",
       "    <tr>\n",
       "      <th>0</th>\n",
       "      <td>Walnut Crop Provisions 23-029</td>\n",
       "      <td>2023</td>\n",
       "      <td>0029</td>\n",
       "      <td>90</td>\n",
       "      <td>https://www.rma.usda.gov/-/media/RMA/Policies/...</td>\n",
       "      <td>Walnut-Crop-Provisions-23-029.pdf</td>\n",
       "      <td>https://croptalk-spoi.s3.amazonaws.com/CP/Waln...</td>\n",
       "      <td>date_published</td>\n",
       "      <td>CP</td>\n",
       "      <td>pdf</td>\n",
       "      <td>000</td>\n",
       "      <td>00</td>\n",
       "      <td>90_0029_000_00</td>\n",
       "    </tr>\n",
       "  </tbody>\n",
       "</table>\n",
       "</div>"
      ],
      "text/plain": [
       "                           title  year commodity plan  \\\n",
       "0  Walnut Crop Provisions 23-029  2023      0029   90   \n",
       "\n",
       "                                          source_url  \\\n",
       "0  https://www.rma.usda.gov/-/media/RMA/Policies/...   \n",
       "\n",
       "                            filename  \\\n",
       "0  Walnut-Crop-Provisions-23-029.pdf   \n",
       "\n",
       "                                              s3_url  date_published  \\\n",
       "0  https://croptalk-spoi.s3.amazonaws.com/CP/Waln...  date_published   \n",
       "\n",
       "  doc_category file_ext county state plan_commodity_county_state  \n",
       "0           CP      pdf    000    00              90_0029_000_00  "
      ]
     },
     "execution_count": 9,
     "metadata": {},
     "output_type": "execute_result"
    }
   ],
   "source": [
    "# Read the doc from s3\n",
    "filename = 'data/registry_20231206_2.csv'\n",
    "df = pd.read_csv(filename, dtype=str)\n",
    "\n",
    "# # Take a subset of the data\n",
    "states = ['00', '06', '53', '36'] # all states, California, Washington, New York\n",
    "commodities = ['0000', '0154', '0227', '0028', '0054'] # all commodities, strawberries, oranges, almonds\n",
    "plans = ['00', '90', '47', '76'] # all plans, APH, ARH, WFRP\n",
    "df = df[df['state'].isin(states)]\n",
    "df = df[df['commodity'].isin(commodities)]\n",
    "df = df[df['plan'].isin(plans)]\n",
    "\n",
    "print(df.shape)\n",
    "df.head(1)"
   ]
  },
  {
   "cell_type": "code",
   "execution_count": null,
   "metadata": {},
   "outputs": [],
   "source": [
    "# Save file from s3 url to local directory\n",
    "outdir = 'data/demo_knowledge'\n",
    "if not os.path.exists(outdir):\n",
    "    os.makedirs(outdir)\n",
    "    \n",
    "for i, row in df.iterrows():\n",
    "    url = row['s3_url']\n",
    "    \n",
    "    if row['doc_category'] in ['CP', 'BP', 'CIH']:\n",
    "        # FIX\n",
    "        url = url.replace('.pdf', '.ashx')\n",
    "        filename = os.path.basename(url).replace('.ashx', '.pdf')\n",
    "        outpath = os.path.join(outdir, filename)\n",
    "    else:\n",
    "        filename = os.path.basename(url)\n",
    "        outpath = os.path.join(outdir, filename)\n",
    "    if not os.path.exists(outpath):\n",
    "        print(f'Downloading {url} to {outpath}')\n",
    "        os.system(f'curl -o {outpath} {url}')\n",
    "    else:\n",
    "        print(f'File exists: {outpath}')\n",
    "    "
   ]
  },
  {
   "cell_type": "code",
   "execution_count": 4,
   "metadata": {},
   "outputs": [],
   "source": [
    "vectorestore_dir = '/Users/katerina/Documents/CropGuard/Dec_demo/vectorstore'\n",
    "\n",
    "# Chroma uses the Sentence Transformers all-MiniLM-L6-v2 model to create embeddings\n",
    "emb_fn = embedding_functions.SentenceTransformerEmbeddingFunction(model_name=\"all-MiniLM-L6-v2\")\n",
    "\n",
    "chroma_client = chromadb.PersistentClient(path=vectorestore_dir)\n",
    "collection = chroma_client.get_or_create_collection(name=\"v0\", embedding_function=emb_fn)\n",
    "\n",
    "text_splitter = RecursiveCharacterTextSplitter(\n",
    "    chunk_size=600, chunk_overlap=150, add_start_index=True\n",
    "    )"
   ]
  },
  {
   "cell_type": "code",
   "execution_count": 5,
   "metadata": {},
   "outputs": [],
   "source": [
    "# Store the docs that were indexed\n",
    "indexed_docs = []"
   ]
  },
  {
   "cell_type": "code",
   "execution_count": 6,
   "metadata": {},
   "outputs": [
    {
     "name": "stderr",
     "output_type": "stream",
     "text": [
      "  2%|▏         | 2/118 [00:12<11:56,  6.17s/it]"
     ]
    },
    {
     "name": "stdout",
     "output_type": "stream",
     "text": [
      "\n",
      "cannot open broken document\n",
      "{'source_url': 'https://www.rma.usda.gov/-/media/RMA/Policies/Apple/2011/Apple-Crop-Provisions-11-0054.ashx', 'year': '2011', 'plan': '90', 'commodity': '0054', 'state': '00', 'county': '000', 'doc_category': 'CP', 'title': 'Apple Crop Provisions 11-0054', 'filename': 'Apple-Crop-Provisions-11-0054.pdf', 'plan_commodity_county_state': '90_0054_000_00'}\n",
      "\n",
      "\n"
     ]
    },
    {
     "name": "stderr",
     "output_type": "stream",
     "text": [
      "100%|██████████| 118/118 [14:57<00:00,  7.61s/it]  \n"
     ]
    }
   ],
   "source": [
    "# Create a document loader using Langchain's PyMuPDFLoader\n",
    "\n",
    "import tqdm\n",
    "\n",
    "filedir = '/Users/katerina/Documents/CropGuard/Dec_demo/demo_knowledge'\n",
    "meta_columns = ['source_url', 'year', 'plan', 'commodity', 'state', 'county', 'doc_category', 'title', 'filename', 'plan_commodity_county_state']\n",
    "\n",
    "\n",
    "for i, (_, row) in tqdm.tqdm(enumerate(df.iterrows()), total=len(df)):\n",
    "\n",
    "    if row.filename in indexed_docs:\n",
    "        # print(f\"Skipping {row.filename}\")\n",
    "        continue\n",
    "\n",
    "    row_metadata = row[meta_columns].to_dict()\n",
    "\n",
    "    # load pdf and split into pages and text chunks\n",
    "    filepath = os.path.join(filedir, row.filename)\n",
    "    loader = PyMuPDFLoader(filepath)\n",
    "\n",
    "    try:\n",
    "        doc_pages = loader.load()\n",
    "        doc_splits = text_splitter.split_documents(doc_pages)\n",
    "\n",
    "        # extract texts and pypdf metadata\n",
    "        texts = [doc.page_content for doc in doc_splits]\n",
    "        metas = [doc.metadata for doc in doc_splits]\n",
    "        # embds = [emb_fn(doc.page_content) for doc in doc_splits]\n",
    "\n",
    "        \n",
    "        for d in metas:\n",
    "            # update with rma doc metadata, some fields are overwritten\n",
    "            d.update(row_metadata)\n",
    "            # overwrite source with s3 url\n",
    "            d['source'] = row['s3_url']\n",
    "        \n",
    "        \n",
    "        # create ids for splits\n",
    "        ids = [f\"{d.metadata['filename']}_{d.metadata['plan_commodity_county_state'].replace('_', '-')}_page_{d.metadata['page']}_startindex_{d.metadata['start_index']}\" for d in doc_splits]\n",
    "\n",
    "        # load it into Chroma\n",
    "        collection.add(documents=texts, metadatas=metas, ids=ids) # embeddings=embds)\n",
    "        indexed_docs.append(row_metadata['filename'])\n",
    "\n",
    "    except Exception as e:\n",
    "        print(f\"\\n{e}\\n{row_metadata}\\n\\n\")\n",
    "        continue"
   ]
  },
  {
   "cell_type": "code",
   "execution_count": 7,
   "metadata": {},
   "outputs": [
    {
     "data": {
      "text/plain": [
       "3733"
      ]
     },
     "execution_count": 7,
     "metadata": {},
     "output_type": "execute_result"
    }
   ],
   "source": [
    "collection.count()"
   ]
  },
  {
   "cell_type": "code",
   "execution_count": 8,
   "metadata": {},
   "outputs": [
    {
     "data": {
      "text/plain": [
       "[{'source': 'https://croptalk-spoi.s3.amazonaws.com/SPOI/06_115_90_0054_20231031.pdf',\n",
       "  'file_path': '/Users/katerina/Documents/CropGuard/Dec_demo/demo_knowledge/06_115_90_0054_20231031.pdf',\n",
       "  'page': 0,\n",
       "  'total_pages': 2,\n",
       "  'format': 'PDF 1.3',\n",
       "  'title': 'Special Provisions for insuring 0054 under plan 90 in state 06, county 115',\n",
       "  'author': '',\n",
       "  'subject': '',\n",
       "  'keywords': '',\n",
       "  'creator': 'Microsoft Reporting Services 10.0.0.0',\n",
       "  'producer': 'Microsoft Reporting Services PDF Rendering Extension 10.0.0.0',\n",
       "  'creationDate': \"D:20230816083754-05'00'\",\n",
       "  'modDate': '',\n",
       "  'trapped': '',\n",
       "  'start_index': 0,\n",
       "  'source_url': 'https://pubfs-rma.fpac.usda.gov/pub/Special_Provisions/2024/2024_SPOI_1031.zip',\n",
       "  'year': '2024',\n",
       "  'plan': '90',\n",
       "  'commodity': '0054',\n",
       "  'state': '06',\n",
       "  'county': '115',\n",
       "  'doc_category': 'SP',\n",
       "  'filename': '06_115_90_0054_20231031.pdf',\n",
       "  'plan_commodity_county_state': '90_0054_115_06'},\n",
       " {'source': 'https://croptalk-spoi.s3.amazonaws.com/SPOI/06_115_90_0054_20231031.pdf',\n",
       "  'file_path': '/Users/katerina/Documents/CropGuard/Dec_demo/demo_knowledge/06_115_90_0054_20231031.pdf',\n",
       "  'page': 0,\n",
       "  'total_pages': 2,\n",
       "  'format': 'PDF 1.3',\n",
       "  'title': 'Special Provisions for insuring 0054 under plan 90 in state 06, county 115',\n",
       "  'author': '',\n",
       "  'subject': '',\n",
       "  'keywords': '',\n",
       "  'creator': 'Microsoft Reporting Services 10.0.0.0',\n",
       "  'producer': 'Microsoft Reporting Services PDF Rendering Extension 10.0.0.0',\n",
       "  'creationDate': \"D:20230816083754-05'00'\",\n",
       "  'modDate': '',\n",
       "  'trapped': '',\n",
       "  'start_index': 796,\n",
       "  'source_url': 'https://pubfs-rma.fpac.usda.gov/pub/Special_Provisions/2024/2024_SPOI_1031.zip',\n",
       "  'year': '2024',\n",
       "  'plan': '90',\n",
       "  'commodity': '0054',\n",
       "  'state': '06',\n",
       "  'county': '115',\n",
       "  'doc_category': 'SP',\n",
       "  'filename': '06_115_90_0054_20231031.pdf',\n",
       "  'plan_commodity_county_state': '90_0054_115_06'},\n",
       " {'source': 'https://croptalk-spoi.s3.amazonaws.com/SPOI/06_115_90_0054_20231031.pdf',\n",
       "  'file_path': '/Users/katerina/Documents/CropGuard/Dec_demo/demo_knowledge/06_115_90_0054_20231031.pdf',\n",
       "  'page': 1,\n",
       "  'total_pages': 2,\n",
       "  'format': 'PDF 1.3',\n",
       "  'title': 'Special Provisions for insuring 0054 under plan 90 in state 06, county 115',\n",
       "  'author': '',\n",
       "  'subject': '',\n",
       "  'keywords': '',\n",
       "  'creator': 'Microsoft Reporting Services 10.0.0.0',\n",
       "  'producer': 'Microsoft Reporting Services PDF Rendering Extension 10.0.0.0',\n",
       "  'creationDate': \"D:20230816083754-05'00'\",\n",
       "  'modDate': '',\n",
       "  'trapped': '',\n",
       "  'start_index': 0,\n",
       "  'source_url': 'https://pubfs-rma.fpac.usda.gov/pub/Special_Provisions/2024/2024_SPOI_1031.zip',\n",
       "  'year': '2024',\n",
       "  'plan': '90',\n",
       "  'commodity': '0054',\n",
       "  'state': '06',\n",
       "  'county': '115',\n",
       "  'doc_category': 'SP',\n",
       "  'filename': '06_115_90_0054_20231031.pdf',\n",
       "  'plan_commodity_county_state': '90_0054_115_06'},\n",
       " {'source': 'https://croptalk-spoi.s3.amazonaws.com/SPOI/06_115_90_0054_20231031.pdf',\n",
       "  'file_path': '/Users/katerina/Documents/CropGuard/Dec_demo/demo_knowledge/06_115_90_0054_20231031.pdf',\n",
       "  'page': 1,\n",
       "  'total_pages': 2,\n",
       "  'format': 'PDF 1.3',\n",
       "  'title': 'Special Provisions for insuring 0054 under plan 90 in state 06, county 115',\n",
       "  'author': '',\n",
       "  'subject': '',\n",
       "  'keywords': '',\n",
       "  'creator': 'Microsoft Reporting Services 10.0.0.0',\n",
       "  'producer': 'Microsoft Reporting Services PDF Rendering Extension 10.0.0.0',\n",
       "  'creationDate': \"D:20230816083754-05'00'\",\n",
       "  'modDate': '',\n",
       "  'trapped': '',\n",
       "  'start_index': 810,\n",
       "  'source_url': 'https://pubfs-rma.fpac.usda.gov/pub/Special_Provisions/2024/2024_SPOI_1031.zip',\n",
       "  'year': '2024',\n",
       "  'plan': '90',\n",
       "  'commodity': '0054',\n",
       "  'state': '06',\n",
       "  'county': '115',\n",
       "  'doc_category': 'SP',\n",
       "  'filename': '06_115_90_0054_20231031.pdf',\n",
       "  'plan_commodity_county_state': '90_0054_115_06'},\n",
       " {'source': 'https://croptalk-spoi.s3.amazonaws.com/SPOI/06_115_90_0054_20231031.pdf',\n",
       "  'file_path': '/Users/katerina/Documents/CropGuard/Dec_demo/demo_knowledge/06_115_90_0054_20231031.pdf',\n",
       "  'page': 1,\n",
       "  'total_pages': 2,\n",
       "  'format': 'PDF 1.3',\n",
       "  'title': 'Special Provisions for insuring 0054 under plan 90 in state 06, county 115',\n",
       "  'author': '',\n",
       "  'subject': '',\n",
       "  'keywords': '',\n",
       "  'creator': 'Microsoft Reporting Services 10.0.0.0',\n",
       "  'producer': 'Microsoft Reporting Services PDF Rendering Extension 10.0.0.0',\n",
       "  'creationDate': \"D:20230816083754-05'00'\",\n",
       "  'modDate': '',\n",
       "  'trapped': '',\n",
       "  'start_index': 1647,\n",
       "  'source_url': 'https://pubfs-rma.fpac.usda.gov/pub/Special_Provisions/2024/2024_SPOI_1031.zip',\n",
       "  'year': '2024',\n",
       "  'plan': '90',\n",
       "  'commodity': '0054',\n",
       "  'state': '06',\n",
       "  'county': '115',\n",
       "  'doc_category': 'SP',\n",
       "  'filename': '06_115_90_0054_20231031.pdf',\n",
       "  'plan_commodity_county_state': '90_0054_115_06'}]"
      ]
     },
     "execution_count": 8,
     "metadata": {},
     "output_type": "execute_result"
    }
   ],
   "source": [
    "metas"
   ]
  },
  {
   "cell_type": "code",
   "execution_count": 6,
   "metadata": {},
   "outputs": [
    {
     "data": {
      "text/plain": [
       "{'source': 'https://croptalk-spoi.s3.amazonaws.com/SPOI/06_019_90_0028_20230831.pdf',\n",
       " 'file_path': '/Users/katerina/Documents/CropGuard/Dec_demo/demo_knowledge/06_019_90_0028_20230831.pdf',\n",
       " 'page': 0,\n",
       " 'total_pages': 1,\n",
       " 'format': 'PDF 1.3',\n",
       " 'title': 'Special Provisions for insuring 0028 under plan 90 in 06, 019county',\n",
       " 'author': '',\n",
       " 'subject': '',\n",
       " 'keywords': '',\n",
       " 'creator': 'Microsoft Reporting Services 10.0.0.0',\n",
       " 'producer': 'Microsoft Reporting Services PDF Rendering Extension 10.0.0.0',\n",
       " 'creationDate': \"D:20230816081544-05'00'\",\n",
       " 'modDate': '',\n",
       " 'trapped': '',\n",
       " 'start_index': 0,\n",
       " 'source_url': 'https://pubfs-rma.fpac.usda.gov/pub/Special_Provisions/2024/2024_SPOI_0831.zip',\n",
       " 'year': '2024',\n",
       " 'plan': '90',\n",
       " 'commodity': '0028',\n",
       " 'state': '06',\n",
       " 'county': '019',\n",
       " 'doc_category': 'SP',\n",
       " 'filename': '06_019_90_0028_20230831.pdf',\n",
       " 'plan_commodity_county_state': '90_0028_019_06'}"
      ]
     },
     "execution_count": 6,
     "metadata": {},
     "output_type": "execute_result"
    }
   ],
   "source": [
    "metas[0]"
   ]
  },
  {
   "cell_type": "code",
   "execution_count": 7,
   "metadata": {},
   "outputs": [
    {
     "name": "stdout",
     "output_type": "stream",
     "text": [
      "Indexed 52 documents\n",
      "Not indexed files: set()\n"
     ]
    }
   ],
   "source": [
    "print(f\"Indexed {len(indexed_docs)} documents\")\n",
    "print(f\"Not indexed files: {set(df.filename) - set(indexed_docs)}\")"
   ]
  },
  {
   "cell_type": "markdown",
   "metadata": {},
   "source": [
    "# Test the vectorstore"
   ]
  },
  {
   "cell_type": "code",
   "execution_count": 8,
   "metadata": {},
   "outputs": [
    {
     "name": "stdout",
     "output_type": "stream",
     "text": [
      "There are 3279 docs in the collection\n"
     ]
    }
   ],
   "source": [
    "from langchain.vectorstores import Chroma\n",
    "\n",
    "# Load the collection through langchain's Chroma wrapper\n",
    "# Using langchain's SentenceTransformerEmbeddings wrapper\n",
    "lanngchain_emb = SentenceTransformerEmbeddings(model_name=\"all-MiniLM-L6-v2\")\n",
    "\n",
    "langchain_chroma = Chroma(\n",
    "    client=chroma_client,\n",
    "    collection_name=\"Demo\",\n",
    "    embedding_function=lanngchain_emb,\n",
    ")\n",
    "\n",
    "print(\"There are\", langchain_chroma._collection.count(), \"docs in the collection\")"
   ]
  },
  {
   "cell_type": "code",
   "execution_count": 12,
   "metadata": {},
   "outputs": [],
   "source": [
    "where_filter = {\n",
    "    \"$and\": [\n",
    "        {\n",
    "            \"doc_category\": {\n",
    "                '$eq': 'CP'\n",
    "            }\n",
    "        },\n",
    "        {\n",
    "            \"plan_commodity_county_state\": {\n",
    "                \"$eq\":  \"47_0154_000_00\"\n",
    "            }\n",
    "        }\n",
    "    ]\n",
    "}"
   ]
  },
  {
   "cell_type": "code",
   "execution_count": 19,
   "metadata": {},
   "outputs": [
    {
     "data": {
      "text/plain": [
       "[True, True, True, True, True]"
      ]
     },
     "execution_count": 19,
     "metadata": {},
     "output_type": "execute_result"
    }
   ],
   "source": [
    "matches = langchain_chroma.similarity_search(\"strawberries\", k=5, filter=where_filter)\n",
    "['47_0154_000_00' in m.metadata.values() for m in matches]"
   ]
  },
  {
   "cell_type": "code",
   "execution_count": 20,
   "metadata": {},
   "outputs": [
    {
     "data": {
      "text/plain": [
       "{'author': 'USDA Risk Management Agency',\n",
       " 'commodity': '0154',\n",
       " 'county': '000',\n",
       " 'creationDate': \"D:20170501074444-05'00'\",\n",
       " 'creator': 'Acrobat PDFMaker 11 for Word',\n",
       " 'doc_category': 'CP',\n",
       " 'file_path': '/Users/katerina/Documents/CropGuard/Dec_demo/demo_knowledge/Strawberry-Pilot-Crop-Provisions-18-0154.pdf',\n",
       " 'filename': 'Strawberry-Pilot-Crop-Provisions-18-0154.pdf',\n",
       " 'format': 'PDF 1.6',\n",
       " 'keywords': '',\n",
       " 'modDate': \"D:20170501102358-05'00'\",\n",
       " 'page': 1,\n",
       " 'plan': '47',\n",
       " 'plan_commodity_county_state': '47_0154_000_00',\n",
       " 'producer': 'Adobe PDF Library 11.0',\n",
       " 'source': '/Users/katerina/Documents/CropGuard/Dec_demo/demo_knowledge/Strawberry-Pilot-Crop-Provisions-18-0154.pdf',\n",
       " 'source_url': 'https://www.rma.usda.gov/-/media/RMA/Policies/ARH-Strawberry/2018/Strawberry-Pilot-Crop-Provisions-18-0154.ashx',\n",
       " 'start_index': 3206,\n",
       " 'state': '00',\n",
       " 'subject': 'Provisions',\n",
       " 'title': 'Strawberry Pilot Crop Provisions 18-0154',\n",
       " 'total_pages': 6,\n",
       " 'trapped': '',\n",
       " 'year': '2018'}"
      ]
     },
     "execution_count": 20,
     "metadata": {},
     "output_type": "execute_result"
    }
   ],
   "source": [
    "matches[0].metadata"
   ]
  }
 ],
 "metadata": {
  "kernelspec": {
   "display_name": "venv",
   "language": "python",
   "name": "python3"
  },
  "language_info": {
   "codemirror_mode": {
    "name": "ipython",
    "version": 3
   },
   "file_extension": ".py",
   "mimetype": "text/x-python",
   "name": "python",
   "nbconvert_exporter": "python",
   "pygments_lexer": "ipython3",
   "version": "3.11.4"
  }
 },
 "nbformat": 4,
 "nbformat_minor": 2
}
