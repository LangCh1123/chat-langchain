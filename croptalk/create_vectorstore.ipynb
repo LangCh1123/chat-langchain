{
 "cells": [
  {
   "cell_type": "code",
   "execution_count": 1,
   "metadata": {},
   "outputs": [],
   "source": [
    "# # For chromadb embeddings\n",
    "# !pip install sentence_transformers \n",
    "\n",
    "import os\n",
    "import pandas as pd\n",
    "\n",
    "import chromadb\n",
    "from chromadb.utils import embedding_functions\n",
    "\n",
    "from langchain.document_loaders import PyMuPDFLoader\n",
    "from langchain.text_splitter import RecursiveCharacterTextSplitter\n",
    "from langchain.embeddings.openai import OpenAIEmbeddings\n",
    "from langchain.embeddings.sentence_transformer import SentenceTransformerEmbeddings\n"
   ]
  },
  {
   "cell_type": "code",
   "execution_count": 9,
   "metadata": {},
   "outputs": [
    {
     "name": "stdout",
     "output_type": "stream",
     "text": [
      "(50060, 13)\n"
     ]
    },
    {
     "data": {
      "text/html": [
       "<div>\n",
       "<style scoped>\n",
       "    .dataframe tbody tr th:only-of-type {\n",
       "        vertical-align: middle;\n",
       "    }\n",
       "\n",
       "    .dataframe tbody tr th {\n",
       "        vertical-align: top;\n",
       "    }\n",
       "\n",
       "    .dataframe thead th {\n",
       "        text-align: right;\n",
       "    }\n",
       "</style>\n",
       "<table border=\"1\" class=\"dataframe\">\n",
       "  <thead>\n",
       "    <tr style=\"text-align: right;\">\n",
       "      <th></th>\n",
       "      <th>title</th>\n",
       "      <th>year</th>\n",
       "      <th>commodity</th>\n",
       "      <th>plan</th>\n",
       "      <th>source_url</th>\n",
       "      <th>filename</th>\n",
       "      <th>s3_url</th>\n",
       "      <th>date_published</th>\n",
       "      <th>doc_category</th>\n",
       "      <th>file_ext</th>\n",
       "      <th>county</th>\n",
       "      <th>state</th>\n",
       "      <th>plan_commodity_county_state</th>\n",
       "    </tr>\n",
       "  </thead>\n",
       "  <tbody>\n",
       "    <tr>\n",
       "      <th>0</th>\n",
       "      <td>Walnut Crop Provisions 23-029</td>\n",
       "      <td>2023</td>\n",
       "      <td>0029</td>\n",
       "      <td>90</td>\n",
       "      <td>https://www.rma.usda.gov/-/media/RMA/Policies/...</td>\n",
       "      <td>Walnut-Crop-Provisions-23-029.pdf</td>\n",
       "      <td>https://croptalk-spoi.s3.amazonaws.com/CP/Waln...</td>\n",
       "      <td>date_published</td>\n",
       "      <td>CP</td>\n",
       "      <td>pdf</td>\n",
       "      <td>000</td>\n",
       "      <td>00</td>\n",
       "      <td>90_0029_000_00</td>\n",
       "    </tr>\n",
       "  </tbody>\n",
       "</table>\n",
       "</div>"
      ],
      "text/plain": [
       "                           title  year commodity plan  \\\n",
       "0  Walnut Crop Provisions 23-029  2023      0029   90   \n",
       "\n",
       "                                          source_url  \\\n",
       "0  https://www.rma.usda.gov/-/media/RMA/Policies/...   \n",
       "\n",
       "                            filename  \\\n",
       "0  Walnut-Crop-Provisions-23-029.pdf   \n",
       "\n",
       "                                              s3_url  date_published  \\\n",
       "0  https://croptalk-spoi.s3.amazonaws.com/CP/Waln...  date_published   \n",
       "\n",
       "  doc_category file_ext county state plan_commodity_county_state  \n",
       "0           CP      pdf    000    00              90_0029_000_00  "
      ]
     },
     "execution_count": 9,
     "metadata": {},
     "output_type": "execute_result"
    }
   ],
   "source": [
    "# Read the doc from s3\n",
    "filename = 'data/registry_20231206_2.csv'\n",
    "df = pd.read_csv(filename, dtype=str)\n",
    "\n",
    "# # Take a subset of the data\n",
    "states = ['00', '06', '53', '36'] # all states, California, Washington, New York\n",
    "commodities = ['0000', '0154', '0227', '0028', '0054'] # all commodities, strawberries, oranges, almonds\n",
    "plans = ['00', '90', '47', '76'] # all plans, APH, ARH, WFRP\n",
    "df = df[df['state'].isin(states)]\n",
    "df = df[df['commodity'].isin(commodities)]\n",
    "df = df[df['plan'].isin(plans)]\n",
    "\n",
    "print(df.shape)\n",
    "df.head(1)"
   ]
  },
  {
   "cell_type": "code",
   "execution_count": 10,
   "metadata": {},
   "outputs": [
    {
     "name": "stdout",
     "output_type": "stream",
     "text": [
      "Downloading https://croptalk-spoi.s3.amazonaws.com/CP/Walnut-Crop-Provisions-23-029.ashx to /Users/katerina/Documents/CropGuard/Dec_demo/demo_knowledge/Walnut-Crop-Provisions-23-029.pdf\n"
     ]
    },
    {
     "name": "stderr",
     "output_type": "stream",
     "text": [
      "  % Total    % Received % Xferd  Average Speed   Time    Time     Time  Current\n",
      "                                 Dload  Upload   Total   Spent    Left  Speed\n",
      "100   243    0   243    0     0    679      0 --:--:-- --:--:-- --:--:--   692\n",
      "  % Total    % Received % Xferd  Average Speed   Time    Time     Time  Current\n",
      "                                 Dload  Upload   Total   Spent    Left  Speed\n",
      "  0     0    0     0    0     0      0      0 --:--:-- --:--:-- --:--:--     0"
     ]
    },
    {
     "name": "stdout",
     "output_type": "stream",
     "text": [
      "Downloading https://croptalk-spoi.s3.amazonaws.com/CP/Triticale-Crop-Provisions-22-TC-0158.ashx to /Users/katerina/Documents/CropGuard/Dec_demo/demo_knowledge/Triticale-Crop-Provisions-22-TC-0158.pdf\n"
     ]
    },
    {
     "name": "stderr",
     "output_type": "stream",
     "text": [
      "100   243    0   243    0     0   1022      0 --:--:-- --:--:-- --:--:--  1034\n",
      "  % Total    % Received % Xferd  Average Speed   Time    Time     Time  Current\n",
      "                                 Dload  Upload   Total   Spent    Left  Speed\n",
      "  0     0    0     0    0     0      0      0 --:--:-- --:--:-- --:--:--     0"
     ]
    },
    {
     "name": "stdout",
     "output_type": "stream",
     "text": [
      "Downloading https://croptalk-spoi.s3.amazonaws.com/CP/Table-Grape-Crop-Provisions-23-0052.ashx to /Users/katerina/Documents/CropGuard/Dec_demo/demo_knowledge/Table-Grape-Crop-Provisions-23-0052.pdf\n"
     ]
    },
    {
     "name": "stderr",
     "output_type": "stream",
     "text": [
      "100   243    0   243    0     0   1036      0 --:--:-- --:--:-- --:--:--  1051\n",
      "  % Total    % Received % Xferd  Average Speed   Time    Time     Time  Current\n",
      "                                 Dload  Upload   Total   Spent    Left  Speed\n",
      "  0     0    0     0    0     0      0      0 --:--:-- --:--:-- --:--:--     0"
     ]
    },
    {
     "name": "stdout",
     "output_type": "stream",
     "text": [
      "Downloading https://croptalk-spoi.s3.amazonaws.com/CP/Sweet-Potato-Crop-Provisions-23-0156.ashx to /Users/katerina/Documents/CropGuard/Dec_demo/demo_knowledge/Sweet-Potato-Crop-Provisions-23-0156.pdf\n"
     ]
    },
    {
     "name": "stderr",
     "output_type": "stream",
     "text": [
      "100   243    0   243    0     0   1059      0 --:--:-- --:--:-- --:--:--  1080\n",
      "  % Total    % Received % Xferd  Average Speed   Time    Time     Time  Current\n",
      "                                 Dload  Upload   Total   Spent    Left  Speed\n",
      "  0     0    0     0    0     0      0      0 --:--:-- --:--:-- --:--:--     0"
     ]
    },
    {
     "name": "stdout",
     "output_type": "stream",
     "text": [
      "Downloading https://croptalk-spoi.s3.amazonaws.com/CP/Sugarcane-Crop-Provisions-21-0038.ashx to /Users/katerina/Documents/CropGuard/Dec_demo/demo_knowledge/Sugarcane-Crop-Provisions-21-0038.pdf\n"
     ]
    },
    {
     "name": "stderr",
     "output_type": "stream",
     "text": [
      "100   243    0   243    0     0   1047      0 --:--:-- --:--:-- --:--:--  1065\n",
      "  % Total    % Received % Xferd  Average Speed   Time    Time     Time  Current\n",
      "                                 Dload  Upload   Total   Spent    Left  Speed\n",
      "  0     0    0     0    0     0      0      0 --:--:-- --:--:-- --:--:--     0"
     ]
    },
    {
     "name": "stdout",
     "output_type": "stream",
     "text": [
      "File exists: /Users/katerina/Documents/CropGuard/Dec_demo/demo_knowledge/Strawberry-Pilot-Crop-Provisions-18-0154.pdf\n",
      "Downloading https://croptalk-spoi.s3.amazonaws.com/CP/Stonefruit-Crop-Provisions-23-0077.ashx to /Users/katerina/Documents/CropGuard/Dec_demo/demo_knowledge/Stonefruit-Crop-Provisions-23-0077.pdf\n"
     ]
    },
    {
     "name": "stderr",
     "output_type": "stream",
     "text": [
      "100   243    0   243    0     0   1032      0 --:--:-- --:--:-- --:--:--  1042\n",
      "  % Total    % Received % Xferd  Average Speed   Time    Time     Time  Current\n",
      "                                 Dload  Upload   Total   Spent    Left  Speed\n",
      "  0     0    0     0    0     0      0      0 --:--:-- --:--:-- --:--:--     0"
     ]
    },
    {
     "name": "stdout",
     "output_type": "stream",
     "text": [
      "File exists: /Users/katerina/Documents/CropGuard/Dec_demo/demo_knowledge/Stonefruit-Crop-Provisions-23-0077.pdf\n",
      "File exists: /Users/katerina/Documents/CropGuard/Dec_demo/demo_knowledge/Stonefruit-Crop-Provisions-23-0077.pdf\n",
      "File exists: /Users/katerina/Documents/CropGuard/Dec_demo/demo_knowledge/Stonefruit-Crop-Provisions-23-0077.pdf\n",
      "File exists: /Users/katerina/Documents/CropGuard/Dec_demo/demo_knowledge/Stonefruit-Crop-Provisions-23-0077.pdf\n",
      "File exists: /Users/katerina/Documents/CropGuard/Dec_demo/demo_knowledge/Stonefruit-Crop-Provisions-23-0077.pdf\n",
      "File exists: /Users/katerina/Documents/CropGuard/Dec_demo/demo_knowledge/Stonefruit-Crop-Provisions-23-0077.pdf\n",
      "File exists: /Users/katerina/Documents/CropGuard/Dec_demo/demo_knowledge/Stonefruit-Crop-Provisions-23-0077.pdf\n",
      "Downloading https://croptalk-spoi.s3.amazonaws.com/CP/Stacked-Income-Protection-Plan-Cotton-Crop-Provisions-23-STAX-0021.ashx to /Users/katerina/Documents/CropGuard/Dec_demo/demo_knowledge/Stacked-Income-Protection-Plan-Cotton-Crop-Provisions-23-STAX-0021.pdf\n"
     ]
    },
    {
     "name": "stderr",
     "output_type": "stream",
     "text": [
      "100   243    0   243    0     0   1022      0 --:--:-- --:--:-- --:--:--  1038\n",
      "  % Total    % Received % Xferd  Average Speed   Time    Time     Time  Current\n",
      "                                 Dload  Upload   Total   Spent    Left  Speed\n",
      "  0     0    0     0    0     0      0      0 --:--:-- --:--:-- --:--:--     0"
     ]
    },
    {
     "name": "stdout",
     "output_type": "stream",
     "text": [
      "File exists: /Users/katerina/Documents/CropGuard/Dec_demo/demo_knowledge/Stacked-Income-Protection-Plan-Cotton-Crop-Provisions-23-STAX-0021.pdf\n",
      "Downloading https://croptalk-spoi.s3.amazonaws.com/CP/Small-Grains-Crop-Provisions-23-0011.ashx to /Users/katerina/Documents/CropGuard/Dec_demo/demo_knowledge/Small-Grains-Crop-Provisions-23-0011.pdf\n"
     ]
    },
    {
     "name": "stderr",
     "output_type": "stream",
     "text": [
      "100   243    0   243    0     0   1057      0 --:--:-- --:--:-- --:--:--  1075\n",
      "  % Total    % Received % Xferd  Average Speed   Time    Time     Time  Current\n",
      "                                 Dload  Upload   Total   Spent    Left  Speed\n",
      "  0     0    0     0    0     0      0      0 --:--:-- --:--:-- --:--:--     0"
     ]
    },
    {
     "name": "stdout",
     "output_type": "stream",
     "text": [
      "File exists: /Users/katerina/Documents/CropGuard/Dec_demo/demo_knowledge/Small-Grains-Crop-Provisions-23-0011.pdf\n",
      "File exists: /Users/katerina/Documents/CropGuard/Dec_demo/demo_knowledge/Small-Grains-Crop-Provisions-23-0011.pdf\n",
      "File exists: /Users/katerina/Documents/CropGuard/Dec_demo/demo_knowledge/Small-Grains-Crop-Provisions-23-0011.pdf\n",
      "File exists: /Users/katerina/Documents/CropGuard/Dec_demo/demo_knowledge/Small-Grains-Crop-Provisions-23-0011.pdf\n",
      "File exists: /Users/katerina/Documents/CropGuard/Dec_demo/demo_knowledge/Small-Grains-Crop-Provisions-23-0011.pdf\n",
      "File exists: /Users/katerina/Documents/CropGuard/Dec_demo/demo_knowledge/Small-Grains-Crop-Provisions-23-0011.pdf\n",
      "File exists: /Users/katerina/Documents/CropGuard/Dec_demo/demo_knowledge/Small-Grains-Crop-Provisions-23-0011.pdf\n",
      "File exists: /Users/katerina/Documents/CropGuard/Dec_demo/demo_knowledge/Small-Grains-Crop-Provisions-23-0011.pdf\n",
      "File exists: /Users/katerina/Documents/CropGuard/Dec_demo/demo_knowledge/Small-Grains-Crop-Provisions-23-0011.pdf\n",
      "File exists: /Users/katerina/Documents/CropGuard/Dec_demo/demo_knowledge/Small-Grains-Crop-Provisions-23-0011.pdf\n",
      "File exists: /Users/katerina/Documents/CropGuard/Dec_demo/demo_knowledge/Small-Grains-Crop-Provisions-23-0011.pdf\n",
      "File exists: /Users/katerina/Documents/CropGuard/Dec_demo/demo_knowledge/Small-Grains-Crop-Provisions-23-0011.pdf\n",
      "File exists: /Users/katerina/Documents/CropGuard/Dec_demo/demo_knowledge/Small-Grains-Crop-Provisions-23-0011.pdf\n",
      "File exists: /Users/katerina/Documents/CropGuard/Dec_demo/demo_knowledge/Small-Grains-Crop-Provisions-23-0011.pdf\n",
      "File exists: /Users/katerina/Documents/CropGuard/Dec_demo/demo_knowledge/Small-Grains-Crop-Provisions-23-0011.pdf\n",
      "File exists: /Users/katerina/Documents/CropGuard/Dec_demo/demo_knowledge/Small-Grains-Crop-Provisions-23-0011.pdf\n",
      "File exists: /Users/katerina/Documents/CropGuard/Dec_demo/demo_knowledge/Small-Grains-Crop-Provisions-23-0011.pdf\n",
      "Downloading https://croptalk-spoi.s3.amazonaws.com/CP/Silage-Sorghum-Pilot-Endorsement-21-0059.ashx to /Users/katerina/Documents/CropGuard/Dec_demo/demo_knowledge/Silage-Sorghum-Pilot-Endorsement-21-0059.pdf\n"
     ]
    },
    {
     "name": "stderr",
     "output_type": "stream",
     "text": [
      "100   243    0   243    0     0   1018      0 --:--:-- --:--:-- --:--:--  1034\n",
      "  % Total    % Received % Xferd  Average Speed   Time    Time     Time  Current\n",
      "                                 Dload  Upload   Total   Spent    Left  Speed\n",
      "  0     0    0     0    0     0      0      0 --:--:-- --:--:-- --:--:--     0"
     ]
    },
    {
     "name": "stdout",
     "output_type": "stream",
     "text": [
      "Downloading https://croptalk-spoi.s3.amazonaws.com/CP/Silage-Sorghum-Endorsement-23-0059.ashx to /Users/katerina/Documents/CropGuard/Dec_demo/demo_knowledge/Silage-Sorghum-Endorsement-23-0059.pdf\n"
     ]
    },
    {
     "name": "stderr",
     "output_type": "stream",
     "text": [
      "100   243    0   243    0     0   1026      0 --:--:-- --:--:-- --:--:--  1038\n",
      "  % Total    % Received % Xferd  Average Speed   Time    Time     Time  Current\n",
      "                                 Dload  Upload   Total   Spent    Left  Speed\n",
      "  0     0    0     0    0     0      0      0 --:--:-- --:--:-- --:--:--     0"
     ]
    },
    {
     "name": "stdout",
     "output_type": "stream",
     "text": [
      "Downloading https://croptalk-spoi.s3.amazonaws.com/CP/Shellfish-Commodity-Provisions-24-0115.ashx to /Users/katerina/Documents/CropGuard/Dec_demo/demo_knowledge/Shellfish-Commodity-Provisions-24-0115.pdf\n"
     ]
    },
    {
     "name": "stderr",
     "output_type": "stream",
     "text": [
      "100   243    0   243    0     0   1042      0 --:--:-- --:--:-- --:--:--  1061\n",
      "  % Total    % Received % Xferd  Average Speed   Time    Time     Time  Current\n",
      "                                 Dload  Upload   Total   Spent    Left  Speed\n",
      "  0     0    0     0    0     0      0      0 --:--:-- --:--:-- --:--:--     0"
     ]
    },
    {
     "name": "stdout",
     "output_type": "stream",
     "text": [
      "Downloading https://croptalk-spoi.s3.amazonaws.com/CP/Sesame-Pilot-Crop-Provisions-24-0396.ashx to /Users/katerina/Documents/CropGuard/Dec_demo/demo_knowledge/Sesame-Pilot-Crop-Provisions-24-0396.pdf\n"
     ]
    },
    {
     "name": "stderr",
     "output_type": "stream",
     "text": [
      "100   243    0   243    0     0   1035      0 --:--:-- --:--:-- --:--:--  1051\n",
      "  % Total    % Received % Xferd  Average Speed   Time    Time     Time  Current\n",
      "                                 Dload  Upload   Total   Spent    Left  Speed\n",
      "  0     0    0     0    0     0      0      0 --:--:-- --:--:-- --:--:--     0"
     ]
    },
    {
     "name": "stdout",
     "output_type": "stream",
     "text": [
      "Downloading https://croptalk-spoi.s3.amazonaws.com/CP/Safflower-Crop-Provisions-17-0049.ashx to /Users/katerina/Documents/CropGuard/Dec_demo/demo_knowledge/Safflower-Crop-Provisions-17-0049.pdf\n"
     ]
    },
    {
     "name": "stderr",
     "output_type": "stream",
     "text": [
      "100   243    0   243    0     0   1045      0 --:--:-- --:--:-- --:--:--  1061\n",
      "  % Total    % Received % Xferd  Average Speed   Time    Time     Time  Current\n",
      "                                 Dload  Upload   Total   Spent    Left  Speed\n",
      "  0     0    0     0    0     0      0      0 --:--:-- --:--:-- --:--:--     0"
     ]
    },
    {
     "name": "stdout",
     "output_type": "stream",
     "text": [
      "Downloading https://croptalk-spoi.s3.amazonaws.com/CP/Rice-Crop-Provisions-20-0018.ashx to /Users/katerina/Documents/CropGuard/Dec_demo/demo_knowledge/Rice-Crop-Provisions-20-0018.pdf\n"
     ]
    },
    {
     "name": "stderr",
     "output_type": "stream",
     "text": [
      "100   243    0   243    0     0   1064      0 --:--:-- --:--:-- --:--:--  1075\n",
      "  % Total    % Received % Xferd  Average Speed   Time    Time     Time  Current\n",
      "                                 Dload  Upload   Total   Spent    Left  Speed\n",
      "  0     0    0     0    0     0      0      0 --:--:-- --:--:-- --:--:--     0"
     ]
    },
    {
     "name": "stdout",
     "output_type": "stream",
     "text": [
      "File exists: /Users/katerina/Documents/CropGuard/Dec_demo/demo_knowledge/Rice-Crop-Provisions-20-0018.pdf\n",
      "File exists: /Users/katerina/Documents/CropGuard/Dec_demo/demo_knowledge/Rice-Crop-Provisions-20-0018.pdf\n",
      "File exists: /Users/katerina/Documents/CropGuard/Dec_demo/demo_knowledge/Rice-Crop-Provisions-20-0018.pdf\n",
      "File exists: /Users/katerina/Documents/CropGuard/Dec_demo/demo_knowledge/Rice-Crop-Provisions-20-0018.pdf\n",
      "Downloading https://croptalk-spoi.s3.amazonaws.com/CP/Raisin-Crop-Provisions-98-037.ashx to /Users/katerina/Documents/CropGuard/Dec_demo/demo_knowledge/Raisin-Crop-Provisions-98-037.pdf\n"
     ]
    },
    {
     "name": "stderr",
     "output_type": "stream",
     "text": [
      "100   243    0   243    0     0   1099      0 --:--:-- --:--:-- --:--:--  1114\n",
      "  % Total    % Received % Xferd  Average Speed   Time    Time     Time  Current\n",
      "                                 Dload  Upload   Total   Spent    Left  Speed\n",
      "  0     0    0     0    0     0      0      0 --:--:-- --:--:-- --:--:--     0"
     ]
    },
    {
     "name": "stdout",
     "output_type": "stream",
     "text": [
      "Downloading https://croptalk-spoi.s3.amazonaws.com/CP/Rainfall-Index-Plan-Annual-Forage-Crop-Provisions-24-RI-AF.ashx to /Users/katerina/Documents/CropGuard/Dec_demo/demo_knowledge/Rainfall-Index-Plan-Annual-Forage-Crop-Provisions-24-RI-AF.pdf\n"
     ]
    },
    {
     "name": "stderr",
     "output_type": "stream",
     "text": [
      "100   243    0   243    0     0   1048      0 --:--:-- --:--:-- --:--:--  1061\n",
      "  % Total    % Received % Xferd  Average Speed   Time    Time     Time  Current\n",
      "                                 Dload  Upload   Total   Spent    Left  Speed\n",
      "  0     0    0     0    0     0      0      0 --:--:-- --:--:-- --:--:--     0"
     ]
    },
    {
     "name": "stdout",
     "output_type": "stream",
     "text": [
      "Downloading https://croptalk-spoi.s3.amazonaws.com/CP/Rainfall-Index-Pasture-Rangeland-Forage-Crop-Provisions-24-RI-PRF.ashx to /Users/katerina/Documents/CropGuard/Dec_demo/demo_knowledge/Rainfall-Index-Pasture-Rangeland-Forage-Crop-Provisions-24-RI-PRF.pdf\n"
     ]
    },
    {
     "name": "stderr",
     "output_type": "stream",
     "text": [
      "100   243    0   243    0     0   1088      0 --:--:-- --:--:-- --:--:--  1104\n",
      "  % Total    % Received % Xferd  Average Speed   Time    Time     Time  Current\n",
      "                                 Dload  Upload   Total   Spent    Left  Speed\n",
      "  0     0    0     0    0     0      0      0 --:--:-- --:--:-- --:--:--     0"
     ]
    },
    {
     "name": "stdout",
     "output_type": "stream",
     "text": [
      "Downloading https://croptalk-spoi.s3.amazonaws.com/CP/Rainfall-Index-Apiculture-Crop-Provisions-22-RI-API.ashx to /Users/katerina/Documents/CropGuard/Dec_demo/demo_knowledge/Rainfall-Index-Apiculture-Crop-Provisions-22-RI-API.pdf\n"
     ]
    },
    {
     "name": "stderr",
     "output_type": "stream",
     "text": [
      "100   243    0   243    0     0    923      0 --:--:-- --:--:-- --:--:--   931\n",
      "  % Total    % Received % Xferd  Average Speed   Time    Time     Time  Current\n",
      "                                 Dload  Upload   Total   Spent    Left  Speed\n",
      "  0     0    0     0    0     0      0      0 --:--:-- --:--:-- --:--:--     0"
     ]
    },
    {
     "name": "stdout",
     "output_type": "stream",
     "text": [
      "Downloading https://croptalk-spoi.s3.amazonaws.com/CP/Prune-Crop-Provisions-23-0036.ashx to /Users/katerina/Documents/CropGuard/Dec_demo/demo_knowledge/Prune-Crop-Provisions-23-0036.pdf\n"
     ]
    },
    {
     "name": "stderr",
     "output_type": "stream",
     "text": [
      "100   243    0   243    0     0   1058      0 --:--:-- --:--:-- --:--:--  1080\n",
      "  % Total    % Received % Xferd  Average Speed   Time    Time     Time  Current\n",
      "                                 Dload  Upload   Total   Spent    Left  Speed\n",
      "  0     0    0     0    0     0      0      0 --:--:-- --:--:-- --:--:--     0"
     ]
    },
    {
     "name": "stdout",
     "output_type": "stream",
     "text": [
      "File exists: /Users/katerina/Documents/CropGuard/Dec_demo/demo_knowledge/Production-and-Revenue-History-Strawberry-Pilot-Crop-Provisions-22-PRH-0154.pdf\n",
      "File exists: /Users/katerina/Documents/CropGuard/Dec_demo/demo_knowledge/Production-and-Revenue-History-Strawberry-Pilot-Crop-Provisions-22-PRH-0154.pdf\n",
      "Downloading https://croptalk-spoi.s3.amazonaws.com/CP/Processing-Bean-Crop-Provisions-17-046.ashx to /Users/katerina/Documents/CropGuard/Dec_demo/demo_knowledge/Processing-Bean-Crop-Provisions-17-046.pdf\n"
     ]
    },
    {
     "name": "stderr",
     "output_type": "stream",
     "text": [
      "100   243    0   243    0     0    944      0 --:--:-- --:--:-- --:--:--   960\n",
      "  % Total    % Received % Xferd  Average Speed   Time    Time     Time  Current\n",
      "                                 Dload  Upload   Total   Spent    Left  Speed\n",
      "  0     0    0     0    0     0      0      0 --:--:-- --:--:-- --:--:--     0"
     ]
    },
    {
     "name": "stdout",
     "output_type": "stream",
     "text": [
      "Downloading https://croptalk-spoi.s3.amazonaws.com/CP/Potato-Certified-Seed-Endorsement-08-084c.ashx to /Users/katerina/Documents/CropGuard/Dec_demo/demo_knowledge/Potato-Certified-Seed-Endorsement-08-084c.pdf\n"
     ]
    },
    {
     "name": "stderr",
     "output_type": "stream",
     "text": [
      "100   243    0   243    0     0   1004      0 --:--:-- --:--:-- --:--:--  1021\n",
      "  % Total    % Received % Xferd  Average Speed   Time    Time     Time  Current\n",
      "                                 Dload  Upload   Total   Spent    Left  Speed\n",
      "  0     0    0     0    0     0      0      0 --:--:-- --:--:-- --:--:--     0"
     ]
    },
    {
     "name": "stdout",
     "output_type": "stream",
     "text": [
      "Downloading https://croptalk-spoi.s3.amazonaws.com/CP/Popcorn-Revenue-Crop-Provisions-17-PRC-043.ashx to /Users/katerina/Documents/CropGuard/Dec_demo/demo_knowledge/Popcorn-Revenue-Crop-Provisions-17-PRC-043.pdf\n"
     ]
    },
    {
     "name": "stderr",
     "output_type": "stream",
     "text": [
      "100   243    0   243    0     0    768      0 --:--:-- --:--:-- --:--:--   776\n",
      "  % Total    % Received % Xferd  Average Speed   Time    Time     Time  Current\n",
      "                                 Dload  Upload   Total   Spent    Left  Speed\n",
      "  0     0    0     0    0     0      0      0 --:--:-- --:--:-- --:--:--     0"
     ]
    },
    {
     "name": "stdout",
     "output_type": "stream",
     "text": [
      "File exists: /Users/katerina/Documents/CropGuard/Dec_demo/demo_knowledge/Popcorn-Revenue-Crop-Provisions-17-PRC-043.pdf\n",
      "Downloading https://croptalk-spoi.s3.amazonaws.com/CP/Popcorn-Crop-Provisions-17-043.ashx to /Users/katerina/Documents/CropGuard/Dec_demo/demo_knowledge/Popcorn-Crop-Provisions-17-043.pdf\n"
     ]
    },
    {
     "name": "stderr",
     "output_type": "stream",
     "text": [
      "100   243    0   243    0     0    302      0 --:--:-- --:--:-- --:--:--   302\n",
      "  % Total    % Received % Xferd  Average Speed   Time    Time     Time  Current\n",
      "                                 Dload  Upload   Total   Spent    Left  Speed\n",
      "  0     0    0     0    0     0      0      0 --:--:-- --:--:-- --:--:--     0"
     ]
    },
    {
     "name": "stdout",
     "output_type": "stream",
     "text": [
      "Downloading https://croptalk-spoi.s3.amazonaws.com/CP/Pistachio-Pilot-Crop-Provisions-12-0470.ashx to /Users/katerina/Documents/CropGuard/Dec_demo/demo_knowledge/Pistachio-Pilot-Crop-Provisions-12-0470.pdf\n"
     ]
    },
    {
     "name": "stderr",
     "output_type": "stream",
     "text": [
      "100   243    0   243    0     0    373      0 --:--:-- --:--:-- --:--:--   375\n",
      "  % Total    % Received % Xferd  Average Speed   Time    Time     Time  Current\n",
      "                                 Dload  Upload   Total   Spent    Left  Speed\n",
      "  0     0    0     0    0     0      0      0 --:--:-- --:--:-- --:--:--     0"
     ]
    },
    {
     "name": "stdout",
     "output_type": "stream",
     "text": [
      "Downloading https://croptalk-spoi.s3.amazonaws.com/CP/Pistachio-Crop-Provisions-24-0470.ashx to /Users/katerina/Documents/CropGuard/Dec_demo/demo_knowledge/Pistachio-Crop-Provisions-24-0470.pdf\n"
     ]
    },
    {
     "name": "stderr",
     "output_type": "stream",
     "text": [
      "100   243    0   243    0     0    320      0 --:--:-- --:--:-- --:--:--   321\n",
      "  % Total    % Received % Xferd  Average Speed   Time    Time     Time  Current\n",
      "                                 Dload  Upload   Total   Spent    Left  Speed\n",
      "  0     0    0     0    0     0      0      0 --:--:-- --:--:-- --:--:--     0"
     ]
    },
    {
     "name": "stdout",
     "output_type": "stream",
     "text": [
      "Downloading https://croptalk-spoi.s3.amazonaws.com/CP/Pecan-Revenue-Crop-Provisions-23-0020.ashx to /Users/katerina/Documents/CropGuard/Dec_demo/demo_knowledge/Pecan-Revenue-Crop-Provisions-23-0020.pdf\n"
     ]
    },
    {
     "name": "stderr",
     "output_type": "stream",
     "text": [
      "100   243    0   243    0     0    306      0 --:--:-- --:--:-- --:--:--   307\n",
      "  % Total    % Received % Xferd  Average Speed   Time    Time     Time  Current\n",
      "                                 Dload  Upload   Total   Spent    Left  Speed\n",
      "  0     0    0     0    0     0      0      0 --:--:-- --:--:-- --:--:--     0"
     ]
    },
    {
     "name": "stdout",
     "output_type": "stream",
     "text": [
      "Downloading https://croptalk-spoi.s3.amazonaws.com/CP/Pear-Crop-Provisions-24-0089.ashx to /Users/katerina/Documents/CropGuard/Dec_demo/demo_knowledge/Pear-Crop-Provisions-24-0089.pdf\n"
     ]
    },
    {
     "name": "stderr",
     "output_type": "stream",
     "text": [
      "100   243    0   243    0     0    437      0 --:--:-- --:--:-- --:--:--   439\n",
      "  % Total    % Received % Xferd  Average Speed   Time    Time     Time  Current\n",
      "                                 Dload  Upload   Total   Spent    Left  Speed\n",
      "  0     0    0     0    0     0      0      0 --:--:-- --:--:-- --:--:--     0"
     ]
    },
    {
     "name": "stdout",
     "output_type": "stream",
     "text": [
      "Downloading https://croptalk-spoi.s3.amazonaws.com/CP/Pear-Crop-Provisions-15-0089-Spanish.ashx to /Users/katerina/Documents/CropGuard/Dec_demo/demo_knowledge/Pear-Crop-Provisions-15-0089-Spanish.pdf\n"
     ]
    },
    {
     "name": "stderr",
     "output_type": "stream",
     "text": [
      "100   243    0   243    0     0    978      0 --:--:-- --:--:-- --:--:--   991\n",
      "  % Total    % Received % Xferd  Average Speed   Time    Time     Time  Current\n",
      "                                 Dload  Upload   Total   Spent    Left  Speed\n",
      "  0     0    0     0    0     0      0      0 --:--:-- --:--:-- --:--:--     0"
     ]
    },
    {
     "name": "stdout",
     "output_type": "stream",
     "text": [
      "Downloading https://croptalk-spoi.s3.amazonaws.com/CP/Peanut-Crop-Provisions-20-PT-075.ashx to /Users/katerina/Documents/CropGuard/Dec_demo/demo_knowledge/Peanut-Crop-Provisions-20-PT-075.pdf\n"
     ]
    },
    {
     "name": "stderr",
     "output_type": "stream",
     "text": [
      "100   243    0   243    0     0   1045      0 --:--:-- --:--:-- --:--:--  1061\n",
      "  % Total    % Received % Xferd  Average Speed   Time    Time     Time  Current\n",
      "                                 Dload  Upload   Total   Spent    Left  Speed\n",
      "  0     0    0     0    0     0      0      0 --:--:-- --:--:-- --:--:--     0"
     ]
    },
    {
     "name": "stdout",
     "output_type": "stream",
     "text": [
      "File exists: /Users/katerina/Documents/CropGuard/Dec_demo/demo_knowledge/Peanut-Crop-Provisions-20-PT-075.pdf\n",
      "File exists: /Users/katerina/Documents/CropGuard/Dec_demo/demo_knowledge/Peanut-Crop-Provisions-20-PT-075.pdf\n",
      "Downloading https://croptalk-spoi.s3.amazonaws.com/CP/Peach-Crop-Provisions-23-0034.ashx to /Users/katerina/Documents/CropGuard/Dec_demo/demo_knowledge/Peach-Crop-Provisions-23-0034.pdf\n"
     ]
    },
    {
     "name": "stderr",
     "output_type": "stream",
     "text": [
      "100   243    0   243    0     0   1063      0 --:--:-- --:--:-- --:--:--  1084\n",
      "  % Total    % Received % Xferd  Average Speed   Time    Time     Time  Current\n",
      "                                 Dload  Upload   Total   Spent    Left  Speed\n",
      "  0     0    0     0    0     0      0      0 --:--:-- --:--:-- --:--:--     0"
     ]
    },
    {
     "name": "stdout",
     "output_type": "stream",
     "text": [
      "Downloading https://croptalk-spoi.s3.amazonaws.com/CP/Onion-Crop-Provisions-23-0013.ashx to /Users/katerina/Documents/CropGuard/Dec_demo/demo_knowledge/Onion-Crop-Provisions-23-0013.pdf\n"
     ]
    },
    {
     "name": "stderr",
     "output_type": "stream",
     "text": [
      "100   243    0   243    0     0   1020      0 --:--:-- --:--:-- --:--:--  1034\n",
      "  % Total    % Received % Xferd  Average Speed   Time    Time     Time  Current\n",
      "                                 Dload  Upload   Total   Spent    Left  Speed\n",
      "  0     0    0     0    0     0      0      0 --:--:-- --:--:-- --:--:--     0"
     ]
    },
    {
     "name": "stdout",
     "output_type": "stream",
     "text": [
      "Downloading https://croptalk-spoi.s3.amazonaws.com/CP/Onion-Crop-Insurance-Pilot-Stage-Removal-Option-00-013a.ashx to /Users/katerina/Documents/CropGuard/Dec_demo/demo_knowledge/Onion-Crop-Insurance-Pilot-Stage-Removal-Option-00-013a.pdf\n"
     ]
    },
    {
     "name": "stderr",
     "output_type": "stream",
     "text": [
      "100   243    0   243    0     0   1047      0 --:--:-- --:--:-- --:--:--  1065\n",
      "  % Total    % Received % Xferd  Average Speed   Time    Time     Time  Current\n",
      "                                 Dload  Upload   Total   Spent    Left  Speed\n",
      "  0     0    0     0    0     0      0      0 --:--:-- --:--:-- --:--:--     0"
     ]
    },
    {
     "name": "stdout",
     "output_type": "stream",
     "text": [
      "Downloading https://croptalk-spoi.s3.amazonaws.com/CP/Olive-Crop-Provisions-24-0501.ashx to /Users/katerina/Documents/CropGuard/Dec_demo/demo_knowledge/Olive-Crop-Provisions-24-0501.pdf\n"
     ]
    },
    {
     "name": "stderr",
     "output_type": "stream",
     "text": [
      "100   243    0   243    0     0   1074      0 --:--:-- --:--:-- --:--:--  1089\n",
      "  % Total    % Received % Xferd  Average Speed   Time    Time     Time  Current\n",
      "                                 Dload  Upload   Total   Spent    Left  Speed\n",
      "  0     0    0     0    0     0      0      0 --:--:-- --:--:-- --:--:--     0"
     ]
    },
    {
     "name": "stdout",
     "output_type": "stream",
     "text": [
      "Downloading https://croptalk-spoi.s3.amazonaws.com/CP/Olive-Crop-Provisions-23-OL-0501.ashx to /Users/katerina/Documents/CropGuard/Dec_demo/demo_knowledge/Olive-Crop-Provisions-23-OL-0501.pdf\n"
     ]
    },
    {
     "name": "stderr",
     "output_type": "stream",
     "text": [
      "100   243    0   243    0     0   1044      0 --:--:-- --:--:-- --:--:--  1061\n",
      "  % Total    % Received % Xferd  Average Speed   Time    Time     Time  Current\n",
      "                                 Dload  Upload   Total   Spent    Left  Speed\n",
      "  0     0    0     0    0     0      0      0 --:--:-- --:--:-- --:--:--     0"
     ]
    },
    {
     "name": "stdout",
     "output_type": "stream",
     "text": [
      "Downloading https://croptalk-spoi.s3.amazonaws.com/CP/Northern-Potato-Crop-Provisions-17-0184.ashx to /Users/katerina/Documents/CropGuard/Dec_demo/demo_knowledge/Northern-Potato-Crop-Provisions-17-0184.pdf\n"
     ]
    },
    {
     "name": "stderr",
     "output_type": "stream",
     "text": [
      "100   243    0   243    0     0   1040      0 --:--:-- --:--:-- --:--:--  1056\n",
      "  % Total    % Received % Xferd  Average Speed   Time    Time     Time  Current\n",
      "                                 Dload  Upload   Total   Spent    Left  Speed\n",
      "  0     0    0     0    0     0      0      0 --:--:-- --:--:-- --:--:--     0"
     ]
    },
    {
     "name": "stdout",
     "output_type": "stream",
     "text": [
      "Downloading https://croptalk-spoi.s3.amazonaws.com/CP/Mint-Crop-Insurance-Provisions-08-074.ashx to /Users/katerina/Documents/CropGuard/Dec_demo/demo_knowledge/Mint-Crop-Insurance-Provisions-08-074.pdf\n"
     ]
    },
    {
     "name": "stderr",
     "output_type": "stream",
     "text": [
      "100   243    0   243    0     0   1012      0 --:--:-- --:--:-- --:--:--  1029\n",
      "  % Total    % Received % Xferd  Average Speed   Time    Time     Time  Current\n",
      "                                 Dload  Upload   Total   Spent    Left  Speed\n",
      "  0     0    0     0    0     0      0      0 --:--:-- --:--:-- --:--:--     0"
     ]
    },
    {
     "name": "stdout",
     "output_type": "stream",
     "text": [
      "Downloading https://croptalk-spoi.s3.amazonaws.com/CP/Millet-Crop-Provisions-08-017.ashx to /Users/katerina/Documents/CropGuard/Dec_demo/demo_knowledge/Millet-Crop-Provisions-08-017.pdf\n"
     ]
    },
    {
     "name": "stderr",
     "output_type": "stream",
     "text": [
      "100   243    0   243    0     0    957      0 --:--:-- --:--:-- --:--:--   972\n",
      "  % Total    % Received % Xferd  Average Speed   Time    Time     Time  Current\n",
      "                                 Dload  Upload   Total   Spent    Left  Speed\n",
      "  0     0    0     0    0     0      0      0 --:--:-- --:--:-- --:--:--     0"
     ]
    },
    {
     "name": "stdout",
     "output_type": "stream",
     "text": [
      "Downloading https://croptalk-spoi.s3.amazonaws.com/CP/Margin-Protection-Plan-Wheat-Crop-Provisions-24-MP-011.ashx to /Users/katerina/Documents/CropGuard/Dec_demo/demo_knowledge/Margin-Protection-Plan-Wheat-Crop-Provisions-24-MP-011.pdf\n"
     ]
    },
    {
     "name": "stderr",
     "output_type": "stream",
     "text": [
      "100   243    0   243    0     0   1053      0 --:--:-- --:--:-- --:--:--  1075\n",
      "  % Total    % Received % Xferd  Average Speed   Time    Time     Time  Current\n",
      "                                 Dload  Upload   Total   Spent    Left  Speed\n",
      "  0     0    0     0    0     0      0      0 --:--:-- --:--:-- --:--:--     0"
     ]
    },
    {
     "name": "stdout",
     "output_type": "stream",
     "text": [
      "Downloading https://croptalk-spoi.s3.amazonaws.com/CP/Margin-Protection-Plan-Wheat-16-MP-0011.ashx to /Users/katerina/Documents/CropGuard/Dec_demo/demo_knowledge/Margin-Protection-Plan-Wheat-16-MP-0011.pdf\n"
     ]
    },
    {
     "name": "stderr",
     "output_type": "stream",
     "text": [
      "100   243    0   243    0     0   1062      0 --:--:-- --:--:-- --:--:--  1075\n",
      "  % Total    % Received % Xferd  Average Speed   Time    Time     Time  Current\n",
      "                                 Dload  Upload   Total   Spent    Left  Speed\n",
      "  0     0    0     0    0     0      0      0 --:--:-- --:--:-- --:--:--     0"
     ]
    },
    {
     "name": "stdout",
     "output_type": "stream",
     "text": [
      "Downloading https://croptalk-spoi.s3.amazonaws.com/CP/Margin-Protection-Plan-Text-18-MP.ashx to /Users/katerina/Documents/CropGuard/Dec_demo/demo_knowledge/Margin-Protection-Plan-Text-18-MP.pdf\n"
     ]
    },
    {
     "name": "stderr",
     "output_type": "stream",
     "text": [
      "100   243    0   243    0     0   1088      0 --:--:-- --:--:-- --:--:--  1109\n",
      "  % Total    % Received % Xferd  Average Speed   Time    Time     Time  Current\n",
      "                                 Dload  Upload   Total   Spent    Left  Speed\n",
      "  0     0    0     0    0     0      0      0 --:--:-- --:--:-- --:--:--     0"
     ]
    },
    {
     "name": "stdout",
     "output_type": "stream",
     "text": [
      "File exists: /Users/katerina/Documents/CropGuard/Dec_demo/demo_knowledge/Margin-Protection-Plan-Text-18-MP.pdf\n",
      "File exists: /Users/katerina/Documents/CropGuard/Dec_demo/demo_knowledge/Margin-Protection-Plan-Text-18-MP.pdf\n",
      "File exists: /Users/katerina/Documents/CropGuard/Dec_demo/demo_knowledge/Margin-Protection-Plan-Text-18-MP.pdf\n",
      "Downloading https://croptalk-spoi.s3.amazonaws.com/CP/Margin-Protection-Plan-Soybean-Crop-Provisions-20-MP-081.ashx to /Users/katerina/Documents/CropGuard/Dec_demo/demo_knowledge/Margin-Protection-Plan-Soybean-Crop-Provisions-20-MP-081.pdf\n"
     ]
    },
    {
     "name": "stderr",
     "output_type": "stream",
     "text": [
      "100   243    0   243    0     0   1066      0 --:--:-- --:--:-- --:--:--  1084\n",
      "  % Total    % Received % Xferd  Average Speed   Time    Time     Time  Current\n",
      "                                 Dload  Upload   Total   Spent    Left  Speed\n",
      "  0     0    0     0    0     0      0      0 --:--:-- --:--:-- --:--:--     0"
     ]
    },
    {
     "name": "stdout",
     "output_type": "stream",
     "text": [
      "Downloading https://croptalk-spoi.s3.amazonaws.com/CP/Margin-Protection-Plan-Rice-Crop-Provisions-20-MP-018.ashx to /Users/katerina/Documents/CropGuard/Dec_demo/demo_knowledge/Margin-Protection-Plan-Rice-Crop-Provisions-20-MP-018.pdf\n"
     ]
    },
    {
     "name": "stderr",
     "output_type": "stream",
     "text": [
      "100   243    0   243    0     0   1070      0 --:--:-- --:--:-- --:--:--  1089\n",
      "  % Total    % Received % Xferd  Average Speed   Time    Time     Time  Current\n",
      "                                 Dload  Upload   Total   Spent    Left  Speed\n",
      "  0     0    0     0    0     0      0      0 --:--:-- --:--:-- --:--:--     0"
     ]
    },
    {
     "name": "stdout",
     "output_type": "stream",
     "text": [
      "Downloading https://croptalk-spoi.s3.amazonaws.com/CP/Margin-Protection-Plan-Map-18-MP.ashx to /Users/katerina/Documents/CropGuard/Dec_demo/demo_knowledge/Margin-Protection-Plan-Map-18-MP.pdf\n"
     ]
    },
    {
     "name": "stderr",
     "output_type": "stream",
     "text": [
      "100   243    0   243    0     0   1032      0 --:--:-- --:--:-- --:--:--  1042\n",
      "  % Total    % Received % Xferd  Average Speed   Time    Time     Time  Current\n",
      "                                 Dload  Upload   Total   Spent    Left  Speed\n",
      "  0     0    0     0    0     0      0      0 --:--:-- --:--:-- --:--:--     0"
     ]
    },
    {
     "name": "stdout",
     "output_type": "stream",
     "text": [
      "File exists: /Users/katerina/Documents/CropGuard/Dec_demo/demo_knowledge/Margin-Protection-Plan-Map-18-MP.pdf\n",
      "File exists: /Users/katerina/Documents/CropGuard/Dec_demo/demo_knowledge/Margin-Protection-Plan-Map-18-MP.pdf\n",
      "File exists: /Users/katerina/Documents/CropGuard/Dec_demo/demo_knowledge/Margin-Protection-Plan-Map-18-MP.pdf\n",
      "Downloading https://croptalk-spoi.s3.amazonaws.com/CP/Margin-Protection-Plan-Corn-Crop-Provisions-20-MP-041.ashx to /Users/katerina/Documents/CropGuard/Dec_demo/demo_knowledge/Margin-Protection-Plan-Corn-Crop-Provisions-20-MP-041.pdf\n"
     ]
    },
    {
     "name": "stderr",
     "output_type": "stream",
     "text": [
      "100   243    0   243    0     0   1063      0 --:--:-- --:--:-- --:--:--  1080\n",
      "  % Total    % Received % Xferd  Average Speed   Time    Time     Time  Current\n",
      "                                 Dload  Upload   Total   Spent    Left  Speed\n",
      "  0     0    0     0    0     0      0      0 --:--:-- --:--:-- --:--:--     0"
     ]
    },
    {
     "name": "stdout",
     "output_type": "stream",
     "text": [
      "Downloading https://croptalk-spoi.s3.amazonaws.com/CP/Margin-Protection-Plan-16-MP.ashx to /Users/katerina/Documents/CropGuard/Dec_demo/demo_knowledge/Margin-Protection-Plan-16-MP.pdf\n"
     ]
    },
    {
     "name": "stderr",
     "output_type": "stream",
     "text": [
      "100   243    0   243    0     0   1087      0 --:--:-- --:--:-- --:--:--  1104\n",
      "  % Total    % Received % Xferd  Average Speed   Time    Time     Time  Current\n",
      "                                 Dload  Upload   Total   Spent    Left  Speed\n",
      "  0     0    0     0    0     0      0      0 --:--:-- --:--:-- --:--:--     0"
     ]
    },
    {
     "name": "stdout",
     "output_type": "stream",
     "text": [
      "File exists: /Users/katerina/Documents/CropGuard/Dec_demo/demo_knowledge/Margin-Protection-Plan-16-MP.pdf\n",
      "File exists: /Users/katerina/Documents/CropGuard/Dec_demo/demo_knowledge/Margin-Protection-Plan-16-MP.pdf\n",
      "File exists: /Users/katerina/Documents/CropGuard/Dec_demo/demo_knowledge/Margin-Protection-Plan-16-MP.pdf\n",
      "Downloading https://croptalk-spoi.s3.amazonaws.com/CP/Macadamia-Nut-Crop-Provisions-25-0023.ashx to /Users/katerina/Documents/CropGuard/Dec_demo/demo_knowledge/Macadamia-Nut-Crop-Provisions-25-0023.pdf\n"
     ]
    },
    {
     "name": "stderr",
     "output_type": "stream",
     "text": [
      "100   243    0   243    0     0   1068      0 --:--:-- --:--:-- --:--:--  1084\n",
      "  % Total    % Received % Xferd  Average Speed   Time    Time     Time  Current\n",
      "                                 Dload  Upload   Total   Spent    Left  Speed\n",
      "  0     0    0     0    0     0      0      0 --:--:-- --:--:-- --:--:--     0"
     ]
    },
    {
     "name": "stdout",
     "output_type": "stream",
     "text": [
      "Downloading https://croptalk-spoi.s3.amazonaws.com/CP/LRP-Swine-Underwriting-Rules.ashx to /Users/katerina/Documents/CropGuard/Dec_demo/demo_knowledge/LRP-Swine-Underwriting-Rules.pdf\n"
     ]
    },
    {
     "name": "stderr",
     "output_type": "stream",
     "text": [
      "100   243    0   243    0     0   1084      0 --:--:-- --:--:-- --:--:--  1094\n",
      "  % Total    % Received % Xferd  Average Speed   Time    Time     Time  Current\n",
      "                                 Dload  Upload   Total   Spent    Left  Speed\n",
      "  0     0    0     0    0     0      0      0 --:--:-- --:--:-- --:--:--     0"
     ]
    },
    {
     "name": "stdout",
     "output_type": "stream",
     "text": [
      "Downloading https://croptalk-spoi.s3.amazonaws.com/CP/LRP-Swine-Premium-Calculation.ashx to /Users/katerina/Documents/CropGuard/Dec_demo/demo_knowledge/LRP-Swine-Premium-Calculation.pdf\n"
     ]
    },
    {
     "name": "stderr",
     "output_type": "stream",
     "text": [
      "100   243    0   243    0     0   1126      0 --:--:-- --:--:-- --:--:--  1146\n",
      "  % Total    % Received % Xferd  Average Speed   Time    Time     Time  Current\n",
      "                                 Dload  Upload   Total   Spent    Left  Speed\n",
      "  0     0    0     0    0     0      0      0 --:--:-- --:--:-- --:--:--     0"
     ]
    },
    {
     "name": "stdout",
     "output_type": "stream",
     "text": [
      "Downloading https://croptalk-spoi.s3.amazonaws.com/CP/LRP-Swine-Endorsement.ashx to /Users/katerina/Documents/CropGuard/Dec_demo/demo_knowledge/LRP-Swine-Endorsement.pdf\n"
     ]
    },
    {
     "name": "stderr",
     "output_type": "stream",
     "text": [
      "100   243    0   243    0     0   1030      0 --:--:-- --:--:-- --:--:--  1047\n",
      "  % Total    % Received % Xferd  Average Speed   Time    Time     Time  Current\n",
      "                                 Dload  Upload   Total   Spent    Left  Speed\n",
      "  0     0    0     0    0     0      0      0 --:--:-- --:--:-- --:--:--     0"
     ]
    },
    {
     "name": "stdout",
     "output_type": "stream",
     "text": [
      "Downloading https://croptalk-spoi.s3.amazonaws.com/CP/LRP-Policy-1-20-2021.ashx to /Users/katerina/Documents/CropGuard/Dec_demo/demo_knowledge/LRP-Policy-1-20-2021.pdf\n"
     ]
    },
    {
     "name": "stderr",
     "output_type": "stream",
     "text": [
      "100   243    0   243    0     0   1031      0 --:--:-- --:--:-- --:--:--  1047\n",
      "  % Total    % Received % Xferd  Average Speed   Time    Time     Time  Current\n",
      "                                 Dload  Upload   Total   Spent    Left  Speed\n",
      "  0     0    0     0    0     0      0      0 --:--:-- --:--:-- --:--:--     0"
     ]
    },
    {
     "name": "stdout",
     "output_type": "stream",
     "text": [
      "File exists: /Users/katerina/Documents/CropGuard/Dec_demo/demo_knowledge/LRP-Policy-1-20-2021.pdf\n",
      "Downloading https://croptalk-spoi.s3.amazonaws.com/CP/LRP-Policy.ashx to /Users/katerina/Documents/CropGuard/Dec_demo/demo_knowledge/LRP-Policy.pdf\n"
     ]
    },
    {
     "name": "stderr",
     "output_type": "stream",
     "text": [
      "100   243    0   243    0     0   1056      0 --:--:-- --:--:-- --:--:--  1065\n",
      "  % Total    % Received % Xferd  Average Speed   Time    Time     Time  Current\n",
      "                                 Dload  Upload   Total   Spent    Left  Speed\n",
      "  0     0    0     0    0     0      0      0 --:--:-- --:--:-- --:--:--     0"
     ]
    },
    {
     "name": "stdout",
     "output_type": "stream",
     "text": [
      "File exists: /Users/katerina/Documents/CropGuard/Dec_demo/demo_knowledge/LRP-Policy.pdf\n",
      "Downloading https://croptalk-spoi.s3.amazonaws.com/CP/LRP-Feeder-Cattle-Premium-Calculation.ashx to /Users/katerina/Documents/CropGuard/Dec_demo/demo_knowledge/LRP-Feeder-Cattle-Premium-Calculation.pdf\n"
     ]
    },
    {
     "name": "stderr",
     "output_type": "stream",
     "text": [
      "100   243    0   243    0     0   1060      0 --:--:-- --:--:-- --:--:--  1075\n",
      "  % Total    % Received % Xferd  Average Speed   Time    Time     Time  Current\n",
      "                                 Dload  Upload   Total   Spent    Left  Speed\n",
      "  0     0    0     0    0     0      0      0 --:--:-- --:--:-- --:--:--     0"
     ]
    },
    {
     "name": "stdout",
     "output_type": "stream",
     "text": [
      "Downloading https://croptalk-spoi.s3.amazonaws.com/CP/LRP-Feeder-Cattle-Endorsement.ashx to /Users/katerina/Documents/CropGuard/Dec_demo/demo_knowledge/LRP-Feeder-Cattle-Endorsement.pdf\n"
     ]
    },
    {
     "name": "stderr",
     "output_type": "stream",
     "text": [
      "100   243    0   243    0     0   1033      0 --:--:-- --:--:-- --:--:--  1051\n",
      "  % Total    % Received % Xferd  Average Speed   Time    Time     Time  Current\n",
      "                                 Dload  Upload   Total   Spent    Left  Speed\n",
      "  0     0    0     0    0     0      0      0 --:--:-- --:--:-- --:--:--     0"
     ]
    },
    {
     "name": "stdout",
     "output_type": "stream",
     "text": [
      "Downloading https://croptalk-spoi.s3.amazonaws.com/CP/Livestock-Farm-Bill-Amendment-2015.ashx to /Users/katerina/Documents/CropGuard/Dec_demo/demo_knowledge/Livestock-Farm-Bill-Amendment-2015.pdf\n"
     ]
    },
    {
     "name": "stderr",
     "output_type": "stream",
     "text": [
      "100   243    0   243    0     0   1040      0 --:--:-- --:--:-- --:--:--  1056\n",
      "  % Total    % Received % Xferd  Average Speed   Time    Time     Time  Current\n",
      "                                 Dload  Upload   Total   Spent    Left  Speed\n",
      "  0     0    0     0    0     0      0      0 --:--:-- --:--:-- --:--:--     0"
     ]
    },
    {
     "name": "stdout",
     "output_type": "stream",
     "text": [
      "File exists: /Users/katerina/Documents/CropGuard/Dec_demo/demo_knowledge/Livestock-Farm-Bill-Amendment-2015.pdf\n",
      "Downloading https://croptalk-spoi.s3.amazonaws.com/CP/Kiwifruit-Crop-Provisions-24-0463.ashx to /Users/katerina/Documents/CropGuard/Dec_demo/demo_knowledge/Kiwifruit-Crop-Provisions-24-0463.pdf\n"
     ]
    },
    {
     "name": "stderr",
     "output_type": "stream",
     "text": [
      "100   243    0   243    0     0   1032      0 --:--:-- --:--:-- --:--:--  1042\n",
      "  % Total    % Received % Xferd  Average Speed   Time    Time     Time  Current\n",
      "                                 Dload  Upload   Total   Spent    Left  Speed\n",
      "  0     0    0     0    0     0      0      0 --:--:-- --:--:-- --:--:--     0"
     ]
    },
    {
     "name": "stdout",
     "output_type": "stream",
     "text": [
      "Downloading https://croptalk-spoi.s3.amazonaws.com/CP/Hybrid-Vegetable-Seed-Crop-Provisions-23-HVS-0066.ashx to /Users/katerina/Documents/CropGuard/Dec_demo/demo_knowledge/Hybrid-Vegetable-Seed-Crop-Provisions-23-HVS-0066.pdf\n"
     ]
    },
    {
     "name": "stderr",
     "output_type": "stream",
     "text": [
      "100   243    0   243    0     0   1009      0 --:--:-- --:--:-- --:--:--  1025\n",
      "  % Total    % Received % Xferd  Average Speed   Time    Time     Time  Current\n",
      "                                 Dload  Upload   Total   Spent    Left  Speed\n",
      "  0     0    0     0    0     0      0      0 --:--:-- --:--:-- --:--:--     0"
     ]
    },
    {
     "name": "stdout",
     "output_type": "stream",
     "text": [
      "Downloading https://croptalk-spoi.s3.amazonaws.com/CP/Hybrid-Sweet-Corn-Seed-Pilot-Crop-Provisions-20-0093.ashx to /Users/katerina/Documents/CropGuard/Dec_demo/demo_knowledge/Hybrid-Sweet-Corn-Seed-Pilot-Crop-Provisions-20-0093.pdf\n"
     ]
    },
    {
     "name": "stderr",
     "output_type": "stream",
     "text": [
      "100   243    0   243    0     0   1060      0 --:--:-- --:--:-- --:--:--  1075\n",
      "  % Total    % Received % Xferd  Average Speed   Time    Time     Time  Current\n",
      "                                 Dload  Upload   Total   Spent    Left  Speed\n",
      "  0     0    0     0    0     0      0      0 --:--:-- --:--:-- --:--:--     0"
     ]
    },
    {
     "name": "stdout",
     "output_type": "stream",
     "text": [
      "Downloading https://croptalk-spoi.s3.amazonaws.com/CP/Hybrid-Specialty-Seed-Pilot-Crop-Provisions-22-0093.ashx to /Users/katerina/Documents/CropGuard/Dec_demo/demo_knowledge/Hybrid-Specialty-Seed-Pilot-Crop-Provisions-22-0093.pdf\n"
     ]
    },
    {
     "name": "stderr",
     "output_type": "stream",
     "text": [
      "100   243    0   243    0     0   1033      0 --:--:-- --:--:-- --:--:--  1051\n",
      "  % Total    % Received % Xferd  Average Speed   Time    Time     Time  Current\n",
      "                                 Dload  Upload   Total   Spent    Left  Speed\n",
      "  0     0    0     0    0     0      0      0 --:--:-- --:--:-- --:--:--     0"
     ]
    },
    {
     "name": "stdout",
     "output_type": "stream",
     "text": [
      "File exists: /Users/katerina/Documents/CropGuard/Dec_demo/demo_knowledge/Hybrid-Specialty-Seed-Pilot-Crop-Provisions-22-0093.pdf\n",
      "Downloading https://croptalk-spoi.s3.amazonaws.com/CP/Hybrid-Sorghum-Seed-Crop-Provisions-17-050.ashx to /Users/katerina/Documents/CropGuard/Dec_demo/demo_knowledge/Hybrid-Sorghum-Seed-Crop-Provisions-17-050.pdf\n"
     ]
    },
    {
     "name": "stderr",
     "output_type": "stream",
     "text": [
      "100   243    0   243    0     0   1093      0 --:--:-- --:--:-- --:--:--  1109\n",
      "  % Total    % Received % Xferd  Average Speed   Time    Time     Time  Current\n",
      "                                 Dload  Upload   Total   Spent    Left  Speed\n",
      "  0     0    0     0    0     0      0      0 --:--:-- --:--:-- --:--:--     0"
     ]
    },
    {
     "name": "stdout",
     "output_type": "stream",
     "text": [
      "Downloading https://croptalk-spoi.s3.amazonaws.com/CP/Hybrid-Seed-Rice-Crop-Provisions-21-0080.ashx to /Users/katerina/Documents/CropGuard/Dec_demo/demo_knowledge/Hybrid-Seed-Rice-Crop-Provisions-21-0080.pdf\n"
     ]
    },
    {
     "name": "stderr",
     "output_type": "stream",
     "text": [
      "100   243    0   243    0     0   1025      0 --:--:-- --:--:-- --:--:--  1042\n",
      "  % Total    % Received % Xferd  Average Speed   Time    Time     Time  Current\n",
      "                                 Dload  Upload   Total   Spent    Left  Speed\n",
      "  0     0    0     0    0     0      0      0 --:--:-- --:--:-- --:--:--     0"
     ]
    },
    {
     "name": "stdout",
     "output_type": "stream",
     "text": [
      "Downloading https://croptalk-spoi.s3.amazonaws.com/CP/Hemp-Crop-Provisions-24-1218.ashx to /Users/katerina/Documents/CropGuard/Dec_demo/demo_knowledge/Hemp-Crop-Provisions-24-1218.pdf\n"
     ]
    },
    {
     "name": "stderr",
     "output_type": "stream",
     "text": [
      "100   243    0   243    0     0   1058      0 --:--:-- --:--:-- --:--:--  1075\n",
      "  % Total    % Received % Xferd  Average Speed   Time    Time     Time  Current\n",
      "                                 Dload  Upload   Total   Spent    Left  Speed\n",
      "  0     0    0     0    0     0      0      0 --:--:-- --:--:-- --:--:--     0"
     ]
    },
    {
     "name": "stdout",
     "output_type": "stream",
     "text": [
      "File exists: /Users/katerina/Documents/CropGuard/Dec_demo/demo_knowledge/Hemp-Crop-Provisions-24-1218.pdf\n",
      "Downloading https://croptalk-spoi.s3.amazonaws.com/CP/Hawaii-Tropical-Tree-Crop-Provisions-19-0265.ashx to /Users/katerina/Documents/CropGuard/Dec_demo/demo_knowledge/Hawaii-Tropical-Tree-Crop-Provisions-19-0265.pdf\n"
     ]
    },
    {
     "name": "stderr",
     "output_type": "stream",
     "text": [
      "100   243    0   243    0     0   1105      0 --:--:-- --:--:-- --:--:--  1125\n",
      "  % Total    % Received % Xferd  Average Speed   Time    Time     Time  Current\n",
      "                                 Dload  Upload   Total   Spent    Left  Speed\n",
      "  0     0    0     0    0     0      0      0 --:--:-- --:--:-- --:--:--     0"
     ]
    },
    {
     "name": "stdout",
     "output_type": "stream",
     "text": [
      "File exists: /Users/katerina/Documents/CropGuard/Dec_demo/demo_knowledge/Hawaii-Tropical-Tree-Crop-Provisions-19-0265.pdf\n",
      "Downloading https://croptalk-spoi.s3.amazonaws.com/CP/Hawaii-Tropical-Fruit-Crop-Provisions-23-0255-Chinese-Traditional.ashx to /Users/katerina/Documents/CropGuard/Dec_demo/demo_knowledge/Hawaii-Tropical-Fruit-Crop-Provisions-23-0255-Chinese-Traditional.pdf\n"
     ]
    },
    {
     "name": "stderr",
     "output_type": "stream",
     "text": [
      "100   243    0   243    0     0   1088      0 --:--:-- --:--:-- --:--:--  1099\n",
      "  % Total    % Received % Xferd  Average Speed   Time    Time     Time  Current\n",
      "                                 Dload  Upload   Total   Spent    Left  Speed\n",
      "  0     0    0     0    0     0      0      0 --:--:-- --:--:-- --:--:--     0"
     ]
    },
    {
     "name": "stdout",
     "output_type": "stream",
     "text": [
      "File exists: /Users/katerina/Documents/CropGuard/Dec_demo/demo_knowledge/Hawaii-Tropical-Fruit-Crop-Provisions-23-0255-Chinese-Traditional.pdf\n",
      "Downloading https://croptalk-spoi.s3.amazonaws.com/CP/Hawaii-Tropical-Fruit-Crop-Provisions-23-0255.ashx to /Users/katerina/Documents/CropGuard/Dec_demo/demo_knowledge/Hawaii-Tropical-Fruit-Crop-Provisions-23-0255.pdf\n"
     ]
    },
    {
     "name": "stderr",
     "output_type": "stream",
     "text": [
      "100   243    0   243    0     0   1076      0 --:--:-- --:--:-- --:--:--  1089\n",
      "  % Total    % Received % Xferd  Average Speed   Time    Time     Time  Current\n",
      "                                 Dload  Upload   Total   Spent    Left  Speed\n",
      "  0     0    0     0    0     0      0      0 --:--:-- --:--:-- --:--:--     0"
     ]
    },
    {
     "name": "stdout",
     "output_type": "stream",
     "text": [
      "File exists: /Users/katerina/Documents/CropGuard/Dec_demo/demo_knowledge/Hawaii-Tropical-Fruit-Crop-Provisions-23-0255.pdf\n",
      "Downloading https://croptalk-spoi.s3.amazonaws.com/CP/Group-Risk-Plan-Oysters-Policy-Basic-Provisions-09-GRP-Oysters.ashx to /Users/katerina/Documents/CropGuard/Dec_demo/demo_knowledge/Group-Risk-Plan-Oysters-Policy-Basic-Provisions-09-GRP-Oysters.pdf\n"
     ]
    },
    {
     "name": "stderr",
     "output_type": "stream",
     "text": [
      "100   243    0   243    0     0    995      0 --:--:-- --:--:-- --:--:--  1008\n",
      "  % Total    % Received % Xferd  Average Speed   Time    Time     Time  Current\n",
      "                                 Dload  Upload   Total   Spent    Left  Speed\n",
      "  0     0    0     0    0     0      0      0 --:--:-- --:--:-- --:--:--     0"
     ]
    },
    {
     "name": "stdout",
     "output_type": "stream",
     "text": [
      "Downloading https://croptalk-spoi.s3.amazonaws.com/CP/Green-Pea-Crop-Provisions-17-064.ashx to /Users/katerina/Documents/CropGuard/Dec_demo/demo_knowledge/Green-Pea-Crop-Provisions-17-064.pdf\n"
     ]
    },
    {
     "name": "stderr",
     "output_type": "stream",
     "text": [
      "100   243    0   243    0     0   1018      0 --:--:-- --:--:-- --:--:--  1034\n",
      "  % Total    % Received % Xferd  Average Speed   Time    Time     Time  Current\n",
      "                                 Dload  Upload   Total   Spent    Left  Speed\n",
      "  0     0    0     0    0     0      0      0 --:--:-- --:--:-- --:--:--     0"
     ]
    },
    {
     "name": "stdout",
     "output_type": "stream",
     "text": [
      "Downloading https://croptalk-spoi.s3.amazonaws.com/CP/Grass-Seed-Pilot-Crop-Provisions-15-0102.ashx to /Users/katerina/Documents/CropGuard/Dec_demo/demo_knowledge/Grass-Seed-Pilot-Crop-Provisions-15-0102.pdf\n"
     ]
    },
    {
     "name": "stderr",
     "output_type": "stream",
     "text": [
      "100   243    0   243    0     0   1065      0 --:--:-- --:--:-- --:--:--  1080\n",
      "  % Total    % Received % Xferd  Average Speed   Time    Time     Time  Current\n",
      "                                 Dload  Upload   Total   Spent    Left  Speed\n",
      "  0     0    0     0    0     0      0      0 --:--:-- --:--:-- --:--:--     0"
     ]
    },
    {
     "name": "stdout",
     "output_type": "stream",
     "text": [
      "Downloading https://croptalk-spoi.s3.amazonaws.com/CP/Grass-Seed-Crop-Provisions-24-0102.ashx to /Users/katerina/Documents/CropGuard/Dec_demo/demo_knowledge/Grass-Seed-Crop-Provisions-24-0102.pdf\n"
     ]
    },
    {
     "name": "stderr",
     "output_type": "stream",
     "text": [
      "100   243    0   243    0     0   1054      0 --:--:-- --:--:-- --:--:--  1075\n",
      "  % Total    % Received % Xferd  Average Speed   Time    Time     Time  Current\n",
      "                                 Dload  Upload   Total   Spent    Left  Speed\n",
      "  0     0    0     0    0     0      0      0 --:--:-- --:--:-- --:--:--     0"
     ]
    },
    {
     "name": "stdout",
     "output_type": "stream",
     "text": [
      "Downloading https://croptalk-spoi.s3.amazonaws.com/CP/Grapevine-Crop-Provisions-24-0270.ashx to /Users/katerina/Documents/CropGuard/Dec_demo/demo_knowledge/Grapevine-Crop-Provisions-24-0270.pdf\n"
     ]
    },
    {
     "name": "stderr",
     "output_type": "stream",
     "text": [
      "100   243    0   243    0     0   1015      0 --:--:-- --:--:-- --:--:--  1034\n",
      "  % Total    % Received % Xferd  Average Speed   Time    Time     Time  Current\n",
      "                                 Dload  Upload   Total   Spent    Left  Speed\n",
      "  0     0    0     0    0     0      0      0 --:--:-- --:--:-- --:--:--     0"
     ]
    },
    {
     "name": "stdout",
     "output_type": "stream",
     "text": [
      "File exists: /Users/katerina/Documents/CropGuard/Dec_demo/demo_knowledge/Grapevine-Crop-Provisions-24-0270.pdf\n",
      "File exists: /Users/katerina/Documents/CropGuard/Dec_demo/demo_knowledge/Grapevine-Crop-Provisions-24-0270.pdf\n",
      "File exists: /Users/katerina/Documents/CropGuard/Dec_demo/demo_knowledge/Grapevine-Crop-Provisions-24-0270.pdf\n",
      "File exists: /Users/katerina/Documents/CropGuard/Dec_demo/demo_knowledge/Grapevine-Crop-Provisions-24-0270.pdf\n",
      "File exists: /Users/katerina/Documents/CropGuard/Dec_demo/demo_knowledge/Grapevine-Crop-Provisions-24-0270.pdf\n",
      "Downloading https://croptalk-spoi.s3.amazonaws.com/CP/Grape-Crop-Provisions-10-0053-Spanish.ashx to /Users/katerina/Documents/CropGuard/Dec_demo/demo_knowledge/Grape-Crop-Provisions-10-0053-Spanish.pdf\n"
     ]
    },
    {
     "name": "stderr",
     "output_type": "stream",
     "text": [
      "100   243    0   243    0     0   1086      0 --:--:-- --:--:-- --:--:--  1104\n",
      "  % Total    % Received % Xferd  Average Speed   Time    Time     Time  Current\n",
      "                                 Dload  Upload   Total   Spent    Left  Speed\n",
      "  0     0    0     0    0     0      0      0 --:--:-- --:--:-- --:--:--     0"
     ]
    },
    {
     "name": "stdout",
     "output_type": "stream",
     "text": [
      "Downloading https://croptalk-spoi.s3.amazonaws.com/CP/Grape-Crop-Provisions-10-0053.ashx to /Users/katerina/Documents/CropGuard/Dec_demo/demo_knowledge/Grape-Crop-Provisions-10-0053.pdf\n"
     ]
    },
    {
     "name": "stderr",
     "output_type": "stream",
     "text": [
      "100   243    0   243    0     0   1035      0 --:--:-- --:--:-- --:--:--  1047\n",
      "  % Total    % Received % Xferd  Average Speed   Time    Time     Time  Current\n",
      "                                 Dload  Upload   Total   Spent    Left  Speed\n",
      "  0     0    0     0    0     0      0      0 --:--:-- --:--:-- --:--:--     0"
     ]
    },
    {
     "name": "stdout",
     "output_type": "stream",
     "text": [
      "Downloading https://croptalk-spoi.s3.amazonaws.com/CP/Fresh-Market-Tomato---Guaranteed-Production-Plan-Crop-Provisions-Rutherford-Co-NC-23-0086-Spanish.ashx to /Users/katerina/Documents/CropGuard/Dec_demo/demo_knowledge/Fresh-Market-Tomato---Guaranteed-Production-Plan-Crop-Provisions-Rutherford-Co-NC-23-0086-Spanish.pdf\n"
     ]
    },
    {
     "name": "stderr",
     "output_type": "stream",
     "text": [
      "100   243    0   243    0     0    889      0 --:--:-- --:--:-- --:--:--   903\n",
      "  % Total    % Received % Xferd  Average Speed   Time    Time     Time  Current\n",
      "                                 Dload  Upload   Total   Spent    Left  Speed\n",
      "  0     0    0     0    0     0      0      0 --:--:-- --:--:-- --:--:--     0"
     ]
    },
    {
     "name": "stdout",
     "output_type": "stream",
     "text": [
      "Downloading https://croptalk-spoi.s3.amazonaws.com/CP/Fresh-Market-Tomato---Guaranteed-Production-Plan-Crop-Provisions-Polk-Co-NC-23-0086-Spanish.ashx to /Users/katerina/Documents/CropGuard/Dec_demo/demo_knowledge/Fresh-Market-Tomato---Guaranteed-Production-Plan-Crop-Provisions-Polk-Co-NC-23-0086-Spanish.pdf\n"
     ]
    },
    {
     "name": "stderr",
     "output_type": "stream",
     "text": [
      "100   243    0   243    0     0   1018      0 --:--:-- --:--:-- --:--:--  1034\n",
      "  % Total    % Received % Xferd  Average Speed   Time    Time     Time  Current\n",
      "                                 Dload  Upload   Total   Spent    Left  Speed\n",
      "  0     0    0     0    0     0      0      0 --:--:-- --:--:-- --:--:--     0"
     ]
    },
    {
     "name": "stdout",
     "output_type": "stream",
     "text": [
      "Downloading https://croptalk-spoi.s3.amazonaws.com/CP/Fresh-Market-Tomato---Guaranteed-Production-Plan-Crop-Provisions-Henderson-Co-NC-23-0086-Spanish.ashx to /Users/katerina/Documents/CropGuard/Dec_demo/demo_knowledge/Fresh-Market-Tomato---Guaranteed-Production-Plan-Crop-Provisions-Henderson-Co-NC-23-0086-Spanish.pdf\n"
     ]
    },
    {
     "name": "stderr",
     "output_type": "stream",
     "text": [
      "100   243    0   243    0     0    302      0 --:--:-- --:--:-- --:--:--   302\n",
      "  % Total    % Received % Xferd  Average Speed   Time    Time     Time  Current\n",
      "                                 Dload  Upload   Total   Spent    Left  Speed\n",
      "  0     0    0     0    0     0      0      0 --:--:-- --:--:-- --:--:--     0"
     ]
    },
    {
     "name": "stdout",
     "output_type": "stream",
     "text": [
      "Downloading https://croptalk-spoi.s3.amazonaws.com/CP/Fresh-Market-Tomato---Guaranteed-Production-Plan-Crop-Provisions-Buncombe-Co-NC-23-0086-Spanish.ashx to /Users/katerina/Documents/CropGuard/Dec_demo/demo_knowledge/Fresh-Market-Tomato---Guaranteed-Production-Plan-Crop-Provisions-Buncombe-Co-NC-23-0086-Spanish.pdf\n"
     ]
    },
    {
     "name": "stderr",
     "output_type": "stream",
     "text": [
      "100   243    0   243    0     0    367      0 --:--:-- --:--:-- --:--:--   368\n",
      "  % Total    % Received % Xferd  Average Speed   Time    Time     Time  Current\n",
      "                                 Dload  Upload   Total   Spent    Left  Speed\n",
      "  0     0    0     0    0     0      0      0 --:--:-- --:--:-- --:--:--     0"
     ]
    },
    {
     "name": "stdout",
     "output_type": "stream",
     "text": [
      "Downloading https://croptalk-spoi.s3.amazonaws.com/CP/Fresh-Market-Tomato---Guaranteed-Production-Plan-Crop-Provisions-23-186-Spanish.ashx to /Users/katerina/Documents/CropGuard/Dec_demo/demo_knowledge/Fresh-Market-Tomato---Guaranteed-Production-Plan-Crop-Provisions-23-186-Spanish.pdf\n"
     ]
    },
    {
     "name": "stderr",
     "output_type": "stream",
     "text": [
      "100   243    0   243    0     0    356      0 --:--:-- --:--:-- --:--:--   359\n",
      "  % Total    % Received % Xferd  Average Speed   Time    Time     Time  Current\n",
      "                                 Dload  Upload   Total   Spent    Left  Speed\n",
      "  0     0    0     0    0     0      0      0 --:--:-- --:--:-- --:--:--     0"
     ]
    },
    {
     "name": "stdout",
     "output_type": "stream",
     "text": [
      "Downloading https://croptalk-spoi.s3.amazonaws.com/CP/Fresh-Market-Tomato---Guaranteed-Production-Plan-Crop-Provisions-23-186.ashx to /Users/katerina/Documents/CropGuard/Dec_demo/demo_knowledge/Fresh-Market-Tomato---Guaranteed-Production-Plan-Crop-Provisions-23-186.pdf\n"
     ]
    },
    {
     "name": "stderr",
     "output_type": "stream",
     "text": [
      "100   243    0   243    0     0    322      0 --:--:-- --:--:-- --:--:--   323\n",
      "  % Total    % Received % Xferd  Average Speed   Time    Time     Time  Current\n",
      "                                 Dload  Upload   Total   Spent    Left  Speed\n",
      "  0     0    0     0    0     0      0      0 --:--:-- --:--:-- --:--:--     0"
     ]
    },
    {
     "name": "stdout",
     "output_type": "stream",
     "text": [
      "Downloading https://croptalk-spoi.s3.amazonaws.com/CP/Fresh-Market-Tomato---Dollar-Plan-Crop-Provisions-24-0086.ashx to /Users/katerina/Documents/CropGuard/Dec_demo/demo_knowledge/Fresh-Market-Tomato---Dollar-Plan-Crop-Provisions-24-0086.pdf\n"
     ]
    },
    {
     "name": "stderr",
     "output_type": "stream",
     "text": [
      "100   243    0   243    0     0    481      0 --:--:-- --:--:-- --:--:--   484\n",
      "  % Total    % Received % Xferd  Average Speed   Time    Time     Time  Current\n",
      "                                 Dload  Upload   Total   Spent    Left  Speed\n",
      "  0     0    0     0    0     0      0      0 --:--:-- --:--:-- --:--:--     0"
     ]
    },
    {
     "name": "stdout",
     "output_type": "stream",
     "text": [
      "Downloading https://croptalk-spoi.s3.amazonaws.com/CP/Fresh-Market-Sweet-Corn-Crop-Provisions-23-0044.ashx to /Users/katerina/Documents/CropGuard/Dec_demo/demo_knowledge/Fresh-Market-Sweet-Corn-Crop-Provisions-23-0044.pdf\n"
     ]
    },
    {
     "name": "stderr",
     "output_type": "stream",
     "text": [
      "100   243    0   243    0     0    575      0 --:--:-- --:--:-- --:--:--   581\n",
      "  % Total    % Received % Xferd  Average Speed   Time    Time     Time  Current\n",
      "                                 Dload  Upload   Total   Spent    Left  Speed\n",
      "  0     0    0     0    0     0      0      0 --:--:-- --:--:-- --:--:--     0"
     ]
    },
    {
     "name": "stdout",
     "output_type": "stream",
     "text": [
      "Downloading https://croptalk-spoi.s3.amazonaws.com/CP/Fresh-Market-Bean-Crop-Provisions-23-0105.ashx to /Users/katerina/Documents/CropGuard/Dec_demo/demo_knowledge/Fresh-Market-Bean-Crop-Provisions-23-0105.pdf\n"
     ]
    },
    {
     "name": "stderr",
     "output_type": "stream",
     "text": [
      "100   243    0   243    0     0   1068      0 --:--:-- --:--:-- --:--:--  1089\n",
      "  % Total    % Received % Xferd  Average Speed   Time    Time     Time  Current\n",
      "                                 Dload  Upload   Total   Spent    Left  Speed\n",
      "  0     0    0     0    0     0      0      0 --:--:-- --:--:-- --:--:--     0"
     ]
    },
    {
     "name": "stdout",
     "output_type": "stream",
     "text": [
      "Downloading https://croptalk-spoi.s3.amazonaws.com/CP/Forage-Seeding-Crop-Provisions-22-032.ashx to /Users/katerina/Documents/CropGuard/Dec_demo/demo_knowledge/Forage-Seeding-Crop-Provisions-22-032.pdf\n"
     ]
    },
    {
     "name": "stderr",
     "output_type": "stream",
     "text": [
      "100   243    0   243    0     0   1104      0 --:--:-- --:--:-- --:--:--  1119\n",
      "  % Total    % Received % Xferd  Average Speed   Time    Time     Time  Current\n",
      "                                 Dload  Upload   Total   Spent    Left  Speed\n",
      "  0     0    0     0    0     0      0      0 --:--:-- --:--:-- --:--:--     0"
     ]
    },
    {
     "name": "stdout",
     "output_type": "stream",
     "text": [
      "Downloading https://croptalk-spoi.s3.amazonaws.com/CP/Forage-Production-Crop-Provisions-23-033.ashx to /Users/katerina/Documents/CropGuard/Dec_demo/demo_knowledge/Forage-Production-Crop-Provisions-23-033.pdf\n"
     ]
    },
    {
     "name": "stderr",
     "output_type": "stream",
     "text": [
      "100   243    0   243    0     0   1015      0 --:--:-- --:--:-- --:--:--  1029\n",
      "  % Total    % Received % Xferd  Average Speed   Time    Time     Time  Current\n",
      "                                 Dload  Upload   Total   Spent    Left  Speed\n",
      "  0     0    0     0    0     0      0      0 --:--:-- --:--:-- --:--:--     0"
     ]
    },
    {
     "name": "stdout",
     "output_type": "stream",
     "text": [
      "Downloading https://croptalk-spoi.s3.amazonaws.com/CP/Dry-Pea-Crop-Provisions-22-0067.ashx to /Users/katerina/Documents/CropGuard/Dec_demo/demo_knowledge/Dry-Pea-Crop-Provisions-22-0067.pdf\n"
     ]
    },
    {
     "name": "stderr",
     "output_type": "stream",
     "text": [
      "100   243    0   243    0     0    998      0 --:--:-- --:--:-- --:--:--  1016\n",
      "  % Total    % Received % Xferd  Average Speed   Time    Time     Time  Current\n",
      "                                 Dload  Upload   Total   Spent    Left  Speed\n",
      "  0     0    0     0    0     0      0      0 --:--:-- --:--:-- --:--:--     0"
     ]
    },
    {
     "name": "stdout",
     "output_type": "stream",
     "text": [
      "File exists: /Users/katerina/Documents/CropGuard/Dec_demo/demo_knowledge/Dry-Pea-Crop-Provisions-22-0067.pdf\n",
      "Downloading https://croptalk-spoi.s3.amazonaws.com/CP/Dry-Bean-Crop-Provisions-22-0047.ashx to /Users/katerina/Documents/CropGuard/Dec_demo/demo_knowledge/Dry-Bean-Crop-Provisions-22-0047.pdf\n"
     ]
    },
    {
     "name": "stderr",
     "output_type": "stream",
     "text": [
      "100   243    0   243    0     0   1039      0 --:--:-- --:--:-- --:--:--  1056\n",
      "  % Total    % Received % Xferd  Average Speed   Time    Time     Time  Current\n",
      "                                 Dload  Upload   Total   Spent    Left  Speed\n",
      "  0     0    0     0    0     0      0      0 --:--:-- --:--:-- --:--:--     0"
     ]
    },
    {
     "name": "stdout",
     "output_type": "stream",
     "text": [
      "File exists: /Users/katerina/Documents/CropGuard/Dec_demo/demo_knowledge/Dry-Bean-Crop-Provisions-22-0047.pdf\n",
      "File exists: /Users/katerina/Documents/CropGuard/Dec_demo/demo_knowledge/Dry-Bean-Crop-Provisions-22-0047.pdf\n",
      "Downloading https://croptalk-spoi.s3.amazonaws.com/CP/Cultivated-Wild-Rice-Crop-Provisions-09-0055.ashx to /Users/katerina/Documents/CropGuard/Dec_demo/demo_knowledge/Cultivated-Wild-Rice-Crop-Provisions-09-0055.pdf\n"
     ]
    },
    {
     "name": "stderr",
     "output_type": "stream",
     "text": [
      "100   243    0   243    0     0    986      0 --:--:-- --:--:-- --:--:--   995\n",
      "  % Total    % Received % Xferd  Average Speed   Time    Time     Time  Current\n",
      "                                 Dload  Upload   Total   Spent    Left  Speed\n",
      "  0     0    0     0    0     0      0      0 --:--:-- --:--:-- --:--:--     0"
     ]
    },
    {
     "name": "stdout",
     "output_type": "stream",
     "text": [
      "Downloading https://croptalk-spoi.s3.amazonaws.com/CP/Cranberry-Crop-Provisions-23-058.ashx to /Users/katerina/Documents/CropGuard/Dec_demo/demo_knowledge/Cranberry-Crop-Provisions-23-058.pdf\n"
     ]
    },
    {
     "name": "stderr",
     "output_type": "stream",
     "text": [
      "100   243    0   243    0     0    882      0 --:--:-- --:--:-- --:--:--   893\n",
      "  % Total    % Received % Xferd  Average Speed   Time    Time     Time  Current\n",
      "                                 Dload  Upload   Total   Spent    Left  Speed\n",
      "  0     0    0     0    0     0      0      0 --:--:-- --:--:-- --:--:--     0"
     ]
    },
    {
     "name": "stdout",
     "output_type": "stream",
     "text": [
      "Downloading https://croptalk-spoi.s3.amazonaws.com/CP/Cotton-Crop-Provisions-17-0021.ashx to /Users/katerina/Documents/CropGuard/Dec_demo/demo_knowledge/Cotton-Crop-Provisions-17-0021.pdf\n"
     ]
    },
    {
     "name": "stderr",
     "output_type": "stream",
     "text": [
      "100   243    0   243    0     0    979      0 --:--:-- --:--:-- --:--:--   995\n",
      "  % Total    % Received % Xferd  Average Speed   Time    Time     Time  Current\n",
      "                                 Dload  Upload   Total   Spent    Left  Speed\n",
      "  0     0    0     0    0     0      0      0 --:--:-- --:--:-- --:--:--     0"
     ]
    },
    {
     "name": "stdout",
     "output_type": "stream",
     "text": [
      "File exists: /Users/katerina/Documents/CropGuard/Dec_demo/demo_knowledge/Cotton-Crop-Provisions-17-0021.pdf\n",
      "File exists: /Users/katerina/Documents/CropGuard/Dec_demo/demo_knowledge/Cotton-Crop-Provisions-17-0021.pdf\n",
      "Downloading https://croptalk-spoi.s3.amazonaws.com/CP/Controlled-Environment-Crop-Provisions-24-1020.ashx to /Users/katerina/Documents/CropGuard/Dec_demo/demo_knowledge/Controlled-Environment-Crop-Provisions-24-1020.pdf\n"
     ]
    },
    {
     "name": "stderr",
     "output_type": "stream",
     "text": [
      "100   243    0   243    0     0    950      0 --:--:-- --:--:-- --:--:--   964\n",
      "  % Total    % Received % Xferd  Average Speed   Time    Time     Time  Current\n",
      "                                 Dload  Upload   Total   Spent    Left  Speed\n",
      "  0     0    0     0    0     0      0      0 --:--:-- --:--:-- --:--:--     0"
     ]
    },
    {
     "name": "stdout",
     "output_type": "stream",
     "text": [
      "Downloading https://croptalk-spoi.s3.amazonaws.com/CP/Coarse-Grains-Crop-Provisions-22-0041.ashx to /Users/katerina/Documents/CropGuard/Dec_demo/demo_knowledge/Coarse-Grains-Crop-Provisions-22-0041.pdf\n"
     ]
    },
    {
     "name": "stderr",
     "output_type": "stream",
     "text": [
      "100   243    0   243    0     0   1029      0 --:--:-- --:--:-- --:--:--  1042\n",
      "  % Total    % Received % Xferd  Average Speed   Time    Time     Time  Current\n",
      "                                 Dload  Upload   Total   Spent    Left  Speed\n",
      "  0     0    0     0    0     0      0      0 --:--:-- --:--:-- --:--:--     0"
     ]
    },
    {
     "name": "stdout",
     "output_type": "stream",
     "text": [
      "File exists: /Users/katerina/Documents/CropGuard/Dec_demo/demo_knowledge/Coarse-Grains-Crop-Provisions-22-0041.pdf\n",
      "File exists: /Users/katerina/Documents/CropGuard/Dec_demo/demo_knowledge/Coarse-Grains-Crop-Provisions-22-0041.pdf\n",
      "File exists: /Users/katerina/Documents/CropGuard/Dec_demo/demo_knowledge/Coarse-Grains-Crop-Provisions-22-0041.pdf\n",
      "File exists: /Users/katerina/Documents/CropGuard/Dec_demo/demo_knowledge/Coarse-Grains-Crop-Provisions-22-0041.pdf\n",
      "File exists: /Users/katerina/Documents/CropGuard/Dec_demo/demo_knowledge/Coarse-Grains-Crop-Provisions-22-0041.pdf\n",
      "File exists: /Users/katerina/Documents/CropGuard/Dec_demo/demo_knowledge/Coarse-Grains-Crop-Provisions-22-0041.pdf\n",
      "File exists: /Users/katerina/Documents/CropGuard/Dec_demo/demo_knowledge/Coarse-Grains-Crop-Provisions-22-0041.pdf\n",
      "File exists: /Users/katerina/Documents/CropGuard/Dec_demo/demo_knowledge/Coarse-Grains-Crop-Provisions-22-0041.pdf\n",
      "Downloading https://croptalk-spoi.s3.amazonaws.com/CP/Clary-Sage-Crop-Provisions-16-0079.ashx to /Users/katerina/Documents/CropGuard/Dec_demo/demo_knowledge/Clary-Sage-Crop-Provisions-16-0079.pdf\n"
     ]
    },
    {
     "name": "stderr",
     "output_type": "stream",
     "text": [
      "100   243    0   243    0     0    935      0 --:--:-- --:--:-- --:--:--   945\n",
      "  % Total    % Received % Xferd  Average Speed   Time    Time     Time  Current\n",
      "                                 Dload  Upload   Total   Spent    Left  Speed\n",
      "  0     0    0     0    0     0      0      0 --:--:-- --:--:-- --:--:--     0"
     ]
    },
    {
     "name": "stdout",
     "output_type": "stream",
     "text": [
      "Downloading https://croptalk-spoi.s3.amazonaws.com/CP/Chile-Pepper-Pilot-Crop-Provisions-23-045.ashx to /Users/katerina/Documents/CropGuard/Dec_demo/demo_knowledge/Chile-Pepper-Pilot-Crop-Provisions-23-045.pdf\n"
     ]
    },
    {
     "name": "stderr",
     "output_type": "stream",
     "text": [
      "100   243    0   243    0     0   1124      0 --:--:-- --:--:-- --:--:--  1140\n",
      "  % Total    % Received % Xferd  Average Speed   Time    Time     Time  Current\n",
      "                                 Dload  Upload   Total   Spent    Left  Speed\n",
      "  0     0    0     0    0     0      0      0 --:--:-- --:--:-- --:--:--     0"
     ]
    },
    {
     "name": "stdout",
     "output_type": "stream",
     "text": [
      "Downloading https://croptalk-spoi.s3.amazonaws.com/CP/Central-and-Southern-Potato-Crop-Provisions-17-0284.ashx to /Users/katerina/Documents/CropGuard/Dec_demo/demo_knowledge/Central-and-Southern-Potato-Crop-Provisions-17-0284.pdf\n"
     ]
    },
    {
     "name": "stderr",
     "output_type": "stream",
     "text": [
      "100   243    0   243    0     0   1081      0 --:--:-- --:--:-- --:--:--  1099\n",
      "  % Total    % Received % Xferd  Average Speed   Time    Time     Time  Current\n",
      "                                 Dload  Upload   Total   Spent    Left  Speed\n",
      "  0     0    0     0    0     0      0      0 --:--:-- --:--:-- --:--:--     0"
     ]
    },
    {
     "name": "stdout",
     "output_type": "stream",
     "text": [
      "Downloading https://croptalk-spoi.s3.amazonaws.com/CP/Canola-and-Rapeseed-Crop-Provisions-21-0015.ashx to /Users/katerina/Documents/CropGuard/Dec_demo/demo_knowledge/Canola-and-Rapeseed-Crop-Provisions-21-0015.pdf\n"
     ]
    },
    {
     "name": "stderr",
     "output_type": "stream",
     "text": [
      "100   243    0   243    0     0   1038      0 --:--:-- --:--:-- --:--:--  1047\n",
      "  % Total    % Received % Xferd  Average Speed   Time    Time     Time  Current\n",
      "                                 Dload  Upload   Total   Spent    Left  Speed\n",
      "  0     0    0     0    0     0      0      0 --:--:-- --:--:-- --:--:--     0"
     ]
    },
    {
     "name": "stdout",
     "output_type": "stream",
     "text": [
      "File exists: /Users/katerina/Documents/CropGuard/Dec_demo/demo_knowledge/Canola-and-Rapeseed-Crop-Provisions-21-0015.pdf\n",
      "File exists: /Users/katerina/Documents/CropGuard/Dec_demo/demo_knowledge/Canola-and-Rapeseed-Crop-Provisions-21-0015.pdf\n",
      "Downloading https://croptalk-spoi.s3.amazonaws.com/CP/Camelina-Pilot-Crop-Provisions-24-0333.ashx to /Users/katerina/Documents/CropGuard/Dec_demo/demo_knowledge/Camelina-Pilot-Crop-Provisions-24-0333.pdf\n"
     ]
    },
    {
     "name": "stderr",
     "output_type": "stream",
     "text": [
      "100   243    0   243    0     0   1052      0 --:--:-- --:--:-- --:--:--  1070\n",
      "  % Total    % Received % Xferd  Average Speed   Time    Time     Time  Current\n",
      "                                 Dload  Upload   Total   Spent    Left  Speed\n",
      "  0     0    0     0    0     0      0      0 --:--:-- --:--:-- --:--:--     0"
     ]
    },
    {
     "name": "stdout",
     "output_type": "stream",
     "text": [
      "Downloading https://croptalk-spoi.s3.amazonaws.com/CP/Cabbage-Crop-Provisions-23-0072.ashx to /Users/katerina/Documents/CropGuard/Dec_demo/demo_knowledge/Cabbage-Crop-Provisions-23-0072.pdf\n"
     ]
    },
    {
     "name": "stderr",
     "output_type": "stream",
     "text": [
      "100   243    0   243    0     0   1120      0 --:--:-- --:--:-- --:--:--  1140\n",
      "  % Total    % Received % Xferd  Average Speed   Time    Time     Time  Current\n",
      "                                 Dload  Upload   Total   Spent    Left  Speed\n",
      "  0     0    0     0    0     0      0      0 --:--:-- --:--:-- --:--:--     0"
     ]
    },
    {
     "name": "stdout",
     "output_type": "stream",
     "text": [
      "Downloading https://croptalk-spoi.s3.amazonaws.com/CP/Cabbage-Crop-Provisions-11-0072.ashx to /Users/katerina/Documents/CropGuard/Dec_demo/demo_knowledge/Cabbage-Crop-Provisions-11-0072.pdf\n"
     ]
    },
    {
     "name": "stderr",
     "output_type": "stream",
     "text": [
      "100   243    0   243    0     0   1058      0 --:--:-- --:--:-- --:--:--  1075\n",
      "  % Total    % Received % Xferd  Average Speed   Time    Time     Time  Current\n",
      "                                 Dload  Upload   Total   Spent    Left  Speed\n",
      "  0     0    0     0    0     0      0      0 --:--:-- --:--:-- --:--:--     0"
     ]
    },
    {
     "name": "stdout",
     "output_type": "stream",
     "text": [
      "Downloading https://croptalk-spoi.s3.amazonaws.com/CP/Blueberry-Crop-Provisions-23-012.ashx to /Users/katerina/Documents/CropGuard/Dec_demo/demo_knowledge/Blueberry-Crop-Provisions-23-012.pdf\n"
     ]
    },
    {
     "name": "stderr",
     "output_type": "stream",
     "text": [
      "100   243    0   243    0     0   1036      0 --:--:-- --:--:-- --:--:--  1051\n",
      "  % Total    % Received % Xferd  Average Speed   Time    Time     Time  Current\n",
      "                                 Dload  Upload   Total   Spent    Left  Speed\n",
      "  0     0    0     0    0     0      0      0 --:--:-- --:--:-- --:--:--     0"
     ]
    },
    {
     "name": "stdout",
     "output_type": "stream",
     "text": [
      "Downloading https://croptalk-spoi.s3.amazonaws.com/CP/Basic-Policy.ashx to /Users/katerina/Documents/CropGuard/Dec_demo/demo_knowledge/Basic-Policy.pdf\n"
     ]
    },
    {
     "name": "stderr",
     "output_type": "stream",
     "text": [
      "100   243    0   243    0     0   1060      0 --:--:-- --:--:-- --:--:--  1080\n",
      "  % Total    % Received % Xferd  Average Speed   Time    Time     Time  Current\n",
      "                                 Dload  Upload   Total   Spent    Left  Speed\n",
      "  0     0    0     0    0     0      0      0 --:--:-- --:--:-- --:--:--     0"
     ]
    },
    {
     "name": "stdout",
     "output_type": "stream",
     "text": [
      "File exists: /Users/katerina/Documents/CropGuard/Dec_demo/demo_knowledge/Basic-Policy.pdf\n",
      "File exists: /Users/katerina/Documents/CropGuard/Dec_demo/demo_knowledge/Apple-Crop-Provisions-11-0054.pdf\n",
      "File exists: /Users/katerina/Documents/CropGuard/Dec_demo/demo_knowledge/Almond-Crop-Provisions-08-028.pdf\n",
      "File exists: /Users/katerina/Documents/CropGuard/Dec_demo/demo_knowledge/Actual-Production-History-Yield-Exclusion-Overview-of-Premium-Rating.pdf\n",
      "File exists: /Users/katerina/Documents/CropGuard/Dec_demo/demo_knowledge/Procedures-for-Determination-of-Permanent-Pilot-Status.pdf\n",
      "File exists: /Users/katerina/Documents/CropGuard/Dec_demo/demo_knowledge/Actual-Revenue-History-Pilot-Endorsement-23-ARH.pdf\n",
      "Downloading https://croptalk-spoi.s3.amazonaws.com/BP/Hurricane-Insurance-Protection-Wind-Index-Endorsement-24-HIP-WI.ashx to /Users/katerina/Documents/CropGuard/Dec_demo/demo_knowledge/Hurricane-Insurance-Protection-Wind-Index-Endorsement-24-HIP-WI.pdf\n"
     ]
    },
    {
     "name": "stderr",
     "output_type": "stream",
     "text": [
      "100   243    0   243    0     0   1057      0 --:--:-- --:--:-- --:--:--  1075\n",
      "  % Total    % Received % Xferd  Average Speed   Time    Time     Time  Current\n",
      "                                 Dload  Upload   Total   Spent    Left  Speed\n",
      "  0     0    0     0    0     0      0      0 --:--:-- --:--:-- --:--:--     0"
     ]
    },
    {
     "name": "stdout",
     "output_type": "stream",
     "text": [
      "Downloading https://croptalk-spoi.s3.amazonaws.com/BP/Margin-Price-Provisions-Section-1-16-MPP.ashx to /Users/katerina/Documents/CropGuard/Dec_demo/demo_knowledge/Margin-Price-Provisions-Section-1-16-MPP.pdf\n"
     ]
    },
    {
     "name": "stderr",
     "output_type": "stream",
     "text": [
      "100   243    0   243    0     0   1040      0 --:--:-- --:--:-- --:--:--  1065\n",
      "  % Total    % Received % Xferd  Average Speed   Time    Time     Time  Current\n",
      "                                 Dload  Upload   Total   Spent    Left  Speed\n",
      "  0     0    0     0    0     0      0      0 --:--:-- --:--:-- --:--:--     0"
     ]
    },
    {
     "name": "stdout",
     "output_type": "stream",
     "text": [
      "Downloading https://croptalk-spoi.s3.amazonaws.com/BP/Margin-Price-Provisions-Section-1-18-MPP.ashx to /Users/katerina/Documents/CropGuard/Dec_demo/demo_knowledge/Margin-Price-Provisions-Section-1-18-MPP.pdf\n"
     ]
    },
    {
     "name": "stderr",
     "output_type": "stream",
     "text": [
      "100   243    0   243    0     0   1010      0 --:--:-- --:--:-- --:--:--  1029\n",
      "  % Total    % Received % Xferd  Average Speed   Time    Time     Time  Current\n",
      "                                 Dload  Upload   Total   Spent    Left  Speed\n",
      "  0     0    0     0    0     0      0      0 --:--:-- --:--:-- --:--:--     0"
     ]
    },
    {
     "name": "stdout",
     "output_type": "stream",
     "text": [
      "Downloading https://croptalk-spoi.s3.amazonaws.com/BP/Margin-Protection-Summary-of-Changes-17-MP.ashx to /Users/katerina/Documents/CropGuard/Dec_demo/demo_knowledge/Margin-Protection-Summary-of-Changes-17-MP.pdf\n"
     ]
    },
    {
     "name": "stderr",
     "output_type": "stream",
     "text": [
      "100   243    0   243    0     0   1063      0 --:--:-- --:--:-- --:--:--  1084\n",
      "  % Total    % Received % Xferd  Average Speed   Time    Time     Time  Current\n",
      "                                 Dload  Upload   Total   Spent    Left  Speed\n",
      "  0     0    0     0    0     0      0      0 --:--:-- --:--:-- --:--:--     0"
     ]
    },
    {
     "name": "stdout",
     "output_type": "stream",
     "text": [
      "Downloading https://croptalk-spoi.s3.amazonaws.com/BP/Margin-Protection-Plan-24-MP.ashx to /Users/katerina/Documents/CropGuard/Dec_demo/demo_knowledge/Margin-Protection-Plan-24-MP.pdf\n"
     ]
    },
    {
     "name": "stderr",
     "output_type": "stream",
     "text": [
      "100   243    0   243    0     0    998      0 --:--:-- --:--:-- --:--:--  1012\n",
      "  % Total    % Received % Xferd  Average Speed   Time    Time     Time  Current\n",
      "                                 Dload  Upload   Total   Spent    Left  Speed\n",
      "  0     0    0     0    0     0      0      0 --:--:-- --:--:-- --:--:--     0"
     ]
    },
    {
     "name": "stdout",
     "output_type": "stream",
     "text": [
      "File exists: /Users/katerina/Documents/CropGuard/Dec_demo/demo_knowledge/Micro-Farm-Pilot-Provisions-24-MF-WFRP.pdf\n",
      "File exists: /Users/katerina/Documents/CropGuard/Dec_demo/demo_knowledge/Production-and-Revenue-History-General-Provisions-23-PRH.pdf\n",
      "File exists: /Users/katerina/Documents/CropGuard/Dec_demo/demo_knowledge/Production-and-Revenue-History-General-Provisions-23-PRH.pdf\n",
      "File exists: /Users/katerina/Documents/CropGuard/Dec_demo/demo_knowledge/Production-and-Revenue-History-General-Provisions-23-PRH.pdf\n",
      "File exists: /Users/katerina/Documents/CropGuard/Dec_demo/demo_knowledge/Production-and-Revenue-History-General-Provisions-23-PRH.pdf\n",
      "File exists: /Users/katerina/Documents/CropGuard/Dec_demo/demo_knowledge/Production-and-Revenue-History-General-Provisions-23-PRH.pdf\n",
      "File exists: /Users/katerina/Documents/CropGuard/Dec_demo/demo_knowledge/Quarantine-Endorsement-Pilot.pdf\n",
      "File exists: /Users/katerina/Documents/CropGuard/Dec_demo/demo_knowledge/Quarantine-Endorsement-Pilot.pdf\n",
      "Downloading https://croptalk-spoi.s3.amazonaws.com/BP/Rainfall-and-Vegetation-Index-Farmbill-Amendment-18-RIVI-Farm-Bill.ashx to /Users/katerina/Documents/CropGuard/Dec_demo/demo_knowledge/Rainfall-and-Vegetation-Index-Farmbill-Amendment-18-RIVI-Farm-Bill.pdf\n"
     ]
    },
    {
     "name": "stderr",
     "output_type": "stream",
     "text": [
      "100   243    0   243    0     0   1024      0 --:--:-- --:--:-- --:--:--  1038\n",
      "  % Total    % Received % Xferd  Average Speed   Time    Time     Time  Current\n",
      "                                 Dload  Upload   Total   Spent    Left  Speed\n",
      "  0     0    0     0    0     0      0      0 --:--:-- --:--:-- --:--:--     0"
     ]
    },
    {
     "name": "stdout",
     "output_type": "stream",
     "text": [
      "Downloading https://croptalk-spoi.s3.amazonaws.com/BP/Rainfall-Index-Plan-Common-Policy-24-1-RI.ashx to /Users/katerina/Documents/CropGuard/Dec_demo/demo_knowledge/Rainfall-Index-Plan-Common-Policy-24-1-RI.pdf\n"
     ]
    },
    {
     "name": "stderr",
     "output_type": "stream",
     "text": [
      "100   243    0   243    0     0   1061      0 --:--:-- --:--:-- --:--:--  1084\n",
      "  % Total    % Received % Xferd  Average Speed   Time    Time     Time  Current\n",
      "                                 Dload  Upload   Total   Spent    Left  Speed\n",
      "  0     0    0     0    0     0      0      0 --:--:-- --:--:-- --:--:--     0"
     ]
    },
    {
     "name": "stdout",
     "output_type": "stream",
     "text": [
      "Downloading https://croptalk-spoi.s3.amazonaws.com/BP/Rainfall-Index-Plan-Common-Policy-24-RI.ashx to /Users/katerina/Documents/CropGuard/Dec_demo/demo_knowledge/Rainfall-Index-Plan-Common-Policy-24-RI.pdf\n"
     ]
    },
    {
     "name": "stderr",
     "output_type": "stream",
     "text": [
      "100   243    0   243    0     0   1084      0 --:--:-- --:--:-- --:--:--  1104\n",
      "  % Total    % Received % Xferd  Average Speed   Time    Time     Time  Current\n",
      "                                 Dload  Upload   Total   Spent    Left  Speed\n",
      "  0     0    0     0    0     0      0      0 --:--:-- --:--:-- --:--:--     0"
     ]
    },
    {
     "name": "stdout",
     "output_type": "stream",
     "text": [
      "File exists: /Users/katerina/Documents/CropGuard/Dec_demo/demo_knowledge/Whole-Farm-Revenue-Protection-Pilot-Policy-24-0076.pdf\n",
      "File exists: /Users/katerina/Documents/CropGuard/Dec_demo/demo_knowledge/2023-18010-Crop-Insurance-Handbook.pdf\n",
      "Downloading https://croptalk-spoi.s3.amazonaws.com/SPOI/06_019_90_0039_20100430.pdf to /Users/katerina/Documents/CropGuard/Dec_demo/demo_knowledge/06_019_90_0039_20100430.pdf\n"
     ]
    },
    {
     "name": "stderr",
     "output_type": "stream",
     "text": [
      "100  3129  100  3129    0     0   9859      0 --:--:-- --:--:-- --:--:--  9964\n",
      "  % Total    % Received % Xferd  Average Speed   Time    Time     Time  Current\n",
      "                                 Dload  Upload   Total   Spent    Left  Speed\n",
      "  0     0    0     0    0     0      0      0 --:--:-- --:--:-- --:--:--     0"
     ]
    },
    {
     "name": "stdout",
     "output_type": "stream",
     "text": [
      "Downloading https://croptalk-spoi.s3.amazonaws.com/SPOI/06_029_90_0039_20100430.pdf to /Users/katerina/Documents/CropGuard/Dec_demo/demo_knowledge/06_029_90_0039_20100430.pdf\n"
     ]
    },
    {
     "name": "stderr",
     "output_type": "stream",
     "text": [
      "100  3128  100  3128    0     0  10191      0 --:--:-- --:--:-- --:--:-- 10289\n",
      "  % Total    % Received % Xferd  Average Speed   Time    Time     Time  Current\n",
      "                                 Dload  Upload   Total   Spent    Left  Speed\n",
      "  0     0    0     0    0     0      0      0 --:--:-- --:--:-- --:--:--     0"
     ]
    },
    {
     "name": "stdout",
     "output_type": "stream",
     "text": [
      "Downloading https://croptalk-spoi.s3.amazonaws.com/SPOI/06_031_90_0039_20100430.pdf to /Users/katerina/Documents/CropGuard/Dec_demo/demo_knowledge/06_031_90_0039_20100430.pdf\n"
     ]
    },
    {
     "name": "stderr",
     "output_type": "stream",
     "text": [
      "100  3129  100  3129    0     0  10196      0 --:--:-- --:--:-- --:--:-- 10326\n",
      "  % Total    % Received % Xferd  Average Speed   Time    Time     Time  Current\n",
      "                                 Dload  Upload   Total   Spent    Left  Speed\n",
      "  0     0    0     0    0     0      0      0 --:--:-- --:--:-- --:--:--     0"
     ]
    },
    {
     "name": "stdout",
     "output_type": "stream",
     "text": [
      "Downloading https://croptalk-spoi.s3.amazonaws.com/SPOI/06_039_90_0039_20100430.pdf to /Users/katerina/Documents/CropGuard/Dec_demo/demo_knowledge/06_039_90_0039_20100430.pdf\n"
     ]
    },
    {
     "name": "stderr",
     "output_type": "stream",
     "text": [
      "100  3125  100  3125    0     0  10094      0 --:--:-- --:--:-- --:--:-- 10212\n",
      "  % Total    % Received % Xferd  Average Speed   Time    Time     Time  Current\n",
      "                                 Dload  Upload   Total   Spent    Left  Speed\n",
      "  0     0    0     0    0     0      0      0 --:--:-- --:--:-- --:--:--     0"
     ]
    },
    {
     "name": "stdout",
     "output_type": "stream",
     "text": [
      "Downloading https://croptalk-spoi.s3.amazonaws.com/SPOI/06_047_90_0039_20100430.pdf to /Users/katerina/Documents/CropGuard/Dec_demo/demo_knowledge/06_047_90_0039_20100430.pdf\n"
     ]
    },
    {
     "name": "stderr",
     "output_type": "stream",
     "text": [
      "100  3129  100  3129    0     0  11673      0 --:--:-- --:--:-- --:--:-- 11763\n",
      "  % Total    % Received % Xferd  Average Speed   Time    Time     Time  Current\n",
      "                                 Dload  Upload   Total   Spent    Left  Speed\n",
      "  0     0    0     0    0     0      0      0 --:--:-- --:--:-- --:--:--     0"
     ]
    },
    {
     "name": "stdout",
     "output_type": "stream",
     "text": [
      "Downloading https://croptalk-spoi.s3.amazonaws.com/SPOI/06_077_90_0039_20100430.pdf to /Users/katerina/Documents/CropGuard/Dec_demo/demo_knowledge/06_077_90_0039_20100430.pdf\n"
     ]
    },
    {
     "name": "stderr",
     "output_type": "stream",
     "text": [
      "100  4158  100  4158    0     0  14418      0 --:--:-- --:--:-- --:--:-- 14589\n",
      "  % Total    % Received % Xferd  Average Speed   Time    Time     Time  Current\n",
      "                                 Dload  Upload   Total   Spent    Left  Speed\n",
      "  0     0    0     0    0     0      0      0 --:--:-- --:--:-- --:--:--     0"
     ]
    },
    {
     "name": "stdout",
     "output_type": "stream",
     "text": [
      "Downloading https://croptalk-spoi.s3.amazonaws.com/SPOI/06_107_90_0039_20100430.pdf to /Users/katerina/Documents/CropGuard/Dec_demo/demo_knowledge/06_107_90_0039_20100430.pdf\n"
     ]
    },
    {
     "name": "stderr",
     "output_type": "stream",
     "text": [
      "100  3131  100  3131    0     0  11026      0 --:--:-- --:--:-- --:--:-- 11142\n",
      "  % Total    % Received % Xferd  Average Speed   Time    Time     Time  Current\n",
      "                                 Dload  Upload   Total   Spent    Left  Speed\n",
      "  0     0    0     0    0     0      0      0 --:--:-- --:--:-- --:--:--     0"
     ]
    },
    {
     "name": "stdout",
     "output_type": "stream",
     "text": [
      "Downloading https://croptalk-spoi.s3.amazonaws.com/SPOI/05_069_90_0016_20100630.pdf to /Users/katerina/Documents/CropGuard/Dec_demo/demo_knowledge/05_069_90_0016_20100630.pdf\n"
     ]
    },
    {
     "name": "stderr",
     "output_type": "stream",
     "text": [
      "100 71359  100 71359    0     0   178k      0 --:--:-- --:--:-- --:--:--  180k\n",
      "  % Total    % Received % Xferd  Average Speed   Time    Time     Time  Current\n",
      "                                 Dload  Upload   Total   Spent    Left  Speed\n",
      "  0     0    0     0    0     0      0      0 --:--:-- --:--:-- --:--:--     0"
     ]
    },
    {
     "name": "stdout",
     "output_type": "stream",
     "text": [
      "Downloading https://croptalk-spoi.s3.amazonaws.com/SPOI/05_063_90_0016_20100630.pdf to /Users/katerina/Documents/CropGuard/Dec_demo/demo_knowledge/05_063_90_0016_20100630.pdf\n"
     ]
    },
    {
     "name": "stderr",
     "output_type": "stream",
     "text": [
      "100 71362  100 71362    0     0   204k      0 --:--:-- --:--:-- --:--:--  206k\n",
      "  % Total    % Received % Xferd  Average Speed   Time    Time     Time  Current\n",
      "                                 Dload  Upload   Total   Spent    Left  Speed\n",
      "  0     0    0     0    0     0      0      0 --:--:-- --:--:-- --:--:--     0"
     ]
    },
    {
     "name": "stdout",
     "output_type": "stream",
     "text": [
      "Downloading https://croptalk-spoi.s3.amazonaws.com/SPOI/05_011_90_0016_20100630.pdf to /Users/katerina/Documents/CropGuard/Dec_demo/demo_knowledge/05_011_90_0016_20100630.pdf\n"
     ]
    },
    {
     "name": "stderr",
     "output_type": "stream",
     "text": [
      "100 71336  100 71336    0     0   199k      0 --:--:-- --:--:-- --:--:--  201k\n",
      "  % Total    % Received % Xferd  Average Speed   Time    Time     Time  Current\n",
      "                                 Dload  Upload   Total   Spent    Left  Speed\n",
      "  0     0    0     0    0     0      0      0 --:--:-- --:--:-- --:--:--     0"
     ]
    },
    {
     "name": "stdout",
     "output_type": "stream",
     "text": [
      "Downloading https://croptalk-spoi.s3.amazonaws.com/SPOI/13_165_90_0013_20100630.pdf to /Users/katerina/Documents/CropGuard/Dec_demo/demo_knowledge/13_165_90_0013_20100630.pdf\n"
     ]
    },
    {
     "name": "stderr",
     "output_type": "stream",
     "text": [
      "100  4816  100  4816    0     0  15399      0 --:--:-- --:--:-- --:--:-- 15585\n",
      "  % Total    % Received % Xferd  Average Speed   Time    Time     Time  Current\n",
      "                                 Dload  Upload   Total   Spent    Left  Speed\n",
      "  0     0    0     0    0     0      0      0 --:--:-- --:--:-- --:--:--     0"
     ]
    },
    {
     "name": "stdout",
     "output_type": "stream",
     "text": [
      "Downloading https://croptalk-spoi.s3.amazonaws.com/SPOI/13_155_90_0013_20100630.pdf to /Users/katerina/Documents/CropGuard/Dec_demo/demo_knowledge/13_155_90_0013_20100630.pdf\n"
     ]
    },
    {
     "name": "stderr",
     "output_type": "stream",
     "text": [
      "100  4812  100  4812    0     0  14624      0 --:--:-- --:--:-- --:--:-- 14851\n",
      "  % Total    % Received % Xferd  Average Speed   Time    Time     Time  Current\n",
      "                                 Dload  Upload   Total   Spent    Left  Speed\n",
      "  0     0    0     0    0     0      0      0 --:--:-- --:--:-- --:--:--     0"
     ]
    },
    {
     "name": "stdout",
     "output_type": "stream",
     "text": [
      "Downloading https://croptalk-spoi.s3.amazonaws.com/SPOI/13_091_90_0013_20100630.pdf to /Users/katerina/Documents/CropGuard/Dec_demo/demo_knowledge/13_091_90_0013_20100630.pdf\n"
     ]
    },
    {
     "name": "stderr",
     "output_type": "stream",
     "text": [
      "100  4814  100  4814    0     0  16757      0 --:--:-- --:--:-- --:--:-- 16950\n",
      "  % Total    % Received % Xferd  Average Speed   Time    Time     Time  Current\n",
      "                                 Dload  Upload   Total   Spent    Left  Speed\n",
      "  0     0    0     0    0     0      0      0 --:--:-- --:--:-- --:--:--     0"
     ]
    },
    {
     "name": "stdout",
     "output_type": "stream",
     "text": [
      "Downloading https://croptalk-spoi.s3.amazonaws.com/SPOI/13_005_90_0013_20100630.pdf to /Users/katerina/Documents/CropGuard/Dec_demo/demo_knowledge/13_005_90_0013_20100630.pdf\n"
     ]
    },
    {
     "name": "stderr",
     "output_type": "stream",
     "text": [
      "100  4815  100  4815    0     0   8807      0 --:--:-- --:--:-- --:--:--  8851\n",
      "  % Total    % Received % Xferd  Average Speed   Time    Time     Time  Current\n",
      "                                 Dload  Upload   Total   Spent    Left  Speed\n",
      "  0     0    0     0    0     0      0      0 --:--:-- --:--:-- --:--:--     0"
     ]
    },
    {
     "name": "stdout",
     "output_type": "stream",
     "text": [
      "Downloading https://croptalk-spoi.s3.amazonaws.com/SPOI/13_229_90_0013_20100630.pdf to /Users/katerina/Documents/CropGuard/Dec_demo/demo_knowledge/13_229_90_0013_20100630.pdf\n"
     ]
    },
    {
     "name": "stderr",
     "output_type": "stream",
     "text": [
      "100  4815  100  4815    0     0   6978      0 --:--:-- --:--:-- --:--:--  7008\n",
      "  % Total    % Received % Xferd  Average Speed   Time    Time     Time  Current\n",
      "                                 Dload  Upload   Total   Spent    Left  Speed\n",
      "  0     0    0     0    0     0      0      0 --:--:-- --:--:-- --:--:--     0"
     ]
    },
    {
     "name": "stdout",
     "output_type": "stream",
     "text": [
      "Downloading https://croptalk-spoi.s3.amazonaws.com/SPOI/13_321_90_0013_20100630.pdf to /Users/katerina/Documents/CropGuard/Dec_demo/demo_knowledge/13_321_90_0013_20100630.pdf\n"
     ]
    },
    {
     "name": "stderr",
     "output_type": "stream",
     "text": [
      "100  4817  100  4817    0     0   7248      0 --:--:-- --:--:-- --:--:--  7287\n",
      "  % Total    % Received % Xferd  Average Speed   Time    Time     Time  Current\n",
      "                                 Dload  Upload   Total   Spent    Left  Speed\n",
      "  0     0    0     0    0     0      0      0 --:--:-- --:--:-- --:--:--     0"
     ]
    },
    {
     "name": "stdout",
     "output_type": "stream",
     "text": [
      "Downloading https://croptalk-spoi.s3.amazonaws.com/SPOI/13_309_90_0013_20100630.pdf to /Users/katerina/Documents/CropGuard/Dec_demo/demo_knowledge/13_309_90_0013_20100630.pdf\n"
     ]
    },
    {
     "name": "stderr",
     "output_type": "stream",
     "text": [
      "100  4816  100  4816    0     0   7847      0 --:--:-- --:--:-- --:--:--  7882\n",
      "  % Total    % Received % Xferd  Average Speed   Time    Time     Time  Current\n",
      "                                 Dload  Upload   Total   Spent    Left  Speed\n",
      "  0     0    0     0    0     0      0      0 --:--:-- --:--:-- --:--:--     0"
     ]
    },
    {
     "name": "stdout",
     "output_type": "stream",
     "text": [
      "Downloading https://croptalk-spoi.s3.amazonaws.com/SPOI/13_277_90_0013_20100630.pdf to /Users/katerina/Documents/CropGuard/Dec_demo/demo_knowledge/13_277_90_0013_20100630.pdf\n"
     ]
    },
    {
     "name": "stderr",
     "output_type": "stream",
     "text": [
      "100  4815  100  4815    0     0   5525      0 --:--:-- --:--:-- --:--:--  5540\n",
      "  % Total    % Received % Xferd  Average Speed   Time    Time     Time  Current\n",
      "                                 Dload  Upload   Total   Spent    Left  Speed\n",
      "  0     0    0     0    0     0      0      0 --:--:-- --:--:-- --:--:--     0"
     ]
    },
    {
     "name": "stdout",
     "output_type": "stream",
     "text": [
      "Downloading https://croptalk-spoi.s3.amazonaws.com/SPOI/13_271_90_0013_20100630.pdf to /Users/katerina/Documents/CropGuard/Dec_demo/demo_knowledge/13_271_90_0013_20100630.pdf\n"
     ]
    },
    {
     "name": "stderr",
     "output_type": "stream",
     "text": [
      "100  4815  100  4815    0     0   8395      0 --:--:-- --:--:-- --:--:--  8447\n",
      "  % Total    % Received % Xferd  Average Speed   Time    Time     Time  Current\n",
      "                                 Dload  Upload   Total   Spent    Left  Speed\n",
      "  0     0    0     0    0     0      0      0 --:--:-- --:--:-- --:--:--     0"
     ]
    },
    {
     "name": "stdout",
     "output_type": "stream",
     "text": [
      "Downloading https://croptalk-spoi.s3.amazonaws.com/SPOI/13_253_90_0013_20100630.pdf to /Users/katerina/Documents/CropGuard/Dec_demo/demo_knowledge/13_253_90_0013_20100630.pdf\n"
     ]
    },
    {
     "name": "stderr",
     "output_type": "stream",
     "text": [
      "100  4814  100  4814    0     0  14119      0 --:--:-- --:--:-- --:--:-- 14327\n",
      "  % Total    % Received % Xferd  Average Speed   Time    Time     Time  Current\n",
      "                                 Dload  Upload   Total   Spent    Left  Speed\n",
      "  0     0    0     0    0     0      0      0 --:--:-- --:--:-- --:--:--     0"
     ]
    },
    {
     "name": "stdout",
     "output_type": "stream",
     "text": [
      "Downloading https://croptalk-spoi.s3.amazonaws.com/SPOI/05_075_90_0016_20100630.pdf to /Users/katerina/Documents/CropGuard/Dec_demo/demo_knowledge/05_075_90_0016_20100630.pdf\n"
     ]
    },
    {
     "name": "stderr",
     "output_type": "stream",
     "text": [
      "100 71329  100 71329    0     0   183k      0 --:--:-- --:--:-- --:--:--  186k\n",
      "  % Total    % Received % Xferd  Average Speed   Time    Time     Time  Current\n",
      "                                 Dload  Upload   Total   Spent    Left  Speed\n",
      "  0     0    0     0    0     0      0      0 --:--:-- --:--:-- --:--:--     0"
     ]
    },
    {
     "name": "stdout",
     "output_type": "stream",
     "text": [
      "Downloading https://croptalk-spoi.s3.amazonaws.com/SPOI/05_085_90_0016_20100630.pdf to /Users/katerina/Documents/CropGuard/Dec_demo/demo_knowledge/05_085_90_0016_20100630.pdf\n"
     ]
    },
    {
     "name": "stderr",
     "output_type": "stream",
     "text": [
      "100 71340  100 71340    0     0   187k      0 --:--:-- --:--:-- --:--:--  188k\n",
      "  % Total    % Received % Xferd  Average Speed   Time    Time     Time  Current\n",
      "                                 Dload  Upload   Total   Spent    Left  Speed\n",
      "  0     0    0     0    0     0      0      0 --:--:-- --:--:-- --:--:--     0"
     ]
    },
    {
     "name": "stdout",
     "output_type": "stream",
     "text": [
      "Downloading https://croptalk-spoi.s3.amazonaws.com/SPOI/12_111_90_0084_20100630.pdf to /Users/katerina/Documents/CropGuard/Dec_demo/demo_knowledge/12_111_90_0084_20100630.pdf\n"
     ]
    },
    {
     "name": "stderr",
     "output_type": "stream",
     "text": [
      "100  7166  100  7166    0     0  25534      0 --:--:-- --:--:-- --:--:-- 25963\n",
      "  % Total    % Received % Xferd  Average Speed   Time    Time     Time  Current\n",
      "                                 Dload  Upload   Total   Spent    Left  Speed\n",
      "  0     0    0     0    0     0      0      0 --:--:-- --:--:-- --:--:--     0"
     ]
    },
    {
     "name": "stdout",
     "output_type": "stream",
     "text": [
      "Downloading https://croptalk-spoi.s3.amazonaws.com/SPOI/12_086_90_0084_20100630.pdf to /Users/katerina/Documents/CropGuard/Dec_demo/demo_knowledge/12_086_90_0084_20100630.pdf\n"
     ]
    },
    {
     "name": "stderr",
     "output_type": "stream",
     "text": [
      "100  6862  100  6862    0     0  25222      0 --:--:-- --:--:-- --:--:-- 25604\n",
      "  % Total    % Received % Xferd  Average Speed   Time    Time     Time  Current\n",
      "                                 Dload  Upload   Total   Spent    Left  Speed\n",
      "  0     0    0     0    0     0      0      0 --:--:-- --:--:-- --:--:--     0"
     ]
    },
    {
     "name": "stdout",
     "output_type": "stream",
     "text": [
      "Downloading https://croptalk-spoi.s3.amazonaws.com/SPOI/12_051_90_0084_20100630.pdf to /Users/katerina/Documents/CropGuard/Dec_demo/demo_knowledge/12_051_90_0084_20100630.pdf\n"
     ]
    },
    {
     "name": "stderr",
     "output_type": "stream",
     "text": [
      "100  6582  100  6582    0     0  22511      0 --:--:-- --:--:-- --:--:-- 22775\n",
      "  % Total    % Received % Xferd  Average Speed   Time    Time     Time  Current\n",
      "                                 Dload  Upload   Total   Spent    Left  Speed\n",
      "  0     0    0     0    0     0      0      0 --:--:-- --:--:-- --:--:--     0"
     ]
    },
    {
     "name": "stdout",
     "output_type": "stream",
     "text": [
      "Downloading https://croptalk-spoi.s3.amazonaws.com/SPOI/12_027_90_0084_20100630.pdf to /Users/katerina/Documents/CropGuard/Dec_demo/demo_knowledge/12_027_90_0084_20100630.pdf\n"
     ]
    },
    {
     "name": "stderr",
     "output_type": "stream",
     "text": [
      "100  7164  100  7164    0     0  20173      0 --:--:-- --:--:-- --:--:-- 20410\n",
      "  % Total    % Received % Xferd  Average Speed   Time    Time     Time  Current\n",
      "                                 Dload  Upload   Total   Spent    Left  Speed\n",
      "  0     0    0     0    0     0      0      0 --:--:-- --:--:-- --:--:--     0"
     ]
    },
    {
     "name": "stdout",
     "output_type": "stream",
     "text": [
      "Downloading https://croptalk-spoi.s3.amazonaws.com/SPOI/28_141_90_0016_20100630.pdf to /Users/katerina/Documents/CropGuard/Dec_demo/demo_knowledge/28_141_90_0016_20100630.pdf\n"
     ]
    },
    {
     "name": "stderr",
     "output_type": "stream",
     "text": [
      "100 71156  100 71156    0     0   187k      0 --:--:-- --:--:-- --:--:--  188k\n",
      "  % Total    % Received % Xferd  Average Speed   Time    Time     Time  Current\n",
      "                                 Dload  Upload   Total   Spent    Left  Speed\n",
      "  0     0    0     0    0     0      0      0 --:--:-- --:--:-- --:--:--     0"
     ]
    },
    {
     "name": "stdout",
     "output_type": "stream",
     "text": [
      "Downloading https://croptalk-spoi.s3.amazonaws.com/SPOI/28_133_90_0016_20100630.pdf to /Users/katerina/Documents/CropGuard/Dec_demo/demo_knowledge/28_133_90_0016_20100630.pdf\n"
     ]
    },
    {
     "name": "stderr",
     "output_type": "stream",
     "text": [
      "100 71454  100 71454    0     0   186k      0 --:--:-- --:--:-- --:--:--  187k\n",
      "  % Total    % Received % Xferd  Average Speed   Time    Time     Time  Current\n",
      "                                 Dload  Upload   Total   Spent    Left  Speed\n",
      "  0     0    0     0    0     0      0      0 --:--:-- --:--:-- --:--:--     0"
     ]
    },
    {
     "name": "stdout",
     "output_type": "stream",
     "text": [
      "Downloading https://croptalk-spoi.s3.amazonaws.com/SPOI/05_145_90_0016_20100630.pdf to /Users/katerina/Documents/CropGuard/Dec_demo/demo_knowledge/05_145_90_0016_20100630.pdf\n"
     ]
    },
    {
     "name": "stderr",
     "output_type": "stream",
     "text": [
      "100 71346  100 71346    0     0   170k      0 --:--:-- --:--:-- --:--:--  172k\n",
      "  % Total    % Received % Xferd  Average Speed   Time    Time     Time  Current\n",
      "                                 Dload  Upload   Total   Spent    Left  Speed\n",
      "  0     0    0     0    0     0      0      0 --:--:-- --:--:-- --:--:--     0"
     ]
    },
    {
     "name": "stdout",
     "output_type": "stream",
     "text": [
      "Downloading https://croptalk-spoi.s3.amazonaws.com/SPOI/05_119_90_0016_20100630.pdf to /Users/katerina/Documents/CropGuard/Dec_demo/demo_knowledge/05_119_90_0016_20100630.pdf\n"
     ]
    },
    {
     "name": "stderr",
     "output_type": "stream",
     "text": [
      "100 71348  100 71348    0     0   208k      0 --:--:-- --:--:-- --:--:--  209k\n",
      "  % Total    % Received % Xferd  Average Speed   Time    Time     Time  Current\n",
      "                                 Dload  Upload   Total   Spent    Left  Speed\n",
      "  0     0    0     0    0     0      0      0 --:--:-- --:--:-- --:--:--     0"
     ]
    },
    {
     "name": "stdout",
     "output_type": "stream",
     "text": [
      "Downloading https://croptalk-spoi.s3.amazonaws.com/SPOI/05_111_90_0016_20100630.pdf to /Users/katerina/Documents/CropGuard/Dec_demo/demo_knowledge/05_111_90_0016_20100630.pdf\n"
     ]
    },
    {
     "name": "stderr",
     "output_type": "stream",
     "text": [
      "100 71353  100 71353    0     0   178k      0 --:--:-- --:--:-- --:--:--  180k\n",
      "  % Total    % Received % Xferd  Average Speed   Time    Time     Time  Current\n",
      "                                 Dload  Upload   Total   Spent    Left  Speed\n",
      "  0     0    0     0    0     0      0      0 --:--:-- --:--:-- --:--:--     0"
     ]
    },
    {
     "name": "stdout",
     "output_type": "stream",
     "text": [
      "Downloading https://croptalk-spoi.s3.amazonaws.com/SPOI/05_107_90_0016_20100630.pdf to /Users/katerina/Documents/CropGuard/Dec_demo/demo_knowledge/05_107_90_0016_20100630.pdf\n"
     ]
    },
    {
     "name": "stderr",
     "output_type": "stream",
     "text": [
      "100 71347  100 71347    0     0   153k      0 --:--:-- --:--:-- --:--:--  154k\n",
      "  % Total    % Received % Xferd  Average Speed   Time    Time     Time  Current\n",
      "                                 Dload  Upload   Total   Spent    Left  Speed\n",
      "  0     0    0     0    0     0      0      0 --:--:-- --:--:-- --:--:--     0"
     ]
    },
    {
     "name": "stdout",
     "output_type": "stream",
     "text": [
      "Downloading https://croptalk-spoi.s3.amazonaws.com/SPOI/05_095_90_0016_20100630.pdf to /Users/katerina/Documents/CropGuard/Dec_demo/demo_knowledge/05_095_90_0016_20100630.pdf\n"
     ]
    },
    {
     "name": "stderr",
     "output_type": "stream",
     "text": [
      "100 71327  100 71327    0     0   187k      0 --:--:-- --:--:-- --:--:--  189k\n",
      "  % Total    % Received % Xferd  Average Speed   Time    Time     Time  Current\n",
      "                                 Dload  Upload   Total   Spent    Left  Speed\n",
      "  0     0    0     0    0     0      0      0 --:--:-- --:--:-- --:--:--     0"
     ]
    },
    {
     "name": "stdout",
     "output_type": "stream",
     "text": [
      "Downloading https://croptalk-spoi.s3.amazonaws.com/SPOI/28_137_90_0016_20100630.pdf to /Users/katerina/Documents/CropGuard/Dec_demo/demo_knowledge/28_137_90_0016_20100630.pdf\n"
     ]
    },
    {
     "name": "stderr",
     "output_type": "stream",
     "text": [
      "100 71416  100 71416    0     0   192k      0 --:--:-- --:--:-- --:--:--  194k\n",
      "  % Total    % Received % Xferd  Average Speed   Time    Time     Time  Current\n",
      "                                 Dload  Upload   Total   Spent    Left  Speed\n",
      "  0     0    0     0    0     0      0      0 --:--:-- --:--:-- --:--:--     0"
     ]
    },
    {
     "name": "stdout",
     "output_type": "stream",
     "text": [
      "Downloading https://croptalk-spoi.s3.amazonaws.com/SPOI/22_107_90_0016_20100630.pdf to /Users/katerina/Documents/CropGuard/Dec_demo/demo_knowledge/22_107_90_0016_20100630.pdf\n"
     ]
    },
    {
     "name": "stderr",
     "output_type": "stream",
     "text": [
      "100 71372  100 71372    0     0   151k      0 --:--:-- --:--:-- --:--:--  152k\n",
      "  % Total    % Received % Xferd  Average Speed   Time    Time     Time  Current\n",
      "                                 Dload  Upload   Total   Spent    Left  Speed\n",
      "  0     0    0     0    0     0      0      0 --:--:-- --:--:-- --:--:--     0"
     ]
    },
    {
     "name": "stdout",
     "output_type": "stream",
     "text": [
      "Downloading https://croptalk-spoi.s3.amazonaws.com/SPOI/22_081_90_0016_20100630.pdf to /Users/katerina/Documents/CropGuard/Dec_demo/demo_knowledge/22_081_90_0016_20100630.pdf\n"
     ]
    },
    {
     "name": "stderr",
     "output_type": "stream",
     "text": [
      "100 71597  100 71597    0     0   173k      0 --:--:-- --:--:-- --:--:--  175k\n",
      "  % Total    % Received % Xferd  Average Speed   Time    Time     Time  Current\n",
      "                                 Dload  Upload   Total   Spent    Left  Speed\n",
      "  0     0    0     0    0     0      0      0 --:--:-- --:--:-- --:--:--     0"
     ]
    },
    {
     "name": "stdout",
     "output_type": "stream",
     "text": [
      "Downloading https://croptalk-spoi.s3.amazonaws.com/SPOI/22_073_90_0016_20100630.pdf to /Users/katerina/Documents/CropGuard/Dec_demo/demo_knowledge/22_073_90_0016_20100630.pdf\n"
     ]
    },
    {
     "name": "stderr",
     "output_type": "stream",
     "text": [
      "100 71354  100 71354    0     0   183k      0 --:--:-- --:--:-- --:--:--  184k\n",
      "  % Total    % Received % Xferd  Average Speed   Time    Time     Time  Current\n",
      "                                 Dload  Upload   Total   Spent    Left  Speed\n",
      "  0     0    0     0    0     0      0      0 --:--:-- --:--:-- --:--:--     0"
     ]
    },
    {
     "name": "stdout",
     "output_type": "stream",
     "text": [
      "Downloading https://croptalk-spoi.s3.amazonaws.com/SPOI/22_053_90_0016_20100630.pdf to /Users/katerina/Documents/CropGuard/Dec_demo/demo_knowledge/22_053_90_0016_20100630.pdf\n"
     ]
    },
    {
     "name": "stderr",
     "output_type": "stream",
     "text": [
      "100 71517  100 71517    0     0   188k      0 --:--:-- --:--:-- --:--:--  190k\n",
      "  % Total    % Received % Xferd  Average Speed   Time    Time     Time  Current\n",
      "                                 Dload  Upload   Total   Spent    Left  Speed\n",
      "  0     0    0     0    0     0      0      0 --:--:-- --:--:-- --:--:--     0"
     ]
    },
    {
     "name": "stdout",
     "output_type": "stream",
     "text": [
      "Downloading https://croptalk-spoi.s3.amazonaws.com/SPOI/22_039_90_0016_20100630.pdf to /Users/katerina/Documents/CropGuard/Dec_demo/demo_knowledge/22_039_90_0016_20100630.pdf\n"
     ]
    },
    {
     "name": "stderr",
     "output_type": "stream",
     "text": [
      "100 71370  100 71370    0     0   174k      0 --:--:-- --:--:-- --:--:--  176k\n",
      "  % Total    % Received % Xferd  Average Speed   Time    Time     Time  Current\n",
      "                                 Dload  Upload   Total   Spent    Left  Speed\n",
      "  0     0    0     0    0     0      0      0 --:--:-- --:--:-- --:--:--     0"
     ]
    },
    {
     "name": "stdout",
     "output_type": "stream",
     "text": [
      "Downloading https://croptalk-spoi.s3.amazonaws.com/SPOI/22_023_90_0016_20100630.pdf to /Users/katerina/Documents/CropGuard/Dec_demo/demo_knowledge/22_023_90_0016_20100630.pdf\n"
     ]
    },
    {
     "name": "stderr",
     "output_type": "stream",
     "text": [
      "100 71141  100 71141    0     0   158k      0 --:--:-- --:--:-- --:--:--  159k\n",
      "  % Total    % Received % Xferd  Average Speed   Time    Time     Time  Current\n",
      "                                 Dload  Upload   Total   Spent    Left  Speed\n",
      "  0     0    0     0    0     0      0      0 --:--:-- --:--:-- --:--:--     0"
     ]
    },
    {
     "name": "stdout",
     "output_type": "stream",
     "text": [
      "Downloading https://croptalk-spoi.s3.amazonaws.com/SPOI/22_113_90_0016_20100630.pdf to /Users/katerina/Documents/CropGuard/Dec_demo/demo_knowledge/22_113_90_0016_20100630.pdf\n"
     ]
    },
    {
     "name": "stderr",
     "output_type": "stream",
     "text": [
      "100 71164  100 71164    0     0   178k      0 --:--:-- --:--:-- --:--:--  180k\n",
      "  % Total    % Received % Xferd  Average Speed   Time    Time     Time  Current\n",
      "                                 Dload  Upload   Total   Spent    Left  Speed\n",
      "  0     0    0     0    0     0      0      0 --:--:-- --:--:-- --:--:--     0"
     ]
    },
    {
     "name": "stdout",
     "output_type": "stream",
     "text": [
      "Downloading https://croptalk-spoi.s3.amazonaws.com/SPOI/28_011_90_0016_20100630.pdf to /Users/katerina/Documents/CropGuard/Dec_demo/demo_knowledge/28_011_90_0016_20100630.pdf\n"
     ]
    },
    {
     "name": "stderr",
     "output_type": "stream",
     "text": [
      "100 71340  100 71340    0     0   179k      0 --:--:-- --:--:-- --:--:--  180k\n",
      "  % Total    % Received % Xferd  Average Speed   Time    Time     Time  Current\n",
      "                                 Dload  Upload   Total   Spent    Left  Speed\n",
      "  0     0    0     0    0     0      0      0 --:--:-- --:--:-- --:--:--     0"
     ]
    },
    {
     "name": "stdout",
     "output_type": "stream",
     "text": [
      "Downloading https://croptalk-spoi.s3.amazonaws.com/SPOI/28_015_90_0016_20100630.pdf to /Users/katerina/Documents/CropGuard/Dec_demo/demo_knowledge/28_015_90_0016_20100630.pdf\n"
     ]
    },
    {
     "name": "stderr",
     "output_type": "stream",
     "text": [
      "100 71429  100 71429    0     0   197k      0 --:--:-- --:--:-- --:--:--  199k\n",
      "  % Total    % Received % Xferd  Average Speed   Time    Time     Time  Current\n",
      "                                 Dload  Upload   Total   Spent    Left  Speed\n",
      "  0     0    0     0    0     0      0      0 --:--:-- --:--:-- --:--:--     0"
     ]
    },
    {
     "name": "stdout",
     "output_type": "stream",
     "text": [
      "Downloading https://croptalk-spoi.s3.amazonaws.com/SPOI/28_119_90_0016_20100630.pdf to /Users/katerina/Documents/CropGuard/Dec_demo/demo_knowledge/28_119_90_0016_20100630.pdf\n"
     ]
    },
    {
     "name": "stderr",
     "output_type": "stream",
     "text": [
      "100 71336  100 71336    0     0   192k      0 --:--:-- --:--:-- --:--:--  195k\n",
      "  % Total    % Received % Xferd  Average Speed   Time    Time     Time  Current\n",
      "                                 Dload  Upload   Total   Spent    Left  Speed\n",
      "  0     0    0     0    0     0      0      0 --:--:-- --:--:-- --:--:--     0"
     ]
    },
    {
     "name": "stdout",
     "output_type": "stream",
     "text": [
      "Downloading https://croptalk-spoi.s3.amazonaws.com/SPOI/28_117_90_0016_20100630.pdf to /Users/katerina/Documents/CropGuard/Dec_demo/demo_knowledge/28_117_90_0016_20100630.pdf\n"
     ]
    },
    {
     "name": "stderr",
     "output_type": "stream",
     "text": [
      "100 71340  100 71340    0     0   166k      0 --:--:-- --:--:-- --:--:--  167k\n",
      "  % Total    % Received % Xferd  Average Speed   Time    Time     Time  Current\n",
      "                                 Dload  Upload   Total   Spent    Left  Speed\n",
      "  0     0    0     0    0     0      0      0 --:--:-- --:--:-- --:--:--     0"
     ]
    },
    {
     "name": "stdout",
     "output_type": "stream",
     "text": [
      "Downloading https://croptalk-spoi.s3.amazonaws.com/SPOI/28_113_90_0016_20100630.pdf to /Users/katerina/Documents/CropGuard/Dec_demo/demo_knowledge/28_113_90_0016_20100630.pdf\n"
     ]
    },
    {
     "name": "stderr",
     "output_type": "stream",
     "text": [
      "100 71118  100 71118    0     0   205k      0 --:--:-- --:--:-- --:--:--  207k\n",
      "  % Total    % Received % Xferd  Average Speed   Time    Time     Time  Current\n",
      "                                 Dload  Upload   Total   Spent    Left  Speed\n",
      "  0     0    0     0    0     0      0      0 --:--:-- --:--:-- --:--:--     0"
     ]
    },
    {
     "name": "stdout",
     "output_type": "stream",
     "text": [
      "Downloading https://croptalk-spoi.s3.amazonaws.com/SPOI/28_111_90_0016_20100630.pdf to /Users/katerina/Documents/CropGuard/Dec_demo/demo_knowledge/28_111_90_0016_20100630.pdf\n"
     ]
    },
    {
     "name": "stderr",
     "output_type": "stream",
     "text": [
      "100 71422  100 71422    0     0   180k      0 --:--:-- --:--:-- --:--:--  181k\n",
      "  % Total    % Received % Xferd  Average Speed   Time    Time     Time  Current\n",
      "                                 Dload  Upload   Total   Spent    Left  Speed\n",
      "  0     0    0     0    0     0      0      0 --:--:-- --:--:-- --:--:--     0"
     ]
    },
    {
     "name": "stdout",
     "output_type": "stream",
     "text": [
      "Downloading https://croptalk-spoi.s3.amazonaws.com/SPOI/28_107_90_0016_20100630.pdf to /Users/katerina/Documents/CropGuard/Dec_demo/demo_knowledge/28_107_90_0016_20100630.pdf\n"
     ]
    },
    {
     "name": "stderr",
     "output_type": "stream",
     "text": [
      "100 71434  100 71434    0     0   118k      0 --:--:-- --:--:-- --:--:--  119k\n",
      "  % Total    % Received % Xferd  Average Speed   Time    Time     Time  Current\n",
      "                                 Dload  Upload   Total   Spent    Left  Speed\n",
      "  0     0    0     0    0     0      0      0 --:--:-- --:--:-- --:--:--     0"
     ]
    },
    {
     "name": "stdout",
     "output_type": "stream",
     "text": [
      "Downloading https://croptalk-spoi.s3.amazonaws.com/SPOI/28_105_90_0016_20100630.pdf to /Users/katerina/Documents/CropGuard/Dec_demo/demo_knowledge/28_105_90_0016_20100630.pdf\n"
     ]
    },
    {
     "name": "stderr",
     "output_type": "stream",
     "text": [
      "100 71354  100 71354    0     0  60809      0  0:00:01  0:00:01 --:--:-- 61038\n",
      "  % Total    % Received % Xferd  Average Speed   Time    Time     Time  Current\n",
      "                                 Dload  Upload   Total   Spent    Left  Speed\n",
      "  0     0    0     0    0     0      0      0 --:--:-- --:--:-- --:--:--     0"
     ]
    },
    {
     "name": "stdout",
     "output_type": "stream",
     "text": [
      "Downloading https://croptalk-spoi.s3.amazonaws.com/SPOI/28_103_90_0016_20100630.pdf to /Users/katerina/Documents/CropGuard/Dec_demo/demo_knowledge/28_103_90_0016_20100630.pdf\n"
     ]
    },
    {
     "name": "stderr",
     "output_type": "stream",
     "text": [
      "100 71344  100 71344    0     0  74438      0 --:--:-- --:--:-- --:--:-- 74627\n",
      "  % Total    % Received % Xferd  Average Speed   Time    Time     Time  Current\n",
      "                                 Dload  Upload   Total   Spent    Left  Speed\n",
      "  0     0    0     0    0     0      0      0 --:--:-- --:--:-- --:--:--     0"
     ]
    },
    {
     "name": "stdout",
     "output_type": "stream",
     "text": [
      "Downloading https://croptalk-spoi.s3.amazonaws.com/SPOI/22_021_90_0016_20100630.pdf to /Users/katerina/Documents/CropGuard/Dec_demo/demo_knowledge/22_021_90_0016_20100630.pdf\n"
     ]
    },
    {
     "name": "stderr",
     "output_type": "stream",
     "text": [
      "100 71352  100 71352    0     0  81045      0 --:--:-- --:--:-- --:--:-- 81359\n",
      "  % Total    % Received % Xferd  Average Speed   Time    Time     Time  Current\n",
      "                                 Dload  Upload   Total   Spent    Left  Speed\n",
      "  0     0    0     0    0     0      0      0 --:--:-- --:--:-- --:--:--     0"
     ]
    },
    {
     "name": "stdout",
     "output_type": "stream",
     "text": [
      "Downloading https://croptalk-spoi.s3.amazonaws.com/SPOI/28_095_90_0016_20100630.pdf to /Users/katerina/Documents/CropGuard/Dec_demo/demo_knowledge/28_095_90_0016_20100630.pdf\n"
     ]
    },
    {
     "name": "stderr",
     "output_type": "stream",
     "text": [
      "100 71344  100 71344    0     0   117k      0 --:--:-- --:--:-- --:--:--  118k\n",
      "  % Total    % Received % Xferd  Average Speed   Time    Time     Time  Current\n",
      "                                 Dload  Upload   Total   Spent    Left  Speed\n",
      "  0     0    0     0    0     0      0      0 --:--:-- --:--:-- --:--:--     0"
     ]
    },
    {
     "name": "stdout",
     "output_type": "stream",
     "text": [
      "Downloading https://croptalk-spoi.s3.amazonaws.com/SPOI/28_065_90_0016_20100630.pdf to /Users/katerina/Documents/CropGuard/Dec_demo/demo_knowledge/28_065_90_0016_20100630.pdf\n"
     ]
    },
    {
     "name": "stderr",
     "output_type": "stream",
     "text": [
      "100 71202  100 71202    0     0   192k      0 --:--:-- --:--:-- --:--:--  194k\n",
      "  % Total    % Received % Xferd  Average Speed   Time    Time     Time  Current\n",
      "                                 Dload  Upload   Total   Spent    Left  Speed\n",
      "  0     0    0     0    0     0      0      0 --:--:-- --:--:-- --:--:--     0"
     ]
    },
    {
     "name": "stdout",
     "output_type": "stream",
     "text": [
      "Downloading https://croptalk-spoi.s3.amazonaws.com/SPOI/28_059_90_0016_20100630.pdf to /Users/katerina/Documents/CropGuard/Dec_demo/demo_knowledge/28_059_90_0016_20100630.pdf\n"
     ]
    },
    {
     "name": "stderr",
     "output_type": "stream",
     "text": [
      "100 71127  100 71127    0     0   192k      0 --:--:-- --:--:-- --:--:--  194k\n",
      "  % Total    % Received % Xferd  Average Speed   Time    Time     Time  Current\n",
      "                                 Dload  Upload   Total   Spent    Left  Speed\n",
      "  0     0    0     0    0     0      0      0 --:--:-- --:--:-- --:--:--     0"
     ]
    },
    {
     "name": "stdout",
     "output_type": "stream",
     "text": [
      "Downloading https://croptalk-spoi.s3.amazonaws.com/SPOI/28_053_90_0016_20100630.pdf to /Users/katerina/Documents/CropGuard/Dec_demo/demo_knowledge/28_053_90_0016_20100630.pdf\n"
     ]
    },
    {
     "name": "stderr",
     "output_type": "stream",
     "text": [
      "100 71376  100 71376    0     0   183k      0 --:--:-- --:--:-- --:--:--  186k\n",
      "  % Total    % Received % Xferd  Average Speed   Time    Time     Time  Current\n",
      "                                 Dload  Upload   Total   Spent    Left  Speed\n",
      "  0     0    0     0    0     0      0      0 --:--:-- --:--:-- --:--:--     0"
     ]
    },
    {
     "name": "stdout",
     "output_type": "stream",
     "text": [
      "Downloading https://croptalk-spoi.s3.amazonaws.com/SPOI/28_045_90_0016_20100630.pdf to /Users/katerina/Documents/CropGuard/Dec_demo/demo_knowledge/28_045_90_0016_20100630.pdf\n"
     ]
    },
    {
     "name": "stderr",
     "output_type": "stream",
     "text": [
      "100 71459  100 71459    0     0   152k      0 --:--:-- --:--:-- --:--:--  154k\n",
      "  % Total    % Received % Xferd  Average Speed   Time    Time     Time  Current\n",
      "                                 Dload  Upload   Total   Spent    Left  Speed\n",
      "  0     0    0     0    0     0      0      0 --:--:-- --:--:-- --:--:--     0"
     ]
    },
    {
     "name": "stdout",
     "output_type": "stream",
     "text": [
      "Downloading https://croptalk-spoi.s3.amazonaws.com/SPOI/28_031_90_0016_20100630.pdf to /Users/katerina/Documents/CropGuard/Dec_demo/demo_knowledge/28_031_90_0016_20100630.pdf\n"
     ]
    },
    {
     "name": "stderr",
     "output_type": "stream",
     "text": [
      "100 71137  100 71137    0     0   172k      0 --:--:-- --:--:-- --:--:--  173k\n",
      "  % Total    % Received % Xferd  Average Speed   Time    Time     Time  Current\n",
      "                                 Dload  Upload   Total   Spent    Left  Speed\n",
      "  0     0    0     0    0     0      0      0 --:--:-- --:--:-- --:--:--     0"
     ]
    },
    {
     "name": "stdout",
     "output_type": "stream",
     "text": [
      "Downloading https://croptalk-spoi.s3.amazonaws.com/SPOI/28_027_90_0016_20100630.pdf to /Users/katerina/Documents/CropGuard/Dec_demo/demo_knowledge/28_027_90_0016_20100630.pdf\n"
     ]
    },
    {
     "name": "stderr",
     "output_type": "stream",
     "text": [
      "100 71323  100 71323    0     0   176k      0 --:--:-- --:--:-- --:--:--  177k\n",
      "  % Total    % Received % Xferd  Average Speed   Time    Time     Time  Current\n",
      "                                 Dload  Upload   Total   Spent    Left  Speed\n",
      "  0     0    0     0    0     0      0      0 --:--:-- --:--:-- --:--:--     0"
     ]
    },
    {
     "name": "stdout",
     "output_type": "stream",
     "text": [
      "Downloading https://croptalk-spoi.s3.amazonaws.com/SPOI/28_089_90_0016_20100630.pdf to /Users/katerina/Documents/CropGuard/Dec_demo/demo_knowledge/28_089_90_0016_20100630.pdf\n"
     ]
    },
    {
     "name": "stderr",
     "output_type": "stream",
     "text": [
      "100 71347  100 71347    0     0   181k      0 --:--:-- --:--:-- --:--:--  182k\n",
      "  % Total    % Received % Xferd  Average Speed   Time    Time     Time  Current\n",
      "                                 Dload  Upload   Total   Spent    Left  Speed\n",
      "  0     0    0     0    0     0      0      0 --:--:-- --:--:-- --:--:--     0"
     ]
    },
    {
     "name": "stdout",
     "output_type": "stream",
     "text": [
      "Downloading https://croptalk-spoi.s3.amazonaws.com/SPOI/22_019_90_0016_20100630.pdf to /Users/katerina/Documents/CropGuard/Dec_demo/demo_knowledge/22_019_90_0016_20100630.pdf\n"
     ]
    },
    {
     "name": "stderr",
     "output_type": "stream",
     "text": [
      "100 71444  100 71444    0     0   179k      0 --:--:-- --:--:-- --:--:--  180k\n",
      "  % Total    % Received % Xferd  Average Speed   Time    Time     Time  Current\n",
      "                                 Dload  Upload   Total   Spent    Left  Speed\n",
      "  0     0    0     0    0     0      0      0 --:--:-- --:--:-- --:--:--     0"
     ]
    },
    {
     "name": "stdout",
     "output_type": "stream",
     "text": [
      "Downloading https://croptalk-spoi.s3.amazonaws.com/SPOI/22_009_90_0016_20100630.pdf to /Users/katerina/Documents/CropGuard/Dec_demo/demo_knowledge/22_009_90_0016_20100630.pdf\n"
     ]
    },
    {
     "name": "stderr",
     "output_type": "stream",
     "text": [
      "100 71346  100 71346    0     0   181k      0 --:--:-- --:--:-- --:--:--  182k\n",
      "  % Total    % Received % Xferd  Average Speed   Time    Time     Time  Current\n",
      "                                 Dload  Upload   Total   Spent    Left  Speed\n",
      "  0     0    0     0    0     0      0      0 --:--:-- --:--:-- --:--:--     0"
     ]
    },
    {
     "name": "stdout",
     "output_type": "stream",
     "text": [
      "Downloading https://croptalk-spoi.s3.amazonaws.com/SPOI/22_001_90_0016_20100630.pdf to /Users/katerina/Documents/CropGuard/Dec_demo/demo_knowledge/22_001_90_0016_20100630.pdf\n"
     ]
    },
    {
     "name": "stderr",
     "output_type": "stream",
     "text": [
      "100 71113  100 71113    0     0   190k      0 --:--:-- --:--:-- --:--:--  192k\n",
      "  % Total    % Received % Xferd  Average Speed   Time    Time     Time  Current\n",
      "                                 Dload  Upload   Total   Spent    Left  Speed\n",
      "  0     0    0     0    0     0      0      0 --:--:-- --:--:-- --:--:--     0"
     ]
    },
    {
     "name": "stdout",
     "output_type": "stream",
     "text": [
      "Downloading https://croptalk-spoi.s3.amazonaws.com/SPOI/47_119_90_0016_20100630.pdf to /Users/katerina/Documents/CropGuard/Dec_demo/demo_knowledge/47_119_90_0016_20100630.pdf\n"
     ]
    },
    {
     "name": "stderr",
     "output_type": "stream",
     "text": [
      "100 71146  100 71146    0     0   182k      0 --:--:-- --:--:-- --:--:--  184k\n",
      "  % Total    % Received % Xferd  Average Speed   Time    Time     Time  Current\n",
      "                                 Dload  Upload   Total   Spent    Left  Speed\n",
      "  0     0    0     0    0     0      0      0 --:--:-- --:--:-- --:--:--     0"
     ]
    },
    {
     "name": "stdout",
     "output_type": "stream",
     "text": [
      "Downloading https://croptalk-spoi.s3.amazonaws.com/SPOI/47_115_90_0016_20100630.pdf to /Users/katerina/Documents/CropGuard/Dec_demo/demo_knowledge/47_115_90_0016_20100630.pdf\n"
     ]
    },
    {
     "name": "stderr",
     "output_type": "stream",
     "text": [
      "100 71148  100 71148    0     0   184k      0 --:--:-- --:--:-- --:--:--  185k\n",
      "  % Total    % Received % Xferd  Average Speed   Time    Time     Time  Current\n",
      "                                 Dload  Upload   Total   Spent    Left  Speed\n",
      "  0     0    0     0    0     0      0      0 --:--:-- --:--:-- --:--:--     0"
     ]
    },
    {
     "name": "stdout",
     "output_type": "stream",
     "text": [
      "Downloading https://croptalk-spoi.s3.amazonaws.com/SPOI/47_105_90_0016_20100630.pdf to /Users/katerina/Documents/CropGuard/Dec_demo/demo_knowledge/47_105_90_0016_20100630.pdf\n"
     ]
    },
    {
     "name": "stderr",
     "output_type": "stream",
     "text": [
      "100 71159  100 71159    0     0   197k      0 --:--:-- --:--:-- --:--:--  200k\n",
      "  % Total    % Received % Xferd  Average Speed   Time    Time     Time  Current\n",
      "                                 Dload  Upload   Total   Spent    Left  Speed\n",
      "  0     0    0     0    0     0      0      0 --:--:-- --:--:-- --:--:--     0"
     ]
    },
    {
     "name": "stdout",
     "output_type": "stream",
     "text": [
      "Downloading https://croptalk-spoi.s3.amazonaws.com/SPOI/47_031_90_0016_20100630.pdf to /Users/katerina/Documents/CropGuard/Dec_demo/demo_knowledge/47_031_90_0016_20100630.pdf\n"
     ]
    },
    {
     "name": "stderr",
     "output_type": "stream",
     "text": [
      "100 71119  100 71119    0     0   186k      0 --:--:-- --:--:-- --:--:--  187k\n",
      "  % Total    % Received % Xferd  Average Speed   Time    Time     Time  Current\n",
      "                                 Dload  Upload   Total   Spent    Left  Speed\n",
      "  0     0    0     0    0     0      0      0 --:--:-- --:--:-- --:--:--     0"
     ]
    },
    {
     "name": "stdout",
     "output_type": "stream",
     "text": [
      "Downloading https://croptalk-spoi.s3.amazonaws.com/SPOI/47_155_90_0016_20100630.pdf to /Users/katerina/Documents/CropGuard/Dec_demo/demo_knowledge/47_155_90_0016_20100630.pdf\n"
     ]
    },
    {
     "name": "stderr",
     "output_type": "stream",
     "text": [
      "100 71141  100 71141    0     0   190k      0 --:--:-- --:--:-- --:--:--  191k\n",
      "  % Total    % Received % Xferd  Average Speed   Time    Time     Time  Current\n",
      "                                 Dload  Upload   Total   Spent    Left  Speed\n",
      "  0     0    0     0    0     0      0      0 --:--:-- --:--:-- --:--:--     0"
     ]
    },
    {
     "name": "stdout",
     "output_type": "stream",
     "text": [
      "Downloading https://croptalk-spoi.s3.amazonaws.com/SPOI/18_175_01_0091_20100630.pdf to /Users/katerina/Documents/CropGuard/Dec_demo/demo_knowledge/18_175_01_0091_20100630.pdf\n"
     ]
    },
    {
     "name": "stderr",
     "output_type": "stream",
     "text": [
      "100 73884  100 73884    0     0   163k      0 --:--:-- --:--:-- --:--:--  165k\n",
      "  % Total    % Received % Xferd  Average Speed   Time    Time     Time  Current\n",
      "                                 Dload  Upload   Total   Spent    Left  Speed\n",
      "  0     0    0     0    0     0      0      0 --:--:-- --:--:-- --:--:--     0"
     ]
    },
    {
     "name": "stdout",
     "output_type": "stream",
     "text": [
      "Downloading https://croptalk-spoi.s3.amazonaws.com/SPOI/13_099_01_0015_20100630.pdf to /Users/katerina/Documents/CropGuard/Dec_demo/demo_knowledge/13_099_01_0015_20100630.pdf\n"
     ]
    },
    {
     "name": "stderr",
     "output_type": "stream",
     "text": [
      "100 66252  100 66252    0     0   164k      0 --:--:-- --:--:-- --:--:--  165k\n",
      "  % Total    % Received % Xferd  Average Speed   Time    Time     Time  Current\n",
      "                                 Dload  Upload   Total   Spent    Left  Speed\n",
      "  0     0    0     0    0     0      0      0 --:--:-- --:--:-- --:--:--     0"
     ]
    },
    {
     "name": "stdout",
     "output_type": "stream",
     "text": [
      "Downloading https://croptalk-spoi.s3.amazonaws.com/SPOI/01_061_01_0015_20100630.pdf to /Users/katerina/Documents/CropGuard/Dec_demo/demo_knowledge/01_061_01_0015_20100630.pdf\n"
     ]
    },
    {
     "name": "stderr",
     "output_type": "stream",
     "text": [
      "100 66828  100 66828    0     0   207k      0 --:--:-- --:--:-- --:--:--  209k\n",
      "  % Total    % Received % Xferd  Average Speed   Time    Time     Time  Current\n",
      "                                 Dload  Upload   Total   Spent    Left  Speed\n",
      "  0     0    0     0    0     0      0      0 --:--:-- --:--:-- --:--:--     0"
     ]
    },
    {
     "name": "stdout",
     "output_type": "stream",
     "text": [
      "Downloading https://croptalk-spoi.s3.amazonaws.com/SPOI/13_007_01_0015_20100630.pdf to /Users/katerina/Documents/CropGuard/Dec_demo/demo_knowledge/13_007_01_0015_20100630.pdf\n"
     ]
    },
    {
     "name": "stderr",
     "output_type": "stream",
     "text": [
      "100 66247  100 66247    0     0   187k      0 --:--:-- --:--:-- --:--:--  188k\n",
      "  % Total    % Received % Xferd  Average Speed   Time    Time     Time  Current\n",
      "                                 Dload  Upload   Total   Spent    Left  Speed\n",
      "  0     0    0     0    0     0      0      0 --:--:-- --:--:-- --:--:--     0"
     ]
    },
    {
     "name": "stdout",
     "output_type": "stream",
     "text": [
      "Downloading https://croptalk-spoi.s3.amazonaws.com/SPOI/21_017_01_0091_20100630.pdf to /Users/katerina/Documents/CropGuard/Dec_demo/demo_knowledge/21_017_01_0091_20100630.pdf\n"
     ]
    },
    {
     "name": "stderr",
     "output_type": "stream",
     "text": [
      "100 72362  100 72362    0     0   163k      0 --:--:-- --:--:-- --:--:--  164k\n",
      "  % Total    % Received % Xferd  Average Speed   Time    Time     Time  Current\n",
      "                                 Dload  Upload   Total   Spent    Left  Speed\n",
      "  0     0    0     0    0     0      0      0 --:--:-- --:--:-- --:--:--     0"
     ]
    },
    {
     "name": "stdout",
     "output_type": "stream",
     "text": [
      "Downloading https://croptalk-spoi.s3.amazonaws.com/SPOI/39_007_01_0091_20100630.pdf to /Users/katerina/Documents/CropGuard/Dec_demo/demo_knowledge/39_007_01_0091_20100630.pdf\n"
     ]
    },
    {
     "name": "stderr",
     "output_type": "stream",
     "text": [
      "100 73864  100 73864    0     0   151k      0 --:--:-- --:--:-- --:--:--  151k\n",
      "  % Total    % Received % Xferd  Average Speed   Time    Time     Time  Current\n",
      "                                 Dload  Upload   Total   Spent    Left  Speed\n",
      "  0     0    0     0    0     0      0      0 --:--:-- --:--:-- --:--:--     0"
     ]
    },
    {
     "name": "stdout",
     "output_type": "stream",
     "text": [
      "Downloading https://croptalk-spoi.s3.amazonaws.com/SPOI/29_007_01_0091_20100630.pdf to /Users/katerina/Documents/CropGuard/Dec_demo/demo_knowledge/29_007_01_0091_20100630.pdf\n"
     ]
    },
    {
     "name": "stderr",
     "output_type": "stream",
     "text": [
      "100 73888  100 73888    0     0   162k      0 --:--:-- --:--:-- --:--:--  164k\n",
      "  % Total    % Received % Xferd  Average Speed   Time    Time     Time  Current\n",
      "                                 Dload  Upload   Total   Spent    Left  Speed\n",
      "  0     0    0     0    0     0      0      0 --:--:-- --:--:-- --:--:--     0"
     ]
    },
    {
     "name": "stdout",
     "output_type": "stream",
     "text": [
      "Downloading https://croptalk-spoi.s3.amazonaws.com/SPOI/29_053_01_0091_20100630.pdf to /Users/katerina/Documents/CropGuard/Dec_demo/demo_knowledge/29_053_01_0091_20100630.pdf\n"
     ]
    },
    {
     "name": "stderr",
     "output_type": "stream",
     "text": [
      "100 73861  100 73861    0     0   156k      0 --:--:-- --:--:-- --:--:--  157k\n",
      "  % Total    % Received % Xferd  Average Speed   Time    Time     Time  Current\n",
      "                                 Dload  Upload   Total   Spent    Left  Speed\n",
      "  0     0    0     0    0     0      0      0 --:--:-- --:--:-- --:--:--     0"
     ]
    },
    {
     "name": "stdout",
     "output_type": "stream",
     "text": [
      "Downloading https://croptalk-spoi.s3.amazonaws.com/SPOI/29_105_01_0091_20100630.pdf to /Users/katerina/Documents/CropGuard/Dec_demo/demo_knowledge/29_105_01_0091_20100630.pdf\n"
     ]
    },
    {
     "name": "stderr",
     "output_type": "stream",
     "text": [
      "100 73901  100 73901    0     0   185k      0 --:--:-- --:--:-- --:--:--  187k\n",
      "  % Total    % Received % Xferd  Average Speed   Time    Time     Time  Current\n",
      "                                 Dload  Upload   Total   Spent    Left  Speed\n",
      "  0     0    0     0    0     0      0      0 --:--:-- --:--:-- --:--:--     0"
     ]
    },
    {
     "name": "stdout",
     "output_type": "stream",
     "text": [
      "Downloading https://croptalk-spoi.s3.amazonaws.com/SPOI/29_109_01_0091_20100630.pdf to /Users/katerina/Documents/CropGuard/Dec_demo/demo_knowledge/29_109_01_0091_20100630.pdf\n"
     ]
    },
    {
     "name": "stderr",
     "output_type": "stream",
     "text": [
      "100 73879  100 73879    0     0   164k      0 --:--:-- --:--:-- --:--:--  166k\n",
      "  % Total    % Received % Xferd  Average Speed   Time    Time     Time  Current\n",
      "                                 Dload  Upload   Total   Spent    Left  Speed\n",
      "  0     0    0     0    0     0      0      0 --:--:-- --:--:-- --:--:--     0"
     ]
    },
    {
     "name": "stdout",
     "output_type": "stream",
     "text": [
      "Downloading https://croptalk-spoi.s3.amazonaws.com/SPOI/29_111_01_0091_20100630.pdf to /Users/katerina/Documents/CropGuard/Dec_demo/demo_knowledge/29_111_01_0091_20100630.pdf\n"
     ]
    },
    {
     "name": "stderr",
     "output_type": "stream",
     "text": [
      "100 73918  100 73918    0     0   171k      0 --:--:-- --:--:-- --:--:--  172k\n",
      "  % Total    % Received % Xferd  Average Speed   Time    Time     Time  Current\n",
      "                                 Dload  Upload   Total   Spent    Left  Speed\n",
      "  0     0    0     0    0     0      0      0 --:--:-- --:--:-- --:--:--     0"
     ]
    },
    {
     "name": "stdout",
     "output_type": "stream",
     "text": [
      "Downloading https://croptalk-spoi.s3.amazonaws.com/SPOI/29_125_01_0091_20100630.pdf to /Users/katerina/Documents/CropGuard/Dec_demo/demo_knowledge/29_125_01_0091_20100630.pdf\n"
     ]
    },
    {
     "name": "stderr",
     "output_type": "stream",
     "text": [
      "100 73898  100 73898    0     0   169k      0 --:--:-- --:--:-- --:--:--  171k\n",
      "  % Total    % Received % Xferd  Average Speed   Time    Time     Time  Current\n",
      "                                 Dload  Upload   Total   Spent    Left  Speed\n",
      "  0     0    0     0    0     0      0      0 --:--:-- --:--:-- --:--:--     0"
     ]
    },
    {
     "name": "stdout",
     "output_type": "stream",
     "text": [
      "Downloading https://croptalk-spoi.s3.amazonaws.com/SPOI/29_151_01_0091_20100630.pdf to /Users/katerina/Documents/CropGuard/Dec_demo/demo_knowledge/29_151_01_0091_20100630.pdf\n"
     ]
    },
    {
     "name": "stderr",
     "output_type": "stream",
     "text": [
      "100 73923  100 73923    0     0  68935      0  0:00:01  0:00:01 --:--:-- 69151\n",
      "  % Total    % Received % Xferd  Average Speed   Time    Time     Time  Current\n",
      "                                 Dload  Upload   Total   Spent    Left  Speed\n",
      "  0     0    0     0    0     0      0      0 --:--:-- --:--:-- --:--:--     0"
     ]
    },
    {
     "name": "stdout",
     "output_type": "stream",
     "text": [
      "Downloading https://croptalk-spoi.s3.amazonaws.com/SPOI/29_159_01_0091_20100630.pdf to /Users/katerina/Documents/CropGuard/Dec_demo/demo_knowledge/29_159_01_0091_20100630.pdf\n"
     ]
    },
    {
     "name": "stderr",
     "output_type": "stream",
     "text": [
      "100 73872  100 73872    0     0  55888      0  0:00:01  0:00:01 --:--:-- 56133\n"
     ]
    },
    {
     "name": "stdout",
     "output_type": "stream",
     "text": [
      "Downloading https://croptalk-spoi.s3.amazonaws.com/SPOI/29_163_01_0091_20100630.pdf to /Users/katerina/Documents/CropGuard/Dec_demo/demo_knowledge/29_163_01_0091_20100630.pdf\n"
     ]
    },
    {
     "name": "stderr",
     "output_type": "stream",
     "text": [
      "  % Total    % Received % Xferd  Average Speed   Time    Time     Time  Current\n",
      "                                 Dload  Upload   Total   Spent    Left  Speed\n",
      "100 73931  100 73931    0     0  60032      0  0:00:01  0:00:01 --:--:-- 60204\n",
      "  % Total    % Received % Xferd  Average Speed   Time    Time     Time  Current\n",
      "                                 Dload  Upload   Total   Spent    Left  Speed\n",
      "  0     0    0     0    0     0      0      0 --:--:-- --:--:-- --:--:--     0"
     ]
    },
    {
     "name": "stdout",
     "output_type": "stream",
     "text": [
      "Downloading https://croptalk-spoi.s3.amazonaws.com/SPOI/29_205_01_0091_20100630.pdf to /Users/katerina/Documents/CropGuard/Dec_demo/demo_knowledge/29_205_01_0091_20100630.pdf\n"
     ]
    },
    {
     "name": "stderr",
     "output_type": "stream",
     "text": [
      "100 73931  100 73931    0     0   115k      0 --:--:-- --:--:-- --:--:--  116k\n",
      "  % Total    % Received % Xferd  Average Speed   Time    Time     Time  Current\n",
      "                                 Dload  Upload   Total   Spent    Left  Speed\n",
      "  0     0    0     0    0     0      0      0 --:--:-- --:--:-- --:--:--     0"
     ]
    },
    {
     "name": "stdout",
     "output_type": "stream",
     "text": [
      "Downloading https://croptalk-spoi.s3.amazonaws.com/SPOI/21_105_01_0091_20100630.pdf to /Users/katerina/Documents/CropGuard/Dec_demo/demo_knowledge/21_105_01_0091_20100630.pdf\n"
     ]
    },
    {
     "name": "stderr",
     "output_type": "stream",
     "text": [
      "100 73858  100 73858    0     0   164k      0 --:--:-- --:--:-- --:--:--  165k\n",
      "  % Total    % Received % Xferd  Average Speed   Time    Time     Time  Current\n",
      "                                 Dload  Upload   Total   Spent    Left  Speed\n",
      "  0     0    0     0    0     0      0      0 --:--:-- --:--:-- --:--:--     0"
     ]
    },
    {
     "name": "stdout",
     "output_type": "stream",
     "text": [
      "Downloading https://croptalk-spoi.s3.amazonaws.com/SPOI/21_123_01_0091_20100630.pdf to /Users/katerina/Documents/CropGuard/Dec_demo/demo_knowledge/21_123_01_0091_20100630.pdf\n"
     ]
    },
    {
     "name": "stderr",
     "output_type": "stream",
     "text": [
      "100 73819  100 73819    0     0   157k      0 --:--:-- --:--:-- --:--:--  158k\n",
      "  % Total    % Received % Xferd  Average Speed   Time    Time     Time  Current\n",
      "                                 Dload  Upload   Total   Spent    Left  Speed\n",
      "  0     0    0     0    0     0      0      0 --:--:-- --:--:-- --:--:--     0"
     ]
    },
    {
     "name": "stdout",
     "output_type": "stream",
     "text": [
      "Downloading https://croptalk-spoi.s3.amazonaws.com/SPOI/21_137_01_0091_20100630.pdf to /Users/katerina/Documents/CropGuard/Dec_demo/demo_knowledge/21_137_01_0091_20100630.pdf\n"
     ]
    },
    {
     "name": "stderr",
     "output_type": "stream",
     "text": [
      "100 72379  100 72379    0     0   178k      0 --:--:-- --:--:-- --:--:--  180k\n",
      "  % Total    % Received % Xferd  Average Speed   Time    Time     Time  Current\n",
      "                                 Dload  Upload   Total   Spent    Left  Speed\n",
      "  0     0    0     0    0     0      0      0 --:--:-- --:--:-- --:--:--     0"
     ]
    },
    {
     "name": "stdout",
     "output_type": "stream",
     "text": [
      "Downloading https://croptalk-spoi.s3.amazonaws.com/SPOI/21_163_01_0091_20100630.pdf to /Users/katerina/Documents/CropGuard/Dec_demo/demo_knowledge/21_163_01_0091_20100630.pdf\n"
     ]
    },
    {
     "name": "stderr",
     "output_type": "stream",
     "text": [
      "100 72355  100 72355    0     0   141k      0 --:--:-- --:--:-- --:--:--  142k\n",
      "  % Total    % Received % Xferd  Average Speed   Time    Time     Time  Current\n",
      "                                 Dload  Upload   Total   Spent    Left  Speed\n",
      "  0     0    0     0    0     0      0      0 --:--:-- --:--:-- --:--:--     0"
     ]
    },
    {
     "name": "stdout",
     "output_type": "stream",
     "text": [
      "Downloading https://croptalk-spoi.s3.amazonaws.com/SPOI/21_221_01_0091_20100630.pdf to /Users/katerina/Documents/CropGuard/Dec_demo/demo_knowledge/21_221_01_0091_20100630.pdf\n"
     ]
    },
    {
     "name": "stderr",
     "output_type": "stream",
     "text": [
      "100 72336  100 72336    0     0   167k      0 --:--:-- --:--:-- --:--:--  168k\n",
      "  % Total    % Received % Xferd  Average Speed   Time    Time     Time  Current\n",
      "                                 Dload  Upload   Total   Spent    Left  Speed\n",
      "  0     0    0     0    0     0      0      0 --:--:-- --:--:-- --:--:--     0"
     ]
    },
    {
     "name": "stdout",
     "output_type": "stream",
     "text": [
      "Downloading https://croptalk-spoi.s3.amazonaws.com/SPOI/21_229_01_0091_20100630.pdf to /Users/katerina/Documents/CropGuard/Dec_demo/demo_knowledge/21_229_01_0091_20100630.pdf\n"
     ]
    },
    {
     "name": "stderr",
     "output_type": "stream",
     "text": [
      "100 72381  100 72381    0     0   178k      0 --:--:-- --:--:-- --:--:--  179k\n",
      "  % Total    % Received % Xferd  Average Speed   Time    Time     Time  Current\n",
      "                                 Dload  Upload   Total   Spent    Left  Speed\n",
      "  0     0    0     0    0     0      0      0 --:--:-- --:--:-- --:--:--     0"
     ]
    },
    {
     "name": "stdout",
     "output_type": "stream",
     "text": [
      "Downloading https://croptalk-spoi.s3.amazonaws.com/SPOI/47_133_01_0011_20100630.pdf to /Users/katerina/Documents/CropGuard/Dec_demo/demo_knowledge/47_133_01_0011_20100630.pdf\n"
     ]
    },
    {
     "name": "stderr",
     "output_type": "stream",
     "text": [
      "100 79397  100 79397    0     0   141k      0 --:--:-- --:--:-- --:--:--  142k\n",
      "  % Total    % Received % Xferd  Average Speed   Time    Time     Time  Current\n",
      "                                 Dload  Upload   Total   Spent    Left  Speed\n",
      "  0     0    0     0    0     0      0      0 --:--:-- --:--:-- --:--:--     0"
     ]
    },
    {
     "name": "stdout",
     "output_type": "stream",
     "text": [
      "Downloading https://croptalk-spoi.s3.amazonaws.com/SPOI/47_055_01_0091_20100630.pdf to /Users/katerina/Documents/CropGuard/Dec_demo/demo_knowledge/47_055_01_0091_20100630.pdf\n"
     ]
    },
    {
     "name": "stderr",
     "output_type": "stream",
     "text": [
      "100 72374  100 72374    0     0   169k      0 --:--:-- --:--:-- --:--:--  171k\n",
      "  % Total    % Received % Xferd  Average Speed   Time    Time     Time  Current\n",
      "                                 Dload  Upload   Total   Spent    Left  Speed\n",
      "  0     0    0     0    0     0      0      0 --:--:-- --:--:-- --:--:--     0"
     ]
    },
    {
     "name": "stdout",
     "output_type": "stream",
     "text": [
      "Downloading https://croptalk-spoi.s3.amazonaws.com/SPOI/47_059_01_0091_20100630.pdf to /Users/katerina/Documents/CropGuard/Dec_demo/demo_knowledge/47_059_01_0091_20100630.pdf\n"
     ]
    },
    {
     "name": "stderr",
     "output_type": "stream",
     "text": [
      "100 73839  100 73839    0     0   166k      0 --:--:-- --:--:-- --:--:--  168k\n",
      "  % Total    % Received % Xferd  Average Speed   Time    Time     Time  Current\n",
      "                                 Dload  Upload   Total   Spent    Left  Speed\n",
      "  0     0    0     0    0     0      0      0 --:--:-- --:--:-- --:--:--     0"
     ]
    },
    {
     "name": "stdout",
     "output_type": "stream",
     "text": [
      "Downloading https://croptalk-spoi.s3.amazonaws.com/SPOI/47_107_01_0091_20100630.pdf to /Users/katerina/Documents/CropGuard/Dec_demo/demo_knowledge/47_107_01_0091_20100630.pdf\n"
     ]
    },
    {
     "name": "stderr",
     "output_type": "stream",
     "text": [
      "100 72370  100 72370    0     0   162k      0 --:--:-- --:--:-- --:--:--  163k\n",
      "  % Total    % Received % Xferd  Average Speed   Time    Time     Time  Current\n",
      "                                 Dload  Upload   Total   Spent    Left  Speed\n",
      "  0     0    0     0    0     0      0      0 --:--:-- --:--:-- --:--:--     0"
     ]
    },
    {
     "name": "stdout",
     "output_type": "stream",
     "text": [
      "Downloading https://croptalk-spoi.s3.amazonaws.com/SPOI/47_155_01_0091_20100630.pdf to /Users/katerina/Documents/CropGuard/Dec_demo/demo_knowledge/47_155_01_0091_20100630.pdf\n"
     ]
    },
    {
     "name": "stderr",
     "output_type": "stream",
     "text": [
      "100 72371  100 72371    0     0   157k      0 --:--:-- --:--:-- --:--:--  158k\n",
      "  % Total    % Received % Xferd  Average Speed   Time    Time     Time  Current\n",
      "                                 Dload  Upload   Total   Spent    Left  Speed\n",
      "  0     0    0     0    0     0      0      0 --:--:-- --:--:-- --:--:--     0"
     ]
    },
    {
     "name": "stdout",
     "output_type": "stream",
     "text": [
      "Downloading https://croptalk-spoi.s3.amazonaws.com/SPOI/47_169_01_0091_20100630.pdf to /Users/katerina/Documents/CropGuard/Dec_demo/demo_knowledge/47_169_01_0091_20100630.pdf\n"
     ]
    },
    {
     "name": "stderr",
     "output_type": "stream",
     "text": [
      "100 72388  100 72388    0     0   154k      0 --:--:-- --:--:-- --:--:--  155k\n",
      "  % Total    % Received % Xferd  Average Speed   Time    Time     Time  Current\n",
      "                                 Dload  Upload   Total   Spent    Left  Speed\n",
      "  0     0    0     0    0     0      0      0 --:--:-- --:--:-- --:--:--     0"
     ]
    },
    {
     "name": "stdout",
     "output_type": "stream",
     "text": [
      "Downloading https://croptalk-spoi.s3.amazonaws.com/SPOI/47_177_01_0091_20100630.pdf to /Users/katerina/Documents/CropGuard/Dec_demo/demo_knowledge/47_177_01_0091_20100630.pdf\n"
     ]
    },
    {
     "name": "stderr",
     "output_type": "stream",
     "text": [
      "100 72374  100 72374    0     0   135k      0 --:--:-- --:--:-- --:--:--  136k\n",
      "  % Total    % Received % Xferd  Average Speed   Time    Time     Time  Current\n",
      "                                 Dload  Upload   Total   Spent    Left  Speed\n",
      "  0     0    0     0    0     0      0      0 --:--:-- --:--:-- --:--:--     0"
     ]
    },
    {
     "name": "stdout",
     "output_type": "stream",
     "text": [
      "Downloading https://croptalk-spoi.s3.amazonaws.com/SPOI/21_201_01_0011_20100630.pdf to /Users/katerina/Documents/CropGuard/Dec_demo/demo_knowledge/21_201_01_0011_20100630.pdf\n"
     ]
    },
    {
     "name": "stderr",
     "output_type": "stream",
     "text": [
      "100 79388  100 79388    0     0   166k      0 --:--:-- --:--:-- --:--:--  168k\n",
      "  % Total    % Received % Xferd  Average Speed   Time    Time     Time  Current\n",
      "                                 Dload  Upload   Total   Spent    Left  Speed\n",
      "  0     0    0     0    0     0      0      0 --:--:-- --:--:-- --:--:--     0"
     ]
    },
    {
     "name": "stdout",
     "output_type": "stream",
     "text": [
      "Downloading https://croptalk-spoi.s3.amazonaws.com/SPOI/22_005_01_0011_20100630.pdf to /Users/katerina/Documents/CropGuard/Dec_demo/demo_knowledge/22_005_01_0011_20100630.pdf\n"
     ]
    },
    {
     "name": "stderr",
     "output_type": "stream",
     "text": [
      "100 79413  100 79413    0     0   179k      0 --:--:-- --:--:-- --:--:--  179k\n",
      "  % Total    % Received % Xferd  Average Speed   Time    Time     Time  Current\n",
      "                                 Dload  Upload   Total   Spent    Left  Speed\n",
      "  0     0    0     0    0     0      0      0 --:--:-- --:--:-- --:--:--     0"
     ]
    },
    {
     "name": "stdout",
     "output_type": "stream",
     "text": [
      "Downloading https://croptalk-spoi.s3.amazonaws.com/SPOI/21_191_01_0011_20100630.pdf to /Users/katerina/Documents/CropGuard/Dec_demo/demo_knowledge/21_191_01_0011_20100630.pdf\n"
     ]
    },
    {
     "name": "stderr",
     "output_type": "stream",
     "text": [
      "100 79413  100 79413    0     0   160k      0 --:--:-- --:--:-- --:--:--  162k\n",
      "  % Total    % Received % Xferd  Average Speed   Time    Time     Time  Current\n",
      "                                 Dload  Upload   Total   Spent    Left  Speed\n",
      "  0     0    0     0    0     0      0      0 --:--:-- --:--:-- --:--:--     0"
     ]
    },
    {
     "name": "stdout",
     "output_type": "stream",
     "text": [
      "Downloading https://croptalk-spoi.s3.amazonaws.com/SPOI/21_187_01_0011_20100630.pdf to /Users/katerina/Documents/CropGuard/Dec_demo/demo_knowledge/21_187_01_0011_20100630.pdf\n"
     ]
    },
    {
     "name": "stderr",
     "output_type": "stream",
     "text": [
      "100 79398  100 79398    0     0   186k      0 --:--:-- --:--:-- --:--:--  188k\n",
      "  % Total    % Received % Xferd  Average Speed   Time    Time     Time  Current\n",
      "                                 Dload  Upload   Total   Spent    Left  Speed\n",
      "  0     0    0     0    0     0      0      0 --:--:-- --:--:-- --:--:--     0"
     ]
    },
    {
     "name": "stdout",
     "output_type": "stream",
     "text": [
      "Downloading https://croptalk-spoi.s3.amazonaws.com/SPOI/21_137_01_0011_20100630.pdf to /Users/katerina/Documents/CropGuard/Dec_demo/demo_knowledge/21_137_01_0011_20100630.pdf\n"
     ]
    },
    {
     "name": "stderr",
     "output_type": "stream",
     "text": [
      "100 79424  100 79424    0     0   174k      0 --:--:-- --:--:-- --:--:--  175k\n",
      "  % Total    % Received % Xferd  Average Speed   Time    Time     Time  Current\n",
      "                                 Dload  Upload   Total   Spent    Left  Speed\n",
      "  0     0    0     0    0     0      0      0 --:--:-- --:--:-- --:--:--     0"
     ]
    },
    {
     "name": "stdout",
     "output_type": "stream",
     "text": [
      "Downloading https://croptalk-spoi.s3.amazonaws.com/SPOI/21_169_01_0011_20100630.pdf to /Users/katerina/Documents/CropGuard/Dec_demo/demo_knowledge/21_169_01_0011_20100630.pdf\n"
     ]
    },
    {
     "name": "stderr",
     "output_type": "stream",
     "text": [
      "100 79421  100 79421    0     0   172k      0 --:--:-- --:--:-- --:--:--  173k\n",
      "  % Total    % Received % Xferd  Average Speed   Time    Time     Time  Current\n",
      "                                 Dload  Upload   Total   Spent    Left  Speed\n",
      "  0     0    0     0    0     0      0      0 --:--:-- --:--:-- --:--:--     0"
     ]
    },
    {
     "name": "stdout",
     "output_type": "stream",
     "text": [
      "Downloading https://croptalk-spoi.s3.amazonaws.com/SPOI/21_171_01_0011_20100630.pdf to /Users/katerina/Documents/CropGuard/Dec_demo/demo_knowledge/21_171_01_0011_20100630.pdf\n"
     ]
    },
    {
     "name": "stderr",
     "output_type": "stream",
     "text": [
      "100 79411  100 79411    0     0   147k      0 --:--:-- --:--:-- --:--:--  149k\n",
      "  % Total    % Received % Xferd  Average Speed   Time    Time     Time  Current\n",
      "                                 Dload  Upload   Total   Spent    Left  Speed\n",
      "  0     0    0     0    0     0      0      0 --:--:-- --:--:-- --:--:--     0"
     ]
    },
    {
     "name": "stdout",
     "output_type": "stream",
     "text": [
      "Downloading https://croptalk-spoi.s3.amazonaws.com/SPOI/22_127_01_0011_20100630.pdf to /Users/katerina/Documents/CropGuard/Dec_demo/demo_knowledge/22_127_01_0011_20100630.pdf\n"
     ]
    },
    {
     "name": "stderr",
     "output_type": "stream",
     "text": [
      "100 79413  100 79413    0     0   174k      0 --:--:-- --:--:-- --:--:--  176k\n",
      "  % Total    % Received % Xferd  Average Speed   Time    Time     Time  Current\n",
      "                                 Dload  Upload   Total   Spent    Left  Speed\n",
      "  0     0    0     0    0     0      0      0 --:--:-- --:--:-- --:--:--     0"
     ]
    },
    {
     "name": "stdout",
     "output_type": "stream",
     "text": [
      "Downloading https://croptalk-spoi.s3.amazonaws.com/SPOI/22_119_01_0011_20100630.pdf to /Users/katerina/Documents/CropGuard/Dec_demo/demo_knowledge/22_119_01_0011_20100630.pdf\n"
     ]
    },
    {
     "name": "stderr",
     "output_type": "stream",
     "text": [
      "100 79423  100 79423    0     0   146k      0 --:--:-- --:--:-- --:--:--  148k\n",
      "  % Total    % Received % Xferd  Average Speed   Time    Time     Time  Current\n",
      "                                 Dload  Upload   Total   Spent    Left  Speed\n",
      "  0     0    0     0    0     0      0      0 --:--:-- --:--:-- --:--:--     0"
     ]
    },
    {
     "name": "stdout",
     "output_type": "stream",
     "text": [
      "Downloading https://croptalk-spoi.s3.amazonaws.com/SPOI/22_027_01_0011_20100630.pdf to /Users/katerina/Documents/CropGuard/Dec_demo/demo_knowledge/22_027_01_0011_20100630.pdf\n"
     ]
    },
    {
     "name": "stderr",
     "output_type": "stream",
     "text": [
      "100 79403  100 79403    0     0   174k      0 --:--:-- --:--:-- --:--:--  175k\n",
      "  % Total    % Received % Xferd  Average Speed   Time    Time     Time  Current\n",
      "                                 Dload  Upload   Total   Spent    Left  Speed\n",
      "  0     0    0     0    0     0      0      0 --:--:-- --:--:-- --:--:--     0"
     ]
    },
    {
     "name": "stdout",
     "output_type": "stream",
     "text": [
      "Downloading https://croptalk-spoi.s3.amazonaws.com/SPOI/22_091_01_0011_20100630.pdf to /Users/katerina/Documents/CropGuard/Dec_demo/demo_knowledge/22_091_01_0011_20100630.pdf\n"
     ]
    },
    {
     "name": "stderr",
     "output_type": "stream",
     "text": [
      "100 79392  100 79392    0     0  67770      0  0:00:01  0:00:01 --:--:-- 67972\n",
      "  % Total    % Received % Xferd  Average Speed   Time    Time     Time  Current\n",
      "                                 Dload  Upload   Total   Spent    Left  Speed\n",
      "  0     0    0     0    0     0      0      0 --:--:-- --:--:-- --:--:--     0"
     ]
    },
    {
     "name": "stdout",
     "output_type": "stream",
     "text": [
      "Downloading https://croptalk-spoi.s3.amazonaws.com/SPOI/21_023_01_0011_20100630.pdf to /Users/katerina/Documents/CropGuard/Dec_demo/demo_knowledge/21_023_01_0011_20100630.pdf\n"
     ]
    },
    {
     "name": "stderr",
     "output_type": "stream",
     "text": [
      "100 79390  100 79390    0     0  67309      0  0:00:01  0:00:01 --:--:-- 67508\n",
      "  % Total    % Received % Xferd  Average Speed   Time    Time     Time  Current\n",
      "                                 Dload  Upload   Total   Spent    Left  Speed\n",
      "  0     0    0     0    0     0      0      0 --:--:-- --:--:-- --:--:--     0"
     ]
    },
    {
     "name": "stdout",
     "output_type": "stream",
     "text": [
      "Downloading https://croptalk-spoi.s3.amazonaws.com/SPOI/21_041_01_0011_20100630.pdf to /Users/katerina/Documents/CropGuard/Dec_demo/demo_knowledge/21_041_01_0011_20100630.pdf\n"
     ]
    },
    {
     "name": "stderr",
     "output_type": "stream",
     "text": [
      "100 79387  100 79387    0     0  82230      0 --:--:-- --:--:-- --:--:-- 82608\n",
      "  % Total    % Received % Xferd  Average Speed   Time    Time     Time  Current\n",
      "                                 Dload  Upload   Total   Spent    Left  Speed\n",
      "  0     0    0     0    0     0      0      0 --:--:-- --:--:-- --:--:--     0"
     ]
    },
    {
     "name": "stdout",
     "output_type": "stream",
     "text": [
      "Downloading https://croptalk-spoi.s3.amazonaws.com/SPOI/21_079_01_0011_20100630.pdf to /Users/katerina/Documents/CropGuard/Dec_demo/demo_knowledge/21_079_01_0011_20100630.pdf\n"
     ]
    },
    {
     "name": "stderr",
     "output_type": "stream",
     "text": [
      "100 79416  100 79416    0     0   121k      0 --:--:-- --:--:-- --:--:--  122k\n",
      "  % Total    % Received % Xferd  Average Speed   Time    Time     Time  Current\n",
      "                                 Dload  Upload   Total   Spent    Left  Speed\n",
      "  0     0    0     0    0     0      0      0 --:--:-- --:--:-- --:--:--     0"
     ]
    },
    {
     "name": "stdout",
     "output_type": "stream",
     "text": [
      "Downloading https://croptalk-spoi.s3.amazonaws.com/SPOI/05_125_01_0011_20100630.pdf to /Users/katerina/Documents/CropGuard/Dec_demo/demo_knowledge/05_125_01_0011_20100630.pdf\n"
     ]
    },
    {
     "name": "stderr",
     "output_type": "stream",
     "text": [
      "100 79344  100 79344    0     0   184k      0 --:--:-- --:--:-- --:--:--  186k\n",
      "  % Total    % Received % Xferd  Average Speed   Time    Time     Time  Current\n",
      "                                 Dload  Upload   Total   Spent    Left  Speed\n",
      "  0     0    0     0    0     0      0      0 --:--:-- --:--:-- --:--:--     0"
     ]
    },
    {
     "name": "stdout",
     "output_type": "stream",
     "text": [
      "Downloading https://croptalk-spoi.s3.amazonaws.com/SPOI/05_039_01_0011_20100630.pdf to /Users/katerina/Documents/CropGuard/Dec_demo/demo_knowledge/05_039_01_0011_20100630.pdf\n"
     ]
    },
    {
     "name": "stderr",
     "output_type": "stream",
     "text": [
      "100 79582  100 79582    0     0   194k      0 --:--:-- --:--:-- --:--:--  196k\n"
     ]
    },
    {
     "name": "stdout",
     "output_type": "stream",
     "text": [
      "Downloading https://croptalk-spoi.s3.amazonaws.com/SPOI/05_057_01_0011_20100630.pdf to /Users/katerina/Documents/CropGuard/Dec_demo/demo_knowledge/05_057_01_0011_20100630.pdf\n"
     ]
    },
    {
     "name": "stderr",
     "output_type": "stream",
     "text": [
      "  % Total    % Received % Xferd  Average Speed   Time    Time     Time  Current\n",
      "                                 Dload  Upload   Total   Spent    Left  Speed\n",
      "100 79645  100 79645    0     0   181k      0 --:--:-- --:--:-- --:--:--  183k\n",
      "  % Total    % Received % Xferd  Average Speed   Time    Time     Time  Current\n",
      "                                 Dload  Upload   Total   Spent    Left  Speed\n",
      "  0     0    0     0    0     0      0      0 --:--:-- --:--:-- --:--:--     0"
     ]
    },
    {
     "name": "stdout",
     "output_type": "stream",
     "text": [
      "Downloading https://croptalk-spoi.s3.amazonaws.com/SPOI/05_061_01_0011_20100630.pdf to /Users/katerina/Documents/CropGuard/Dec_demo/demo_knowledge/05_061_01_0011_20100630.pdf\n"
     ]
    },
    {
     "name": "stderr",
     "output_type": "stream",
     "text": [
      "100 79377  100 79377    0     0   156k      0 --:--:-- --:--:-- --:--:--  156k\n",
      "  % Total    % Received % Xferd  Average Speed   Time    Time     Time  Current\n",
      "                                 Dload  Upload   Total   Spent    Left  Speed\n",
      "  0     0    0     0    0     0      0      0 --:--:-- --:--:-- --:--:--     0"
     ]
    },
    {
     "name": "stdout",
     "output_type": "stream",
     "text": [
      "Downloading https://croptalk-spoi.s3.amazonaws.com/SPOI/05_025_01_0011_20100630.pdf to /Users/katerina/Documents/CropGuard/Dec_demo/demo_knowledge/05_025_01_0011_20100630.pdf\n"
     ]
    },
    {
     "name": "stderr",
     "output_type": "stream",
     "text": [
      "100 79613  100 79613    0     0   175k      0 --:--:-- --:--:-- --:--:--  176k\n",
      "  % Total    % Received % Xferd  Average Speed   Time    Time     Time  Current\n",
      "                                 Dload  Upload   Total   Spent    Left  Speed\n",
      "  0     0    0     0    0     0      0      0 --:--:-- --:--:-- --:--:--     0"
     ]
    },
    {
     "name": "stdout",
     "output_type": "stream",
     "text": [
      "Downloading https://croptalk-spoi.s3.amazonaws.com/SPOI/05_023_01_0011_20100630.pdf to /Users/katerina/Documents/CropGuard/Dec_demo/demo_knowledge/05_023_01_0011_20100630.pdf\n"
     ]
    },
    {
     "name": "stderr",
     "output_type": "stream",
     "text": [
      "100 79358  100 79358    0     0   175k      0 --:--:-- --:--:-- --:--:--  177k\n",
      "  % Total    % Received % Xferd  Average Speed   Time    Time     Time  Current\n",
      "                                 Dload  Upload   Total   Spent    Left  Speed\n",
      "  0     0    0     0    0     0      0      0 --:--:-- --:--:-- --:--:--     0"
     ]
    },
    {
     "name": "stdout",
     "output_type": "stream",
     "text": [
      "Downloading https://croptalk-spoi.s3.amazonaws.com/SPOI/05_011_01_0011_20100630.pdf to /Users/katerina/Documents/CropGuard/Dec_demo/demo_knowledge/05_011_01_0011_20100630.pdf\n"
     ]
    },
    {
     "name": "stderr",
     "output_type": "stream",
     "text": [
      "100 79609  100 79609    0     0   163k      0 --:--:-- --:--:-- --:--:--  165k\n",
      "  % Total    % Received % Xferd  Average Speed   Time    Time     Time  Current\n",
      "                                 Dload  Upload   Total   Spent    Left  Speed\n",
      "  0     0    0     0    0     0      0      0 --:--:-- --:--:-- --:--:--     0"
     ]
    },
    {
     "name": "stdout",
     "output_type": "stream",
     "text": [
      "Downloading https://croptalk-spoi.s3.amazonaws.com/SPOI/05_013_01_0011_20100630.pdf to /Users/katerina/Documents/CropGuard/Dec_demo/demo_knowledge/05_013_01_0011_20100630.pdf\n"
     ]
    },
    {
     "name": "stderr",
     "output_type": "stream",
     "text": [
      "100 79613  100 79613    0     0   188k      0 --:--:-- --:--:-- --:--:--  189k\n",
      "  % Total    % Received % Xferd  Average Speed   Time    Time     Time  Current\n",
      "                                 Dload  Upload   Total   Spent    Left  Speed\n",
      "  0     0    0     0    0     0      0      0 --:--:-- --:--:-- --:--:--     0"
     ]
    },
    {
     "name": "stdout",
     "output_type": "stream",
     "text": [
      "Downloading https://croptalk-spoi.s3.amazonaws.com/SPOI/47_049_01_0011_20100630.pdf to /Users/katerina/Documents/CropGuard/Dec_demo/demo_knowledge/47_049_01_0011_20100630.pdf\n"
     ]
    },
    {
     "name": "stderr",
     "output_type": "stream",
     "text": [
      "100 79416  100 79416    0     0   151k      0 --:--:-- --:--:-- --:--:--  152k\n",
      "  % Total    % Received % Xferd  Average Speed   Time    Time     Time  Current\n",
      "                                 Dload  Upload   Total   Spent    Left  Speed\n",
      "  0     0    0     0    0     0      0      0 --:--:-- --:--:-- --:--:--     0"
     ]
    },
    {
     "name": "stdout",
     "output_type": "stream",
     "text": [
      "Downloading https://croptalk-spoi.s3.amazonaws.com/SPOI/47_057_01_0011_20100630.pdf to /Users/katerina/Documents/CropGuard/Dec_demo/demo_knowledge/47_057_01_0011_20100630.pdf\n"
     ]
    },
    {
     "name": "stderr",
     "output_type": "stream",
     "text": [
      "100 79411  100 79411    0     0   161k      0 --:--:-- --:--:-- --:--:--  162k\n",
      "  % Total    % Received % Xferd  Average Speed   Time    Time     Time  Current\n",
      "                                 Dload  Upload   Total   Spent    Left  Speed\n",
      "  0     0    0     0    0     0      0      0 --:--:-- --:--:-- --:--:--     0"
     ]
    },
    {
     "name": "stdout",
     "output_type": "stream",
     "text": [
      "Downloading https://croptalk-spoi.s3.amazonaws.com/SPOI/28_097_01_0011_20100630.pdf to /Users/katerina/Documents/CropGuard/Dec_demo/demo_knowledge/28_097_01_0011_20100630.pdf\n"
     ]
    },
    {
     "name": "stderr",
     "output_type": "stream",
     "text": [
      "100 79699  100 79699    0     0   155k      0 --:--:-- --:--:-- --:--:--  156k\n",
      "  % Total    % Received % Xferd  Average Speed   Time    Time     Time  Current\n",
      "                                 Dload  Upload   Total   Spent    Left  Speed\n",
      "  0     0    0     0    0     0      0      0 --:--:-- --:--:-- --:--:--     0"
     ]
    },
    {
     "name": "stdout",
     "output_type": "stream",
     "text": [
      "Downloading https://croptalk-spoi.s3.amazonaws.com/SPOI/28_099_01_0011_20100630.pdf to /Users/katerina/Documents/CropGuard/Dec_demo/demo_knowledge/28_099_01_0011_20100630.pdf\n"
     ]
    },
    {
     "name": "stderr",
     "output_type": "stream",
     "text": [
      "100 79682  100 79682    0     0   168k      0 --:--:-- --:--:-- --:--:--  169k\n",
      "  % Total    % Received % Xferd  Average Speed   Time    Time     Time  Current\n",
      "                                 Dload  Upload   Total   Spent    Left  Speed\n",
      "  0     0    0     0    0     0      0      0 --:--:-- --:--:-- --:--:--     0"
     ]
    },
    {
     "name": "stdout",
     "output_type": "stream",
     "text": [
      "Downloading https://croptalk-spoi.s3.amazonaws.com/SPOI/28_109_01_0011_20100630.pdf to /Users/katerina/Documents/CropGuard/Dec_demo/demo_knowledge/28_109_01_0011_20100630.pdf\n"
     ]
    },
    {
     "name": "stderr",
     "output_type": "stream",
     "text": [
      "100 79815  100 79815    0     0   163k      0 --:--:-- --:--:-- --:--:--  164k\n",
      "  % Total    % Received % Xferd  Average Speed   Time    Time     Time  Current\n",
      "                                 Dload  Upload   Total   Spent    Left  Speed\n",
      "  0     0    0     0    0     0      0      0 --:--:-- --:--:-- --:--:--     0"
     ]
    },
    {
     "name": "stdout",
     "output_type": "stream",
     "text": [
      "Downloading https://croptalk-spoi.s3.amazonaws.com/SPOI/28_131_01_0011_20100630.pdf to /Users/katerina/Documents/CropGuard/Dec_demo/demo_knowledge/28_131_01_0011_20100630.pdf\n"
     ]
    },
    {
     "name": "stderr",
     "output_type": "stream",
     "text": [
      "100 79404  100 79404    0     0   174k      0 --:--:-- --:--:-- --:--:--  175k\n",
      "  % Total    % Received % Xferd  Average Speed   Time    Time     Time  Current\n",
      "                                 Dload  Upload   Total   Spent    Left  Speed\n",
      "  0     0    0     0    0     0      0      0 --:--:-- --:--:-- --:--:--     0"
     ]
    },
    {
     "name": "stdout",
     "output_type": "stream",
     "text": [
      "Downloading https://croptalk-spoi.s3.amazonaws.com/SPOI/26_019_01_0011_20100630.pdf to /Users/katerina/Documents/CropGuard/Dec_demo/demo_knowledge/26_019_01_0011_20100630.pdf\n"
     ]
    },
    {
     "name": "stderr",
     "output_type": "stream",
     "text": [
      "100 79126  100 79126    0     0   186k      0 --:--:-- --:--:-- --:--:--  188k\n",
      "  % Total    % Received % Xferd  Average Speed   Time    Time     Time  Current\n",
      "                                 Dload  Upload   Total   Spent    Left  Speed\n",
      "  0     0    0     0    0     0      0      0 --:--:-- --:--:-- --:--:--     0"
     ]
    },
    {
     "name": "stdout",
     "output_type": "stream",
     "text": [
      "Downloading https://croptalk-spoi.s3.amazonaws.com/SPOI/26_029_01_0011_20100630.pdf to /Users/katerina/Documents/CropGuard/Dec_demo/demo_knowledge/26_029_01_0011_20100630.pdf\n"
     ]
    },
    {
     "name": "stderr",
     "output_type": "stream",
     "text": [
      "100 79144  100 79144    0     0   156k      0 --:--:-- --:--:-- --:--:--  157k\n",
      "  % Total    % Received % Xferd  Average Speed   Time    Time     Time  Current\n",
      "                                 Dload  Upload   Total   Spent    Left  Speed\n",
      "  0     0    0     0    0     0      0      0 --:--:-- --:--:-- --:--:--     0"
     ]
    },
    {
     "name": "stdout",
     "output_type": "stream",
     "text": [
      "Downloading https://croptalk-spoi.s3.amazonaws.com/SPOI/28_035_01_0011_20100630.pdf to /Users/katerina/Documents/CropGuard/Dec_demo/demo_knowledge/28_035_01_0011_20100630.pdf\n"
     ]
    },
    {
     "name": "stderr",
     "output_type": "stream",
     "text": [
      "100 79386  100 79386    0     0   188k      0 --:--:-- --:--:-- --:--:--  190k\n",
      "  % Total    % Received % Xferd  Average Speed   Time    Time     Time  Current\n",
      "                                 Dload  Upload   Total   Spent    Left  Speed\n",
      "  0     0    0     0    0     0      0      0 --:--:-- --:--:-- --:--:--     0"
     ]
    },
    {
     "name": "stdout",
     "output_type": "stream",
     "text": [
      "Downloading https://croptalk-spoi.s3.amazonaws.com/SPOI/28_045_01_0011_20100630.pdf to /Users/katerina/Documents/CropGuard/Dec_demo/demo_knowledge/28_045_01_0011_20100630.pdf\n"
     ]
    },
    {
     "name": "stderr",
     "output_type": "stream",
     "text": [
      "100 79798  100 79798    0     0   123k      0 --:--:-- --:--:-- --:--:--  124k\n",
      "  % Total    % Received % Xferd  Average Speed   Time    Time     Time  Current\n",
      "                                 Dload  Upload   Total   Spent    Left  Speed\n",
      "  0     0    0     0    0     0      0      0 --:--:-- --:--:-- --:--:--     0"
     ]
    },
    {
     "name": "stdout",
     "output_type": "stream",
     "text": [
      "Downloading https://croptalk-spoi.s3.amazonaws.com/SPOI/28_047_01_0011_20100630.pdf to /Users/katerina/Documents/CropGuard/Dec_demo/demo_knowledge/28_047_01_0011_20100630.pdf\n"
     ]
    },
    {
     "name": "stderr",
     "output_type": "stream",
     "text": [
      "100 79403  100 79403    0     0   141k      0 --:--:-- --:--:-- --:--:--  142k\n",
      "  % Total    % Received % Xferd  Average Speed   Time    Time     Time  Current\n",
      "                                 Dload  Upload   Total   Spent    Left  Speed\n",
      "  0     0    0     0    0     0      0      0 --:--:-- --:--:-- --:--:--     0"
     ]
    },
    {
     "name": "stdout",
     "output_type": "stream",
     "text": [
      "Downloading https://croptalk-spoi.s3.amazonaws.com/SPOI/28_059_01_0011_20100630.pdf to /Users/katerina/Documents/CropGuard/Dec_demo/demo_knowledge/28_059_01_0011_20100630.pdf\n"
     ]
    },
    {
     "name": "stderr",
     "output_type": "stream",
     "text": [
      "100 79408  100 79408    0     0   132k      0 --:--:-- --:--:-- --:--:--  133k\n",
      "  % Total    % Received % Xferd  Average Speed   Time    Time     Time  Current\n",
      "                                 Dload  Upload   Total   Spent    Left  Speed\n",
      "  0     0    0     0    0     0      0      0 --:--:-- --:--:-- --:--:--     0"
     ]
    },
    {
     "name": "stdout",
     "output_type": "stream",
     "text": [
      "Downloading https://croptalk-spoi.s3.amazonaws.com/SPOI/28_061_01_0011_20100630.pdf to /Users/katerina/Documents/CropGuard/Dec_demo/demo_knowledge/28_061_01_0011_20100630.pdf\n"
     ]
    },
    {
     "name": "stderr",
     "output_type": "stream",
     "text": [
      "100 79415  100 79415    0     0   190k      0 --:--:-- --:--:-- --:--:--  192k\n",
      "  % Total    % Received % Xferd  Average Speed   Time    Time     Time  Current\n",
      "                                 Dload  Upload   Total   Spent    Left  Speed\n",
      "  0     0    0     0    0     0      0      0 --:--:-- --:--:-- --:--:--     0"
     ]
    },
    {
     "name": "stdout",
     "output_type": "stream",
     "text": [
      "Downloading https://croptalk-spoi.s3.amazonaws.com/SPOI/28_069_01_0011_20100630.pdf to /Users/katerina/Documents/CropGuard/Dec_demo/demo_knowledge/28_069_01_0011_20100630.pdf\n"
     ]
    },
    {
     "name": "stderr",
     "output_type": "stream",
     "text": [
      "100 79405  100 79405    0     0   156k      0 --:--:-- --:--:-- --:--:--  157k\n",
      "  % Total    % Received % Xferd  Average Speed   Time    Time     Time  Current\n",
      "                                 Dload  Upload   Total   Spent    Left  Speed\n",
      "  0     0    0     0    0     0      0      0 --:--:-- --:--:-- --:--:--     0"
     ]
    },
    {
     "name": "stdout",
     "output_type": "stream",
     "text": [
      "Downloading https://croptalk-spoi.s3.amazonaws.com/SPOI/28_079_01_0011_20100630.pdf to /Users/katerina/Documents/CropGuard/Dec_demo/demo_knowledge/28_079_01_0011_20100630.pdf\n"
     ]
    },
    {
     "name": "stderr",
     "output_type": "stream",
     "text": [
      "100 79667  100 79667    0     0   115k      0 --:--:-- --:--:-- --:--:--  116k\n",
      "  % Total    % Received % Xferd  Average Speed   Time    Time     Time  Current\n",
      "                                 Dload  Upload   Total   Spent    Left  Speed\n",
      "  0     0    0     0    0     0      0      0 --:--:-- --:--:-- --:--:--     0"
     ]
    },
    {
     "name": "stdout",
     "output_type": "stream",
     "text": [
      "Downloading https://croptalk-spoi.s3.amazonaws.com/SPOI/28_019_01_0011_20100630.pdf to /Users/katerina/Documents/CropGuard/Dec_demo/demo_knowledge/28_019_01_0011_20100630.pdf\n"
     ]
    },
    {
     "name": "stderr",
     "output_type": "stream",
     "text": [
      "100 79665  100 79665    0     0  52276      0  0:00:01  0:00:01 --:--:-- 52376\n",
      "  % Total    % Received % Xferd  Average Speed   Time    Time     Time  Current\n",
      "                                 Dload  Upload   Total   Spent    Left  Speed\n",
      "  0     0    0     0    0     0      0      0 --:--:-- --:--:-- --:--:--     0"
     ]
    },
    {
     "name": "stdout",
     "output_type": "stream",
     "text": [
      "Downloading https://croptalk-spoi.s3.amazonaws.com/SPOI/28_023_01_0011_20100630.pdf to /Users/katerina/Documents/CropGuard/Dec_demo/demo_knowledge/28_023_01_0011_20100630.pdf\n"
     ]
    },
    {
     "name": "stderr",
     "output_type": "stream",
     "text": [
      "100 79383  100 79383    0     0  67023      0  0:00:01  0:00:01 --:--:-- 67273\n",
      "  % Total    % Received % Xferd  Average Speed   Time    Time     Time  Current\n",
      "                                 Dload  Upload   Total   Spent    Left  Speed\n",
      "  0     0    0     0    0     0      0      0 --:--:-- --:--:-- --:--:--     0"
     ]
    },
    {
     "name": "stdout",
     "output_type": "stream",
     "text": [
      "Downloading https://croptalk-spoi.s3.amazonaws.com/SPOI/01_097_90_0084_20100930.pdf to /Users/katerina/Documents/CropGuard/Dec_demo/demo_knowledge/01_097_90_0084_20100930.pdf\n"
     ]
    },
    {
     "name": "stderr",
     "output_type": "stream",
     "text": [
      "100  4665  100  4665    0     0   8747      0 --:--:-- --:--:-- --:--:--  8801\n",
      "  % Total    % Received % Xferd  Average Speed   Time    Time     Time  Current\n",
      "                                 Dload  Upload   Total   Spent    Left  Speed\n",
      "  0     0    0     0    0     0      0      0 --:--:-- --:--:-- --:--:--     0"
     ]
    },
    {
     "name": "stdout",
     "output_type": "stream",
     "text": [
      "Downloading https://croptalk-spoi.s3.amazonaws.com/SPOI/04_011_41_0020_20101031.pdf to /Users/katerina/Documents/CropGuard/Dec_demo/demo_knowledge/04_011_41_0020_20101031.pdf\n"
     ]
    },
    {
     "name": "stderr",
     "output_type": "stream",
     "text": [
      "100  3889  100  3889    0     0   7199      0 --:--:-- --:--:-- --:--:--  7242\n",
      "  % Total    % Received % Xferd  Average Speed   Time    Time     Time  Current\n",
      "                                 Dload  Upload   Total   Spent    Left  Speed\n",
      "  0     0    0     0    0     0      0      0 --:--:-- --:--:-- --:--:--     0"
     ]
    },
    {
     "name": "stdout",
     "output_type": "stream",
     "text": [
      "Downloading https://croptalk-spoi.s3.amazonaws.com/SPOI/31_157_01_0091_20101130.pdf to /Users/katerina/Documents/CropGuard/Dec_demo/demo_knowledge/31_157_01_0091_20101130.pdf\n"
     ]
    },
    {
     "name": "stderr",
     "output_type": "stream",
     "text": [
      "100 37331  100 37331    0     0   107k      0 --:--:-- --:--:-- --:--:--  109k\n",
      "  % Total    % Received % Xferd  Average Speed   Time    Time     Time  Current\n",
      "                                 Dload  Upload   Total   Spent    Left  Speed\n",
      "  0     0    0     0    0     0      0      0 --:--:-- --:--:-- --:--:--     0"
     ]
    },
    {
     "name": "stdout",
     "output_type": "stream",
     "text": [
      "Downloading https://croptalk-spoi.s3.amazonaws.com/SPOI/31_135_01_0091_20101130.pdf to /Users/katerina/Documents/CropGuard/Dec_demo/demo_knowledge/31_135_01_0091_20101130.pdf\n"
     ]
    },
    {
     "name": "stderr",
     "output_type": "stream",
     "text": [
      "100 37297  100 37297    0     0   103k      0 --:--:-- --:--:-- --:--:--  104k\n",
      "  % Total    % Received % Xferd  Average Speed   Time    Time     Time  Current\n",
      "                                 Dload  Upload   Total   Spent    Left  Speed\n",
      "  0     0    0     0    0     0      0      0 --:--:-- --:--:-- --:--:--     0"
     ]
    },
    {
     "name": "stdout",
     "output_type": "stream",
     "text": [
      "Downloading https://croptalk-spoi.s3.amazonaws.com/SPOI/31_111_01_0091_20101130.pdf to /Users/katerina/Documents/CropGuard/Dec_demo/demo_knowledge/31_111_01_0091_20101130.pdf\n"
     ]
    },
    {
     "name": "stderr",
     "output_type": "stream",
     "text": [
      "100 37269  100 37269    0     0   110k      0 --:--:-- --:--:-- --:--:--  111k\n",
      "  % Total    % Received % Xferd  Average Speed   Time    Time     Time  Current\n",
      "                                 Dload  Upload   Total   Spent    Left  Speed\n",
      "  0     0    0     0    0     0      0      0 --:--:-- --:--:-- --:--:--     0"
     ]
    },
    {
     "name": "stdout",
     "output_type": "stream",
     "text": [
      "Downloading https://croptalk-spoi.s3.amazonaws.com/SPOI/31_101_01_0091_20101130.pdf to /Users/katerina/Documents/CropGuard/Dec_demo/demo_knowledge/31_101_01_0091_20101130.pdf\n"
     ]
    },
    {
     "name": "stderr",
     "output_type": "stream",
     "text": [
      "100 37260  100 37260    0     0  85935      0 --:--:-- --:--:-- --:--:-- 86450\n",
      "  % Total    % Received % Xferd  Average Speed   Time    Time     Time  Current\n",
      "                                 Dload  Upload   Total   Spent    Left  Speed\n",
      "  0     0    0     0    0     0      0      0 --:--:-- --:--:-- --:--:--     0"
     ]
    },
    {
     "name": "stdout",
     "output_type": "stream",
     "text": [
      "Downloading https://croptalk-spoi.s3.amazonaws.com/SPOI/31_087_01_0091_20101130.pdf to /Users/katerina/Documents/CropGuard/Dec_demo/demo_knowledge/31_087_01_0091_20101130.pdf\n"
     ]
    },
    {
     "name": "stderr",
     "output_type": "stream",
     "text": [
      "100 37303  100 37303    0     0  90731      0 --:--:-- --:--:-- --:--:-- 91428\n",
      "  % Total    % Received % Xferd  Average Speed   Time    Time     Time  Current\n",
      "                                 Dload  Upload   Total   Spent    Left  Speed\n",
      "  0     0    0     0    0     0      0      0 --:--:-- --:--:-- --:--:--     0"
     ]
    },
    {
     "name": "stdout",
     "output_type": "stream",
     "text": [
      "Downloading https://croptalk-spoi.s3.amazonaws.com/SPOI/31_069_01_0091_20101130.pdf to /Users/katerina/Documents/CropGuard/Dec_demo/demo_knowledge/31_069_01_0091_20101130.pdf\n"
     ]
    },
    {
     "name": "stderr",
     "output_type": "stream",
     "text": [
      "100 37292  100 37292    0     0  97679      0 --:--:-- --:--:-- --:--:-- 98656\n",
      "  % Total    % Received % Xferd  Average Speed   Time    Time     Time  Current\n",
      "                                 Dload  Upload   Total   Spent    Left  Speed\n",
      "  0     0    0     0    0     0      0      0 --:--:-- --:--:-- --:--:--     0"
     ]
    },
    {
     "name": "stdout",
     "output_type": "stream",
     "text": [
      "Downloading https://croptalk-spoi.s3.amazonaws.com/SPOI/31_063_01_0091_20101130.pdf to /Users/katerina/Documents/CropGuard/Dec_demo/demo_knowledge/31_063_01_0091_20101130.pdf\n"
     ]
    },
    {
     "name": "stderr",
     "output_type": "stream",
     "text": [
      "100 37277  100 37277    0     0   107k      0 --:--:-- --:--:-- --:--:--  109k\n",
      "  % Total    % Received % Xferd  Average Speed   Time    Time     Time  Current\n",
      "                                 Dload  Upload   Total   Spent    Left  Speed\n",
      "  0     0    0     0    0     0      0      0 --:--:-- --:--:-- --:--:--     0"
     ]
    },
    {
     "name": "stdout",
     "output_type": "stream",
     "text": [
      "Downloading https://croptalk-spoi.s3.amazonaws.com/SPOI/31_173_01_0091_20101130.pdf to /Users/katerina/Documents/CropGuard/Dec_demo/demo_knowledge/31_173_01_0091_20101130.pdf\n"
     ]
    },
    {
     "name": "stderr",
     "output_type": "stream",
     "text": [
      "100 37295  100 37295    0     0  98895      0 --:--:-- --:--:-- --:--:-- 99986\n",
      "  % Total    % Received % Xferd  Average Speed   Time    Time     Time  Current\n",
      "                                 Dload  Upload   Total   Spent    Left  Speed\n",
      "  0     0    0     0    0     0      0      0 --:--:-- --:--:-- --:--:--     0"
     ]
    },
    {
     "name": "stdout",
     "output_type": "stream",
     "text": [
      "Downloading https://croptalk-spoi.s3.amazonaws.com/SPOI/19_019_01_0091_20101130.pdf to /Users/katerina/Documents/CropGuard/Dec_demo/demo_knowledge/19_019_01_0091_20101130.pdf\n"
     ]
    },
    {
     "name": "stderr",
     "output_type": "stream",
     "text": [
      "100 37553  100 37553    0     0  92011      0 --:--:-- --:--:-- --:--:-- 93183\n",
      "  % Total    % Received % Xferd  Average Speed   Time    Time     Time  Current\n",
      "                                 Dload  Upload   Total   Spent    Left  Speed\n",
      "  0     0    0     0    0     0      0      0 --:--:-- --:--:-- --:--:--     0"
     ]
    },
    {
     "name": "stdout",
     "output_type": "stream",
     "text": [
      "Downloading https://croptalk-spoi.s3.amazonaws.com/SPOI/26_001_01_0091_20101130.pdf to /Users/katerina/Documents/CropGuard/Dec_demo/demo_knowledge/26_001_01_0091_20101130.pdf\n"
     ]
    },
    {
     "name": "stderr",
     "output_type": "stream",
     "text": [
      "100 37265  100 37265    0     0   108k      0 --:--:-- --:--:-- --:--:--  110k\n",
      "  % Total    % Received % Xferd  Average Speed   Time    Time     Time  Current\n",
      "                                 Dload  Upload   Total   Spent    Left  Speed\n",
      "  0     0    0     0    0     0      0      0 --:--:-- --:--:-- --:--:--     0"
     ]
    },
    {
     "name": "stdout",
     "output_type": "stream",
     "text": [
      "Downloading https://croptalk-spoi.s3.amazonaws.com/SPOI/19_167_01_0091_20101130.pdf to /Users/katerina/Documents/CropGuard/Dec_demo/demo_knowledge/19_167_01_0091_20101130.pdf\n"
     ]
    },
    {
     "name": "stderr",
     "output_type": "stream",
     "text": [
      "100 37243  100 37243    0     0  97085      0 --:--:-- --:--:-- --:--:-- 98007\n",
      "  % Total    % Received % Xferd  Average Speed   Time    Time     Time  Current\n",
      "                                 Dload  Upload   Total   Spent    Left  Speed\n",
      "  0     0    0     0    0     0      0      0 --:--:-- --:--:-- --:--:--     0"
     ]
    },
    {
     "name": "stdout",
     "output_type": "stream",
     "text": [
      "Downloading https://croptalk-spoi.s3.amazonaws.com/SPOI/19_141_01_0091_20101130.pdf to /Users/katerina/Documents/CropGuard/Dec_demo/demo_knowledge/19_141_01_0091_20101130.pdf\n"
     ]
    },
    {
     "name": "stderr",
     "output_type": "stream",
     "text": [
      "100 37232  100 37232    0     0   111k      0 --:--:-- --:--:-- --:--:--  112k\n",
      "  % Total    % Received % Xferd  Average Speed   Time    Time     Time  Current\n",
      "                                 Dload  Upload   Total   Spent    Left  Speed\n",
      "  0     0    0     0    0     0      0      0 --:--:-- --:--:-- --:--:--     0"
     ]
    },
    {
     "name": "stdout",
     "output_type": "stream",
     "text": [
      "Downloading https://croptalk-spoi.s3.amazonaws.com/SPOI/19_097_01_0091_20101130.pdf to /Users/katerina/Documents/CropGuard/Dec_demo/demo_knowledge/19_097_01_0091_20101130.pdf\n"
     ]
    },
    {
     "name": "stderr",
     "output_type": "stream",
     "text": [
      "100 38834  100 38834    0     0   112k      0 --:--:-- --:--:-- --:--:--  113k\n",
      "  % Total    % Received % Xferd  Average Speed   Time    Time     Time  Current\n",
      "                                 Dload  Upload   Total   Spent    Left  Speed\n",
      "  0     0    0     0    0     0      0      0 --:--:-- --:--:-- --:--:--     0"
     ]
    },
    {
     "name": "stdout",
     "output_type": "stream",
     "text": [
      "Downloading https://croptalk-spoi.s3.amazonaws.com/SPOI/08_077_01_0091_20101130.pdf to /Users/katerina/Documents/CropGuard/Dec_demo/demo_knowledge/08_077_01_0091_20101130.pdf\n"
     ]
    },
    {
     "name": "stderr",
     "output_type": "stream",
     "text": [
      "100 49166  100 49166    0     0   129k      0 --:--:-- --:--:-- --:--:--  131k\n",
      "  % Total    % Received % Xferd  Average Speed   Time    Time     Time  Current\n",
      "                                 Dload  Upload   Total   Spent    Left  Speed\n",
      "  0     0    0     0    0     0      0      0 --:--:-- --:--:-- --:--:--     0"
     ]
    },
    {
     "name": "stdout",
     "output_type": "stream",
     "text": [
      "Downloading https://croptalk-spoi.s3.amazonaws.com/SPOI/08_059_01_0091_20101130.pdf to /Users/katerina/Documents/CropGuard/Dec_demo/demo_knowledge/08_059_01_0091_20101130.pdf\n"
     ]
    },
    {
     "name": "stderr",
     "output_type": "stream",
     "text": [
      "100 50607  100 50607    0     0   144k      0 --:--:-- --:--:-- --:--:--  145k\n",
      "  % Total    % Received % Xferd  Average Speed   Time    Time     Time  Current\n",
      "                                 Dload  Upload   Total   Spent    Left  Speed\n",
      "  0     0    0     0    0     0      0      0 --:--:-- --:--:-- --:--:--     0"
     ]
    },
    {
     "name": "stdout",
     "output_type": "stream",
     "text": [
      "Downloading https://croptalk-spoi.s3.amazonaws.com/SPOI/08_083_01_0091_20101130.pdf to /Users/katerina/Documents/CropGuard/Dec_demo/demo_knowledge/08_083_01_0091_20101130.pdf\n"
     ]
    },
    {
     "name": "stderr",
     "output_type": "stream",
     "text": [
      "100 49185  100 49185    0     0   126k      0 --:--:-- --:--:-- --:--:--  127k\n",
      "  % Total    % Received % Xferd  Average Speed   Time    Time     Time  Current\n",
      "                                 Dload  Upload   Total   Spent    Left  Speed\n",
      "  0     0    0     0    0     0      0      0 --:--:-- --:--:-- --:--:--     0"
     ]
    },
    {
     "name": "stdout",
     "output_type": "stream",
     "text": [
      "Downloading https://croptalk-spoi.s3.amazonaws.com/SPOI/26_017_01_0091_20101130.pdf to /Users/katerina/Documents/CropGuard/Dec_demo/demo_knowledge/26_017_01_0091_20101130.pdf\n"
     ]
    },
    {
     "name": "stderr",
     "output_type": "stream",
     "text": [
      "100 37271  100 37271    0     0   109k      0 --:--:-- --:--:-- --:--:--  110k\n",
      "  % Total    % Received % Xferd  Average Speed   Time    Time     Time  Current\n",
      "                                 Dload  Upload   Total   Spent    Left  Speed\n",
      "  0     0    0     0    0     0      0      0 --:--:-- --:--:-- --:--:--     0"
     ]
    },
    {
     "name": "stdout",
     "output_type": "stream",
     "text": [
      "Downloading https://croptalk-spoi.s3.amazonaws.com/SPOI/26_113_01_0091_20101130.pdf to /Users/katerina/Documents/CropGuard/Dec_demo/demo_knowledge/26_113_01_0091_20101130.pdf\n"
     ]
    },
    {
     "name": "stderr",
     "output_type": "stream",
     "text": [
      "100 37317  100 37317    0     0   111k      0 --:--:-- --:--:-- --:--:--  112k\n",
      "  % Total    % Received % Xferd  Average Speed   Time    Time     Time  Current\n",
      "                                 Dload  Upload   Total   Spent    Left  Speed\n",
      "  0     0    0     0    0     0      0      0 --:--:-- --:--:-- --:--:--     0"
     ]
    },
    {
     "name": "stdout",
     "output_type": "stream",
     "text": [
      "Downloading https://croptalk-spoi.s3.amazonaws.com/SPOI/26_077_01_0091_20101130.pdf to /Users/katerina/Documents/CropGuard/Dec_demo/demo_knowledge/26_077_01_0091_20101130.pdf\n"
     ]
    },
    {
     "name": "stderr",
     "output_type": "stream",
     "text": [
      "100 37309  100 37309    0     0   104k      0 --:--:-- --:--:-- --:--:--  105k\n",
      "  % Total    % Received % Xferd  Average Speed   Time    Time     Time  Current\n",
      "                                 Dload  Upload   Total   Spent    Left  Speed\n",
      "  0     0    0     0    0     0      0      0 --:--:-- --:--:-- --:--:--     0"
     ]
    },
    {
     "name": "stdout",
     "output_type": "stream",
     "text": [
      "Downloading https://croptalk-spoi.s3.amazonaws.com/SPOI/26_075_01_0091_20101130.pdf to /Users/katerina/Documents/CropGuard/Dec_demo/demo_knowledge/26_075_01_0091_20101130.pdf\n"
     ]
    },
    {
     "name": "stderr",
     "output_type": "stream",
     "text": [
      "100 37299  100 37299    0     0   117k      0 --:--:-- --:--:-- --:--:--  119k\n",
      "  % Total    % Received % Xferd  Average Speed   Time    Time     Time  Current\n",
      "                                 Dload  Upload   Total   Spent    Left  Speed\n",
      "  0     0    0     0    0     0      0      0 --:--:-- --:--:-- --:--:--     0"
     ]
    },
    {
     "name": "stdout",
     "output_type": "stream",
     "text": [
      "Downloading https://croptalk-spoi.s3.amazonaws.com/SPOI/26_057_01_0091_20101130.pdf to /Users/katerina/Documents/CropGuard/Dec_demo/demo_knowledge/26_057_01_0091_20101130.pdf\n"
     ]
    },
    {
     "name": "stderr",
     "output_type": "stream",
     "text": [
      "100 37300  100 37300    0     0   115k      0 --:--:-- --:--:-- --:--:--  117k\n",
      "  % Total    % Received % Xferd  Average Speed   Time    Time     Time  Current\n",
      "                                 Dload  Upload   Total   Spent    Left  Speed\n",
      "  0     0    0     0    0     0      0      0 --:--:-- --:--:-- --:--:--     0"
     ]
    },
    {
     "name": "stdout",
     "output_type": "stream",
     "text": [
      "Downloading https://croptalk-spoi.s3.amazonaws.com/SPOI/26_119_01_0091_20101130.pdf to /Users/katerina/Documents/CropGuard/Dec_demo/demo_knowledge/26_119_01_0091_20101130.pdf\n"
     ]
    },
    {
     "name": "stderr",
     "output_type": "stream",
     "text": [
      "100 37331  100 37331    0     0   107k      0 --:--:-- --:--:-- --:--:--  108k\n",
      "  % Total    % Received % Xferd  Average Speed   Time    Time     Time  Current\n",
      "                                 Dload  Upload   Total   Spent    Left  Speed\n",
      "  0     0    0     0    0     0      0      0 --:--:-- --:--:-- --:--:--     0"
     ]
    },
    {
     "name": "stdout",
     "output_type": "stream",
     "text": [
      "Downloading https://croptalk-spoi.s3.amazonaws.com/SPOI/26_137_01_0091_20101130.pdf to /Users/katerina/Documents/CropGuard/Dec_demo/demo_knowledge/26_137_01_0091_20101130.pdf\n"
     ]
    },
    {
     "name": "stderr",
     "output_type": "stream",
     "text": [
      "100 37308  100 37308    0     0   109k      0 --:--:-- --:--:-- --:--:--  110k\n",
      "  % Total    % Received % Xferd  Average Speed   Time    Time     Time  Current\n",
      "                                 Dload  Upload   Total   Spent    Left  Speed\n",
      "  0     0    0     0    0     0      0      0 --:--:-- --:--:-- --:--:--     0"
     ]
    },
    {
     "name": "stdout",
     "output_type": "stream",
     "text": [
      "Downloading https://croptalk-spoi.s3.amazonaws.com/SPOI/26_159_01_0091_20101130.pdf to /Users/katerina/Documents/CropGuard/Dec_demo/demo_knowledge/26_159_01_0091_20101130.pdf\n"
     ]
    },
    {
     "name": "stderr",
     "output_type": "stream",
     "text": [
      "100 37323  100 37323    0     0   108k      0 --:--:-- --:--:-- --:--:--  109k\n",
      "  % Total    % Received % Xferd  Average Speed   Time    Time     Time  Current\n",
      "                                 Dload  Upload   Total   Spent    Left  Speed\n",
      "  0     0    0     0    0     0      0      0 --:--:-- --:--:-- --:--:--     0"
     ]
    },
    {
     "name": "stdout",
     "output_type": "stream",
     "text": [
      "Downloading https://croptalk-spoi.s3.amazonaws.com/SPOI/26_139_01_0091_20101130.pdf to /Users/katerina/Documents/CropGuard/Dec_demo/demo_knowledge/26_139_01_0091_20101130.pdf\n"
     ]
    },
    {
     "name": "stderr",
     "output_type": "stream",
     "text": [
      "100 37296  100 37296    0     0  94620      0 --:--:-- --:--:-- --:--:-- 95876\n",
      "  % Total    % Received % Xferd  Average Speed   Time    Time     Time  Current\n",
      "                                 Dload  Upload   Total   Spent    Left  Speed\n",
      "  0     0    0     0    0     0      0      0 --:--:-- --:--:-- --:--:--     0"
     ]
    },
    {
     "name": "stdout",
     "output_type": "stream",
     "text": [
      "Downloading https://croptalk-spoi.s3.amazonaws.com/SPOI/55_127_01_0091_20101130.pdf to /Users/katerina/Documents/CropGuard/Dec_demo/demo_knowledge/55_127_01_0091_20101130.pdf\n"
     ]
    },
    {
     "name": "stderr",
     "output_type": "stream",
     "text": [
      "100 37298  100 37298    0     0   113k      0 --:--:-- --:--:-- --:--:--  115k\n",
      "  % Total    % Received % Xferd  Average Speed   Time    Time     Time  Current\n",
      "                                 Dload  Upload   Total   Spent    Left  Speed\n",
      "  0     0    0     0    0     0      0      0 --:--:-- --:--:-- --:--:--     0"
     ]
    },
    {
     "name": "stdout",
     "output_type": "stream",
     "text": [
      "Downloading https://croptalk-spoi.s3.amazonaws.com/SPOI/55_059_01_0091_20101130.pdf to /Users/katerina/Documents/CropGuard/Dec_demo/demo_knowledge/55_059_01_0091_20101130.pdf\n"
     ]
    },
    {
     "name": "stderr",
     "output_type": "stream",
     "text": [
      "100 37299  100 37299    0     0   101k      0 --:--:-- --:--:-- --:--:--  102k\n",
      "  % Total    % Received % Xferd  Average Speed   Time    Time     Time  Current\n",
      "                                 Dload  Upload   Total   Spent    Left  Speed\n",
      "  0     0    0     0    0     0      0      0 --:--:-- --:--:-- --:--:--     0"
     ]
    },
    {
     "name": "stdout",
     "output_type": "stream",
     "text": [
      "Downloading https://croptalk-spoi.s3.amazonaws.com/SPOI/55_101_01_0091_20101130.pdf to /Users/katerina/Documents/CropGuard/Dec_demo/demo_knowledge/55_101_01_0091_20101130.pdf\n"
     ]
    },
    {
     "name": "stderr",
     "output_type": "stream",
     "text": [
      "100 37275  100 37275    0     0   104k      0 --:--:-- --:--:-- --:--:--  105k\n",
      "  % Total    % Received % Xferd  Average Speed   Time    Time     Time  Current\n",
      "                                 Dload  Upload   Total   Spent    Left  Speed\n",
      "  0     0    0     0    0     0      0      0 --:--:-- --:--:-- --:--:--     0"
     ]
    },
    {
     "name": "stdout",
     "output_type": "stream",
     "text": [
      "Downloading https://croptalk-spoi.s3.amazonaws.com/SPOI/38_021_04_0011_20101130.pdf to /Users/katerina/Documents/CropGuard/Dec_demo/demo_knowledge/38_021_04_0011_20101130.pdf\n"
     ]
    },
    {
     "name": "stderr",
     "output_type": "stream",
     "text": [
      "100  2830  100  2830    0     0   7824      0 --:--:-- --:--:-- --:--:--  7905\n",
      "  % Total    % Received % Xferd  Average Speed   Time    Time     Time  Current\n",
      "                                 Dload  Upload   Total   Spent    Left  Speed\n",
      "  0     0    0     0    0     0      0      0 --:--:-- --:--:-- --:--:--     0"
     ]
    },
    {
     "name": "stdout",
     "output_type": "stream",
     "text": [
      "Downloading https://croptalk-spoi.s3.amazonaws.com/SPOI/38_023_04_0011_20101130.pdf to /Users/katerina/Documents/CropGuard/Dec_demo/demo_knowledge/38_023_04_0011_20101130.pdf\n"
     ]
    },
    {
     "name": "stderr",
     "output_type": "stream",
     "text": [
      "100  2825  100  2825    0     0   9154      0 --:--:-- --:--:-- --:--:--  9232\n",
      "  % Total    % Received % Xferd  Average Speed   Time    Time     Time  Current\n",
      "                                 Dload  Upload   Total   Spent    Left  Speed\n",
      "  0     0    0     0    0     0      0      0 --:--:-- --:--:-- --:--:--     0"
     ]
    },
    {
     "name": "stdout",
     "output_type": "stream",
     "text": [
      "Downloading https://croptalk-spoi.s3.amazonaws.com/SPOI/38_027_04_0011_20101130.pdf to /Users/katerina/Documents/CropGuard/Dec_demo/demo_knowledge/38_027_04_0011_20101130.pdf\n"
     ]
    },
    {
     "name": "stderr",
     "output_type": "stream",
     "text": [
      "100  2828  100  2828    0     0   3972      0 --:--:-- --:--:-- --:--:--  3994\n",
      "  % Total    % Received % Xferd  Average Speed   Time    Time     Time  Current\n",
      "                                 Dload  Upload   Total   Spent    Left  Speed\n",
      "  0     0    0     0    0     0      0      0 --:--:-- --:--:-- --:--:--     0"
     ]
    },
    {
     "name": "stdout",
     "output_type": "stream",
     "text": [
      "Downloading https://croptalk-spoi.s3.amazonaws.com/SPOI/38_057_04_0011_20101130.pdf to /Users/katerina/Documents/CropGuard/Dec_demo/demo_knowledge/38_057_04_0011_20101130.pdf\n"
     ]
    },
    {
     "name": "stderr",
     "output_type": "stream",
     "text": [
      "100  2830  100  2830    0     0   3380      0 --:--:-- --:--:-- --:--:--  3397\n",
      "  % Total    % Received % Xferd  Average Speed   Time    Time     Time  Current\n",
      "                                 Dload  Upload   Total   Spent    Left  Speed\n",
      "  0     0    0     0    0     0      0      0 --:--:-- --:--:-- --:--:--     0"
     ]
    },
    {
     "name": "stdout",
     "output_type": "stream",
     "text": [
      "Downloading https://croptalk-spoi.s3.amazonaws.com/SPOI/46_057_04_0011_20101130.pdf to /Users/katerina/Documents/CropGuard/Dec_demo/demo_knowledge/46_057_04_0011_20101130.pdf\n"
     ]
    },
    {
     "name": "stderr",
     "output_type": "stream",
     "text": [
      "100  2829  100  2829    0     0   4123      0 --:--:-- --:--:-- --:--:--  4135\n",
      "  % Total    % Received % Xferd  Average Speed   Time    Time     Time  Current\n",
      "                                 Dload  Upload   Total   Spent    Left  Speed\n",
      "  0     0    0     0    0     0      0      0 --:--:-- --:--:-- --:--:--     0"
     ]
    },
    {
     "name": "stdout",
     "output_type": "stream",
     "text": [
      "Downloading https://croptalk-spoi.s3.amazonaws.com/SPOI/46_077_04_0011_20101130.pdf to /Users/katerina/Documents/CropGuard/Dec_demo/demo_knowledge/46_077_04_0011_20101130.pdf\n"
     ]
    },
    {
     "name": "stderr",
     "output_type": "stream",
     "text": [
      "100  2832  100  2832    0     0   3796      0 --:--:-- --:--:-- --:--:--  3811\n"
     ]
    },
    {
     "name": "stdout",
     "output_type": "stream",
     "text": [
      "Downloading https://croptalk-spoi.s3.amazonaws.com/SPOI/46_089_04_0011_20101130.pdf to /Users/katerina/Documents/CropGuard/Dec_demo/demo_knowledge/46_089_04_0011_20101130.pdf\n"
     ]
    },
    {
     "name": "stderr",
     "output_type": "stream",
     "text": [
      "  % Total    % Received % Xferd  Average Speed   Time    Time     Time  Current\n",
      "                                 Dload  Upload   Total   Spent    Left  Speed\n",
      "100  2831  100  2831    0     0   5057      0 --:--:-- --:--:-- --:--:--  5100\n",
      "  % Total    % Received % Xferd  Average Speed   Time    Time     Time  Current\n",
      "                                 Dload  Upload   Total   Spent    Left  Speed\n",
      "  0     0    0     0    0     0      0      0 --:--:-- --:--:-- --:--:--     0"
     ]
    },
    {
     "name": "stdout",
     "output_type": "stream",
     "text": [
      "Downloading https://croptalk-spoi.s3.amazonaws.com/SPOI/46_091_04_0011_20101130.pdf to /Users/katerina/Documents/CropGuard/Dec_demo/demo_knowledge/46_091_04_0011_20101130.pdf\n"
     ]
    },
    {
     "name": "stderr",
     "output_type": "stream",
     "text": [
      "100  2828  100  2828    0     0   7402      0 --:--:-- --:--:-- --:--:--  7442\n",
      "  % Total    % Received % Xferd  Average Speed   Time    Time     Time  Current\n",
      "                                 Dload  Upload   Total   Spent    Left  Speed\n",
      "  0     0    0     0    0     0      0      0 --:--:-- --:--:-- --:--:--     0"
     ]
    },
    {
     "name": "stdout",
     "output_type": "stream",
     "text": [
      "Downloading https://croptalk-spoi.s3.amazonaws.com/SPOI/46_013_04_0011_20101130.pdf to /Users/katerina/Documents/CropGuard/Dec_demo/demo_knowledge/46_013_04_0011_20101130.pdf\n"
     ]
    },
    {
     "name": "stderr",
     "output_type": "stream",
     "text": [
      "100  2827  100  2827    0     0   7869      0 --:--:-- --:--:-- --:--:--  7941\n",
      "  % Total    % Received % Xferd  Average Speed   Time    Time     Time  Current\n",
      "                                 Dload  Upload   Total   Spent    Left  Speed\n",
      "  0     0    0     0    0     0      0      0 --:--:-- --:--:-- --:--:--     0"
     ]
    },
    {
     "name": "stdout",
     "output_type": "stream",
     "text": [
      "Downloading https://croptalk-spoi.s3.amazonaws.com/SPOI/38_065_04_0011_20101130.pdf to /Users/katerina/Documents/CropGuard/Dec_demo/demo_knowledge/38_065_04_0011_20101130.pdf\n"
     ]
    },
    {
     "name": "stderr",
     "output_type": "stream",
     "text": [
      "100  2828  100  2828    0     0   9232      0 --:--:-- --:--:-- --:--:--  9302\n",
      "  % Total    % Received % Xferd  Average Speed   Time    Time     Time  Current\n",
      "                                 Dload  Upload   Total   Spent    Left  Speed\n",
      "  0     0    0     0    0     0      0      0 --:--:-- --:--:-- --:--:--     0"
     ]
    },
    {
     "name": "stdout",
     "output_type": "stream",
     "text": [
      "Downloading https://croptalk-spoi.s3.amazonaws.com/SPOI/38_075_04_0011_20101130.pdf to /Users/katerina/Documents/CropGuard/Dec_demo/demo_knowledge/38_075_04_0011_20101130.pdf\n"
     ]
    },
    {
     "name": "stderr",
     "output_type": "stream",
     "text": [
      "100  2830  100  2830    0     0  10691      0 --:--:-- --:--:-- --:--:-- 10801\n",
      "  % Total    % Received % Xferd  Average Speed   Time    Time     Time  Current\n",
      "                                 Dload  Upload   Total   Spent    Left  Speed\n",
      "  0     0    0     0    0     0      0      0 --:--:-- --:--:-- --:--:--     0"
     ]
    },
    {
     "name": "stdout",
     "output_type": "stream",
     "text": [
      "Downloading https://croptalk-spoi.s3.amazonaws.com/SPOI/38_081_04_0011_20101130.pdf to /Users/katerina/Documents/CropGuard/Dec_demo/demo_knowledge/38_081_04_0011_20101130.pdf\n"
     ]
    },
    {
     "name": "stderr",
     "output_type": "stream",
     "text": [
      "100  2828  100  2828    0     0   8756      0 --:--:-- --:--:-- --:--:--  8837\n",
      "  % Total    % Received % Xferd  Average Speed   Time    Time     Time  Current\n",
      "                                 Dload  Upload   Total   Spent    Left  Speed\n",
      "  0     0    0     0    0     0      0      0 --:--:-- --:--:-- --:--:--     0"
     ]
    },
    {
     "name": "stdout",
     "output_type": "stream",
     "text": [
      "Downloading https://croptalk-spoi.s3.amazonaws.com/SPOI/38_083_04_0011_20101130.pdf to /Users/katerina/Documents/CropGuard/Dec_demo/demo_knowledge/38_083_04_0011_20101130.pdf\n"
     ]
    },
    {
     "name": "stderr",
     "output_type": "stream",
     "text": [
      "100  2831  100  2831    0     0  10089      0 --:--:-- --:--:-- --:--:-- 10257\n",
      "  % Total    % Received % Xferd  Average Speed   Time    Time     Time  Current\n",
      "                                 Dload  Upload   Total   Spent    Left  Speed\n",
      "  0     0    0     0    0     0      0      0 --:--:-- --:--:-- --:--:--     0"
     ]
    },
    {
     "name": "stdout",
     "output_type": "stream",
     "text": [
      "Downloading https://croptalk-spoi.s3.amazonaws.com/SPOI/22_115_01_0081_20101130.pdf to /Users/katerina/Documents/CropGuard/Dec_demo/demo_knowledge/22_115_01_0081_20101130.pdf\n"
     ]
    },
    {
     "name": "stderr",
     "output_type": "stream",
     "text": [
      "100 37300  100 37300    0     0   111k      0 --:--:-- --:--:-- --:--:--  113k\n",
      "  % Total    % Received % Xferd  Average Speed   Time    Time     Time  Current\n",
      "                                 Dload  Upload   Total   Spent    Left  Speed\n",
      "  0     0    0     0    0     0      0      0 --:--:-- --:--:-- --:--:--     0"
     ]
    },
    {
     "name": "stdout",
     "output_type": "stream",
     "text": [
      "Downloading https://croptalk-spoi.s3.amazonaws.com/SPOI/22_109_01_0081_20101130.pdf to /Users/katerina/Documents/CropGuard/Dec_demo/demo_knowledge/22_109_01_0081_20101130.pdf\n"
     ]
    },
    {
     "name": "stderr",
     "output_type": "stream",
     "text": [
      "100 37327  100 37327    0     0   107k      0 --:--:-- --:--:-- --:--:--  109k\n",
      "  % Total    % Received % Xferd  Average Speed   Time    Time     Time  Current\n",
      "                                 Dload  Upload   Total   Spent    Left  Speed\n",
      "  0     0    0     0    0     0      0      0 --:--:-- --:--:-- --:--:--     0"
     ]
    },
    {
     "name": "stdout",
     "output_type": "stream",
     "text": [
      "Downloading https://croptalk-spoi.s3.amazonaws.com/SPOI/22_119_01_0081_20101130.pdf to /Users/katerina/Documents/CropGuard/Dec_demo/demo_knowledge/22_119_01_0081_20101130.pdf\n"
     ]
    },
    {
     "name": "stderr",
     "output_type": "stream",
     "text": [
      "100 37311  100 37311    0     0   106k      0 --:--:-- --:--:-- --:--:--  107k\n",
      "  % Total    % Received % Xferd  Average Speed   Time    Time     Time  Current\n",
      "                                 Dload  Upload   Total   Spent    Left  Speed\n",
      "  0     0    0     0    0     0      0      0 --:--:-- --:--:-- --:--:--     0"
     ]
    },
    {
     "name": "stdout",
     "output_type": "stream",
     "text": [
      "Downloading https://croptalk-spoi.s3.amazonaws.com/SPOI/05_023_01_0081_20101130.pdf to /Users/katerina/Documents/CropGuard/Dec_demo/demo_knowledge/05_023_01_0081_20101130.pdf\n"
     ]
    },
    {
     "name": "stderr",
     "output_type": "stream",
     "text": [
      "100 53959  100 53959    0     0   134k      0 --:--:-- --:--:-- --:--:--  136k\n",
      "  % Total    % Received % Xferd  Average Speed   Time    Time     Time  Current\n",
      "                                 Dload  Upload   Total   Spent    Left  Speed\n",
      "  0     0    0     0    0     0      0      0 --:--:-- --:--:-- --:--:--     0"
     ]
    },
    {
     "name": "stdout",
     "output_type": "stream",
     "text": [
      "Downloading https://croptalk-spoi.s3.amazonaws.com/SPOI/05_039_01_0081_20101130.pdf to /Users/katerina/Documents/CropGuard/Dec_demo/demo_knowledge/05_039_01_0081_20101130.pdf\n"
     ]
    },
    {
     "name": "stderr",
     "output_type": "stream",
     "text": [
      "100 54153  100 54153    0     0   135k      0 --:--:-- --:--:-- --:--:--  137k\n",
      "  % Total    % Received % Xferd  Average Speed   Time    Time     Time  Current\n",
      "                                 Dload  Upload   Total   Spent    Left  Speed\n",
      "  0     0    0     0    0     0      0      0 --:--:-- --:--:-- --:--:--     0"
     ]
    },
    {
     "name": "stdout",
     "output_type": "stream",
     "text": [
      "Downloading https://croptalk-spoi.s3.amazonaws.com/SPOI/05_099_01_0081_20101130.pdf to /Users/katerina/Documents/CropGuard/Dec_demo/demo_knowledge/05_099_01_0081_20101130.pdf\n"
     ]
    },
    {
     "name": "stderr",
     "output_type": "stream",
     "text": [
      "100 53992  100 53992    0     0   159k      0 --:--:-- --:--:-- --:--:--  160k\n",
      "  % Total    % Received % Xferd  Average Speed   Time    Time     Time  Current\n",
      "                                 Dload  Upload   Total   Spent    Left  Speed\n",
      "  0     0    0     0    0     0      0      0 --:--:-- --:--:-- --:--:--     0"
     ]
    },
    {
     "name": "stdout",
     "output_type": "stream",
     "text": [
      "Downloading https://croptalk-spoi.s3.amazonaws.com/SPOI/05_013_01_0081_20101130.pdf to /Users/katerina/Documents/CropGuard/Dec_demo/demo_knowledge/05_013_01_0081_20101130.pdf\n"
     ]
    },
    {
     "name": "stderr",
     "output_type": "stream",
     "text": [
      "100 54193  100 54193    0     0   130k      0 --:--:-- --:--:-- --:--:--  131k\n",
      "  % Total    % Received % Xferd  Average Speed   Time    Time     Time  Current\n",
      "                                 Dload  Upload   Total   Spent    Left  Speed\n",
      "  0     0    0     0    0     0      0      0 --:--:-- --:--:-- --:--:--     0"
     ]
    },
    {
     "name": "stdout",
     "output_type": "stream",
     "text": [
      "Downloading https://croptalk-spoi.s3.amazonaws.com/SPOI/05_103_01_0081_20101130.pdf to /Users/katerina/Documents/CropGuard/Dec_demo/demo_knowledge/05_103_01_0081_20101130.pdf\n"
     ]
    },
    {
     "name": "stderr",
     "output_type": "stream",
     "text": [
      "100 54240  100 54240    0     0   167k      0 --:--:-- --:--:-- --:--:--  168k\n",
      "  % Total    % Received % Xferd  Average Speed   Time    Time     Time  Current\n",
      "                                 Dload  Upload   Total   Spent    Left  Speed\n",
      "  0     0    0     0    0     0      0      0 --:--:-- --:--:-- --:--:--     0"
     ]
    },
    {
     "name": "stdout",
     "output_type": "stream",
     "text": [
      "Downloading https://croptalk-spoi.s3.amazonaws.com/SPOI/05_135_01_0081_20101130.pdf to /Users/katerina/Documents/CropGuard/Dec_demo/demo_knowledge/05_135_01_0081_20101130.pdf\n"
     ]
    },
    {
     "name": "stderr",
     "output_type": "stream",
     "text": [
      "100 53968  100 53968    0     0   155k      0 --:--:-- --:--:-- --:--:--  157k\n",
      "  % Total    % Received % Xferd  Average Speed   Time    Time     Time  Current\n",
      "                                 Dload  Upload   Total   Spent    Left  Speed\n",
      "  0     0    0     0    0     0      0      0 --:--:-- --:--:-- --:--:--     0"
     ]
    },
    {
     "name": "stdout",
     "output_type": "stream",
     "text": [
      "Downloading https://croptalk-spoi.s3.amazonaws.com/SPOI/05_127_01_0081_20101130.pdf to /Users/katerina/Documents/CropGuard/Dec_demo/demo_knowledge/05_127_01_0081_20101130.pdf\n"
     ]
    },
    {
     "name": "stderr",
     "output_type": "stream",
     "text": [
      "100 53980  100 53980    0     0   157k      0 --:--:-- --:--:-- --:--:--  158k\n",
      "  % Total    % Received % Xferd  Average Speed   Time    Time     Time  Current\n",
      "                                 Dload  Upload   Total   Spent    Left  Speed\n",
      "  0     0    0     0    0     0      0      0 --:--:-- --:--:-- --:--:--     0"
     ]
    },
    {
     "name": "stdout",
     "output_type": "stream",
     "text": [
      "Downloading https://croptalk-spoi.s3.amazonaws.com/SPOI/05_125_01_0081_20101130.pdf to /Users/katerina/Documents/CropGuard/Dec_demo/demo_knowledge/05_125_01_0081_20101130.pdf\n"
     ]
    },
    {
     "name": "stderr",
     "output_type": "stream",
     "text": [
      "100 53958  100 53958    0     0   159k      0 --:--:-- --:--:-- --:--:--  160k\n",
      "  % Total    % Received % Xferd  Average Speed   Time    Time     Time  Current\n",
      "                                 Dload  Upload   Total   Spent    Left  Speed\n",
      "  0     0    0     0    0     0      0      0 --:--:-- --:--:-- --:--:--     0"
     ]
    },
    {
     "name": "stdout",
     "output_type": "stream",
     "text": [
      "Downloading https://croptalk-spoi.s3.amazonaws.com/SPOI/05_109_01_0081_20101130.pdf to /Users/katerina/Documents/CropGuard/Dec_demo/demo_knowledge/05_109_01_0081_20101130.pdf\n"
     ]
    },
    {
     "name": "stderr",
     "output_type": "stream",
     "text": [
      "100 53966  100 53966    0     0   164k      0 --:--:-- --:--:-- --:--:--  165k\n",
      "  % Total    % Received % Xferd  Average Speed   Time    Time     Time  Current\n",
      "                                 Dload  Upload   Total   Spent    Left  Speed\n",
      "  0     0    0     0    0     0      0      0 --:--:-- --:--:-- --:--:--     0"
     ]
    },
    {
     "name": "stdout",
     "output_type": "stream",
     "text": [
      "Downloading https://croptalk-spoi.s3.amazonaws.com/SPOI/28_047_01_0081_20101130.pdf to /Users/katerina/Documents/CropGuard/Dec_demo/demo_knowledge/28_047_01_0081_20101130.pdf\n"
     ]
    },
    {
     "name": "stderr",
     "output_type": "stream",
     "text": [
      "100 37278  100 37278    0     0   109k      0 --:--:-- --:--:-- --:--:--  110k\n",
      "  % Total    % Received % Xferd  Average Speed   Time    Time     Time  Current\n",
      "                                 Dload  Upload   Total   Spent    Left  Speed\n",
      "  0     0    0     0    0     0      0      0 --:--:-- --:--:-- --:--:--     0"
     ]
    },
    {
     "name": "stdout",
     "output_type": "stream",
     "text": [
      "Downloading https://croptalk-spoi.s3.amazonaws.com/SPOI/28_099_01_0081_20101130.pdf to /Users/katerina/Documents/CropGuard/Dec_demo/demo_knowledge/28_099_01_0081_20101130.pdf\n"
     ]
    },
    {
     "name": "stderr",
     "output_type": "stream",
     "text": [
      "100 37485  100 37485    0     0  96206      0 --:--:-- --:--:-- --:--:-- 97111\n"
     ]
    },
    {
     "name": "stdout",
     "output_type": "stream",
     "text": [
      "Downloading https://croptalk-spoi.s3.amazonaws.com/SPOI/28_035_01_0081_20101130.pdf to /Users/katerina/Documents/CropGuard/Dec_demo/demo_knowledge/28_035_01_0081_20101130.pdf\n"
     ]
    },
    {
     "name": "stderr",
     "output_type": "stream",
     "text": [
      "  % Total    % Received % Xferd  Average Speed   Time    Time     Time  Current\n",
      "                                 Dload  Upload   Total   Spent    Left  Speed\n",
      "100 37262  100 37262    0     0   112k      0 --:--:-- --:--:-- --:--:--  113k\n",
      "  % Total    % Received % Xferd  Average Speed   Time    Time     Time  Current\n",
      "                                 Dload  Upload   Total   Spent    Left  Speed\n",
      "  0     0    0     0    0     0      0      0 --:--:-- --:--:-- --:--:--     0"
     ]
    },
    {
     "name": "stdout",
     "output_type": "stream",
     "text": [
      "Downloading https://croptalk-spoi.s3.amazonaws.com/SPOI/28_023_01_0081_20101130.pdf to /Users/katerina/Documents/CropGuard/Dec_demo/demo_knowledge/28_023_01_0081_20101130.pdf\n"
     ]
    },
    {
     "name": "stderr",
     "output_type": "stream",
     "text": [
      "100 37254  100 37254    0     0   116k      0 --:--:-- --:--:-- --:--:--  117k\n",
      "  % Total    % Received % Xferd  Average Speed   Time    Time     Time  Current\n",
      "                                 Dload  Upload   Total   Spent    Left  Speed\n",
      "  0     0    0     0    0     0      0      0 --:--:-- --:--:-- --:--:--     0"
     ]
    },
    {
     "name": "stdout",
     "output_type": "stream",
     "text": [
      "Downloading https://croptalk-spoi.s3.amazonaws.com/SPOI/08_001_50_0044_20101130.pdf to /Users/katerina/Documents/CropGuard/Dec_demo/demo_knowledge/08_001_50_0044_20101130.pdf\n"
     ]
    },
    {
     "name": "stderr",
     "output_type": "stream",
     "text": [
      "100  3314  100  3314    0     0  11419      0 --:--:-- --:--:-- --:--:-- 11506\n",
      "  % Total    % Received % Xferd  Average Speed   Time    Time     Time  Current\n",
      "                                 Dload  Upload   Total   Spent    Left  Speed\n",
      "  0     0    0     0    0     0      0      0 --:--:-- --:--:-- --:--:--     0"
     ]
    },
    {
     "name": "stdout",
     "output_type": "stream",
     "text": [
      "Downloading https://croptalk-spoi.s3.amazonaws.com/SPOI/08_013_50_0044_20101130.pdf to /Users/katerina/Documents/CropGuard/Dec_demo/demo_knowledge/08_013_50_0044_20101130.pdf\n"
     ]
    },
    {
     "name": "stderr",
     "output_type": "stream",
     "text": [
      "100  3319  100  3319    0     0  12166      0 --:--:-- --:--:-- --:--:-- 12384\n",
      "  % Total    % Received % Xferd  Average Speed   Time    Time     Time  Current\n",
      "                                 Dload  Upload   Total   Spent    Left  Speed\n",
      "  0     0    0     0    0     0      0      0 --:--:-- --:--:-- --:--:--     0"
     ]
    },
    {
     "name": "stdout",
     "output_type": "stream",
     "text": [
      "Downloading https://croptalk-spoi.s3.amazonaws.com/SPOI/39_017_55_0062_20101130.pdf to /Users/katerina/Documents/CropGuard/Dec_demo/demo_knowledge/39_017_55_0062_20101130.pdf\n"
     ]
    },
    {
     "name": "stderr",
     "output_type": "stream",
     "text": [
      "100  4500  100  4500    0     0  14495      0 --:--:-- --:--:-- --:--:-- 14705\n",
      "  % Total    % Received % Xferd  Average Speed   Time    Time     Time  Current\n",
      "                                 Dload  Upload   Total   Spent    Left  Speed\n",
      "  0     0    0     0    0     0      0      0 --:--:-- --:--:-- --:--:--     0"
     ]
    },
    {
     "name": "stdout",
     "output_type": "stream",
     "text": [
      "Downloading https://croptalk-spoi.s3.amazonaws.com/SPOI/39_011_55_0062_20101130.pdf to /Users/katerina/Documents/CropGuard/Dec_demo/demo_knowledge/39_011_55_0062_20101130.pdf\n"
     ]
    },
    {
     "name": "stderr",
     "output_type": "stream",
     "text": [
      "100  4502  100  4502    0     0  12729      0 --:--:-- --:--:-- --:--:-- 12862\n",
      "  % Total    % Received % Xferd  Average Speed   Time    Time     Time  Current\n",
      "                                 Dload  Upload   Total   Spent    Left  Speed\n",
      "  0     0    0     0    0     0      0      0 --:--:-- --:--:-- --:--:--     0"
     ]
    },
    {
     "name": "stdout",
     "output_type": "stream",
     "text": [
      "Downloading https://croptalk-spoi.s3.amazonaws.com/SPOI/39_005_55_0062_20101130.pdf to /Users/katerina/Documents/CropGuard/Dec_demo/demo_knowledge/39_005_55_0062_20101130.pdf\n"
     ]
    },
    {
     "name": "stderr",
     "output_type": "stream",
     "text": [
      "100  4497  100  4497    0     0  14740      0 --:--:-- --:--:-- --:--:-- 14890\n",
      "  % Total    % Received % Xferd  Average Speed   Time    Time     Time  Current\n",
      "                                 Dload  Upload   Total   Spent    Left  Speed\n",
      "  0     0    0     0    0     0      0      0 --:--:-- --:--:-- --:--:--     0"
     ]
    },
    {
     "name": "stdout",
     "output_type": "stream",
     "text": [
      "Downloading https://croptalk-spoi.s3.amazonaws.com/SPOI/39_003_55_0062_20101130.pdf to /Users/katerina/Documents/CropGuard/Dec_demo/demo_knowledge/39_003_55_0062_20101130.pdf\n"
     ]
    },
    {
     "name": "stderr",
     "output_type": "stream",
     "text": [
      "100  4496  100  4496    0     0  14775      0 --:--:-- --:--:-- --:--:-- 14986\n",
      "  % Total    % Received % Xferd  Average Speed   Time    Time     Time  Current\n",
      "                                 Dload  Upload   Total   Spent    Left  Speed\n",
      "  0     0    0     0    0     0      0      0 --:--:-- --:--:-- --:--:--     0"
     ]
    },
    {
     "name": "stdout",
     "output_type": "stream",
     "text": [
      "Downloading https://croptalk-spoi.s3.amazonaws.com/SPOI/26_059_55_0062_20101130.pdf to /Users/katerina/Documents/CropGuard/Dec_demo/demo_knowledge/26_059_55_0062_20101130.pdf\n"
     ]
    },
    {
     "name": "stderr",
     "output_type": "stream",
     "text": [
      "100  4503  100  4503    0     0  14417      0 --:--:-- --:--:-- --:--:-- 14572\n",
      "  % Total    % Received % Xferd  Average Speed   Time    Time     Time  Current\n",
      "                                 Dload  Upload   Total   Spent    Left  Speed\n",
      "  0     0    0     0    0     0      0      0 --:--:-- --:--:-- --:--:--     0"
     ]
    },
    {
     "name": "stdout",
     "output_type": "stream",
     "text": [
      "Downloading https://croptalk-spoi.s3.amazonaws.com/SPOI/19_035_55_0062_20101130.pdf to /Users/katerina/Documents/CropGuard/Dec_demo/demo_knowledge/19_035_55_0062_20101130.pdf\n"
     ]
    },
    {
     "name": "stderr",
     "output_type": "stream",
     "text": [
      "100  3590  100  3590    0     0  12064      0 --:--:-- --:--:-- --:--:-- 12210\n",
      "  % Total    % Received % Xferd  Average Speed   Time    Time     Time  Current\n",
      "                                 Dload  Upload   Total   Spent    Left  Speed\n",
      "  0     0    0     0    0     0      0      0 --:--:-- --:--:-- --:--:--     0"
     ]
    },
    {
     "name": "stdout",
     "output_type": "stream",
     "text": [
      "Downloading https://croptalk-spoi.s3.amazonaws.com/SPOI/21_101_55_0062_20101130.pdf to /Users/katerina/Documents/CropGuard/Dec_demo/demo_knowledge/21_101_55_0062_20101130.pdf\n"
     ]
    },
    {
     "name": "stderr",
     "output_type": "stream",
     "text": [
      "100  3496  100  3496    0     0   8499      0 --:--:-- --:--:-- --:--:--  8568\n",
      "  % Total    % Received % Xferd  Average Speed   Time    Time     Time  Current\n",
      "                                 Dload  Upload   Total   Spent    Left  Speed\n",
      "  0     0    0     0    0     0      0      0 --:--:-- --:--:-- --:--:--     0"
     ]
    },
    {
     "name": "stdout",
     "output_type": "stream",
     "text": [
      "Downloading https://croptalk-spoi.s3.amazonaws.com/SPOI/19_137_55_0062_20101130.pdf to /Users/katerina/Documents/CropGuard/Dec_demo/demo_knowledge/19_137_55_0062_20101130.pdf\n"
     ]
    },
    {
     "name": "stderr",
     "output_type": "stream",
     "text": [
      "100  3590  100  3590    0     0   8612      0 --:--:-- --:--:-- --:--:--  8692\n",
      "  % Total    % Received % Xferd  Average Speed   Time    Time     Time  Current\n",
      "                                 Dload  Upload   Total   Spent    Left  Speed\n",
      "  0     0    0     0    0     0      0      0 --:--:-- --:--:-- --:--:--     0"
     ]
    },
    {
     "name": "stdout",
     "output_type": "stream",
     "text": [
      "Downloading https://croptalk-spoi.s3.amazonaws.com/SPOI/19_129_55_0062_20101130.pdf to /Users/katerina/Documents/CropGuard/Dec_demo/demo_knowledge/19_129_55_0062_20101130.pdf\n"
     ]
    },
    {
     "name": "stderr",
     "output_type": "stream",
     "text": [
      "100  5628  100  5628    0     0  17367      0 --:--:-- --:--:-- --:--:-- 17587\n",
      "  % Total    % Received % Xferd  Average Speed   Time    Time     Time  Current\n",
      "                                 Dload  Upload   Total   Spent    Left  Speed\n",
      "  0     0    0     0    0     0      0      0 --:--:-- --:--:-- --:--:--     0"
     ]
    },
    {
     "name": "stdout",
     "output_type": "stream",
     "text": [
      "Downloading https://croptalk-spoi.s3.amazonaws.com/SPOI/39_023_55_0062_20101130.pdf to /Users/katerina/Documents/CropGuard/Dec_demo/demo_knowledge/39_023_55_0062_20101130.pdf\n"
     ]
    },
    {
     "name": "stderr",
     "output_type": "stream",
     "text": [
      "100  4498  100  4498    0     0   6817      0 --:--:-- --:--:-- --:--:--  6846\n",
      "  % Total    % Received % Xferd  Average Speed   Time    Time     Time  Current\n",
      "                                 Dload  Upload   Total   Spent    Left  Speed\n",
      "  0     0    0     0    0     0      0      0 --:--:-- --:--:-- --:--:--     0"
     ]
    },
    {
     "name": "stdout",
     "output_type": "stream",
     "text": [
      "Downloading https://croptalk-spoi.s3.amazonaws.com/SPOI/39_027_55_0062_20101130.pdf to /Users/katerina/Documents/CropGuard/Dec_demo/demo_knowledge/39_027_55_0062_20101130.pdf\n"
     ]
    },
    {
     "name": "stderr",
     "output_type": "stream",
     "text": [
      "100  4501  100  4501    0     0   5428      0 --:--:-- --:--:-- --:--:--  5455\n",
      "  % Total    % Received % Xferd  Average Speed   Time    Time     Time  Current\n",
      "                                 Dload  Upload   Total   Spent    Left  Speed\n",
      "  0     0    0     0    0     0      0      0 --:--:-- --:--:-- --:--:--     0"
     ]
    },
    {
     "name": "stdout",
     "output_type": "stream",
     "text": [
      "Downloading https://croptalk-spoi.s3.amazonaws.com/SPOI/39_033_55_0062_20101130.pdf to /Users/katerina/Documents/CropGuard/Dec_demo/demo_knowledge/39_033_55_0062_20101130.pdf\n"
     ]
    },
    {
     "name": "stderr",
     "output_type": "stream",
     "text": [
      "100  4502  100  4502    0     0   6524      0 --:--:-- --:--:-- --:--:--  6543\n",
      "  % Total    % Received % Xferd  Average Speed   Time    Time     Time  Current\n",
      "                                 Dload  Upload   Total   Spent    Left  Speed\n",
      "  0     0    0     0    0     0      0      0 --:--:-- --:--:-- --:--:--     0"
     ]
    },
    {
     "name": "stdout",
     "output_type": "stream",
     "text": [
      "Downloading https://croptalk-spoi.s3.amazonaws.com/SPOI/26_075_90_0013_20101130.pdf to /Users/katerina/Documents/CropGuard/Dec_demo/demo_knowledge/26_075_90_0013_20101130.pdf\n"
     ]
    },
    {
     "name": "stderr",
     "output_type": "stream",
     "text": [
      "100  6882  100  6882    0     0   9285      0 --:--:-- --:--:-- --:--:--  9337\n",
      "  % Total    % Received % Xferd  Average Speed   Time    Time     Time  Current\n",
      "                                 Dload  Upload   Total   Spent    Left  Speed\n",
      "  0     0    0     0    0     0      0      0 --:--:-- --:--:-- --:--:--     0"
     ]
    },
    {
     "name": "stdout",
     "output_type": "stream",
     "text": [
      "Downloading https://croptalk-spoi.s3.amazonaws.com/SPOI/26_073_90_0013_20101130.pdf to /Users/katerina/Documents/CropGuard/Dec_demo/demo_knowledge/26_073_90_0013_20101130.pdf\n"
     ]
    },
    {
     "name": "stderr",
     "output_type": "stream",
     "text": [
      "100  6889  100  6889    0     0  15368      0 --:--:-- --:--:-- --:--:-- 15480\n",
      "  % Total    % Received % Xferd  Average Speed   Time    Time     Time  Current\n",
      "                                 Dload  Upload   Total   Spent    Left  Speed\n",
      "  0     0    0     0    0     0      0      0 --:--:-- --:--:-- --:--:--     0"
     ]
    },
    {
     "name": "stdout",
     "output_type": "stream",
     "text": [
      "Downloading https://croptalk-spoi.s3.amazonaws.com/SPOI/26_161_90_0013_20101130.pdf to /Users/katerina/Documents/CropGuard/Dec_demo/demo_knowledge/26_161_90_0013_20101130.pdf\n"
     ]
    },
    {
     "name": "stderr",
     "output_type": "stream",
     "text": [
      "100  6891  100  6891    0     0  14060      0 --:--:-- --:--:-- --:--:-- 14149\n",
      "  % Total    % Received % Xferd  Average Speed   Time    Time     Time  Current\n",
      "                                 Dload  Upload   Total   Spent    Left  Speed\n",
      "  0     0    0     0    0     0      0      0 --:--:-- --:--:-- --:--:--     0"
     ]
    },
    {
     "name": "stdout",
     "output_type": "stream",
     "text": [
      "Downloading https://croptalk-spoi.s3.amazonaws.com/SPOI/26_011_90_0013_20101130.pdf to /Users/katerina/Documents/CropGuard/Dec_demo/demo_knowledge/26_011_90_0013_20101130.pdf\n"
     ]
    },
    {
     "name": "stderr",
     "output_type": "stream",
     "text": [
      "100  6887  100  6887    0     0  24918      0 --:--:-- --:--:-- --:--:-- 25319\n",
      "  % Total    % Received % Xferd  Average Speed   Time    Time     Time  Current\n",
      "                                 Dload  Upload   Total   Spent    Left  Speed\n",
      "  0     0    0     0    0     0      0      0 --:--:-- --:--:-- --:--:--     0"
     ]
    },
    {
     "name": "stdout",
     "output_type": "stream",
     "text": [
      "Downloading https://croptalk-spoi.s3.amazonaws.com/SPOI/39_131_55_0062_20101130.pdf to /Users/katerina/Documents/CropGuard/Dec_demo/demo_knowledge/39_131_55_0062_20101130.pdf\n"
     ]
    },
    {
     "name": "stderr",
     "output_type": "stream",
     "text": [
      "100  4499  100  4499    0     0  16222      0 --:--:-- --:--:-- --:--:-- 16419\n",
      "  % Total    % Received % Xferd  Average Speed   Time    Time     Time  Current\n",
      "                                 Dload  Upload   Total   Spent    Left  Speed\n",
      "  0     0    0     0    0     0      0      0 --:--:-- --:--:-- --:--:--     0"
     ]
    },
    {
     "name": "stdout",
     "output_type": "stream",
     "text": [
      "Downloading https://croptalk-spoi.s3.amazonaws.com/SPOI/39_129_55_0062_20101130.pdf to /Users/katerina/Documents/CropGuard/Dec_demo/demo_knowledge/39_129_55_0062_20101130.pdf\n"
     ]
    },
    {
     "name": "stderr",
     "output_type": "stream",
     "text": [
      "100  4498  100  4498    0     0  13871      0 --:--:-- --:--:-- --:--:-- 14012\n",
      "  % Total    % Received % Xferd  Average Speed   Time    Time     Time  Current\n",
      "                                 Dload  Upload   Total   Spent    Left  Speed\n",
      "  0     0    0     0    0     0      0      0 --:--:-- --:--:-- --:--:--     0"
     ]
    },
    {
     "name": "stdout",
     "output_type": "stream",
     "text": [
      "Downloading https://croptalk-spoi.s3.amazonaws.com/SPOI/39_125_55_0062_20101130.pdf to /Users/katerina/Documents/CropGuard/Dec_demo/demo_knowledge/39_125_55_0062_20101130.pdf\n"
     ]
    },
    {
     "name": "stderr",
     "output_type": "stream",
     "text": [
      "100  4502  100  4502    0     0  16049      0 --:--:-- --:--:-- --:--:-- 16252\n",
      "  % Total    % Received % Xferd  Average Speed   Time    Time     Time  Current\n",
      "                                 Dload  Upload   Total   Spent    Left  Speed\n",
      "  0     0    0     0    0     0      0      0 --:--:-- --:--:-- --:--:--     0"
     ]
    },
    {
     "name": "stdout",
     "output_type": "stream",
     "text": [
      "Downloading https://croptalk-spoi.s3.amazonaws.com/SPOI/39_123_55_0062_20101130.pdf to /Users/katerina/Documents/CropGuard/Dec_demo/demo_knowledge/39_123_55_0062_20101130.pdf\n"
     ]
    },
    {
     "name": "stderr",
     "output_type": "stream",
     "text": [
      "100  4502  100  4502    0     0  12605      0 --:--:-- --:--:-- --:--:-- 12753\n",
      "  % Total    % Received % Xferd  Average Speed   Time    Time     Time  Current\n",
      "                                 Dload  Upload   Total   Spent    Left  Speed\n",
      "  0     0    0     0    0     0      0      0 --:--:-- --:--:-- --:--:--     0"
     ]
    },
    {
     "name": "stdout",
     "output_type": "stream",
     "text": [
      "Downloading https://croptalk-spoi.s3.amazonaws.com/SPOI/39_117_55_0062_20101130.pdf to /Users/katerina/Documents/CropGuard/Dec_demo/demo_knowledge/39_117_55_0062_20101130.pdf\n"
     ]
    },
    {
     "name": "stderr",
     "output_type": "stream",
     "text": [
      "100  4502  100  4502    0     0  16305      0 --:--:-- --:--:-- --:--:-- 16551\n",
      "  % Total    % Received % Xferd  Average Speed   Time    Time     Time  Current\n",
      "                                 Dload  Upload   Total   Spent    Left  Speed\n",
      "  0     0    0     0    0     0      0      0 --:--:-- --:--:-- --:--:--     0"
     ]
    },
    {
     "name": "stdout",
     "output_type": "stream",
     "text": [
      "Downloading https://croptalk-spoi.s3.amazonaws.com/SPOI/39_109_55_0062_20101130.pdf to /Users/katerina/Documents/CropGuard/Dec_demo/demo_knowledge/39_109_55_0062_20101130.pdf\n"
     ]
    },
    {
     "name": "stderr",
     "output_type": "stream",
     "text": [
      "100  5823  100  5823    0     0  19734      0 --:--:-- --:--:-- --:--:-- 19941\n",
      "  % Total    % Received % Xferd  Average Speed   Time    Time     Time  Current\n",
      "                                 Dload  Upload   Total   Spent    Left  Speed\n",
      "  0     0    0     0    0     0      0      0 --:--:-- --:--:-- --:--:--     0"
     ]
    },
    {
     "name": "stdout",
     "output_type": "stream",
     "text": [
      "Downloading https://croptalk-spoi.s3.amazonaws.com/SPOI/39_107_55_0062_20101130.pdf to /Users/katerina/Documents/CropGuard/Dec_demo/demo_knowledge/39_107_55_0062_20101130.pdf\n"
     ]
    },
    {
     "name": "stderr",
     "output_type": "stream",
     "text": [
      "100  4503  100  4503    0     0  15421      0 --:--:-- --:--:-- --:--:-- 15689\n",
      "  % Total    % Received % Xferd  Average Speed   Time    Time     Time  Current\n",
      "                                 Dload  Upload   Total   Spent    Left  Speed\n",
      "  0     0    0     0    0     0      0      0 --:--:-- --:--:-- --:--:--     0"
     ]
    },
    {
     "name": "stdout",
     "output_type": "stream",
     "text": [
      "Downloading https://croptalk-spoi.s3.amazonaws.com/SPOI/39_101_55_0062_20101130.pdf to /Users/katerina/Documents/CropGuard/Dec_demo/demo_knowledge/39_101_55_0062_20101130.pdf\n"
     ]
    },
    {
     "name": "stderr",
     "output_type": "stream",
     "text": [
      "100  4501  100  4501    0     0  13192      0 --:--:-- --:--:-- --:--:-- 13395\n",
      "  % Total    % Received % Xferd  Average Speed   Time    Time     Time  Current\n",
      "                                 Dload  Upload   Total   Spent    Left  Speed\n",
      "  0     0    0     0    0     0      0      0 --:--:-- --:--:-- --:--:--     0"
     ]
    },
    {
     "name": "stdout",
     "output_type": "stream",
     "text": [
      "Downloading https://croptalk-spoi.s3.amazonaws.com/SPOI/39_097_55_0062_20101130.pdf to /Users/katerina/Documents/CropGuard/Dec_demo/demo_knowledge/39_097_55_0062_20101130.pdf\n"
     ]
    },
    {
     "name": "stderr",
     "output_type": "stream",
     "text": [
      "100  4504  100  4504    0     0  14391      0 --:--:-- --:--:-- --:--:-- 14576\n",
      "  % Total    % Received % Xferd  Average Speed   Time    Time     Time  Current\n",
      "                                 Dload  Upload   Total   Spent    Left  Speed\n",
      "  0     0    0     0    0     0      0      0 --:--:-- --:--:-- --:--:--     0"
     ]
    },
    {
     "name": "stdout",
     "output_type": "stream",
     "text": [
      "Downloading https://croptalk-spoi.s3.amazonaws.com/SPOI/39_095_55_0062_20101130.pdf to /Users/katerina/Documents/CropGuard/Dec_demo/demo_knowledge/39_095_55_0062_20101130.pdf\n"
     ]
    },
    {
     "name": "stderr",
     "output_type": "stream",
     "text": [
      "100  4500  100  4500    0     0  15251      0 --:--:-- --:--:-- --:--:-- 15517\n",
      "  % Total    % Received % Xferd  Average Speed   Time    Time     Time  Current\n",
      "                                 Dload  Upload   Total   Spent    Left  Speed\n",
      "  0     0    0     0    0     0      0      0 --:--:-- --:--:-- --:--:--     0"
     ]
    },
    {
     "name": "stdout",
     "output_type": "stream",
     "text": [
      "Downloading https://croptalk-spoi.s3.amazonaws.com/SPOI/39_093_55_0062_20101130.pdf to /Users/katerina/Documents/CropGuard/Dec_demo/demo_knowledge/39_093_55_0062_20101130.pdf\n"
     ]
    },
    {
     "name": "stderr",
     "output_type": "stream",
     "text": [
      "100  4496  100  4496    0     0  18028      0 --:--:-- --:--:-- --:--:-- 18351\n",
      "  % Total    % Received % Xferd  Average Speed   Time    Time     Time  Current\n",
      "                                 Dload  Upload   Total   Spent    Left  Speed\n",
      "  0     0    0     0    0     0      0      0 --:--:-- --:--:-- --:--:--     0"
     ]
    },
    {
     "name": "stdout",
     "output_type": "stream",
     "text": [
      "Downloading https://croptalk-spoi.s3.amazonaws.com/SPOI/39_091_55_0062_20101130.pdf to /Users/katerina/Documents/CropGuard/Dec_demo/demo_knowledge/39_091_55_0062_20101130.pdf\n"
     ]
    },
    {
     "name": "stderr",
     "output_type": "stream",
     "text": [
      "100  4495  100  4495    0     0  16133      0 --:--:-- --:--:-- --:--:-- 16345\n",
      "  % Total    % Received % Xferd  Average Speed   Time    Time     Time  Current\n",
      "                                 Dload  Upload   Total   Spent    Left  Speed\n",
      "  0     0    0     0    0     0      0      0 --:--:-- --:--:-- --:--:--     0"
     ]
    },
    {
     "name": "stdout",
     "output_type": "stream",
     "text": [
      "Downloading https://croptalk-spoi.s3.amazonaws.com/SPOI/39_077_55_0062_20101130.pdf to /Users/katerina/Documents/CropGuard/Dec_demo/demo_knowledge/39_077_55_0062_20101130.pdf\n"
     ]
    },
    {
     "name": "stderr",
     "output_type": "stream",
     "text": [
      "100  4501  100  4501    0     0  15121      0 --:--:-- --:--:-- --:--:-- 15309\n",
      "  % Total    % Received % Xferd  Average Speed   Time    Time     Time  Current\n",
      "                                 Dload  Upload   Total   Spent    Left  Speed\n",
      "  0     0    0     0    0     0      0      0 --:--:-- --:--:-- --:--:--     0"
     ]
    },
    {
     "name": "stdout",
     "output_type": "stream",
     "text": [
      "Downloading https://croptalk-spoi.s3.amazonaws.com/SPOI/39_071_55_0062_20101130.pdf to /Users/katerina/Documents/CropGuard/Dec_demo/demo_knowledge/39_071_55_0062_20101130.pdf\n"
     ]
    },
    {
     "name": "stderr",
     "output_type": "stream",
     "text": [
      "100  4502  100  4502    0     0  15553      0 --:--:-- --:--:-- --:--:-- 15741\n",
      "  % Total    % Received % Xferd  Average Speed   Time    Time     Time  Current\n",
      "                                 Dload  Upload   Total   Spent    Left  Speed\n",
      "  0     0    0     0    0     0      0      0 --:--:-- --:--:-- --:--:--     0"
     ]
    },
    {
     "name": "stdout",
     "output_type": "stream",
     "text": [
      "Downloading https://croptalk-spoi.s3.amazonaws.com/SPOI/39_069_55_0062_20101130.pdf to /Users/katerina/Documents/CropGuard/Dec_demo/demo_knowledge/39_069_55_0062_20101130.pdf\n"
     ]
    },
    {
     "name": "stderr",
     "output_type": "stream",
     "text": [
      "100  4501  100  4501    0     0  17875      0 --:--:-- --:--:-- --:--:-- 18149\n",
      "  % Total    % Received % Xferd  Average Speed   Time    Time     Time  Current\n",
      "                                 Dload  Upload   Total   Spent    Left  Speed\n",
      "  0     0    0     0    0     0      0      0 --:--:-- --:--:-- --:--:--     0"
     ]
    },
    {
     "name": "stdout",
     "output_type": "stream",
     "text": [
      "Downloading https://croptalk-spoi.s3.amazonaws.com/SPOI/39_065_55_0062_20101130.pdf to /Users/katerina/Documents/CropGuard/Dec_demo/demo_knowledge/39_065_55_0062_20101130.pdf\n"
     ]
    },
    {
     "name": "stderr",
     "output_type": "stream",
     "text": [
      "100  4500  100  4500    0     0  12852      0 --:--:-- --:--:-- --:--:-- 12931\n",
      "  % Total    % Received % Xferd  Average Speed   Time    Time     Time  Current\n",
      "                                 Dload  Upload   Total   Spent    Left  Speed\n",
      "  0     0    0     0    0     0      0      0 --:--:-- --:--:-- --:--:--     0"
     ]
    },
    {
     "name": "stdout",
     "output_type": "stream",
     "text": [
      "Downloading https://croptalk-spoi.s3.amazonaws.com/SPOI/39_063_55_0062_20101130.pdf to /Users/katerina/Documents/CropGuard/Dec_demo/demo_knowledge/39_063_55_0062_20101130.pdf\n"
     ]
    },
    {
     "name": "stderr",
     "output_type": "stream",
     "text": [
      "100  4505  100  4505    0     0  15075      0 --:--:-- --:--:-- --:--:-- 15219\n",
      "  % Total    % Received % Xferd  Average Speed   Time    Time     Time  Current\n",
      "                                 Dload  Upload   Total   Spent    Left  Speed\n",
      "  0     0    0     0    0     0      0      0 --:--:-- --:--:-- --:--:--     0"
     ]
    },
    {
     "name": "stdout",
     "output_type": "stream",
     "text": [
      "Downloading https://croptalk-spoi.s3.amazonaws.com/SPOI/39_057_55_0062_20101130.pdf to /Users/katerina/Documents/CropGuard/Dec_demo/demo_knowledge/39_057_55_0062_20101130.pdf\n"
     ]
    },
    {
     "name": "stderr",
     "output_type": "stream",
     "text": [
      "100  4500  100  4500    0     0  16846      0 --:--:-- --:--:-- --:--:-- 17045\n",
      "  % Total    % Received % Xferd  Average Speed   Time    Time     Time  Current\n",
      "                                 Dload  Upload   Total   Spent    Left  Speed\n",
      "  0     0    0     0    0     0      0      0 --:--:-- --:--:-- --:--:--     0"
     ]
    },
    {
     "name": "stdout",
     "output_type": "stream",
     "text": [
      "Downloading https://croptalk-spoi.s3.amazonaws.com/SPOI/39_051_55_0062_20101130.pdf to /Users/katerina/Documents/CropGuard/Dec_demo/demo_knowledge/39_051_55_0062_20101130.pdf\n"
     ]
    },
    {
     "name": "stderr",
     "output_type": "stream",
     "text": [
      "100  4496  100  4496    0     0  15879      0 --:--:-- --:--:-- --:--:-- 16114\n",
      "  % Total    % Received % Xferd  Average Speed   Time    Time     Time  Current\n",
      "                                 Dload  Upload   Total   Spent    Left  Speed\n",
      "  0     0    0     0    0     0      0      0 --:--:-- --:--:-- --:--:--     0"
     ]
    },
    {
     "name": "stdout",
     "output_type": "stream",
     "text": [
      "Downloading https://croptalk-spoi.s3.amazonaws.com/SPOI/39_049_55_0062_20101130.pdf to /Users/katerina/Documents/CropGuard/Dec_demo/demo_knowledge/39_049_55_0062_20101130.pdf\n"
     ]
    },
    {
     "name": "stderr",
     "output_type": "stream",
     "text": [
      "100  4500  100  4500    0     0  15622      0 --:--:-- --:--:-- --:--:-- 15901\n",
      "  % Total    % Received % Xferd  Average Speed   Time    Time     Time  Current\n",
      "                                 Dload  Upload   Total   Spent    Left  Speed\n",
      "  0     0    0     0    0     0      0      0 --:--:-- --:--:-- --:--:--     0"
     ]
    },
    {
     "name": "stdout",
     "output_type": "stream",
     "text": [
      "Downloading https://croptalk-spoi.s3.amazonaws.com/SPOI/39_047_55_0062_20101130.pdf to /Users/katerina/Documents/CropGuard/Dec_demo/demo_knowledge/39_047_55_0062_20101130.pdf\n"
     ]
    },
    {
     "name": "stderr",
     "output_type": "stream",
     "text": [
      "100  4501  100  4501    0     0  15698      0 --:--:-- --:--:-- --:--:-- 15960\n",
      "  % Total    % Received % Xferd  Average Speed   Time    Time     Time  Current\n",
      "                                 Dload  Upload   Total   Spent    Left  Speed\n",
      "  0     0    0     0    0     0      0      0 --:--:-- --:--:-- --:--:--     0"
     ]
    },
    {
     "name": "stdout",
     "output_type": "stream",
     "text": [
      "Downloading https://croptalk-spoi.s3.amazonaws.com/SPOI/39_043_55_0062_20101130.pdf to /Users/katerina/Documents/CropGuard/Dec_demo/demo_knowledge/39_043_55_0062_20101130.pdf\n"
     ]
    },
    {
     "name": "stderr",
     "output_type": "stream",
     "text": [
      "100  4498  100  4498    0     0  16376      0 --:--:-- --:--:-- --:--:-- 16536\n",
      "  % Total    % Received % Xferd  Average Speed   Time    Time     Time  Current\n",
      "                                 Dload  Upload   Total   Spent    Left  Speed\n",
      "  0     0    0     0    0     0      0      0 --:--:-- --:--:-- --:--:--     0"
     ]
    },
    {
     "name": "stdout",
     "output_type": "stream",
     "text": [
      "Downloading https://croptalk-spoi.s3.amazonaws.com/SPOI/39_041_55_0062_20101130.pdf to /Users/katerina/Documents/CropGuard/Dec_demo/demo_knowledge/39_041_55_0062_20101130.pdf\n"
     ]
    },
    {
     "name": "stderr",
     "output_type": "stream",
     "text": [
      "100  4497  100  4497    0     0  16248      0 --:--:-- --:--:-- --:--:-- 16533\n",
      "  % Total    % Received % Xferd  Average Speed   Time    Time     Time  Current\n",
      "                                 Dload  Upload   Total   Spent    Left  Speed\n",
      "  0     0    0     0    0     0      0      0 --:--:-- --:--:-- --:--:--     0"
     ]
    },
    {
     "name": "stdout",
     "output_type": "stream",
     "text": [
      "Downloading https://croptalk-spoi.s3.amazonaws.com/SPOI/39_039_55_0062_20101130.pdf to /Users/katerina/Documents/CropGuard/Dec_demo/demo_knowledge/39_039_55_0062_20101130.pdf\n"
     ]
    },
    {
     "name": "stderr",
     "output_type": "stream",
     "text": [
      "100  4497  100  4497    0     0  13844      0 --:--:-- --:--:-- --:--:-- 14053\n",
      "  % Total    % Received % Xferd  Average Speed   Time    Time     Time  Current\n",
      "                                 Dload  Upload   Total   Spent    Left  Speed\n",
      "  0     0    0     0    0     0      0      0 --:--:-- --:--:-- --:--:--     0"
     ]
    },
    {
     "name": "stdout",
     "output_type": "stream",
     "text": [
      "Downloading https://croptalk-spoi.s3.amazonaws.com/SPOI/39_037_55_0062_20101130.pdf to /Users/katerina/Documents/CropGuard/Dec_demo/demo_knowledge/39_037_55_0062_20101130.pdf\n"
     ]
    },
    {
     "name": "stderr",
     "output_type": "stream",
     "text": [
      "100  4499  100  4499    0     0  16209      0 --:--:-- --:--:-- --:--:-- 16419\n",
      "  % Total    % Received % Xferd  Average Speed   Time    Time     Time  Current\n",
      "                                 Dload  Upload   Total   Spent    Left  Speed\n",
      "  0     0    0     0    0     0      0      0 --:--:-- --:--:-- --:--:--     0"
     ]
    },
    {
     "name": "stdout",
     "output_type": "stream",
     "text": [
      "Downloading https://croptalk-spoi.s3.amazonaws.com/SPOI/39_083_55_0062_20101130.pdf to /Users/katerina/Documents/CropGuard/Dec_demo/demo_knowledge/39_083_55_0062_20101130.pdf\n"
     ]
    },
    {
     "name": "stderr",
     "output_type": "stream",
     "text": [
      "100  4497  100  4497    0     0  16194      0 --:--:-- --:--:-- --:--:-- 16472\n",
      "  % Total    % Received % Xferd  Average Speed   Time    Time     Time  Current\n",
      "                                 Dload  Upload   Total   Spent    Left  Speed\n",
      "  0     0    0     0    0     0      0      0 --:--:-- --:--:-- --:--:--     0"
     ]
    },
    {
     "name": "stdout",
     "output_type": "stream",
     "text": [
      "Downloading https://croptalk-spoi.s3.amazonaws.com/SPOI/39_137_55_0062_20101130.pdf to /Users/katerina/Documents/CropGuard/Dec_demo/demo_knowledge/39_137_55_0062_20101130.pdf\n"
     ]
    },
    {
     "name": "stderr",
     "output_type": "stream",
     "text": [
      "100  4503  100  4503    0     0  15048      0 --:--:-- --:--:-- --:--:-- 15264\n",
      "  % Total    % Received % Xferd  Average Speed   Time    Time     Time  Current\n",
      "                                 Dload  Upload   Total   Spent    Left  Speed\n",
      "  0     0    0     0    0     0      0      0 --:--:-- --:--:-- --:--:--     0"
     ]
    },
    {
     "name": "stdout",
     "output_type": "stream",
     "text": [
      "Downloading https://croptalk-spoi.s3.amazonaws.com/SPOI/39_143_55_0062_20101130.pdf to /Users/katerina/Documents/CropGuard/Dec_demo/demo_knowledge/39_143_55_0062_20101130.pdf\n"
     ]
    },
    {
     "name": "stderr",
     "output_type": "stream",
     "text": [
      "100  4502  100  4502    0     0  16502      0 --:--:-- --:--:-- --:--:-- 16736\n",
      "  % Total    % Received % Xferd  Average Speed   Time    Time     Time  Current\n",
      "                                 Dload  Upload   Total   Spent    Left  Speed\n",
      "  0     0    0     0    0     0      0      0 --:--:-- --:--:-- --:--:--     0"
     ]
    },
    {
     "name": "stdout",
     "output_type": "stream",
     "text": [
      "Downloading https://croptalk-spoi.s3.amazonaws.com/SPOI/08_013_90_0013_20101130.pdf to /Users/katerina/Documents/CropGuard/Dec_demo/demo_knowledge/08_013_90_0013_20101130.pdf\n"
     ]
    },
    {
     "name": "stderr",
     "output_type": "stream",
     "text": [
      "100  3985  100  3985    0     0  14475      0 --:--:-- --:--:-- --:--:-- 14704\n",
      "  % Total    % Received % Xferd  Average Speed   Time    Time     Time  Current\n",
      "                                 Dload  Upload   Total   Spent    Left  Speed\n",
      "  0     0    0     0    0     0      0      0 --:--:-- --:--:-- --:--:--     0"
     ]
    },
    {
     "name": "stdout",
     "output_type": "stream",
     "text": [
      "Downloading https://croptalk-spoi.s3.amazonaws.com/SPOI/39_139_55_0062_20101130.pdf to /Users/katerina/Documents/CropGuard/Dec_demo/demo_knowledge/39_139_55_0062_20101130.pdf\n"
     ]
    },
    {
     "name": "stderr",
     "output_type": "stream",
     "text": [
      "100  4503  100  4503    0     0  17008      0 --:--:-- --:--:-- --:--:-- 17187\n",
      "  % Total    % Received % Xferd  Average Speed   Time    Time     Time  Current\n",
      "                                 Dload  Upload   Total   Spent    Left  Speed\n",
      "  0     0    0     0    0     0      0      0 --:--:-- --:--:-- --:--:--     0"
     ]
    },
    {
     "name": "stdout",
     "output_type": "stream",
     "text": [
      "Downloading https://croptalk-spoi.s3.amazonaws.com/SPOI/39_175_55_0062_20101130.pdf to /Users/katerina/Documents/CropGuard/Dec_demo/demo_knowledge/39_175_55_0062_20101130.pdf\n"
     ]
    },
    {
     "name": "stderr",
     "output_type": "stream",
     "text": [
      "100  4501  100  4501    0     0  12683      0 --:--:-- --:--:-- --:--:-- 12786\n",
      "  % Total    % Received % Xferd  Average Speed   Time    Time     Time  Current\n",
      "                                 Dload  Upload   Total   Spent    Left  Speed\n",
      "  0     0    0     0    0     0      0      0 --:--:-- --:--:-- --:--:--     0"
     ]
    },
    {
     "name": "stdout",
     "output_type": "stream",
     "text": [
      "Downloading https://croptalk-spoi.s3.amazonaws.com/SPOI/39_173_55_0062_20101130.pdf to /Users/katerina/Documents/CropGuard/Dec_demo/demo_knowledge/39_173_55_0062_20101130.pdf\n"
     ]
    },
    {
     "name": "stderr",
     "output_type": "stream",
     "text": [
      "100  4501  100  4501    0     0  17758      0 --:--:-- --:--:-- --:--:-- 17932\n",
      "  % Total    % Received % Xferd  Average Speed   Time    Time     Time  Current\n",
      "                                 Dload  Upload   Total   Spent    Left  Speed\n",
      "  0     0    0     0    0     0      0      0 --:--:-- --:--:-- --:--:--     0"
     ]
    },
    {
     "name": "stdout",
     "output_type": "stream",
     "text": [
      "Downloading https://croptalk-spoi.s3.amazonaws.com/SPOI/39_171_55_0062_20101130.pdf to /Users/katerina/Documents/CropGuard/Dec_demo/demo_knowledge/39_171_55_0062_20101130.pdf\n"
     ]
    },
    {
     "name": "stderr",
     "output_type": "stream",
     "text": [
      "100  4501  100  4501    0     0  14951      0 --:--:-- --:--:-- --:--:-- 15104\n",
      "  % Total    % Received % Xferd  Average Speed   Time    Time     Time  Current\n",
      "                                 Dload  Upload   Total   Spent    Left  Speed\n",
      "  0     0    0     0    0     0      0      0 --:--:-- --:--:-- --:--:--     0"
     ]
    },
    {
     "name": "stdout",
     "output_type": "stream",
     "text": [
      "Downloading https://croptalk-spoi.s3.amazonaws.com/SPOI/39_165_55_0062_20101130.pdf to /Users/katerina/Documents/CropGuard/Dec_demo/demo_knowledge/39_165_55_0062_20101130.pdf\n"
     ]
    },
    {
     "name": "stderr",
     "output_type": "stream",
     "text": [
      "100  5823  100  5823    0     0  17958      0 --:--:-- --:--:-- --:--:-- 18140\n",
      "  % Total    % Received % Xferd  Average Speed   Time    Time     Time  Current\n",
      "                                 Dload  Upload   Total   Spent    Left  Speed\n",
      "  0     0    0     0    0     0      0      0 --:--:-- --:--:-- --:--:--     0"
     ]
    },
    {
     "name": "stdout",
     "output_type": "stream",
     "text": [
      "Downloading https://croptalk-spoi.s3.amazonaws.com/SPOI/39_161_55_0062_20101130.pdf to /Users/katerina/Documents/CropGuard/Dec_demo/demo_knowledge/39_161_55_0062_20101130.pdf\n"
     ]
    },
    {
     "name": "stderr",
     "output_type": "stream",
     "text": [
      "100  4503  100  4503    0     0  15378      0 --:--:-- --:--:-- --:--:-- 15581\n",
      "  % Total    % Received % Xferd  Average Speed   Time    Time     Time  Current\n",
      "                                 Dload  Upload   Total   Spent    Left  Speed\n",
      "  0     0    0     0    0     0      0      0 --:--:-- --:--:-- --:--:--     0"
     ]
    },
    {
     "name": "stdout",
     "output_type": "stream",
     "text": [
      "Downloading https://croptalk-spoi.s3.amazonaws.com/SPOI/39_159_55_0062_20101130.pdf to /Users/katerina/Documents/CropGuard/Dec_demo/demo_knowledge/39_159_55_0062_20101130.pdf\n"
     ]
    },
    {
     "name": "stderr",
     "output_type": "stream",
     "text": [
      "100  4499  100  4499    0     0   6397      0 --:--:-- --:--:-- --:--:--  6436\n",
      "  % Total    % Received % Xferd  Average Speed   Time    Time     Time  Current\n",
      "                                 Dload  Upload   Total   Spent    Left  Speed\n",
      "  0     0    0     0    0     0      0      0 --:--:-- --:--:-- --:--:--     0"
     ]
    },
    {
     "name": "stdout",
     "output_type": "stream",
     "text": [
      "Downloading https://croptalk-spoi.s3.amazonaws.com/SPOI/39_149_55_0062_20101130.pdf to /Users/katerina/Documents/CropGuard/Dec_demo/demo_knowledge/39_149_55_0062_20101130.pdf\n"
     ]
    },
    {
     "name": "stderr",
     "output_type": "stream",
     "text": [
      "100  5820  100  5820    0     0   7062      0 --:--:-- --:--:-- --:--:--  7097\n",
      "  % Total    % Received % Xferd  Average Speed   Time    Time     Time  Current\n",
      "                                 Dload  Upload   Total   Spent    Left  Speed\n",
      "  0     0    0     0    0     0      0      0 --:--:-- --:--:-- --:--:--     0"
     ]
    },
    {
     "name": "stdout",
     "output_type": "stream",
     "text": [
      "Downloading https://croptalk-spoi.s3.amazonaws.com/SPOI/17_025_55_0062_20101130.pdf to /Users/katerina/Documents/CropGuard/Dec_demo/demo_knowledge/17_025_55_0062_20101130.pdf\n"
     ]
    },
    {
     "name": "stderr",
     "output_type": "stream",
     "text": [
      "100  5814  100  5814    0     0   8536      0 --:--:-- --:--:-- --:--:--  8587\n",
      "  % Total    % Received % Xferd  Average Speed   Time    Time     Time  Current\n",
      "                                 Dload  Upload   Total   Spent    Left  Speed\n",
      "  0     0    0     0    0     0      0      0 --:--:-- --:--:-- --:--:--     0"
     ]
    },
    {
     "name": "stdout",
     "output_type": "stream",
     "text": [
      "Downloading https://croptalk-spoi.s3.amazonaws.com/SPOI/17_015_55_0062_20101130.pdf to /Users/katerina/Documents/CropGuard/Dec_demo/demo_knowledge/17_015_55_0062_20101130.pdf\n"
     ]
    },
    {
     "name": "stderr",
     "output_type": "stream",
     "text": [
      "100  5819  100  5819    0     0   7801      0 --:--:-- --:--:-- --:--:--  7842\n",
      "  % Total    % Received % Xferd  Average Speed   Time    Time     Time  Current\n",
      "                                 Dload  Upload   Total   Spent    Left  Speed\n",
      "  0     0    0     0    0     0      0      0 --:--:-- --:--:-- --:--:--     0"
     ]
    },
    {
     "name": "stdout",
     "output_type": "stream",
     "text": [
      "Downloading https://croptalk-spoi.s3.amazonaws.com/SPOI/17_013_55_0062_20101130.pdf to /Users/katerina/Documents/CropGuard/Dec_demo/demo_knowledge/17_013_55_0062_20101130.pdf\n"
     ]
    },
    {
     "name": "stderr",
     "output_type": "stream",
     "text": [
      "100  5823  100  5823    0     0  10456      0 --:--:-- --:--:-- --:--:-- 10510\n",
      "  % Total    % Received % Xferd  Average Speed   Time    Time     Time  Current\n",
      "                                 Dload  Upload   Total   Spent    Left  Speed\n",
      "  0     0    0     0    0     0      0      0 --:--:-- --:--:-- --:--:--     0"
     ]
    },
    {
     "name": "stdout",
     "output_type": "stream",
     "text": [
      "Downloading https://croptalk-spoi.s3.amazonaws.com/SPOI/17_009_55_0062_20101130.pdf to /Users/katerina/Documents/CropGuard/Dec_demo/demo_knowledge/17_009_55_0062_20101130.pdf\n"
     ]
    },
    {
     "name": "stderr",
     "output_type": "stream",
     "text": [
      "100  5817  100  5817    0     0  15995      0 --:--:-- --:--:-- --:--:-- 16113\n",
      "  % Total    % Received % Xferd  Average Speed   Time    Time     Time  Current\n",
      "                                 Dload  Upload   Total   Spent    Left  Speed\n",
      "  0     0    0     0    0     0      0      0 --:--:-- --:--:-- --:--:--     0"
     ]
    },
    {
     "name": "stdout",
     "output_type": "stream",
     "text": [
      "Downloading https://croptalk-spoi.s3.amazonaws.com/SPOI/17_007_55_0062_20101130.pdf to /Users/katerina/Documents/CropGuard/Dec_demo/demo_knowledge/17_007_55_0062_20101130.pdf\n"
     ]
    },
    {
     "name": "stderr",
     "output_type": "stream",
     "text": [
      "100  4495  100  4495    0     0  15495      0 --:--:-- --:--:-- --:--:-- 15662\n",
      "  % Total    % Received % Xferd  Average Speed   Time    Time     Time  Current\n",
      "                                 Dload  Upload   Total   Spent    Left  Speed\n",
      "  0     0    0     0    0     0      0      0 --:--:-- --:--:-- --:--:--     0"
     ]
    },
    {
     "name": "stdout",
     "output_type": "stream",
     "text": [
      "Downloading https://croptalk-spoi.s3.amazonaws.com/SPOI/17_005_55_0062_20101130.pdf to /Users/katerina/Documents/CropGuard/Dec_demo/demo_knowledge/17_005_55_0062_20101130.pdf\n"
     ]
    },
    {
     "name": "stderr",
     "output_type": "stream",
     "text": [
      "100  5811  100  5811    0     0  20990      0 --:--:-- --:--:-- --:--:-- 21208\n",
      "  % Total    % Received % Xferd  Average Speed   Time    Time     Time  Current\n",
      "                                 Dload  Upload   Total   Spent    Left  Speed\n",
      "  0     0    0     0    0     0      0      0 --:--:-- --:--:-- --:--:--     0"
     ]
    },
    {
     "name": "stdout",
     "output_type": "stream",
     "text": [
      "Downloading https://croptalk-spoi.s3.amazonaws.com/SPOI/17_027_55_0062_20101130.pdf to /Users/katerina/Documents/CropGuard/Dec_demo/demo_knowledge/17_027_55_0062_20101130.pdf\n"
     ]
    },
    {
     "name": "stderr",
     "output_type": "stream",
     "text": [
      "100  5819  100  5819    0     0  17021      0 --:--:-- --:--:-- --:--:-- 17215\n",
      "  % Total    % Received % Xferd  Average Speed   Time    Time     Time  Current\n",
      "                                 Dload  Upload   Total   Spent    Left  Speed\n",
      "  0     0    0     0    0     0      0      0 --:--:-- --:--:-- --:--:--     0"
     ]
    },
    {
     "name": "stdout",
     "output_type": "stream",
     "text": [
      "Downloading https://croptalk-spoi.s3.amazonaws.com/SPOI/17_031_55_0062_20101130.pdf to /Users/katerina/Documents/CropGuard/Dec_demo/demo_knowledge/17_031_55_0062_20101130.pdf\n"
     ]
    },
    {
     "name": "stderr",
     "output_type": "stream",
     "text": [
      "100  4499  100  4499    0     0  13830      0 --:--:-- --:--:-- --:--:-- 14015\n",
      "  % Total    % Received % Xferd  Average Speed   Time    Time     Time  Current\n",
      "                                 Dload  Upload   Total   Spent    Left  Speed\n",
      "  0     0    0     0    0     0      0      0 --:--:-- --:--:-- --:--:--     0"
     ]
    },
    {
     "name": "stdout",
     "output_type": "stream",
     "text": [
      "Downloading https://croptalk-spoi.s3.amazonaws.com/SPOI/17_097_55_0062_20101130.pdf to /Users/katerina/Documents/CropGuard/Dec_demo/demo_knowledge/17_097_55_0062_20101130.pdf\n"
     ]
    },
    {
     "name": "stderr",
     "output_type": "stream",
     "text": [
      "100  4497  100  4497    0     0  10426      0 --:--:-- --:--:-- --:--:-- 10507\n",
      "  % Total    % Received % Xferd  Average Speed   Time    Time     Time  Current\n",
      "                                 Dload  Upload   Total   Spent    Left  Speed\n",
      "  0     0    0     0    0     0      0      0 --:--:-- --:--:-- --:--:--     0"
     ]
    },
    {
     "name": "stdout",
     "output_type": "stream",
     "text": [
      "Downloading https://croptalk-spoi.s3.amazonaws.com/SPOI/17_093_55_0062_20101130.pdf to /Users/katerina/Documents/CropGuard/Dec_demo/demo_knowledge/17_093_55_0062_20101130.pdf\n"
     ]
    },
    {
     "name": "stderr",
     "output_type": "stream",
     "text": [
      "100  5824  100  5824    0     0  20144      0 --:--:-- --:--:-- --:--:-- 20507\n",
      "  % Total    % Received % Xferd  Average Speed   Time    Time     Time  Current\n",
      "                                 Dload  Upload   Total   Spent    Left  Speed\n",
      "  0     0    0     0    0     0      0      0 --:--:-- --:--:-- --:--:--     0"
     ]
    },
    {
     "name": "stdout",
     "output_type": "stream",
     "text": [
      "Downloading https://croptalk-spoi.s3.amazonaws.com/SPOI/17_091_55_0062_20101130.pdf to /Users/katerina/Documents/CropGuard/Dec_demo/demo_knowledge/17_091_55_0062_20101130.pdf\n"
     ]
    },
    {
     "name": "stderr",
     "output_type": "stream",
     "text": [
      "100  4504  100  4504    0     0  12917      0 --:--:-- --:--:-- --:--:-- 13093\n",
      "  % Total    % Received % Xferd  Average Speed   Time    Time     Time  Current\n",
      "                                 Dload  Upload   Total   Spent    Left  Speed\n",
      "  0     0    0     0    0     0      0      0 --:--:-- --:--:-- --:--:--     0"
     ]
    },
    {
     "name": "stdout",
     "output_type": "stream",
     "text": [
      "Downloading https://croptalk-spoi.s3.amazonaws.com/SPOI/17_089_55_0062_20101130.pdf to /Users/katerina/Documents/CropGuard/Dec_demo/demo_knowledge/17_089_55_0062_20101130.pdf\n"
     ]
    },
    {
     "name": "stderr",
     "output_type": "stream",
     "text": [
      "100  4500  100  4500    0     0  15433      0 --:--:-- --:--:-- --:--:-- 15625\n",
      "  % Total    % Received % Xferd  Average Speed   Time    Time     Time  Current\n",
      "                                 Dload  Upload   Total   Spent    Left  Speed\n",
      "  0     0    0     0    0     0      0      0 --:--:-- --:--:-- --:--:--     0"
     ]
    },
    {
     "name": "stdout",
     "output_type": "stream",
     "text": [
      "Downloading https://croptalk-spoi.s3.amazonaws.com/SPOI/17_083_55_0062_20101130.pdf to /Users/katerina/Documents/CropGuard/Dec_demo/demo_knowledge/17_083_55_0062_20101130.pdf\n"
     ]
    },
    {
     "name": "stderr",
     "output_type": "stream",
     "text": [
      "100  5823  100  5823    0     0  20320      0 --:--:-- --:--:-- --:--:-- 20648\n",
      "  % Total    % Received % Xferd  Average Speed   Time    Time     Time  Current\n",
      "                                 Dload  Upload   Total   Spent    Left  Speed\n",
      "  0     0    0     0    0     0      0      0 --:--:-- --:--:-- --:--:--     0"
     ]
    },
    {
     "name": "stdout",
     "output_type": "stream",
     "text": [
      "Downloading https://croptalk-spoi.s3.amazonaws.com/SPOI/17_081_55_0062_20101130.pdf to /Users/katerina/Documents/CropGuard/Dec_demo/demo_knowledge/17_081_55_0062_20101130.pdf\n"
     ]
    },
    {
     "name": "stderr",
     "output_type": "stream",
     "text": [
      "100  5821  100  5821    0     0  21146      0 --:--:-- --:--:-- --:--:-- 21559\n",
      "  % Total    % Received % Xferd  Average Speed   Time    Time     Time  Current\n",
      "                                 Dload  Upload   Total   Spent    Left  Speed\n",
      "  0     0    0     0    0     0      0      0 --:--:-- --:--:-- --:--:--     0"
     ]
    },
    {
     "name": "stdout",
     "output_type": "stream",
     "text": [
      "Downloading https://croptalk-spoi.s3.amazonaws.com/SPOI/17_079_55_0062_20101130.pdf to /Users/katerina/Documents/CropGuard/Dec_demo/demo_knowledge/17_079_55_0062_20101130.pdf\n"
     ]
    },
    {
     "name": "stderr",
     "output_type": "stream",
     "text": [
      "100  5817  100  5817    0     0  17005      0 --:--:-- --:--:-- --:--:-- 17159\n",
      "  % Total    % Received % Xferd  Average Speed   Time    Time     Time  Current\n",
      "                                 Dload  Upload   Total   Spent    Left  Speed\n",
      "  0     0    0     0    0     0      0      0 --:--:-- --:--:-- --:--:--     0"
     ]
    },
    {
     "name": "stdout",
     "output_type": "stream",
     "text": [
      "Downloading https://croptalk-spoi.s3.amazonaws.com/SPOI/17_065_55_0062_20101130.pdf to /Users/katerina/Documents/CropGuard/Dec_demo/demo_knowledge/17_065_55_0062_20101130.pdf\n"
     ]
    },
    {
     "name": "stderr",
     "output_type": "stream",
     "text": [
      "100  5822  100  5822    0     0  21319      0 --:--:-- --:--:-- --:--:-- 21723\n",
      "  % Total    % Received % Xferd  Average Speed   Time    Time     Time  Current\n",
      "                                 Dload  Upload   Total   Spent    Left  Speed\n",
      "  0     0    0     0    0     0      0      0 --:--:-- --:--:-- --:--:--     0"
     ]
    },
    {
     "name": "stdout",
     "output_type": "stream",
     "text": [
      "Downloading https://croptalk-spoi.s3.amazonaws.com/SPOI/17_055_55_0062_20101130.pdf to /Users/katerina/Documents/CropGuard/Dec_demo/demo_knowledge/17_055_55_0062_20101130.pdf\n"
     ]
    },
    {
     "name": "stderr",
     "output_type": "stream",
     "text": [
      "100  5817  100  5817    0     0  21719      0 --:--:-- --:--:-- --:--:-- 21950\n",
      "  % Total    % Received % Xferd  Average Speed   Time    Time     Time  Current\n",
      "                                 Dload  Upload   Total   Spent    Left  Speed\n",
      "  0     0    0     0    0     0      0      0 --:--:-- --:--:-- --:--:--     0"
     ]
    },
    {
     "name": "stdout",
     "output_type": "stream",
     "text": [
      "Downloading https://croptalk-spoi.s3.amazonaws.com/SPOI/17_051_55_0062_20101130.pdf to /Users/katerina/Documents/CropGuard/Dec_demo/demo_knowledge/17_051_55_0062_20101130.pdf\n"
     ]
    },
    {
     "name": "stderr",
     "output_type": "stream",
     "text": [
      "100  5819  100  5819    0     0  19972      0 --:--:-- --:--:-- --:--:-- 20204\n",
      "  % Total    % Received % Xferd  Average Speed   Time    Time     Time  Current\n",
      "                                 Dload  Upload   Total   Spent    Left  Speed\n",
      "  0     0    0     0    0     0      0      0 --:--:-- --:--:-- --:--:--     0"
     ]
    },
    {
     "name": "stdout",
     "output_type": "stream",
     "text": [
      "Downloading https://croptalk-spoi.s3.amazonaws.com/SPOI/17_049_55_0062_20101130.pdf to /Users/katerina/Documents/CropGuard/Dec_demo/demo_knowledge/17_049_55_0062_20101130.pdf\n"
     ]
    },
    {
     "name": "stderr",
     "output_type": "stream",
     "text": [
      "100  5829  100  5829    0     0  19252      0 --:--:-- --:--:-- --:--:-- 19365\n",
      "  % Total    % Received % Xferd  Average Speed   Time    Time     Time  Current\n",
      "                                 Dload  Upload   Total   Spent    Left  Speed\n",
      "  0     0    0     0    0     0      0      0 --:--:-- --:--:-- --:--:--     0"
     ]
    },
    {
     "name": "stdout",
     "output_type": "stream",
     "text": [
      "Downloading https://croptalk-spoi.s3.amazonaws.com/SPOI/17_047_55_0062_20101130.pdf to /Users/katerina/Documents/CropGuard/Dec_demo/demo_knowledge/17_047_55_0062_20101130.pdf\n"
     ]
    },
    {
     "name": "stderr",
     "output_type": "stream",
     "text": [
      "100  5823  100  5823    0     0  22706      0 --:--:-- --:--:-- --:--:-- 23015\n",
      "  % Total    % Received % Xferd  Average Speed   Time    Time     Time  Current\n",
      "                                 Dload  Upload   Total   Spent    Left  Speed\n",
      "  0     0    0     0    0     0      0      0 --:--:-- --:--:-- --:--:--     0"
     ]
    },
    {
     "name": "stdout",
     "output_type": "stream",
     "text": [
      "Downloading https://croptalk-spoi.s3.amazonaws.com/SPOI/17_043_55_0062_20101130.pdf to /Users/katerina/Documents/CropGuard/Dec_demo/demo_knowledge/17_043_55_0062_20101130.pdf\n"
     ]
    },
    {
     "name": "stderr",
     "output_type": "stream",
     "text": [
      "100  4504  100  4504    0     0  15133      0 --:--:-- --:--:-- --:--:-- 15319\n",
      "  % Total    % Received % Xferd  Average Speed   Time    Time     Time  Current\n",
      "                                 Dload  Upload   Total   Spent    Left  Speed\n",
      "  0     0    0     0    0     0      0      0 --:--:-- --:--:-- --:--:--     0"
     ]
    },
    {
     "name": "stdout",
     "output_type": "stream",
     "text": [
      "Downloading https://croptalk-spoi.s3.amazonaws.com/SPOI/17_035_55_0062_20101130.pdf to /Users/katerina/Documents/CropGuard/Dec_demo/demo_knowledge/17_035_55_0062_20101130.pdf\n"
     ]
    },
    {
     "name": "stderr",
     "output_type": "stream",
     "text": [
      "100  5819  100  5819    0     0  21415      0 --:--:-- --:--:-- --:--:-- 21712\n",
      "  % Total    % Received % Xferd  Average Speed   Time    Time     Time  Current\n",
      "                                 Dload  Upload   Total   Spent    Left  Speed\n",
      "  0     0    0     0    0     0      0      0 --:--:-- --:--:-- --:--:--     0"
     ]
    },
    {
     "name": "stdout",
     "output_type": "stream",
     "text": [
      "Downloading https://croptalk-spoi.s3.amazonaws.com/SPOI/17_063_55_0062_20101130.pdf to /Users/katerina/Documents/CropGuard/Dec_demo/demo_knowledge/17_063_55_0062_20101130.pdf\n"
     ]
    },
    {
     "name": "stderr",
     "output_type": "stream",
     "text": [
      "100  5827  100  5827    0     0  16980      0 --:--:-- --:--:-- --:--:-- 17188\n",
      "  % Total    % Received % Xferd  Average Speed   Time    Time     Time  Current\n",
      "                                 Dload  Upload   Total   Spent    Left  Speed\n",
      "  0     0    0     0    0     0      0      0 --:--:-- --:--:-- --:--:--     0"
     ]
    },
    {
     "name": "stdout",
     "output_type": "stream",
     "text": [
      "Downloading https://croptalk-spoi.s3.amazonaws.com/SPOI/18_119_55_0062_20101130.pdf to /Users/katerina/Documents/CropGuard/Dec_demo/demo_knowledge/18_119_55_0062_20101130.pdf\n"
     ]
    },
    {
     "name": "stderr",
     "output_type": "stream",
     "text": [
      "100  5818  100  5818    0     0  18951      0 --:--:-- --:--:-- --:--:-- 19201\n",
      "  % Total    % Received % Xferd  Average Speed   Time    Time     Time  Current\n",
      "                                 Dload  Upload   Total   Spent    Left  Speed\n",
      "  0     0    0     0    0     0      0      0 --:--:-- --:--:-- --:--:--     0"
     ]
    },
    {
     "name": "stdout",
     "output_type": "stream",
     "text": [
      "Downloading https://croptalk-spoi.s3.amazonaws.com/SPOI/18_109_55_0062_20101130.pdf to /Users/katerina/Documents/CropGuard/Dec_demo/demo_knowledge/18_109_55_0062_20101130.pdf\n"
     ]
    },
    {
     "name": "stderr",
     "output_type": "stream",
     "text": [
      "100  5818  100  5818    0     0  21067      0 --:--:-- --:--:-- --:--:-- 21311\n",
      "  % Total    % Received % Xferd  Average Speed   Time    Time     Time  Current\n",
      "                                 Dload  Upload   Total   Spent    Left  Speed\n",
      "  0     0    0     0    0     0      0      0 --:--:-- --:--:-- --:--:--     0"
     ]
    },
    {
     "name": "stdout",
     "output_type": "stream",
     "text": [
      "Downloading https://croptalk-spoi.s3.amazonaws.com/SPOI/18_105_55_0062_20101130.pdf to /Users/katerina/Documents/CropGuard/Dec_demo/demo_knowledge/18_105_55_0062_20101130.pdf\n"
     ]
    },
    {
     "name": "stderr",
     "output_type": "stream",
     "text": [
      "100  5816  100  5816    0     0  21205      0 --:--:-- --:--:-- --:--:-- 21540\n",
      "  % Total    % Received % Xferd  Average Speed   Time    Time     Time  Current\n",
      "                                 Dload  Upload   Total   Spent    Left  Speed\n",
      "  0     0    0     0    0     0      0      0 --:--:-- --:--:-- --:--:--     0"
     ]
    },
    {
     "name": "stdout",
     "output_type": "stream",
     "text": [
      "Downloading https://croptalk-spoi.s3.amazonaws.com/SPOI/18_101_55_0062_20101130.pdf to /Users/katerina/Documents/CropGuard/Dec_demo/demo_knowledge/18_101_55_0062_20101130.pdf\n"
     ]
    },
    {
     "name": "stderr",
     "output_type": "stream",
     "text": [
      "100  5816  100  5816    0     0  17676      0 --:--:-- --:--:-- --:--:-- 17895\n",
      "  % Total    % Received % Xferd  Average Speed   Time    Time     Time  Current\n",
      "                                 Dload  Upload   Total   Spent    Left  Speed\n",
      "  0     0    0     0    0     0      0      0 --:--:-- --:--:-- --:--:--     0"
     ]
    },
    {
     "name": "stdout",
     "output_type": "stream",
     "text": [
      "Downloading https://croptalk-spoi.s3.amazonaws.com/SPOI/18_099_55_0062_20101130.pdf to /Users/katerina/Documents/CropGuard/Dec_demo/demo_knowledge/18_099_55_0062_20101130.pdf\n"
     ]
    },
    {
     "name": "stderr",
     "output_type": "stream",
     "text": [
      "100  4503  100  4503    0     0  15696      0 --:--:-- --:--:-- --:--:-- 15911\n",
      "  % Total    % Received % Xferd  Average Speed   Time    Time     Time  Current\n",
      "                                 Dload  Upload   Total   Spent    Left  Speed\n",
      "  0     0    0     0    0     0      0      0 --:--:-- --:--:-- --:--:--     0"
     ]
    },
    {
     "name": "stdout",
     "output_type": "stream",
     "text": [
      "Downloading https://croptalk-spoi.s3.amazonaws.com/SPOI/18_097_55_0062_20101130.pdf to /Users/katerina/Documents/CropGuard/Dec_demo/demo_knowledge/18_097_55_0062_20101130.pdf\n"
     ]
    },
    {
     "name": "stderr",
     "output_type": "stream",
     "text": [
      "100  4503  100  4503    0     0  16115      0 --:--:-- --:--:-- --:--:-- 16315\n",
      "  % Total    % Received % Xferd  Average Speed   Time    Time     Time  Current\n",
      "                                 Dload  Upload   Total   Spent    Left  Speed\n",
      "  0     0    0     0    0     0      0      0 --:--:-- --:--:-- --:--:--     0"
     ]
    },
    {
     "name": "stdout",
     "output_type": "stream",
     "text": [
      "Downloading https://croptalk-spoi.s3.amazonaws.com/SPOI/18_075_55_0062_20101130.pdf to /Users/katerina/Documents/CropGuard/Dec_demo/demo_knowledge/18_075_55_0062_20101130.pdf\n"
     ]
    },
    {
     "name": "stderr",
     "output_type": "stream",
     "text": [
      "100  5817  100  5817    0     0  21626      0 --:--:-- --:--:-- --:--:-- 21950\n",
      "  % Total    % Received % Xferd  Average Speed   Time    Time     Time  Current\n",
      "                                 Dload  Upload   Total   Spent    Left  Speed\n",
      "  0     0    0     0    0     0      0      0 --:--:-- --:--:-- --:--:--     0"
     ]
    },
    {
     "name": "stdout",
     "output_type": "stream",
     "text": [
      "Downloading https://croptalk-spoi.s3.amazonaws.com/SPOI/18_069_55_0062_20101130.pdf to /Users/katerina/Documents/CropGuard/Dec_demo/demo_knowledge/18_069_55_0062_20101130.pdf\n"
     ]
    },
    {
     "name": "stderr",
     "output_type": "stream",
     "text": [
      "100  4503  100  4503    0     0  16731      0 --:--:-- --:--:-- --:--:-- 16992\n",
      "  % Total    % Received % Xferd  Average Speed   Time    Time     Time  Current\n",
      "                                 Dload  Upload   Total   Spent    Left  Speed\n",
      "  0     0    0     0    0     0      0      0 --:--:-- --:--:-- --:--:--     0"
     ]
    },
    {
     "name": "stdout",
     "output_type": "stream",
     "text": [
      "Downloading https://croptalk-spoi.s3.amazonaws.com/SPOI/18_067_55_0062_20101130.pdf to /Users/katerina/Documents/CropGuard/Dec_demo/demo_knowledge/18_067_55_0062_20101130.pdf\n"
     ]
    },
    {
     "name": "stderr",
     "output_type": "stream",
     "text": [
      "100  4503  100  4503    0     0  14661      0 --:--:-- --:--:-- --:--:-- 14861\n",
      "  % Total    % Received % Xferd  Average Speed   Time    Time     Time  Current\n",
      "                                 Dload  Upload   Total   Spent    Left  Speed\n",
      "  0     0    0     0    0     0      0      0 --:--:-- --:--:-- --:--:--     0"
     ]
    },
    {
     "name": "stdout",
     "output_type": "stream",
     "text": [
      "Downloading https://croptalk-spoi.s3.amazonaws.com/SPOI/18_063_55_0062_20101130.pdf to /Users/katerina/Documents/CropGuard/Dec_demo/demo_knowledge/18_063_55_0062_20101130.pdf\n"
     ]
    },
    {
     "name": "stderr",
     "output_type": "stream",
     "text": [
      "100  4506  100  4506    0     0  15882      0 --:--:-- --:--:-- --:--:-- 16092\n",
      "  % Total    % Received % Xferd  Average Speed   Time    Time     Time  Current\n",
      "                                 Dload  Upload   Total   Spent    Left  Speed\n",
      "  0     0    0     0    0     0      0      0 --:--:-- --:--:-- --:--:--     0"
     ]
    },
    {
     "name": "stdout",
     "output_type": "stream",
     "text": [
      "Downloading https://croptalk-spoi.s3.amazonaws.com/SPOI/18_059_55_0062_20101130.pdf to /Users/katerina/Documents/CropGuard/Dec_demo/demo_knowledge/18_059_55_0062_20101130.pdf\n"
     ]
    },
    {
     "name": "stderr",
     "output_type": "stream",
     "text": [
      "100  4507  100  4507    0     0  13161      0 --:--:-- --:--:-- --:--:-- 13294\n",
      "  % Total    % Received % Xferd  Average Speed   Time    Time     Time  Current\n",
      "                                 Dload  Upload   Total   Spent    Left  Speed\n",
      "  0     0    0     0    0     0      0      0 --:--:-- --:--:-- --:--:--     0"
     ]
    },
    {
     "name": "stdout",
     "output_type": "stream",
     "text": [
      "Downloading https://croptalk-spoi.s3.amazonaws.com/SPOI/18_055_55_0062_20101130.pdf to /Users/katerina/Documents/CropGuard/Dec_demo/demo_knowledge/18_055_55_0062_20101130.pdf\n"
     ]
    },
    {
     "name": "stderr",
     "output_type": "stream",
     "text": [
      "100  5818  100  5818    0     0  21999      0 --:--:-- --:--:-- --:--:-- 22291\n",
      "  % Total    % Received % Xferd  Average Speed   Time    Time     Time  Current\n",
      "                                 Dload  Upload   Total   Spent    Left  Speed\n",
      "  0     0    0     0    0     0      0      0 --:--:-- --:--:-- --:--:--     0"
     ]
    },
    {
     "name": "stdout",
     "output_type": "stream",
     "text": [
      "Downloading https://croptalk-spoi.s3.amazonaws.com/SPOI/18_051_55_0062_20101130.pdf to /Users/katerina/Documents/CropGuard/Dec_demo/demo_knowledge/18_051_55_0062_20101130.pdf\n"
     ]
    },
    {
     "name": "stderr",
     "output_type": "stream",
     "text": [
      "100  5824  100  5824    0     0  21148      0 --:--:-- --:--:-- --:--:-- 21411\n",
      "  % Total    % Received % Xferd  Average Speed   Time    Time     Time  Current\n",
      "                                 Dload  Upload   Total   Spent    Left  Speed\n",
      "  0     0    0     0    0     0      0      0 --:--:-- --:--:-- --:--:--     0"
     ]
    },
    {
     "name": "stdout",
     "output_type": "stream",
     "text": [
      "Downloading https://croptalk-spoi.s3.amazonaws.com/SPOI/18_049_55_0062_20101130.pdf to /Users/katerina/Documents/CropGuard/Dec_demo/demo_knowledge/18_049_55_0062_20101130.pdf\n"
     ]
    },
    {
     "name": "stderr",
     "output_type": "stream",
     "text": [
      "100  4499  100  4499    0     0  14984      0 --:--:-- --:--:-- --:--:-- 15199\n",
      "  % Total    % Received % Xferd  Average Speed   Time    Time     Time  Current\n",
      "                                 Dload  Upload   Total   Spent    Left  Speed\n",
      "  0     0    0     0    0     0      0      0 --:--:-- --:--:-- --:--:--     0"
     ]
    },
    {
     "name": "stdout",
     "output_type": "stream",
     "text": [
      "Downloading https://croptalk-spoi.s3.amazonaws.com/SPOI/18_125_55_0062_20101130.pdf to /Users/katerina/Documents/CropGuard/Dec_demo/demo_knowledge/18_125_55_0062_20101130.pdf\n"
     ]
    },
    {
     "name": "stderr",
     "output_type": "stream",
     "text": [
      "100  5816  100  5816    0     0  18490      0 --:--:-- --:--:-- --:--:-- 18700\n",
      "  % Total    % Received % Xferd  Average Speed   Time    Time     Time  Current\n",
      "                                 Dload  Upload   Total   Spent    Left  Speed\n",
      "  0     0    0     0    0     0      0      0 --:--:-- --:--:-- --:--:--     0"
     ]
    },
    {
     "name": "stdout",
     "output_type": "stream",
     "text": [
      "Downloading https://croptalk-spoi.s3.amazonaws.com/SPOI/18_129_55_0062_20101130.pdf to /Users/katerina/Documents/CropGuard/Dec_demo/demo_knowledge/18_129_55_0062_20101130.pdf\n"
     ]
    },
    {
     "name": "stderr",
     "output_type": "stream",
     "text": [
      "100  5975  100  5975    0     0  14655      0 --:--:-- --:--:-- --:--:-- 14826\n",
      "  % Total    % Received % Xferd  Average Speed   Time    Time     Time  Current\n",
      "                                 Dload  Upload   Total   Spent    Left  Speed\n",
      "  0     0    0     0    0     0      0      0 --:--:-- --:--:-- --:--:--     0"
     ]
    },
    {
     "name": "stdout",
     "output_type": "stream",
     "text": [
      "Downloading https://croptalk-spoi.s3.amazonaws.com/SPOI/18_183_55_0062_20101130.pdf to /Users/katerina/Documents/CropGuard/Dec_demo/demo_knowledge/18_183_55_0062_20101130.pdf\n"
     ]
    },
    {
     "name": "stderr",
     "output_type": "stream",
     "text": [
      "100  4503  100  4503    0     0   4603      0 --:--:-- --:--:-- --:--:--  4613\n",
      "  % Total    % Received % Xferd  Average Speed   Time    Time     Time  Current\n",
      "                                 Dload  Upload   Total   Spent    Left  Speed\n",
      "  0     0    0     0    0     0      0      0 --:--:-- --:--:-- --:--:--     0"
     ]
    },
    {
     "name": "stdout",
     "output_type": "stream",
     "text": [
      "Downloading https://croptalk-spoi.s3.amazonaws.com/SPOI/18_179_55_0062_20101130.pdf to /Users/katerina/Documents/CropGuard/Dec_demo/demo_knowledge/18_179_55_0062_20101130.pdf\n"
     ]
    },
    {
     "name": "stderr",
     "output_type": "stream",
     "text": [
      "100  4495  100  4495    0     0   5433      0 --:--:-- --:--:-- --:--:--  5455\n",
      "  % Total    % Received % Xferd  Average Speed   Time    Time     Time  Current\n",
      "                                 Dload  Upload   Total   Spent    Left  Speed\n",
      "  0     0    0     0    0     0      0      0 --:--:-- --:--:-- --:--:--     0"
     ]
    },
    {
     "name": "stdout",
     "output_type": "stream",
     "text": [
      "Downloading https://croptalk-spoi.s3.amazonaws.com/SPOI/18_177_55_0062_20101130.pdf to /Users/katerina/Documents/CropGuard/Dec_demo/demo_knowledge/18_177_55_0062_20101130.pdf\n"
     ]
    },
    {
     "name": "stderr",
     "output_type": "stream",
     "text": [
      "100  4501  100  4501    0     0   7968      0 --:--:-- --:--:-- --:--:--  8023\n",
      "  % Total    % Received % Xferd  Average Speed   Time    Time     Time  Current\n",
      "                                 Dload  Upload   Total   Spent    Left  Speed\n",
      "  0     0    0     0    0     0      0      0 --:--:-- --:--:-- --:--:--     0"
     ]
    },
    {
     "name": "stdout",
     "output_type": "stream",
     "text": [
      "Downloading https://croptalk-spoi.s3.amazonaws.com/SPOI/18_173_55_0062_20101130.pdf to /Users/katerina/Documents/CropGuard/Dec_demo/demo_knowledge/18_173_55_0062_20101130.pdf\n"
     ]
    },
    {
     "name": "stderr",
     "output_type": "stream",
     "text": [
      "100  5822  100  5822    0     0   9216      0 --:--:-- --:--:-- --:--:--  9270\n",
      "  % Total    % Received % Xferd  Average Speed   Time    Time     Time  Current\n",
      "                                 Dload  Upload   Total   Spent    Left  Speed\n",
      "  0     0    0     0    0     0      0      0 --:--:-- --:--:-- --:--:--     0"
     ]
    },
    {
     "name": "stdout",
     "output_type": "stream",
     "text": [
      "Downloading https://croptalk-spoi.s3.amazonaws.com/SPOI/18_165_55_0062_20101130.pdf to /Users/katerina/Documents/CropGuard/Dec_demo/demo_knowledge/18_165_55_0062_20101130.pdf\n"
     ]
    },
    {
     "name": "stderr",
     "output_type": "stream",
     "text": [
      "100  5821  100  5821    0     0  10176      0 --:--:-- --:--:-- --:--:-- 10212\n",
      "  % Total    % Received % Xferd  Average Speed   Time    Time     Time  Current\n",
      "                                 Dload  Upload   Total   Spent    Left  Speed\n",
      "  0     0    0     0    0     0      0      0 --:--:-- --:--:-- --:--:--     0"
     ]
    },
    {
     "name": "stdout",
     "output_type": "stream",
     "text": [
      "Downloading https://croptalk-spoi.s3.amazonaws.com/SPOI/18_161_55_0062_20101130.pdf to /Users/katerina/Documents/CropGuard/Dec_demo/demo_knowledge/18_161_55_0062_20101130.pdf\n"
     ]
    },
    {
     "name": "stderr",
     "output_type": "stream",
     "text": [
      "100  4500  100  4500    0     0  15843      0 --:--:-- --:--:-- --:--:-- 16014\n",
      "  % Total    % Received % Xferd  Average Speed   Time    Time     Time  Current\n",
      "                                 Dload  Upload   Total   Spent    Left  Speed\n",
      "  0     0    0     0    0     0      0      0 --:--:-- --:--:-- --:--:--     0"
     ]
    },
    {
     "name": "stdout",
     "output_type": "stream",
     "text": [
      "Downloading https://croptalk-spoi.s3.amazonaws.com/SPOI/18_147_55_0062_20101130.pdf to /Users/katerina/Documents/CropGuard/Dec_demo/demo_knowledge/18_147_55_0062_20101130.pdf\n"
     ]
    },
    {
     "name": "stderr",
     "output_type": "stream",
     "text": [
      "100  5822  100  5822    0     0  21121      0 --:--:-- --:--:-- --:--:-- 21404\n",
      "  % Total    % Received % Xferd  Average Speed   Time    Time     Time  Current\n",
      "                                 Dload  Upload   Total   Spent    Left  Speed\n",
      "  0     0    0     0    0     0      0      0 --:--:-- --:--:-- --:--:--     0"
     ]
    },
    {
     "name": "stdout",
     "output_type": "stream",
     "text": [
      "Downloading https://croptalk-spoi.s3.amazonaws.com/SPOI/18_135_55_0062_20101130.pdf to /Users/katerina/Documents/CropGuard/Dec_demo/demo_knowledge/18_135_55_0062_20101130.pdf\n"
     ]
    },
    {
     "name": "stderr",
     "output_type": "stream",
     "text": [
      "100  4501  100  4501    0     0  13585      0 --:--:-- --:--:-- --:--:-- 13764\n",
      "  % Total    % Received % Xferd  Average Speed   Time    Time     Time  Current\n",
      "                                 Dload  Upload   Total   Spent    Left  Speed\n",
      "  0     0    0     0    0     0      0      0 --:--:-- --:--:-- --:--:--     0"
     ]
    },
    {
     "name": "stdout",
     "output_type": "stream",
     "text": [
      "Downloading https://croptalk-spoi.s3.amazonaws.com/SPOI/18_133_55_0062_20101130.pdf to /Users/katerina/Documents/CropGuard/Dec_demo/demo_knowledge/18_133_55_0062_20101130.pdf\n"
     ]
    },
    {
     "name": "stderr",
     "output_type": "stream",
     "text": [
      "100  4501  100  4501    0     0  14729      0 --:--:-- --:--:-- --:--:-- 14953\n",
      "  % Total    % Received % Xferd  Average Speed   Time    Time     Time  Current\n",
      "                                 Dload  Upload   Total   Spent    Left  Speed\n",
      "  0     0    0     0    0     0      0      0 --:--:-- --:--:-- --:--:--     0"
     ]
    },
    {
     "name": "stdout",
     "output_type": "stream",
     "text": [
      "Downloading https://croptalk-spoi.s3.amazonaws.com/SPOI/18_163_55_0062_20101130.pdf to /Users/katerina/Documents/CropGuard/Dec_demo/demo_knowledge/18_163_55_0062_20101130.pdf\n"
     ]
    },
    {
     "name": "stderr",
     "output_type": "stream",
     "text": [
      "100  5829  100  5829    0     0  19272      0 --:--:-- --:--:-- --:--:-- 19430\n",
      "  % Total    % Received % Xferd  Average Speed   Time    Time     Time  Current\n",
      "                                 Dload  Upload   Total   Spent    Left  Speed\n",
      "  0     0    0     0    0     0      0      0 --:--:-- --:--:-- --:--:--     0"
     ]
    },
    {
     "name": "stdout",
     "output_type": "stream",
     "text": [
      "Downloading https://croptalk-spoi.s3.amazonaws.com/SPOI/18_047_55_0062_20101130.pdf to /Users/katerina/Documents/CropGuard/Dec_demo/demo_knowledge/18_047_55_0062_20101130.pdf\n"
     ]
    },
    {
     "name": "stderr",
     "output_type": "stream",
     "text": [
      "100  5827  100  5827    0     0  21128      0 --:--:-- --:--:-- --:--:-- 21501\n",
      "  % Total    % Received % Xferd  Average Speed   Time    Time     Time  Current\n",
      "                                 Dload  Upload   Total   Spent    Left  Speed\n",
      "  0     0    0     0    0     0      0      0 --:--:-- --:--:-- --:--:--     0"
     ]
    },
    {
     "name": "stdout",
     "output_type": "stream",
     "text": [
      "Downloading https://croptalk-spoi.s3.amazonaws.com/SPOI/17_169_55_0062_20101130.pdf to /Users/katerina/Documents/CropGuard/Dec_demo/demo_knowledge/17_169_55_0062_20101130.pdf\n"
     ]
    },
    {
     "name": "stderr",
     "output_type": "stream",
     "text": [
      "100  5831  100  5831    0     0  19685      0 --:--:-- --:--:-- --:--:-- 19969\n",
      "  % Total    % Received % Xferd  Average Speed   Time    Time     Time  Current\n",
      "                                 Dload  Upload   Total   Spent    Left  Speed\n",
      "  0     0    0     0    0     0      0      0 --:--:-- --:--:-- --:--:--     0"
     ]
    },
    {
     "name": "stdout",
     "output_type": "stream",
     "text": [
      "Downloading https://croptalk-spoi.s3.amazonaws.com/SPOI/17_163_55_0062_20101130.pdf to /Users/katerina/Documents/CropGuard/Dec_demo/demo_knowledge/17_163_55_0062_20101130.pdf\n"
     ]
    },
    {
     "name": "stderr",
     "output_type": "stream",
     "text": [
      "100  5825  100  5825    0     0  17214      0 --:--:-- --:--:-- --:--:-- 17388\n",
      "  % Total    % Received % Xferd  Average Speed   Time    Time     Time  Current\n",
      "                                 Dload  Upload   Total   Spent    Left  Speed\n",
      "  0     0    0     0    0     0      0      0 --:--:-- --:--:-- --:--:--     0"
     ]
    },
    {
     "name": "stdout",
     "output_type": "stream",
     "text": [
      "Downloading https://croptalk-spoi.s3.amazonaws.com/SPOI/17_159_55_0062_20101130.pdf to /Users/katerina/Documents/CropGuard/Dec_demo/demo_knowledge/17_159_55_0062_20101130.pdf\n"
     ]
    },
    {
     "name": "stderr",
     "output_type": "stream",
     "text": [
      "100  5825  100  5825    0     0  20225      0 --:--:-- --:--:-- --:--:-- 20583\n",
      "  % Total    % Received % Xferd  Average Speed   Time    Time     Time  Current\n",
      "                                 Dload  Upload   Total   Spent    Left  Speed\n",
      "  0     0    0     0    0     0      0      0 --:--:-- --:--:-- --:--:--     0"
     ]
    },
    {
     "name": "stdout",
     "output_type": "stream",
     "text": [
      "Downloading https://croptalk-spoi.s3.amazonaws.com/SPOI/17_157_55_0062_20101130.pdf to /Users/katerina/Documents/CropGuard/Dec_demo/demo_knowledge/17_157_55_0062_20101130.pdf\n"
     ]
    },
    {
     "name": "stderr",
     "output_type": "stream",
     "text": [
      "100  5817  100  5817    0     0  19683      0 --:--:-- --:--:-- --:--:-- 19989\n",
      "  % Total    % Received % Xferd  Average Speed   Time    Time     Time  Current\n",
      "                                 Dload  Upload   Total   Spent    Left  Speed\n",
      "  0     0    0     0    0     0      0      0 --:--:-- --:--:-- --:--:--     0"
     ]
    },
    {
     "name": "stdout",
     "output_type": "stream",
     "text": [
      "Downloading https://croptalk-spoi.s3.amazonaws.com/SPOI/17_155_55_0062_20101130.pdf to /Users/katerina/Documents/CropGuard/Dec_demo/demo_knowledge/17_155_55_0062_20101130.pdf\n"
     ]
    },
    {
     "name": "stderr",
     "output_type": "stream",
     "text": [
      "100  5817  100  5817    0     0  19095      0 --:--:-- --:--:-- --:--:-- 19325\n",
      "  % Total    % Received % Xferd  Average Speed   Time    Time     Time  Current\n",
      "                                 Dload  Upload   Total   Spent    Left  Speed\n",
      "  0     0    0     0    0     0      0      0 --:--:-- --:--:-- --:--:--     0"
     ]
    },
    {
     "name": "stdout",
     "output_type": "stream",
     "text": [
      "Downloading https://croptalk-spoi.s3.amazonaws.com/SPOI/17_149_55_0062_20101130.pdf to /Users/katerina/Documents/CropGuard/Dec_demo/demo_knowledge/17_149_55_0062_20101130.pdf\n"
     ]
    },
    {
     "name": "stderr",
     "output_type": "stream",
     "text": [
      "100  5816  100  5816    0     0  15614      0 --:--:-- --:--:-- --:--:-- 15804\n",
      "  % Total    % Received % Xferd  Average Speed   Time    Time     Time  Current\n",
      "                                 Dload  Upload   Total   Spent    Left  Speed\n",
      "  0     0    0     0    0     0      0      0 --:--:-- --:--:-- --:--:--     0"
     ]
    },
    {
     "name": "stdout",
     "output_type": "stream",
     "text": [
      "Downloading https://croptalk-spoi.s3.amazonaws.com/SPOI/17_145_55_0062_20101130.pdf to /Users/katerina/Documents/CropGuard/Dec_demo/demo_knowledge/17_145_55_0062_20101130.pdf\n"
     ]
    },
    {
     "name": "stderr",
     "output_type": "stream",
     "text": [
      "100  5811  100  5811    0     0  21387      0 --:--:-- --:--:-- --:--:-- 21682\n",
      "  % Total    % Received % Xferd  Average Speed   Time    Time     Time  Current\n",
      "                                 Dload  Upload   Total   Spent    Left  Speed\n",
      "  0     0    0     0    0     0      0      0 --:--:-- --:--:-- --:--:--     0"
     ]
    },
    {
     "name": "stdout",
     "output_type": "stream",
     "text": [
      "Downloading https://croptalk-spoi.s3.amazonaws.com/SPOI/17_139_55_0062_20101130.pdf to /Users/katerina/Documents/CropGuard/Dec_demo/demo_knowledge/17_139_55_0062_20101130.pdf\n"
     ]
    },
    {
     "name": "stderr",
     "output_type": "stream",
     "text": [
      "100  5822  100  5822    0     0  18565      0 --:--:-- --:--:-- --:--:-- 18720\n",
      "  % Total    % Received % Xferd  Average Speed   Time    Time     Time  Current\n",
      "                                 Dload  Upload   Total   Spent    Left  Speed\n",
      "  0     0    0     0    0     0      0      0 --:--:-- --:--:-- --:--:--     0"
     ]
    },
    {
     "name": "stdout",
     "output_type": "stream",
     "text": [
      "Downloading https://croptalk-spoi.s3.amazonaws.com/SPOI/17_133_55_0062_20101130.pdf to /Users/katerina/Documents/CropGuard/Dec_demo/demo_knowledge/17_133_55_0062_20101130.pdf\n"
     ]
    },
    {
     "name": "stderr",
     "output_type": "stream",
     "text": [
      "100  5816  100  5816    0     0  19913      0 --:--:-- --:--:-- --:--:-- 20124\n",
      "  % Total    % Received % Xferd  Average Speed   Time    Time     Time  Current\n",
      "                                 Dload  Upload   Total   Spent    Left  Speed\n",
      "  0     0    0     0    0     0      0      0 --:--:-- --:--:-- --:--:--     0"
     ]
    },
    {
     "name": "stdout",
     "output_type": "stream",
     "text": [
      "Downloading https://croptalk-spoi.s3.amazonaws.com/SPOI/17_129_55_0062_20101130.pdf to /Users/katerina/Documents/CropGuard/Dec_demo/demo_knowledge/17_129_55_0062_20101130.pdf\n"
     ]
    },
    {
     "name": "stderr",
     "output_type": "stream",
     "text": [
      "100  5818  100  5818    0     0  21953      0 --:--:-- --:--:-- --:--:-- 22206\n",
      "  % Total    % Received % Xferd  Average Speed   Time    Time     Time  Current\n",
      "                                 Dload  Upload   Total   Spent    Left  Speed\n",
      "  0     0    0     0    0     0      0      0 --:--:-- --:--:-- --:--:--     0"
     ]
    },
    {
     "name": "stdout",
     "output_type": "stream",
     "text": [
      "Downloading https://croptalk-spoi.s3.amazonaws.com/SPOI/17_121_55_0062_20101130.pdf to /Users/katerina/Documents/CropGuard/Dec_demo/demo_knowledge/17_121_55_0062_20101130.pdf\n"
     ]
    },
    {
     "name": "stderr",
     "output_type": "stream",
     "text": [
      "100  5817  100  5817    0     0  19565      0 --:--:-- --:--:-- --:--:-- 19853\n",
      "  % Total    % Received % Xferd  Average Speed   Time    Time     Time  Current\n",
      "                                 Dload  Upload   Total   Spent    Left  Speed\n",
      "  0     0    0     0    0     0      0      0 --:--:-- --:--:-- --:--:--     0"
     ]
    },
    {
     "name": "stdout",
     "output_type": "stream",
     "text": [
      "Downloading https://croptalk-spoi.s3.amazonaws.com/SPOI/17_119_55_0062_20101130.pdf to /Users/katerina/Documents/CropGuard/Dec_demo/demo_knowledge/17_119_55_0062_20101130.pdf\n"
     ]
    },
    {
     "name": "stderr",
     "output_type": "stream",
     "text": [
      "100  5824  100  5824    0     0  19219      0 --:--:-- --:--:-- --:--:-- 19413\n",
      "  % Total    % Received % Xferd  Average Speed   Time    Time     Time  Current\n",
      "                                 Dload  Upload   Total   Spent    Left  Speed\n",
      "  0     0    0     0    0     0      0      0 --:--:-- --:--:-- --:--:--     0"
     ]
    },
    {
     "name": "stdout",
     "output_type": "stream",
     "text": [
      "Downloading https://croptalk-spoi.s3.amazonaws.com/SPOI/17_117_55_0062_20101130.pdf to /Users/katerina/Documents/CropGuard/Dec_demo/demo_knowledge/17_117_55_0062_20101130.pdf\n"
     ]
    },
    {
     "name": "stderr",
     "output_type": "stream",
     "text": [
      "100  4503  100  4503    0     0  14625      0 --:--:-- --:--:-- --:--:-- 14861\n",
      "  % Total    % Received % Xferd  Average Speed   Time    Time     Time  Current\n",
      "                                 Dload  Upload   Total   Spent    Left  Speed\n",
      "  0     0    0     0    0     0      0      0 --:--:-- --:--:-- --:--:--     0"
     ]
    },
    {
     "name": "stdout",
     "output_type": "stream",
     "text": [
      "Downloading https://croptalk-spoi.s3.amazonaws.com/SPOI/17_111_55_0062_20101130.pdf to /Users/katerina/Documents/CropGuard/Dec_demo/demo_knowledge/17_111_55_0062_20101130.pdf\n"
     ]
    },
    {
     "name": "stderr",
     "output_type": "stream",
     "text": [
      "100  4502  100  4502    0     0  16473      0 --:--:-- --:--:-- --:--:-- 16798\n",
      "  % Total    % Received % Xferd  Average Speed   Time    Time     Time  Current\n",
      "                                 Dload  Upload   Total   Spent    Left  Speed\n",
      "  0     0    0     0    0     0      0      0 --:--:-- --:--:-- --:--:--     0"
     ]
    },
    {
     "name": "stdout",
     "output_type": "stream",
     "text": [
      "Downloading https://croptalk-spoi.s3.amazonaws.com/SPOI/17_135_55_0062_20101130.pdf to /Users/katerina/Documents/CropGuard/Dec_demo/demo_knowledge/17_135_55_0062_20101130.pdf\n"
     ]
    },
    {
     "name": "stderr",
     "output_type": "stream",
     "text": [
      "100  5820  100  5820    0     0  20404      0 --:--:-- --:--:-- --:--:-- 20711\n",
      "  % Total    % Received % Xferd  Average Speed   Time    Time     Time  Current\n",
      "                                 Dload  Upload   Total   Spent    Left  Speed\n",
      "  0     0    0     0    0     0      0      0 --:--:-- --:--:-- --:--:--     0"
     ]
    },
    {
     "name": "stdout",
     "output_type": "stream",
     "text": [
      "Downloading https://croptalk-spoi.s3.amazonaws.com/SPOI/17_173_55_0062_20101130.pdf to /Users/katerina/Documents/CropGuard/Dec_demo/demo_knowledge/17_173_55_0062_20101130.pdf\n"
     ]
    },
    {
     "name": "stderr",
     "output_type": "stream",
     "text": [
      "100  5819  100  5819    0     0  22458      0 --:--:-- --:--:-- --:--:-- 22819\n",
      "  % Total    % Received % Xferd  Average Speed   Time    Time     Time  Current\n",
      "                                 Dload  Upload   Total   Spent    Left  Speed\n",
      "  0     0    0     0    0     0      0      0 --:--:-- --:--:-- --:--:--     0"
     ]
    },
    {
     "name": "stdout",
     "output_type": "stream",
     "text": [
      "Downloading https://croptalk-spoi.s3.amazonaws.com/SPOI/18_037_55_0062_20101130.pdf to /Users/katerina/Documents/CropGuard/Dec_demo/demo_knowledge/18_037_55_0062_20101130.pdf\n"
     ]
    },
    {
     "name": "stderr",
     "output_type": "stream",
     "text": [
      "100  5824  100  5824    0     0  19739      0 --:--:-- --:--:-- --:--:-- 20013\n",
      "  % Total    % Received % Xferd  Average Speed   Time    Time     Time  Current\n",
      "                                 Dload  Upload   Total   Spent    Left  Speed\n",
      "  0     0    0     0    0     0      0      0 --:--:-- --:--:-- --:--:--     0"
     ]
    },
    {
     "name": "stdout",
     "output_type": "stream",
     "text": [
      "Downloading https://croptalk-spoi.s3.amazonaws.com/SPOI/18_035_55_0062_20101130.pdf to /Users/katerina/Documents/CropGuard/Dec_demo/demo_knowledge/18_035_55_0062_20101130.pdf\n"
     ]
    },
    {
     "name": "stderr",
     "output_type": "stream",
     "text": [
      "100  4499  100  4499    0     0  16326      0 --:--:-- --:--:-- --:--:-- 16540\n",
      "  % Total    % Received % Xferd  Average Speed   Time    Time     Time  Current\n",
      "                                 Dload  Upload   Total   Spent    Left  Speed\n",
      "  0     0    0     0    0     0      0      0 --:--:-- --:--:-- --:--:--     0"
     ]
    },
    {
     "name": "stdout",
     "output_type": "stream",
     "text": [
      "Downloading https://croptalk-spoi.s3.amazonaws.com/SPOI/18_033_55_0062_20101130.pdf to /Users/katerina/Documents/CropGuard/Dec_demo/demo_knowledge/18_033_55_0062_20101130.pdf\n"
     ]
    },
    {
     "name": "stderr",
     "output_type": "stream",
     "text": [
      "100  4503  100  4503    0     0  16151      0 --:--:-- --:--:-- --:--:-- 16374\n",
      "  % Total    % Received % Xferd  Average Speed   Time    Time     Time  Current\n",
      "                                 Dload  Upload   Total   Spent    Left  Speed\n",
      "  0     0    0     0    0     0      0      0 --:--:-- --:--:-- --:--:--     0"
     ]
    },
    {
     "name": "stdout",
     "output_type": "stream",
     "text": [
      "Downloading https://croptalk-spoi.s3.amazonaws.com/SPOI/18_021_55_0062_20101130.pdf to /Users/katerina/Documents/CropGuard/Dec_demo/demo_knowledge/18_021_55_0062_20101130.pdf\n"
     ]
    },
    {
     "name": "stderr",
     "output_type": "stream",
     "text": [
      "100  4502  100  4502    0     0  14861      0 --:--:-- --:--:-- --:--:-- 15107\n",
      "  % Total    % Received % Xferd  Average Speed   Time    Time     Time  Current\n",
      "                                 Dload  Upload   Total   Spent    Left  Speed\n",
      "  0     0    0     0    0     0      0      0 --:--:-- --:--:-- --:--:--     0"
     ]
    },
    {
     "name": "stdout",
     "output_type": "stream",
     "text": [
      "Downloading https://croptalk-spoi.s3.amazonaws.com/SPOI/18_017_55_0062_20101130.pdf to /Users/katerina/Documents/CropGuard/Dec_demo/demo_knowledge/18_017_55_0062_20101130.pdf\n"
     ]
    },
    {
     "name": "stderr",
     "output_type": "stream",
     "text": [
      "100  4499  100  4499    0     0  14023      0 --:--:-- --:--:-- --:--:-- 14192\n",
      "  % Total    % Received % Xferd  Average Speed   Time    Time     Time  Current\n",
      "                                 Dload  Upload   Total   Spent    Left  Speed\n",
      "  0     0    0     0    0     0      0      0 --:--:-- --:--:-- --:--:--     0"
     ]
    },
    {
     "name": "stdout",
     "output_type": "stream",
     "text": [
      "Downloading https://croptalk-spoi.s3.amazonaws.com/SPOI/18_013_55_0062_20101130.pdf to /Users/katerina/Documents/CropGuard/Dec_demo/demo_knowledge/18_013_55_0062_20101130.pdf\n"
     ]
    },
    {
     "name": "stderr",
     "output_type": "stream",
     "text": [
      "100  5823  100  5823    0     0  18362      0 --:--:-- --:--:-- --:--:-- 18603\n",
      "  % Total    % Received % Xferd  Average Speed   Time    Time     Time  Current\n",
      "                                 Dload  Upload   Total   Spent    Left  Speed\n",
      "  0     0    0     0    0     0      0      0 --:--:-- --:--:-- --:--:--     0"
     ]
    },
    {
     "name": "stdout",
     "output_type": "stream",
     "text": [
      "Downloading https://croptalk-spoi.s3.amazonaws.com/SPOI/18_009_55_0062_20101130.pdf to /Users/katerina/Documents/CropGuard/Dec_demo/demo_knowledge/18_009_55_0062_20101130.pdf\n"
     ]
    },
    {
     "name": "stderr",
     "output_type": "stream",
     "text": [
      "100  5832  100  5832    0     0  20851      0 --:--:-- --:--:-- --:--:-- 21130\n",
      "  % Total    % Received % Xferd  Average Speed   Time    Time     Time  Current\n",
      "                                 Dload  Upload   Total   Spent    Left  Speed\n",
      "  0     0    0     0    0     0      0      0 --:--:-- --:--:-- --:--:--     0"
     ]
    },
    {
     "name": "stdout",
     "output_type": "stream",
     "text": [
      "Downloading https://croptalk-spoi.s3.amazonaws.com/SPOI/18_001_55_0062_20101130.pdf to /Users/katerina/Documents/CropGuard/Dec_demo/demo_knowledge/18_001_55_0062_20101130.pdf\n"
     ]
    },
    {
     "name": "stderr",
     "output_type": "stream",
     "text": [
      "100  4502  100  4502    0     0  15957      0 --:--:-- --:--:-- --:--:-- 16078\n",
      "  % Total    % Received % Xferd  Average Speed   Time    Time     Time  Current\n",
      "                                 Dload  Upload   Total   Spent    Left  Speed\n",
      "  0     0    0     0    0     0      0      0 --:--:-- --:--:-- --:--:--     0"
     ]
    },
    {
     "name": "stdout",
     "output_type": "stream",
     "text": [
      "Downloading https://croptalk-spoi.s3.amazonaws.com/SPOI/17_201_55_0062_20101130.pdf to /Users/katerina/Documents/CropGuard/Dec_demo/demo_knowledge/17_201_55_0062_20101130.pdf\n"
     ]
    },
    {
     "name": "stderr",
     "output_type": "stream",
     "text": [
      "100  5830  100  5830    0     0  20592      0 --:--:-- --:--:-- --:--:-- 20821\n",
      "  % Total    % Received % Xferd  Average Speed   Time    Time     Time  Current\n",
      "                                 Dload  Upload   Total   Spent    Left  Speed\n",
      "  0     0    0     0    0     0      0      0 --:--:-- --:--:-- --:--:--     0"
     ]
    },
    {
     "name": "stdout",
     "output_type": "stream",
     "text": [
      "Downloading https://croptalk-spoi.s3.amazonaws.com/SPOI/17_197_55_0062_20101130.pdf to /Users/katerina/Documents/CropGuard/Dec_demo/demo_knowledge/17_197_55_0062_20101130.pdf\n"
     ]
    },
    {
     "name": "stderr",
     "output_type": "stream",
     "text": [
      "100  4496  100  4496    0     0  17371      0 --:--:-- --:--:-- --:--:-- 17562\n",
      "  % Total    % Received % Xferd  Average Speed   Time    Time     Time  Current\n",
      "                                 Dload  Upload   Total   Spent    Left  Speed\n",
      "  0     0    0     0    0     0      0      0 --:--:-- --:--:-- --:--:--     0"
     ]
    },
    {
     "name": "stdout",
     "output_type": "stream",
     "text": [
      "Downloading https://croptalk-spoi.s3.amazonaws.com/SPOI/17_193_55_0062_20101130.pdf to /Users/katerina/Documents/CropGuard/Dec_demo/demo_knowledge/17_193_55_0062_20101130.pdf\n"
     ]
    },
    {
     "name": "stderr",
     "output_type": "stream",
     "text": [
      "100  5823  100  5823    0     0  20438      0 --:--:-- --:--:-- --:--:-- 20796\n",
      "  % Total    % Received % Xferd  Average Speed   Time    Time     Time  Current\n",
      "                                 Dload  Upload   Total   Spent    Left  Speed\n",
      "  0     0    0     0    0     0      0      0 --:--:-- --:--:-- --:--:--     0"
     ]
    },
    {
     "name": "stdout",
     "output_type": "stream",
     "text": [
      "Downloading https://croptalk-spoi.s3.amazonaws.com/SPOI/17_189_55_0062_20101130.pdf to /Users/katerina/Documents/CropGuard/Dec_demo/demo_knowledge/17_189_55_0062_20101130.pdf\n"
     ]
    },
    {
     "name": "stderr",
     "output_type": "stream",
     "text": [
      "100  5826  100  5826    0     0  20398      0 --:--:-- --:--:-- --:--:-- 20733\n",
      "  % Total    % Received % Xferd  Average Speed   Time    Time     Time  Current\n",
      "                                 Dload  Upload   Total   Spent    Left  Speed\n",
      "  0     0    0     0    0     0      0      0 --:--:-- --:--:-- --:--:--     0"
     ]
    },
    {
     "name": "stdout",
     "output_type": "stream",
     "text": [
      "Downloading https://croptalk-spoi.s3.amazonaws.com/SPOI/17_185_55_0062_20101130.pdf to /Users/katerina/Documents/CropGuard/Dec_demo/demo_knowledge/17_185_55_0062_20101130.pdf\n"
     ]
    },
    {
     "name": "stderr",
     "output_type": "stream",
     "text": [
      "100  5816  100  5816    0     0  16371      0 --:--:-- --:--:-- --:--:-- 16569\n",
      "  % Total    % Received % Xferd  Average Speed   Time    Time     Time  Current\n",
      "                                 Dload  Upload   Total   Spent    Left  Speed\n",
      "  0     0    0     0    0     0      0      0 --:--:-- --:--:-- --:--:--     0"
     ]
    },
    {
     "name": "stdout",
     "output_type": "stream",
     "text": [
      "Downloading https://croptalk-spoi.s3.amazonaws.com/SPOI/38_083_05_0011_20101130.pdf to /Users/katerina/Documents/CropGuard/Dec_demo/demo_knowledge/38_083_05_0011_20101130.pdf\n"
     ]
    },
    {
     "name": "stderr",
     "output_type": "stream",
     "text": [
      "100  3256  100  3256    0     0  10194      0 --:--:-- --:--:-- --:--:-- 10303\n",
      "  % Total    % Received % Xferd  Average Speed   Time    Time     Time  Current\n",
      "                                 Dload  Upload   Total   Spent    Left  Speed\n",
      "  0     0    0     0    0     0      0      0 --:--:-- --:--:-- --:--:--     0"
     ]
    },
    {
     "name": "stdout",
     "output_type": "stream",
     "text": [
      "Downloading https://croptalk-spoi.s3.amazonaws.com/SPOI/46_013_05_0011_20101130.pdf to /Users/katerina/Documents/CropGuard/Dec_demo/demo_knowledge/46_013_05_0011_20101130.pdf\n"
     ]
    },
    {
     "name": "stderr",
     "output_type": "stream",
     "text": [
      "100  3251  100  3251    0     0   3321      0 --:--:-- --:--:-- --:--:--  3330\n",
      "  % Total    % Received % Xferd  Average Speed   Time    Time     Time  Current\n",
      "                                 Dload  Upload   Total   Spent    Left  Speed\n",
      "  0     0    0     0    0     0      0      0 --:--:-- --:--:-- --:--:--     0"
     ]
    },
    {
     "name": "stdout",
     "output_type": "stream",
     "text": [
      "Downloading https://croptalk-spoi.s3.amazonaws.com/SPOI/46_057_05_0011_20101130.pdf to /Users/katerina/Documents/CropGuard/Dec_demo/demo_knowledge/46_057_05_0011_20101130.pdf\n"
     ]
    },
    {
     "name": "stderr",
     "output_type": "stream",
     "text": [
      "100  3252  100  3252    0     0   3936      0 --:--:-- --:--:-- --:--:--  3961\n",
      "  % Total    % Received % Xferd  Average Speed   Time    Time     Time  Current\n",
      "                                 Dload  Upload   Total   Spent    Left  Speed\n",
      "  0     0    0     0    0     0      0      0 --:--:-- --:--:-- --:--:--     0"
     ]
    },
    {
     "name": "stdout",
     "output_type": "stream",
     "text": [
      "Downloading https://croptalk-spoi.s3.amazonaws.com/SPOI/46_077_05_0011_20101130.pdf to /Users/katerina/Documents/CropGuard/Dec_demo/demo_knowledge/46_077_05_0011_20101130.pdf\n"
     ]
    },
    {
     "name": "stderr",
     "output_type": "stream",
     "text": [
      "100  3256  100  3256    0     0   4389      0 --:--:-- --:--:-- --:--:--  4411\n",
      "  % Total    % Received % Xferd  Average Speed   Time    Time     Time  Current\n",
      "                                 Dload  Upload   Total   Spent    Left  Speed\n",
      "  0     0    0     0    0     0      0      0 --:--:-- --:--:-- --:--:--     0"
     ]
    },
    {
     "name": "stdout",
     "output_type": "stream",
     "text": [
      "Downloading https://croptalk-spoi.s3.amazonaws.com/SPOI/46_089_05_0011_20101130.pdf to /Users/katerina/Documents/CropGuard/Dec_demo/demo_knowledge/46_089_05_0011_20101130.pdf\n"
     ]
    },
    {
     "name": "stderr",
     "output_type": "stream",
     "text": [
      "100  3254  100  3254    0     0   5141      0 --:--:-- --:--:-- --:--:--  5156\n",
      "  % Total    % Received % Xferd  Average Speed   Time    Time     Time  Current\n",
      "                                 Dload  Upload   Total   Spent    Left  Speed\n",
      "  0     0    0     0    0     0      0      0 --:--:-- --:--:-- --:--:--     0"
     ]
    },
    {
     "name": "stdout",
     "output_type": "stream",
     "text": [
      "Downloading https://croptalk-spoi.s3.amazonaws.com/SPOI/46_091_05_0011_20101130.pdf to /Users/katerina/Documents/CropGuard/Dec_demo/demo_knowledge/46_091_05_0011_20101130.pdf\n"
     ]
    },
    {
     "name": "stderr",
     "output_type": "stream",
     "text": [
      "100  3253  100  3253    0     0   5882      0 --:--:-- --:--:-- --:--:--  5936\n",
      "  % Total    % Received % Xferd  Average Speed   Time    Time     Time  Current\n",
      "                                 Dload  Upload   Total   Spent    Left  Speed\n",
      "  0     0    0     0    0     0      0      0 --:--:-- --:--:-- --:--:--     0"
     ]
    },
    {
     "name": "stdout",
     "output_type": "stream",
     "text": [
      "Downloading https://croptalk-spoi.s3.amazonaws.com/SPOI/38_081_05_0011_20101130.pdf to /Users/katerina/Documents/CropGuard/Dec_demo/demo_knowledge/38_081_05_0011_20101130.pdf\n"
     ]
    },
    {
     "name": "stderr",
     "output_type": "stream",
     "text": [
      "100  3254  100  3254    0     0  10078      0 --:--:-- --:--:-- --:--:-- 10200\n",
      "  % Total    % Received % Xferd  Average Speed   Time    Time     Time  Current\n",
      "                                 Dload  Upload   Total   Spent    Left  Speed\n",
      "  0     0    0     0    0     0      0      0 --:--:-- --:--:-- --:--:--     0"
     ]
    },
    {
     "name": "stdout",
     "output_type": "stream",
     "text": [
      "Downloading https://croptalk-spoi.s3.amazonaws.com/SPOI/38_075_05_0011_20101130.pdf to /Users/katerina/Documents/CropGuard/Dec_demo/demo_knowledge/38_075_05_0011_20101130.pdf\n"
     ]
    },
    {
     "name": "stderr",
     "output_type": "stream",
     "text": [
      "100  3253  100  3253    0     0  10376      0 --:--:-- --:--:-- --:--:-- 10527\n",
      "  % Total    % Received % Xferd  Average Speed   Time    Time     Time  Current\n",
      "                                 Dload  Upload   Total   Spent    Left  Speed\n",
      "  0     0    0     0    0     0      0      0 --:--:-- --:--:-- --:--:--     0"
     ]
    },
    {
     "name": "stdout",
     "output_type": "stream",
     "text": [
      "Downloading https://croptalk-spoi.s3.amazonaws.com/SPOI/38_021_05_0011_20101130.pdf to /Users/katerina/Documents/CropGuard/Dec_demo/demo_knowledge/38_021_05_0011_20101130.pdf\n"
     ]
    },
    {
     "name": "stderr",
     "output_type": "stream",
     "text": [
      "100  3254  100  3254    0     0  10910      0 --:--:-- --:--:-- --:--:-- 11105\n",
      "  % Total    % Received % Xferd  Average Speed   Time    Time     Time  Current\n",
      "                                 Dload  Upload   Total   Spent    Left  Speed\n",
      "  0     0    0     0    0     0      0      0 --:--:-- --:--:-- --:--:--     0"
     ]
    },
    {
     "name": "stdout",
     "output_type": "stream",
     "text": [
      "Downloading https://croptalk-spoi.s3.amazonaws.com/SPOI/38_023_05_0011_20101130.pdf to /Users/katerina/Documents/CropGuard/Dec_demo/demo_knowledge/38_023_05_0011_20101130.pdf\n"
     ]
    },
    {
     "name": "stderr",
     "output_type": "stream",
     "text": [
      "100  3250  100  3250    0     0  11160      0 --:--:-- --:--:-- --:--:-- 11284\n",
      "  % Total    % Received % Xferd  Average Speed   Time    Time     Time  Current\n",
      "                                 Dload  Upload   Total   Spent    Left  Speed\n",
      "  0     0    0     0    0     0      0      0 --:--:-- --:--:-- --:--:--     0"
     ]
    },
    {
     "name": "stdout",
     "output_type": "stream",
     "text": [
      "Downloading https://croptalk-spoi.s3.amazonaws.com/SPOI/38_027_05_0011_20101130.pdf to /Users/katerina/Documents/CropGuard/Dec_demo/demo_knowledge/38_027_05_0011_20101130.pdf\n"
     ]
    },
    {
     "name": "stderr",
     "output_type": "stream",
     "text": [
      "100  3251  100  3251    0     0  11279      0 --:--:-- --:--:-- --:--:-- 11447\n",
      "  % Total    % Received % Xferd  Average Speed   Time    Time     Time  Current\n",
      "                                 Dload  Upload   Total   Spent    Left  Speed\n",
      "  0     0    0     0    0     0      0      0 --:--:-- --:--:-- --:--:--     0"
     ]
    },
    {
     "name": "stdout",
     "output_type": "stream",
     "text": [
      "Downloading https://croptalk-spoi.s3.amazonaws.com/SPOI/38_057_05_0011_20101130.pdf to /Users/katerina/Documents/CropGuard/Dec_demo/demo_knowledge/38_057_05_0011_20101130.pdf\n"
     ]
    },
    {
     "name": "stderr",
     "output_type": "stream",
     "text": [
      "100  3253  100  3253    0     0  10004      0 --:--:-- --:--:-- --:--:-- 10133\n",
      "  % Total    % Received % Xferd  Average Speed   Time    Time     Time  Current\n",
      "                                 Dload  Upload   Total   Spent    Left  Speed\n",
      "  0     0    0     0    0     0      0      0 --:--:-- --:--:-- --:--:--     0"
     ]
    },
    {
     "name": "stdout",
     "output_type": "stream",
     "text": [
      "Downloading https://croptalk-spoi.s3.amazonaws.com/SPOI/38_065_05_0011_20101130.pdf to /Users/katerina/Documents/CropGuard/Dec_demo/demo_knowledge/38_065_05_0011_20101130.pdf\n"
     ]
    },
    {
     "name": "stderr",
     "output_type": "stream",
     "text": [
      "100  3250  100  3250    0     0  11798      0 --:--:-- --:--:-- --:--:-- 11904\n",
      "  % Total    % Received % Xferd  Average Speed   Time    Time     Time  Current\n",
      "                                 Dload  Upload   Total   Spent    Left  Speed\n",
      "  0     0    0     0    0     0      0      0 --:--:-- --:--:-- --:--:--     0"
     ]
    },
    {
     "name": "stdout",
     "output_type": "stream",
     "text": [
      "Downloading https://croptalk-spoi.s3.amazonaws.com/SPOI/26_061_90_0016_20101130.pdf to /Users/katerina/Documents/CropGuard/Dec_demo/demo_knowledge/26_061_90_0016_20101130.pdf\n"
     ]
    },
    {
     "name": "stderr",
     "output_type": "stream",
     "text": [
      "100 34528  100 34528    0     0   107k      0 --:--:-- --:--:-- --:--:--  108k\n",
      "  % Total    % Received % Xferd  Average Speed   Time    Time     Time  Current\n",
      "                                 Dload  Upload   Total   Spent    Left  Speed\n",
      "  0     0    0     0    0     0      0      0 --:--:-- --:--:-- --:--:--     0"
     ]
    },
    {
     "name": "stdout",
     "output_type": "stream",
     "text": [
      "Downloading https://croptalk-spoi.s3.amazonaws.com/SPOI/26_031_90_0016_20101130.pdf to /Users/katerina/Documents/CropGuard/Dec_demo/demo_knowledge/26_031_90_0016_20101130.pdf\n"
     ]
    },
    {
     "name": "stderr",
     "output_type": "stream",
     "text": [
      "100 34526  100 34526    0     0  94999      0 --:--:-- --:--:-- --:--:-- 95905\n",
      "  % Total    % Received % Xferd  Average Speed   Time    Time     Time  Current\n",
      "                                 Dload  Upload   Total   Spent    Left  Speed\n",
      "  0     0    0     0    0     0      0      0 --:--:-- --:--:-- --:--:--     0"
     ]
    },
    {
     "name": "stdout",
     "output_type": "stream",
     "text": [
      "Downloading https://croptalk-spoi.s3.amazonaws.com/SPOI/26_027_90_0016_20101130.pdf to /Users/katerina/Documents/CropGuard/Dec_demo/demo_knowledge/26_027_90_0016_20101130.pdf\n"
     ]
    },
    {
     "name": "stderr",
     "output_type": "stream",
     "text": [
      "100 34486  100 34486    0     0   102k      0 --:--:-- --:--:-- --:--:--  104k\n",
      "  % Total    % Received % Xferd  Average Speed   Time    Time     Time  Current\n",
      "                                 Dload  Upload   Total   Spent    Left  Speed\n",
      "  0     0    0     0    0     0      0      0 --:--:-- --:--:-- --:--:--     0"
     ]
    },
    {
     "name": "stdout",
     "output_type": "stream",
     "text": [
      "Downloading https://croptalk-spoi.s3.amazonaws.com/SPOI/26_013_90_0016_20101130.pdf to /Users/katerina/Documents/CropGuard/Dec_demo/demo_knowledge/26_013_90_0016_20101130.pdf\n"
     ]
    },
    {
     "name": "stderr",
     "output_type": "stream",
     "text": [
      "100 34518  100 34518    0     0   104k      0 --:--:-- --:--:-- --:--:--  105k\n",
      "  % Total    % Received % Xferd  Average Speed   Time    Time     Time  Current\n",
      "                                 Dload  Upload   Total   Spent    Left  Speed\n",
      "  0     0    0     0    0     0      0      0 --:--:-- --:--:-- --:--:--     0"
     ]
    },
    {
     "name": "stdout",
     "output_type": "stream",
     "text": [
      "Downloading https://croptalk-spoi.s3.amazonaws.com/SPOI/26_091_90_0016_20101130.pdf to /Users/katerina/Documents/CropGuard/Dec_demo/demo_knowledge/26_091_90_0016_20101130.pdf\n"
     ]
    },
    {
     "name": "stderr",
     "output_type": "stream",
     "text": [
      "100 34530  100 34530    0     0    99k      0 --:--:-- --:--:-- --:--:--  100k\n",
      "  % Total    % Received % Xferd  Average Speed   Time    Time     Time  Current\n",
      "                                 Dload  Upload   Total   Spent    Left  Speed\n",
      "  0     0    0     0    0     0      0      0 --:--:-- --:--:-- --:--:--     0"
     ]
    },
    {
     "name": "stdout",
     "output_type": "stream",
     "text": [
      "Downloading https://croptalk-spoi.s3.amazonaws.com/SPOI/26_085_90_0016_20101130.pdf to /Users/katerina/Documents/CropGuard/Dec_demo/demo_knowledge/26_085_90_0016_20101130.pdf\n"
     ]
    },
    {
     "name": "stderr",
     "output_type": "stream",
     "text": [
      "100 34518  100 34518    0     0   104k      0 --:--:-- --:--:-- --:--:--  105k\n",
      "  % Total    % Received % Xferd  Average Speed   Time    Time     Time  Current\n",
      "                                 Dload  Upload   Total   Spent    Left  Speed\n",
      "  0     0    0     0    0     0      0      0 --:--:-- --:--:-- --:--:--     0"
     ]
    },
    {
     "name": "stdout",
     "output_type": "stream",
     "text": [
      "Downloading https://croptalk-spoi.s3.amazonaws.com/SPOI/29_227_90_0016_20101130.pdf to /Users/katerina/Documents/CropGuard/Dec_demo/demo_knowledge/29_227_90_0016_20101130.pdf\n"
     ]
    },
    {
     "name": "stderr",
     "output_type": "stream",
     "text": [
      "100 34521  100 34521    0     0  83293      0 --:--:-- --:--:-- --:--:-- 83992\n",
      "  % Total    % Received % Xferd  Average Speed   Time    Time     Time  Current\n",
      "                                 Dload  Upload   Total   Spent    Left  Speed\n",
      "  0     0    0     0    0     0      0      0 --:--:-- --:--:-- --:--:--     0"
     ]
    },
    {
     "name": "stdout",
     "output_type": "stream",
     "text": [
      "Downloading https://croptalk-spoi.s3.amazonaws.com/SPOI/29_187_90_0016_20101130.pdf to /Users/katerina/Documents/CropGuard/Dec_demo/demo_knowledge/29_187_90_0016_20101130.pdf\n"
     ]
    },
    {
     "name": "stderr",
     "output_type": "stream",
     "text": [
      "100 34561  100 34561    0     0  92603      0 --:--:-- --:--:-- --:--:-- 93661\n",
      "  % Total    % Received % Xferd  Average Speed   Time    Time     Time  Current\n",
      "                                 Dload  Upload   Total   Spent    Left  Speed\n",
      "  0     0    0     0    0     0      0      0 --:--:-- --:--:-- --:--:--     0"
     ]
    },
    {
     "name": "stdout",
     "output_type": "stream",
     "text": [
      "Downloading https://croptalk-spoi.s3.amazonaws.com/SPOI/29_171_90_0016_20101130.pdf to /Users/katerina/Documents/CropGuard/Dec_demo/demo_knowledge/29_171_90_0016_20101130.pdf\n"
     ]
    },
    {
     "name": "stderr",
     "output_type": "stream",
     "text": [
      "100 34837  100 34837    0     0  95570      0 --:--:-- --:--:-- --:--:-- 96501\n",
      "  % Total    % Received % Xferd  Average Speed   Time    Time     Time  Current\n",
      "                                 Dload  Upload   Total   Spent    Left  Speed\n",
      "  0     0    0     0    0     0      0      0 --:--:-- --:--:-- --:--:--     0"
     ]
    },
    {
     "name": "stdout",
     "output_type": "stream",
     "text": [
      "Downloading https://croptalk-spoi.s3.amazonaws.com/SPOI/29_145_90_0016_20101130.pdf to /Users/katerina/Documents/CropGuard/Dec_demo/demo_knowledge/29_145_90_0016_20101130.pdf\n"
     ]
    },
    {
     "name": "stderr",
     "output_type": "stream",
     "text": [
      "100 34536  100 34536    0     0  97900      0 --:--:-- --:--:-- --:--:-- 99241\n",
      "  % Total    % Received % Xferd  Average Speed   Time    Time     Time  Current\n",
      "                                 Dload  Upload   Total   Spent    Left  Speed\n",
      "  0     0    0     0    0     0      0      0 --:--:-- --:--:-- --:--:--     0"
     ]
    },
    {
     "name": "stdout",
     "output_type": "stream",
     "text": [
      "Downloading https://croptalk-spoi.s3.amazonaws.com/SPOI/29_001_90_0016_20101130.pdf to /Users/katerina/Documents/CropGuard/Dec_demo/demo_knowledge/29_001_90_0016_20101130.pdf\n"
     ]
    },
    {
     "name": "stderr",
     "output_type": "stream",
     "text": [
      "100 34806  100 34806    0     0   102k      0 --:--:-- --:--:-- --:--:--  103k\n",
      "  % Total    % Received % Xferd  Average Speed   Time    Time     Time  Current\n",
      "                                 Dload  Upload   Total   Spent    Left  Speed\n",
      "  0     0    0     0    0     0      0      0 --:--:-- --:--:-- --:--:--     0"
     ]
    },
    {
     "name": "stdout",
     "output_type": "stream",
     "text": [
      "Downloading https://croptalk-spoi.s3.amazonaws.com/SPOI/29_129_90_0016_20101130.pdf to /Users/katerina/Documents/CropGuard/Dec_demo/demo_knowledge/29_129_90_0016_20101130.pdf\n"
     ]
    },
    {
     "name": "stderr",
     "output_type": "stream",
     "text": [
      "100 34520  100 34520    0     0  99503      0 --:--:-- --:--:-- --:--:--   98k\n",
      "  % Total    % Received % Xferd  Average Speed   Time    Time     Time  Current\n",
      "                                 Dload  Upload   Total   Spent    Left  Speed\n",
      "  0     0    0     0    0     0      0      0 --:--:-- --:--:-- --:--:--     0"
     ]
    },
    {
     "name": "stdout",
     "output_type": "stream",
     "text": [
      "Downloading https://croptalk-spoi.s3.amazonaws.com/SPOI/29_115_90_0016_20101130.pdf to /Users/katerina/Documents/CropGuard/Dec_demo/demo_knowledge/29_115_90_0016_20101130.pdf\n"
     ]
    },
    {
     "name": "stderr",
     "output_type": "stream",
     "text": [
      "100 34829  100 34829    0     0  99646      0 --:--:-- --:--:-- --:--:--   98k\n",
      "  % Total    % Received % Xferd  Average Speed   Time    Time     Time  Current\n",
      "                                 Dload  Upload   Total   Spent    Left  Speed\n",
      "  0     0    0     0    0     0      0      0 --:--:-- --:--:-- --:--:--     0"
     ]
    },
    {
     "name": "stdout",
     "output_type": "stream",
     "text": [
      "Downloading https://croptalk-spoi.s3.amazonaws.com/SPOI/29_109_90_0016_20101130.pdf to /Users/katerina/Documents/CropGuard/Dec_demo/demo_knowledge/29_109_90_0016_20101130.pdf\n"
     ]
    },
    {
     "name": "stderr",
     "output_type": "stream",
     "text": [
      "100 34836  100 34836    0     0    97k      0 --:--:-- --:--:-- --:--:--   98k\n",
      "  % Total    % Received % Xferd  Average Speed   Time    Time     Time  Current\n",
      "                                 Dload  Upload   Total   Spent    Left  Speed\n",
      "  0     0    0     0    0     0      0      0 --:--:-- --:--:-- --:--:--     0"
     ]
    },
    {
     "name": "stdout",
     "output_type": "stream",
     "text": [
      "Downloading https://croptalk-spoi.s3.amazonaws.com/SPOI/29_107_90_0016_20101130.pdf to /Users/katerina/Documents/CropGuard/Dec_demo/demo_knowledge/29_107_90_0016_20101130.pdf\n"
     ]
    },
    {
     "name": "stderr",
     "output_type": "stream",
     "text": [
      "100 34860  100 34860    0     0    98k      0 --:--:-- --:--:-- --:--:--  100k\n",
      "  % Total    % Received % Xferd  Average Speed   Time    Time     Time  Current\n",
      "                                 Dload  Upload   Total   Spent    Left  Speed\n",
      "  0     0    0     0    0     0      0      0 --:--:-- --:--:-- --:--:--     0"
     ]
    },
    {
     "name": "stdout",
     "output_type": "stream",
     "text": [
      "Downloading https://croptalk-spoi.s3.amazonaws.com/SPOI/29_075_90_0016_20101130.pdf to /Users/katerina/Documents/CropGuard/Dec_demo/demo_knowledge/29_075_90_0016_20101130.pdf\n"
     ]
    },
    {
     "name": "stderr",
     "output_type": "stream",
     "text": [
      "100 34527  100 34527    0     0   105k      0 --:--:-- --:--:-- --:--:--  107k\n",
      "  % Total    % Received % Xferd  Average Speed   Time    Time     Time  Current\n",
      "                                 Dload  Upload   Total   Spent    Left  Speed\n",
      "  0     0    0     0    0     0      0      0 --:--:-- --:--:-- --:--:--     0"
     ]
    },
    {
     "name": "stdout",
     "output_type": "stream",
     "text": [
      "Downloading https://croptalk-spoi.s3.amazonaws.com/SPOI/29_009_90_0016_20101130.pdf to /Users/katerina/Documents/CropGuard/Dec_demo/demo_knowledge/29_009_90_0016_20101130.pdf\n"
     ]
    },
    {
     "name": "stderr",
     "output_type": "stream",
     "text": [
      "100 34516  100 34516    0     0   101k      0 --:--:-- --:--:-- --:--:--  102k\n",
      "  % Total    % Received % Xferd  Average Speed   Time    Time     Time  Current\n",
      "                                 Dload  Upload   Total   Spent    Left  Speed\n",
      "  0     0    0     0    0     0      0      0 --:--:-- --:--:-- --:--:--     0"
     ]
    },
    {
     "name": "stdout",
     "output_type": "stream",
     "text": [
      "Downloading https://croptalk-spoi.s3.amazonaws.com/SPOI/29_121_90_0016_20101130.pdf to /Users/katerina/Documents/CropGuard/Dec_demo/demo_knowledge/29_121_90_0016_20101130.pdf\n"
     ]
    },
    {
     "name": "stderr",
     "output_type": "stream",
     "text": [
      "100 34827  100 34827    0     0  99496      0 --:--:-- --:--:-- --:--:--   98k\n",
      "  % Total    % Received % Xferd  Average Speed   Time    Time     Time  Current\n",
      "                                 Dload  Upload   Total   Spent    Left  Speed\n",
      "  0     0    0     0    0     0      0      0 --:--:-- --:--:-- --:--:--     0"
     ]
    },
    {
     "name": "stdout",
     "output_type": "stream",
     "text": [
      "Downloading https://croptalk-spoi.s3.amazonaws.com/SPOI/17_123_90_0016_20101130.pdf to /Users/katerina/Documents/CropGuard/Dec_demo/demo_knowledge/17_123_90_0016_20101130.pdf\n"
     ]
    },
    {
     "name": "stderr",
     "output_type": "stream",
     "text": [
      "100 34815  100 34815    0     0   105k      0 --:--:-- --:--:-- --:--:--  106k\n",
      "  % Total    % Received % Xferd  Average Speed   Time    Time     Time  Current\n",
      "                                 Dload  Upload   Total   Spent    Left  Speed\n",
      "  0     0    0     0    0     0      0      0 --:--:-- --:--:-- --:--:--     0"
     ]
    },
    {
     "name": "stdout",
     "output_type": "stream",
     "text": [
      "Downloading https://croptalk-spoi.s3.amazonaws.com/SPOI/17_095_90_0016_20101130.pdf to /Users/katerina/Documents/CropGuard/Dec_demo/demo_knowledge/17_095_90_0016_20101130.pdf\n"
     ]
    },
    {
     "name": "stderr",
     "output_type": "stream",
     "text": [
      "100 34818  100 34818    0     0  75166      0 --:--:-- --:--:-- --:--:-- 75691\n",
      "  % Total    % Received % Xferd  Average Speed   Time    Time     Time  Current\n",
      "                                 Dload  Upload   Total   Spent    Left  Speed\n",
      "  0     0    0     0    0     0      0      0 --:--:-- --:--:-- --:--:--     0"
     ]
    },
    {
     "name": "stdout",
     "output_type": "stream",
     "text": [
      "Downloading https://croptalk-spoi.s3.amazonaws.com/SPOI/17_093_90_0016_20101130.pdf to /Users/katerina/Documents/CropGuard/Dec_demo/demo_knowledge/17_093_90_0016_20101130.pdf\n"
     ]
    },
    {
     "name": "stderr",
     "output_type": "stream",
     "text": [
      "100 34825  100 34825    0     0    99k      0 --:--:-- --:--:-- --:--:--  100k\n",
      "  % Total    % Received % Xferd  Average Speed   Time    Time     Time  Current\n",
      "                                 Dload  Upload   Total   Spent    Left  Speed\n",
      "  0     0    0     0    0     0      0      0 --:--:-- --:--:-- --:--:--     0"
     ]
    },
    {
     "name": "stdout",
     "output_type": "stream",
     "text": [
      "Downloading https://croptalk-spoi.s3.amazonaws.com/SPOI/17_071_90_0016_20101130.pdf to /Users/katerina/Documents/CropGuard/Dec_demo/demo_knowledge/17_071_90_0016_20101130.pdf\n"
     ]
    },
    {
     "name": "stderr",
     "output_type": "stream",
     "text": [
      "100 34835  100 34835    0     0   102k      0 --:--:-- --:--:-- --:--:--  104k\n",
      "  % Total    % Received % Xferd  Average Speed   Time    Time     Time  Current\n",
      "                                 Dload  Upload   Total   Spent    Left  Speed\n",
      "  0     0    0     0    0     0      0      0 --:--:-- --:--:-- --:--:--     0"
     ]
    },
    {
     "name": "stdout",
     "output_type": "stream",
     "text": [
      "Downloading https://croptalk-spoi.s3.amazonaws.com/SPOI/17_057_90_0016_20101130.pdf to /Users/katerina/Documents/CropGuard/Dec_demo/demo_knowledge/17_057_90_0016_20101130.pdf\n"
     ]
    },
    {
     "name": "stderr",
     "output_type": "stream",
     "text": [
      "100 34801  100 34801    0     0   102k      0 --:--:-- --:--:-- --:--:--  103k\n",
      "  % Total    % Received % Xferd  Average Speed   Time    Time     Time  Current\n",
      "                                 Dload  Upload   Total   Spent    Left  Speed\n",
      "  0     0    0     0    0     0      0      0 --:--:-- --:--:-- --:--:--     0"
     ]
    },
    {
     "name": "stdout",
     "output_type": "stream",
     "text": [
      "Downloading https://croptalk-spoi.s3.amazonaws.com/SPOI/17_195_90_0016_20101130.pdf to /Users/katerina/Documents/CropGuard/Dec_demo/demo_knowledge/17_195_90_0016_20101130.pdf\n"
     ]
    },
    {
     "name": "stderr",
     "output_type": "stream",
     "text": [
      "100 34816  100 34816    0     0  96917      0 --:--:-- --:--:-- --:--:-- 97797\n",
      "  % Total    % Received % Xferd  Average Speed   Time    Time     Time  Current\n",
      "                                 Dload  Upload   Total   Spent    Left  Speed\n",
      "  0     0    0     0    0     0      0      0 --:--:-- --:--:-- --:--:--     0"
     ]
    },
    {
     "name": "stdout",
     "output_type": "stream",
     "text": [
      "Downloading https://croptalk-spoi.s3.amazonaws.com/SPOI/18_179_90_0016_20101130.pdf to /Users/katerina/Documents/CropGuard/Dec_demo/demo_knowledge/18_179_90_0016_20101130.pdf\n"
     ]
    },
    {
     "name": "stderr",
     "output_type": "stream",
     "text": [
      "100 34462  100 34462    0     0  70834      0 --:--:-- --:--:-- --:--:-- 71349\n",
      "  % Total    % Received % Xferd  Average Speed   Time    Time     Time  Current\n",
      "                                 Dload  Upload   Total   Spent    Left  Speed\n",
      "  0     0    0     0    0     0      0      0 --:--:-- --:--:-- --:--:--     0"
     ]
    },
    {
     "name": "stdout",
     "output_type": "stream",
     "text": [
      "Downloading https://croptalk-spoi.s3.amazonaws.com/SPOI/18_169_90_0016_20101130.pdf to /Users/katerina/Documents/CropGuard/Dec_demo/demo_knowledge/18_169_90_0016_20101130.pdf\n"
     ]
    },
    {
     "name": "stderr",
     "output_type": "stream",
     "text": [
      "100 34506  100 34506    0     0  35639      0 --:--:-- --:--:-- --:--:-- 35757\n",
      "  % Total    % Received % Xferd  Average Speed   Time    Time     Time  Current\n",
      "                                 Dload  Upload   Total   Spent    Left  Speed\n",
      "  0     0    0     0    0     0      0      0 --:--:-- --:--:-- --:--:--     0"
     ]
    },
    {
     "name": "stdout",
     "output_type": "stream",
     "text": [
      "Downloading https://croptalk-spoi.s3.amazonaws.com/SPOI/18_089_90_0016_20101130.pdf to /Users/katerina/Documents/CropGuard/Dec_demo/demo_knowledge/18_089_90_0016_20101130.pdf\n"
     ]
    },
    {
     "name": "stderr",
     "output_type": "stream",
     "text": [
      "100 34511  100 34511    0     0  34381      0  0:00:01  0:00:01 --:--:-- 34511\n",
      "  % Total    % Received % Xferd  Average Speed   Time    Time     Time  Current\n",
      "                                 Dload  Upload   Total   Spent    Left  Speed\n",
      "  0     0    0     0    0     0      0      0 --:--:-- --:--:-- --:--:--     0"
     ]
    },
    {
     "name": "stdout",
     "output_type": "stream",
     "text": [
      "Downloading https://croptalk-spoi.s3.amazonaws.com/SPOI/18_053_90_0016_20101130.pdf to /Users/katerina/Documents/CropGuard/Dec_demo/demo_knowledge/18_053_90_0016_20101130.pdf\n"
     ]
    },
    {
     "name": "stderr",
     "output_type": "stream",
     "text": [
      "100 34504  100 34504    0     0  41081      0 --:--:-- --:--:-- --:--:-- 41223\n",
      "  % Total    % Received % Xferd  Average Speed   Time    Time     Time  Current\n",
      "                                 Dload  Upload   Total   Spent    Left  Speed\n",
      "  0     0    0     0    0     0      0      0 --:--:-- --:--:-- --:--:--     0"
     ]
    },
    {
     "name": "stdout",
     "output_type": "stream",
     "text": [
      "Downloading https://croptalk-spoi.s3.amazonaws.com/SPOI/18_003_90_0016_20101130.pdf to /Users/katerina/Documents/CropGuard/Dec_demo/demo_knowledge/18_003_90_0016_20101130.pdf\n"
     ]
    },
    {
     "name": "stderr",
     "output_type": "stream",
     "text": [
      "100 34820  100 34820    0     0  53999      0 --:--:-- --:--:-- --:--:-- 54152\n",
      "  % Total    % Received % Xferd  Average Speed   Time    Time     Time  Current\n",
      "                                 Dload  Upload   Total   Spent    Left  Speed\n",
      "  0     0    0     0    0     0      0      0 --:--:-- --:--:-- --:--:--     0"
     ]
    },
    {
     "name": "stdout",
     "output_type": "stream",
     "text": [
      "Downloading https://croptalk-spoi.s3.amazonaws.com/SPOI/39_161_90_0016_20101130.pdf to /Users/katerina/Documents/CropGuard/Dec_demo/demo_knowledge/39_161_90_0016_20101130.pdf\n"
     ]
    },
    {
     "name": "stderr",
     "output_type": "stream",
     "text": [
      "100 34516  100 34516    0     0  80069      0 --:--:-- --:--:-- --:--:-- 80833\n",
      "  % Total    % Received % Xferd  Average Speed   Time    Time     Time  Current\n",
      "                                 Dload  Upload   Total   Spent    Left  Speed\n",
      "  0     0    0     0    0     0      0      0 --:--:-- --:--:-- --:--:--     0"
     ]
    },
    {
     "name": "stdout",
     "output_type": "stream",
     "text": [
      "Downloading https://croptalk-spoi.s3.amazonaws.com/SPOI/39_109_90_0016_20101130.pdf to /Users/katerina/Documents/CropGuard/Dec_demo/demo_knowledge/39_109_90_0016_20101130.pdf\n"
     ]
    },
    {
     "name": "stderr",
     "output_type": "stream",
     "text": [
      "100 34810  100 34810    0     0   105k      0 --:--:-- --:--:-- --:--:--  106k\n",
      "  % Total    % Received % Xferd  Average Speed   Time    Time     Time  Current\n",
      "                                 Dload  Upload   Total   Spent    Left  Speed\n",
      "  0     0    0     0    0     0      0      0 --:--:-- --:--:-- --:--:--     0"
     ]
    },
    {
     "name": "stdout",
     "output_type": "stream",
     "text": [
      "Downloading https://croptalk-spoi.s3.amazonaws.com/SPOI/39_153_90_0016_20101130.pdf to /Users/katerina/Documents/CropGuard/Dec_demo/demo_knowledge/39_153_90_0016_20101130.pdf\n"
     ]
    },
    {
     "name": "stderr",
     "output_type": "stream",
     "text": [
      "100 34508  100 34508    0     0   102k      0 --:--:-- --:--:-- --:--:--  103k\n",
      "  % Total    % Received % Xferd  Average Speed   Time    Time     Time  Current\n",
      "                                 Dload  Upload   Total   Spent    Left  Speed\n",
      "  0     0    0     0    0     0      0      0 --:--:-- --:--:-- --:--:--     0"
     ]
    },
    {
     "name": "stdout",
     "output_type": "stream",
     "text": [
      "Downloading https://croptalk-spoi.s3.amazonaws.com/SPOI/39_043_90_0016_20101130.pdf to /Users/katerina/Documents/CropGuard/Dec_demo/demo_knowledge/39_043_90_0016_20101130.pdf\n"
     ]
    },
    {
     "name": "stderr",
     "output_type": "stream",
     "text": [
      "100 34478  100 34478    0     0    99k      0 --:--:-- --:--:-- --:--:--  100k\n",
      "  % Total    % Received % Xferd  Average Speed   Time    Time     Time  Current\n",
      "                                 Dload  Upload   Total   Spent    Left  Speed\n",
      "  0     0    0     0    0     0      0      0 --:--:-- --:--:-- --:--:--     0"
     ]
    },
    {
     "name": "stdout",
     "output_type": "stream",
     "text": [
      "Downloading https://croptalk-spoi.s3.amazonaws.com/SPOI/39_039_90_0016_20101130.pdf to /Users/katerina/Documents/CropGuard/Dec_demo/demo_knowledge/39_039_90_0016_20101130.pdf\n"
     ]
    },
    {
     "name": "stderr",
     "output_type": "stream",
     "text": [
      "100 34470  100 34470    0     0  83821      0 --:--:-- --:--:-- --:--:-- 84485\n",
      "  % Total    % Received % Xferd  Average Speed   Time    Time     Time  Current\n",
      "                                 Dload  Upload   Total   Spent    Left  Speed\n",
      "  0     0    0     0    0     0      0      0 --:--:-- --:--:-- --:--:--     0"
     ]
    },
    {
     "name": "stdout",
     "output_type": "stream",
     "text": [
      "Downloading https://croptalk-spoi.s3.amazonaws.com/SPOI/39_033_90_0016_20101130.pdf to /Users/katerina/Documents/CropGuard/Dec_demo/demo_knowledge/39_033_90_0016_20101130.pdf\n"
     ]
    },
    {
     "name": "stderr",
     "output_type": "stream",
     "text": [
      "100 34498  100 34498    0     0  83392      0 --:--:-- --:--:-- --:--:-- 84347\n",
      "  % Total    % Received % Xferd  Average Speed   Time    Time     Time  Current\n",
      "                                 Dload  Upload   Total   Spent    Left  Speed\n",
      "  0     0    0     0    0     0      0      0 --:--:-- --:--:-- --:--:--     0"
     ]
    },
    {
     "name": "stdout",
     "output_type": "stream",
     "text": [
      "Downloading https://croptalk-spoi.s3.amazonaws.com/SPOI/39_023_90_0016_20101130.pdf to /Users/katerina/Documents/CropGuard/Dec_demo/demo_knowledge/39_023_90_0016_20101130.pdf\n"
     ]
    },
    {
     "name": "stderr",
     "output_type": "stream",
     "text": [
      "100 34479  100 34479    0     0  84527      0 --:--:-- --:--:-- --:--:-- 85344\n",
      "  % Total    % Received % Xferd  Average Speed   Time    Time     Time  Current\n",
      "                                 Dload  Upload   Total   Spent    Left  Speed\n",
      "  0     0    0     0    0     0      0      0 --:--:-- --:--:-- --:--:--     0"
     ]
    },
    {
     "name": "stdout",
     "output_type": "stream",
     "text": [
      "Downloading https://croptalk-spoi.s3.amazonaws.com/SPOI/26_115_90_0039_20101130.pdf to /Users/katerina/Documents/CropGuard/Dec_demo/demo_knowledge/26_115_90_0039_20101130.pdf\n"
     ]
    },
    {
     "name": "stderr",
     "output_type": "stream",
     "text": [
      "100  3747  100  3747    0     0  12062      0 --:--:-- --:--:-- --:--:-- 12245\n",
      "  % Total    % Received % Xferd  Average Speed   Time    Time     Time  Current\n",
      "                                 Dload  Upload   Total   Spent    Left  Speed\n",
      "  0     0    0     0    0     0      0      0 --:--:-- --:--:-- --:--:--     0"
     ]
    },
    {
     "name": "stdout",
     "output_type": "stream",
     "text": [
      "Downloading https://croptalk-spoi.s3.amazonaws.com/SPOI/26_091_90_0039_20101130.pdf to /Users/katerina/Documents/CropGuard/Dec_demo/demo_knowledge/26_091_90_0039_20101130.pdf\n"
     ]
    },
    {
     "name": "stderr",
     "output_type": "stream",
     "text": [
      "100  3750  100  3750    0     0  12604      0 --:--:-- --:--:-- --:--:-- 12755\n",
      "  % Total    % Received % Xferd  Average Speed   Time    Time     Time  Current\n",
      "                                 Dload  Upload   Total   Spent    Left  Speed\n",
      "  0     0    0     0    0     0      0      0 --:--:-- --:--:-- --:--:--     0"
     ]
    },
    {
     "name": "stdout",
     "output_type": "stream",
     "text": [
      "Downloading https://croptalk-spoi.s3.amazonaws.com/SPOI/17_007_90_0042_20101130.pdf to /Users/katerina/Documents/CropGuard/Dec_demo/demo_knowledge/17_007_90_0042_20101130.pdf\n"
     ]
    },
    {
     "name": "stderr",
     "output_type": "stream",
     "text": [
      "100  3708  100  3708    0     0  13066      0 --:--:-- --:--:-- --:--:-- 13148\n",
      "  % Total    % Received % Xferd  Average Speed   Time    Time     Time  Current\n",
      "                                 Dload  Upload   Total   Spent    Left  Speed\n",
      "  0     0    0     0    0     0      0      0 --:--:-- --:--:-- --:--:--     0"
     ]
    },
    {
     "name": "stdout",
     "output_type": "stream",
     "text": [
      "Downloading https://croptalk-spoi.s3.amazonaws.com/SPOI/53_043_90_0039_20101130.pdf to /Users/katerina/Documents/CropGuard/Dec_demo/demo_knowledge/53_043_90_0039_20101130.pdf\n"
     ]
    },
    {
     "name": "stderr",
     "output_type": "stream",
     "text": [
      "100  4115  100  4115    0     0  13708      0 --:--:-- --:--:-- --:--:-- 13855\n",
      "  % Total    % Received % Xferd  Average Speed   Time    Time     Time  Current\n",
      "                                 Dload  Upload   Total   Spent    Left  Speed\n",
      "  0     0    0     0    0     0      0      0 --:--:-- --:--:-- --:--:--     0"
     ]
    },
    {
     "name": "stdout",
     "output_type": "stream",
     "text": [
      "Downloading https://croptalk-spoi.s3.amazonaws.com/SPOI/53_025_90_0039_20101130.pdf to /Users/katerina/Documents/CropGuard/Dec_demo/demo_knowledge/53_025_90_0039_20101130.pdf\n"
     ]
    },
    {
     "name": "stderr",
     "output_type": "stream",
     "text": [
      "100  4111  100  4111    0     0  14521      0 --:--:-- --:--:-- --:--:-- 14682\n",
      "  % Total    % Received % Xferd  Average Speed   Time    Time     Time  Current\n",
      "                                 Dload  Upload   Total   Spent    Left  Speed\n",
      "  0     0    0     0    0     0      0      0 --:--:-- --:--:-- --:--:--     0"
     ]
    },
    {
     "name": "stdout",
     "output_type": "stream",
     "text": [
      "Downloading https://croptalk-spoi.s3.amazonaws.com/SPOI/53_021_90_0039_20101130.pdf to /Users/katerina/Documents/CropGuard/Dec_demo/demo_knowledge/53_021_90_0039_20101130.pdf\n"
     ]
    },
    {
     "name": "stderr",
     "output_type": "stream",
     "text": [
      "100  4115  100  4115    0     0  12809      0 --:--:-- --:--:-- --:--:-- 12981\n",
      "  % Total    % Received % Xferd  Average Speed   Time    Time     Time  Current\n",
      "                                 Dload  Upload   Total   Spent    Left  Speed\n",
      "  0     0    0     0    0     0      0      0 --:--:-- --:--:-- --:--:--     0"
     ]
    },
    {
     "name": "stdout",
     "output_type": "stream",
     "text": [
      "Downloading https://croptalk-spoi.s3.amazonaws.com/SPOI/53_001_90_0039_20101130.pdf to /Users/katerina/Documents/CropGuard/Dec_demo/demo_knowledge/53_001_90_0039_20101130.pdf\n"
     ]
    },
    {
     "name": "stderr",
     "output_type": "stream",
     "text": [
      "100  4112  100  4112    0     0  11883      0 --:--:-- --:--:-- --:--:-- 12058\n",
      "  % Total    % Received % Xferd  Average Speed   Time    Time     Time  Current\n",
      "                                 Dload  Upload   Total   Spent    Left  Speed\n",
      "  0     0    0     0    0     0      0      0 --:--:-- --:--:-- --:--:--     0"
     ]
    },
    {
     "name": "stdout",
     "output_type": "stream",
     "text": [
      "Downloading https://croptalk-spoi.s3.amazonaws.com/SPOI/39_173_90_0039_20101130.pdf to /Users/katerina/Documents/CropGuard/Dec_demo/demo_knowledge/39_173_90_0039_20101130.pdf\n"
     ]
    },
    {
     "name": "stderr",
     "output_type": "stream",
     "text": [
      "100  3706  100  3706    0     0   9891      0 --:--:-- --:--:-- --:--:-- 10016\n",
      "  % Total    % Received % Xferd  Average Speed   Time    Time     Time  Current\n",
      "                                 Dload  Upload   Total   Spent    Left  Speed\n",
      "  0     0    0     0    0     0      0      0 --:--:-- --:--:-- --:--:--     0"
     ]
    },
    {
     "name": "stdout",
     "output_type": "stream",
     "text": [
      "Downloading https://croptalk-spoi.s3.amazonaws.com/SPOI/39_147_90_0039_20101130.pdf to /Users/katerina/Documents/CropGuard/Dec_demo/demo_knowledge/39_147_90_0039_20101130.pdf\n"
     ]
    },
    {
     "name": "stderr",
     "output_type": "stream",
     "text": [
      "100  3575  100  3575    0     0   9922      0 --:--:-- --:--:-- --:--:--  9986\n",
      "  % Total    % Received % Xferd  Average Speed   Time    Time     Time  Current\n",
      "                                 Dload  Upload   Total   Spent    Left  Speed\n",
      "  0     0    0     0    0     0      0      0 --:--:-- --:--:-- --:--:--     0"
     ]
    },
    {
     "name": "stdout",
     "output_type": "stream",
     "text": [
      "Downloading https://croptalk-spoi.s3.amazonaws.com/SPOI/39_143_90_0039_20101130.pdf to /Users/katerina/Documents/CropGuard/Dec_demo/demo_knowledge/39_143_90_0039_20101130.pdf\n"
     ]
    },
    {
     "name": "stderr",
     "output_type": "stream",
     "text": [
      "100  3709  100  3709    0     0  12793      0 --:--:-- --:--:-- --:--:-- 12968\n",
      "  % Total    % Received % Xferd  Average Speed   Time    Time     Time  Current\n",
      "                                 Dload  Upload   Total   Spent    Left  Speed\n",
      "  0     0    0     0    0     0      0      0 --:--:-- --:--:-- --:--:--     0"
     ]
    },
    {
     "name": "stdout",
     "output_type": "stream",
     "text": [
      "Downloading https://croptalk-spoi.s3.amazonaws.com/SPOI/39_095_90_0039_20101130.pdf to /Users/katerina/Documents/CropGuard/Dec_demo/demo_knowledge/39_095_90_0039_20101130.pdf\n"
     ]
    },
    {
     "name": "stderr",
     "output_type": "stream",
     "text": [
      "100  3709  100  3709    0     0  12044      0 --:--:-- --:--:-- --:--:-- 12240\n",
      "  % Total    % Received % Xferd  Average Speed   Time    Time     Time  Current\n",
      "                                 Dload  Upload   Total   Spent    Left  Speed\n",
      "  0     0    0     0    0     0      0      0 --:--:-- --:--:-- --:--:--     0"
     ]
    },
    {
     "name": "stdout",
     "output_type": "stream",
     "text": [
      "Downloading https://croptalk-spoi.s3.amazonaws.com/SPOI/39_043_90_0039_20101130.pdf to /Users/katerina/Documents/CropGuard/Dec_demo/demo_knowledge/39_043_90_0039_20101130.pdf\n"
     ]
    },
    {
     "name": "stderr",
     "output_type": "stream",
     "text": [
      "100  3572  100  3572    0     0  11904      0 --:--:-- --:--:-- --:--:-- 12026\n",
      "  % Total    % Received % Xferd  Average Speed   Time    Time     Time  Current\n",
      "                                 Dload  Upload   Total   Spent    Left  Speed\n",
      "  0     0    0     0    0     0      0      0 --:--:-- --:--:-- --:--:--     0"
     ]
    },
    {
     "name": "stdout",
     "output_type": "stream",
     "text": [
      "Downloading https://croptalk-spoi.s3.amazonaws.com/SPOI/06_065_90_0022_20101130.pdf to /Users/katerina/Documents/CropGuard/Dec_demo/demo_knowledge/06_065_90_0022_20101130.pdf\n"
     ]
    },
    {
     "name": "stderr",
     "output_type": "stream",
     "text": [
      "100  3969  100  3969    0     0  10690      0 --:--:-- --:--:-- --:--:-- 10814\n",
      "  % Total    % Received % Xferd  Average Speed   Time    Time     Time  Current\n",
      "                                 Dload  Upload   Total   Spent    Left  Speed\n",
      "  0     0    0     0    0     0      0      0 --:--:-- --:--:-- --:--:--     0"
     ]
    },
    {
     "name": "stdout",
     "output_type": "stream",
     "text": [
      "Downloading https://croptalk-spoi.s3.amazonaws.com/SPOI/27_023_90_0031_20101130.pdf to /Users/katerina/Documents/CropGuard/Dec_demo/demo_knowledge/27_023_90_0031_20101130.pdf\n"
     ]
    },
    {
     "name": "stderr",
     "output_type": "stream",
     "text": [
      "100 31798  100 31798    0     0  87182      0 --:--:-- --:--:-- --:--:-- 88327\n",
      "  % Total    % Received % Xferd  Average Speed   Time    Time     Time  Current\n",
      "                                 Dload  Upload   Total   Spent    Left  Speed\n",
      "  0     0    0     0    0     0      0      0 --:--:-- --:--:-- --:--:--     0"
     ]
    },
    {
     "name": "stdout",
     "output_type": "stream",
     "text": [
      "Downloading https://croptalk-spoi.s3.amazonaws.com/SPOI/39_147_90_0043_20101130.pdf to /Users/katerina/Documents/CropGuard/Dec_demo/demo_knowledge/39_147_90_0043_20101130.pdf\n"
     ]
    },
    {
     "name": "stderr",
     "output_type": "stream",
     "text": [
      "100  3912  100  3912    0     0  13291      0 --:--:-- --:--:-- --:--:-- 13443\n",
      "  % Total    % Received % Xferd  Average Speed   Time    Time     Time  Current\n",
      "                                 Dload  Upload   Total   Spent    Left  Speed\n",
      "  0     0    0     0    0     0      0      0 --:--:-- --:--:-- --:--:--     0"
     ]
    },
    {
     "name": "stdout",
     "output_type": "stream",
     "text": [
      "Downloading https://croptalk-spoi.s3.amazonaws.com/SPOI/39_143_90_0043_20101130.pdf to /Users/katerina/Documents/CropGuard/Dec_demo/demo_knowledge/39_143_90_0043_20101130.pdf\n"
     ]
    },
    {
     "name": "stderr",
     "output_type": "stream",
     "text": [
      "100  4050  100  4050    0     0  14617      0 --:--:-- --:--:-- --:--:-- 14835\n",
      "  % Total    % Received % Xferd  Average Speed   Time    Time     Time  Current\n",
      "                                 Dload  Upload   Total   Spent    Left  Speed\n",
      "  0     0    0     0    0     0      0      0 --:--:-- --:--:-- --:--:--     0"
     ]
    },
    {
     "name": "stdout",
     "output_type": "stream",
     "text": [
      "Downloading https://croptalk-spoi.s3.amazonaws.com/SPOI/39_137_90_0043_20101130.pdf to /Users/katerina/Documents/CropGuard/Dec_demo/demo_knowledge/39_137_90_0043_20101130.pdf\n"
     ]
    },
    {
     "name": "stderr",
     "output_type": "stream",
     "text": [
      "100  3912  100  3912    0     0  12040      0 --:--:-- --:--:-- --:--:-- 12149\n",
      "  % Total    % Received % Xferd  Average Speed   Time    Time     Time  Current\n",
      "                                 Dload  Upload   Total   Spent    Left  Speed\n",
      "  0     0    0     0    0     0      0      0 --:--:-- --:--:-- --:--:--     0"
     ]
    },
    {
     "name": "stdout",
     "output_type": "stream",
     "text": [
      "Downloading https://croptalk-spoi.s3.amazonaws.com/SPOI/39_133_90_0043_20101130.pdf to /Users/katerina/Documents/CropGuard/Dec_demo/demo_knowledge/39_133_90_0043_20101130.pdf\n"
     ]
    },
    {
     "name": "stderr",
     "output_type": "stream",
     "text": [
      "100  3909  100  3909    0     0  13669      0 --:--:-- --:--:-- --:--:-- 13764\n",
      "  % Total    % Received % Xferd  Average Speed   Time    Time     Time  Current\n",
      "                                 Dload  Upload   Total   Spent    Left  Speed\n",
      "  0     0    0     0    0     0      0      0 --:--:-- --:--:-- --:--:--     0"
     ]
    },
    {
     "name": "stdout",
     "output_type": "stream",
     "text": [
      "Downloading https://croptalk-spoi.s3.amazonaws.com/SPOI/39_129_90_0043_20101130.pdf to /Users/katerina/Documents/CropGuard/Dec_demo/demo_knowledge/39_129_90_0043_20101130.pdf\n"
     ]
    },
    {
     "name": "stderr",
     "output_type": "stream",
     "text": [
      "100  4052  100  4052    0     0  12015      0 --:--:-- --:--:-- --:--:-- 12131\n",
      "  % Total    % Received % Xferd  Average Speed   Time    Time     Time  Current\n",
      "                                 Dload  Upload   Total   Spent    Left  Speed\n",
      "  0     0    0     0    0     0      0      0 --:--:-- --:--:-- --:--:--     0"
     ]
    },
    {
     "name": "stdout",
     "output_type": "stream",
     "text": [
      "Downloading https://croptalk-spoi.s3.amazonaws.com/SPOI/39_125_90_0043_20101130.pdf to /Users/katerina/Documents/CropGuard/Dec_demo/demo_knowledge/39_125_90_0043_20101130.pdf\n"
     ]
    },
    {
     "name": "stderr",
     "output_type": "stream",
     "text": [
      "100  3914  100  3914    0     0  14127      0 --:--:-- --:--:-- --:--:-- 14284\n",
      "  % Total    % Received % Xferd  Average Speed   Time    Time     Time  Current\n",
      "                                 Dload  Upload   Total   Spent    Left  Speed\n",
      "  0     0    0     0    0     0      0      0 --:--:-- --:--:-- --:--:--     0"
     ]
    },
    {
     "name": "stdout",
     "output_type": "stream",
     "text": [
      "Downloading https://croptalk-spoi.s3.amazonaws.com/SPOI/39_123_90_0043_20101130.pdf to /Users/katerina/Documents/CropGuard/Dec_demo/demo_knowledge/39_123_90_0043_20101130.pdf\n"
     ]
    },
    {
     "name": "stderr",
     "output_type": "stream",
     "text": [
      "100  3913  100  3913    0     0  11407      0 --:--:-- --:--:-- --:--:-- 11508\n",
      "  % Total    % Received % Xferd  Average Speed   Time    Time     Time  Current\n",
      "                                 Dload  Upload   Total   Spent    Left  Speed\n",
      "  0     0    0     0    0     0      0      0 --:--:-- --:--:-- --:--:--     0"
     ]
    },
    {
     "name": "stdout",
     "output_type": "stream",
     "text": [
      "Downloading https://croptalk-spoi.s3.amazonaws.com/SPOI/39_117_90_0043_20101130.pdf to /Users/katerina/Documents/CropGuard/Dec_demo/demo_knowledge/39_117_90_0043_20101130.pdf\n"
     ]
    },
    {
     "name": "stderr",
     "output_type": "stream",
     "text": [
      "100  4051  100  4051    0     0  11697      0 --:--:-- --:--:-- --:--:-- 11845\n",
      "  % Total    % Received % Xferd  Average Speed   Time    Time     Time  Current\n",
      "                                 Dload  Upload   Total   Spent    Left  Speed\n",
      "  0     0    0     0    0     0      0      0 --:--:-- --:--:-- --:--:--     0"
     ]
    },
    {
     "name": "stdout",
     "output_type": "stream",
     "text": [
      "Downloading https://croptalk-spoi.s3.amazonaws.com/SPOI/39_107_90_0043_20101130.pdf to /Users/katerina/Documents/CropGuard/Dec_demo/demo_knowledge/39_107_90_0043_20101130.pdf\n"
     ]
    },
    {
     "name": "stderr",
     "output_type": "stream",
     "text": [
      "100  3912  100  3912    0     0  11012      0 --:--:-- --:--:-- --:--:-- 11113\n",
      "  % Total    % Received % Xferd  Average Speed   Time    Time     Time  Current\n",
      "                                 Dload  Upload   Total   Spent    Left  Speed\n",
      "  0     0    0     0    0     0      0      0 --:--:-- --:--:-- --:--:--     0"
     ]
    },
    {
     "name": "stdout",
     "output_type": "stream",
     "text": [
      "Downloading https://croptalk-spoi.s3.amazonaws.com/SPOI/39_101_90_0043_20101130.pdf to /Users/katerina/Documents/CropGuard/Dec_demo/demo_knowledge/39_101_90_0043_20101130.pdf\n"
     ]
    },
    {
     "name": "stderr",
     "output_type": "stream",
     "text": [
      "100  4050  100  4050    0     0  12945      0 --:--:-- --:--:-- --:--:-- 13149\n",
      "  % Total    % Received % Xferd  Average Speed   Time    Time     Time  Current\n",
      "                                 Dload  Upload   Total   Spent    Left  Speed\n",
      "  0     0    0     0    0     0      0      0 --:--:-- --:--:-- --:--:--     0"
     ]
    },
    {
     "name": "stdout",
     "output_type": "stream",
     "text": [
      "Downloading https://croptalk-spoi.s3.amazonaws.com/SPOI/39_097_90_0043_20101130.pdf to /Users/katerina/Documents/CropGuard/Dec_demo/demo_knowledge/39_097_90_0043_20101130.pdf\n"
     ]
    },
    {
     "name": "stderr",
     "output_type": "stream",
     "text": [
      "100  3914  100  3914    0     0  13731      0 --:--:-- --:--:-- --:--:-- 14028\n",
      "  % Total    % Received % Xferd  Average Speed   Time    Time     Time  Current\n",
      "                                 Dload  Upload   Total   Spent    Left  Speed\n",
      "  0     0    0     0    0     0      0      0 --:--:-- --:--:-- --:--:--     0"
     ]
    },
    {
     "name": "stdout",
     "output_type": "stream",
     "text": [
      "Downloading https://croptalk-spoi.s3.amazonaws.com/SPOI/39_089_90_0043_20101130.pdf to /Users/katerina/Documents/CropGuard/Dec_demo/demo_knowledge/39_089_90_0043_20101130.pdf\n"
     ]
    },
    {
     "name": "stderr",
     "output_type": "stream",
     "text": [
      "100  3911  100  3911    0     0   8229      0 --:--:-- --:--:-- --:--:--  8303\n",
      "  % Total    % Received % Xferd  Average Speed   Time    Time     Time  Current\n",
      "                                 Dload  Upload   Total   Spent    Left  Speed\n",
      "  0     0    0     0    0     0      0      0 --:--:-- --:--:-- --:--:--     0"
     ]
    },
    {
     "name": "stdout",
     "output_type": "stream",
     "text": [
      "Downloading https://croptalk-spoi.s3.amazonaws.com/SPOI/39_083_90_0043_20101130.pdf to /Users/katerina/Documents/CropGuard/Dec_demo/demo_knowledge/39_083_90_0043_20101130.pdf\n"
     ]
    },
    {
     "name": "stderr",
     "output_type": "stream",
     "text": [
      "100  3909  100  3909    0     0   4834      0 --:--:-- --:--:-- --:--:--  4867\n",
      "  % Total    % Received % Xferd  Average Speed   Time    Time     Time  Current\n",
      "                                 Dload  Upload   Total   Spent    Left  Speed\n",
      "  0     0    0     0    0     0      0      0 --:--:-- --:--:-- --:--:--     0"
     ]
    },
    {
     "name": "stdout",
     "output_type": "stream",
     "text": [
      "Downloading https://croptalk-spoi.s3.amazonaws.com/SPOI/39_077_90_0043_20101130.pdf to /Users/katerina/Documents/CropGuard/Dec_demo/demo_knowledge/39_077_90_0043_20101130.pdf\n"
     ]
    },
    {
     "name": "stderr",
     "output_type": "stream",
     "text": [
      "100  3912  100  3912    0     0   5984      0 --:--:-- --:--:-- --:--:--  6018\n",
      "  % Total    % Received % Xferd  Average Speed   Time    Time     Time  Current\n",
      "                                 Dload  Upload   Total   Spent    Left  Speed\n",
      "  0     0    0     0    0     0      0      0 --:--:-- --:--:-- --:--:--     0"
     ]
    },
    {
     "name": "stdout",
     "output_type": "stream",
     "text": [
      "Downloading https://croptalk-spoi.s3.amazonaws.com/SPOI/39_069_90_0043_20101130.pdf to /Users/katerina/Documents/CropGuard/Dec_demo/demo_knowledge/39_069_90_0043_20101130.pdf\n"
     ]
    },
    {
     "name": "stderr",
     "output_type": "stream",
     "text": [
      "100  3911  100  3911    0     0   5291      0 --:--:-- --:--:-- --:--:--  5306\n",
      "  % Total    % Received % Xferd  Average Speed   Time    Time     Time  Current\n",
      "                                 Dload  Upload   Total   Spent    Left  Speed\n",
      "  0     0    0     0    0     0      0      0 --:--:-- --:--:-- --:--:--     0"
     ]
    },
    {
     "name": "stdout",
     "output_type": "stream",
     "text": [
      "Downloading https://croptalk-spoi.s3.amazonaws.com/SPOI/39_065_90_0043_20101130.pdf to /Users/katerina/Documents/CropGuard/Dec_demo/demo_knowledge/39_065_90_0043_20101130.pdf\n"
     ]
    },
    {
     "name": "stderr",
     "output_type": "stream",
     "text": [
      "100  3912  100  3912    0     0   5188      0 --:--:-- --:--:-- --:--:--  5209\n",
      "  % Total    % Received % Xferd  Average Speed   Time    Time     Time  Current\n",
      "                                 Dload  Upload   Total   Spent    Left  Speed\n",
      "  0     0    0     0    0     0      0      0 --:--:-- --:--:-- --:--:--     0"
     ]
    },
    {
     "name": "stdout",
     "output_type": "stream",
     "text": [
      "Downloading https://croptalk-spoi.s3.amazonaws.com/SPOI/39_063_90_0043_20101130.pdf to /Users/katerina/Documents/CropGuard/Dec_demo/demo_knowledge/39_063_90_0043_20101130.pdf\n"
     ]
    },
    {
     "name": "stderr",
     "output_type": "stream",
     "text": [
      "100  3915  100  3915    0     0   7835      0 --:--:-- --:--:-- --:--:--  7925\n",
      "  % Total    % Received % Xferd  Average Speed   Time    Time     Time  Current\n",
      "                                 Dload  Upload   Total   Spent    Left  Speed\n",
      "  0     0    0     0    0     0      0      0 --:--:-- --:--:-- --:--:--     0"
     ]
    },
    {
     "name": "stdout",
     "output_type": "stream",
     "text": [
      "Downloading https://croptalk-spoi.s3.amazonaws.com/SPOI/39_043_90_0043_20101130.pdf to /Users/katerina/Documents/CropGuard/Dec_demo/demo_knowledge/39_043_90_0043_20101130.pdf\n"
     ]
    },
    {
     "name": "stderr",
     "output_type": "stream",
     "text": [
      "100  3908  100  3908    0     0  13932      0 --:--:-- --:--:-- --:--:-- 14159\n",
      "  % Total    % Received % Xferd  Average Speed   Time    Time     Time  Current\n",
      "                                 Dload  Upload   Total   Spent    Left  Speed\n",
      "  0     0    0     0    0     0      0      0 --:--:-- --:--:-- --:--:--     0"
     ]
    },
    {
     "name": "stdout",
     "output_type": "stream",
     "text": [
      "Downloading https://croptalk-spoi.s3.amazonaws.com/SPOI/39_041_90_0043_20101130.pdf to /Users/katerina/Documents/CropGuard/Dec_demo/demo_knowledge/39_041_90_0043_20101130.pdf\n"
     ]
    },
    {
     "name": "stderr",
     "output_type": "stream",
     "text": [
      "100  4050  100  4050    0     0  11841      0 --:--:-- --:--:-- --:--:-- 11982\n",
      "  % Total    % Received % Xferd  Average Speed   Time    Time     Time  Current\n",
      "                                 Dload  Upload   Total   Spent    Left  Speed\n",
      "  0     0    0     0    0     0      0      0 --:--:-- --:--:-- --:--:--     0"
     ]
    },
    {
     "name": "stdout",
     "output_type": "stream",
     "text": [
      "Downloading https://croptalk-spoi.s3.amazonaws.com/SPOI/39_033_90_0043_20101130.pdf to /Users/katerina/Documents/CropGuard/Dec_demo/demo_knowledge/39_033_90_0043_20101130.pdf\n"
     ]
    },
    {
     "name": "stderr",
     "output_type": "stream",
     "text": [
      "100  3911  100  3911    0     0  13625      0 --:--:-- --:--:-- --:--:-- 13819\n",
      "  % Total    % Received % Xferd  Average Speed   Time    Time     Time  Current\n",
      "                                 Dload  Upload   Total   Spent    Left  Speed\n",
      "  0     0    0     0    0     0      0      0 --:--:-- --:--:-- --:--:--     0"
     ]
    },
    {
     "name": "stdout",
     "output_type": "stream",
     "text": [
      "Downloading https://croptalk-spoi.s3.amazonaws.com/SPOI/39_021_90_0043_20101130.pdf to /Users/katerina/Documents/CropGuard/Dec_demo/demo_knowledge/39_021_90_0043_20101130.pdf\n"
     ]
    },
    {
     "name": "stderr",
     "output_type": "stream",
     "text": [
      "100  3911  100  3911    0     0  13428      0 --:--:-- --:--:-- --:--:-- 13627\n",
      "  % Total    % Received % Xferd  Average Speed   Time    Time     Time  Current\n",
      "                                 Dload  Upload   Total   Spent    Left  Speed\n",
      "  0     0    0     0    0     0      0      0 --:--:-- --:--:-- --:--:--     0"
     ]
    },
    {
     "name": "stdout",
     "output_type": "stream",
     "text": [
      "Downloading https://croptalk-spoi.s3.amazonaws.com/SPOI/39_003_90_0043_20101130.pdf to /Users/katerina/Documents/CropGuard/Dec_demo/demo_knowledge/39_003_90_0043_20101130.pdf\n"
     ]
    },
    {
     "name": "stderr",
     "output_type": "stream",
     "text": [
      "100  3906  100  3906    0     0  13813      0 --:--:-- --:--:-- --:--:-- 14050\n",
      "  % Total    % Received % Xferd  Average Speed   Time    Time     Time  Current\n",
      "                                 Dload  Upload   Total   Spent    Left  Speed\n",
      "  0     0    0     0    0     0      0      0 --:--:-- --:--:-- --:--:--     0"
     ]
    },
    {
     "name": "stdout",
     "output_type": "stream",
     "text": [
      "Downloading https://croptalk-spoi.s3.amazonaws.com/SPOI/31_185_90_0043_20101130.pdf to /Users/katerina/Documents/CropGuard/Dec_demo/demo_knowledge/31_185_90_0043_20101130.pdf\n"
     ]
    },
    {
     "name": "stderr",
     "output_type": "stream",
     "text": [
      "100  3326  100  3326    0     0  12016      0 --:--:-- --:--:-- --:--:-- 12273\n",
      "  % Total    % Received % Xferd  Average Speed   Time    Time     Time  Current\n",
      "                                 Dload  Upload   Total   Spent    Left  Speed\n",
      "  0     0    0     0    0     0      0      0 --:--:-- --:--:-- --:--:--     0"
     ]
    },
    {
     "name": "stdout",
     "output_type": "stream",
     "text": [
      "Downloading https://croptalk-spoi.s3.amazonaws.com/SPOI/31_183_90_0043_20101130.pdf to /Users/katerina/Documents/CropGuard/Dec_demo/demo_knowledge/31_183_90_0043_20101130.pdf\n"
     ]
    },
    {
     "name": "stderr",
     "output_type": "stream",
     "text": [
      "100  3462  100  3462    0     0  12433      0 --:--:-- --:--:-- --:--:-- 12635\n",
      "  % Total    % Received % Xferd  Average Speed   Time    Time     Time  Current\n",
      "                                 Dload  Upload   Total   Spent    Left  Speed\n",
      "  0     0    0     0    0     0      0      0 --:--:-- --:--:-- --:--:--     0"
     ]
    },
    {
     "name": "stdout",
     "output_type": "stream",
     "text": [
      "Downloading https://croptalk-spoi.s3.amazonaws.com/SPOI/31_181_90_0043_20101130.pdf to /Users/katerina/Documents/CropGuard/Dec_demo/demo_knowledge/31_181_90_0043_20101130.pdf\n"
     ]
    },
    {
     "name": "stderr",
     "output_type": "stream",
     "text": [
      "100  3864  100  3864    0     0  12470      0 --:--:-- --:--:-- --:--:-- 12627\n",
      "  % Total    % Received % Xferd  Average Speed   Time    Time     Time  Current\n",
      "                                 Dload  Upload   Total   Spent    Left  Speed\n",
      "  0     0    0     0    0     0      0      0 --:--:-- --:--:-- --:--:--     0"
     ]
    },
    {
     "name": "stdout",
     "output_type": "stream",
     "text": [
      "Downloading https://croptalk-spoi.s3.amazonaws.com/SPOI/31_175_90_0043_20101130.pdf to /Users/katerina/Documents/CropGuard/Dec_demo/demo_knowledge/31_175_90_0043_20101130.pdf\n"
     ]
    },
    {
     "name": "stderr",
     "output_type": "stream",
     "text": [
      "100  3328  100  3328    0     0  13378      0 --:--:-- --:--:-- --:--:-- 13583\n",
      "  % Total    % Received % Xferd  Average Speed   Time    Time     Time  Current\n",
      "                                 Dload  Upload   Total   Spent    Left  Speed\n",
      "  0     0    0     0    0     0      0      0 --:--:-- --:--:-- --:--:--     0"
     ]
    },
    {
     "name": "stdout",
     "output_type": "stream",
     "text": [
      "Downloading https://croptalk-spoi.s3.amazonaws.com/SPOI/31_173_90_0043_20101130.pdf to /Users/katerina/Documents/CropGuard/Dec_demo/demo_knowledge/31_173_90_0043_20101130.pdf\n"
     ]
    },
    {
     "name": "stderr",
     "output_type": "stream",
     "text": [
      "100  3869  100  3869    0     0  13384      0 --:--:-- --:--:-- --:--:-- 13480\n",
      "  % Total    % Received % Xferd  Average Speed   Time    Time     Time  Current\n",
      "                                 Dload  Upload   Total   Spent    Left  Speed\n",
      "  0     0    0     0    0     0      0      0 --:--:-- --:--:-- --:--:--     0"
     ]
    },
    {
     "name": "stdout",
     "output_type": "stream",
     "text": [
      "Downloading https://croptalk-spoi.s3.amazonaws.com/SPOI/39_161_90_0043_20101130.pdf to /Users/katerina/Documents/CropGuard/Dec_demo/demo_knowledge/39_161_90_0043_20101130.pdf\n"
     ]
    },
    {
     "name": "stderr",
     "output_type": "stream",
     "text": [
      "100  3911  100  3911    0     0  12380      0 --:--:-- --:--:-- --:--:-- 12495\n",
      "  % Total    % Received % Xferd  Average Speed   Time    Time     Time  Current\n",
      "                                 Dload  Upload   Total   Spent    Left  Speed\n",
      "  0     0    0     0    0     0      0      0 --:--:-- --:--:-- --:--:--     0"
     ]
    },
    {
     "name": "stdout",
     "output_type": "stream",
     "text": [
      "Downloading https://croptalk-spoi.s3.amazonaws.com/SPOI/39_173_90_0043_20101130.pdf to /Users/katerina/Documents/CropGuard/Dec_demo/demo_knowledge/39_173_90_0043_20101130.pdf\n"
     ]
    },
    {
     "name": "stderr",
     "output_type": "stream",
     "text": [
      "100  4049  100  4049    0     0  15003      0 --:--:-- --:--:-- --:--:-- 15221\n",
      "  % Total    % Received % Xferd  Average Speed   Time    Time     Time  Current\n",
      "                                 Dload  Upload   Total   Spent    Left  Speed\n",
      "  0     0    0     0    0     0      0      0 --:--:-- --:--:-- --:--:--     0"
     ]
    },
    {
     "name": "stdout",
     "output_type": "stream",
     "text": [
      "Downloading https://croptalk-spoi.s3.amazonaws.com/SPOI/39_175_90_0043_20101130.pdf to /Users/katerina/Documents/CropGuard/Dec_demo/demo_knowledge/39_175_90_0043_20101130.pdf\n"
     ]
    },
    {
     "name": "stderr",
     "output_type": "stream",
     "text": [
      "100  3913  100  3913    0     0  14183      0 --:--:-- --:--:-- --:--:-- 14386\n",
      "  % Total    % Received % Xferd  Average Speed   Time    Time     Time  Current\n",
      "                                 Dload  Upload   Total   Spent    Left  Speed\n",
      "  0     0    0     0    0     0      0      0 --:--:-- --:--:-- --:--:--     0"
     ]
    },
    {
     "name": "stdout",
     "output_type": "stream",
     "text": [
      "Downloading https://croptalk-spoi.s3.amazonaws.com/SPOI/46_065_90_0043_20101130.pdf to /Users/katerina/Documents/CropGuard/Dec_demo/demo_knowledge/46_065_90_0043_20101130.pdf\n"
     ]
    },
    {
     "name": "stderr",
     "output_type": "stream",
     "text": [
      "100  3325  100  3325    0     0  12181      0 --:--:-- --:--:-- --:--:-- 12453\n",
      "  % Total    % Received % Xferd  Average Speed   Time    Time     Time  Current\n",
      "                                 Dload  Upload   Total   Spent    Left  Speed\n",
      "  0     0    0     0    0     0      0      0 --:--:-- --:--:-- --:--:--     0"
     ]
    },
    {
     "name": "stdout",
     "output_type": "stream",
     "text": [
      "Downloading https://croptalk-spoi.s3.amazonaws.com/SPOI/31_169_90_0043_20101130.pdf to /Users/katerina/Documents/CropGuard/Dec_demo/demo_knowledge/31_169_90_0043_20101130.pdf\n"
     ]
    },
    {
     "name": "stderr",
     "output_type": "stream",
     "text": [
      "100  3324  100  3324    0     0  11917      0 --:--:-- --:--:-- --:--:-- 12087\n",
      "  % Total    % Received % Xferd  Average Speed   Time    Time     Time  Current\n",
      "                                 Dload  Upload   Total   Spent    Left  Speed\n",
      "  0     0    0     0    0     0      0      0 --:--:-- --:--:-- --:--:--     0"
     ]
    },
    {
     "name": "stdout",
     "output_type": "stream",
     "text": [
      "Downloading https://croptalk-spoi.s3.amazonaws.com/SPOI/16_041_90_0046_20101130.pdf to /Users/katerina/Documents/CropGuard/Dec_demo/demo_knowledge/16_041_90_0046_20101130.pdf\n"
     ]
    },
    {
     "name": "stderr",
     "output_type": "stream",
     "text": [
      "100  3373  100  3373    0     0  11941      0 --:--:-- --:--:-- --:--:-- 12133\n",
      "  % Total    % Received % Xferd  Average Speed   Time    Time     Time  Current\n",
      "                                 Dload  Upload   Total   Spent    Left  Speed\n",
      "  0     0    0     0    0     0      0      0 --:--:-- --:--:-- --:--:--     0"
     ]
    },
    {
     "name": "stdout",
     "output_type": "stream",
     "text": [
      "Downloading https://croptalk-spoi.s3.amazonaws.com/SPOI/16_027_90_0046_20101130.pdf to /Users/katerina/Documents/CropGuard/Dec_demo/demo_knowledge/16_027_90_0046_20101130.pdf\n"
     ]
    },
    {
     "name": "stderr",
     "output_type": "stream",
     "text": [
      "100  3368  100  3368    0     0  11920      0 --:--:-- --:--:-- --:--:-- 12202\n",
      "  % Total    % Received % Xferd  Average Speed   Time    Time     Time  Current\n",
      "                                 Dload  Upload   Total   Spent    Left  Speed\n",
      "  0     0    0     0    0     0      0      0 --:--:-- --:--:-- --:--:--     0"
     ]
    },
    {
     "name": "stdout",
     "output_type": "stream",
     "text": [
      "Downloading https://croptalk-spoi.s3.amazonaws.com/SPOI/46_127_90_0043_20101130.pdf to /Users/katerina/Documents/CropGuard/Dec_demo/demo_knowledge/46_127_90_0043_20101130.pdf\n"
     ]
    },
    {
     "name": "stderr",
     "output_type": "stream",
     "text": [
      "100  3556  100  3556    0     0  11414      0 --:--:-- --:--:-- --:--:-- 11659\n",
      "  % Total    % Received % Xferd  Average Speed   Time    Time     Time  Current\n",
      "                                 Dload  Upload   Total   Spent    Left  Speed\n",
      "  0     0    0     0    0     0      0      0 --:--:-- --:--:-- --:--:--     0"
     ]
    },
    {
     "name": "stdout",
     "output_type": "stream",
     "text": [
      "Downloading https://croptalk-spoi.s3.amazonaws.com/SPOI/46_119_90_0043_20101130.pdf to /Users/katerina/Documents/CropGuard/Dec_demo/demo_knowledge/46_119_90_0043_20101130.pdf\n"
     ]
    },
    {
     "name": "stderr",
     "output_type": "stream",
     "text": [
      "100  3322  100  3322    0     0  12345      0 --:--:-- --:--:-- --:--:-- 12631\n",
      "  % Total    % Received % Xferd  Average Speed   Time    Time     Time  Current\n",
      "                                 Dload  Upload   Total   Spent    Left  Speed\n",
      "  0     0    0     0    0     0      0      0 --:--:-- --:--:-- --:--:--     0"
     ]
    },
    {
     "name": "stdout",
     "output_type": "stream",
     "text": [
      "Downloading https://croptalk-spoi.s3.amazonaws.com/SPOI/46_117_90_0043_20101130.pdf to /Users/katerina/Documents/CropGuard/Dec_demo/demo_knowledge/46_117_90_0043_20101130.pdf\n"
     ]
    },
    {
     "name": "stderr",
     "output_type": "stream",
     "text": [
      "100  3323  100  3323    0     0   9502      0 --:--:-- --:--:-- --:--:--  9631\n",
      "  % Total    % Received % Xferd  Average Speed   Time    Time     Time  Current\n",
      "                                 Dload  Upload   Total   Spent    Left  Speed\n",
      "  0     0    0     0    0     0      0      0 --:--:-- --:--:-- --:--:--     0"
     ]
    },
    {
     "name": "stdout",
     "output_type": "stream",
     "text": [
      "Downloading https://croptalk-spoi.s3.amazonaws.com/SPOI/46_085_90_0043_20101130.pdf to /Users/katerina/Documents/CropGuard/Dec_demo/demo_knowledge/46_085_90_0043_20101130.pdf\n"
     ]
    },
    {
     "name": "stderr",
     "output_type": "stream",
     "text": [
      "100  3322  100  3322    0     0  11057      0 --:--:-- --:--:-- --:--:-- 11185\n",
      "  % Total    % Received % Xferd  Average Speed   Time    Time     Time  Current\n",
      "                                 Dload  Upload   Total   Spent    Left  Speed\n",
      "  0     0    0     0    0     0      0      0 --:--:-- --:--:-- --:--:--     0"
     ]
    },
    {
     "name": "stdout",
     "output_type": "stream",
     "text": [
      "Downloading https://croptalk-spoi.s3.amazonaws.com/SPOI/31_163_90_0043_20101130.pdf to /Users/katerina/Documents/CropGuard/Dec_demo/demo_knowledge/31_163_90_0043_20101130.pdf\n"
     ]
    },
    {
     "name": "stderr",
     "output_type": "stream",
     "text": [
      "100  3326  100  3326    0     0  12308      0 --:--:-- --:--:-- --:--:-- 12503\n",
      "  % Total    % Received % Xferd  Average Speed   Time    Time     Time  Current\n",
      "                                 Dload  Upload   Total   Spent    Left  Speed\n",
      "  0     0    0     0    0     0      0      0 --:--:-- --:--:-- --:--:--     0"
     ]
    },
    {
     "name": "stdout",
     "output_type": "stream",
     "text": [
      "Downloading https://croptalk-spoi.s3.amazonaws.com/SPOI/31_149_90_0043_20101130.pdf to /Users/katerina/Documents/CropGuard/Dec_demo/demo_knowledge/31_149_90_0043_20101130.pdf\n"
     ]
    },
    {
     "name": "stderr",
     "output_type": "stream",
     "text": [
      "100  3462  100  3462    0     0  10375      0 --:--:-- --:--:-- --:--:-- 10554\n",
      "  % Total    % Received % Xferd  Average Speed   Time    Time     Time  Current\n",
      "                                 Dload  Upload   Total   Spent    Left  Speed\n",
      "  0     0    0     0    0     0      0      0 --:--:-- --:--:-- --:--:--     0"
     ]
    },
    {
     "name": "stdout",
     "output_type": "stream",
     "text": [
      "Downloading https://croptalk-spoi.s3.amazonaws.com/SPOI/31_059_90_0043_20101130.pdf to /Users/katerina/Documents/CropGuard/Dec_demo/demo_knowledge/31_059_90_0043_20101130.pdf\n"
     ]
    },
    {
     "name": "stderr",
     "output_type": "stream",
     "text": [
      "100  3325  100  3325    0     0  11542      0 --:--:-- --:--:-- --:--:-- 11666\n",
      "  % Total    % Received % Xferd  Average Speed   Time    Time     Time  Current\n",
      "                                 Dload  Upload   Total   Spent    Left  Speed\n",
      "  0     0    0     0    0     0      0      0 --:--:-- --:--:-- --:--:--     0"
     ]
    },
    {
     "name": "stdout",
     "output_type": "stream",
     "text": [
      "Downloading https://croptalk-spoi.s3.amazonaws.com/SPOI/31_057_90_0043_20101130.pdf to /Users/katerina/Documents/CropGuard/Dec_demo/demo_knowledge/31_057_90_0043_20101130.pdf\n"
     ]
    },
    {
     "name": "stderr",
     "output_type": "stream",
     "text": [
      "100  3325  100  3325    0     0  11557      0 --:--:-- --:--:-- --:--:-- 11666\n",
      "  % Total    % Received % Xferd  Average Speed   Time    Time     Time  Current\n",
      "                                 Dload  Upload   Total   Spent    Left  Speed\n",
      "  0     0    0     0    0     0      0      0 --:--:-- --:--:-- --:--:--     0"
     ]
    },
    {
     "name": "stdout",
     "output_type": "stream",
     "text": [
      "Downloading https://croptalk-spoi.s3.amazonaws.com/SPOI/31_051_90_0043_20101130.pdf to /Users/katerina/Documents/CropGuard/Dec_demo/demo_knowledge/31_051_90_0043_20101130.pdf\n"
     ]
    },
    {
     "name": "stderr",
     "output_type": "stream",
     "text": [
      "100  3866  100  3866    0     0  12186      0 --:--:-- --:--:-- --:--:-- 12312\n",
      "  % Total    % Received % Xferd  Average Speed   Time    Time     Time  Current\n",
      "                                 Dload  Upload   Total   Spent    Left  Speed\n",
      "  0     0    0     0    0     0      0      0 --:--:-- --:--:-- --:--:--     0"
     ]
    },
    {
     "name": "stdout",
     "output_type": "stream",
     "text": [
      "Downloading https://croptalk-spoi.s3.amazonaws.com/SPOI/31_047_90_0043_20101130.pdf to /Users/katerina/Documents/CropGuard/Dec_demo/demo_knowledge/31_047_90_0043_20101130.pdf\n"
     ]
    },
    {
     "name": "stderr",
     "output_type": "stream",
     "text": [
      "100  3325  100  3325    0     0  12467      0 --:--:-- --:--:-- --:--:-- 12642\n",
      "  % Total    % Received % Xferd  Average Speed   Time    Time     Time  Current\n",
      "                                 Dload  Upload   Total   Spent    Left  Speed\n",
      "  0     0    0     0    0     0      0      0 --:--:-- --:--:-- --:--:--     0"
     ]
    },
    {
     "name": "stdout",
     "output_type": "stream",
     "text": [
      "Downloading https://croptalk-spoi.s3.amazonaws.com/SPOI/31_043_90_0043_20101130.pdf to /Users/katerina/Documents/CropGuard/Dec_demo/demo_knowledge/31_043_90_0043_20101130.pdf\n"
     ]
    },
    {
     "name": "stderr",
     "output_type": "stream",
     "text": [
      "100  3863  100  3863    0     0  13922      0 --:--:-- --:--:-- --:--:-- 14202\n",
      "  % Total    % Received % Xferd  Average Speed   Time    Time     Time  Current\n",
      "                                 Dload  Upload   Total   Spent    Left  Speed\n",
      "  0     0    0     0    0     0      0      0 --:--:-- --:--:-- --:--:--     0"
     ]
    },
    {
     "name": "stdout",
     "output_type": "stream",
     "text": [
      "Downloading https://croptalk-spoi.s3.amazonaws.com/SPOI/31_041_90_0043_20101130.pdf to /Users/katerina/Documents/CropGuard/Dec_demo/demo_knowledge/31_041_90_0043_20101130.pdf\n"
     ]
    },
    {
     "name": "stderr",
     "output_type": "stream",
     "text": [
      "100  3324  100  3324    0     0  11570      0 --:--:-- --:--:-- --:--:-- 11787\n",
      "  % Total    % Received % Xferd  Average Speed   Time    Time     Time  Current\n",
      "                                 Dload  Upload   Total   Spent    Left  Speed\n",
      "  0     0    0     0    0     0      0      0 --:--:-- --:--:-- --:--:--     0"
     ]
    },
    {
     "name": "stdout",
     "output_type": "stream",
     "text": [
      "Downloading https://croptalk-spoi.s3.amazonaws.com/SPOI/31_037_90_0043_20101130.pdf to /Users/katerina/Documents/CropGuard/Dec_demo/demo_knowledge/31_037_90_0043_20101130.pdf\n"
     ]
    },
    {
     "name": "stderr",
     "output_type": "stream",
     "text": [
      "100  3322  100  3322    0     0  12953      0 --:--:-- --:--:-- --:--:-- 13235\n",
      "  % Total    % Received % Xferd  Average Speed   Time    Time     Time  Current\n",
      "                                 Dload  Upload   Total   Spent    Left  Speed\n",
      "  0     0    0     0    0     0      0      0 --:--:-- --:--:-- --:--:--     0"
     ]
    },
    {
     "name": "stdout",
     "output_type": "stream",
     "text": [
      "Downloading https://croptalk-spoi.s3.amazonaws.com/SPOI/31_035_90_0043_20101130.pdf to /Users/katerina/Documents/CropGuard/Dec_demo/demo_knowledge/31_035_90_0043_20101130.pdf\n"
     ]
    },
    {
     "name": "stderr",
     "output_type": "stream",
     "text": [
      "100  3862  100  3862    0     0  12853      0 --:--:-- --:--:-- --:--:-- 13091\n",
      "  % Total    % Received % Xferd  Average Speed   Time    Time     Time  Current\n",
      "                                 Dload  Upload   Total   Spent    Left  Speed\n",
      "  0     0    0     0    0     0      0      0 --:--:-- --:--:-- --:--:--     0"
     ]
    },
    {
     "name": "stdout",
     "output_type": "stream",
     "text": [
      "Downloading https://croptalk-spoi.s3.amazonaws.com/SPOI/31_033_90_0043_20101130.pdf to /Users/katerina/Documents/CropGuard/Dec_demo/demo_knowledge/31_033_90_0043_20101130.pdf\n"
     ]
    },
    {
     "name": "stderr",
     "output_type": "stream",
     "text": [
      "100  3326  100  3326    0     0  12177      0 --:--:-- --:--:-- --:--:-- 12364\n",
      "  % Total    % Received % Xferd  Average Speed   Time    Time     Time  Current\n",
      "                                 Dload  Upload   Total   Spent    Left  Speed\n",
      "  0     0    0     0    0     0      0      0 --:--:-- --:--:-- --:--:--     0"
     ]
    },
    {
     "name": "stdout",
     "output_type": "stream",
     "text": [
      "Downloading https://croptalk-spoi.s3.amazonaws.com/SPOI/31_031_90_0043_20101130.pdf to /Users/katerina/Documents/CropGuard/Dec_demo/demo_knowledge/31_031_90_0043_20101130.pdf\n"
     ]
    },
    {
     "name": "stderr",
     "output_type": "stream",
     "text": [
      "100  3323  100  3323    0     0   9763      0 --:--:-- --:--:-- --:--:--  9860\n",
      "  % Total    % Received % Xferd  Average Speed   Time    Time     Time  Current\n",
      "                                 Dload  Upload   Total   Spent    Left  Speed\n",
      "  0     0    0     0    0     0      0      0 --:--:-- --:--:-- --:--:--     0"
     ]
    },
    {
     "name": "stdout",
     "output_type": "stream",
     "text": [
      "Downloading https://croptalk-spoi.s3.amazonaws.com/SPOI/31_029_90_0043_20101130.pdf to /Users/katerina/Documents/CropGuard/Dec_demo/demo_knowledge/31_029_90_0043_20101130.pdf\n"
     ]
    },
    {
     "name": "stderr",
     "output_type": "stream",
     "text": [
      "100  3325  100  3325    0     0  10488      0 --:--:-- --:--:-- --:--:-- 10657\n",
      "  % Total    % Received % Xferd  Average Speed   Time    Time     Time  Current\n",
      "                                 Dload  Upload   Total   Spent    Left  Speed\n",
      "  0     0    0     0    0     0      0      0 --:--:-- --:--:-- --:--:--     0"
     ]
    },
    {
     "name": "stdout",
     "output_type": "stream",
     "text": [
      "Downloading https://croptalk-spoi.s3.amazonaws.com/SPOI/31_023_90_0043_20101130.pdf to /Users/katerina/Documents/CropGuard/Dec_demo/demo_knowledge/31_023_90_0043_20101130.pdf\n"
     ]
    },
    {
     "name": "stderr",
     "output_type": "stream",
     "text": [
      "100  3319  100  3319    0     0   8882      0 --:--:-- --:--:-- --:--:--  9019\n",
      "  % Total    % Received % Xferd  Average Speed   Time    Time     Time  Current\n",
      "                                 Dload  Upload   Total   Spent    Left  Speed\n",
      "  0     0    0     0    0     0      0      0 --:--:-- --:--:-- --:--:--     0"
     ]
    },
    {
     "name": "stdout",
     "output_type": "stream",
     "text": [
      "Downloading https://croptalk-spoi.s3.amazonaws.com/SPOI/31_021_90_0043_20101130.pdf to /Users/katerina/Documents/CropGuard/Dec_demo/demo_knowledge/31_021_90_0043_20101130.pdf\n"
     ]
    },
    {
     "name": "stderr",
     "output_type": "stream",
     "text": [
      "100  3320  100  3320    0     0   4788      0 --:--:-- --:--:-- --:--:--  4818\n",
      "  % Total    % Received % Xferd  Average Speed   Time    Time     Time  Current\n",
      "                                 Dload  Upload   Total   Spent    Left  Speed\n",
      "  0     0    0     0    0     0      0      0 --:--:-- --:--:-- --:--:--     0"
     ]
    },
    {
     "name": "stdout",
     "output_type": "stream",
     "text": [
      "Downloading https://croptalk-spoi.s3.amazonaws.com/SPOI/31_019_90_0043_20101130.pdf to /Users/katerina/Documents/CropGuard/Dec_demo/demo_knowledge/31_019_90_0043_20101130.pdf\n"
     ]
    },
    {
     "name": "stderr",
     "output_type": "stream",
     "text": [
      "100  3324  100  3324    0     0   4038      0 --:--:-- --:--:-- --:--:--  4063\n",
      "  % Total    % Received % Xferd  Average Speed   Time    Time     Time  Current\n",
      "                                 Dload  Upload   Total   Spent    Left  Speed\n",
      "  0     0    0     0    0     0      0      0 --:--:-- --:--:-- --:--:--     0"
     ]
    },
    {
     "name": "stdout",
     "output_type": "stream",
     "text": [
      "Downloading https://croptalk-spoi.s3.amazonaws.com/SPOI/31_017_90_0043_20101130.pdf to /Users/katerina/Documents/CropGuard/Dec_demo/demo_knowledge/31_017_90_0043_20101130.pdf\n"
     ]
    },
    {
     "name": "stderr",
     "output_type": "stream",
     "text": [
      "100  3459  100  3459    0     0   5106      0 --:--:-- --:--:-- --:--:--  5132\n",
      "  % Total    % Received % Xferd  Average Speed   Time    Time     Time  Current\n",
      "                                 Dload  Upload   Total   Spent    Left  Speed\n",
      "  0     0    0     0    0     0      0      0 --:--:-- --:--:-- --:--:--     0"
     ]
    },
    {
     "name": "stdout",
     "output_type": "stream",
     "text": [
      "Downloading https://croptalk-spoi.s3.amazonaws.com/SPOI/31_015_90_0043_20101130.pdf to /Users/katerina/Documents/CropGuard/Dec_demo/demo_knowledge/31_015_90_0043_20101130.pdf\n"
     ]
    },
    {
     "name": "stderr",
     "output_type": "stream",
     "text": [
      "100  3322  100  3322    0     0   4525      0 --:--:-- --:--:-- --:--:--  4550\n",
      "  % Total    % Received % Xferd  Average Speed   Time    Time     Time  Current\n",
      "                                 Dload  Upload   Total   Spent    Left  Speed\n",
      "  0     0    0     0    0     0      0      0 --:--:-- --:--:-- --:--:--     0"
     ]
    },
    {
     "name": "stdout",
     "output_type": "stream",
     "text": [
      "Downloading https://croptalk-spoi.s3.amazonaws.com/SPOI/31_011_90_0043_20101130.pdf to /Users/katerina/Documents/CropGuard/Dec_demo/demo_knowledge/31_011_90_0043_20101130.pdf\n"
     ]
    },
    {
     "name": "stderr",
     "output_type": "stream",
     "text": [
      "100  3866  100  3866    0     0   6937      0 --:--:-- --:--:-- --:--:--  6965\n",
      "  % Total    % Received % Xferd  Average Speed   Time    Time     Time  Current\n",
      "                                 Dload  Upload   Total   Spent    Left  Speed\n",
      "  0     0    0     0    0     0      0      0 --:--:-- --:--:-- --:--:--     0"
     ]
    },
    {
     "name": "stdout",
     "output_type": "stream",
     "text": [
      "Downloading https://croptalk-spoi.s3.amazonaws.com/SPOI/31_009_90_0043_20101130.pdf to /Users/katerina/Documents/CropGuard/Dec_demo/demo_knowledge/31_009_90_0043_20101130.pdf\n"
     ]
    },
    {
     "name": "stderr",
     "output_type": "stream",
     "text": [
      "100  3321  100  3321    0     0   7743      0 --:--:-- --:--:-- --:--:--  7851\n",
      "  % Total    % Received % Xferd  Average Speed   Time    Time     Time  Current\n",
      "                                 Dload  Upload   Total   Spent    Left  Speed\n",
      "  0     0    0     0    0     0      0      0 --:--:-- --:--:-- --:--:--     0"
     ]
    },
    {
     "name": "stdout",
     "output_type": "stream",
     "text": [
      "Downloading https://croptalk-spoi.s3.amazonaws.com/SPOI/31_003_90_0043_20101130.pdf to /Users/katerina/Documents/CropGuard/Dec_demo/demo_knowledge/31_003_90_0043_20101130.pdf\n"
     ]
    },
    {
     "name": "stderr",
     "output_type": "stream",
     "text": [
      "100  3324  100  3324    0     0  10153      0 --:--:-- --:--:-- --:--:-- 10259\n",
      "  % Total    % Received % Xferd  Average Speed   Time    Time     Time  Current\n",
      "                                 Dload  Upload   Total   Spent    Left  Speed\n",
      "  0     0    0     0    0     0      0      0 --:--:-- --:--:-- --:--:--     0"
     ]
    },
    {
     "name": "stdout",
     "output_type": "stream",
     "text": [
      "Downloading https://croptalk-spoi.s3.amazonaws.com/SPOI/31_001_90_0043_20101130.pdf to /Users/katerina/Documents/CropGuard/Dec_demo/demo_knowledge/31_001_90_0043_20101130.pdf\n"
     ]
    },
    {
     "name": "stderr",
     "output_type": "stream",
     "text": [
      "100  3319  100  3319    0     0   9745      0 --:--:-- --:--:-- --:--:--  9877\n",
      "  % Total    % Received % Xferd  Average Speed   Time    Time     Time  Current\n",
      "                                 Dload  Upload   Total   Spent    Left  Speed\n",
      "  0     0    0     0    0     0      0      0 --:--:-- --:--:-- --:--:--     0"
     ]
    },
    {
     "name": "stdout",
     "output_type": "stream",
     "text": [
      "Downloading https://croptalk-spoi.s3.amazonaws.com/SPOI/29_207_90_0043_20101130.pdf to /Users/katerina/Documents/CropGuard/Dec_demo/demo_knowledge/29_207_90_0043_20101130.pdf\n"
     ]
    },
    {
     "name": "stderr",
     "output_type": "stream",
     "text": [
      "100  3458  100  3458    0     0  10068      0 --:--:-- --:--:-- --:--:-- 10200\n",
      "  % Total    % Received % Xferd  Average Speed   Time    Time     Time  Current\n",
      "                                 Dload  Upload   Total   Spent    Left  Speed\n",
      "  0     0    0     0    0     0      0      0 --:--:-- --:--:-- --:--:--     0"
     ]
    },
    {
     "name": "stdout",
     "output_type": "stream",
     "text": [
      "Downloading https://croptalk-spoi.s3.amazonaws.com/SPOI/29_147_90_0043_20101130.pdf to /Users/katerina/Documents/CropGuard/Dec_demo/demo_knowledge/29_147_90_0043_20101130.pdf\n"
     ]
    },
    {
     "name": "stderr",
     "output_type": "stream",
     "text": [
      "100  4000  100  4000    0     0  13625      0 --:--:-- --:--:-- --:--:-- 13793\n",
      "  % Total    % Received % Xferd  Average Speed   Time    Time     Time  Current\n",
      "                                 Dload  Upload   Total   Spent    Left  Speed\n",
      "  0     0    0     0    0     0      0      0 --:--:-- --:--:-- --:--:--     0"
     ]
    },
    {
     "name": "stdout",
     "output_type": "stream",
     "text": [
      "Downloading https://croptalk-spoi.s3.amazonaws.com/SPOI/29_143_90_0043_20101130.pdf to /Users/katerina/Documents/CropGuard/Dec_demo/demo_knowledge/29_143_90_0043_20101130.pdf\n"
     ]
    },
    {
     "name": "stderr",
     "output_type": "stream",
     "text": [
      "100  3460  100  3460    0     0  11738      0 --:--:-- --:--:-- --:--:-- 11931\n",
      "  % Total    % Received % Xferd  Average Speed   Time    Time     Time  Current\n",
      "                                 Dload  Upload   Total   Spent    Left  Speed\n",
      "  0     0    0     0    0     0      0      0 --:--:-- --:--:-- --:--:--     0"
     ]
    },
    {
     "name": "stdout",
     "output_type": "stream",
     "text": [
      "Downloading https://croptalk-spoi.s3.amazonaws.com/SPOI/29_129_90_0043_20101130.pdf to /Users/katerina/Documents/CropGuard/Dec_demo/demo_knowledge/29_129_90_0043_20101130.pdf\n"
     ]
    },
    {
     "name": "stderr",
     "output_type": "stream",
     "text": [
      "100  3862  100  3862    0     0  12973      0 --:--:-- --:--:-- --:--:-- 13136\n",
      "  % Total    % Received % Xferd  Average Speed   Time    Time     Time  Current\n",
      "                                 Dload  Upload   Total   Spent    Left  Speed\n",
      "  0     0    0     0    0     0      0      0 --:--:-- --:--:-- --:--:--     0"
     ]
    },
    {
     "name": "stdout",
     "output_type": "stream",
     "text": [
      "Downloading https://croptalk-spoi.s3.amazonaws.com/SPOI/29_127_90_0043_20101130.pdf to /Users/katerina/Documents/CropGuard/Dec_demo/demo_knowledge/29_127_90_0043_20101130.pdf\n"
     ]
    },
    {
     "name": "stderr",
     "output_type": "stream",
     "text": [
      "100  3997  100  3997    0     0  12981      0 --:--:-- --:--:-- --:--:-- 13104\n",
      "  % Total    % Received % Xferd  Average Speed   Time    Time     Time  Current\n",
      "                                 Dload  Upload   Total   Spent    Left  Speed\n",
      "  0     0    0     0    0     0      0      0 --:--:-- --:--:-- --:--:--     0"
     ]
    },
    {
     "name": "stdout",
     "output_type": "stream",
     "text": [
      "Downloading https://croptalk-spoi.s3.amazonaws.com/SPOI/29_115_90_0043_20101130.pdf to /Users/katerina/Documents/CropGuard/Dec_demo/demo_knowledge/29_115_90_0043_20101130.pdf\n"
     ]
    },
    {
     "name": "stderr",
     "output_type": "stream",
     "text": [
      "100  3995  100  3995    0     0  13773      0 --:--:-- --:--:-- --:--:-- 13919\n",
      "  % Total    % Received % Xferd  Average Speed   Time    Time     Time  Current\n",
      "                                 Dload  Upload   Total   Spent    Left  Speed\n",
      "  0     0    0     0    0     0      0      0 --:--:-- --:--:-- --:--:--     0"
     ]
    },
    {
     "name": "stdout",
     "output_type": "stream",
     "text": [
      "Downloading https://croptalk-spoi.s3.amazonaws.com/SPOI/29_109_90_0043_20101130.pdf to /Users/katerina/Documents/CropGuard/Dec_demo/demo_knowledge/29_109_90_0043_20101130.pdf\n"
     ]
    },
    {
     "name": "stderr",
     "output_type": "stream",
     "text": [
      "100  3457  100  3457    0     0  12610      0 --:--:-- --:--:-- --:--:-- 12756\n",
      "  % Total    % Received % Xferd  Average Speed   Time    Time     Time  Current\n",
      "                                 Dload  Upload   Total   Spent    Left  Speed\n",
      "  0     0    0     0    0     0      0      0 --:--:-- --:--:-- --:--:--     0"
     ]
    },
    {
     "name": "stdout",
     "output_type": "stream",
     "text": [
      "Downloading https://croptalk-spoi.s3.amazonaws.com/SPOI/31_061_90_0043_20101130.pdf to /Users/katerina/Documents/CropGuard/Dec_demo/demo_knowledge/31_061_90_0043_20101130.pdf\n"
     ]
    },
    {
     "name": "stderr",
     "output_type": "stream",
     "text": [
      "100  3321  100  3321    0     0  10482      0 --:--:-- --:--:-- --:--:-- 10576\n",
      "  % Total    % Received % Xferd  Average Speed   Time    Time     Time  Current\n",
      "                                 Dload  Upload   Total   Spent    Left  Speed\n",
      "  0     0    0     0    0     0      0      0 --:--:-- --:--:-- --:--:--     0"
     ]
    },
    {
     "name": "stdout",
     "output_type": "stream",
     "text": [
      "Downloading https://croptalk-spoi.s3.amazonaws.com/SPOI/31_063_90_0043_20101130.pdf to /Users/katerina/Documents/CropGuard/Dec_demo/demo_knowledge/31_063_90_0043_20101130.pdf\n"
     ]
    },
    {
     "name": "stderr",
     "output_type": "stream",
     "text": [
      "100  3323  100  3323    0     0  11147      0 --:--:-- --:--:-- --:--:-- 11380\n",
      "  % Total    % Received % Xferd  Average Speed   Time    Time     Time  Current\n",
      "                                 Dload  Upload   Total   Spent    Left  Speed\n",
      "  0     0    0     0    0     0      0      0 --:--:-- --:--:-- --:--:--     0"
     ]
    },
    {
     "name": "stdout",
     "output_type": "stream",
     "text": [
      "Downloading https://croptalk-spoi.s3.amazonaws.com/SPOI/31_067_90_0043_20101130.pdf to /Users/katerina/Documents/CropGuard/Dec_demo/demo_knowledge/31_067_90_0043_20101130.pdf\n"
     ]
    },
    {
     "name": "stderr",
     "output_type": "stream",
     "text": [
      "100  3859  100  3859    0     0  13117      0 --:--:-- --:--:-- --:--:-- 13352\n",
      "  % Total    % Received % Xferd  Average Speed   Time    Time     Time  Current\n",
      "                                 Dload  Upload   Total   Spent    Left  Speed\n",
      "  0     0    0     0    0     0      0      0 --:--:-- --:--:-- --:--:--     0"
     ]
    },
    {
     "name": "stdout",
     "output_type": "stream",
     "text": [
      "Downloading https://croptalk-spoi.s3.amazonaws.com/SPOI/31_071_90_0043_20101130.pdf to /Users/katerina/Documents/CropGuard/Dec_demo/demo_knowledge/31_071_90_0043_20101130.pdf\n"
     ]
    },
    {
     "name": "stderr",
     "output_type": "stream",
     "text": [
      "100  3462  100  3462    0     0  11217      0 --:--:-- --:--:-- --:--:-- 11425\n",
      "  % Total    % Received % Xferd  Average Speed   Time    Time     Time  Current\n",
      "                                 Dload  Upload   Total   Spent    Left  Speed\n",
      "  0     0    0     0    0     0      0      0 --:--:-- --:--:-- --:--:--     0"
     ]
    },
    {
     "name": "stdout",
     "output_type": "stream",
     "text": [
      "Downloading https://croptalk-spoi.s3.amazonaws.com/SPOI/31_147_90_0043_20101130.pdf to /Users/katerina/Documents/CropGuard/Dec_demo/demo_knowledge/31_147_90_0043_20101130.pdf\n"
     ]
    },
    {
     "name": "stderr",
     "output_type": "stream",
     "text": [
      "100  4001  100  4001    0     0  13121      0 --:--:-- --:--:-- --:--:-- 13381\n",
      "  % Total    % Received % Xferd  Average Speed   Time    Time     Time  Current\n",
      "                                 Dload  Upload   Total   Spent    Left  Speed\n",
      "  0     0    0     0    0     0      0      0 --:--:-- --:--:-- --:--:--     0"
     ]
    },
    {
     "name": "stdout",
     "output_type": "stream",
     "text": [
      "Downloading https://croptalk-spoi.s3.amazonaws.com/SPOI/31_145_90_0043_20101130.pdf to /Users/katerina/Documents/CropGuard/Dec_demo/demo_knowledge/31_145_90_0043_20101130.pdf\n"
     ]
    },
    {
     "name": "stderr",
     "output_type": "stream",
     "text": [
      "100  3328  100  3328    0     0  10197      0 --:--:-- --:--:-- --:--:-- 10303\n",
      "  % Total    % Received % Xferd  Average Speed   Time    Time     Time  Current\n",
      "                                 Dload  Upload   Total   Spent    Left  Speed\n",
      "  0     0    0     0    0     0      0      0 --:--:-- --:--:-- --:--:--     0"
     ]
    },
    {
     "name": "stdout",
     "output_type": "stream",
     "text": [
      "Downloading https://croptalk-spoi.s3.amazonaws.com/SPOI/31_143_90_0043_20101130.pdf to /Users/katerina/Documents/CropGuard/Dec_demo/demo_knowledge/31_143_90_0043_20101130.pdf\n"
     ]
    },
    {
     "name": "stderr",
     "output_type": "stream",
     "text": [
      "100  3321  100  3321    0     0  10756      0 --:--:-- --:--:-- --:--:-- 10852\n",
      "  % Total    % Received % Xferd  Average Speed   Time    Time     Time  Current\n",
      "                                 Dload  Upload   Total   Spent    Left  Speed\n",
      "  0     0    0     0    0     0      0      0 --:--:-- --:--:-- --:--:--     0"
     ]
    },
    {
     "name": "stdout",
     "output_type": "stream",
     "text": [
      "Downloading https://croptalk-spoi.s3.amazonaws.com/SPOI/31_141_90_0043_20101130.pdf to /Users/katerina/Documents/CropGuard/Dec_demo/demo_knowledge/31_141_90_0043_20101130.pdf\n"
     ]
    },
    {
     "name": "stderr",
     "output_type": "stream",
     "text": [
      "100  3861  100  3861    0     0  12767      0 --:--:-- --:--:-- --:--:-- 12913\n",
      "  % Total    % Received % Xferd  Average Speed   Time    Time     Time  Current\n",
      "                                 Dload  Upload   Total   Spent    Left  Speed\n",
      "  0     0    0     0    0     0      0      0 --:--:-- --:--:-- --:--:--     0"
     ]
    },
    {
     "name": "stdout",
     "output_type": "stream",
     "text": [
      "Downloading https://croptalk-spoi.s3.amazonaws.com/SPOI/31_139_90_0043_20101130.pdf to /Users/katerina/Documents/CropGuard/Dec_demo/demo_knowledge/31_139_90_0043_20101130.pdf\n"
     ]
    },
    {
     "name": "stderr",
     "output_type": "stream",
     "text": [
      "100  3324  100  3324    0     0  11247      0 --:--:-- --:--:-- --:--:-- 11383\n",
      "  % Total    % Received % Xferd  Average Speed   Time    Time     Time  Current\n",
      "                                 Dload  Upload   Total   Spent    Left  Speed\n",
      "  0     0    0     0    0     0      0      0 --:--:-- --:--:-- --:--:--     0"
     ]
    },
    {
     "name": "stdout",
     "output_type": "stream",
     "text": [
      "Downloading https://croptalk-spoi.s3.amazonaws.com/SPOI/31_137_90_0043_20101130.pdf to /Users/katerina/Documents/CropGuard/Dec_demo/demo_knowledge/31_137_90_0043_20101130.pdf\n"
     ]
    },
    {
     "name": "stderr",
     "output_type": "stream",
     "text": [
      "100  3322  100  3322    0     0  11429      0 --:--:-- --:--:-- --:--:-- 11574\n",
      "  % Total    % Received % Xferd  Average Speed   Time    Time     Time  Current\n",
      "                                 Dload  Upload   Total   Spent    Left  Speed\n",
      "  0     0    0     0    0     0      0      0 --:--:-- --:--:-- --:--:--     0"
     ]
    },
    {
     "name": "stdout",
     "output_type": "stream",
     "text": [
      "Downloading https://croptalk-spoi.s3.amazonaws.com/SPOI/31_135_90_0043_20101130.pdf to /Users/katerina/Documents/CropGuard/Dec_demo/demo_knowledge/31_135_90_0043_20101130.pdf\n"
     ]
    },
    {
     "name": "stderr",
     "output_type": "stream",
     "text": [
      "100  3868  100  3868    0     0  12022      0 --:--:-- --:--:-- --:--:-- 12201\n",
      "  % Total    % Received % Xferd  Average Speed   Time    Time     Time  Current\n",
      "                                 Dload  Upload   Total   Spent    Left  Speed\n",
      "  0     0    0     0    0     0      0      0 --:--:-- --:--:-- --:--:--     0"
     ]
    },
    {
     "name": "stdout",
     "output_type": "stream",
     "text": [
      "Downloading https://croptalk-spoi.s3.amazonaws.com/SPOI/31_131_90_0043_20101130.pdf to /Users/katerina/Documents/CropGuard/Dec_demo/demo_knowledge/31_131_90_0043_20101130.pdf\n"
     ]
    },
    {
     "name": "stderr",
     "output_type": "stream",
     "text": [
      "100  3995  100  3995    0     0  12741      0 --:--:-- --:--:-- --:--:-- 12887\n",
      "  % Total    % Received % Xferd  Average Speed   Time    Time     Time  Current\n",
      "                                 Dload  Upload   Total   Spent    Left  Speed\n",
      "  0     0    0     0    0     0      0      0 --:--:-- --:--:-- --:--:--     0"
     ]
    },
    {
     "name": "stdout",
     "output_type": "stream",
     "text": [
      "Downloading https://croptalk-spoi.s3.amazonaws.com/SPOI/31_129_90_0043_20101130.pdf to /Users/katerina/Documents/CropGuard/Dec_demo/demo_knowledge/31_129_90_0043_20101130.pdf\n"
     ]
    },
    {
     "name": "stderr",
     "output_type": "stream",
     "text": [
      "100  3325  100  3325    0     0  12657      0 --:--:-- --:--:-- --:--:-- 12837\n",
      "  % Total    % Received % Xferd  Average Speed   Time    Time     Time  Current\n",
      "                                 Dload  Upload   Total   Spent    Left  Speed\n",
      "  0     0    0     0    0     0      0      0 --:--:-- --:--:-- --:--:--     0"
     ]
    },
    {
     "name": "stdout",
     "output_type": "stream",
     "text": [
      "Downloading https://croptalk-spoi.s3.amazonaws.com/SPOI/31_125_90_0043_20101130.pdf to /Users/katerina/Documents/CropGuard/Dec_demo/demo_knowledge/31_125_90_0043_20101130.pdf\n"
     ]
    },
    {
     "name": "stderr",
     "output_type": "stream",
     "text": [
      "100  3321  100  3321    0     0  11294      0 --:--:-- --:--:-- --:--:-- 11412\n",
      "  % Total    % Received % Xferd  Average Speed   Time    Time     Time  Current\n",
      "                                 Dload  Upload   Total   Spent    Left  Speed\n",
      "  0     0    0     0    0     0      0      0 --:--:-- --:--:-- --:--:--     0"
     ]
    },
    {
     "name": "stdout",
     "output_type": "stream",
     "text": [
      "Downloading https://croptalk-spoi.s3.amazonaws.com/SPOI/31_121_90_0043_20101130.pdf to /Users/katerina/Documents/CropGuard/Dec_demo/demo_knowledge/31_121_90_0043_20101130.pdf\n"
     ]
    },
    {
     "name": "stderr",
     "output_type": "stream",
     "text": [
      "100  3325  100  3325    0     0  11359      0 --:--:-- --:--:-- --:--:-- 11505\n",
      "  % Total    % Received % Xferd  Average Speed   Time    Time     Time  Current\n",
      "                                 Dload  Upload   Total   Spent    Left  Speed\n",
      "  0     0    0     0    0     0      0      0 --:--:-- --:--:-- --:--:--     0"
     ]
    },
    {
     "name": "stdout",
     "output_type": "stream",
     "text": [
      "Downloading https://croptalk-spoi.s3.amazonaws.com/SPOI/31_119_90_0043_20101130.pdf to /Users/katerina/Documents/CropGuard/Dec_demo/demo_knowledge/31_119_90_0043_20101130.pdf\n"
     ]
    },
    {
     "name": "stderr",
     "output_type": "stream",
     "text": [
      "100  3328  100  3328    0     0  11257      0 --:--:-- --:--:-- --:--:-- 11397\n",
      "  % Total    % Received % Xferd  Average Speed   Time    Time     Time  Current\n",
      "                                 Dload  Upload   Total   Spent    Left  Speed\n",
      "  0     0    0     0    0     0      0      0 --:--:-- --:--:-- --:--:--     0"
     ]
    },
    {
     "name": "stdout",
     "output_type": "stream",
     "text": [
      "Downloading https://croptalk-spoi.s3.amazonaws.com/SPOI/31_115_90_0043_20101130.pdf to /Users/katerina/Documents/CropGuard/Dec_demo/demo_knowledge/31_115_90_0043_20101130.pdf\n"
     ]
    },
    {
     "name": "stderr",
     "output_type": "stream",
     "text": [
      "100  3322  100  3322    0     0  10796      0 --:--:-- --:--:-- --:--:-- 10963\n",
      "  % Total    % Received % Xferd  Average Speed   Time    Time     Time  Current\n",
      "                                 Dload  Upload   Total   Spent    Left  Speed\n",
      "  0     0    0     0    0     0      0      0 --:--:-- --:--:-- --:--:--     0"
     ]
    },
    {
     "name": "stdout",
     "output_type": "stream",
     "text": [
      "Downloading https://croptalk-spoi.s3.amazonaws.com/SPOI/31_155_90_0043_20101130.pdf to /Users/katerina/Documents/CropGuard/Dec_demo/demo_knowledge/31_155_90_0043_20101130.pdf\n"
     ]
    },
    {
     "name": "stderr",
     "output_type": "stream",
     "text": [
      "100  3866  100  3866    0     0  13727      0 --:--:-- --:--:-- --:--:-- 13906\n",
      "  % Total    % Received % Xferd  Average Speed   Time    Time     Time  Current\n",
      "                                 Dload  Upload   Total   Spent    Left  Speed\n",
      "  0     0    0     0    0     0      0      0 --:--:-- --:--:-- --:--:--     0"
     ]
    },
    {
     "name": "stdout",
     "output_type": "stream",
     "text": [
      "Downloading https://croptalk-spoi.s3.amazonaws.com/SPOI/31_111_90_0043_20101130.pdf to /Users/katerina/Documents/CropGuard/Dec_demo/demo_knowledge/31_111_90_0043_20101130.pdf\n"
     ]
    },
    {
     "name": "stderr",
     "output_type": "stream",
     "text": [
      "100  3868  100  3868    0     0  10593      0 --:--:-- --:--:-- --:--:-- 10655\n",
      "  % Total    % Received % Xferd  Average Speed   Time    Time     Time  Current\n",
      "                                 Dload  Upload   Total   Spent    Left  Speed\n",
      "  0     0    0     0    0     0      0      0 --:--:-- --:--:-- --:--:--     0"
     ]
    },
    {
     "name": "stdout",
     "output_type": "stream",
     "text": [
      "Downloading https://croptalk-spoi.s3.amazonaws.com/SPOI/31_103_90_0043_20101130.pdf to /Users/katerina/Documents/CropGuard/Dec_demo/demo_knowledge/31_103_90_0043_20101130.pdf\n"
     ]
    },
    {
     "name": "stderr",
     "output_type": "stream",
     "text": [
      "100  3327  100  3327    0     0  10022      0 --:--:-- --:--:-- --:--:-- 10205\n",
      "  % Total    % Received % Xferd  Average Speed   Time    Time     Time  Current\n",
      "                                 Dload  Upload   Total   Spent    Left  Speed\n",
      "  0     0    0     0    0     0      0      0 --:--:-- --:--:-- --:--:--     0"
     ]
    },
    {
     "name": "stdout",
     "output_type": "stream",
     "text": [
      "Downloading https://croptalk-spoi.s3.amazonaws.com/SPOI/31_101_90_0043_20101130.pdf to /Users/katerina/Documents/CropGuard/Dec_demo/demo_knowledge/31_101_90_0043_20101130.pdf\n"
     ]
    },
    {
     "name": "stderr",
     "output_type": "stream",
     "text": [
      "100  3866  100  3866    0     0  11512      0 --:--:-- --:--:-- --:--:-- 11715\n",
      "  % Total    % Received % Xferd  Average Speed   Time    Time     Time  Current\n",
      "                                 Dload  Upload   Total   Spent    Left  Speed\n",
      "  0     0    0     0    0     0      0      0 --:--:-- --:--:-- --:--:--     0"
     ]
    },
    {
     "name": "stdout",
     "output_type": "stream",
     "text": [
      "Downloading https://croptalk-spoi.s3.amazonaws.com/SPOI/31_099_90_0043_20101130.pdf to /Users/katerina/Documents/CropGuard/Dec_demo/demo_knowledge/31_099_90_0043_20101130.pdf\n"
     ]
    },
    {
     "name": "stderr",
     "output_type": "stream",
     "text": [
      "100  3325  100  3325    0     0  10650      0 --:--:-- --:--:-- --:--:-- 10795\n",
      "  % Total    % Received % Xferd  Average Speed   Time    Time     Time  Current\n",
      "                                 Dload  Upload   Total   Spent    Left  Speed\n",
      "  0     0    0     0    0     0      0      0 --:--:-- --:--:-- --:--:--     0"
     ]
    },
    {
     "name": "stdout",
     "output_type": "stream",
     "text": [
      "Downloading https://croptalk-spoi.s3.amazonaws.com/SPOI/31_097_90_0043_20101130.pdf to /Users/katerina/Documents/CropGuard/Dec_demo/demo_knowledge/31_097_90_0043_20101130.pdf\n"
     ]
    },
    {
     "name": "stderr",
     "output_type": "stream",
     "text": [
      "100  3867  100  3867    0     0  12273      0 --:--:-- --:--:-- --:--:-- 12434\n",
      "  % Total    % Received % Xferd  Average Speed   Time    Time     Time  Current\n",
      "                                 Dload  Upload   Total   Spent    Left  Speed\n",
      "  0     0    0     0    0     0      0      0 --:--:-- --:--:-- --:--:--     0"
     ]
    },
    {
     "name": "stdout",
     "output_type": "stream",
     "text": [
      "Downloading https://croptalk-spoi.s3.amazonaws.com/SPOI/31_095_90_0043_20101130.pdf to /Users/katerina/Documents/CropGuard/Dec_demo/demo_knowledge/31_095_90_0043_20101130.pdf\n"
     ]
    },
    {
     "name": "stderr",
     "output_type": "stream",
     "text": [
      "100  3323  100  3323    0     0   9431      0 --:--:-- --:--:-- --:--:--  9521\n",
      "  % Total    % Received % Xferd  Average Speed   Time    Time     Time  Current\n",
      "                                 Dload  Upload   Total   Spent    Left  Speed\n",
      "  0     0    0     0    0     0      0      0 --:--:-- --:--:-- --:--:--     0"
     ]
    },
    {
     "name": "stdout",
     "output_type": "stream",
     "text": [
      "Downloading https://croptalk-spoi.s3.amazonaws.com/SPOI/31_093_90_0043_20101130.pdf to /Users/katerina/Documents/CropGuard/Dec_demo/demo_knowledge/31_093_90_0043_20101130.pdf\n"
     ]
    },
    {
     "name": "stderr",
     "output_type": "stream",
     "text": [
      "100  3323  100  3323    0     0   4871      0 --:--:-- --:--:-- --:--:--  4908\n",
      "  % Total    % Received % Xferd  Average Speed   Time    Time     Time  Current\n",
      "                                 Dload  Upload   Total   Spent    Left  Speed\n",
      "  0     0    0     0    0     0      0      0 --:--:-- --:--:-- --:--:--     0"
     ]
    },
    {
     "name": "stdout",
     "output_type": "stream",
     "text": [
      "Downloading https://croptalk-spoi.s3.amazonaws.com/SPOI/31_089_90_0043_20101130.pdf to /Users/katerina/Documents/CropGuard/Dec_demo/demo_knowledge/31_089_90_0043_20101130.pdf\n"
     ]
    },
    {
     "name": "stderr",
     "output_type": "stream",
     "text": [
      "100  3462  100  3462    0     0   4214      0 --:--:-- --:--:-- --:--:--  4227\n",
      "  % Total    % Received % Xferd  Average Speed   Time    Time     Time  Current\n",
      "                                 Dload  Upload   Total   Spent    Left  Speed\n",
      "  0     0    0     0    0     0      0      0 --:--:-- --:--:-- --:--:--     0"
     ]
    },
    {
     "name": "stdout",
     "output_type": "stream",
     "text": [
      "Downloading https://croptalk-spoi.s3.amazonaws.com/SPOI/31_085_90_0043_20101130.pdf to /Users/katerina/Documents/CropGuard/Dec_demo/demo_knowledge/31_085_90_0043_20101130.pdf\n"
     ]
    },
    {
     "name": "stderr",
     "output_type": "stream",
     "text": [
      "100  3324  100  3324    0     0   4858      0 --:--:-- --:--:-- --:--:--  4881\n",
      "  % Total    % Received % Xferd  Average Speed   Time    Time     Time  Current\n",
      "                                 Dload  Upload   Total   Spent    Left  Speed\n",
      "  0     0    0     0    0     0      0      0 --:--:-- --:--:-- --:--:--     0"
     ]
    },
    {
     "name": "stdout",
     "output_type": "stream",
     "text": [
      "Downloading https://croptalk-spoi.s3.amazonaws.com/SPOI/31_083_90_0043_20101130.pdf to /Users/katerina/Documents/CropGuard/Dec_demo/demo_knowledge/31_083_90_0043_20101130.pdf\n"
     ]
    },
    {
     "name": "stderr",
     "output_type": "stream",
     "text": [
      "100  3320  100  3320    0     0   4508      0 --:--:-- --:--:-- --:--:--  4535\n",
      "  % Total    % Received % Xferd  Average Speed   Time    Time     Time  Current\n",
      "                                 Dload  Upload   Total   Spent    Left  Speed\n",
      "  0     0    0     0    0     0      0      0 --:--:-- --:--:-- --:--:--     0"
     ]
    },
    {
     "name": "stdout",
     "output_type": "stream",
     "text": [
      "Downloading https://croptalk-spoi.s3.amazonaws.com/SPOI/31_081_90_0043_20101130.pdf to /Users/katerina/Documents/CropGuard/Dec_demo/demo_knowledge/31_081_90_0043_20101130.pdf\n"
     ]
    },
    {
     "name": "stderr",
     "output_type": "stream",
     "text": [
      "100  3865  100  3865    0     0   7081      0 --:--:-- --:--:-- --:--:--  7144\n",
      "  % Total    % Received % Xferd  Average Speed   Time    Time     Time  Current\n",
      "                                 Dload  Upload   Total   Spent    Left  Speed\n",
      "  0     0    0     0    0     0      0      0 --:--:-- --:--:-- --:--:--     0"
     ]
    },
    {
     "name": "stdout",
     "output_type": "stream",
     "text": [
      "Downloading https://croptalk-spoi.s3.amazonaws.com/SPOI/31_079_90_0043_20101130.pdf to /Users/katerina/Documents/CropGuard/Dec_demo/demo_knowledge/31_079_90_0043_20101130.pdf\n"
     ]
    },
    {
     "name": "stderr",
     "output_type": "stream",
     "text": [
      "100  3322  100  3322    0     0   8217      0 --:--:-- --:--:-- --:--:--  8305\n",
      "  % Total    % Received % Xferd  Average Speed   Time    Time     Time  Current\n",
      "                                 Dload  Upload   Total   Spent    Left  Speed\n",
      "  0     0    0     0    0     0      0      0 --:--:-- --:--:-- --:--:--     0"
     ]
    },
    {
     "name": "stdout",
     "output_type": "stream",
     "text": [
      "Downloading https://croptalk-spoi.s3.amazonaws.com/SPOI/31_077_90_0043_20101130.pdf to /Users/katerina/Documents/CropGuard/Dec_demo/demo_knowledge/31_077_90_0043_20101130.pdf\n"
     ]
    },
    {
     "name": "stderr",
     "output_type": "stream",
     "text": [
      "100  3326  100  3326    0     0  11211      0 --:--:-- --:--:-- --:--:-- 11351\n",
      "  % Total    % Received % Xferd  Average Speed   Time    Time     Time  Current\n",
      "                                 Dload  Upload   Total   Spent    Left  Speed\n",
      "  0     0    0     0    0     0      0      0 --:--:-- --:--:-- --:--:--     0"
     ]
    },
    {
     "name": "stdout",
     "output_type": "stream",
     "text": [
      "Downloading https://croptalk-spoi.s3.amazonaws.com/SPOI/31_073_90_0043_20101130.pdf to /Users/katerina/Documents/CropGuard/Dec_demo/demo_knowledge/31_073_90_0043_20101130.pdf\n"
     ]
    },
    {
     "name": "stderr",
     "output_type": "stream",
     "text": [
      "100  3322  100  3322    0     0  12014      0 --:--:-- --:--:-- --:--:-- 12168\n",
      "  % Total    % Received % Xferd  Average Speed   Time    Time     Time  Current\n",
      "                                 Dload  Upload   Total   Spent    Left  Speed\n",
      "  0     0    0     0    0     0      0      0 --:--:-- --:--:-- --:--:--     0"
     ]
    },
    {
     "name": "stdout",
     "output_type": "stream",
     "text": [
      "Downloading https://croptalk-spoi.s3.amazonaws.com/SPOI/31_109_90_0043_20101130.pdf to /Users/katerina/Documents/CropGuard/Dec_demo/demo_knowledge/31_109_90_0043_20101130.pdf\n"
     ]
    },
    {
     "name": "stderr",
     "output_type": "stream",
     "text": [
      "100  3324  100  3324    0     0  11659      0 --:--:-- --:--:-- --:--:-- 11829\n",
      "  % Total    % Received % Xferd  Average Speed   Time    Time     Time  Current\n",
      "                                 Dload  Upload   Total   Spent    Left  Speed\n",
      "  0     0    0     0    0     0      0      0 --:--:-- --:--:-- --:--:--     0"
     ]
    },
    {
     "name": "stdout",
     "output_type": "stream",
     "text": [
      "Downloading https://croptalk-spoi.s3.amazonaws.com/SPOI/29_107_90_0043_20101130.pdf to /Users/katerina/Documents/CropGuard/Dec_demo/demo_knowledge/29_107_90_0043_20101130.pdf\n"
     ]
    },
    {
     "name": "stderr",
     "output_type": "stream",
     "text": [
      "100  4000  100  4000    0     0  13220      0 --:--:-- --:--:-- --:--:-- 13422\n",
      "  % Total    % Received % Xferd  Average Speed   Time    Time     Time  Current\n",
      "                                 Dload  Upload   Total   Spent    Left  Speed\n",
      "  0     0    0     0    0     0      0      0 --:--:-- --:--:-- --:--:--     0"
     ]
    },
    {
     "name": "stdout",
     "output_type": "stream",
     "text": [
      "Downloading https://croptalk-spoi.s3.amazonaws.com/SPOI/26_121_90_0046_20101130.pdf to /Users/katerina/Documents/CropGuard/Dec_demo/demo_knowledge/26_121_90_0046_20101130.pdf\n"
     ]
    },
    {
     "name": "stderr",
     "output_type": "stream",
     "text": [
      "100  3643  100  3643    0     0  11416      0 --:--:-- --:--:-- --:--:-- 11601\n",
      "  % Total    % Received % Xferd  Average Speed   Time    Time     Time  Current\n",
      "                                 Dload  Upload   Total   Spent    Left  Speed\n",
      "  0     0    0     0    0     0      0      0 --:--:-- --:--:-- --:--:--     0"
     ]
    },
    {
     "name": "stdout",
     "output_type": "stream",
     "text": [
      "Downloading https://croptalk-spoi.s3.amazonaws.com/SPOI/41_045_90_0046_20101130.pdf to /Users/katerina/Documents/CropGuard/Dec_demo/demo_knowledge/41_045_90_0046_20101130.pdf\n"
     ]
    },
    {
     "name": "stderr",
     "output_type": "stream",
     "text": [
      "100  3370  100  3370    0     0  11765      0 --:--:-- --:--:-- --:--:-- 11908\n",
      "  % Total    % Received % Xferd  Average Speed   Time    Time     Time  Current\n",
      "                                 Dload  Upload   Total   Spent    Left  Speed\n",
      "  0     0    0     0    0     0      0      0 --:--:-- --:--:-- --:--:--     0"
     ]
    },
    {
     "name": "stdout",
     "output_type": "stream",
     "text": [
      "Downloading https://croptalk-spoi.s3.amazonaws.com/SPOI/29_097_90_0043_20101130.pdf to /Users/katerina/Documents/CropGuard/Dec_demo/demo_knowledge/29_097_90_0043_20101130.pdf\n"
     ]
    },
    {
     "name": "stderr",
     "output_type": "stream",
     "text": [
      "100  3458  100  3458    0     0  10285      0 --:--:-- --:--:-- --:--:-- 10384\n",
      "  % Total    % Received % Xferd  Average Speed   Time    Time     Time  Current\n",
      "                                 Dload  Upload   Total   Spent    Left  Speed\n",
      "  0     0    0     0    0     0      0      0 --:--:-- --:--:-- --:--:--     0"
     ]
    },
    {
     "name": "stdout",
     "output_type": "stream",
     "text": [
      "Downloading https://croptalk-spoi.s3.amazonaws.com/SPOI/29_081_90_0043_20101130.pdf to /Users/katerina/Documents/CropGuard/Dec_demo/demo_knowledge/29_081_90_0043_20101130.pdf\n"
     ]
    },
    {
     "name": "stderr",
     "output_type": "stream",
     "text": [
      "100  3861  100  3861    0     0  12944      0 --:--:-- --:--:-- --:--:-- 13088\n",
      "  % Total    % Received % Xferd  Average Speed   Time    Time     Time  Current\n",
      "                                 Dload  Upload   Total   Spent    Left  Speed\n",
      "  0     0    0     0    0     0      0      0 --:--:-- --:--:-- --:--:--     0"
     ]
    },
    {
     "name": "stdout",
     "output_type": "stream",
     "text": [
      "Downloading https://croptalk-spoi.s3.amazonaws.com/SPOI/17_141_90_0043_20101130.pdf to /Users/katerina/Documents/CropGuard/Dec_demo/demo_knowledge/17_141_90_0043_20101130.pdf\n"
     ]
    },
    {
     "name": "stderr",
     "output_type": "stream",
     "text": [
      "100  3905  100  3905    0     0  11929      0 --:--:-- --:--:-- --:--:-- 12052\n",
      "  % Total    % Received % Xferd  Average Speed   Time    Time     Time  Current\n",
      "                                 Dload  Upload   Total   Spent    Left  Speed\n",
      "  0     0    0     0    0     0      0      0 --:--:-- --:--:-- --:--:--     0"
     ]
    },
    {
     "name": "stdout",
     "output_type": "stream",
     "text": [
      "Downloading https://croptalk-spoi.s3.amazonaws.com/SPOI/17_135_90_0043_20101130.pdf to /Users/katerina/Documents/CropGuard/Dec_demo/demo_knowledge/17_135_90_0043_20101130.pdf\n"
     ]
    },
    {
     "name": "stderr",
     "output_type": "stream",
     "text": [
      "100  4051  100  4051    0     0  13203      0 --:--:-- --:--:-- --:--:-- 13325\n",
      "  % Total    % Received % Xferd  Average Speed   Time    Time     Time  Current\n",
      "                                 Dload  Upload   Total   Spent    Left  Speed\n",
      "  0     0    0     0    0     0      0      0 --:--:-- --:--:-- --:--:--     0"
     ]
    },
    {
     "name": "stdout",
     "output_type": "stream",
     "text": [
      "Downloading https://croptalk-spoi.s3.amazonaws.com/SPOI/17_125_90_0043_20101130.pdf to /Users/katerina/Documents/CropGuard/Dec_demo/demo_knowledge/17_125_90_0043_20101130.pdf\n"
     ]
    },
    {
     "name": "stderr",
     "output_type": "stream",
     "text": [
      "100  4049  100  4049    0     0  13031      0 --:--:-- --:--:-- --:--:-- 13319\n",
      "  % Total    % Received % Xferd  Average Speed   Time    Time     Time  Current\n",
      "                                 Dload  Upload   Total   Spent    Left  Speed\n",
      "  0     0    0     0    0     0      0      0 --:--:-- --:--:-- --:--:--     0"
     ]
    },
    {
     "name": "stdout",
     "output_type": "stream",
     "text": [
      "Downloading https://croptalk-spoi.s3.amazonaws.com/SPOI/17_121_90_0043_20101130.pdf to /Users/katerina/Documents/CropGuard/Dec_demo/demo_knowledge/17_121_90_0043_20101130.pdf\n"
     ]
    },
    {
     "name": "stderr",
     "output_type": "stream",
     "text": [
      "100  4048  100  4048    0     0  14968      0 --:--:-- --:--:-- --:--:-- 15161\n",
      "  % Total    % Received % Xferd  Average Speed   Time    Time     Time  Current\n",
      "                                 Dload  Upload   Total   Spent    Left  Speed\n",
      "  0     0    0     0    0     0      0      0 --:--:-- --:--:-- --:--:--     0"
     ]
    },
    {
     "name": "stdout",
     "output_type": "stream",
     "text": [
      "Downloading https://croptalk-spoi.s3.amazonaws.com/SPOI/17_115_90_0043_20101130.pdf to /Users/katerina/Documents/CropGuard/Dec_demo/demo_knowledge/17_115_90_0043_20101130.pdf\n"
     ]
    },
    {
     "name": "stderr",
     "output_type": "stream",
     "text": [
      "100  4049  100  4049    0     0  14611      0 --:--:-- --:--:-- --:--:-- 14831\n",
      "  % Total    % Received % Xferd  Average Speed   Time    Time     Time  Current\n",
      "                                 Dload  Upload   Total   Spent    Left  Speed\n",
      "  0     0    0     0    0     0      0      0 --:--:-- --:--:-- --:--:--     0"
     ]
    },
    {
     "name": "stdout",
     "output_type": "stream",
     "text": [
      "Downloading https://croptalk-spoi.s3.amazonaws.com/SPOI/17_101_90_0043_20101130.pdf to /Users/katerina/Documents/CropGuard/Dec_demo/demo_knowledge/17_101_90_0043_20101130.pdf\n"
     ]
    },
    {
     "name": "stderr",
     "output_type": "stream",
     "text": [
      "100  4051  100  4051    0     0  14815      0 --:--:-- --:--:-- --:--:-- 15172\n",
      "  % Total    % Received % Xferd  Average Speed   Time    Time     Time  Current\n",
      "                                 Dload  Upload   Total   Spent    Left  Speed\n",
      "  0     0    0     0    0     0      0      0 --:--:-- --:--:-- --:--:--     0"
     ]
    },
    {
     "name": "stdout",
     "output_type": "stream",
     "text": [
      "Downloading https://croptalk-spoi.s3.amazonaws.com/SPOI/17_079_90_0043_20101130.pdf to /Users/katerina/Documents/CropGuard/Dec_demo/demo_knowledge/17_079_90_0043_20101130.pdf\n"
     ]
    },
    {
     "name": "stderr",
     "output_type": "stream",
     "text": [
      "100  4053  100  4053    0     0  13302      0 --:--:-- --:--:-- --:--:-- 13465\n",
      "  % Total    % Received % Xferd  Average Speed   Time    Time     Time  Current\n",
      "                                 Dload  Upload   Total   Spent    Left  Speed\n",
      "  0     0    0     0    0     0      0      0 --:--:-- --:--:-- --:--:--     0"
     ]
    },
    {
     "name": "stdout",
     "output_type": "stream",
     "text": [
      "Downloading https://croptalk-spoi.s3.amazonaws.com/SPOI/17_075_90_0043_20101130.pdf to /Users/katerina/Documents/CropGuard/Dec_demo/demo_knowledge/17_075_90_0043_20101130.pdf\n"
     ]
    },
    {
     "name": "stderr",
     "output_type": "stream",
     "text": [
      "100  3910  100  3910    0     0  13818      0 --:--:-- --:--:-- --:--:-- 14014\n",
      "  % Total    % Received % Xferd  Average Speed   Time    Time     Time  Current\n",
      "                                 Dload  Upload   Total   Spent    Left  Speed\n",
      "  0     0    0     0    0     0      0      0 --:--:-- --:--:-- --:--:--     0"
     ]
    },
    {
     "name": "stdout",
     "output_type": "stream",
     "text": [
      "Downloading https://croptalk-spoi.s3.amazonaws.com/SPOI/17_065_90_0043_20101130.pdf to /Users/katerina/Documents/CropGuard/Dec_demo/demo_knowledge/17_065_90_0043_20101130.pdf\n"
     ]
    },
    {
     "name": "stderr",
     "output_type": "stream",
     "text": [
      "100  4052  100  4052    0     0  12277      0 --:--:-- --:--:-- --:--:-- 12391\n",
      "  % Total    % Received % Xferd  Average Speed   Time    Time     Time  Current\n",
      "                                 Dload  Upload   Total   Spent    Left  Speed\n",
      "  0     0    0     0    0     0      0      0 --:--:-- --:--:-- --:--:--     0"
     ]
    },
    {
     "name": "stdout",
     "output_type": "stream",
     "text": [
      "Downloading https://croptalk-spoi.s3.amazonaws.com/SPOI/17_059_90_0043_20101130.pdf to /Users/katerina/Documents/CropGuard/Dec_demo/demo_knowledge/17_059_90_0043_20101130.pdf\n"
     ]
    },
    {
     "name": "stderr",
     "output_type": "stream",
     "text": [
      "100  4054  100  4054    0     0  13368      0 --:--:-- --:--:-- --:--:-- 13558\n",
      "  % Total    % Received % Xferd  Average Speed   Time    Time     Time  Current\n",
      "                                 Dload  Upload   Total   Spent    Left  Speed\n",
      "  0     0    0     0    0     0      0      0 --:--:-- --:--:-- --:--:--     0"
     ]
    },
    {
     "name": "stdout",
     "output_type": "stream",
     "text": [
      "Downloading https://croptalk-spoi.s3.amazonaws.com/SPOI/17_051_90_0043_20101130.pdf to /Users/katerina/Documents/CropGuard/Dec_demo/demo_knowledge/17_051_90_0043_20101130.pdf\n"
     ]
    },
    {
     "name": "stderr",
     "output_type": "stream",
     "text": [
      "100  4051  100  4051    0     0  12619      0 --:--:-- --:--:-- --:--:-- 12819\n",
      "  % Total    % Received % Xferd  Average Speed   Time    Time     Time  Current\n",
      "                                 Dload  Upload   Total   Spent    Left  Speed\n",
      "  0     0    0     0    0     0      0      0 --:--:-- --:--:-- --:--:--     0"
     ]
    },
    {
     "name": "stdout",
     "output_type": "stream",
     "text": [
      "Downloading https://croptalk-spoi.s3.amazonaws.com/SPOI/17_049_90_0043_20101130.pdf to /Users/katerina/Documents/CropGuard/Dec_demo/demo_knowledge/17_049_90_0043_20101130.pdf\n"
     ]
    },
    {
     "name": "stderr",
     "output_type": "stream",
     "text": [
      "100  4056  100  4056    0     0  14461      0 --:--:-- --:--:-- --:--:-- 14642\n",
      "  % Total    % Received % Xferd  Average Speed   Time    Time     Time  Current\n",
      "                                 Dload  Upload   Total   Spent    Left  Speed\n",
      "  0     0    0     0    0     0      0      0 --:--:-- --:--:-- --:--:--     0"
     ]
    },
    {
     "name": "stdout",
     "output_type": "stream",
     "text": [
      "Downloading https://croptalk-spoi.s3.amazonaws.com/SPOI/17_047_90_0043_20101130.pdf to /Users/katerina/Documents/CropGuard/Dec_demo/demo_knowledge/17_047_90_0043_20101130.pdf\n"
     ]
    },
    {
     "name": "stderr",
     "output_type": "stream",
     "text": [
      "100  4054  100  4054    0     0  10830      0 --:--:-- --:--:-- --:--:-- 10927\n",
      "  % Total    % Received % Xferd  Average Speed   Time    Time     Time  Current\n",
      "                                 Dload  Upload   Total   Spent    Left  Speed\n",
      "  0     0    0     0    0     0      0      0 --:--:-- --:--:-- --:--:--     0"
     ]
    },
    {
     "name": "stdout",
     "output_type": "stream",
     "text": [
      "Downloading https://croptalk-spoi.s3.amazonaws.com/SPOI/17_025_90_0043_20101130.pdf to /Users/katerina/Documents/CropGuard/Dec_demo/demo_knowledge/17_025_90_0043_20101130.pdf\n"
     ]
    },
    {
     "name": "stderr",
     "output_type": "stream",
     "text": [
      "100  4050  100  4050    0     0  14669      0 --:--:-- --:--:-- --:--:-- 14889\n",
      "  % Total    % Received % Xferd  Average Speed   Time    Time     Time  Current\n",
      "                                 Dload  Upload   Total   Spent    Left  Speed\n",
      "  0     0    0     0    0     0      0      0 --:--:-- --:--:-- --:--:--     0"
     ]
    },
    {
     "name": "stdout",
     "output_type": "stream",
     "text": [
      "Downloading https://croptalk-spoi.s3.amazonaws.com/SPOI/17_017_90_0043_20101130.pdf to /Users/katerina/Documents/CropGuard/Dec_demo/demo_knowledge/17_017_90_0043_20101130.pdf\n"
     ]
    },
    {
     "name": "stderr",
     "output_type": "stream",
     "text": [
      "100  4047  100  4047    0     0  10142      0 --:--:-- --:--:-- --:--:-- 10245\n",
      "  % Total    % Received % Xferd  Average Speed   Time    Time     Time  Current\n",
      "                                 Dload  Upload   Total   Spent    Left  Speed\n",
      "  0     0    0     0    0     0      0      0 --:--:-- --:--:-- --:--:--     0"
     ]
    },
    {
     "name": "stdout",
     "output_type": "stream",
     "text": [
      "Downloading https://croptalk-spoi.s3.amazonaws.com/SPOI/17_015_90_0043_20101130.pdf to /Users/katerina/Documents/CropGuard/Dec_demo/demo_knowledge/17_015_90_0043_20101130.pdf\n"
     ]
    },
    {
     "name": "stderr",
     "output_type": "stream",
     "text": [
      "100  4051  100  4051    0     0  13214      0 --:--:-- --:--:-- --:--:-- 13325\n",
      "  % Total    % Received % Xferd  Average Speed   Time    Time     Time  Current\n",
      "                                 Dload  Upload   Total   Spent    Left  Speed\n",
      "  0     0    0     0    0     0      0      0 --:--:-- --:--:-- --:--:--     0"
     ]
    },
    {
     "name": "stdout",
     "output_type": "stream",
     "text": [
      "Downloading https://croptalk-spoi.s3.amazonaws.com/SPOI/08_125_90_0043_20101130.pdf to /Users/katerina/Documents/CropGuard/Dec_demo/demo_knowledge/08_125_90_0043_20101130.pdf\n"
     ]
    },
    {
     "name": "stderr",
     "output_type": "stream",
     "text": [
      "100  3319  100  3319    0     0  10779      0 --:--:-- --:--:-- --:--:-- 10990\n",
      "  % Total    % Received % Xferd  Average Speed   Time    Time     Time  Current\n",
      "                                 Dload  Upload   Total   Spent    Left  Speed\n",
      "  0     0    0     0    0     0      0      0 --:--:-- --:--:-- --:--:--     0"
     ]
    },
    {
     "name": "stdout",
     "output_type": "stream",
     "text": [
      "Downloading https://croptalk-spoi.s3.amazonaws.com/SPOI/08_099_90_0043_20101130.pdf to /Users/katerina/Documents/CropGuard/Dec_demo/demo_knowledge/08_099_90_0043_20101130.pdf\n"
     ]
    },
    {
     "name": "stderr",
     "output_type": "stream",
     "text": [
      "100  3319  100  3319    0     0   9883      0 --:--:-- --:--:-- --:--:-- 10057\n",
      "  % Total    % Received % Xferd  Average Speed   Time    Time     Time  Current\n",
      "                                 Dload  Upload   Total   Spent    Left  Speed\n",
      "  0     0    0     0    0     0      0      0 --:--:-- --:--:-- --:--:--     0"
     ]
    },
    {
     "name": "stdout",
     "output_type": "stream",
     "text": [
      "Downloading https://croptalk-spoi.s3.amazonaws.com/SPOI/08_095_90_0043_20101130.pdf to /Users/katerina/Documents/CropGuard/Dec_demo/demo_knowledge/08_095_90_0043_20101130.pdf\n"
     ]
    },
    {
     "name": "stderr",
     "output_type": "stream",
     "text": [
      "100  3320  100  3320    0     0  11451      0 --:--:-- --:--:-- --:--:-- 11567\n",
      "  % Total    % Received % Xferd  Average Speed   Time    Time     Time  Current\n",
      "                                 Dload  Upload   Total   Spent    Left  Speed\n",
      "  0     0    0     0    0     0      0      0 --:--:-- --:--:-- --:--:--     0"
     ]
    },
    {
     "name": "stdout",
     "output_type": "stream",
     "text": [
      "Downloading https://croptalk-spoi.s3.amazonaws.com/SPOI/08_063_90_0043_20101130.pdf to /Users/katerina/Documents/CropGuard/Dec_demo/demo_knowledge/08_063_90_0043_20101130.pdf\n"
     ]
    },
    {
     "name": "stderr",
     "output_type": "stream",
     "text": [
      "100  3321  100  3321    0     0   8749      0 --:--:-- --:--:-- --:--:--  8856\n",
      "  % Total    % Received % Xferd  Average Speed   Time    Time     Time  Current\n",
      "                                 Dload  Upload   Total   Spent    Left  Speed\n",
      "  0     0    0     0    0     0      0      0 --:--:-- --:--:-- --:--:--     0"
     ]
    },
    {
     "name": "stdout",
     "output_type": "stream",
     "text": [
      "Downloading https://croptalk-spoi.s3.amazonaws.com/SPOI/08_009_90_0043_20101130.pdf to /Users/katerina/Documents/CropGuard/Dec_demo/demo_knowledge/08_009_90_0043_20101130.pdf\n"
     ]
    },
    {
     "name": "stderr",
     "output_type": "stream",
     "text": [
      "100  3312  100  3312    0     0  10594      0 --:--:-- --:--:-- --:--:-- 10718\n",
      "  % Total    % Received % Xferd  Average Speed   Time    Time     Time  Current\n",
      "                                 Dload  Upload   Total   Spent    Left  Speed\n",
      "  0     0    0     0    0     0      0      0 --:--:-- --:--:-- --:--:--     0"
     ]
    },
    {
     "name": "stdout",
     "output_type": "stream",
     "text": [
      "Downloading https://croptalk-spoi.s3.amazonaws.com/SPOI/01_089_90_0043_20101130.pdf to /Users/katerina/Documents/CropGuard/Dec_demo/demo_knowledge/01_089_90_0043_20101130.pdf\n"
     ]
    },
    {
     "name": "stderr",
     "output_type": "stream",
     "text": [
      "100  3581  100  3581    0     0  11229      0 --:--:-- --:--:-- --:--:-- 11368\n",
      "  % Total    % Received % Xferd  Average Speed   Time    Time     Time  Current\n",
      "                                 Dload  Upload   Total   Spent    Left  Speed\n",
      "  0     0    0     0    0     0      0      0 --:--:-- --:--:-- --:--:--     0"
     ]
    },
    {
     "name": "stdout",
     "output_type": "stream",
     "text": [
      "Downloading https://croptalk-spoi.s3.amazonaws.com/SPOI/17_021_90_0043_20101130.pdf to /Users/katerina/Documents/CropGuard/Dec_demo/demo_knowledge/17_021_90_0043_20101130.pdf\n"
     ]
    },
    {
     "name": "stderr",
     "output_type": "stream",
     "text": [
      "100  4051  100  4051    0     0  12469      0 --:--:-- --:--:-- --:--:-- 12699\n",
      "  % Total    % Received % Xferd  Average Speed   Time    Time     Time  Current\n",
      "                                 Dload  Upload   Total   Spent    Left  Speed\n",
      "  0     0    0     0    0     0      0      0 --:--:-- --:--:-- --:--:--     0"
     ]
    },
    {
     "name": "stdout",
     "output_type": "stream",
     "text": [
      "Downloading https://croptalk-spoi.s3.amazonaws.com/SPOI/17_165_90_0043_20101130.pdf to /Users/katerina/Documents/CropGuard/Dec_demo/demo_knowledge/17_165_90_0043_20101130.pdf\n"
     ]
    },
    {
     "name": "stderr",
     "output_type": "stream",
     "text": [
      "100  4048  100  4048    0     0  11938      0 --:--:-- --:--:-- --:--:-- 12119\n",
      "  % Total    % Received % Xferd  Average Speed   Time    Time     Time  Current\n",
      "                                 Dload  Upload   Total   Spent    Left  Speed\n",
      "  0     0    0     0    0     0      0      0 --:--:-- --:--:-- --:--:--     0"
     ]
    },
    {
     "name": "stdout",
     "output_type": "stream",
     "text": [
      "Downloading https://croptalk-spoi.s3.amazonaws.com/SPOI/29_087_90_0043_20101130.pdf to /Users/katerina/Documents/CropGuard/Dec_demo/demo_knowledge/29_087_90_0043_20101130.pdf\n"
     ]
    },
    {
     "name": "stderr",
     "output_type": "stream",
     "text": [
      "100  4588  100  4588    0     0   7442      0 --:--:-- --:--:-- --:--:--  7509\n",
      "  % Total    % Received % Xferd  Average Speed   Time    Time     Time  Current\n",
      "                                 Dload  Upload   Total   Spent    Left  Speed\n",
      "  0     0    0     0    0     0      0      0 --:--:-- --:--:-- --:--:--     0"
     ]
    },
    {
     "name": "stdout",
     "output_type": "stream",
     "text": [
      "Downloading https://croptalk-spoi.s3.amazonaws.com/SPOI/17_173_90_0043_20101130.pdf to /Users/katerina/Documents/CropGuard/Dec_demo/demo_knowledge/17_173_90_0043_20101130.pdf\n"
     ]
    },
    {
     "name": "stderr",
     "output_type": "stream",
     "text": [
      "100  4048  100  4048    0     0   4061      0 --:--:-- --:--:-- --:--:--  4072\n",
      "  % Total    % Received % Xferd  Average Speed   Time    Time     Time  Current\n",
      "                                 Dload  Upload   Total   Spent    Left  Speed\n",
      "  0     0    0     0    0     0      0      0 --:--:-- --:--:-- --:--:--     0"
     ]
    },
    {
     "name": "stdout",
     "output_type": "stream",
     "text": [
      "Downloading https://croptalk-spoi.s3.amazonaws.com/SPOI/17_191_90_0043_20101130.pdf to /Users/katerina/Documents/CropGuard/Dec_demo/demo_knowledge/17_191_90_0043_20101130.pdf\n"
     ]
    },
    {
     "name": "stderr",
     "output_type": "stream",
     "text": [
      "100  4050  100  4050    0     0   4783      0 --:--:-- --:--:-- --:--:--  4809\n",
      "  % Total    % Received % Xferd  Average Speed   Time    Time     Time  Current\n",
      "                                 Dload  Upload   Total   Spent    Left  Speed\n",
      "  0     0    0     0    0     0      0      0 --:--:-- --:--:-- --:--:--     0"
     ]
    },
    {
     "name": "stdout",
     "output_type": "stream",
     "text": [
      "Downloading https://croptalk-spoi.s3.amazonaws.com/SPOI/19_173_90_0043_20101130.pdf to /Users/katerina/Documents/CropGuard/Dec_demo/demo_knowledge/19_173_90_0043_20101130.pdf\n"
     ]
    },
    {
     "name": "stderr",
     "output_type": "stream",
     "text": [
      "100  3547  100  3547    0     0   4774      0 --:--:-- --:--:-- --:--:--  4793\n"
     ]
    },
    {
     "name": "stdout",
     "output_type": "stream",
     "text": [
      "Downloading https://croptalk-spoi.s3.amazonaws.com/SPOI/19_169_90_0043_20101130.pdf to /Users/katerina/Documents/CropGuard/Dec_demo/demo_knowledge/19_169_90_0043_20101130.pdf\n"
     ]
    },
    {
     "name": "stderr",
     "output_type": "stream",
     "text": [
      "  % Total    % Received % Xferd  Average Speed   Time    Time     Time  Current\n",
      "                                 Dload  Upload   Total   Spent    Left  Speed\n",
      "100  3688  100  3688    0     0   6464      0 --:--:-- --:--:-- --:--:--  6527\n",
      "  % Total    % Received % Xferd  Average Speed   Time    Time     Time  Current\n",
      "                                 Dload  Upload   Total   Spent    Left  Speed\n",
      "  0     0    0     0    0     0      0      0 --:--:-- --:--:-- --:--:--     0"
     ]
    },
    {
     "name": "stdout",
     "output_type": "stream",
     "text": [
      "Downloading https://croptalk-spoi.s3.amazonaws.com/SPOI/19_165_90_0043_20101130.pdf to /Users/katerina/Documents/CropGuard/Dec_demo/demo_knowledge/19_165_90_0043_20101130.pdf\n"
     ]
    },
    {
     "name": "stderr",
     "output_type": "stream",
     "text": [
      "100  3548  100  3548    0     0  10001      0 --:--:-- --:--:-- --:--:-- 10137\n",
      "  % Total    % Received % Xferd  Average Speed   Time    Time     Time  Current\n",
      "                                 Dload  Upload   Total   Spent    Left  Speed\n",
      "  0     0    0     0    0     0      0      0 --:--:-- --:--:-- --:--:--     0"
     ]
    },
    {
     "name": "stdout",
     "output_type": "stream",
     "text": [
      "Downloading https://croptalk-spoi.s3.amazonaws.com/SPOI/19_161_90_0043_20101130.pdf to /Users/katerina/Documents/CropGuard/Dec_demo/demo_knowledge/19_161_90_0043_20101130.pdf\n"
     ]
    },
    {
     "name": "stderr",
     "output_type": "stream",
     "text": [
      "100  3543  100  3543    0     0  12197      0 --:--:-- --:--:-- --:--:-- 12344\n",
      "  % Total    % Received % Xferd  Average Speed   Time    Time     Time  Current\n",
      "                                 Dload  Upload   Total   Spent    Left  Speed\n",
      "  0     0    0     0    0     0      0      0 --:--:-- --:--:-- --:--:--     0"
     ]
    },
    {
     "name": "stdout",
     "output_type": "stream",
     "text": [
      "Downloading https://croptalk-spoi.s3.amazonaws.com/SPOI/19_159_90_0043_20101130.pdf to /Users/katerina/Documents/CropGuard/Dec_demo/demo_knowledge/19_159_90_0043_20101130.pdf\n"
     ]
    },
    {
     "name": "stderr",
     "output_type": "stream",
     "text": [
      "100  3550  100  3550    0     0  11822      0 --:--:-- --:--:-- --:--:-- 12033\n",
      "  % Total    % Received % Xferd  Average Speed   Time    Time     Time  Current\n",
      "                                 Dload  Upload   Total   Spent    Left  Speed\n",
      "  0     0    0     0    0     0      0      0 --:--:-- --:--:-- --:--:--     0"
     ]
    },
    {
     "name": "stdout",
     "output_type": "stream",
     "text": [
      "Downloading https://croptalk-spoi.s3.amazonaws.com/SPOI/19_155_90_0043_20101130.pdf to /Users/katerina/Documents/CropGuard/Dec_demo/demo_knowledge/19_155_90_0043_20101130.pdf\n"
     ]
    },
    {
     "name": "stderr",
     "output_type": "stream",
     "text": [
      "100  3555  100  3555    0     0  11753      0 --:--:-- --:--:-- --:--:-- 11969\n",
      "  % Total    % Received % Xferd  Average Speed   Time    Time     Time  Current\n",
      "                                 Dload  Upload   Total   Spent    Left  Speed\n",
      "  0     0    0     0    0     0      0      0 --:--:-- --:--:-- --:--:--     0"
     ]
    },
    {
     "name": "stdout",
     "output_type": "stream",
     "text": [
      "Downloading https://croptalk-spoi.s3.amazonaws.com/SPOI/19_149_90_0043_20101130.pdf to /Users/katerina/Documents/CropGuard/Dec_demo/demo_knowledge/19_149_90_0043_20101130.pdf\n"
     ]
    },
    {
     "name": "stderr",
     "output_type": "stream",
     "text": [
      "100  3690  100  3690    0     0  12715      0 --:--:-- --:--:-- --:--:-- 12857\n",
      "  % Total    % Received % Xferd  Average Speed   Time    Time     Time  Current\n",
      "                                 Dload  Upload   Total   Spent    Left  Speed\n",
      "  0     0    0     0    0     0      0      0 --:--:-- --:--:-- --:--:--     0"
     ]
    },
    {
     "name": "stdout",
     "output_type": "stream",
     "text": [
      "Downloading https://croptalk-spoi.s3.amazonaws.com/SPOI/19_147_90_0043_20101130.pdf to /Users/katerina/Documents/CropGuard/Dec_demo/demo_knowledge/19_147_90_0043_20101130.pdf\n"
     ]
    },
    {
     "name": "stderr",
     "output_type": "stream",
     "text": [
      "100  3548  100  3548    0     0  10811      0 --:--:-- --:--:-- --:--:-- 10883\n",
      "  % Total    % Received % Xferd  Average Speed   Time    Time     Time  Current\n",
      "                                 Dload  Upload   Total   Spent    Left  Speed\n",
      "  0     0    0     0    0     0      0      0 --:--:-- --:--:-- --:--:--     0"
     ]
    },
    {
     "name": "stdout",
     "output_type": "stream",
     "text": [
      "Downloading https://croptalk-spoi.s3.amazonaws.com/SPOI/19_145_90_0043_20101130.pdf to /Users/katerina/Documents/CropGuard/Dec_demo/demo_knowledge/19_145_90_0043_20101130.pdf\n"
     ]
    },
    {
     "name": "stderr",
     "output_type": "stream",
     "text": [
      "100  3545  100  3545    0     0  12108      0 --:--:-- --:--:-- --:--:-- 12224\n",
      "  % Total    % Received % Xferd  Average Speed   Time    Time     Time  Current\n",
      "                                 Dload  Upload   Total   Spent    Left  Speed\n",
      "  0     0    0     0    0     0      0      0 --:--:-- --:--:-- --:--:--     0"
     ]
    },
    {
     "name": "stdout",
     "output_type": "stream",
     "text": [
      "Downloading https://croptalk-spoi.s3.amazonaws.com/SPOI/19_137_90_0043_20101130.pdf to /Users/katerina/Documents/CropGuard/Dec_demo/demo_knowledge/19_137_90_0043_20101130.pdf\n"
     ]
    },
    {
     "name": "stderr",
     "output_type": "stream",
     "text": [
      "100  3549  100  3549    0     0  12892      0 --:--:-- --:--:-- --:--:-- 13047\n",
      "  % Total    % Received % Xferd  Average Speed   Time    Time     Time  Current\n",
      "                                 Dload  Upload   Total   Spent    Left  Speed\n",
      "  0     0    0     0    0     0      0      0 --:--:-- --:--:-- --:--:--     0"
     ]
    },
    {
     "name": "stdout",
     "output_type": "stream",
     "text": [
      "Downloading https://croptalk-spoi.s3.amazonaws.com/SPOI/19_133_90_0043_20101130.pdf to /Users/katerina/Documents/CropGuard/Dec_demo/demo_knowledge/19_133_90_0043_20101130.pdf\n"
     ]
    },
    {
     "name": "stderr",
     "output_type": "stream",
     "text": [
      "100  3867  100  3867    0     0  13611      0 --:--:-- --:--:-- --:--:-- 13910\n",
      "  % Total    % Received % Xferd  Average Speed   Time    Time     Time  Current\n",
      "                                 Dload  Upload   Total   Spent    Left  Speed\n",
      "  0     0    0     0    0     0      0      0 --:--:-- --:--:-- --:--:--     0"
     ]
    },
    {
     "name": "stdout",
     "output_type": "stream",
     "text": [
      "Downloading https://croptalk-spoi.s3.amazonaws.com/SPOI/19_129_90_0043_20101130.pdf to /Users/katerina/Documents/CropGuard/Dec_demo/demo_knowledge/19_129_90_0043_20101130.pdf\n"
     ]
    },
    {
     "name": "stderr",
     "output_type": "stream",
     "text": [
      "100  3868  100  3868    0     0  13434      0 --:--:-- --:--:-- --:--:-- 13716\n",
      "  % Total    % Received % Xferd  Average Speed   Time    Time     Time  Current\n",
      "                                 Dload  Upload   Total   Spent    Left  Speed\n",
      "  0     0    0     0    0     0      0      0 --:--:-- --:--:-- --:--:--     0"
     ]
    },
    {
     "name": "stdout",
     "output_type": "stream",
     "text": [
      "Downloading https://croptalk-spoi.s3.amazonaws.com/SPOI/19_109_90_0043_20101130.pdf to /Users/katerina/Documents/CropGuard/Dec_demo/demo_knowledge/19_109_90_0043_20101130.pdf\n"
     ]
    },
    {
     "name": "stderr",
     "output_type": "stream",
     "text": [
      "100  3549  100  3549    0     0  12676      0 --:--:-- --:--:-- --:--:-- 12858\n",
      "  % Total    % Received % Xferd  Average Speed   Time    Time     Time  Current\n",
      "                                 Dload  Upload   Total   Spent    Left  Speed\n",
      "  0     0    0     0    0     0      0      0 --:--:-- --:--:-- --:--:--     0"
     ]
    },
    {
     "name": "stdout",
     "output_type": "stream",
     "text": [
      "Downloading https://croptalk-spoi.s3.amazonaws.com/SPOI/19_093_90_0043_20101130.pdf to /Users/katerina/Documents/CropGuard/Dec_demo/demo_knowledge/19_093_90_0043_20101130.pdf\n"
     ]
    },
    {
     "name": "stderr",
     "output_type": "stream",
     "text": [
      "100  3544  100  3544    0     0  10915      0 --:--:-- --:--:-- --:--:-- 11075\n",
      "  % Total    % Received % Xferd  Average Speed   Time    Time     Time  Current\n",
      "                                 Dload  Upload   Total   Spent    Left  Speed\n",
      "  0     0    0     0    0     0      0      0 --:--:-- --:--:-- --:--:--     0"
     ]
    },
    {
     "name": "stdout",
     "output_type": "stream",
     "text": [
      "Downloading https://croptalk-spoi.s3.amazonaws.com/SPOI/19_085_90_0043_20101130.pdf to /Users/katerina/Documents/CropGuard/Dec_demo/demo_knowledge/19_085_90_0043_20101130.pdf\n"
     ]
    },
    {
     "name": "stderr",
     "output_type": "stream",
     "text": [
      "100  3871  100  3871    0     0  14084      0 --:--:-- --:--:-- --:--:-- 14390\n",
      "  % Total    % Received % Xferd  Average Speed   Time    Time     Time  Current\n",
      "                                 Dload  Upload   Total   Spent    Left  Speed\n",
      "  0     0    0     0    0     0      0      0 --:--:-- --:--:-- --:--:--     0"
     ]
    },
    {
     "name": "stdout",
     "output_type": "stream",
     "text": [
      "Downloading https://croptalk-spoi.s3.amazonaws.com/SPOI/19_079_90_0043_20101130.pdf to /Users/katerina/Documents/CropGuard/Dec_demo/demo_knowledge/19_079_90_0043_20101130.pdf\n"
     ]
    },
    {
     "name": "stderr",
     "output_type": "stream",
     "text": [
      "100  3550  100  3550    0     0  11719      0 --:--:-- --:--:-- --:--:-- 11833\n",
      "  % Total    % Received % Xferd  Average Speed   Time    Time     Time  Current\n",
      "                                 Dload  Upload   Total   Spent    Left  Speed\n",
      "  0     0    0     0    0     0      0      0 --:--:-- --:--:-- --:--:--     0"
     ]
    },
    {
     "name": "stdout",
     "output_type": "stream",
     "text": [
      "Downloading https://croptalk-spoi.s3.amazonaws.com/SPOI/19_077_90_0043_20101130.pdf to /Users/katerina/Documents/CropGuard/Dec_demo/demo_knowledge/19_077_90_0043_20101130.pdf\n"
     ]
    },
    {
     "name": "stderr",
     "output_type": "stream",
     "text": [
      "100  3552  100  3552    0     0  12045      0 --:--:-- --:--:-- --:--:-- 12206\n",
      "  % Total    % Received % Xferd  Average Speed   Time    Time     Time  Current\n",
      "                                 Dload  Upload   Total   Spent    Left  Speed\n",
      "  0     0    0     0    0     0      0      0 --:--:-- --:--:-- --:--:--     0"
     ]
    },
    {
     "name": "stdout",
     "output_type": "stream",
     "text": [
      "Downloading https://croptalk-spoi.s3.amazonaws.com/SPOI/19_073_90_0043_20101130.pdf to /Users/katerina/Documents/CropGuard/Dec_demo/demo_knowledge/19_073_90_0043_20101130.pdf\n"
     ]
    },
    {
     "name": "stderr",
     "output_type": "stream",
     "text": [
      "100  3549  100  3549    0     0  11872      0 --:--:-- --:--:-- --:--:-- 12030\n",
      "  % Total    % Received % Xferd  Average Speed   Time    Time     Time  Current\n",
      "                                 Dload  Upload   Total   Spent    Left  Speed\n",
      "  0     0    0     0    0     0      0      0 --:--:-- --:--:-- --:--:--     0"
     ]
    },
    {
     "name": "stdout",
     "output_type": "stream",
     "text": [
      "Downloading https://croptalk-spoi.s3.amazonaws.com/SPOI/19_071_90_0043_20101130.pdf to /Users/katerina/Documents/CropGuard/Dec_demo/demo_knowledge/19_071_90_0043_20101130.pdf\n"
     ]
    },
    {
     "name": "stderr",
     "output_type": "stream",
     "text": [
      "100  3873  100  3873    0     0  14194      0 --:--:-- --:--:-- --:--:-- 14451\n",
      "  % Total    % Received % Xferd  Average Speed   Time    Time     Time  Current\n",
      "                                 Dload  Upload   Total   Spent    Left  Speed\n",
      "  0     0    0     0    0     0      0      0 --:--:-- --:--:-- --:--:--     0"
     ]
    },
    {
     "name": "stdout",
     "output_type": "stream",
     "text": [
      "Downloading https://croptalk-spoi.s3.amazonaws.com/SPOI/19_063_90_0043_20101130.pdf to /Users/katerina/Documents/CropGuard/Dec_demo/demo_knowledge/19_063_90_0043_20101130.pdf\n"
     ]
    },
    {
     "name": "stderr",
     "output_type": "stream",
     "text": [
      "100  3547  100  3547    0     0   9905      0 --:--:-- --:--:-- --:--:-- 10019\n",
      "  % Total    % Received % Xferd  Average Speed   Time    Time     Time  Current\n",
      "                                 Dload  Upload   Total   Spent    Left  Speed\n",
      "  0     0    0     0    0     0      0      0 --:--:-- --:--:-- --:--:--     0"
     ]
    },
    {
     "name": "stdout",
     "output_type": "stream",
     "text": [
      "Downloading https://croptalk-spoi.s3.amazonaws.com/SPOI/19_053_90_0043_20101130.pdf to /Users/katerina/Documents/CropGuard/Dec_demo/demo_knowledge/19_053_90_0043_20101130.pdf\n"
     ]
    },
    {
     "name": "stderr",
     "output_type": "stream",
     "text": [
      "100  3550  100  3550    0     0  10716      0 --:--:-- --:--:-- --:--:-- 10889\n",
      "  % Total    % Received % Xferd  Average Speed   Time    Time     Time  Current\n",
      "                                 Dload  Upload   Total   Spent    Left  Speed\n",
      "  0     0    0     0    0     0      0      0 --:--:-- --:--:-- --:--:--     0"
     ]
    },
    {
     "name": "stdout",
     "output_type": "stream",
     "text": [
      "Downloading https://croptalk-spoi.s3.amazonaws.com/SPOI/19_049_90_0043_20101130.pdf to /Users/katerina/Documents/CropGuard/Dec_demo/demo_knowledge/19_049_90_0043_20101130.pdf\n"
     ]
    },
    {
     "name": "stderr",
     "output_type": "stream",
     "text": [
      "100  3688  100  3688    0     0  12357      0 --:--:-- --:--:-- --:--:-- 12501\n",
      "  % Total    % Received % Xferd  Average Speed   Time    Time     Time  Current\n",
      "                                 Dload  Upload   Total   Spent    Left  Speed\n",
      "  0     0    0     0    0     0      0      0 --:--:-- --:--:-- --:--:--     0"
     ]
    },
    {
     "name": "stdout",
     "output_type": "stream",
     "text": [
      "Downloading https://croptalk-spoi.s3.amazonaws.com/SPOI/19_047_90_0043_20101130.pdf to /Users/katerina/Documents/CropGuard/Dec_demo/demo_knowledge/19_047_90_0043_20101130.pdf\n"
     ]
    },
    {
     "name": "stderr",
     "output_type": "stream",
     "text": [
      "100  3550  100  3550    0     0  12190      0 --:--:-- --:--:-- --:--:-- 12326\n",
      "  % Total    % Received % Xferd  Average Speed   Time    Time     Time  Current\n",
      "                                 Dload  Upload   Total   Spent    Left  Speed\n",
      "  0     0    0     0    0     0      0      0 --:--:-- --:--:-- --:--:--     0"
     ]
    },
    {
     "name": "stdout",
     "output_type": "stream",
     "text": [
      "Downloading https://croptalk-spoi.s3.amazonaws.com/SPOI/19_035_90_0043_20101130.pdf to /Users/katerina/Documents/CropGuard/Dec_demo/demo_knowledge/19_035_90_0043_20101130.pdf\n"
     ]
    },
    {
     "name": "stderr",
     "output_type": "stream",
     "text": [
      "100  3550  100  3550    0     0  12432      0 --:--:-- --:--:-- --:--:-- 12588\n",
      "  % Total    % Received % Xferd  Average Speed   Time    Time     Time  Current\n",
      "                                 Dload  Upload   Total   Spent    Left  Speed\n",
      "  0     0    0     0    0     0      0      0 --:--:-- --:--:-- --:--:--     0"
     ]
    },
    {
     "name": "stdout",
     "output_type": "stream",
     "text": [
      "Downloading https://croptalk-spoi.s3.amazonaws.com/SPOI/19_029_90_0043_20101130.pdf to /Users/katerina/Documents/CropGuard/Dec_demo/demo_knowledge/19_029_90_0043_20101130.pdf\n"
     ]
    },
    {
     "name": "stderr",
     "output_type": "stream",
     "text": [
      "100  3545  100  3545    0     0  12988      0 --:--:-- --:--:-- --:--:-- 13178\n",
      "  % Total    % Received % Xferd  Average Speed   Time    Time     Time  Current\n",
      "                                 Dload  Upload   Total   Spent    Left  Speed\n",
      "  0     0    0     0    0     0      0      0 --:--:-- --:--:-- --:--:--     0"
     ]
    },
    {
     "name": "stdout",
     "output_type": "stream",
     "text": [
      "Downloading https://croptalk-spoi.s3.amazonaws.com/SPOI/19_027_90_0043_20101130.pdf to /Users/katerina/Documents/CropGuard/Dec_demo/demo_knowledge/19_027_90_0043_20101130.pdf\n"
     ]
    },
    {
     "name": "stderr",
     "output_type": "stream",
     "text": [
      "100  3549  100  3549    0     0  12439      0 --:--:-- --:--:-- --:--:-- 12585\n",
      "  % Total    % Received % Xferd  Average Speed   Time    Time     Time  Current\n",
      "                                 Dload  Upload   Total   Spent    Left  Speed\n",
      "  0     0    0     0    0     0      0      0 --:--:-- --:--:-- --:--:--     0"
     ]
    },
    {
     "name": "stdout",
     "output_type": "stream",
     "text": [
      "Downloading https://croptalk-spoi.s3.amazonaws.com/SPOI/19_175_90_0043_20101130.pdf to /Users/katerina/Documents/CropGuard/Dec_demo/demo_knowledge/19_175_90_0043_20101130.pdf\n"
     ]
    },
    {
     "name": "stderr",
     "output_type": "stream",
     "text": [
      "100  3545  100  3545    0     0  12332      0 --:--:-- --:--:-- --:--:-- 12526\n",
      "  % Total    % Received % Xferd  Average Speed   Time    Time     Time  Current\n",
      "                                 Dload  Upload   Total   Spent    Left  Speed\n",
      "  0     0    0     0    0     0      0      0 --:--:-- --:--:-- --:--:--     0"
     ]
    },
    {
     "name": "stdout",
     "output_type": "stream",
     "text": [
      "Downloading https://croptalk-spoi.s3.amazonaws.com/SPOI/19_185_90_0043_20101130.pdf to /Users/katerina/Documents/CropGuard/Dec_demo/demo_knowledge/19_185_90_0043_20101130.pdf\n"
     ]
    },
    {
     "name": "stderr",
     "output_type": "stream",
     "text": [
      "100  3768  100  3768    0     0  14043      0 --:--:-- --:--:-- --:--:-- 14326\n",
      "  % Total    % Received % Xferd  Average Speed   Time    Time     Time  Current\n",
      "                                 Dload  Upload   Total   Spent    Left  Speed\n",
      "  0     0    0     0    0     0      0      0 --:--:-- --:--:-- --:--:--     0"
     ]
    },
    {
     "name": "stdout",
     "output_type": "stream",
     "text": [
      "Downloading https://croptalk-spoi.s3.amazonaws.com/SPOI/19_187_90_0043_20101130.pdf to /Users/katerina/Documents/CropGuard/Dec_demo/demo_knowledge/19_187_90_0043_20101130.pdf\n"
     ]
    },
    {
     "name": "stderr",
     "output_type": "stream",
     "text": [
      "100  3549  100  3549    0     0  12104      0 --:--:-- --:--:-- --:--:-- 12322\n",
      "  % Total    % Received % Xferd  Average Speed   Time    Time     Time  Current\n",
      "                                 Dload  Upload   Total   Spent    Left  Speed\n",
      "  0     0    0     0    0     0      0      0 --:--:-- --:--:-- --:--:--     0"
     ]
    },
    {
     "name": "stdout",
     "output_type": "stream",
     "text": [
      "Downloading https://croptalk-spoi.s3.amazonaws.com/SPOI/19_193_90_0043_20101130.pdf to /Users/katerina/Documents/CropGuard/Dec_demo/demo_knowledge/19_193_90_0043_20101130.pdf\n"
     ]
    },
    {
     "name": "stderr",
     "output_type": "stream",
     "text": [
      "100  3871  100  3871    0     0  11725      0 --:--:-- --:--:-- --:--:-- 11874\n",
      "  % Total    % Received % Xferd  Average Speed   Time    Time     Time  Current\n",
      "                                 Dload  Upload   Total   Spent    Left  Speed\n",
      "  0     0    0     0    0     0      0      0 --:--:-- --:--:-- --:--:--     0"
     ]
    },
    {
     "name": "stdout",
     "output_type": "stream",
     "text": [
      "Downloading https://croptalk-spoi.s3.amazonaws.com/SPOI/29_079_90_0043_20101130.pdf to /Users/katerina/Documents/CropGuard/Dec_demo/demo_knowledge/29_079_90_0043_20101130.pdf\n"
     ]
    },
    {
     "name": "stderr",
     "output_type": "stream",
     "text": [
      "100  3998  100  3998    0     0  13131      0 --:--:-- --:--:-- --:--:-- 13371\n",
      "  % Total    % Received % Xferd  Average Speed   Time    Time     Time  Current\n",
      "                                 Dload  Upload   Total   Spent    Left  Speed\n",
      "  0     0    0     0    0     0      0      0 --:--:-- --:--:-- --:--:--     0"
     ]
    },
    {
     "name": "stdout",
     "output_type": "stream",
     "text": [
      "Downloading https://croptalk-spoi.s3.amazonaws.com/SPOI/29_057_90_0043_20101130.pdf to /Users/katerina/Documents/CropGuard/Dec_demo/demo_knowledge/29_057_90_0043_20101130.pdf\n"
     ]
    },
    {
     "name": "stderr",
     "output_type": "stream",
     "text": [
      "100  3321  100  3321    0     0  11538      0 --:--:-- --:--:-- --:--:-- 11776\n",
      "  % Total    % Received % Xferd  Average Speed   Time    Time     Time  Current\n",
      "                                 Dload  Upload   Total   Spent    Left  Speed\n",
      "  0     0    0     0    0     0      0      0 --:--:-- --:--:-- --:--:--     0"
     ]
    },
    {
     "name": "stdout",
     "output_type": "stream",
     "text": [
      "Downloading https://croptalk-spoi.s3.amazonaws.com/SPOI/29_041_90_0043_20101130.pdf to /Users/katerina/Documents/CropGuard/Dec_demo/demo_knowledge/29_041_90_0043_20101130.pdf\n"
     ]
    },
    {
     "name": "stderr",
     "output_type": "stream",
     "text": [
      "100  3997  100  3997    0     0  12195      0 --:--:-- --:--:-- --:--:-- 12413\n",
      "  % Total    % Received % Xferd  Average Speed   Time    Time     Time  Current\n",
      "                                 Dload  Upload   Total   Spent    Left  Speed\n",
      "  0     0    0     0    0     0      0      0 --:--:-- --:--:-- --:--:--     0"
     ]
    },
    {
     "name": "stdout",
     "output_type": "stream",
     "text": [
      "Downloading https://croptalk-spoi.s3.amazonaws.com/SPOI/29_021_90_0043_20101130.pdf to /Users/katerina/Documents/CropGuard/Dec_demo/demo_knowledge/29_021_90_0043_20101130.pdf\n"
     ]
    },
    {
     "name": "stderr",
     "output_type": "stream",
     "text": [
      "100  3999  100  3999    0     0  12690      0 --:--:-- --:--:-- --:--:-- 12858\n",
      "  % Total    % Received % Xferd  Average Speed   Time    Time     Time  Current\n",
      "                                 Dload  Upload   Total   Spent    Left  Speed\n",
      "  0     0    0     0    0     0      0      0 --:--:-- --:--:-- --:--:--     0"
     ]
    },
    {
     "name": "stdout",
     "output_type": "stream",
     "text": [
      "Downloading https://croptalk-spoi.s3.amazonaws.com/SPOI/29_007_90_0043_20101130.pdf to /Users/katerina/Documents/CropGuard/Dec_demo/demo_knowledge/29_007_90_0043_20101130.pdf\n"
     ]
    },
    {
     "name": "stderr",
     "output_type": "stream",
     "text": [
      "100  3863  100  3863    0     0  12433      0 --:--:-- --:--:-- --:--:-- 12665\n",
      "  % Total    % Received % Xferd  Average Speed   Time    Time     Time  Current\n",
      "                                 Dload  Upload   Total   Spent    Left  Speed\n",
      "  0     0    0     0    0     0      0      0 --:--:-- --:--:-- --:--:--     0"
     ]
    },
    {
     "name": "stdout",
     "output_type": "stream",
     "text": [
      "Downloading https://croptalk-spoi.s3.amazonaws.com/SPOI/29_005_90_0043_20101130.pdf to /Users/katerina/Documents/CropGuard/Dec_demo/demo_knowledge/29_005_90_0043_20101130.pdf\n"
     ]
    },
    {
     "name": "stderr",
     "output_type": "stream",
     "text": [
      "100  3997  100  3997    0     0  11534      0 --:--:-- --:--:-- --:--:-- 11653\n",
      "  % Total    % Received % Xferd  Average Speed   Time    Time     Time  Current\n",
      "                                 Dload  Upload   Total   Spent    Left  Speed\n",
      "  0     0    0     0    0     0      0      0 --:--:-- --:--:-- --:--:--     0"
     ]
    },
    {
     "name": "stdout",
     "output_type": "stream",
     "text": [
      "Downloading https://croptalk-spoi.s3.amazonaws.com/SPOI/27_129_90_0043_20101130.pdf to /Users/katerina/Documents/CropGuard/Dec_demo/demo_knowledge/27_129_90_0043_20101130.pdf\n"
     ]
    },
    {
     "name": "stderr",
     "output_type": "stream",
     "text": [
      "100  3700  100  3700    0     0   7327      0 --:--:-- --:--:-- --:--:--  7385\n",
      "  % Total    % Received % Xferd  Average Speed   Time    Time     Time  Current\n",
      "                                 Dload  Upload   Total   Spent    Left  Speed\n",
      "  0     0    0     0    0     0      0      0 --:--:-- --:--:-- --:--:--     0"
     ]
    },
    {
     "name": "stdout",
     "output_type": "stream",
     "text": [
      "Downloading https://croptalk-spoi.s3.amazonaws.com/SPOI/27_013_90_0043_20101130.pdf to /Users/katerina/Documents/CropGuard/Dec_demo/demo_knowledge/27_013_90_0043_20101130.pdf\n"
     ]
    },
    {
     "name": "stderr",
     "output_type": "stream",
     "text": [
      "100  3699  100  3699    0     0   4462      0 --:--:-- --:--:-- --:--:--  4478\n",
      "  % Total    % Received % Xferd  Average Speed   Time    Time     Time  Current\n",
      "                                 Dload  Upload   Total   Spent    Left  Speed\n",
      "  0     0    0     0    0     0      0      0 --:--:-- --:--:-- --:--:--     0"
     ]
    },
    {
     "name": "stdout",
     "output_type": "stream",
     "text": [
      "Downloading https://croptalk-spoi.s3.amazonaws.com/SPOI/26_159_90_0043_20101130.pdf to /Users/katerina/Documents/CropGuard/Dec_demo/demo_knowledge/26_159_90_0043_20101130.pdf\n"
     ]
    },
    {
     "name": "stderr",
     "output_type": "stream",
     "text": [
      "100  3915  100  3915    0     0   4775      0 --:--:-- --:--:-- --:--:--  4803\n",
      "  % Total    % Received % Xferd  Average Speed   Time    Time     Time  Current\n",
      "                                 Dload  Upload   Total   Spent    Left  Speed\n",
      "  0     0    0     0    0     0      0      0 --:--:-- --:--:-- --:--:--     0"
     ]
    },
    {
     "name": "stdout",
     "output_type": "stream",
     "text": [
      "Downloading https://croptalk-spoi.s3.amazonaws.com/SPOI/26_149_90_0043_20101130.pdf to /Users/katerina/Documents/CropGuard/Dec_demo/demo_knowledge/26_149_90_0043_20101130.pdf\n"
     ]
    },
    {
     "name": "stderr",
     "output_type": "stream",
     "text": [
      "100  3916  100  3916    0     0   4304      0 --:--:-- --:--:-- --:--:--  4327\n",
      "  % Total    % Received % Xferd  Average Speed   Time    Time     Time  Current\n",
      "                                 Dload  Upload   Total   Spent    Left  Speed\n",
      "  0     0    0     0    0     0      0      0 --:--:-- --:--:-- --:--:--     0"
     ]
    },
    {
     "name": "stdout",
     "output_type": "stream",
     "text": [
      "Downloading https://croptalk-spoi.s3.amazonaws.com/SPOI/26_077_90_0043_20101130.pdf to /Users/katerina/Documents/CropGuard/Dec_demo/demo_knowledge/26_077_90_0043_20101130.pdf\n"
     ]
    },
    {
     "name": "stderr",
     "output_type": "stream",
     "text": [
      "100  3914  100  3914    0     0   6190      0 --:--:-- --:--:-- --:--:--  6222\n",
      "  % Total    % Received % Xferd  Average Speed   Time    Time     Time  Current\n",
      "                                 Dload  Upload   Total   Spent    Left  Speed\n",
      "  0     0    0     0    0     0      0      0 --:--:-- --:--:-- --:--:--     0"
     ]
    },
    {
     "name": "stdout",
     "output_type": "stream",
     "text": [
      "Downloading https://croptalk-spoi.s3.amazonaws.com/SPOI/26_025_90_0043_20101130.pdf to /Users/katerina/Documents/CropGuard/Dec_demo/demo_knowledge/26_025_90_0043_20101130.pdf\n"
     ]
    },
    {
     "name": "stderr",
     "output_type": "stream",
     "text": [
      "100  3911  100  3911    0     0   6397      0 --:--:-- --:--:-- --:--:--  6443\n",
      "  % Total    % Received % Xferd  Average Speed   Time    Time     Time  Current\n",
      "                                 Dload  Upload   Total   Spent    Left  Speed\n",
      "  0     0    0     0    0     0      0      0 --:--:-- --:--:-- --:--:--     0"
     ]
    },
    {
     "name": "stdout",
     "output_type": "stream",
     "text": [
      "Downloading https://croptalk-spoi.s3.amazonaws.com/SPOI/26_023_90_0043_20101130.pdf to /Users/katerina/Documents/CropGuard/Dec_demo/demo_knowledge/26_023_90_0043_20101130.pdf\n"
     ]
    },
    {
     "name": "stderr",
     "output_type": "stream",
     "text": [
      "100  3913  100  3913    0     0  14230      0 --:--:-- --:--:-- --:--:-- 14546\n",
      "  % Total    % Received % Xferd  Average Speed   Time    Time     Time  Current\n",
      "                                 Dload  Upload   Total   Spent    Left  Speed\n",
      "  0     0    0     0    0     0      0      0 --:--:-- --:--:-- --:--:--     0"
     ]
    },
    {
     "name": "stdout",
     "output_type": "stream",
     "text": [
      "Downloading https://croptalk-spoi.s3.amazonaws.com/SPOI/19_025_90_0043_20101130.pdf to /Users/katerina/Documents/CropGuard/Dec_demo/demo_knowledge/19_025_90_0043_20101130.pdf\n"
     ]
    },
    {
     "name": "stderr",
     "output_type": "stream",
     "text": [
      "100  3549  100  3549    0     0  12420      0 --:--:-- --:--:-- --:--:-- 12540\n",
      "  % Total    % Received % Xferd  Average Speed   Time    Time     Time  Current\n",
      "                                 Dload  Upload   Total   Spent    Left  Speed\n",
      "  0     0    0     0    0     0      0      0 --:--:-- --:--:-- --:--:--     0"
     ]
    },
    {
     "name": "stdout",
     "output_type": "stream",
     "text": [
      "Downloading https://croptalk-spoi.s3.amazonaws.com/SPOI/21_157_90_0043_20101130.pdf to /Users/katerina/Documents/CropGuard/Dec_demo/demo_knowledge/21_157_90_0043_20101130.pdf\n"
     ]
    },
    {
     "name": "stderr",
     "output_type": "stream",
     "text": [
      "100  3441  100  3441    0     0  10754      0 --:--:-- --:--:-- --:--:-- 10889\n",
      "  % Total    % Received % Xferd  Average Speed   Time    Time     Time  Current\n",
      "                                 Dload  Upload   Total   Spent    Left  Speed\n",
      "  0     0    0     0    0     0      0      0 --:--:-- --:--:-- --:--:--     0"
     ]
    },
    {
     "name": "stdout",
     "output_type": "stream",
     "text": [
      "Downloading https://croptalk-spoi.s3.amazonaws.com/SPOI/21_093_90_0043_20101130.pdf to /Users/katerina/Documents/CropGuard/Dec_demo/demo_knowledge/21_093_90_0043_20101130.pdf\n"
     ]
    },
    {
     "name": "stderr",
     "output_type": "stream",
     "text": [
      "100  3438  100  3438    0     0   9839      0 --:--:-- --:--:-- --:--:--  9907\n",
      "  % Total    % Received % Xferd  Average Speed   Time    Time     Time  Current\n",
      "                                 Dload  Upload   Total   Spent    Left  Speed\n",
      "  0     0    0     0    0     0      0      0 --:--:-- --:--:-- --:--:--     0"
     ]
    },
    {
     "name": "stdout",
     "output_type": "stream",
     "text": [
      "Downloading https://croptalk-spoi.s3.amazonaws.com/SPOI/21_083_90_0043_20101130.pdf to /Users/katerina/Documents/CropGuard/Dec_demo/demo_knowledge/21_083_90_0043_20101130.pdf\n"
     ]
    },
    {
     "name": "stderr",
     "output_type": "stream",
     "text": [
      "100  3439  100  3439    0     0  11157      0 --:--:-- --:--:-- --:--:-- 11275\n",
      "  % Total    % Received % Xferd  Average Speed   Time    Time     Time  Current\n",
      "                                 Dload  Upload   Total   Spent    Left  Speed\n",
      "  0     0    0     0    0     0      0      0 --:--:-- --:--:-- --:--:--     0"
     ]
    },
    {
     "name": "stdout",
     "output_type": "stream",
     "text": [
      "Downloading https://croptalk-spoi.s3.amazonaws.com/SPOI/21_047_90_0043_20101130.pdf to /Users/katerina/Documents/CropGuard/Dec_demo/demo_knowledge/21_047_90_0043_20101130.pdf\n"
     ]
    },
    {
     "name": "stderr",
     "output_type": "stream",
     "text": [
      "100  3442  100  3442    0     0  10068      0 --:--:-- --:--:-- --:--:-- 10153\n",
      "  % Total    % Received % Xferd  Average Speed   Time    Time     Time  Current\n",
      "                                 Dload  Upload   Total   Spent    Left  Speed\n",
      "  0     0    0     0    0     0      0      0 --:--:-- --:--:-- --:--:--     0"
     ]
    },
    {
     "name": "stdout",
     "output_type": "stream",
     "text": [
      "Downloading https://croptalk-spoi.s3.amazonaws.com/SPOI/21_035_90_0043_20101130.pdf to /Users/katerina/Documents/CropGuard/Dec_demo/demo_knowledge/21_035_90_0043_20101130.pdf\n"
     ]
    },
    {
     "name": "stderr",
     "output_type": "stream",
     "text": [
      "100  3439  100  3439    0     0  11192      0 --:--:-- --:--:-- --:--:-- 11349\n",
      "  % Total    % Received % Xferd  Average Speed   Time    Time     Time  Current\n",
      "                                 Dload  Upload   Total   Spent    Left  Speed\n",
      "  0     0    0     0    0     0      0      0 --:--:-- --:--:-- --:--:--     0"
     ]
    },
    {
     "name": "stdout",
     "output_type": "stream",
     "text": [
      "Downloading https://croptalk-spoi.s3.amazonaws.com/SPOI/20_193_90_0043_20101130.pdf to /Users/katerina/Documents/CropGuard/Dec_demo/demo_knowledge/20_193_90_0043_20101130.pdf\n"
     ]
    },
    {
     "name": "stderr",
     "output_type": "stream",
     "text": [
      "100  3320  100  3320    0     0  11690      0 --:--:-- --:--:-- --:--:-- 11857\n",
      "  % Total    % Received % Xferd  Average Speed   Time    Time     Time  Current\n",
      "                                 Dload  Upload   Total   Spent    Left  Speed\n",
      "  0     0    0     0    0     0      0      0 --:--:-- --:--:-- --:--:--     0"
     ]
    },
    {
     "name": "stdout",
     "output_type": "stream",
     "text": [
      "Downloading https://croptalk-spoi.s3.amazonaws.com/SPOI/20_189_90_0043_20101130.pdf to /Users/katerina/Documents/CropGuard/Dec_demo/demo_knowledge/20_189_90_0043_20101130.pdf\n"
     ]
    },
    {
     "name": "stderr",
     "output_type": "stream",
     "text": [
      "100  3319  100  3319    0     0  12558      0 --:--:-- --:--:-- --:--:-- 12765\n",
      "  % Total    % Received % Xferd  Average Speed   Time    Time     Time  Current\n",
      "                                 Dload  Upload   Total   Spent    Left  Speed\n",
      "  0     0    0     0    0     0      0      0 --:--:-- --:--:-- --:--:--     0"
     ]
    },
    {
     "name": "stdout",
     "output_type": "stream",
     "text": [
      "Downloading https://croptalk-spoi.s3.amazonaws.com/SPOI/20_187_90_0043_20101130.pdf to /Users/katerina/Documents/CropGuard/Dec_demo/demo_knowledge/20_187_90_0043_20101130.pdf\n"
     ]
    },
    {
     "name": "stderr",
     "output_type": "stream",
     "text": [
      "100  3320  100  3320    0     0  10760      0 --:--:-- --:--:-- --:--:-- 10849\n",
      "  % Total    % Received % Xferd  Average Speed   Time    Time     Time  Current\n",
      "                                 Dload  Upload   Total   Spent    Left  Speed\n",
      "  0     0    0     0    0     0      0      0 --:--:-- --:--:-- --:--:--     0"
     ]
    },
    {
     "name": "stdout",
     "output_type": "stream",
     "text": [
      "Downloading https://croptalk-spoi.s3.amazonaws.com/SPOI/20_181_90_0043_20101130.pdf to /Users/katerina/Documents/CropGuard/Dec_demo/demo_knowledge/20_181_90_0043_20101130.pdf\n"
     ]
    },
    {
     "name": "stderr",
     "output_type": "stream",
     "text": [
      "100  3319  100  3319    0     0  12156      0 --:--:-- --:--:-- --:--:-- 12338\n",
      "  % Total    % Received % Xferd  Average Speed   Time    Time     Time  Current\n",
      "                                 Dload  Upload   Total   Spent    Left  Speed\n",
      "  0     0    0     0    0     0      0      0 --:--:-- --:--:-- --:--:--     0"
     ]
    },
    {
     "name": "stdout",
     "output_type": "stream",
     "text": [
      "Downloading https://croptalk-spoi.s3.amazonaws.com/SPOI/20_153_90_0043_20101130.pdf to /Users/katerina/Documents/CropGuard/Dec_demo/demo_knowledge/20_153_90_0043_20101130.pdf\n"
     ]
    },
    {
     "name": "stderr",
     "output_type": "stream",
     "text": [
      "100  3318  100  3318    0     0  10457      0 --:--:-- --:--:-- --:--:-- 10600\n",
      "  % Total    % Received % Xferd  Average Speed   Time    Time     Time  Current\n",
      "                                 Dload  Upload   Total   Spent    Left  Speed\n",
      "  0     0    0     0    0     0      0      0 --:--:-- --:--:-- --:--:--     0"
     ]
    },
    {
     "name": "stdout",
     "output_type": "stream",
     "text": [
      "Downloading https://croptalk-spoi.s3.amazonaws.com/SPOI/20_129_90_0043_20101130.pdf to /Users/katerina/Documents/CropGuard/Dec_demo/demo_knowledge/20_129_90_0043_20101130.pdf\n"
     ]
    },
    {
     "name": "stderr",
     "output_type": "stream",
     "text": [
      "100  3322  100  3322    0     0  10731      0 --:--:-- --:--:-- --:--:-- 10856\n",
      "  % Total    % Received % Xferd  Average Speed   Time    Time     Time  Current\n",
      "                                 Dload  Upload   Total   Spent    Left  Speed\n",
      "  0     0    0     0    0     0      0      0 --:--:-- --:--:-- --:--:--     0"
     ]
    },
    {
     "name": "stdout",
     "output_type": "stream",
     "text": [
      "Downloading https://croptalk-spoi.s3.amazonaws.com/SPOI/20_075_90_0043_20101130.pdf to /Users/katerina/Documents/CropGuard/Dec_demo/demo_knowledge/20_075_90_0043_20101130.pdf\n"
     ]
    },
    {
     "name": "stderr",
     "output_type": "stream",
     "text": [
      "100  3320  100  3320    0     0  11341      0 --:--:-- --:--:-- --:--:-- 11527\n",
      "  % Total    % Received % Xferd  Average Speed   Time    Time     Time  Current\n",
      "                                 Dload  Upload   Total   Spent    Left  Speed\n",
      "  0     0    0     0    0     0      0      0 --:--:-- --:--:-- --:--:--     0"
     ]
    },
    {
     "name": "stdout",
     "output_type": "stream",
     "text": [
      "Downloading https://croptalk-spoi.s3.amazonaws.com/SPOI/20_067_90_0043_20101130.pdf to /Users/katerina/Documents/CropGuard/Dec_demo/demo_knowledge/20_067_90_0043_20101130.pdf\n"
     ]
    },
    {
     "name": "stderr",
     "output_type": "stream",
     "text": [
      "100  3316  100  3316    0     0  12341      0 --:--:-- --:--:-- --:--:-- 12513\n",
      "  % Total    % Received % Xferd  Average Speed   Time    Time     Time  Current\n",
      "                                 Dload  Upload   Total   Spent    Left  Speed\n",
      "  0     0    0     0    0     0      0      0 --:--:-- --:--:-- --:--:--     0"
     ]
    },
    {
     "name": "stdout",
     "output_type": "stream",
     "text": [
      "Downloading https://croptalk-spoi.s3.amazonaws.com/SPOI/20_023_90_0043_20101130.pdf to /Users/katerina/Documents/CropGuard/Dec_demo/demo_knowledge/20_023_90_0043_20101130.pdf\n"
     ]
    },
    {
     "name": "stderr",
     "output_type": "stream",
     "text": [
      "100  3319  100  3319    0     0  10681      0 --:--:-- --:--:-- --:--:-- 10811\n",
      "  % Total    % Received % Xferd  Average Speed   Time    Time     Time  Current\n",
      "                                 Dload  Upload   Total   Spent    Left  Speed\n",
      "  0     0    0     0    0     0      0      0 --:--:-- --:--:-- --:--:--     0"
     ]
    },
    {
     "name": "stdout",
     "output_type": "stream",
     "text": [
      "Downloading https://croptalk-spoi.s3.amazonaws.com/SPOI/21_123_90_0043_20101130.pdf to /Users/katerina/Documents/CropGuard/Dec_demo/demo_knowledge/21_123_90_0043_20101130.pdf\n"
     ]
    },
    {
     "name": "stderr",
     "output_type": "stream",
     "text": [
      "100  3441  100  3441    0     0  11643      0 --:--:-- --:--:-- --:--:-- 11784\n",
      "  % Total    % Received % Xferd  Average Speed   Time    Time     Time  Current\n",
      "                                 Dload  Upload   Total   Spent    Left  Speed\n",
      "  0     0    0     0    0     0      0      0 --:--:-- --:--:-- --:--:--     0"
     ]
    },
    {
     "name": "stdout",
     "output_type": "stream",
     "text": [
      "Downloading https://croptalk-spoi.s3.amazonaws.com/SPOI/17_179_90_0043_20101130.pdf to /Users/katerina/Documents/CropGuard/Dec_demo/demo_knowledge/17_179_90_0043_20101130.pdf\n"
     ]
    },
    {
     "name": "stderr",
     "output_type": "stream",
     "text": [
      "100  4051  100  4051    0     0  11265      0 --:--:-- --:--:-- --:--:-- 11379\n",
      "  % Total    % Received % Xferd  Average Speed   Time    Time     Time  Current\n",
      "                                 Dload  Upload   Total   Spent    Left  Speed\n",
      "  0     0    0     0    0     0      0      0 --:--:-- --:--:-- --:--:--     0"
     ]
    },
    {
     "name": "stdout",
     "output_type": "stream",
     "text": [
      "Downloading https://croptalk-spoi.s3.amazonaws.com/SPOI/19_021_90_0043_20101130.pdf to /Users/katerina/Documents/CropGuard/Dec_demo/demo_knowledge/19_021_90_0043_20101130.pdf\n"
     ]
    },
    {
     "name": "stderr",
     "output_type": "stream",
     "text": [
      "100  3552  100  3552    0     0   6686      0 --:--:-- --:--:-- --:--:--  6714\n",
      "  % Total    % Received % Xferd  Average Speed   Time    Time     Time  Current\n",
      "                                 Dload  Upload   Total   Spent    Left  Speed\n",
      "  0     0    0     0    0     0      0      0 --:--:-- --:--:-- --:--:--     0"
     ]
    },
    {
     "name": "stdout",
     "output_type": "stream",
     "text": [
      "Downloading https://croptalk-spoi.s3.amazonaws.com/SPOI/19_013_90_0043_20101130.pdf to /Users/katerina/Documents/CropGuard/Dec_demo/demo_knowledge/19_013_90_0043_20101130.pdf\n"
     ]
    },
    {
     "name": "stderr",
     "output_type": "stream",
     "text": [
      "100  3697  100  3697    0     0  11308      0 --:--:-- --:--:-- --:--:-- 11410\n",
      "  % Total    % Received % Xferd  Average Speed   Time    Time     Time  Current\n",
      "                                 Dload  Upload   Total   Spent    Left  Speed\n",
      "  0     0    0     0    0     0      0      0 --:--:-- --:--:-- --:--:--     0"
     ]
    },
    {
     "name": "stdout",
     "output_type": "stream",
     "text": [
      "Downloading https://croptalk-spoi.s3.amazonaws.com/SPOI/18_075_90_0043_20101130.pdf to /Users/katerina/Documents/CropGuard/Dec_demo/demo_knowledge/18_075_90_0043_20101130.pdf\n"
     ]
    },
    {
     "name": "stderr",
     "output_type": "stream",
     "text": [
      "100  4054  100  4054    0     0  12905      0 --:--:-- --:--:-- --:--:-- 13077\n",
      "  % Total    % Received % Xferd  Average Speed   Time    Time     Time  Current\n",
      "                                 Dload  Upload   Total   Spent    Left  Speed\n",
      "  0     0    0     0    0     0      0      0 --:--:-- --:--:-- --:--:--     0"
     ]
    },
    {
     "name": "stdout",
     "output_type": "stream",
     "text": [
      "Downloading https://croptalk-spoi.s3.amazonaws.com/SPOI/18_073_90_0043_20101130.pdf to /Users/katerina/Documents/CropGuard/Dec_demo/demo_knowledge/18_073_90_0043_20101130.pdf\n"
     ]
    },
    {
     "name": "stderr",
     "output_type": "stream",
     "text": [
      "100  4054  100  4054    0     0  14383      0 --:--:-- --:--:-- --:--:-- 14635\n",
      "  % Total    % Received % Xferd  Average Speed   Time    Time     Time  Current\n",
      "                                 Dload  Upload   Total   Spent    Left  Speed\n",
      "  0     0    0     0    0     0      0      0 --:--:-- --:--:-- --:--:--     0"
     ]
    },
    {
     "name": "stdout",
     "output_type": "stream",
     "text": [
      "Downloading https://croptalk-spoi.s3.amazonaws.com/SPOI/18_071_90_0043_20101130.pdf to /Users/katerina/Documents/CropGuard/Dec_demo/demo_knowledge/18_071_90_0043_20101130.pdf\n"
     ]
    },
    {
     "name": "stderr",
     "output_type": "stream",
     "text": [
      "100  4053  100  4053    0     0  13675      0 --:--:-- --:--:-- --:--:-- 13880\n",
      "  % Total    % Received % Xferd  Average Speed   Time    Time     Time  Current\n",
      "                                 Dload  Upload   Total   Spent    Left  Speed\n",
      "  0     0    0     0    0     0      0      0 --:--:-- --:--:-- --:--:--     0"
     ]
    },
    {
     "name": "stdout",
     "output_type": "stream",
     "text": [
      "Downloading https://croptalk-spoi.s3.amazonaws.com/SPOI/18_069_90_0043_20101130.pdf to /Users/katerina/Documents/CropGuard/Dec_demo/demo_knowledge/18_069_90_0043_20101130.pdf\n"
     ]
    },
    {
     "name": "stderr",
     "output_type": "stream",
     "text": [
      "100  3917  100  3917    0     0  14087      0 --:--:-- --:--:-- --:--:-- 14192\n",
      "  % Total    % Received % Xferd  Average Speed   Time    Time     Time  Current\n",
      "                                 Dload  Upload   Total   Spent    Left  Speed\n",
      "  0     0    0     0    0     0      0      0 --:--:-- --:--:-- --:--:--     0"
     ]
    },
    {
     "name": "stdout",
     "output_type": "stream",
     "text": [
      "Downloading https://croptalk-spoi.s3.amazonaws.com/SPOI/18_065_90_0043_20101130.pdf to /Users/katerina/Documents/CropGuard/Dec_demo/demo_knowledge/18_065_90_0043_20101130.pdf\n"
     ]
    },
    {
     "name": "stderr",
     "output_type": "stream",
     "text": [
      "100  3914  100  3914    0     0  13259      0 --:--:-- --:--:-- --:--:-- 13450\n",
      "  % Total    % Received % Xferd  Average Speed   Time    Time     Time  Current\n",
      "                                 Dload  Upload   Total   Spent    Left  Speed\n",
      "  0     0    0     0    0     0      0      0 --:--:-- --:--:-- --:--:--     0"
     ]
    },
    {
     "name": "stdout",
     "output_type": "stream",
     "text": [
      "Downloading https://croptalk-spoi.s3.amazonaws.com/SPOI/18_061_90_0043_20101130.pdf to /Users/katerina/Documents/CropGuard/Dec_demo/demo_knowledge/18_061_90_0043_20101130.pdf\n"
     ]
    },
    {
     "name": "stderr",
     "output_type": "stream",
     "text": [
      "100  3913  100  3913    0     0  13966      0 --:--:-- --:--:-- --:--:-- 14177\n",
      "  % Total    % Received % Xferd  Average Speed   Time    Time     Time  Current\n",
      "                                 Dload  Upload   Total   Spent    Left  Speed\n",
      "  0     0    0     0    0     0      0      0 --:--:-- --:--:-- --:--:--     0"
     ]
    },
    {
     "name": "stdout",
     "output_type": "stream",
     "text": [
      "Downloading https://croptalk-spoi.s3.amazonaws.com/SPOI/18_055_90_0043_20101130.pdf to /Users/katerina/Documents/CropGuard/Dec_demo/demo_knowledge/18_055_90_0043_20101130.pdf\n"
     ]
    },
    {
     "name": "stderr",
     "output_type": "stream",
     "text": [
      "100  4056  100  4056    0     0  14596      0 --:--:-- --:--:-- --:--:-- 14857\n",
      "  % Total    % Received % Xferd  Average Speed   Time    Time     Time  Current\n",
      "                                 Dload  Upload   Total   Spent    Left  Speed\n",
      "  0     0    0     0    0     0      0      0 --:--:-- --:--:-- --:--:--     0"
     ]
    },
    {
     "name": "stdout",
     "output_type": "stream",
     "text": [
      "Downloading https://croptalk-spoi.s3.amazonaws.com/SPOI/18_053_90_0043_20101130.pdf to /Users/katerina/Documents/CropGuard/Dec_demo/demo_knowledge/18_053_90_0043_20101130.pdf\n"
     ]
    },
    {
     "name": "stderr",
     "output_type": "stream",
     "text": [
      "100  3911  100  3911    0     0  13884      0 --:--:-- --:--:-- --:--:-- 14119\n",
      "  % Total    % Received % Xferd  Average Speed   Time    Time     Time  Current\n",
      "                                 Dload  Upload   Total   Spent    Left  Speed\n",
      "  0     0    0     0    0     0      0      0 --:--:-- --:--:-- --:--:--     0"
     ]
    },
    {
     "name": "stdout",
     "output_type": "stream",
     "text": [
      "Downloading https://croptalk-spoi.s3.amazonaws.com/SPOI/18_049_90_0043_20101130.pdf to /Users/katerina/Documents/CropGuard/Dec_demo/demo_knowledge/18_049_90_0043_20101130.pdf\n"
     ]
    },
    {
     "name": "stderr",
     "output_type": "stream",
     "text": [
      "100  3913  100  3913    0     0  12778      0 --:--:-- --:--:-- --:--:-- 12956\n",
      "  % Total    % Received % Xferd  Average Speed   Time    Time     Time  Current\n",
      "                                 Dload  Upload   Total   Spent    Left  Speed\n",
      "  0     0    0     0    0     0      0      0 --:--:-- --:--:-- --:--:--     0"
     ]
    },
    {
     "name": "stdout",
     "output_type": "stream",
     "text": [
      "Downloading https://croptalk-spoi.s3.amazonaws.com/SPOI/18_045_90_0043_20101130.pdf to /Users/katerina/Documents/CropGuard/Dec_demo/demo_knowledge/18_045_90_0043_20101130.pdf\n"
     ]
    },
    {
     "name": "stderr",
     "output_type": "stream",
     "text": [
      "100  4057  100  4057    0     0  14738      0 --:--:-- --:--:-- --:--:-- 15025\n",
      "  % Total    % Received % Xferd  Average Speed   Time    Time     Time  Current\n",
      "                                 Dload  Upload   Total   Spent    Left  Speed\n",
      "  0     0    0     0    0     0      0      0 --:--:-- --:--:-- --:--:--     0"
     ]
    },
    {
     "name": "stdout",
     "output_type": "stream",
     "text": [
      "Downloading https://croptalk-spoi.s3.amazonaws.com/SPOI/18_043_90_0043_20101130.pdf to /Users/katerina/Documents/CropGuard/Dec_demo/demo_knowledge/18_043_90_0043_20101130.pdf\n"
     ]
    },
    {
     "name": "stderr",
     "output_type": "stream",
     "text": [
      "100  3909  100  3909    0     0  13149      0 --:--:-- --:--:-- --:--:-- 13295\n",
      "  % Total    % Received % Xferd  Average Speed   Time    Time     Time  Current\n",
      "                                 Dload  Upload   Total   Spent    Left  Speed\n",
      "  0     0    0     0    0     0      0      0 --:--:-- --:--:-- --:--:--     0"
     ]
    },
    {
     "name": "stdout",
     "output_type": "stream",
     "text": [
      "Downloading https://croptalk-spoi.s3.amazonaws.com/SPOI/18_037_90_0043_20101130.pdf to /Users/katerina/Documents/CropGuard/Dec_demo/demo_knowledge/18_037_90_0043_20101130.pdf\n"
     ]
    },
    {
     "name": "stderr",
     "output_type": "stream",
     "text": [
      "100  4054  100  4054    0     0  13181      0 --:--:-- --:--:-- --:--:-- 13335\n",
      "  % Total    % Received % Xferd  Average Speed   Time    Time     Time  Current\n",
      "                                 Dload  Upload   Total   Spent    Left  Speed\n",
      "  0     0    0     0    0     0      0      0 --:--:-- --:--:-- --:--:--     0"
     ]
    },
    {
     "name": "stdout",
     "output_type": "stream",
     "text": [
      "Downloading https://croptalk-spoi.s3.amazonaws.com/SPOI/18_035_90_0043_20101130.pdf to /Users/katerina/Documents/CropGuard/Dec_demo/demo_knowledge/18_035_90_0043_20101130.pdf\n"
     ]
    },
    {
     "name": "stderr",
     "output_type": "stream",
     "text": [
      "100  3915  100  3915    0     0  11777      0 --:--:-- --:--:-- --:--:-- 11899\n",
      "  % Total    % Received % Xferd  Average Speed   Time    Time     Time  Current\n",
      "                                 Dload  Upload   Total   Spent    Left  Speed\n",
      "  0     0    0     0    0     0      0      0 --:--:-- --:--:-- --:--:--     0"
     ]
    },
    {
     "name": "stdout",
     "output_type": "stream",
     "text": [
      "Downloading https://croptalk-spoi.s3.amazonaws.com/SPOI/18_031_90_0043_20101130.pdf to /Users/katerina/Documents/CropGuard/Dec_demo/demo_knowledge/18_031_90_0043_20101130.pdf\n"
     ]
    },
    {
     "name": "stderr",
     "output_type": "stream",
     "text": [
      "100  3913  100  3913    0     0   6651      0 --:--:-- --:--:-- --:--:--  6677\n",
      "  % Total    % Received % Xferd  Average Speed   Time    Time     Time  Current\n",
      "                                 Dload  Upload   Total   Spent    Left  Speed\n",
      "  0     0    0     0    0     0      0      0 --:--:-- --:--:-- --:--:--     0"
     ]
    },
    {
     "name": "stdout",
     "output_type": "stream",
     "text": [
      "Downloading https://croptalk-spoi.s3.amazonaws.com/SPOI/18_027_90_0043_20101130.pdf to /Users/katerina/Documents/CropGuard/Dec_demo/demo_knowledge/18_027_90_0043_20101130.pdf\n"
     ]
    },
    {
     "name": "stderr",
     "output_type": "stream",
     "text": [
      "100  4052  100  4052    0     0   6559      0 --:--:-- --:--:-- --:--:--  6588\n",
      "  % Total    % Received % Xferd  Average Speed   Time    Time     Time  Current\n",
      "                                 Dload  Upload   Total   Spent    Left  Speed\n",
      "  0     0    0     0    0     0      0      0 --:--:-- --:--:-- --:--:--     0"
     ]
    },
    {
     "name": "stdout",
     "output_type": "stream",
     "text": [
      "Downloading https://croptalk-spoi.s3.amazonaws.com/SPOI/18_025_90_0043_20101130.pdf to /Users/katerina/Documents/CropGuard/Dec_demo/demo_knowledge/18_025_90_0043_20101130.pdf\n"
     ]
    },
    {
     "name": "stderr",
     "output_type": "stream",
     "text": [
      "100  4055  100  4055    0     0   5491      0 --:--:-- --:--:-- --:--:--  5524\n",
      "  % Total    % Received % Xferd  Average Speed   Time    Time     Time  Current\n",
      "                                 Dload  Upload   Total   Spent    Left  Speed\n",
      "  0     0    0     0    0     0      0      0 --:--:-- --:--:-- --:--:--     0"
     ]
    },
    {
     "name": "stdout",
     "output_type": "stream",
     "text": [
      "Downloading https://croptalk-spoi.s3.amazonaws.com/SPOI/18_023_90_0043_20101130.pdf to /Users/katerina/Documents/CropGuard/Dec_demo/demo_knowledge/18_023_90_0043_20101130.pdf\n"
     ]
    },
    {
     "name": "stderr",
     "output_type": "stream",
     "text": [
      "100  3914  100  3914    0     0   3542      0  0:00:01  0:00:01 --:--:--  3554\n",
      "  % Total    % Received % Xferd  Average Speed   Time    Time     Time  Current\n",
      "                                 Dload  Upload   Total   Spent    Left  Speed\n",
      "  0     0    0     0    0     0      0      0 --:--:-- --:--:-- --:--:--     0"
     ]
    },
    {
     "name": "stdout",
     "output_type": "stream",
     "text": [
      "Downloading https://croptalk-spoi.s3.amazonaws.com/SPOI/18_019_90_0043_20101130.pdf to /Users/katerina/Documents/CropGuard/Dec_demo/demo_knowledge/18_019_90_0043_20101130.pdf\n"
     ]
    },
    {
     "name": "stderr",
     "output_type": "stream",
     "text": [
      "100  3912  100  3912    0     0   7936      0 --:--:-- --:--:-- --:--:--  8016\n",
      "  % Total    % Received % Xferd  Average Speed   Time    Time     Time  Current\n",
      "                                 Dload  Upload   Total   Spent    Left  Speed\n",
      "  0     0    0     0    0     0      0      0 --:--:-- --:--:-- --:--:--     0"
     ]
    },
    {
     "name": "stdout",
     "output_type": "stream",
     "text": [
      "Downloading https://croptalk-spoi.s3.amazonaws.com/SPOI/18_017_90_0043_20101130.pdf to /Users/katerina/Documents/CropGuard/Dec_demo/demo_knowledge/18_017_90_0043_20101130.pdf\n"
     ]
    },
    {
     "name": "stderr",
     "output_type": "stream",
     "text": [
      "100  3912  100  3912    0     0   7163      0 --:--:-- --:--:-- --:--:--  7204\n",
      "  % Total    % Received % Xferd  Average Speed   Time    Time     Time  Current\n",
      "                                 Dload  Upload   Total   Spent    Left  Speed\n",
      "  0     0    0     0    0     0      0      0 --:--:-- --:--:-- --:--:--     0"
     ]
    },
    {
     "name": "stdout",
     "output_type": "stream",
     "text": [
      "Downloading https://croptalk-spoi.s3.amazonaws.com/SPOI/18_015_90_0043_20101130.pdf to /Users/katerina/Documents/CropGuard/Dec_demo/demo_knowledge/18_015_90_0043_20101130.pdf\n"
     ]
    },
    {
     "name": "stderr",
     "output_type": "stream",
     "text": [
      "100  3914  100  3914    0     0  14591      0 --:--:-- --:--:-- --:--:-- 14825\n",
      "  % Total    % Received % Xferd  Average Speed   Time    Time     Time  Current\n",
      "                                 Dload  Upload   Total   Spent    Left  Speed\n",
      "  0     0    0     0    0     0      0      0 --:--:-- --:--:-- --:--:--     0"
     ]
    },
    {
     "name": "stdout",
     "output_type": "stream",
     "text": [
      "Downloading https://croptalk-spoi.s3.amazonaws.com/SPOI/18_009_90_0043_20101130.pdf to /Users/katerina/Documents/CropGuard/Dec_demo/demo_knowledge/18_009_90_0043_20101130.pdf\n"
     ]
    },
    {
     "name": "stderr",
     "output_type": "stream",
     "text": [
      "100  4057  100  4057    0     0  15117      0 --:--:-- --:--:-- --:--:-- 15309\n",
      "  % Total    % Received % Xferd  Average Speed   Time    Time     Time  Current\n",
      "                                 Dload  Upload   Total   Spent    Left  Speed\n",
      "  0     0    0     0    0     0      0      0 --:--:-- --:--:-- --:--:--     0"
     ]
    },
    {
     "name": "stdout",
     "output_type": "stream",
     "text": [
      "Downloading https://croptalk-spoi.s3.amazonaws.com/SPOI/18_007_90_0043_20101130.pdf to /Users/katerina/Documents/CropGuard/Dec_demo/demo_knowledge/18_007_90_0043_20101130.pdf\n"
     ]
    },
    {
     "name": "stderr",
     "output_type": "stream",
     "text": [
      "100  3916  100  3916    0     0  14103      0 --:--:-- --:--:-- --:--:-- 14240\n",
      "  % Total    % Received % Xferd  Average Speed   Time    Time     Time  Current\n",
      "                                 Dload  Upload   Total   Spent    Left  Speed\n",
      "  0     0    0     0    0     0      0      0 --:--:-- --:--:-- --:--:--     0"
     ]
    },
    {
     "name": "stdout",
     "output_type": "stream",
     "text": [
      "Downloading https://croptalk-spoi.s3.amazonaws.com/SPOI/18_005_90_0043_20101130.pdf to /Users/katerina/Documents/CropGuard/Dec_demo/demo_knowledge/18_005_90_0043_20101130.pdf\n"
     ]
    },
    {
     "name": "stderr",
     "output_type": "stream",
     "text": [
      "100  3917  100  3917    0     0  14346      0 --:--:-- --:--:-- --:--:-- 14507\n",
      "  % Total    % Received % Xferd  Average Speed   Time    Time     Time  Current\n",
      "                                 Dload  Upload   Total   Spent    Left  Speed\n",
      "  0     0    0     0    0     0      0      0 --:--:-- --:--:-- --:--:--     0"
     ]
    },
    {
     "name": "stdout",
     "output_type": "stream",
     "text": [
      "Downloading https://croptalk-spoi.s3.amazonaws.com/SPOI/18_001_90_0043_20101130.pdf to /Users/katerina/Documents/CropGuard/Dec_demo/demo_knowledge/18_001_90_0043_20101130.pdf\n"
     ]
    },
    {
     "name": "stderr",
     "output_type": "stream",
     "text": [
      "100  3911  100  3911    0     0  15231      0 --:--:-- --:--:-- --:--:-- 15458\n",
      "  % Total    % Received % Xferd  Average Speed   Time    Time     Time  Current\n",
      "                                 Dload  Upload   Total   Spent    Left  Speed\n",
      "  0     0    0     0    0     0      0      0 --:--:-- --:--:-- --:--:--     0"
     ]
    },
    {
     "name": "stdout",
     "output_type": "stream",
     "text": [
      "Downloading https://croptalk-spoi.s3.amazonaws.com/SPOI/17_199_90_0043_20101130.pdf to /Users/katerina/Documents/CropGuard/Dec_demo/demo_knowledge/17_199_90_0043_20101130.pdf\n"
     ]
    },
    {
     "name": "stderr",
     "output_type": "stream",
     "text": [
      "100  4052  100  4052    0     0  14347      0 --:--:-- --:--:-- --:--:-- 14523\n",
      "  % Total    % Received % Xferd  Average Speed   Time    Time     Time  Current\n",
      "                                 Dload  Upload   Total   Spent    Left  Speed\n",
      "  0     0    0     0    0     0      0      0 --:--:-- --:--:-- --:--:--     0"
     ]
    },
    {
     "name": "stdout",
     "output_type": "stream",
     "text": [
      "Downloading https://croptalk-spoi.s3.amazonaws.com/SPOI/17_195_90_0043_20101130.pdf to /Users/katerina/Documents/CropGuard/Dec_demo/demo_knowledge/17_195_90_0043_20101130.pdf\n"
     ]
    },
    {
     "name": "stderr",
     "output_type": "stream",
     "text": [
      "100  4049  100  4049    0     0  12687      0 --:--:-- --:--:-- --:--:-- 12853\n",
      "  % Total    % Received % Xferd  Average Speed   Time    Time     Time  Current\n",
      "                                 Dload  Upload   Total   Spent    Left  Speed\n",
      "  0     0    0     0    0     0      0      0 --:--:-- --:--:-- --:--:--     0"
     ]
    },
    {
     "name": "stdout",
     "output_type": "stream",
     "text": [
      "Downloading https://croptalk-spoi.s3.amazonaws.com/SPOI/17_193_90_0043_20101130.pdf to /Users/katerina/Documents/CropGuard/Dec_demo/demo_knowledge/17_193_90_0043_20101130.pdf\n"
     ]
    },
    {
     "name": "stderr",
     "output_type": "stream",
     "text": [
      "100  4051  100  4051    0     0  10769      0 --:--:-- --:--:-- --:--:-- 10978\n",
      "  % Total    % Received % Xferd  Average Speed   Time    Time     Time  Current\n",
      "                                 Dload  Upload   Total   Spent    Left  Speed\n",
      "  0     0    0     0    0     0      0      0 --:--:-- --:--:-- --:--:--     0"
     ]
    },
    {
     "name": "stdout",
     "output_type": "stream",
     "text": [
      "Downloading https://croptalk-spoi.s3.amazonaws.com/SPOI/18_077_90_0043_20101130.pdf to /Users/katerina/Documents/CropGuard/Dec_demo/demo_knowledge/18_077_90_0043_20101130.pdf\n"
     ]
    },
    {
     "name": "stderr",
     "output_type": "stream",
     "text": [
      "100  3919  100  3919    0     0  13253      0 --:--:-- --:--:-- --:--:-- 13467\n",
      "  % Total    % Received % Xferd  Average Speed   Time    Time     Time  Current\n",
      "                                 Dload  Upload   Total   Spent    Left  Speed\n",
      "  0     0    0     0    0     0      0      0 --:--:-- --:--:-- --:--:--     0"
     ]
    },
    {
     "name": "stdout",
     "output_type": "stream",
     "text": [
      "Downloading https://croptalk-spoi.s3.amazonaws.com/SPOI/18_083_90_0043_20101130.pdf to /Users/katerina/Documents/CropGuard/Dec_demo/demo_knowledge/18_083_90_0043_20101130.pdf\n"
     ]
    },
    {
     "name": "stderr",
     "output_type": "stream",
     "text": [
      "100  4053  100  4053    0     0  15290      0 --:--:-- --:--:-- --:--:-- 15528\n",
      "  % Total    % Received % Xferd  Average Speed   Time    Time     Time  Current\n",
      "                                 Dload  Upload   Total   Spent    Left  Speed\n",
      "  0     0    0     0    0     0      0      0 --:--:-- --:--:-- --:--:--     0"
     ]
    },
    {
     "name": "stdout",
     "output_type": "stream",
     "text": [
      "Downloading https://croptalk-spoi.s3.amazonaws.com/SPOI/18_085_90_0043_20101130.pdf to /Users/katerina/Documents/CropGuard/Dec_demo/demo_knowledge/18_085_90_0043_20101130.pdf\n"
     ]
    },
    {
     "name": "stderr",
     "output_type": "stream",
     "text": [
      "100  3918  100  3918    0     0  11506      0 --:--:-- --:--:-- --:--:-- 11660\n",
      "  % Total    % Received % Xferd  Average Speed   Time    Time     Time  Current\n",
      "                                 Dload  Upload   Total   Spent    Left  Speed\n",
      "  0     0    0     0    0     0      0      0 --:--:-- --:--:-- --:--:--     0"
     ]
    },
    {
     "name": "stdout",
     "output_type": "stream",
     "text": [
      "Downloading https://croptalk-spoi.s3.amazonaws.com/SPOI/18_087_90_0043_20101130.pdf to /Users/katerina/Documents/CropGuard/Dec_demo/demo_knowledge/18_087_90_0043_20101130.pdf\n"
     ]
    },
    {
     "name": "stderr",
     "output_type": "stream",
     "text": [
      "100  3916  100  3916    0     0  11849      0 --:--:-- --:--:-- --:--:-- 11975\n",
      "  % Total    % Received % Xferd  Average Speed   Time    Time     Time  Current\n",
      "                                 Dload  Upload   Total   Spent    Left  Speed\n",
      "  0     0    0     0    0     0      0      0 --:--:-- --:--:-- --:--:--     0"
     ]
    },
    {
     "name": "stdout",
     "output_type": "stream",
     "text": [
      "Downloading https://croptalk-spoi.s3.amazonaws.com/SPOI/19_011_90_0043_20101130.pdf to /Users/katerina/Documents/CropGuard/Dec_demo/demo_knowledge/19_011_90_0043_20101130.pdf\n"
     ]
    },
    {
     "name": "stderr",
     "output_type": "stream",
     "text": [
      "100  3693  100  3693    0     0  11453      0 --:--:-- --:--:-- --:--:-- 11613\n",
      "  % Total    % Received % Xferd  Average Speed   Time    Time     Time  Current\n",
      "                                 Dload  Upload   Total   Spent    Left  Speed\n",
      "  0     0    0     0    0     0      0      0 --:--:-- --:--:-- --:--:--     0"
     ]
    },
    {
     "name": "stdout",
     "output_type": "stream",
     "text": [
      "Downloading https://croptalk-spoi.s3.amazonaws.com/SPOI/19_009_90_0043_20101130.pdf to /Users/katerina/Documents/CropGuard/Dec_demo/demo_knowledge/19_009_90_0043_20101130.pdf\n"
     ]
    },
    {
     "name": "stderr",
     "output_type": "stream",
     "text": [
      "100  3549  100  3549    0     0  11802      0 --:--:-- --:--:-- --:--:-- 11989\n",
      "  % Total    % Received % Xferd  Average Speed   Time    Time     Time  Current\n",
      "                                 Dload  Upload   Total   Spent    Left  Speed\n",
      "  0     0    0     0    0     0      0      0 --:--:-- --:--:-- --:--:--     0"
     ]
    },
    {
     "name": "stdout",
     "output_type": "stream",
     "text": [
      "Downloading https://croptalk-spoi.s3.amazonaws.com/SPOI/19_003_90_0043_20101130.pdf to /Users/katerina/Documents/CropGuard/Dec_demo/demo_knowledge/19_003_90_0043_20101130.pdf\n"
     ]
    },
    {
     "name": "stderr",
     "output_type": "stream",
     "text": [
      "100  3547  100  3547    0     0   9033      0 --:--:-- --:--:-- --:--:--  9118\n",
      "  % Total    % Received % Xferd  Average Speed   Time    Time     Time  Current\n",
      "                                 Dload  Upload   Total   Spent    Left  Speed\n",
      "  0     0    0     0    0     0      0      0 --:--:-- --:--:-- --:--:--     0"
     ]
    },
    {
     "name": "stdout",
     "output_type": "stream",
     "text": [
      "Downloading https://croptalk-spoi.s3.amazonaws.com/SPOI/19_001_90_0043_20101130.pdf to /Users/katerina/Documents/CropGuard/Dec_demo/demo_knowledge/19_001_90_0043_20101130.pdf\n"
     ]
    },
    {
     "name": "stderr",
     "output_type": "stream",
     "text": [
      "100  3548  100  3548    0     0  10236      0 --:--:-- --:--:-- --:--:-- 10404\n",
      "  % Total    % Received % Xferd  Average Speed   Time    Time     Time  Current\n",
      "                                 Dload  Upload   Total   Spent    Left  Speed\n",
      "  0     0    0     0    0     0      0      0 --:--:-- --:--:-- --:--:--     0"
     ]
    },
    {
     "name": "stdout",
     "output_type": "stream",
     "text": [
      "Downloading https://croptalk-spoi.s3.amazonaws.com/SPOI/18_181_90_0043_20101130.pdf to /Users/katerina/Documents/CropGuard/Dec_demo/demo_knowledge/18_181_90_0043_20101130.pdf\n"
     ]
    },
    {
     "name": "stderr",
     "output_type": "stream",
     "text": [
      "100  3912  100  3912    0     0  14543      0 --:--:-- --:--:-- --:--:-- 14706\n",
      "  % Total    % Received % Xferd  Average Speed   Time    Time     Time  Current\n",
      "                                 Dload  Upload   Total   Spent    Left  Speed\n",
      "  0     0    0     0    0     0      0      0 --:--:-- --:--:-- --:--:--     0"
     ]
    },
    {
     "name": "stdout",
     "output_type": "stream",
     "text": [
      "Downloading https://croptalk-spoi.s3.amazonaws.com/SPOI/18_179_90_0043_20101130.pdf to /Users/katerina/Documents/CropGuard/Dec_demo/demo_knowledge/18_179_90_0043_20101130.pdf\n"
     ]
    },
    {
     "name": "stderr",
     "output_type": "stream",
     "text": [
      "100  3909  100  3909    0     0  14348      0 --:--:-- --:--:-- --:--:-- 14477\n",
      "  % Total    % Received % Xferd  Average Speed   Time    Time     Time  Current\n",
      "                                 Dload  Upload   Total   Spent    Left  Speed\n",
      "  0     0    0     0    0     0      0      0 --:--:-- --:--:-- --:--:--     0"
     ]
    },
    {
     "name": "stdout",
     "output_type": "stream",
     "text": [
      "Downloading https://croptalk-spoi.s3.amazonaws.com/SPOI/18_177_90_0043_20101130.pdf to /Users/katerina/Documents/CropGuard/Dec_demo/demo_knowledge/18_177_90_0043_20101130.pdf\n"
     ]
    },
    {
     "name": "stderr",
     "output_type": "stream",
     "text": [
      "100  3914  100  3914    0     0  12878      0 --:--:-- --:--:-- --:--:-- 13003\n",
      "  % Total    % Received % Xferd  Average Speed   Time    Time     Time  Current\n",
      "                                 Dload  Upload   Total   Spent    Left  Speed\n",
      "  0     0    0     0    0     0      0      0 --:--:-- --:--:-- --:--:--     0"
     ]
    },
    {
     "name": "stdout",
     "output_type": "stream",
     "text": [
      "Downloading https://croptalk-spoi.s3.amazonaws.com/SPOI/18_175_90_0043_20101130.pdf to /Users/katerina/Documents/CropGuard/Dec_demo/demo_knowledge/18_175_90_0043_20101130.pdf\n"
     ]
    },
    {
     "name": "stderr",
     "output_type": "stream",
     "text": [
      "100  3917  100  3917    0     0  11845      0 --:--:-- --:--:-- --:--:-- 11978\n",
      "  % Total    % Received % Xferd  Average Speed   Time    Time     Time  Current\n",
      "                                 Dload  Upload   Total   Spent    Left  Speed\n",
      "  0     0    0     0    0     0      0      0 --:--:-- --:--:-- --:--:--     0"
     ]
    },
    {
     "name": "stdout",
     "output_type": "stream",
     "text": [
      "Downloading https://croptalk-spoi.s3.amazonaws.com/SPOI/18_171_90_0043_20101130.pdf to /Users/katerina/Documents/CropGuard/Dec_demo/demo_knowledge/18_171_90_0043_20101130.pdf\n"
     ]
    },
    {
     "name": "stderr",
     "output_type": "stream",
     "text": [
      "100  4052  100  4052    0     0  12408      0 --:--:-- --:--:-- --:--:-- 12544\n",
      "  % Total    % Received % Xferd  Average Speed   Time    Time     Time  Current\n",
      "                                 Dload  Upload   Total   Spent    Left  Speed\n",
      "  0     0    0     0    0     0      0      0 --:--:-- --:--:-- --:--:--     0"
     ]
    },
    {
     "name": "stdout",
     "output_type": "stream",
     "text": [
      "Downloading https://croptalk-spoi.s3.amazonaws.com/SPOI/18_169_90_0043_20101130.pdf to /Users/katerina/Documents/CropGuard/Dec_demo/demo_knowledge/18_169_90_0043_20101130.pdf\n"
     ]
    },
    {
     "name": "stderr",
     "output_type": "stream",
     "text": [
      "100  3912  100  3912    0     0  13772      0 --:--:-- --:--:-- --:--:-- 13971\n",
      "  % Total    % Received % Xferd  Average Speed   Time    Time     Time  Current\n",
      "                                 Dload  Upload   Total   Spent    Left  Speed\n",
      "  0     0    0     0    0     0      0      0 --:--:-- --:--:-- --:--:--     0"
     ]
    },
    {
     "name": "stdout",
     "output_type": "stream",
     "text": [
      "Downloading https://croptalk-spoi.s3.amazonaws.com/SPOI/18_167_90_0043_20101130.pdf to /Users/katerina/Documents/CropGuard/Dec_demo/demo_knowledge/18_167_90_0043_20101130.pdf\n"
     ]
    },
    {
     "name": "stderr",
     "output_type": "stream",
     "text": [
      "100  4053  100  4053    0     0  14657      0 --:--:-- --:--:-- --:--:-- 14900\n",
      "  % Total    % Received % Xferd  Average Speed   Time    Time     Time  Current\n",
      "                                 Dload  Upload   Total   Spent    Left  Speed\n",
      "  0     0    0     0    0     0      0      0 --:--:-- --:--:-- --:--:--     0"
     ]
    },
    {
     "name": "stdout",
     "output_type": "stream",
     "text": [
      "Downloading https://croptalk-spoi.s3.amazonaws.com/SPOI/18_161_90_0043_20101130.pdf to /Users/katerina/Documents/CropGuard/Dec_demo/demo_knowledge/18_161_90_0043_20101130.pdf\n"
     ]
    },
    {
     "name": "stderr",
     "output_type": "stream",
     "text": [
      "100  3909  100  3909    0     0  14241      0 --:--:-- --:--:-- --:--:-- 14371\n",
      "  % Total    % Received % Xferd  Average Speed   Time    Time     Time  Current\n",
      "                                 Dload  Upload   Total   Spent    Left  Speed\n",
      "  0     0    0     0    0     0      0      0 --:--:-- --:--:-- --:--:--     0"
     ]
    },
    {
     "name": "stdout",
     "output_type": "stream",
     "text": [
      "Downloading https://croptalk-spoi.s3.amazonaws.com/SPOI/18_159_90_0043_20101130.pdf to /Users/katerina/Documents/CropGuard/Dec_demo/demo_knowledge/18_159_90_0043_20101130.pdf\n"
     ]
    },
    {
     "name": "stderr",
     "output_type": "stream",
     "text": [
      "100  3911  100  3911    0     0  13755      0 --:--:-- --:--:-- --:--:-- 13967\n",
      "  % Total    % Received % Xferd  Average Speed   Time    Time     Time  Current\n",
      "                                 Dload  Upload   Total   Spent    Left  Speed\n",
      "  0     0    0     0    0     0      0      0 --:--:-- --:--:-- --:--:--     0"
     ]
    },
    {
     "name": "stdout",
     "output_type": "stream",
     "text": [
      "Downloading https://croptalk-spoi.s3.amazonaws.com/SPOI/19_015_90_0043_20101130.pdf to /Users/katerina/Documents/CropGuard/Dec_demo/demo_knowledge/19_015_90_0043_20101130.pdf\n"
     ]
    },
    {
     "name": "stderr",
     "output_type": "stream",
     "text": [
      "100  3549  100  3549    0     0  10459      0 --:--:-- --:--:-- --:--:-- 10594\n",
      "  % Total    % Received % Xferd  Average Speed   Time    Time     Time  Current\n",
      "                                 Dload  Upload   Total   Spent    Left  Speed\n",
      "  0     0    0     0    0     0      0      0 --:--:-- --:--:-- --:--:--     0"
     ]
    },
    {
     "name": "stdout",
     "output_type": "stream",
     "text": [
      "Downloading https://croptalk-spoi.s3.amazonaws.com/SPOI/18_157_90_0043_20101130.pdf to /Users/katerina/Documents/CropGuard/Dec_demo/demo_knowledge/18_157_90_0043_20101130.pdf\n"
     ]
    },
    {
     "name": "stderr",
     "output_type": "stream",
     "text": [
      "100  4058  100  4058    0     0  12435      0 --:--:-- --:--:-- --:--:-- 12563\n",
      "  % Total    % Received % Xferd  Average Speed   Time    Time     Time  Current\n",
      "                                 Dload  Upload   Total   Spent    Left  Speed\n",
      "  0     0    0     0    0     0      0      0 --:--:-- --:--:-- --:--:--     0"
     ]
    },
    {
     "name": "stdout",
     "output_type": "stream",
     "text": [
      "Downloading https://croptalk-spoi.s3.amazonaws.com/SPOI/18_149_90_0043_20101130.pdf to /Users/katerina/Documents/CropGuard/Dec_demo/demo_knowledge/18_149_90_0043_20101130.pdf\n"
     ]
    },
    {
     "name": "stderr",
     "output_type": "stream",
     "text": [
      "100  4054  100  4054    0     0  11417      0 --:--:-- --:--:-- --:--:-- 11549\n",
      "  % Total    % Received % Xferd  Average Speed   Time    Time     Time  Current\n",
      "                                 Dload  Upload   Total   Spent    Left  Speed\n",
      "  0     0    0     0    0     0      0      0 --:--:-- --:--:-- --:--:--     0"
     ]
    },
    {
     "name": "stdout",
     "output_type": "stream",
     "text": [
      "Downloading https://croptalk-spoi.s3.amazonaws.com/SPOI/18_147_90_0043_20101130.pdf to /Users/katerina/Documents/CropGuard/Dec_demo/demo_knowledge/18_147_90_0043_20101130.pdf\n"
     ]
    },
    {
     "name": "stderr",
     "output_type": "stream",
     "text": [
      "100  4054  100  4054    0     0  13989      0 --:--:-- --:--:-- --:--:-- 14224\n",
      "  % Total    % Received % Xferd  Average Speed   Time    Time     Time  Current\n",
      "                                 Dload  Upload   Total   Spent    Left  Speed\n",
      "  0     0    0     0    0     0      0      0 --:--:-- --:--:-- --:--:--     0"
     ]
    },
    {
     "name": "stdout",
     "output_type": "stream",
     "text": [
      "Downloading https://croptalk-spoi.s3.amazonaws.com/SPOI/18_145_90_0043_20101130.pdf to /Users/katerina/Documents/CropGuard/Dec_demo/demo_knowledge/18_145_90_0043_20101130.pdf\n"
     ]
    },
    {
     "name": "stderr",
     "output_type": "stream",
     "text": [
      "100  3913  100  3913    0     0  10553      0 --:--:-- --:--:-- --:--:-- 10633\n",
      "  % Total    % Received % Xferd  Average Speed   Time    Time     Time  Current\n",
      "                                 Dload  Upload   Total   Spent    Left  Speed\n",
      "  0     0    0     0    0     0      0      0 --:--:-- --:--:-- --:--:--     0"
     ]
    },
    {
     "name": "stdout",
     "output_type": "stream",
     "text": [
      "Downloading https://croptalk-spoi.s3.amazonaws.com/SPOI/18_143_90_0043_20101130.pdf to /Users/katerina/Documents/CropGuard/Dec_demo/demo_knowledge/18_143_90_0043_20101130.pdf\n"
     ]
    },
    {
     "name": "stderr",
     "output_type": "stream",
     "text": [
      "100  4050  100  4050    0     0  14074      0 --:--:-- --:--:-- --:--:-- 14310\n",
      "  % Total    % Received % Xferd  Average Speed   Time    Time     Time  Current\n",
      "                                 Dload  Upload   Total   Spent    Left  Speed\n",
      "  0     0    0     0    0     0      0      0 --:--:-- --:--:-- --:--:--     0"
     ]
    },
    {
     "name": "stdout",
     "output_type": "stream",
     "text": [
      "Downloading https://croptalk-spoi.s3.amazonaws.com/SPOI/18_141_90_0043_20101130.pdf to /Users/katerina/Documents/CropGuard/Dec_demo/demo_knowledge/18_141_90_0043_20101130.pdf\n"
     ]
    },
    {
     "name": "stderr",
     "output_type": "stream",
     "text": [
      "100  3914  100  3914    0     0  12297      0 --:--:-- --:--:-- --:--:-- 12425\n",
      "  % Total    % Received % Xferd  Average Speed   Time    Time     Time  Current\n",
      "                                 Dload  Upload   Total   Spent    Left  Speed\n",
      "  0     0    0     0    0     0      0      0 --:--:-- --:--:-- --:--:--     0"
     ]
    },
    {
     "name": "stdout",
     "output_type": "stream",
     "text": [
      "Downloading https://croptalk-spoi.s3.amazonaws.com/SPOI/18_135_90_0043_20101130.pdf to /Users/katerina/Documents/CropGuard/Dec_demo/demo_knowledge/18_135_90_0043_20101130.pdf\n"
     ]
    },
    {
     "name": "stderr",
     "output_type": "stream",
     "text": [
      "100  3913  100  3913    0     0  10321      0 --:--:-- --:--:-- --:--:-- 10379\n",
      "  % Total    % Received % Xferd  Average Speed   Time    Time     Time  Current\n",
      "                                 Dload  Upload   Total   Spent    Left  Speed\n",
      "  0     0    0     0    0     0      0      0 --:--:-- --:--:-- --:--:--     0"
     ]
    },
    {
     "name": "stdout",
     "output_type": "stream",
     "text": [
      "Downloading https://croptalk-spoi.s3.amazonaws.com/SPOI/18_131_90_0043_20101130.pdf to /Users/katerina/Documents/CropGuard/Dec_demo/demo_knowledge/18_131_90_0043_20101130.pdf\n"
     ]
    },
    {
     "name": "stderr",
     "output_type": "stream",
     "text": [
      "100  3910  100  3910    0     0  13586      0 --:--:-- --:--:-- --:--:-- 13719\n",
      "  % Total    % Received % Xferd  Average Speed   Time    Time     Time  Current\n",
      "                                 Dload  Upload   Total   Spent    Left  Speed\n",
      "  0     0    0     0    0     0      0      0 --:--:-- --:--:-- --:--:--     0"
     ]
    },
    {
     "name": "stdout",
     "output_type": "stream",
     "text": [
      "Downloading https://croptalk-spoi.s3.amazonaws.com/SPOI/18_127_90_0043_20101130.pdf to /Users/katerina/Documents/CropGuard/Dec_demo/demo_knowledge/18_127_90_0043_20101130.pdf\n"
     ]
    },
    {
     "name": "stderr",
     "output_type": "stream",
     "text": [
      "100  4052  100  4052    0     0   5077      0 --:--:-- --:--:-- --:--:--  5090\n"
     ]
    },
    {
     "name": "stdout",
     "output_type": "stream",
     "text": [
      "Downloading https://croptalk-spoi.s3.amazonaws.com/SPOI/18_111_90_0043_20101130.pdf to /Users/katerina/Documents/CropGuard/Dec_demo/demo_knowledge/18_111_90_0043_20101130.pdf\n"
     ]
    },
    {
     "name": "stderr",
     "output_type": "stream",
     "text": [
      "  % Total    % Received % Xferd  Average Speed   Time    Time     Time  Current\n",
      "                                 Dload  Upload   Total   Spent    Left  Speed\n",
      "100  4052  100  4052    0     0   4894      0 --:--:-- --:--:-- --:--:--  4917\n",
      "  % Total    % Received % Xferd  Average Speed   Time    Time     Time  Current\n",
      "                                 Dload  Upload   Total   Spent    Left  Speed\n",
      "  0     0    0     0    0     0      0      0 --:--:-- --:--:-- --:--:--     0"
     ]
    },
    {
     "name": "stdout",
     "output_type": "stream",
     "text": [
      "Downloading https://croptalk-spoi.s3.amazonaws.com/SPOI/18_103_90_0043_20101130.pdf to /Users/katerina/Documents/CropGuard/Dec_demo/demo_knowledge/18_103_90_0043_20101130.pdf\n"
     ]
    },
    {
     "name": "stderr",
     "output_type": "stream",
     "text": [
      "100  3911  100  3911    0     0   5693      0 --:--:-- --:--:-- --:--:--  5726\n",
      "  % Total    % Received % Xferd  Average Speed   Time    Time     Time  Current\n",
      "                                 Dload  Upload   Total   Spent    Left  Speed\n",
      "  0     0    0     0    0     0      0      0 --:--:-- --:--:-- --:--:--     0"
     ]
    },
    {
     "name": "stdout",
     "output_type": "stream",
     "text": [
      "Downloading https://croptalk-spoi.s3.amazonaws.com/SPOI/18_099_90_0043_20101130.pdf to /Users/katerina/Documents/CropGuard/Dec_demo/demo_knowledge/18_099_90_0043_20101130.pdf\n"
     ]
    },
    {
     "name": "stderr",
     "output_type": "stream",
     "text": [
      "100  3912  100  3912    0     0   5272      0 --:--:-- --:--:-- --:--:--  5293\n",
      "  % Total    % Received % Xferd  Average Speed   Time    Time     Time  Current\n",
      "                                 Dload  Upload   Total   Spent    Left  Speed\n",
      "  0     0    0     0    0     0      0      0 --:--:-- --:--:-- --:--:--     0"
     ]
    },
    {
     "name": "stdout",
     "output_type": "stream",
     "text": [
      "Downloading https://croptalk-spoi.s3.amazonaws.com/SPOI/18_095_90_0043_20101130.pdf to /Users/katerina/Documents/CropGuard/Dec_demo/demo_knowledge/18_095_90_0043_20101130.pdf\n"
     ]
    },
    {
     "name": "stderr",
     "output_type": "stream",
     "text": [
      "100  3916  100  3916    0     0   8603      0 --:--:-- --:--:-- --:--:--  8663\n",
      "  % Total    % Received % Xferd  Average Speed   Time    Time     Time  Current\n",
      "                                 Dload  Upload   Total   Spent    Left  Speed\n",
      "  0     0    0     0    0     0      0      0 --:--:-- --:--:-- --:--:--     0"
     ]
    },
    {
     "name": "stdout",
     "output_type": "stream",
     "text": [
      "Downloading https://croptalk-spoi.s3.amazonaws.com/SPOI/18_089_90_0043_20101130.pdf to /Users/katerina/Documents/CropGuard/Dec_demo/demo_knowledge/18_089_90_0043_20101130.pdf\n"
     ]
    },
    {
     "name": "stderr",
     "output_type": "stream",
     "text": [
      "100  3914  100  3914    0     0   8460      0 --:--:-- --:--:-- --:--:--  8545\n",
      "  % Total    % Received % Xferd  Average Speed   Time    Time     Time  Current\n",
      "                                 Dload  Upload   Total   Spent    Left  Speed\n",
      "  0     0    0     0    0     0      0      0 --:--:-- --:--:-- --:--:--     0"
     ]
    },
    {
     "name": "stdout",
     "output_type": "stream",
     "text": [
      "Downloading https://croptalk-spoi.s3.amazonaws.com/SPOI/18_153_90_0043_20101130.pdf to /Users/katerina/Documents/CropGuard/Dec_demo/demo_knowledge/18_153_90_0043_20101130.pdf\n"
     ]
    },
    {
     "name": "stderr",
     "output_type": "stream",
     "text": [
      "100  4052  100  4052    0     0  14066      0 --:--:-- --:--:-- --:--:-- 14217\n",
      "  % Total    % Received % Xferd  Average Speed   Time    Time     Time  Current\n",
      "                                 Dload  Upload   Total   Spent    Left  Speed\n",
      "  0     0    0     0    0     0      0      0 --:--:-- --:--:-- --:--:--     0"
     ]
    },
    {
     "name": "stdout",
     "output_type": "stream",
     "text": [
      "Downloading https://croptalk-spoi.s3.amazonaws.com/SPOI/28_037_01_0021_20101130.pdf to /Users/katerina/Documents/CropGuard/Dec_demo/demo_knowledge/28_037_01_0021_20101130.pdf\n"
     ]
    },
    {
     "name": "stderr",
     "output_type": "stream",
     "text": [
      "100  6262  100  6262    0     0  18863      0 --:--:-- --:--:-- --:--:-- 18975\n",
      "  % Total    % Received % Xferd  Average Speed   Time    Time     Time  Current\n",
      "                                 Dload  Upload   Total   Spent    Left  Speed\n",
      "  0     0    0     0    0     0      0      0 --:--:-- --:--:-- --:--:--     0"
     ]
    },
    {
     "name": "stdout",
     "output_type": "stream",
     "text": [
      "Downloading https://croptalk-spoi.s3.amazonaws.com/SPOI/28_045_01_0021_20101130.pdf to /Users/katerina/Documents/CropGuard/Dec_demo/demo_knowledge/28_045_01_0021_20101130.pdf\n"
     ]
    },
    {
     "name": "stderr",
     "output_type": "stream",
     "text": [
      "100  6267  100  6267    0     0  19780      0 --:--:-- --:--:-- --:--:-- 20022\n",
      "  % Total    % Received % Xferd  Average Speed   Time    Time     Time  Current\n",
      "                                 Dload  Upload   Total   Spent    Left  Speed\n",
      "  0     0    0     0    0     0      0      0 --:--:-- --:--:-- --:--:--     0"
     ]
    },
    {
     "name": "stdout",
     "output_type": "stream",
     "text": [
      "Downloading https://croptalk-spoi.s3.amazonaws.com/SPOI/28_023_01_0021_20101130.pdf to /Users/katerina/Documents/CropGuard/Dec_demo/demo_knowledge/28_023_01_0021_20101130.pdf\n"
     ]
    },
    {
     "name": "stderr",
     "output_type": "stream",
     "text": [
      "100  6258  100  6258    0     0  20761      0 --:--:-- --:--:-- --:--:-- 21000\n",
      "  % Total    % Received % Xferd  Average Speed   Time    Time     Time  Current\n",
      "                                 Dload  Upload   Total   Spent    Left  Speed\n",
      "  0     0    0     0    0     0      0      0 --:--:-- --:--:-- --:--:--     0"
     ]
    },
    {
     "name": "stdout",
     "output_type": "stream",
     "text": [
      "Downloading https://croptalk-spoi.s3.amazonaws.com/SPOI/22_027_01_0021_20101130.pdf to /Users/katerina/Documents/CropGuard/Dec_demo/demo_knowledge/22_027_01_0021_20101130.pdf\n"
     ]
    },
    {
     "name": "stderr",
     "output_type": "stream",
     "text": [
      "100  6265  100  6265    0     0  19727      0 --:--:-- --:--:-- --:--:-- 19952\n",
      "  % Total    % Received % Xferd  Average Speed   Time    Time     Time  Current\n",
      "                                 Dload  Upload   Total   Spent    Left  Speed\n",
      "  0     0    0     0    0     0      0      0 --:--:-- --:--:-- --:--:--     0"
     ]
    },
    {
     "name": "stdout",
     "output_type": "stream",
     "text": [
      "Downloading https://croptalk-spoi.s3.amazonaws.com/SPOI/22_119_01_0021_20101130.pdf to /Users/katerina/Documents/CropGuard/Dec_demo/demo_knowledge/22_119_01_0021_20101130.pdf\n"
     ]
    },
    {
     "name": "stderr",
     "output_type": "stream",
     "text": [
      "100  6272  100  6272    0     0  13830      0 --:--:-- --:--:-- --:--:-- 13968\n",
      "  % Total    % Received % Xferd  Average Speed   Time    Time     Time  Current\n",
      "                                 Dload  Upload   Total   Spent    Left  Speed\n",
      "  0     0    0     0    0     0      0      0 --:--:-- --:--:-- --:--:--     0"
     ]
    },
    {
     "name": "stdout",
     "output_type": "stream",
     "text": [
      "Downloading https://croptalk-spoi.s3.amazonaws.com/SPOI/05_075_01_0021_20101130.pdf to /Users/katerina/Documents/CropGuard/Dec_demo/demo_knowledge/05_075_01_0021_20101130.pdf\n"
     ]
    },
    {
     "name": "stderr",
     "output_type": "stream",
     "text": [
      "100  6422  100  6422    0     0  22611      0 --:--:-- --:--:-- --:--:-- 22854\n",
      "  % Total    % Received % Xferd  Average Speed   Time    Time     Time  Current\n",
      "                                 Dload  Upload   Total   Spent    Left  Speed\n",
      "  0     0    0     0    0     0      0      0 --:--:-- --:--:-- --:--:--     0"
     ]
    },
    {
     "name": "stdout",
     "output_type": "stream",
     "text": [
      "Downloading https://croptalk-spoi.s3.amazonaws.com/SPOI/47_119_01_0021_20101130.pdf to /Users/katerina/Documents/CropGuard/Dec_demo/demo_knowledge/47_119_01_0021_20101130.pdf\n"
     ]
    },
    {
     "name": "stderr",
     "output_type": "stream",
     "text": [
      "100  6255  100  6255    0     0  18631      0 --:--:-- --:--:-- --:--:-- 18897\n",
      "  % Total    % Received % Xferd  Average Speed   Time    Time     Time  Current\n",
      "                                 Dload  Upload   Total   Spent    Left  Speed\n",
      "  0     0    0     0    0     0      0      0 --:--:-- --:--:-- --:--:--     0"
     ]
    },
    {
     "name": "stdout",
     "output_type": "stream",
     "text": [
      "Downloading https://croptalk-spoi.s3.amazonaws.com/SPOI/28_113_01_0021_20101130.pdf to /Users/katerina/Documents/CropGuard/Dec_demo/demo_knowledge/28_113_01_0021_20101130.pdf\n"
     ]
    },
    {
     "name": "stderr",
     "output_type": "stream",
     "text": [
      "100  6260  100  6260    0     0  21272      0 --:--:-- --:--:-- --:--:-- 21586\n",
      "  % Total    % Received % Xferd  Average Speed   Time    Time     Time  Current\n",
      "                                 Dload  Upload   Total   Spent    Left  Speed\n",
      "  0     0    0     0    0     0      0      0 --:--:-- --:--:-- --:--:--     0"
     ]
    },
    {
     "name": "stdout",
     "output_type": "stream",
     "text": [
      "Downloading https://croptalk-spoi.s3.amazonaws.com/SPOI/05_039_01_0021_20101130.pdf to /Users/katerina/Documents/CropGuard/Dec_demo/demo_knowledge/05_039_01_0021_20101130.pdf\n"
     ]
    },
    {
     "name": "stderr",
     "output_type": "stream",
     "text": [
      "100  6411  100  6411    0     0  23018      0 --:--:-- --:--:-- --:--:-- 23312\n",
      "  % Total    % Received % Xferd  Average Speed   Time    Time     Time  Current\n",
      "                                 Dload  Upload   Total   Spent    Left  Speed\n",
      "  0     0    0     0    0     0      0      0 --:--:-- --:--:-- --:--:--     0"
     ]
    },
    {
     "name": "stdout",
     "output_type": "stream",
     "text": [
      "Downloading https://croptalk-spoi.s3.amazonaws.com/SPOI/27_149_01_0015_20101130.pdf to /Users/katerina/Documents/CropGuard/Dec_demo/demo_knowledge/27_149_01_0015_20101130.pdf\n"
     ]
    },
    {
     "name": "stderr",
     "output_type": "stream",
     "text": [
      "100 33887  100 33887    0     0  95928      0 --:--:-- --:--:-- --:--:-- 97097\n",
      "  % Total    % Received % Xferd  Average Speed   Time    Time     Time  Current\n",
      "                                 Dload  Upload   Total   Spent    Left  Speed\n",
      "  0     0    0     0    0     0      0      0 --:--:-- --:--:-- --:--:--     0"
     ]
    },
    {
     "name": "stdout",
     "output_type": "stream",
     "text": [
      "Downloading https://croptalk-spoi.s3.amazonaws.com/SPOI/05_001_01_0021_20101130.pdf to /Users/katerina/Documents/CropGuard/Dec_demo/demo_knowledge/05_001_01_0021_20101130.pdf\n"
     ]
    },
    {
     "name": "stderr",
     "output_type": "stream",
     "text": [
      "100  6402  100  6402    0     0  21041      0 --:--:-- --:--:-- --:--:-- 21269\n",
      "  % Total    % Received % Xferd  Average Speed   Time    Time     Time  Current\n",
      "                                 Dload  Upload   Total   Spent    Left  Speed\n",
      "  0     0    0     0    0     0      0      0 --:--:-- --:--:-- --:--:--     0"
     ]
    },
    {
     "name": "stdout",
     "output_type": "stream",
     "text": [
      "Downloading https://croptalk-spoi.s3.amazonaws.com/SPOI/05_011_01_0021_20101130.pdf to /Users/katerina/Documents/CropGuard/Dec_demo/demo_knowledge/05_011_01_0021_20101130.pdf\n"
     ]
    },
    {
     "name": "stderr",
     "output_type": "stream",
     "text": [
      "100  6417  100  6417    0     0  22870      0 --:--:-- --:--:-- --:--:-- 23166\n",
      "  % Total    % Received % Xferd  Average Speed   Time    Time     Time  Current\n",
      "                                 Dload  Upload   Total   Spent    Left  Speed\n",
      "  0     0    0     0    0     0      0      0 --:--:-- --:--:-- --:--:--     0"
     ]
    },
    {
     "name": "stdout",
     "output_type": "stream",
     "text": [
      "Downloading https://croptalk-spoi.s3.amazonaws.com/SPOI/05_019_01_0021_20101130.pdf to /Users/katerina/Documents/CropGuard/Dec_demo/demo_knowledge/05_019_01_0021_20101130.pdf\n"
     ]
    },
    {
     "name": "stderr",
     "output_type": "stream",
     "text": [
      "100  6412  100  6412    0     0  20058      0 --:--:-- --:--:-- --:--:-- 20355\n",
      "  % Total    % Received % Xferd  Average Speed   Time    Time     Time  Current\n",
      "                                 Dload  Upload   Total   Spent    Left  Speed\n",
      "  0     0    0     0    0     0      0      0 --:--:-- --:--:-- --:--:--     0"
     ]
    },
    {
     "name": "stdout",
     "output_type": "stream",
     "text": [
      "Downloading https://croptalk-spoi.s3.amazonaws.com/SPOI/05_033_01_0018_20101130.pdf to /Users/katerina/Documents/CropGuard/Dec_demo/demo_knowledge/05_033_01_0018_20101130.pdf\n"
     ]
    },
    {
     "name": "stderr",
     "output_type": "stream",
     "text": [
      "100  3982  100  3982    0     0  14595      0 --:--:-- --:--:-- --:--:-- 14802\n",
      "  % Total    % Received % Xferd  Average Speed   Time    Time     Time  Current\n",
      "                                 Dload  Upload   Total   Spent    Left  Speed\n",
      "  0     0    0     0    0     0      0      0 --:--:-- --:--:-- --:--:--     0"
     ]
    },
    {
     "name": "stdout",
     "output_type": "stream",
     "text": [
      "Downloading https://croptalk-spoi.s3.amazonaws.com/SPOI/05_039_01_0018_20101130.pdf to /Users/katerina/Documents/CropGuard/Dec_demo/demo_knowledge/05_039_01_0018_20101130.pdf\n"
     ]
    },
    {
     "name": "stderr",
     "output_type": "stream",
     "text": [
      "100  3977  100  3977    0     0  13938      0 --:--:-- --:--:-- --:--:-- 14203\n",
      "  % Total    % Received % Xferd  Average Speed   Time    Time     Time  Current\n",
      "                                 Dload  Upload   Total   Spent    Left  Speed\n",
      "  0     0    0     0    0     0      0      0 --:--:-- --:--:-- --:--:--     0"
     ]
    },
    {
     "name": "stdout",
     "output_type": "stream",
     "text": [
      "Downloading https://croptalk-spoi.s3.amazonaws.com/SPOI/05_047_01_0018_20101130.pdf to /Users/katerina/Documents/CropGuard/Dec_demo/demo_knowledge/05_047_01_0018_20101130.pdf\n"
     ]
    },
    {
     "name": "stderr",
     "output_type": "stream",
     "text": [
      "100  3982  100  3982    0     0  12684      0 --:--:-- --:--:-- --:--:-- 12886\n",
      "  % Total    % Received % Xferd  Average Speed   Time    Time     Time  Current\n",
      "                                 Dload  Upload   Total   Spent    Left  Speed\n",
      "  0     0    0     0    0     0      0      0 --:--:-- --:--:-- --:--:--     0"
     ]
    },
    {
     "name": "stdout",
     "output_type": "stream",
     "text": [
      "Downloading https://croptalk-spoi.s3.amazonaws.com/SPOI/05_057_01_0018_20101130.pdf to /Users/katerina/Documents/CropGuard/Dec_demo/demo_knowledge/05_057_01_0018_20101130.pdf\n"
     ]
    },
    {
     "name": "stderr",
     "output_type": "stream",
     "text": [
      "100  3851  100  3851    0     0  13653      0 --:--:-- --:--:-- --:--:-- 13902\n",
      "  % Total    % Received % Xferd  Average Speed   Time    Time     Time  Current\n",
      "                                 Dload  Upload   Total   Spent    Left  Speed\n",
      "  0     0    0     0    0     0      0      0 --:--:-- --:--:-- --:--:--     0"
     ]
    },
    {
     "name": "stdout",
     "output_type": "stream",
     "text": [
      "Downloading https://croptalk-spoi.s3.amazonaws.com/SPOI/05_071_01_0018_20101130.pdf to /Users/katerina/Documents/CropGuard/Dec_demo/demo_knowledge/05_071_01_0018_20101130.pdf\n"
     ]
    },
    {
     "name": "stderr",
     "output_type": "stream",
     "text": [
      "100  3983  100  3983    0     0  11979      0 --:--:-- --:--:-- --:--:-- 12069\n",
      "  % Total    % Received % Xferd  Average Speed   Time    Time     Time  Current\n",
      "                                 Dload  Upload   Total   Spent    Left  Speed\n",
      "  0     0    0     0    0     0      0      0 --:--:-- --:--:-- --:--:--     0"
     ]
    },
    {
     "name": "stdout",
     "output_type": "stream",
     "text": [
      "Downloading https://croptalk-spoi.s3.amazonaws.com/SPOI/05_083_01_0018_20101130.pdf to /Users/katerina/Documents/CropGuard/Dec_demo/demo_knowledge/05_083_01_0018_20101130.pdf\n"
     ]
    },
    {
     "name": "stderr",
     "output_type": "stream",
     "text": [
      "100  3978  100  3978    0     0  12610      0 --:--:-- --:--:-- --:--:-- 12790\n",
      "  % Total    % Received % Xferd  Average Speed   Time    Time     Time  Current\n",
      "                                 Dload  Upload   Total   Spent    Left  Speed\n",
      "  0     0    0     0    0     0      0      0 --:--:-- --:--:-- --:--:--     0"
     ]
    },
    {
     "name": "stdout",
     "output_type": "stream",
     "text": [
      "Downloading https://croptalk-spoi.s3.amazonaws.com/SPOI/05_109_01_0018_20101130.pdf to /Users/katerina/Documents/CropGuard/Dec_demo/demo_knowledge/05_109_01_0018_20101130.pdf\n"
     ]
    },
    {
     "name": "stderr",
     "output_type": "stream",
     "text": [
      "100  3850  100  3850    0     0  12954      0 --:--:-- --:--:-- --:--:-- 13139\n",
      "  % Total    % Received % Xferd  Average Speed   Time    Time     Time  Current\n",
      "                                 Dload  Upload   Total   Spent    Left  Speed\n",
      "  0     0    0     0    0     0      0      0 --:--:-- --:--:-- --:--:--     0"
     ]
    },
    {
     "name": "stdout",
     "output_type": "stream",
     "text": [
      "Downloading https://croptalk-spoi.s3.amazonaws.com/SPOI/13_279_90_0229_20101130.pdf to /Users/katerina/Documents/CropGuard/Dec_demo/demo_knowledge/13_279_90_0229_20101130.pdf\n"
     ]
    },
    {
     "name": "stderr",
     "output_type": "stream",
     "text": [
      "100  3685  100  3685    0     0  10670      0 --:--:-- --:--:-- --:--:-- 10774\n",
      "  % Total    % Received % Xferd  Average Speed   Time    Time     Time  Current\n",
      "                                 Dload  Upload   Total   Spent    Left  Speed\n",
      "  0     0    0     0    0     0      0      0 --:--:-- --:--:-- --:--:--     0"
     ]
    },
    {
     "name": "stdout",
     "output_type": "stream",
     "text": [
      "Downloading https://croptalk-spoi.s3.amazonaws.com/SPOI/13_209_90_0229_20101130.pdf to /Users/katerina/Documents/CropGuard/Dec_demo/demo_knowledge/13_209_90_0229_20101130.pdf\n"
     ]
    },
    {
     "name": "stderr",
     "output_type": "stream",
     "text": [
      "100  3686  100  3686    0     0  11883      0 --:--:-- --:--:-- --:--:-- 12006\n",
      "  % Total    % Received % Xferd  Average Speed   Time    Time     Time  Current\n",
      "                                 Dload  Upload   Total   Spent    Left  Speed\n",
      "  0     0    0     0    0     0      0      0 --:--:-- --:--:-- --:--:--     0"
     ]
    },
    {
     "name": "stdout",
     "output_type": "stream",
     "text": [
      "Downloading https://croptalk-spoi.s3.amazonaws.com/SPOI/13_179_90_0229_20101130.pdf to /Users/katerina/Documents/CropGuard/Dec_demo/demo_knowledge/13_179_90_0229_20101130.pdf\n"
     ]
    },
    {
     "name": "stderr",
     "output_type": "stream",
     "text": [
      "100  3684  100  3684    0     0  13118      0 --:--:-- --:--:-- --:--:-- 13299\n",
      "  % Total    % Received % Xferd  Average Speed   Time    Time     Time  Current\n",
      "                                 Dload  Upload   Total   Spent    Left  Speed\n",
      "  0     0    0     0    0     0      0      0 --:--:-- --:--:-- --:--:--     0"
     ]
    },
    {
     "name": "stdout",
     "output_type": "stream",
     "text": [
      "Downloading https://croptalk-spoi.s3.amazonaws.com/SPOI/13_175_90_0229_20101130.pdf to /Users/katerina/Documents/CropGuard/Dec_demo/demo_knowledge/13_175_90_0229_20101130.pdf\n"
     ]
    },
    {
     "name": "stderr",
     "output_type": "stream",
     "text": [
      "100  3686  100  3686    0     0  12572      0 --:--:-- --:--:-- --:--:-- 12710\n",
      "  % Total    % Received % Xferd  Average Speed   Time    Time     Time  Current\n",
      "                                 Dload  Upload   Total   Spent    Left  Speed\n",
      "  0     0    0     0    0     0      0      0 --:--:-- --:--:-- --:--:--     0"
     ]
    },
    {
     "name": "stdout",
     "output_type": "stream",
     "text": [
      "Downloading https://croptalk-spoi.s3.amazonaws.com/SPOI/13_095_90_0229_20101130.pdf to /Users/katerina/Documents/CropGuard/Dec_demo/demo_knowledge/13_095_90_0229_20101130.pdf\n"
     ]
    },
    {
     "name": "stderr",
     "output_type": "stream",
     "text": [
      "100  3686  100  3686    0     0  12597      0 --:--:-- --:--:-- --:--:-- 12798\n",
      "  % Total    % Received % Xferd  Average Speed   Time    Time     Time  Current\n",
      "                                 Dload  Upload   Total   Spent    Left  Speed\n",
      "  0     0    0     0    0     0      0      0 --:--:-- --:--:-- --:--:--     0"
     ]
    },
    {
     "name": "stdout",
     "output_type": "stream",
     "text": [
      "Downloading https://croptalk-spoi.s3.amazonaws.com/SPOI/13_081_90_0229_20101130.pdf to /Users/katerina/Documents/CropGuard/Dec_demo/demo_knowledge/13_081_90_0229_20101130.pdf\n"
     ]
    },
    {
     "name": "stderr",
     "output_type": "stream",
     "text": [
      "100  3681  100  3681    0     0  13168      0 --:--:-- --:--:-- --:--:-- 13385\n",
      "  % Total    % Received % Xferd  Average Speed   Time    Time     Time  Current\n",
      "                                 Dload  Upload   Total   Spent    Left  Speed\n",
      "  0     0    0     0    0     0      0      0 --:--:-- --:--:-- --:--:--     0"
     ]
    },
    {
     "name": "stdout",
     "output_type": "stream",
     "text": [
      "Downloading https://croptalk-spoi.s3.amazonaws.com/SPOI/13_287_90_0229_20101130.pdf to /Users/katerina/Documents/CropGuard/Dec_demo/demo_knowledge/13_287_90_0229_20101130.pdf\n"
     ]
    },
    {
     "name": "stderr",
     "output_type": "stream",
     "text": [
      "100  3686  100  3686    0     0   9127      0 --:--:-- --:--:-- --:--:--  9215\n",
      "  % Total    % Received % Xferd  Average Speed   Time    Time     Time  Current\n",
      "                                 Dload  Upload   Total   Spent    Left  Speed\n",
      "  0     0    0     0    0     0      0      0 --:--:-- --:--:-- --:--:--     0"
     ]
    },
    {
     "name": "stdout",
     "output_type": "stream",
     "text": [
      "Downloading https://croptalk-spoi.s3.amazonaws.com/SPOI/13_315_90_0229_20101130.pdf to /Users/katerina/Documents/CropGuard/Dec_demo/demo_knowledge/13_315_90_0229_20101130.pdf\n"
     ]
    },
    {
     "name": "stderr",
     "output_type": "stream",
     "text": [
      "100  3685  100  3685    0     0  12998      0 --:--:-- --:--:-- --:--:-- 13160\n",
      "  % Total    % Received % Xferd  Average Speed   Time    Time     Time  Current\n",
      "                                 Dload  Upload   Total   Spent    Left  Speed\n",
      "  0     0    0     0    0     0      0      0 --:--:-- --:--:-- --:--:--     0"
     ]
    },
    {
     "name": "stdout",
     "output_type": "stream",
     "text": [
      "Downloading https://croptalk-spoi.s3.amazonaws.com/SPOI/13_309_90_0229_20101130.pdf to /Users/katerina/Documents/CropGuard/Dec_demo/demo_knowledge/13_309_90_0229_20101130.pdf\n"
     ]
    },
    {
     "name": "stderr",
     "output_type": "stream",
     "text": [
      "100  3687  100  3687    0     0  11750      0 --:--:-- --:--:-- --:--:-- 11855\n",
      "  % Total    % Received % Xferd  Average Speed   Time    Time     Time  Current\n",
      "                                 Dload  Upload   Total   Spent    Left  Speed\n",
      "  0     0    0     0    0     0      0      0 --:--:-- --:--:-- --:--:--     0"
     ]
    },
    {
     "name": "stdout",
     "output_type": "stream",
     "text": [
      "Downloading https://croptalk-spoi.s3.amazonaws.com/SPOI/13_049_90_0229_20101130.pdf to /Users/katerina/Documents/CropGuard/Dec_demo/demo_knowledge/13_049_90_0229_20101130.pdf\n"
     ]
    },
    {
     "name": "stderr",
     "output_type": "stream",
     "text": [
      "100  3683  100  3683    0     0  11391      0 --:--:-- --:--:-- --:--:-- 11473\n",
      "  % Total    % Received % Xferd  Average Speed   Time    Time     Time  Current\n",
      "                                 Dload  Upload   Total   Spent    Left  Speed\n",
      "  0     0    0     0    0     0      0      0 --:--:-- --:--:-- --:--:--     0"
     ]
    },
    {
     "name": "stdout",
     "output_type": "stream",
     "text": [
      "Downloading https://croptalk-spoi.s3.amazonaws.com/SPOI/13_029_90_0229_20101130.pdf to /Users/katerina/Documents/CropGuard/Dec_demo/demo_knowledge/13_029_90_0229_20101130.pdf\n"
     ]
    },
    {
     "name": "stderr",
     "output_type": "stream",
     "text": [
      "100  3679  100  3679    0     0  12850      0 --:--:-- --:--:-- --:--:-- 13000\n",
      "  % Total    % Received % Xferd  Average Speed   Time    Time     Time  Current\n",
      "                                 Dload  Upload   Total   Spent    Left  Speed\n",
      "  0     0    0     0    0     0      0      0 --:--:-- --:--:-- --:--:--     0"
     ]
    },
    {
     "name": "stdout",
     "output_type": "stream",
     "text": [
      "Downloading https://croptalk-spoi.s3.amazonaws.com/SPOI/12_125_90_0229_20101130.pdf to /Users/katerina/Documents/CropGuard/Dec_demo/demo_knowledge/12_125_90_0229_20101130.pdf\n"
     ]
    },
    {
     "name": "stderr",
     "output_type": "stream",
     "text": [
      "100  3680  100  3680    0     0  10354      0 --:--:-- --:--:-- --:--:-- 10454\n",
      "  % Total    % Received % Xferd  Average Speed   Time    Time     Time  Current\n",
      "                                 Dload  Upload   Total   Spent    Left  Speed\n",
      "  0     0    0     0    0     0      0      0 --:--:-- --:--:-- --:--:--     0"
     ]
    },
    {
     "name": "stdout",
     "output_type": "stream",
     "text": [
      "Downloading https://croptalk-spoi.s3.amazonaws.com/SPOI/12_123_90_0229_20101130.pdf to /Users/katerina/Documents/CropGuard/Dec_demo/demo_knowledge/12_123_90_0229_20101130.pdf\n"
     ]
    },
    {
     "name": "stderr",
     "output_type": "stream",
     "text": [
      "100  3678  100  3678    0     0   6336      0 --:--:-- --:--:-- --:--:--  6374\n",
      "  % Total    % Received % Xferd  Average Speed   Time    Time     Time  Current\n",
      "                                 Dload  Upload   Total   Spent    Left  Speed\n",
      "  0     0    0     0    0     0      0      0 --:--:-- --:--:-- --:--:--     0"
     ]
    },
    {
     "name": "stdout",
     "output_type": "stream",
     "text": [
      "Downloading https://croptalk-spoi.s3.amazonaws.com/SPOI/12_089_90_0229_20101130.pdf to /Users/katerina/Documents/CropGuard/Dec_demo/demo_knowledge/12_089_90_0229_20101130.pdf\n"
     ]
    },
    {
     "name": "stderr",
     "output_type": "stream",
     "text": [
      "100  3682  100  3682    0     0   4313      0 --:--:-- --:--:-- --:--:--  4331\n"
     ]
    },
    {
     "name": "stdout",
     "output_type": "stream",
     "text": [
      "Downloading https://croptalk-spoi.s3.amazonaws.com/SPOI/12_065_90_0229_20101130.pdf to /Users/katerina/Documents/CropGuard/Dec_demo/demo_knowledge/12_065_90_0229_20101130.pdf\n"
     ]
    },
    {
     "name": "stderr",
     "output_type": "stream",
     "text": [
      "  % Total    % Received % Xferd  Average Speed   Time    Time     Time  Current\n",
      "                                 Dload  Upload   Total   Spent    Left  Speed\n",
      "100  3685  100  3685    0     0   4449      0 --:--:-- --:--:-- --:--:--  4472\n"
     ]
    },
    {
     "name": "stdout",
     "output_type": "stream",
     "text": [
      "Downloading https://croptalk-spoi.s3.amazonaws.com/SPOI/12_063_90_0229_20101130.pdf to /Users/katerina/Documents/CropGuard/Dec_demo/demo_knowledge/12_063_90_0229_20101130.pdf\n"
     ]
    },
    {
     "name": "stderr",
     "output_type": "stream",
     "text": [
      "  % Total    % Received % Xferd  Average Speed   Time    Time     Time  Current\n",
      "                                 Dload  Upload   Total   Spent    Left  Speed\n",
      "100  3684  100  3684    0     0   4904      0 --:--:-- --:--:-- --:--:--  4944\n",
      "  % Total    % Received % Xferd  Average Speed   Time    Time     Time  Current\n",
      "                                 Dload  Upload   Total   Spent    Left  Speed\n",
      "  0     0    0     0    0     0      0      0 --:--:-- --:--:-- --:--:--     0"
     ]
    },
    {
     "name": "stdout",
     "output_type": "stream",
     "text": [
      "Downloading https://croptalk-spoi.s3.amazonaws.com/SPOI/12_029_90_0229_20101130.pdf to /Users/katerina/Documents/CropGuard/Dec_demo/demo_knowledge/12_029_90_0229_20101130.pdf\n"
     ]
    },
    {
     "name": "stderr",
     "output_type": "stream",
     "text": [
      "100  3676  100  3676    0     0   7375      0 --:--:-- --:--:-- --:--:--  7426\n",
      "  % Total    % Received % Xferd  Average Speed   Time    Time     Time  Current\n",
      "                                 Dload  Upload   Total   Spent    Left  Speed\n",
      "  0     0    0     0    0     0      0      0 --:--:-- --:--:-- --:--:--     0"
     ]
    },
    {
     "name": "stdout",
     "output_type": "stream",
     "text": [
      "Downloading https://croptalk-spoi.s3.amazonaws.com/SPOI/12_007_90_0229_20101130.pdf to /Users/katerina/Documents/CropGuard/Dec_demo/demo_knowledge/12_007_90_0229_20101130.pdf\n"
     ]
    },
    {
     "name": "stderr",
     "output_type": "stream",
     "text": [
      "100  3684  100  3684    0     0   8061      0 --:--:-- --:--:-- --:--:--  8114\n",
      "  % Total    % Received % Xferd  Average Speed   Time    Time     Time  Current\n",
      "                                 Dload  Upload   Total   Spent    Left  Speed\n",
      "  0     0    0     0    0     0      0      0 --:--:-- --:--:-- --:--:--     0"
     ]
    },
    {
     "name": "stdout",
     "output_type": "stream",
     "text": [
      "Downloading https://croptalk-spoi.s3.amazonaws.com/SPOI/12_003_90_0229_20101130.pdf to /Users/katerina/Documents/CropGuard/Dec_demo/demo_knowledge/12_003_90_0229_20101130.pdf\n"
     ]
    },
    {
     "name": "stderr",
     "output_type": "stream",
     "text": [
      "100  3680  100  3680    0     0  10950      0 --:--:-- --:--:-- --:--:-- 11017\n",
      "  % Total    % Received % Xferd  Average Speed   Time    Time     Time  Current\n",
      "                                 Dload  Upload   Total   Spent    Left  Speed\n",
      "  0     0    0     0    0     0      0      0 --:--:-- --:--:-- --:--:--     0"
     ]
    },
    {
     "name": "stdout",
     "output_type": "stream",
     "text": [
      "Downloading https://croptalk-spoi.s3.amazonaws.com/SPOI/01_035_90_0229_20101130.pdf to /Users/katerina/Documents/CropGuard/Dec_demo/demo_knowledge/01_035_90_0229_20101130.pdf\n"
     ]
    },
    {
     "name": "stderr",
     "output_type": "stream",
     "text": [
      "100  3683  100  3683    0     0  11589      0 --:--:-- --:--:-- --:--:-- 11729\n",
      "  % Total    % Received % Xferd  Average Speed   Time    Time     Time  Current\n",
      "                                 Dload  Upload   Total   Spent    Left  Speed\n",
      "  0     0    0     0    0     0      0      0 --:--:-- --:--:-- --:--:--     0"
     ]
    },
    {
     "name": "stdout",
     "output_type": "stream",
     "text": [
      "Downloading https://croptalk-spoi.s3.amazonaws.com/SPOI/01_013_90_0229_20101130.pdf to /Users/katerina/Documents/CropGuard/Dec_demo/demo_knowledge/01_013_90_0229_20101130.pdf\n"
     ]
    },
    {
     "name": "stderr",
     "output_type": "stream",
     "text": [
      "100  3680  100  3680    0     0  12710      0 --:--:-- --:--:-- --:--:-- 12912\n",
      "  % Total    % Received % Xferd  Average Speed   Time    Time     Time  Current\n",
      "                                 Dload  Upload   Total   Spent    Left  Speed\n",
      "  0     0    0     0    0     0      0      0 --:--:-- --:--:-- --:--:--     0"
     ]
    },
    {
     "name": "stdout",
     "output_type": "stream",
     "text": [
      "Downloading https://croptalk-spoi.s3.amazonaws.com/SPOI/08_001_90_0084_20101130.pdf to /Users/katerina/Documents/CropGuard/Dec_demo/demo_knowledge/08_001_90_0084_20101130.pdf\n"
     ]
    },
    {
     "name": "stderr",
     "output_type": "stream",
     "text": [
      "100  9739  100  9739    0     0  27754      0 --:--:-- --:--:-- --:--:-- 28147\n",
      "  % Total    % Received % Xferd  Average Speed   Time    Time     Time  Current\n",
      "                                 Dload  Upload   Total   Spent    Left  Speed\n",
      "  0     0    0     0    0     0      0      0 --:--:-- --:--:-- --:--:--     0"
     ]
    },
    {
     "name": "stdout",
     "output_type": "stream",
     "text": [
      "Downloading https://croptalk-spoi.s3.amazonaws.com/SPOI/47_115_90_0231_20101130.pdf to /Users/katerina/Documents/CropGuard/Dec_demo/demo_knowledge/47_115_90_0231_20101130.pdf\n"
     ]
    },
    {
     "name": "stderr",
     "output_type": "stream",
     "text": [
      "100  3675  100  3675    0     0  10730      0 --:--:-- --:--:-- --:--:-- 10872\n",
      "  % Total    % Received % Xferd  Average Speed   Time    Time     Time  Current\n",
      "                                 Dload  Upload   Total   Spent    Left  Speed\n",
      "  0     0    0     0    0     0      0      0 --:--:-- --:--:-- --:--:--     0"
     ]
    },
    {
     "name": "stdout",
     "output_type": "stream",
     "text": [
      "Downloading https://croptalk-spoi.s3.amazonaws.com/SPOI/47_101_90_0231_20101130.pdf to /Users/katerina/Documents/CropGuard/Dec_demo/demo_knowledge/47_101_90_0231_20101130.pdf\n"
     ]
    },
    {
     "name": "stderr",
     "output_type": "stream",
     "text": [
      "100  3677  100  3677    0     0  12216      0 --:--:-- --:--:-- --:--:-- 12297\n",
      "  % Total    % Received % Xferd  Average Speed   Time    Time     Time  Current\n",
      "                                 Dload  Upload   Total   Spent    Left  Speed\n",
      "  0     0    0     0    0     0      0      0 --:--:-- --:--:-- --:--:--     0"
     ]
    },
    {
     "name": "stdout",
     "output_type": "stream",
     "text": [
      "Downloading https://croptalk-spoi.s3.amazonaws.com/SPOI/47_097_90_0231_20101130.pdf to /Users/katerina/Documents/CropGuard/Dec_demo/demo_knowledge/47_097_90_0231_20101130.pdf\n"
     ]
    },
    {
     "name": "stderr",
     "output_type": "stream",
     "text": [
      "100  3679  100  3679    0     0  12177      0 --:--:-- --:--:-- --:--:-- 12345\n",
      "  % Total    % Received % Xferd  Average Speed   Time    Time     Time  Current\n",
      "                                 Dload  Upload   Total   Spent    Left  Speed\n",
      "  0     0    0     0    0     0      0      0 --:--:-- --:--:-- --:--:--     0"
     ]
    },
    {
     "name": "stdout",
     "output_type": "stream",
     "text": [
      "Downloading https://croptalk-spoi.s3.amazonaws.com/SPOI/47_083_90_0231_20101130.pdf to /Users/katerina/Documents/CropGuard/Dec_demo/demo_knowledge/47_083_90_0231_20101130.pdf\n"
     ]
    },
    {
     "name": "stderr",
     "output_type": "stream",
     "text": [
      "100  3680  100  3680    0     0  13169      0 --:--:-- --:--:-- --:--:-- 13381\n",
      "  % Total    % Received % Xferd  Average Speed   Time    Time     Time  Current\n",
      "                                 Dload  Upload   Total   Spent    Left  Speed\n",
      "  0     0    0     0    0     0      0      0 --:--:-- --:--:-- --:--:--     0"
     ]
    },
    {
     "name": "stdout",
     "output_type": "stream",
     "text": [
      "Downloading https://croptalk-spoi.s3.amazonaws.com/SPOI/47_055_90_0231_20101130.pdf to /Users/katerina/Documents/CropGuard/Dec_demo/demo_knowledge/47_055_90_0231_20101130.pdf\n"
     ]
    },
    {
     "name": "stderr",
     "output_type": "stream",
     "text": [
      "100  3676  100  3676    0     0  10207      0 --:--:-- --:--:-- --:--:-- 10296\n",
      "  % Total    % Received % Xferd  Average Speed   Time    Time     Time  Current\n",
      "                                 Dload  Upload   Total   Spent    Left  Speed\n",
      "  0     0    0     0    0     0      0      0 --:--:-- --:--:-- --:--:--     0"
     ]
    },
    {
     "name": "stdout",
     "output_type": "stream",
     "text": [
      "Downloading https://croptalk-spoi.s3.amazonaws.com/SPOI/47_051_90_0231_20101130.pdf to /Users/katerina/Documents/CropGuard/Dec_demo/demo_knowledge/47_051_90_0231_20101130.pdf\n"
     ]
    },
    {
     "name": "stderr",
     "output_type": "stream",
     "text": [
      "100  3676  100  3676    0     0  11573      0 --:--:-- --:--:-- --:--:-- 11744\n",
      "  % Total    % Received % Xferd  Average Speed   Time    Time     Time  Current\n",
      "                                 Dload  Upload   Total   Spent    Left  Speed\n",
      "  0     0    0     0    0     0      0      0 --:--:-- --:--:-- --:--:--     0"
     ]
    },
    {
     "name": "stdout",
     "output_type": "stream",
     "text": [
      "Downloading https://croptalk-spoi.s3.amazonaws.com/SPOI/47_121_90_0231_20101130.pdf to /Users/katerina/Documents/CropGuard/Dec_demo/demo_knowledge/47_121_90_0231_20101130.pdf\n"
     ]
    },
    {
     "name": "stderr",
     "output_type": "stream",
     "text": [
      "100  3678  100  3678    0     0  12252      0 --:--:-- --:--:-- --:--:-- 12467\n",
      "  % Total    % Received % Xferd  Average Speed   Time    Time     Time  Current\n",
      "                                 Dload  Upload   Total   Spent    Left  Speed\n",
      "  0     0    0     0    0     0      0      0 --:--:-- --:--:-- --:--:--     0"
     ]
    },
    {
     "name": "stdout",
     "output_type": "stream",
     "text": [
      "Downloading https://croptalk-spoi.s3.amazonaws.com/SPOI/47_183_90_0231_20101130.pdf to /Users/katerina/Documents/CropGuard/Dec_demo/demo_knowledge/47_183_90_0231_20101130.pdf\n"
     ]
    },
    {
     "name": "stderr",
     "output_type": "stream",
     "text": [
      "100  3676  100  3676    0     0  10977      0 --:--:-- --:--:-- --:--:-- 11072\n",
      "  % Total    % Received % Xferd  Average Speed   Time    Time     Time  Current\n",
      "                                 Dload  Upload   Total   Spent    Left  Speed\n",
      "  0     0    0     0    0     0      0      0 --:--:-- --:--:-- --:--:--     0"
     ]
    },
    {
     "name": "stdout",
     "output_type": "stream",
     "text": [
      "Downloading https://croptalk-spoi.s3.amazonaws.com/SPOI/47_175_90_0231_20101130.pdf to /Users/katerina/Documents/CropGuard/Dec_demo/demo_knowledge/47_175_90_0231_20101130.pdf\n"
     ]
    },
    {
     "name": "stderr",
     "output_type": "stream",
     "text": [
      "100  3681  100  3681    0     0  10971      0 --:--:-- --:--:-- --:--:-- 11120\n",
      "  % Total    % Received % Xferd  Average Speed   Time    Time     Time  Current\n",
      "                                 Dload  Upload   Total   Spent    Left  Speed\n",
      "  0     0    0     0    0     0      0      0 --:--:-- --:--:-- --:--:--     0"
     ]
    },
    {
     "name": "stdout",
     "output_type": "stream",
     "text": [
      "Downloading https://croptalk-spoi.s3.amazonaws.com/SPOI/47_035_90_0231_20101130.pdf to /Users/katerina/Documents/CropGuard/Dec_demo/demo_knowledge/47_035_90_0231_20101130.pdf\n"
     ]
    },
    {
     "name": "stderr",
     "output_type": "stream",
     "text": [
      "100  3678  100  3678    0     0  12121      0 --:--:-- --:--:-- --:--:-- 12301\n",
      "  % Total    % Received % Xferd  Average Speed   Time    Time     Time  Current\n",
      "                                 Dload  Upload   Total   Spent    Left  Speed\n",
      "  0     0    0     0    0     0      0      0 --:--:-- --:--:-- --:--:--     0"
     ]
    },
    {
     "name": "stdout",
     "output_type": "stream",
     "text": [
      "Downloading https://croptalk-spoi.s3.amazonaws.com/SPOI/47_151_90_0231_20101130.pdf to /Users/katerina/Documents/CropGuard/Dec_demo/demo_knowledge/47_151_90_0231_20101130.pdf\n"
     ]
    },
    {
     "name": "stderr",
     "output_type": "stream",
     "text": [
      "100  3673  100  3673    0     0  12272      0 --:--:-- --:--:-- --:--:-- 12367\n",
      "  % Total    % Received % Xferd  Average Speed   Time    Time     Time  Current\n",
      "                                 Dload  Upload   Total   Spent    Left  Speed\n",
      "  0     0    0     0    0     0      0      0 --:--:-- --:--:-- --:--:--     0"
     ]
    },
    {
     "name": "stdout",
     "output_type": "stream",
     "text": [
      "Downloading https://croptalk-spoi.s3.amazonaws.com/SPOI/47_145_90_0231_20101130.pdf to /Users/katerina/Documents/CropGuard/Dec_demo/demo_knowledge/47_145_90_0231_20101130.pdf\n"
     ]
    },
    {
     "name": "stderr",
     "output_type": "stream",
     "text": [
      "100  3676  100  3676    0     0  10150      0 --:--:-- --:--:-- --:--:-- 10239\n",
      "  % Total    % Received % Xferd  Average Speed   Time    Time     Time  Current\n",
      "                                 Dload  Upload   Total   Spent    Left  Speed\n",
      "  0     0    0     0    0     0      0      0 --:--:-- --:--:-- --:--:--     0"
     ]
    },
    {
     "name": "stdout",
     "output_type": "stream",
     "text": [
      "Downloading https://croptalk-spoi.s3.amazonaws.com/SPOI/47_131_90_0231_20101130.pdf to /Users/katerina/Documents/CropGuard/Dec_demo/demo_knowledge/47_131_90_0231_20101130.pdf\n"
     ]
    },
    {
     "name": "stderr",
     "output_type": "stream",
     "text": [
      "100  3675  100  3675    0     0  11637      0 --:--:-- --:--:-- --:--:-- 11778\n",
      "  % Total    % Received % Xferd  Average Speed   Time    Time     Time  Current\n",
      "                                 Dload  Upload   Total   Spent    Left  Speed\n",
      "  0     0    0     0    0     0      0      0 --:--:-- --:--:-- --:--:--     0"
     ]
    },
    {
     "name": "stdout",
     "output_type": "stream",
     "text": [
      "Downloading https://croptalk-spoi.s3.amazonaws.com/SPOI/47_129_90_0231_20101130.pdf to /Users/katerina/Documents/CropGuard/Dec_demo/demo_knowledge/47_129_90_0231_20101130.pdf\n"
     ]
    },
    {
     "name": "stderr",
     "output_type": "stream",
     "text": [
      "100  3677  100  3677    0     0  10004      0 --:--:-- --:--:-- --:--:-- 10101\n"
     ]
    },
    {
     "name": "stdout",
     "output_type": "stream",
     "text": [
      "Downloading https://croptalk-spoi.s3.amazonaws.com/SPOI/47_155_90_0231_20101130.pdf to /Users/katerina/Documents/CropGuard/Dec_demo/demo_knowledge/47_155_90_0231_20101130.pdf\n"
     ]
    },
    {
     "name": "stderr",
     "output_type": "stream",
     "text": [
      "  % Total    % Received % Xferd  Average Speed   Time    Time     Time  Current\n",
      "                                 Dload  Upload   Total   Spent    Left  Speed\n",
      "100  3678  100  3678    0     0  10303      0 --:--:-- --:--:-- --:--:-- 10448\n",
      "  % Total    % Received % Xferd  Average Speed   Time    Time     Time  Current\n",
      "                                 Dload  Upload   Total   Spent    Left  Speed\n",
      "  0     0    0     0    0     0      0      0 --:--:-- --:--:-- --:--:--     0"
     ]
    },
    {
     "name": "stdout",
     "output_type": "stream",
     "text": [
      "Downloading https://croptalk-spoi.s3.amazonaws.com/SPOI/21_225_90_0231_20101130.pdf to /Users/katerina/Documents/CropGuard/Dec_demo/demo_knowledge/21_225_90_0231_20101130.pdf\n"
     ]
    },
    {
     "name": "stderr",
     "output_type": "stream",
     "text": [
      "100  3677  100  3677    0     0  12210      0 --:--:-- --:--:-- --:--:-- 12380\n",
      "  % Total    % Received % Xferd  Average Speed   Time    Time     Time  Current\n",
      "                                 Dload  Upload   Total   Spent    Left  Speed\n",
      "  0     0    0     0    0     0      0      0 --:--:-- --:--:-- --:--:--     0"
     ]
    },
    {
     "name": "stdout",
     "output_type": "stream",
     "text": [
      "Downloading https://croptalk-spoi.s3.amazonaws.com/SPOI/47_001_90_0231_20101130.pdf to /Users/katerina/Documents/CropGuard/Dec_demo/demo_knowledge/47_001_90_0231_20101130.pdf\n"
     ]
    },
    {
     "name": "stderr",
     "output_type": "stream",
     "text": [
      "100  3676  100  3676    0     0  12459      0 --:--:-- --:--:-- --:--:-- 12589\n",
      "  % Total    % Received % Xferd  Average Speed   Time    Time     Time  Current\n",
      "                                 Dload  Upload   Total   Spent    Left  Speed\n",
      "  0     0    0     0    0     0      0      0 --:--:-- --:--:-- --:--:--     0"
     ]
    },
    {
     "name": "stdout",
     "output_type": "stream",
     "text": [
      "Downloading https://croptalk-spoi.s3.amazonaws.com/SPOI/47_111_90_0233_20101130.pdf to /Users/katerina/Documents/CropGuard/Dec_demo/demo_knowledge/47_111_90_0233_20101130.pdf\n"
     ]
    },
    {
     "name": "stderr",
     "output_type": "stream",
     "text": [
      "100  3678  100  3678    0     0  12601      0 --:--:-- --:--:-- --:--:-- 12770\n",
      "  % Total    % Received % Xferd  Average Speed   Time    Time     Time  Current\n",
      "                                 Dload  Upload   Total   Spent    Left  Speed\n",
      "  0     0    0     0    0     0      0      0 --:--:-- --:--:-- --:--:--     0"
     ]
    },
    {
     "name": "stdout",
     "output_type": "stream",
     "text": [
      "Downloading https://croptalk-spoi.s3.amazonaws.com/SPOI/21_145_90_0233_20101130.pdf to /Users/katerina/Documents/CropGuard/Dec_demo/demo_knowledge/21_145_90_0233_20101130.pdf\n"
     ]
    },
    {
     "name": "stderr",
     "output_type": "stream",
     "text": [
      "100  3682  100  3682    0     0  12335      0 --:--:-- --:--:-- --:--:-- 12523\n",
      "  % Total    % Received % Xferd  Average Speed   Time    Time     Time  Current\n",
      "                                 Dload  Upload   Total   Spent    Left  Speed\n",
      "  0     0    0     0    0     0      0      0 --:--:-- --:--:-- --:--:--     0"
     ]
    },
    {
     "name": "stdout",
     "output_type": "stream",
     "text": [
      "Downloading https://croptalk-spoi.s3.amazonaws.com/SPOI/47_037_90_0233_20101130.pdf to /Users/katerina/Documents/CropGuard/Dec_demo/demo_knowledge/47_037_90_0233_20101130.pdf\n"
     ]
    },
    {
     "name": "stderr",
     "output_type": "stream",
     "text": [
      "100  3678  100  3678    0     0  11290      0 --:--:-- --:--:-- --:--:-- 11422\n",
      "  % Total    % Received % Xferd  Average Speed   Time    Time     Time  Current\n",
      "                                 Dload  Upload   Total   Spent    Left  Speed\n",
      "  0     0    0     0    0     0      0      0 --:--:-- --:--:-- --:--:--     0"
     ]
    },
    {
     "name": "stdout",
     "output_type": "stream",
     "text": [
      "Downloading https://croptalk-spoi.s3.amazonaws.com/SPOI/21_091_90_0233_20101130.pdf to /Users/katerina/Documents/CropGuard/Dec_demo/demo_knowledge/21_091_90_0233_20101130.pdf\n"
     ]
    },
    {
     "name": "stderr",
     "output_type": "stream",
     "text": [
      "100  3680  100  3680    0     0  10792      0 --:--:-- --:--:-- --:--:-- 10952\n",
      "  % Total    % Received % Xferd  Average Speed   Time    Time     Time  Current\n",
      "                                 Dload  Upload   Total   Spent    Left  Speed\n",
      "  0     0    0     0    0     0      0      0 --:--:-- --:--:-- --:--:--     0"
     ]
    },
    {
     "name": "stdout",
     "output_type": "stream",
     "text": [
      "Downloading https://croptalk-spoi.s3.amazonaws.com/SPOI/21_075_90_0233_20101130.pdf to /Users/katerina/Documents/CropGuard/Dec_demo/demo_knowledge/21_075_90_0233_20101130.pdf\n"
     ]
    },
    {
     "name": "stderr",
     "output_type": "stream",
     "text": [
      "100  3678  100  3678    0     0   9832      0 --:--:-- --:--:-- --:--:--  9940\n",
      "  % Total    % Received % Xferd  Average Speed   Time    Time     Time  Current\n",
      "                                 Dload  Upload   Total   Spent    Left  Speed\n",
      "  0     0    0     0    0     0      0      0 --:--:-- --:--:-- --:--:--     0"
     ]
    },
    {
     "name": "stdout",
     "output_type": "stream",
     "text": [
      "Downloading https://croptalk-spoi.s3.amazonaws.com/SPOI/21_055_90_0233_20101130.pdf to /Users/katerina/Documents/CropGuard/Dec_demo/demo_knowledge/21_055_90_0233_20101130.pdf\n"
     ]
    },
    {
     "name": "stderr",
     "output_type": "stream",
     "text": [
      "100  3683  100  3683    0     0  11771      0 --:--:-- --:--:-- --:--:-- 11919\n",
      "  % Total    % Received % Xferd  Average Speed   Time    Time     Time  Current\n",
      "                                 Dload  Upload   Total   Spent    Left  Speed\n",
      "  0     0    0     0    0     0      0      0 --:--:-- --:--:-- --:--:--     0"
     ]
    },
    {
     "name": "stdout",
     "output_type": "stream",
     "text": [
      "Downloading https://croptalk-spoi.s3.amazonaws.com/SPOI/21_003_90_0233_20101130.pdf to /Users/katerina/Documents/CropGuard/Dec_demo/demo_knowledge/21_003_90_0233_20101130.pdf\n"
     ]
    },
    {
     "name": "stderr",
     "output_type": "stream",
     "text": [
      "100  3679  100  3679    0     0  12429      0 --:--:-- --:--:-- --:--:-- 12556\n",
      "  % Total    % Received % Xferd  Average Speed   Time    Time     Time  Current\n",
      "                                 Dload  Upload   Total   Spent    Left  Speed\n",
      "  0     0    0     0    0     0      0      0 --:--:-- --:--:-- --:--:--     0"
     ]
    },
    {
     "name": "stdout",
     "output_type": "stream",
     "text": [
      "Downloading https://croptalk-spoi.s3.amazonaws.com/SPOI/21_145_90_0230_20101130.pdf to /Users/katerina/Documents/CropGuard/Dec_demo/demo_knowledge/21_145_90_0230_20101130.pdf\n"
     ]
    },
    {
     "name": "stderr",
     "output_type": "stream",
     "text": [
      "100  3686  100  3686    0     0  12177      0 --:--:-- --:--:-- --:--:-- 12286\n",
      "  % Total    % Received % Xferd  Average Speed   Time    Time     Time  Current\n",
      "                                 Dload  Upload   Total   Spent    Left  Speed\n",
      "  0     0    0     0    0     0      0      0 --:--:-- --:--:-- --:--:--     0"
     ]
    },
    {
     "name": "stdout",
     "output_type": "stream",
     "text": [
      "Downloading https://croptalk-spoi.s3.amazonaws.com/SPOI/47_037_90_0230_20101130.pdf to /Users/katerina/Documents/CropGuard/Dec_demo/demo_knowledge/47_037_90_0230_20101130.pdf\n"
     ]
    },
    {
     "name": "stderr",
     "output_type": "stream",
     "text": [
      "100  3684  100  3684    0     0   9551      0 --:--:-- --:--:-- --:--:--  9643\n",
      "  % Total    % Received % Xferd  Average Speed   Time    Time     Time  Current\n",
      "                                 Dload  Upload   Total   Spent    Left  Speed\n",
      "  0     0    0     0    0     0      0      0 --:--:-- --:--:-- --:--:--     0"
     ]
    },
    {
     "name": "stdout",
     "output_type": "stream",
     "text": [
      "Downloading https://croptalk-spoi.s3.amazonaws.com/SPOI/45_075_90_0229_20101130.pdf to /Users/katerina/Documents/CropGuard/Dec_demo/demo_knowledge/45_075_90_0229_20101130.pdf\n"
     ]
    },
    {
     "name": "stderr",
     "output_type": "stream",
     "text": [
      "100  3693  100  3693    0     0  11904      0 --:--:-- --:--:-- --:--:-- 12029\n",
      "  % Total    % Received % Xferd  Average Speed   Time    Time     Time  Current\n",
      "                                 Dload  Upload   Total   Spent    Left  Speed\n",
      "  0     0    0     0    0     0      0      0 --:--:-- --:--:-- --:--:--     0"
     ]
    },
    {
     "name": "stdout",
     "output_type": "stream",
     "text": [
      "Downloading https://croptalk-spoi.s3.amazonaws.com/SPOI/45_055_90_0229_20101130.pdf to /Users/katerina/Documents/CropGuard/Dec_demo/demo_knowledge/45_055_90_0229_20101130.pdf\n"
     ]
    },
    {
     "name": "stderr",
     "output_type": "stream",
     "text": [
      "100  3692  100  3692    0     0  10595      0 --:--:-- --:--:-- --:--:-- 10701\n",
      "  % Total    % Received % Xferd  Average Speed   Time    Time     Time  Current\n",
      "                                 Dload  Upload   Total   Spent    Left  Speed\n",
      "  0     0    0     0    0     0      0      0 --:--:-- --:--:-- --:--:--     0"
     ]
    },
    {
     "name": "stdout",
     "output_type": "stream",
     "text": [
      "Downloading https://croptalk-spoi.s3.amazonaws.com/SPOI/45_053_90_0229_20101130.pdf to /Users/katerina/Documents/CropGuard/Dec_demo/demo_knowledge/45_053_90_0229_20101130.pdf\n"
     ]
    },
    {
     "name": "stderr",
     "output_type": "stream",
     "text": [
      "100  3691  100  3691    0     0  12501      0 --:--:-- --:--:-- --:--:-- 12727\n",
      "  % Total    % Received % Xferd  Average Speed   Time    Time     Time  Current\n",
      "                                 Dload  Upload   Total   Spent    Left  Speed\n",
      "  0     0    0     0    0     0      0      0 --:--:-- --:--:-- --:--:--     0"
     ]
    },
    {
     "name": "stdout",
     "output_type": "stream",
     "text": [
      "Downloading https://croptalk-spoi.s3.amazonaws.com/SPOI/45_035_90_0229_20101130.pdf to /Users/katerina/Documents/CropGuard/Dec_demo/demo_knowledge/45_035_90_0229_20101130.pdf\n"
     ]
    },
    {
     "name": "stderr",
     "output_type": "stream",
     "text": [
      "100  3693  100  3693    0     0   4640      0 --:--:-- --:--:-- --:--:--  4662\n"
     ]
    },
    {
     "name": "stdout",
     "output_type": "stream",
     "text": [
      "Downloading https://croptalk-spoi.s3.amazonaws.com/SPOI/45_015_90_0229_20101130.pdf to /Users/katerina/Documents/CropGuard/Dec_demo/demo_knowledge/45_015_90_0229_20101130.pdf\n"
     ]
    },
    {
     "name": "stderr",
     "output_type": "stream",
     "text": [
      "  % Total    % Received % Xferd  Average Speed   Time    Time     Time  Current\n",
      "                                 Dload  Upload   Total   Spent    Left  Speed\n",
      "100  3691  100  3691    0     0   5639      0 --:--:-- --:--:-- --:--:--  5678\n",
      "  % Total    % Received % Xferd  Average Speed   Time    Time     Time  Current\n",
      "                                 Dload  Upload   Total   Spent    Left  Speed\n",
      "  0     0    0     0    0     0      0      0 --:--:-- --:--:-- --:--:--     0"
     ]
    },
    {
     "name": "stdout",
     "output_type": "stream",
     "text": [
      "Downloading https://croptalk-spoi.s3.amazonaws.com/SPOI/45_009_90_0229_20101130.pdf to /Users/katerina/Documents/CropGuard/Dec_demo/demo_knowledge/45_009_90_0229_20101130.pdf\n"
     ]
    },
    {
     "name": "stderr",
     "output_type": "stream",
     "text": [
      "100  3688  100  3688    0     0   4318      0 --:--:-- --:--:-- --:--:--  4338\n",
      "  % Total    % Received % Xferd  Average Speed   Time    Time     Time  Current\n",
      "                                 Dload  Upload   Total   Spent    Left  Speed\n",
      "  0     0    0     0    0     0      0      0 --:--:-- --:--:-- --:--:--     0"
     ]
    },
    {
     "name": "stdout",
     "output_type": "stream",
     "text": [
      "Downloading https://croptalk-spoi.s3.amazonaws.com/SPOI/18_025_90_0231_20101130.pdf to /Users/katerina/Documents/CropGuard/Dec_demo/demo_knowledge/18_025_90_0231_20101130.pdf\n"
     ]
    },
    {
     "name": "stderr",
     "output_type": "stream",
     "text": [
      "100  3373  100  3373    0     0   2159      0  0:00:01  0:00:01 --:--:--  2164\n",
      "  % Total    % Received % Xferd  Average Speed   Time    Time     Time  Current\n",
      "                                 Dload  Upload   Total   Spent    Left  Speed\n",
      "  0     0    0     0    0     0      0      0 --:--:-- --:--:-- --:--:--     0"
     ]
    },
    {
     "name": "stdout",
     "output_type": "stream",
     "text": [
      "Downloading https://croptalk-spoi.s3.amazonaws.com/SPOI/21_147_90_0231_20101130.pdf to /Users/katerina/Documents/CropGuard/Dec_demo/demo_knowledge/21_147_90_0231_20101130.pdf\n"
     ]
    },
    {
     "name": "stderr",
     "output_type": "stream",
     "text": [
      "100  3680  100  3680    0     0  14428      0 --:--:-- --:--:-- --:--:-- 14603\n",
      "  % Total    % Received % Xferd  Average Speed   Time    Time     Time  Current\n",
      "                                 Dload  Upload   Total   Spent    Left  Speed\n",
      "  0     0    0     0    0     0      0      0 --:--:-- --:--:-- --:--:--     0"
     ]
    },
    {
     "name": "stdout",
     "output_type": "stream",
     "text": [
      "Downloading https://croptalk-spoi.s3.amazonaws.com/SPOI/21_133_90_0231_20101130.pdf to /Users/katerina/Documents/CropGuard/Dec_demo/demo_knowledge/21_133_90_0231_20101130.pdf\n"
     ]
    },
    {
     "name": "stderr",
     "output_type": "stream",
     "text": [
      "100  3680  100  3680    0     0  10893      0 --:--:-- --:--:-- --:--:-- 11017\n",
      "  % Total    % Received % Xferd  Average Speed   Time    Time     Time  Current\n",
      "                                 Dload  Upload   Total   Spent    Left  Speed\n",
      "  0     0    0     0    0     0      0      0 --:--:-- --:--:-- --:--:--     0"
     ]
    },
    {
     "name": "stdout",
     "output_type": "stream",
     "text": [
      "Downloading https://croptalk-spoi.s3.amazonaws.com/SPOI/21_119_90_0231_20101130.pdf to /Users/katerina/Documents/CropGuard/Dec_demo/demo_knowledge/21_119_90_0231_20101130.pdf\n"
     ]
    },
    {
     "name": "stderr",
     "output_type": "stream",
     "text": [
      "100  3680  100  3680    0     0  12412      0 --:--:-- --:--:-- --:--:-- 12646\n",
      "  % Total    % Received % Xferd  Average Speed   Time    Time     Time  Current\n",
      "                                 Dload  Upload   Total   Spent    Left  Speed\n",
      "  0     0    0     0    0     0      0      0 --:--:-- --:--:-- --:--:--     0"
     ]
    },
    {
     "name": "stdout",
     "output_type": "stream",
     "text": [
      "Downloading https://croptalk-spoi.s3.amazonaws.com/SPOI/21_193_90_0231_20101130.pdf to /Users/katerina/Documents/CropGuard/Dec_demo/demo_knowledge/21_193_90_0231_20101130.pdf\n"
     ]
    },
    {
     "name": "stderr",
     "output_type": "stream",
     "text": [
      "100  3678  100  3678    0     0  12568      0 --:--:-- --:--:-- --:--:-- 12770\n",
      "  % Total    % Received % Xferd  Average Speed   Time    Time     Time  Current\n",
      "                                 Dload  Upload   Total   Spent    Left  Speed\n",
      "  0     0    0     0    0     0      0      0 --:--:-- --:--:-- --:--:--     0"
     ]
    },
    {
     "name": "stdout",
     "output_type": "stream",
     "text": [
      "Downloading https://croptalk-spoi.s3.amazonaws.com/SPOI/21_095_90_0231_20101130.pdf to /Users/katerina/Documents/CropGuard/Dec_demo/demo_knowledge/21_095_90_0231_20101130.pdf\n"
     ]
    },
    {
     "name": "stderr",
     "output_type": "stream",
     "text": [
      "100  3680  100  3680    0     0  12449      0 --:--:-- --:--:-- --:--:-- 12602\n",
      "  % Total    % Received % Xferd  Average Speed   Time    Time     Time  Current\n",
      "                                 Dload  Upload   Total   Spent    Left  Speed\n",
      "  0     0    0     0    0     0      0      0 --:--:-- --:--:-- --:--:--     0"
     ]
    },
    {
     "name": "stdout",
     "output_type": "stream",
     "text": [
      "Downloading https://croptalk-spoi.s3.amazonaws.com/SPOI/21_159_90_0231_20101130.pdf to /Users/katerina/Documents/CropGuard/Dec_demo/demo_knowledge/21_159_90_0231_20101130.pdf\n"
     ]
    },
    {
     "name": "stderr",
     "output_type": "stream",
     "text": [
      "100  3679  100  3679    0     0  10609      0 --:--:-- --:--:-- --:--:-- 10757\n",
      "  % Total    % Received % Xferd  Average Speed   Time    Time     Time  Current\n",
      "                                 Dload  Upload   Total   Spent    Left  Speed\n",
      "  0     0    0     0    0     0      0      0 --:--:-- --:--:-- --:--:--     0"
     ]
    },
    {
     "name": "stdout",
     "output_type": "stream",
     "text": [
      "Downloading https://croptalk-spoi.s3.amazonaws.com/SPOI/21_013_90_0231_20101130.pdf to /Users/katerina/Documents/CropGuard/Dec_demo/demo_knowledge/21_013_90_0231_20101130.pdf\n"
     ]
    },
    {
     "name": "stderr",
     "output_type": "stream",
     "text": [
      "100  3678  100  3678    0     0  13705      0 --:--:-- --:--:-- --:--:-- 13931\n",
      "  % Total    % Received % Xferd  Average Speed   Time    Time     Time  Current\n",
      "                                 Dload  Upload   Total   Spent    Left  Speed\n",
      "  0     0    0     0    0     0      0      0 --:--:-- --:--:-- --:--:--     0"
     ]
    },
    {
     "name": "stdout",
     "output_type": "stream",
     "text": [
      "Downloading https://croptalk-spoi.s3.amazonaws.com/SPOI/18_119_90_0231_20101130.pdf to /Users/katerina/Documents/CropGuard/Dec_demo/demo_knowledge/18_119_90_0231_20101130.pdf\n"
     ]
    },
    {
     "name": "stderr",
     "output_type": "stream",
     "text": [
      "100  3371  100  3371    0     0  12830      0 --:--:-- --:--:-- --:--:-- 12965\n",
      "  % Total    % Received % Xferd  Average Speed   Time    Time     Time  Current\n",
      "                                 Dload  Upload   Total   Spent    Left  Speed\n",
      "  0     0    0     0    0     0      0      0 --:--:-- --:--:-- --:--:--     0"
     ]
    },
    {
     "name": "stdout",
     "output_type": "stream",
     "text": [
      "Downloading https://croptalk-spoi.s3.amazonaws.com/SPOI/18_093_90_0231_20101130.pdf to /Users/katerina/Documents/CropGuard/Dec_demo/demo_knowledge/18_093_90_0231_20101130.pdf\n"
     ]
    },
    {
     "name": "stderr",
     "output_type": "stream",
     "text": [
      "100  3375  100  3375    0     0  10534      0 --:--:-- --:--:-- --:--:-- 10680\n",
      "  % Total    % Received % Xferd  Average Speed   Time    Time     Time  Current\n",
      "                                 Dload  Upload   Total   Spent    Left  Speed\n",
      "  0     0    0     0    0     0      0      0 --:--:-- --:--:-- --:--:--     0"
     ]
    },
    {
     "name": "stdout",
     "output_type": "stream",
     "text": [
      "Downloading https://croptalk-spoi.s3.amazonaws.com/SPOI/18_041_90_0231_20101130.pdf to /Users/katerina/Documents/CropGuard/Dec_demo/demo_knowledge/18_041_90_0231_20101130.pdf\n"
     ]
    },
    {
     "name": "stderr",
     "output_type": "stream",
     "text": [
      "100  3372  100  3372    0     0  11319      0 --:--:-- --:--:-- --:--:-- 11469\n",
      "  % Total    % Received % Xferd  Average Speed   Time    Time     Time  Current\n",
      "                                 Dload  Upload   Total   Spent    Left  Speed\n",
      "  0     0    0     0    0     0      0      0 --:--:-- --:--:-- --:--:--     0"
     ]
    },
    {
     "name": "stdout",
     "output_type": "stream",
     "text": [
      "Downloading https://croptalk-spoi.s3.amazonaws.com/SPOI/21_075_90_0231_20101130.pdf to /Users/katerina/Documents/CropGuard/Dec_demo/demo_knowledge/21_075_90_0231_20101130.pdf\n"
     ]
    },
    {
     "name": "stderr",
     "output_type": "stream",
     "text": [
      "100  3679  100  3679    0     0  12180      0 --:--:-- --:--:-- --:--:-- 12345\n",
      "  % Total    % Received % Xferd  Average Speed   Time    Time     Time  Current\n",
      "                                 Dload  Upload   Total   Spent    Left  Speed\n",
      "  0     0    0     0    0     0      0      0 --:--:-- --:--:-- --:--:--     0"
     ]
    },
    {
     "name": "stdout",
     "output_type": "stream",
     "text": [
      "Downloading https://croptalk-spoi.s3.amazonaws.com/SPOI/21_071_90_0231_20101130.pdf to /Users/katerina/Documents/CropGuard/Dec_demo/demo_knowledge/21_071_90_0231_20101130.pdf\n"
     ]
    },
    {
     "name": "stderr",
     "output_type": "stream",
     "text": [
      "100  3674  100  3674    0     0  13491      0 --:--:-- --:--:-- --:--:-- 13708\n",
      "  % Total    % Received % Xferd  Average Speed   Time    Time     Time  Current\n",
      "                                 Dload  Upload   Total   Spent    Left  Speed\n",
      "  0     0    0     0    0     0      0      0 --:--:-- --:--:-- --:--:--     0"
     ]
    },
    {
     "name": "stdout",
     "output_type": "stream",
     "text": [
      "Downloading https://croptalk-spoi.s3.amazonaws.com/SPOI/21_055_90_0231_20101130.pdf to /Users/katerina/Documents/CropGuard/Dec_demo/demo_knowledge/21_055_90_0231_20101130.pdf\n"
     ]
    },
    {
     "name": "stderr",
     "output_type": "stream",
     "text": [
      "100  3683  100  3683    0     0  12067      0 --:--:-- --:--:-- --:--:-- 12195\n",
      "  % Total    % Received % Xferd  Average Speed   Time    Time     Time  Current\n",
      "                                 Dload  Upload   Total   Spent    Left  Speed\n",
      "  0     0    0     0    0     0      0      0 --:--:-- --:--:-- --:--:--     0"
     ]
    },
    {
     "name": "stdout",
     "output_type": "stream",
     "text": [
      "Downloading https://croptalk-spoi.s3.amazonaws.com/SPOI/17_007_90_0064_20101130.pdf to /Users/katerina/Documents/CropGuard/Dec_demo/demo_knowledge/17_007_90_0064_20101130.pdf\n"
     ]
    },
    {
     "name": "stderr",
     "output_type": "stream",
     "text": [
      "100  3903  100  3903    0     0  14215      0 --:--:-- --:--:-- --:--:-- 14402\n",
      "  % Total    % Received % Xferd  Average Speed   Time    Time     Time  Current\n",
      "                                 Dload  Upload   Total   Spent    Left  Speed\n",
      "  0     0    0     0    0     0      0      0 --:--:-- --:--:-- --:--:--     0"
     ]
    },
    {
     "name": "stdout",
     "output_type": "stream",
     "text": [
      "Downloading https://croptalk-spoi.s3.amazonaws.com/SPOI/17_111_90_0064_20101130.pdf to /Users/katerina/Documents/CropGuard/Dec_demo/demo_knowledge/17_111_90_0064_20101130.pdf\n"
     ]
    },
    {
     "name": "stderr",
     "output_type": "stream",
     "text": [
      "100  3904  100  3904    0     0  10722      0 --:--:-- --:--:-- --:--:-- 10784\n",
      "  % Total    % Received % Xferd  Average Speed   Time    Time     Time  Current\n",
      "                                 Dload  Upload   Total   Spent    Left  Speed\n",
      "  0     0    0     0    0     0      0      0 --:--:-- --:--:-- --:--:--     0"
     ]
    },
    {
     "name": "stdout",
     "output_type": "stream",
     "text": [
      "Downloading https://croptalk-spoi.s3.amazonaws.com/SPOI/16_055_90_0067_20101130.pdf to /Users/katerina/Documents/CropGuard/Dec_demo/demo_knowledge/16_055_90_0067_20101130.pdf\n"
     ]
    },
    {
     "name": "stderr",
     "output_type": "stream",
     "text": [
      "100  6047  100  6047    0     0  18691      0 --:--:-- --:--:-- --:--:-- 18896\n",
      "  % Total    % Received % Xferd  Average Speed   Time    Time     Time  Current\n",
      "                                 Dload  Upload   Total   Spent    Left  Speed\n",
      "  0     0    0     0    0     0      0      0 --:--:-- --:--:-- --:--:--     0"
     ]
    },
    {
     "name": "stdout",
     "output_type": "stream",
     "text": [
      "Downloading https://croptalk-spoi.s3.amazonaws.com/SPOI/26_099_90_0047_20101130.pdf to /Users/katerina/Documents/CropGuard/Dec_demo/demo_knowledge/26_099_90_0047_20101130.pdf\n"
     ]
    },
    {
     "name": "stderr",
     "output_type": "stream",
     "text": [
      "100  9746  100  9746    0     0  32122      0 --:--:-- --:--:-- --:--:-- 32595\n",
      "  % Total    % Received % Xferd  Average Speed   Time    Time     Time  Current\n",
      "                                 Dload  Upload   Total   Spent    Left  Speed\n",
      "  0     0    0     0    0     0      0      0 --:--:-- --:--:-- --:--:--     0"
     ]
    },
    {
     "name": "stdout",
     "output_type": "stream",
     "text": [
      "Downloading https://croptalk-spoi.s3.amazonaws.com/SPOI/26_031_90_0047_20101130.pdf to /Users/katerina/Documents/CropGuard/Dec_demo/demo_knowledge/26_031_90_0047_20101130.pdf\n"
     ]
    },
    {
     "name": "stderr",
     "output_type": "stream",
     "text": [
      "100  9742  100  9742    0     0  31718      0 --:--:-- --:--:-- --:--:-- 32258\n",
      "  % Total    % Received % Xferd  Average Speed   Time    Time     Time  Current\n",
      "                                 Dload  Upload   Total   Spent    Left  Speed\n",
      "  0     0    0     0    0     0      0      0 --:--:-- --:--:-- --:--:--     0"
     ]
    },
    {
     "name": "stdout",
     "output_type": "stream",
     "text": [
      "Downloading https://croptalk-spoi.s3.amazonaws.com/SPOI/26_119_90_0047_20101130.pdf to /Users/katerina/Documents/CropGuard/Dec_demo/demo_knowledge/26_119_90_0047_20101130.pdf\n"
     ]
    },
    {
     "name": "stderr",
     "output_type": "stream",
     "text": [
      "100  9762  100  9762    0     0  35525      0 --:--:-- --:--:-- --:--:-- 36022\n",
      "  % Total    % Received % Xferd  Average Speed   Time    Time     Time  Current\n",
      "                                 Dload  Upload   Total   Spent    Left  Speed\n",
      "  0     0    0     0    0     0      0      0 --:--:-- --:--:-- --:--:--     0"
     ]
    },
    {
     "name": "stdout",
     "output_type": "stream",
     "text": [
      "Downloading https://croptalk-spoi.s3.amazonaws.com/SPOI/27_107_90_0047_20101130.pdf to /Users/katerina/Documents/CropGuard/Dec_demo/demo_knowledge/27_107_90_0047_20101130.pdf\n"
     ]
    },
    {
     "name": "stderr",
     "output_type": "stream",
     "text": [
      "100 10966  100 10966    0     0  38267      0 --:--:-- --:--:-- --:--:-- 38886\n",
      "  % Total    % Received % Xferd  Average Speed   Time    Time     Time  Current\n",
      "                                 Dload  Upload   Total   Spent    Left  Speed\n",
      "  0     0    0     0    0     0      0      0 --:--:-- --:--:-- --:--:--     0"
     ]
    },
    {
     "name": "stdout",
     "output_type": "stream",
     "text": [
      "Downloading https://croptalk-spoi.s3.amazonaws.com/SPOI/27_097_90_0047_20101130.pdf to /Users/katerina/Documents/CropGuard/Dec_demo/demo_knowledge/27_097_90_0047_20101130.pdf\n"
     ]
    },
    {
     "name": "stderr",
     "output_type": "stream",
     "text": [
      "100  7387  100  7387    0     0  20609      0 --:--:-- --:--:-- --:--:-- 20808\n",
      "  % Total    % Received % Xferd  Average Speed   Time    Time     Time  Current\n",
      "                                 Dload  Upload   Total   Spent    Left  Speed\n",
      "  0     0    0     0    0     0      0      0 --:--:-- --:--:-- --:--:--     0"
     ]
    },
    {
     "name": "stdout",
     "output_type": "stream",
     "text": [
      "Downloading https://croptalk-spoi.s3.amazonaws.com/SPOI/27_093_90_0047_20101130.pdf to /Users/katerina/Documents/CropGuard/Dec_demo/demo_knowledge/27_093_90_0047_20101130.pdf\n"
     ]
    },
    {
     "name": "stderr",
     "output_type": "stream",
     "text": [
      "100  7976  100  7976    0     0  27398      0 --:--:-- --:--:-- --:--:-- 27888\n",
      "  % Total    % Received % Xferd  Average Speed   Time    Time     Time  Current\n",
      "                                 Dload  Upload   Total   Spent    Left  Speed\n",
      "  0     0    0     0    0     0      0      0 --:--:-- --:--:-- --:--:--     0"
     ]
    },
    {
     "name": "stdout",
     "output_type": "stream",
     "text": [
      "Downloading https://croptalk-spoi.s3.amazonaws.com/SPOI/27_089_90_0047_20101130.pdf to /Users/katerina/Documents/CropGuard/Dec_demo/demo_knowledge/27_089_90_0047_20101130.pdf\n"
     ]
    },
    {
     "name": "stderr",
     "output_type": "stream",
     "text": [
      "100 10531  100 10531    0     0  33407      0 --:--:-- --:--:-- --:--:-- 33861\n",
      "  % Total    % Received % Xferd  Average Speed   Time    Time     Time  Current\n",
      "                                 Dload  Upload   Total   Spent    Left  Speed\n",
      "  0     0    0     0    0     0      0      0 --:--:-- --:--:-- --:--:--     0"
     ]
    },
    {
     "name": "stdout",
     "output_type": "stream",
     "text": [
      "Downloading https://croptalk-spoi.s3.amazonaws.com/SPOI/27_087_90_0047_20101130.pdf to /Users/katerina/Documents/CropGuard/Dec_demo/demo_knowledge/27_087_90_0047_20101130.pdf\n"
     ]
    },
    {
     "name": "stderr",
     "output_type": "stream",
     "text": [
      "100 10445  100 10445    0     0  31608      0 --:--:-- --:--:-- --:--:-- 32039\n",
      "  % Total    % Received % Xferd  Average Speed   Time    Time     Time  Current\n",
      "                                 Dload  Upload   Total   Spent    Left  Speed\n",
      "  0     0    0     0    0     0      0      0 --:--:-- --:--:-- --:--:--     0"
     ]
    },
    {
     "name": "stdout",
     "output_type": "stream",
     "text": [
      "Downloading https://croptalk-spoi.s3.amazonaws.com/SPOI/27_085_90_0047_20101130.pdf to /Users/katerina/Documents/CropGuard/Dec_demo/demo_knowledge/27_085_90_0047_20101130.pdf\n"
     ]
    },
    {
     "name": "stderr",
     "output_type": "stream",
     "text": [
      "100  7976  100  7976    0     0  24036      0 --:--:-- --:--:-- --:--:-- 24391\n",
      "  % Total    % Received % Xferd  Average Speed   Time    Time     Time  Current\n",
      "                                 Dload  Upload   Total   Spent    Left  Speed\n",
      "  0     0    0     0    0     0      0      0 --:--:-- --:--:-- --:--:--     0"
     ]
    },
    {
     "name": "stdout",
     "output_type": "stream",
     "text": [
      "Downloading https://croptalk-spoi.s3.amazonaws.com/SPOI/27_073_90_0047_20101130.pdf to /Users/katerina/Documents/CropGuard/Dec_demo/demo_knowledge/27_073_90_0047_20101130.pdf\n"
     ]
    },
    {
     "name": "stderr",
     "output_type": "stream",
     "text": [
      "100  9510  100  9510    0     0  35419      0 --:--:-- --:--:-- --:--:-- 36022\n",
      "  % Total    % Received % Xferd  Average Speed   Time    Time     Time  Current\n",
      "                                 Dload  Upload   Total   Spent    Left  Speed\n",
      "  0     0    0     0    0     0      0      0 --:--:-- --:--:-- --:--:--     0"
     ]
    },
    {
     "name": "stdout",
     "output_type": "stream",
     "text": [
      "Downloading https://croptalk-spoi.s3.amazonaws.com/SPOI/27_069_90_0047_20101130.pdf to /Users/katerina/Documents/CropGuard/Dec_demo/demo_knowledge/27_069_90_0047_20101130.pdf\n"
     ]
    },
    {
     "name": "stderr",
     "output_type": "stream",
     "text": [
      "100  8320  100  8320    0     0  28334      0 --:--:-- --:--:-- --:--:-- 28689\n",
      "  % Total    % Received % Xferd  Average Speed   Time    Time     Time  Current\n",
      "                                 Dload  Upload   Total   Spent    Left  Speed\n",
      "  0     0    0     0    0     0      0      0 --:--:-- --:--:-- --:--:--     0"
     ]
    },
    {
     "name": "stdout",
     "output_type": "stream",
     "text": [
      "Downloading https://croptalk-spoi.s3.amazonaws.com/SPOI/27_067_90_0047_20101130.pdf to /Users/katerina/Documents/CropGuard/Dec_demo/demo_knowledge/27_067_90_0047_20101130.pdf\n"
     ]
    },
    {
     "name": "stderr",
     "output_type": "stream",
     "text": [
      "100  9780  100  9780    0     0  26539      0 --:--:-- --:--:-- --:--:-- 26794\n",
      "  % Total    % Received % Xferd  Average Speed   Time    Time     Time  Current\n",
      "                                 Dload  Upload   Total   Spent    Left  Speed\n",
      "  0     0    0     0    0     0      0      0 --:--:-- --:--:-- --:--:--     0"
     ]
    },
    {
     "name": "stdout",
     "output_type": "stream",
     "text": [
      "Downloading https://croptalk-spoi.s3.amazonaws.com/SPOI/27_057_90_0047_20101130.pdf to /Users/katerina/Documents/CropGuard/Dec_demo/demo_knowledge/27_057_90_0047_20101130.pdf\n"
     ]
    },
    {
     "name": "stderr",
     "output_type": "stream",
     "text": [
      "100  9693  100  9693    0     0  27915      0 --:--:-- --:--:-- --:--:-- 28095\n",
      "  % Total    % Received % Xferd  Average Speed   Time    Time     Time  Current\n",
      "                                 Dload  Upload   Total   Spent    Left  Speed\n",
      "  0     0    0     0    0     0      0      0 --:--:-- --:--:-- --:--:--     0"
     ]
    },
    {
     "name": "stdout",
     "output_type": "stream",
     "text": [
      "Downloading https://croptalk-spoi.s3.amazonaws.com/SPOI/27_051_90_0047_20101130.pdf to /Users/katerina/Documents/CropGuard/Dec_demo/demo_knowledge/27_051_90_0047_20101130.pdf\n"
     ]
    },
    {
     "name": "stderr",
     "output_type": "stream",
     "text": [
      "100  9730  100  9730    0     0  35627      0 --:--:-- --:--:-- --:--:-- 36037\n",
      "  % Total    % Received % Xferd  Average Speed   Time    Time     Time  Current\n",
      "                                 Dload  Upload   Total   Spent    Left  Speed\n",
      "  0     0    0     0    0     0      0      0 --:--:-- --:--:-- --:--:--     0"
     ]
    },
    {
     "name": "stdout",
     "output_type": "stream",
     "text": [
      "Downloading https://croptalk-spoi.s3.amazonaws.com/SPOI/27_041_90_0047_20101130.pdf to /Users/katerina/Documents/CropGuard/Dec_demo/demo_knowledge/27_041_90_0047_20101130.pdf\n"
     ]
    },
    {
     "name": "stderr",
     "output_type": "stream",
     "text": [
      "100  9491  100  9491    0     0  37811      0 --:--:-- --:--:-- --:--:-- 38270\n",
      "  % Total    % Received % Xferd  Average Speed   Time    Time     Time  Current\n",
      "                                 Dload  Upload   Total   Spent    Left  Speed\n",
      "  0     0    0     0    0     0      0      0 --:--:-- --:--:-- --:--:--     0"
     ]
    },
    {
     "name": "stdout",
     "output_type": "stream",
     "text": [
      "Downloading https://croptalk-spoi.s3.amazonaws.com/SPOI/27_035_90_0047_20101130.pdf to /Users/katerina/Documents/CropGuard/Dec_demo/demo_knowledge/27_035_90_0047_20101130.pdf\n"
     ]
    },
    {
     "name": "stderr",
     "output_type": "stream",
     "text": [
      "100  7393  100  7393    0     0  25768      0 --:--:-- --:--:-- --:--:-- 26031\n",
      "  % Total    % Received % Xferd  Average Speed   Time    Time     Time  Current\n",
      "                                 Dload  Upload   Total   Spent    Left  Speed\n",
      "  0     0    0     0    0     0      0      0 --:--:-- --:--:-- --:--:--     0"
     ]
    },
    {
     "name": "stdout",
     "output_type": "stream",
     "text": [
      "Downloading https://croptalk-spoi.s3.amazonaws.com/SPOI/27_027_90_0047_20101130.pdf to /Users/katerina/Documents/CropGuard/Dec_demo/demo_knowledge/27_027_90_0047_20101130.pdf\n"
     ]
    },
    {
     "name": "stderr",
     "output_type": "stream",
     "text": [
      "100  7756  100  7756    0     0  28057      0 --:--:-- --:--:-- --:--:-- 28410\n",
      "  % Total    % Received % Xferd  Average Speed   Time    Time     Time  Current\n",
      "                                 Dload  Upload   Total   Spent    Left  Speed\n",
      "  0     0    0     0    0     0      0      0 --:--:-- --:--:-- --:--:--     0"
     ]
    },
    {
     "name": "stdout",
     "output_type": "stream",
     "text": [
      "Downloading https://croptalk-spoi.s3.amazonaws.com/SPOI/27_021_90_0047_20101130.pdf to /Users/katerina/Documents/CropGuard/Dec_demo/demo_knowledge/27_021_90_0047_20101130.pdf\n"
     ]
    },
    {
     "name": "stderr",
     "output_type": "stream",
     "text": [
      "100  7380  100  7380    0     0  28506      0 --:--:-- --:--:-- --:--:-- 29055\n",
      "  % Total    % Received % Xferd  Average Speed   Time    Time     Time  Current\n",
      "                                 Dload  Upload   Total   Spent    Left  Speed\n",
      "  0     0    0     0    0     0      0      0 --:--:-- --:--:-- --:--:--     0"
     ]
    },
    {
     "name": "stdout",
     "output_type": "stream",
     "text": [
      "Downloading https://croptalk-spoi.s3.amazonaws.com/SPOI/27_019_90_0047_20101130.pdf to /Users/katerina/Documents/CropGuard/Dec_demo/demo_knowledge/27_019_90_0047_20101130.pdf\n"
     ]
    },
    {
     "name": "stderr",
     "output_type": "stream",
     "text": [
      "100  7752  100  7752    0     0  27087      0 --:--:-- --:--:-- --:--:-- 27489\n",
      "  % Total    % Received % Xferd  Average Speed   Time    Time     Time  Current\n",
      "                                 Dload  Upload   Total   Spent    Left  Speed\n",
      "  0     0    0     0    0     0      0      0 --:--:-- --:--:-- --:--:--     0"
     ]
    },
    {
     "name": "stdout",
     "output_type": "stream",
     "text": [
      "Downloading https://croptalk-spoi.s3.amazonaws.com/SPOI/27_015_90_0047_20101130.pdf to /Users/katerina/Documents/CropGuard/Dec_demo/demo_knowledge/27_015_90_0047_20101130.pdf\n"
     ]
    },
    {
     "name": "stderr",
     "output_type": "stream",
     "text": [
      "100  7751  100  7751    0     0   9212      0 --:--:-- --:--:-- --:--:--  9238\n",
      "  % Total    % Received % Xferd  Average Speed   Time    Time     Time  Current\n",
      "                                 Dload  Upload   Total   Spent    Left  Speed\n",
      "  0     0    0     0    0     0      0      0 --:--:-- --:--:-- --:--:--     0"
     ]
    },
    {
     "name": "stdout",
     "output_type": "stream",
     "text": [
      "Downloading https://croptalk-spoi.s3.amazonaws.com/SPOI/27_011_90_0047_20101130.pdf to /Users/katerina/Documents/CropGuard/Dec_demo/demo_knowledge/27_011_90_0047_20101130.pdf\n"
     ]
    },
    {
     "name": "stderr",
     "output_type": "stream",
     "text": [
      "100  7759  100  7759    0     0  11907      0 --:--:-- --:--:-- --:--:-- 11973\n",
      "  % Total    % Received % Xferd  Average Speed   Time    Time     Time  Current\n",
      "                                 Dload  Upload   Total   Spent    Left  Speed\n",
      "  0     0    0     0    0     0      0      0 --:--:-- --:--:-- --:--:--     0"
     ]
    },
    {
     "name": "stdout",
     "output_type": "stream",
     "text": [
      "Downloading https://croptalk-spoi.s3.amazonaws.com/SPOI/27_009_90_0047_20101130.pdf to /Users/katerina/Documents/CropGuard/Dec_demo/demo_knowledge/27_009_90_0047_20101130.pdf\n"
     ]
    },
    {
     "name": "stderr",
     "output_type": "stream",
     "text": [
      "100  7388  100  7388    0     0   8598      0 --:--:-- --:--:-- --:--:--  8640\n"
     ]
    },
    {
     "name": "stdout",
     "output_type": "stream",
     "text": [
      "Downloading https://croptalk-spoi.s3.amazonaws.com/SPOI/27_005_90_0047_20101130.pdf to /Users/katerina/Documents/CropGuard/Dec_demo/demo_knowledge/27_005_90_0047_20101130.pdf\n"
     ]
    },
    {
     "name": "stderr",
     "output_type": "stream",
     "text": [
      "  % Total    % Received % Xferd  Average Speed   Time    Time     Time  Current\n",
      "                                 Dload  Upload   Total   Spent    Left  Speed\n",
      "100  9701  100  9701    0     0  11083      0 --:--:-- --:--:-- --:--:-- 11112\n",
      "  % Total    % Received % Xferd  Average Speed   Time    Time     Time  Current\n",
      "                                 Dload  Upload   Total   Spent    Left  Speed\n",
      "  0     0    0     0    0     0      0      0 --:--:-- --:--:-- --:--:--     0"
     ]
    },
    {
     "name": "stdout",
     "output_type": "stream",
     "text": [
      "Downloading https://croptalk-spoi.s3.amazonaws.com/SPOI/27_023_90_0047_20101130.pdf to /Users/katerina/Documents/CropGuard/Dec_demo/demo_knowledge/27_023_90_0047_20101130.pdf\n"
     ]
    },
    {
     "name": "stderr",
     "output_type": "stream",
     "text": [
      "100  9916  100  9916    0     0  17648      0 --:--:-- --:--:-- --:--:-- 17738\n",
      "  % Total    % Received % Xferd  Average Speed   Time    Time     Time  Current\n",
      "                                 Dload  Upload   Total   Spent    Left  Speed\n",
      "  0     0    0     0    0     0      0      0 --:--:-- --:--:-- --:--:--     0"
     ]
    },
    {
     "name": "stdout",
     "output_type": "stream",
     "text": [
      "Downloading https://croptalk-spoi.s3.amazonaws.com/SPOI/27_111_90_0047_20101130.pdf to /Users/katerina/Documents/CropGuard/Dec_demo/demo_knowledge/27_111_90_0047_20101130.pdf\n"
     ]
    },
    {
     "name": "stderr",
     "output_type": "stream",
     "text": [
      "100  9892  100  9892    0     0  27646      0 --:--:-- --:--:-- --:--:-- 27943\n",
      "  % Total    % Received % Xferd  Average Speed   Time    Time     Time  Current\n",
      "                                 Dload  Upload   Total   Spent    Left  Speed\n",
      "  0     0    0     0    0     0      0      0 --:--:-- --:--:-- --:--:--     0"
     ]
    },
    {
     "name": "stdout",
     "output_type": "stream",
     "text": [
      "Downloading https://croptalk-spoi.s3.amazonaws.com/SPOI/06_053_90_0047_20101130.pdf to /Users/katerina/Documents/CropGuard/Dec_demo/demo_knowledge/06_053_90_0047_20101130.pdf\n"
     ]
    },
    {
     "name": "stderr",
     "output_type": "stream",
     "text": [
      "100  6857  100  6857    0     0  17460      0 --:--:-- --:--:-- --:--:-- 17672\n",
      "  % Total    % Received % Xferd  Average Speed   Time    Time     Time  Current\n",
      "                                 Dload  Upload   Total   Spent    Left  Speed\n",
      "  0     0    0     0    0     0      0      0 --:--:-- --:--:-- --:--:--     0"
     ]
    },
    {
     "name": "stdout",
     "output_type": "stream",
     "text": [
      "Downloading https://croptalk-spoi.s3.amazonaws.com/SPOI/19_109_90_0047_20101130.pdf to /Users/katerina/Documents/CropGuard/Dec_demo/demo_knowledge/19_109_90_0047_20101130.pdf\n"
     ]
    },
    {
     "name": "stderr",
     "output_type": "stream",
     "text": [
      "100  6158  100  6158    0     0  17684      0 --:--:-- --:--:-- --:--:-- 17901\n",
      "  % Total    % Received % Xferd  Average Speed   Time    Time     Time  Current\n",
      "                                 Dload  Upload   Total   Spent    Left  Speed\n",
      "  0     0    0     0    0     0      0      0 --:--:-- --:--:-- --:--:--     0"
     ]
    },
    {
     "name": "stdout",
     "output_type": "stream",
     "text": [
      "Downloading https://croptalk-spoi.s3.amazonaws.com/SPOI/19_011_90_0047_20101130.pdf to /Users/katerina/Documents/CropGuard/Dec_demo/demo_knowledge/19_011_90_0047_20101130.pdf\n"
     ]
    },
    {
     "name": "stderr",
     "output_type": "stream",
     "text": [
      "100  6326  100  6326    0     0  21572      0 --:--:-- --:--:-- --:--:-- 21813\n",
      "  % Total    % Received % Xferd  Average Speed   Time    Time     Time  Current\n",
      "                                 Dload  Upload   Total   Spent    Left  Speed\n",
      "  0     0    0     0    0     0      0      0 --:--:-- --:--:-- --:--:--     0"
     ]
    },
    {
     "name": "stdout",
     "output_type": "stream",
     "text": [
      "Downloading https://croptalk-spoi.s3.amazonaws.com/SPOI/27_119_90_0047_20101130.pdf to /Users/katerina/Documents/CropGuard/Dec_demo/demo_knowledge/27_119_90_0047_20101130.pdf\n"
     ]
    },
    {
     "name": "stderr",
     "output_type": "stream",
     "text": [
      "100 10240  100 10240    0     0  38316      0 --:--:-- --:--:-- --:--:-- 38935\n",
      "  % Total    % Received % Xferd  Average Speed   Time    Time     Time  Current\n",
      "                                 Dload  Upload   Total   Spent    Left  Speed\n",
      "  0     0    0     0    0     0      0      0 --:--:-- --:--:-- --:--:--     0"
     ]
    },
    {
     "name": "stdout",
     "output_type": "stream",
     "text": [
      "Downloading https://croptalk-spoi.s3.amazonaws.com/SPOI/38_067_90_0047_20101130.pdf to /Users/katerina/Documents/CropGuard/Dec_demo/demo_knowledge/38_067_90_0047_20101130.pdf\n"
     ]
    },
    {
     "name": "stderr",
     "output_type": "stream",
     "text": [
      "100 10359  100 10359    0     0  36375      0 --:--:-- --:--:-- --:--:-- 36996\n",
      "  % Total    % Received % Xferd  Average Speed   Time    Time     Time  Current\n",
      "                                 Dload  Upload   Total   Spent    Left  Speed\n",
      "  0     0    0     0    0     0      0      0 --:--:-- --:--:-- --:--:--     0"
     ]
    },
    {
     "name": "stdout",
     "output_type": "stream",
     "text": [
      "Downloading https://croptalk-spoi.s3.amazonaws.com/SPOI/38_065_90_0047_20101130.pdf to /Users/katerina/Documents/CropGuard/Dec_demo/demo_knowledge/38_065_90_0047_20101130.pdf\n"
     ]
    },
    {
     "name": "stderr",
     "output_type": "stream",
     "text": [
      "100  6581  100  6581    0     0  23049      0 --:--:-- --:--:-- --:--:-- 23419\n",
      "  % Total    % Received % Xferd  Average Speed   Time    Time     Time  Current\n",
      "                                 Dload  Upload   Total   Spent    Left  Speed\n",
      "  0     0    0     0    0     0      0      0 --:--:-- --:--:-- --:--:--     0"
     ]
    },
    {
     "name": "stdout",
     "output_type": "stream",
     "text": [
      "Downloading https://croptalk-spoi.s3.amazonaws.com/SPOI/38_063_90_0047_20101130.pdf to /Users/katerina/Documents/CropGuard/Dec_demo/demo_knowledge/38_063_90_0047_20101130.pdf\n"
     ]
    },
    {
     "name": "stderr",
     "output_type": "stream",
     "text": [
      "100  9968  100  9968    0     0  31011      0 --:--:-- --:--:-- --:--:-- 31444\n",
      "  % Total    % Received % Xferd  Average Speed   Time    Time     Time  Current\n",
      "                                 Dload  Upload   Total   Spent    Left  Speed\n",
      "  0     0    0     0    0     0      0      0 --:--:-- --:--:-- --:--:--     0"
     ]
    },
    {
     "name": "stdout",
     "output_type": "stream",
     "text": [
      "Downloading https://croptalk-spoi.s3.amazonaws.com/SPOI/38_055_90_0047_20101130.pdf to /Users/katerina/Documents/CropGuard/Dec_demo/demo_knowledge/38_055_90_0047_20101130.pdf\n"
     ]
    },
    {
     "name": "stderr",
     "output_type": "stream",
     "text": [
      "100 10154  100 10154    0     0  35599      0 --:--:-- --:--:-- --:--:-- 36264\n",
      "  % Total    % Received % Xferd  Average Speed   Time    Time     Time  Current\n",
      "                                 Dload  Upload   Total   Spent    Left  Speed\n",
      "  0     0    0     0    0     0      0      0 --:--:-- --:--:-- --:--:--     0"
     ]
    },
    {
     "name": "stdout",
     "output_type": "stream",
     "text": [
      "Downloading https://croptalk-spoi.s3.amazonaws.com/SPOI/38_053_90_0047_20101130.pdf to /Users/katerina/Documents/CropGuard/Dec_demo/demo_knowledge/38_053_90_0047_20101130.pdf\n"
     ]
    },
    {
     "name": "stderr",
     "output_type": "stream",
     "text": [
      "100  6742  100  6742    0     0  23137      0 --:--:-- --:--:-- --:--:-- 23409\n",
      "  % Total    % Received % Xferd  Average Speed   Time    Time     Time  Current\n",
      "                                 Dload  Upload   Total   Spent    Left  Speed\n",
      "  0     0    0     0    0     0      0      0 --:--:-- --:--:-- --:--:--     0"
     ]
    },
    {
     "name": "stdout",
     "output_type": "stream",
     "text": [
      "Downloading https://croptalk-spoi.s3.amazonaws.com/SPOI/38_049_90_0047_20101130.pdf to /Users/katerina/Documents/CropGuard/Dec_demo/demo_knowledge/38_049_90_0047_20101130.pdf\n"
     ]
    },
    {
     "name": "stderr",
     "output_type": "stream",
     "text": [
      "100  9823  100  9823    0     0  34388      0 --:--:-- --:--:-- --:--:-- 34833\n",
      "  % Total    % Received % Xferd  Average Speed   Time    Time     Time  Current\n",
      "                                 Dload  Upload   Total   Spent    Left  Speed\n",
      "  0     0    0     0    0     0      0      0 --:--:-- --:--:-- --:--:--     0"
     ]
    },
    {
     "name": "stdout",
     "output_type": "stream",
     "text": [
      "Downloading https://croptalk-spoi.s3.amazonaws.com/SPOI/38_045_90_0047_20101130.pdf to /Users/katerina/Documents/CropGuard/Dec_demo/demo_knowledge/38_045_90_0047_20101130.pdf\n"
     ]
    },
    {
     "name": "stderr",
     "output_type": "stream",
     "text": [
      "100 10588  100 10588    0     0  35176      0 --:--:-- --:--:-- --:--:-- 35530\n",
      "  % Total    % Received % Xferd  Average Speed   Time    Time     Time  Current\n",
      "                                 Dload  Upload   Total   Spent    Left  Speed\n",
      "  0     0    0     0    0     0      0      0 --:--:-- --:--:-- --:--:--     0"
     ]
    },
    {
     "name": "stdout",
     "output_type": "stream",
     "text": [
      "Downloading https://croptalk-spoi.s3.amazonaws.com/SPOI/38_043_90_0047_20101130.pdf to /Users/katerina/Documents/CropGuard/Dec_demo/demo_knowledge/38_043_90_0047_20101130.pdf\n"
     ]
    },
    {
     "name": "stderr",
     "output_type": "stream",
     "text": [
      "100  8411  100  8411    0     0  28351      0 --:--:-- --:--:-- --:--:-- 28511\n",
      "  % Total    % Received % Xferd  Average Speed   Time    Time     Time  Current\n",
      "                                 Dload  Upload   Total   Spent    Left  Speed\n",
      "  0     0    0     0    0     0      0      0 --:--:-- --:--:-- --:--:--     0"
     ]
    },
    {
     "name": "stdout",
     "output_type": "stream",
     "text": [
      "Downloading https://croptalk-spoi.s3.amazonaws.com/SPOI/38_041_90_0047_20101130.pdf to /Users/katerina/Documents/CropGuard/Dec_demo/demo_knowledge/38_041_90_0047_20101130.pdf\n"
     ]
    },
    {
     "name": "stderr",
     "output_type": "stream",
     "text": [
      "100  6587  100  6587    0     0  20051      0 --:--:-- --:--:-- --:--:-- 20267\n",
      "  % Total    % Received % Xferd  Average Speed   Time    Time     Time  Current\n",
      "                                 Dload  Upload   Total   Spent    Left  Speed\n",
      "  0     0    0     0    0     0      0      0 --:--:-- --:--:-- --:--:--     0"
     ]
    },
    {
     "name": "stdout",
     "output_type": "stream",
     "text": [
      "Downloading https://croptalk-spoi.s3.amazonaws.com/SPOI/38_039_90_0047_20101130.pdf to /Users/katerina/Documents/CropGuard/Dec_demo/demo_knowledge/38_039_90_0047_20101130.pdf\n"
     ]
    },
    {
     "name": "stderr",
     "output_type": "stream",
     "text": [
      "100  9963  100  9963    0     0  34121      0 --:--:-- --:--:-- --:--:-- 34474\n",
      "  % Total    % Received % Xferd  Average Speed   Time    Time     Time  Current\n",
      "                                 Dload  Upload   Total   Spent    Left  Speed\n",
      "  0     0    0     0    0     0      0      0 --:--:-- --:--:-- --:--:--     0"
     ]
    },
    {
     "name": "stdout",
     "output_type": "stream",
     "text": [
      "Downloading https://croptalk-spoi.s3.amazonaws.com/SPOI/38_037_90_0047_20101130.pdf to /Users/katerina/Documents/CropGuard/Dec_demo/demo_knowledge/38_037_90_0047_20101130.pdf\n"
     ]
    },
    {
     "name": "stderr",
     "output_type": "stream",
     "text": [
      "100  6577  100  6577    0     0  21119      0 --:--:-- --:--:-- --:--:-- 21353\n",
      "  % Total    % Received % Xferd  Average Speed   Time    Time     Time  Current\n",
      "                                 Dload  Upload   Total   Spent    Left  Speed\n",
      "  0     0    0     0    0     0      0      0 --:--:-- --:--:-- --:--:--     0"
     ]
    },
    {
     "name": "stdout",
     "output_type": "stream",
     "text": [
      "Downloading https://croptalk-spoi.s3.amazonaws.com/SPOI/38_035_90_0047_20101130.pdf to /Users/katerina/Documents/CropGuard/Dec_demo/demo_knowledge/38_035_90_0047_20101130.pdf\n"
     ]
    },
    {
     "name": "stderr",
     "output_type": "stream",
     "text": [
      "100 13097  100 13097    0     0  44625      0 --:--:-- --:--:-- --:--:-- 45318\n",
      "  % Total    % Received % Xferd  Average Speed   Time    Time     Time  Current\n",
      "                                 Dload  Upload   Total   Spent    Left  Speed\n",
      "  0     0    0     0    0     0      0      0 --:--:-- --:--:-- --:--:--     0"
     ]
    },
    {
     "name": "stdout",
     "output_type": "stream",
     "text": [
      "Downloading https://croptalk-spoi.s3.amazonaws.com/SPOI/38_031_90_0047_20101130.pdf to /Users/katerina/Documents/CropGuard/Dec_demo/demo_knowledge/38_031_90_0047_20101130.pdf\n"
     ]
    },
    {
     "name": "stderr",
     "output_type": "stream",
     "text": [
      "100  9960  100  9960    0     0  35253      0 --:--:-- --:--:-- --:--:-- 35698\n",
      "  % Total    % Received % Xferd  Average Speed   Time    Time     Time  Current\n",
      "                                 Dload  Upload   Total   Spent    Left  Speed\n",
      "  0     0    0     0    0     0      0      0 --:--:-- --:--:-- --:--:--     0"
     ]
    },
    {
     "name": "stdout",
     "output_type": "stream",
     "text": [
      "Downloading https://croptalk-spoi.s3.amazonaws.com/SPOI/38_029_90_0047_20101130.pdf to /Users/katerina/Documents/CropGuard/Dec_demo/demo_knowledge/38_029_90_0047_20101130.pdf\n"
     ]
    },
    {
     "name": "stderr",
     "output_type": "stream",
     "text": [
      "100  8401  100  8401    0     0  25257      0 --:--:-- --:--:-- --:--:-- 25534\n",
      "  % Total    % Received % Xferd  Average Speed   Time    Time     Time  Current\n",
      "                                 Dload  Upload   Total   Spent    Left  Speed\n",
      "  0     0    0     0    0     0      0      0 --:--:-- --:--:-- --:--:--     0"
     ]
    },
    {
     "name": "stdout",
     "output_type": "stream",
     "text": [
      "Downloading https://croptalk-spoi.s3.amazonaws.com/SPOI/38_027_90_0047_20101130.pdf to /Users/katerina/Documents/CropGuard/Dec_demo/demo_knowledge/38_027_90_0047_20101130.pdf\n"
     ]
    },
    {
     "name": "stderr",
     "output_type": "stream",
     "text": [
      "100  9957  100  9957    0     0  35201      0 --:--:-- --:--:-- --:--:-- 35816\n",
      "  % Total    % Received % Xferd  Average Speed   Time    Time     Time  Current\n",
      "                                 Dload  Upload   Total   Spent    Left  Speed\n",
      "  0     0    0     0    0     0      0      0 --:--:-- --:--:-- --:--:--     0"
     ]
    },
    {
     "name": "stdout",
     "output_type": "stream",
     "text": [
      "Downloading https://croptalk-spoi.s3.amazonaws.com/SPOI/38_021_90_0047_20101130.pdf to /Users/katerina/Documents/CropGuard/Dec_demo/demo_knowledge/38_021_90_0047_20101130.pdf\n"
     ]
    },
    {
     "name": "stderr",
     "output_type": "stream",
     "text": [
      "100 10650  100 10650    0     0  38736      0 --:--:-- --:--:-- --:--:-- 39298\n",
      "  % Total    % Received % Xferd  Average Speed   Time    Time     Time  Current\n",
      "                                 Dload  Upload   Total   Spent    Left  Speed\n",
      "  0     0    0     0    0     0      0      0 --:--:-- --:--:-- --:--:--     0"
     ]
    },
    {
     "name": "stdout",
     "output_type": "stream",
     "text": [
      "Downloading https://croptalk-spoi.s3.amazonaws.com/SPOI/38_019_90_0047_20101130.pdf to /Users/katerina/Documents/CropGuard/Dec_demo/demo_knowledge/38_019_90_0047_20101130.pdf\n"
     ]
    },
    {
     "name": "stderr",
     "output_type": "stream",
     "text": [
      "100  9961  100  9961    0     0  31541      0 --:--:-- --:--:-- --:--:-- 31824\n",
      "  % Total    % Received % Xferd  Average Speed   Time    Time     Time  Current\n",
      "                                 Dload  Upload   Total   Spent    Left  Speed\n",
      "  0     0    0     0    0     0      0      0 --:--:-- --:--:-- --:--:--     0"
     ]
    },
    {
     "name": "stdout",
     "output_type": "stream",
     "text": [
      "Downloading https://croptalk-spoi.s3.amazonaws.com/SPOI/38_017_90_0047_20101130.pdf to /Users/katerina/Documents/CropGuard/Dec_demo/demo_knowledge/38_017_90_0047_20101130.pdf\n"
     ]
    },
    {
     "name": "stderr",
     "output_type": "stream",
     "text": [
      "100  9951  100  9951    0     0  36796      0 --:--:-- --:--:-- --:--:-- 37409\n",
      "  % Total    % Received % Xferd  Average Speed   Time    Time     Time  Current\n",
      "                                 Dload  Upload   Total   Spent    Left  Speed\n",
      "  0     0    0     0    0     0      0      0 --:--:-- --:--:-- --:--:--     0"
     ]
    },
    {
     "name": "stdout",
     "output_type": "stream",
     "text": [
      "Downloading https://croptalk-spoi.s3.amazonaws.com/SPOI/38_015_90_0047_20101130.pdf to /Users/katerina/Documents/CropGuard/Dec_demo/demo_knowledge/38_015_90_0047_20101130.pdf\n"
     ]
    },
    {
     "name": "stderr",
     "output_type": "stream",
     "text": [
      "100  9821  100  9821    0     0  30426      0 --:--:-- --:--:-- --:--:-- 30883\n",
      "  % Total    % Received % Xferd  Average Speed   Time    Time     Time  Current\n",
      "                                 Dload  Upload   Total   Spent    Left  Speed\n",
      "  0     0    0     0    0     0      0      0 --:--:-- --:--:-- --:--:--     0"
     ]
    },
    {
     "name": "stdout",
     "output_type": "stream",
     "text": [
      "Downloading https://croptalk-spoi.s3.amazonaws.com/SPOI/38_005_90_0047_20101130.pdf to /Users/katerina/Documents/CropGuard/Dec_demo/demo_knowledge/38_005_90_0047_20101130.pdf\n"
     ]
    },
    {
     "name": "stderr",
     "output_type": "stream",
     "text": [
      "100  8408  100  8408    0     0  26099      0 --:--:-- --:--:-- --:--:-- 26440\n",
      "  % Total    % Received % Xferd  Average Speed   Time    Time     Time  Current\n",
      "                                 Dload  Upload   Total   Spent    Left  Speed\n",
      "  0     0    0     0    0     0      0      0 --:--:-- --:--:-- --:--:--     0"
     ]
    },
    {
     "name": "stdout",
     "output_type": "stream",
     "text": [
      "Downloading https://croptalk-spoi.s3.amazonaws.com/SPOI/38_003_90_0047_20101130.pdf to /Users/katerina/Documents/CropGuard/Dec_demo/demo_knowledge/38_003_90_0047_20101130.pdf\n"
     ]
    },
    {
     "name": "stderr",
     "output_type": "stream",
     "text": [
      "100  9961  100  9961    0     0  29236      0 --:--:-- --:--:-- --:--:-- 29645\n",
      "  % Total    % Received % Xferd  Average Speed   Time    Time     Time  Current\n",
      "                                 Dload  Upload   Total   Spent    Left  Speed\n",
      "  0     0    0     0    0     0      0      0 --:--:-- --:--:-- --:--:--     0"
     ]
    },
    {
     "name": "stdout",
     "output_type": "stream",
     "text": [
      "Downloading https://croptalk-spoi.s3.amazonaws.com/SPOI/38_069_90_0047_20101130.pdf to /Users/katerina/Documents/CropGuard/Dec_demo/demo_knowledge/38_069_90_0047_20101130.pdf\n"
     ]
    },
    {
     "name": "stderr",
     "output_type": "stream",
     "text": [
      "100  9817  100  9817    0     0  30087      0 --:--:-- --:--:-- --:--:-- 30393\n",
      "  % Total    % Received % Xferd  Average Speed   Time    Time     Time  Current\n",
      "                                 Dload  Upload   Total   Spent    Left  Speed\n",
      "  0     0    0     0    0     0      0      0 --:--:-- --:--:-- --:--:--     0"
     ]
    },
    {
     "name": "stdout",
     "output_type": "stream",
     "text": [
      "Downloading https://croptalk-spoi.s3.amazonaws.com/SPOI/38_071_90_0047_20101130.pdf to /Users/katerina/Documents/CropGuard/Dec_demo/demo_knowledge/38_071_90_0047_20101130.pdf\n"
     ]
    },
    {
     "name": "stderr",
     "output_type": "stream",
     "text": [
      "100 10361  100 10361    0     0  34303      0 --:--:-- --:--:-- --:--:-- 34536\n",
      "  % Total    % Received % Xferd  Average Speed   Time    Time     Time  Current\n",
      "                                 Dload  Upload   Total   Spent    Left  Speed\n",
      "  0     0    0     0    0     0      0      0 --:--:-- --:--:-- --:--:--     0"
     ]
    },
    {
     "name": "stdout",
     "output_type": "stream",
     "text": [
      "Downloading https://croptalk-spoi.s3.amazonaws.com/SPOI/38_073_90_0047_20101130.pdf to /Users/katerina/Documents/CropGuard/Dec_demo/demo_knowledge/38_073_90_0047_20101130.pdf\n"
     ]
    },
    {
     "name": "stderr",
     "output_type": "stream",
     "text": [
      "100 10774  100 10774    0     0  33036      0 --:--:-- --:--:-- --:--:-- 33356\n",
      "  % Total    % Received % Xferd  Average Speed   Time    Time     Time  Current\n",
      "                                 Dload  Upload   Total   Spent    Left  Speed\n",
      "  0     0    0     0    0     0      0      0 --:--:-- --:--:-- --:--:--     0"
     ]
    },
    {
     "name": "stdout",
     "output_type": "stream",
     "text": [
      "Downloading https://croptalk-spoi.s3.amazonaws.com/SPOI/38_077_90_0047_20101130.pdf to /Users/katerina/Documents/CropGuard/Dec_demo/demo_knowledge/38_077_90_0047_20101130.pdf\n"
     ]
    },
    {
     "name": "stderr",
     "output_type": "stream",
     "text": [
      "100 10146  100 10146    0     0  28199      0 --:--:-- --:--:-- --:--:-- 28420\n",
      "  % Total    % Received % Xferd  Average Speed   Time    Time     Time  Current\n",
      "                                 Dload  Upload   Total   Spent    Left  Speed\n",
      "  0     0    0     0    0     0      0      0 --:--:-- --:--:-- --:--:--     0"
     ]
    },
    {
     "name": "stdout",
     "output_type": "stream",
     "text": [
      "Downloading https://croptalk-spoi.s3.amazonaws.com/SPOI/38_105_90_0047_20101130.pdf to /Users/katerina/Documents/CropGuard/Dec_demo/demo_knowledge/38_105_90_0047_20101130.pdf\n"
     ]
    },
    {
     "name": "stderr",
     "output_type": "stream",
     "text": [
      "100  5843  100  5843    0     0  19459      0 --:--:-- --:--:-- --:--:-- 19739\n",
      "  % Total    % Received % Xferd  Average Speed   Time    Time     Time  Current\n",
      "                                 Dload  Upload   Total   Spent    Left  Speed\n",
      "  0     0    0     0    0     0      0      0 --:--:-- --:--:-- --:--:--     0"
     ]
    },
    {
     "name": "stdout",
     "output_type": "stream",
     "text": [
      "Downloading https://croptalk-spoi.s3.amazonaws.com/SPOI/38_103_90_0047_20101130.pdf to /Users/katerina/Documents/CropGuard/Dec_demo/demo_knowledge/38_103_90_0047_20101130.pdf\n"
     ]
    },
    {
     "name": "stderr",
     "output_type": "stream",
     "text": [
      "100 10141  100 10141    0     0  27816      0 --:--:-- --:--:-- --:--:-- 28169\n",
      "  % Total    % Received % Xferd  Average Speed   Time    Time     Time  Current\n",
      "                                 Dload  Upload   Total   Spent    Left  Speed\n",
      "  0     0    0     0    0     0      0      0 --:--:-- --:--:-- --:--:--     0"
     ]
    },
    {
     "name": "stdout",
     "output_type": "stream",
     "text": [
      "Downloading https://croptalk-spoi.s3.amazonaws.com/SPOI/38_101_90_0047_20101130.pdf to /Users/katerina/Documents/CropGuard/Dec_demo/demo_knowledge/38_101_90_0047_20101130.pdf\n"
     ]
    },
    {
     "name": "stderr",
     "output_type": "stream",
     "text": [
      "100  7273  100  7273    0     0  19505      0 --:--:-- --:--:-- --:--:-- 19763\n",
      "  % Total    % Received % Xferd  Average Speed   Time    Time     Time  Current\n",
      "                                 Dload  Upload   Total   Spent    Left  Speed\n",
      "  0     0    0     0    0     0      0      0 --:--:-- --:--:-- --:--:--     0"
     ]
    },
    {
     "name": "stdout",
     "output_type": "stream",
     "text": [
      "Downloading https://croptalk-spoi.s3.amazonaws.com/SPOI/38_099_90_0047_20101130.pdf to /Users/katerina/Documents/CropGuard/Dec_demo/demo_knowledge/38_099_90_0047_20101130.pdf\n"
     ]
    },
    {
     "name": "stderr",
     "output_type": "stream",
     "text": [
      "100 10298  100 10298    0     0  34740      0 --:--:-- --:--:-- --:--:-- 35146\n",
      "  % Total    % Received % Xferd  Average Speed   Time    Time     Time  Current\n",
      "                                 Dload  Upload   Total   Spent    Left  Speed\n",
      "  0     0    0     0    0     0      0      0 --:--:-- --:--:-- --:--:--     0"
     ]
    },
    {
     "name": "stdout",
     "output_type": "stream",
     "text": [
      "Downloading https://croptalk-spoi.s3.amazonaws.com/SPOI/38_097_90_0047_20101130.pdf to /Users/katerina/Documents/CropGuard/Dec_demo/demo_knowledge/38_097_90_0047_20101130.pdf\n"
     ]
    },
    {
     "name": "stderr",
     "output_type": "stream",
     "text": [
      "100 11529  100 11529    0     0  16942      0 --:--:-- --:--:-- --:--:-- 17054\n",
      "  % Total    % Received % Xferd  Average Speed   Time    Time     Time  Current\n",
      "                                 Dload  Upload   Total   Spent    Left  Speed\n",
      "  0     0    0     0    0     0      0      0 --:--:-- --:--:-- --:--:--     0"
     ]
    },
    {
     "name": "stdout",
     "output_type": "stream",
     "text": [
      "Downloading https://croptalk-spoi.s3.amazonaws.com/SPOI/38_095_90_0047_20101130.pdf to /Users/katerina/Documents/CropGuard/Dec_demo/demo_knowledge/38_095_90_0047_20101130.pdf\n"
     ]
    },
    {
     "name": "stderr",
     "output_type": "stream",
     "text": [
      "100  8405  100  8405    0     0  12397      0 --:--:-- --:--:-- --:--:-- 12470\n",
      "  % Total    % Received % Xferd  Average Speed   Time    Time     Time  Current\n",
      "                                 Dload  Upload   Total   Spent    Left  Speed\n",
      "  0     0    0     0    0     0      0      0 --:--:-- --:--:-- --:--:--     0"
     ]
    },
    {
     "name": "stdout",
     "output_type": "stream",
     "text": [
      "Downloading https://croptalk-spoi.s3.amazonaws.com/SPOI/38_093_90_0047_20101130.pdf to /Users/katerina/Documents/CropGuard/Dec_demo/demo_knowledge/38_093_90_0047_20101130.pdf\n"
     ]
    },
    {
     "name": "stderr",
     "output_type": "stream",
     "text": [
      "100  9960  100  9960    0     0  11990      0 --:--:-- --:--:-- --:--:-- 12043\n",
      "  % Total    % Received % Xferd  Average Speed   Time    Time     Time  Current\n",
      "                                 Dload  Upload   Total   Spent    Left  Speed\n",
      "  0     0    0     0    0     0      0      0 --:--:-- --:--:-- --:--:--     0"
     ]
    },
    {
     "name": "stdout",
     "output_type": "stream",
     "text": [
      "Downloading https://croptalk-spoi.s3.amazonaws.com/SPOI/38_091_90_0047_20101130.pdf to /Users/katerina/Documents/CropGuard/Dec_demo/demo_knowledge/38_091_90_0047_20101130.pdf\n"
     ]
    },
    {
     "name": "stderr",
     "output_type": "stream",
     "text": [
      "100 10847  100 10847    0     0  18833      0 --:--:-- --:--:-- --:--:-- 18930\n",
      "  % Total    % Received % Xferd  Average Speed   Time    Time     Time  Current\n",
      "                                 Dload  Upload   Total   Spent    Left  Speed\n",
      "  0     0    0     0    0     0      0      0 --:--:-- --:--:-- --:--:--     0"
     ]
    },
    {
     "name": "stdout",
     "output_type": "stream",
     "text": [
      "Downloading https://croptalk-spoi.s3.amazonaws.com/SPOI/38_083_90_0047_20101130.pdf to /Users/katerina/Documents/CropGuard/Dec_demo/demo_knowledge/38_083_90_0047_20101130.pdf\n"
     ]
    },
    {
     "name": "stderr",
     "output_type": "stream",
     "text": [
      "100  8410  100  8410    0     0  12362      0 --:--:-- --:--:-- --:--:-- 12422\n",
      "  % Total    % Received % Xferd  Average Speed   Time    Time     Time  Current\n",
      "                                 Dload  Upload   Total   Spent    Left  Speed\n",
      "  0     0    0     0    0     0      0      0 --:--:-- --:--:-- --:--:--     0"
     ]
    },
    {
     "name": "stdout",
     "output_type": "stream",
     "text": [
      "Downloading https://croptalk-spoi.s3.amazonaws.com/SPOI/38_081_90_0047_20101130.pdf to /Users/katerina/Documents/CropGuard/Dec_demo/demo_knowledge/38_081_90_0047_20101130.pdf\n"
     ]
    },
    {
     "name": "stderr",
     "output_type": "stream",
     "text": [
      "100 10770  100 10770    0     0  21458      0 --:--:-- --:--:-- --:--:-- 21626\n",
      "  % Total    % Received % Xferd  Average Speed   Time    Time     Time  Current\n",
      "                                 Dload  Upload   Total   Spent    Left  Speed\n",
      "  0     0    0     0    0     0      0      0 --:--:-- --:--:-- --:--:--     0"
     ]
    },
    {
     "name": "stdout",
     "output_type": "stream",
     "text": [
      "Downloading https://croptalk-spoi.s3.amazonaws.com/SPOI/38_079_90_0047_20101130.pdf to /Users/katerina/Documents/CropGuard/Dec_demo/demo_knowledge/38_079_90_0047_20101130.pdf\n"
     ]
    },
    {
     "name": "stderr",
     "output_type": "stream",
     "text": [
      "100  8412  100  8412    0     0  27009      0 --:--:-- --:--:-- --:--:-- 27400\n",
      "  % Total    % Received % Xferd  Average Speed   Time    Time     Time  Current\n",
      "                                 Dload  Upload   Total   Spent    Left  Speed\n",
      "  0     0    0     0    0     0      0      0 --:--:-- --:--:-- --:--:--     0"
     ]
    },
    {
     "name": "stdout",
     "output_type": "stream",
     "text": [
      "Downloading https://croptalk-spoi.s3.amazonaws.com/SPOI/27_113_90_0047_20101130.pdf to /Users/katerina/Documents/CropGuard/Dec_demo/demo_knowledge/27_113_90_0047_20101130.pdf\n"
     ]
    },
    {
     "name": "stderr",
     "output_type": "stream",
     "text": [
      "100  9661  100  9661    0     0  35269      0 --:--:-- --:--:-- --:--:-- 35914\n",
      "  % Total    % Received % Xferd  Average Speed   Time    Time     Time  Current\n",
      "                                 Dload  Upload   Total   Spent    Left  Speed\n",
      "  0     0    0     0    0     0      0      0 --:--:-- --:--:-- --:--:--     0"
     ]
    },
    {
     "name": "stdout",
     "output_type": "stream",
     "text": [
      "Downloading https://croptalk-spoi.s3.amazonaws.com/SPOI/27_173_90_0047_20101130.pdf to /Users/katerina/Documents/CropGuard/Dec_demo/demo_knowledge/27_173_90_0047_20101130.pdf\n"
     ]
    },
    {
     "name": "stderr",
     "output_type": "stream",
     "text": [
      "100  8140  100  8140    0     0  28673      0 --:--:-- --:--:-- --:--:-- 29071\n",
      "  % Total    % Received % Xferd  Average Speed   Time    Time     Time  Current\n",
      "                                 Dload  Upload   Total   Spent    Left  Speed\n",
      "  0     0    0     0    0     0      0      0 --:--:-- --:--:-- --:--:--     0"
     ]
    },
    {
     "name": "stdout",
     "output_type": "stream",
     "text": [
      "Downloading https://croptalk-spoi.s3.amazonaws.com/SPOI/27_171_90_0047_20101130.pdf to /Users/katerina/Documents/CropGuard/Dec_demo/demo_knowledge/27_171_90_0047_20101130.pdf\n"
     ]
    },
    {
     "name": "stderr",
     "output_type": "stream",
     "text": [
      "100  7759  100  7759    0     0  26575      0 --:--:-- --:--:-- --:--:-- 26940\n",
      "  % Total    % Received % Xferd  Average Speed   Time    Time     Time  Current\n",
      "                                 Dload  Upload   Total   Spent    Left  Speed\n",
      "  0     0    0     0    0     0      0      0 --:--:-- --:--:-- --:--:--     0"
     ]
    },
    {
     "name": "stdout",
     "output_type": "stream",
     "text": [
      "Downloading https://croptalk-spoi.s3.amazonaws.com/SPOI/27_167_90_0047_20101130.pdf to /Users/katerina/Documents/CropGuard/Dec_demo/demo_knowledge/27_167_90_0047_20101130.pdf\n"
     ]
    },
    {
     "name": "stderr",
     "output_type": "stream",
     "text": [
      "100  7770  100  7770    0     0  25760      0 --:--:-- --:--:-- --:--:-- 26073\n",
      "  % Total    % Received % Xferd  Average Speed   Time    Time     Time  Current\n",
      "                                 Dload  Upload   Total   Spent    Left  Speed\n",
      "  0     0    0     0    0     0      0      0 --:--:-- --:--:-- --:--:--     0"
     ]
    },
    {
     "name": "stdout",
     "output_type": "stream",
     "text": [
      "Downloading https://croptalk-spoi.s3.amazonaws.com/SPOI/27_159_90_0047_20101130.pdf to /Users/katerina/Documents/CropGuard/Dec_demo/demo_knowledge/27_159_90_0047_20101130.pdf\n"
     ]
    },
    {
     "name": "stderr",
     "output_type": "stream",
     "text": [
      "100  7691  100  7691    0     0  24918      0 --:--:-- --:--:-- --:--:-- 25133\n",
      "  % Total    % Received % Xferd  Average Speed   Time    Time     Time  Current\n",
      "                                 Dload  Upload   Total   Spent    Left  Speed\n",
      "  0     0    0     0    0     0      0      0 --:--:-- --:--:-- --:--:--     0"
     ]
    },
    {
     "name": "stdout",
     "output_type": "stream",
     "text": [
      "Downloading https://croptalk-spoi.s3.amazonaws.com/SPOI/27_155_90_0047_20101130.pdf to /Users/katerina/Documents/CropGuard/Dec_demo/demo_knowledge/27_155_90_0047_20101130.pdf\n"
     ]
    },
    {
     "name": "stderr",
     "output_type": "stream",
     "text": [
      "100  7770  100  7770    0     0  27593      0 --:--:-- --:--:-- --:--:-- 28050\n",
      "  % Total    % Received % Xferd  Average Speed   Time    Time     Time  Current\n",
      "                                 Dload  Upload   Total   Spent    Left  Speed\n",
      "  0     0    0     0    0     0      0      0 --:--:-- --:--:-- --:--:--     0"
     ]
    },
    {
     "name": "stdout",
     "output_type": "stream",
     "text": [
      "Downloading https://croptalk-spoi.s3.amazonaws.com/SPOI/27_153_90_0047_20101130.pdf to /Users/katerina/Documents/CropGuard/Dec_demo/demo_knowledge/27_153_90_0047_20101130.pdf\n"
     ]
    },
    {
     "name": "stderr",
     "output_type": "stream",
     "text": [
      "100  8129  100  8129    0     0  24287      0 --:--:-- --:--:-- --:--:-- 24633\n",
      "  % Total    % Received % Xferd  Average Speed   Time    Time     Time  Current\n",
      "                                 Dload  Upload   Total   Spent    Left  Speed\n",
      "  0     0    0     0    0     0      0      0 --:--:-- --:--:-- --:--:--     0"
     ]
    },
    {
     "name": "stdout",
     "output_type": "stream",
     "text": [
      "Downloading https://croptalk-spoi.s3.amazonaws.com/SPOI/27_151_90_0047_20101130.pdf to /Users/katerina/Documents/CropGuard/Dec_demo/demo_knowledge/27_151_90_0047_20101130.pdf\n"
     ]
    },
    {
     "name": "stderr",
     "output_type": "stream",
     "text": [
      "100  9916  100  9916    0     0  29079      0 --:--:-- --:--:-- --:--:-- 29337\n",
      "  % Total    % Received % Xferd  Average Speed   Time    Time     Time  Current\n",
      "                                 Dload  Upload   Total   Spent    Left  Speed\n",
      "  0     0    0     0    0     0      0      0 --:--:-- --:--:-- --:--:--     0"
     ]
    },
    {
     "name": "stdout",
     "output_type": "stream",
     "text": [
      "Downloading https://croptalk-spoi.s3.amazonaws.com/SPOI/27_149_90_0047_20101130.pdf to /Users/katerina/Documents/CropGuard/Dec_demo/demo_knowledge/27_149_90_0047_20101130.pdf\n"
     ]
    },
    {
     "name": "stderr",
     "output_type": "stream",
     "text": [
      "100  7983  100  7983    0     0  26659      0 --:--:-- --:--:-- --:--:-- 26969\n",
      "  % Total    % Received % Xferd  Average Speed   Time    Time     Time  Current\n",
      "                                 Dload  Upload   Total   Spent    Left  Speed\n",
      "  0     0    0     0    0     0      0      0 --:--:-- --:--:-- --:--:--     0"
     ]
    },
    {
     "name": "stdout",
     "output_type": "stream",
     "text": [
      "Downloading https://croptalk-spoi.s3.amazonaws.com/SPOI/27_145_90_0047_20101130.pdf to /Users/katerina/Documents/CropGuard/Dec_demo/demo_knowledge/27_145_90_0047_20101130.pdf\n"
     ]
    },
    {
     "name": "stderr",
     "output_type": "stream",
     "text": [
      "100  7935  100  7935    0     0  25882      0 --:--:-- --:--:-- --:--:-- 26188\n",
      "  % Total    % Received % Xferd  Average Speed   Time    Time     Time  Current\n",
      "                                 Dload  Upload   Total   Spent    Left  Speed\n",
      "  0     0    0     0    0     0      0      0 --:--:-- --:--:-- --:--:--     0"
     ]
    },
    {
     "name": "stdout",
     "output_type": "stream",
     "text": [
      "Downloading https://croptalk-spoi.s3.amazonaws.com/SPOI/27_143_90_0047_20101130.pdf to /Users/katerina/Documents/CropGuard/Dec_demo/demo_knowledge/27_143_90_0047_20101130.pdf\n"
     ]
    },
    {
     "name": "stderr",
     "output_type": "stream",
     "text": [
      "100  9650  100  9650    0     0  27502      0 --:--:-- --:--:-- --:--:-- 27650\n",
      "  % Total    % Received % Xferd  Average Speed   Time    Time     Time  Current\n",
      "                                 Dload  Upload   Total   Spent    Left  Speed\n",
      "  0     0    0     0    0     0      0      0 --:--:-- --:--:-- --:--:--     0"
     ]
    },
    {
     "name": "stdout",
     "output_type": "stream",
     "text": [
      "Downloading https://croptalk-spoi.s3.amazonaws.com/SPOI/27_141_90_0047_20101130.pdf to /Users/katerina/Documents/CropGuard/Dec_demo/demo_knowledge/27_141_90_0047_20101130.pdf\n"
     ]
    },
    {
     "name": "stderr",
     "output_type": "stream",
     "text": [
      "100  7998  100  7998    0     0  27956      0 --:--:-- --:--:-- --:--:-- 28261\n",
      "  % Total    % Received % Xferd  Average Speed   Time    Time     Time  Current\n",
      "                                 Dload  Upload   Total   Spent    Left  Speed\n",
      "  0     0    0     0    0     0      0      0 --:--:-- --:--:-- --:--:--     0"
     ]
    },
    {
     "name": "stdout",
     "output_type": "stream",
     "text": [
      "Downloading https://croptalk-spoi.s3.amazonaws.com/SPOI/27_129_90_0047_20101130.pdf to /Users/katerina/Documents/CropGuard/Dec_demo/demo_knowledge/27_129_90_0047_20101130.pdf\n"
     ]
    },
    {
     "name": "stderr",
     "output_type": "stream",
     "text": [
      "100 10240  100 10240    0     0  35313      0 --:--:-- --:--:-- --:--:-- 35679\n",
      "  % Total    % Received % Xferd  Average Speed   Time    Time     Time  Current\n",
      "                                 Dload  Upload   Total   Spent    Left  Speed\n",
      "  0     0    0     0    0     0      0      0 --:--:-- --:--:-- --:--:--     0"
     ]
    },
    {
     "name": "stdout",
     "output_type": "stream",
     "text": [
      "Downloading https://croptalk-spoi.s3.amazonaws.com/SPOI/27_127_90_0047_20101130.pdf to /Users/katerina/Documents/CropGuard/Dec_demo/demo_knowledge/27_127_90_0047_20101130.pdf\n"
     ]
    },
    {
     "name": "stderr",
     "output_type": "stream",
     "text": [
      "100  7750  100  7750    0     0  22151      0 --:--:-- --:--:-- --:--:-- 22334\n",
      "  % Total    % Received % Xferd  Average Speed   Time    Time     Time  Current\n",
      "                                 Dload  Upload   Total   Spent    Left  Speed\n",
      "  0     0    0     0    0     0      0      0 --:--:-- --:--:-- --:--:--     0"
     ]
    },
    {
     "name": "stdout",
     "output_type": "stream",
     "text": [
      "Downloading https://croptalk-spoi.s3.amazonaws.com/SPOI/27_125_90_0047_20101130.pdf to /Users/katerina/Documents/CropGuard/Dec_demo/demo_knowledge/27_125_90_0047_20101130.pdf\n"
     ]
    },
    {
     "name": "stderr",
     "output_type": "stream",
     "text": [
      "100 10404  100 10404    0     0  35337      0 --:--:-- --:--:-- --:--:-- 35752\n",
      "  % Total    % Received % Xferd  Average Speed   Time    Time     Time  Current\n",
      "                                 Dload  Upload   Total   Spent    Left  Speed\n",
      "  0     0    0     0    0     0      0      0 --:--:-- --:--:-- --:--:--     0"
     ]
    },
    {
     "name": "stdout",
     "output_type": "stream",
     "text": [
      "Downloading https://croptalk-spoi.s3.amazonaws.com/SPOI/27_121_90_0047_20101130.pdf to /Users/katerina/Documents/CropGuard/Dec_demo/demo_knowledge/27_121_90_0047_20101130.pdf\n"
     ]
    },
    {
     "name": "stderr",
     "output_type": "stream",
     "text": [
      "100  9769  100  9769    0     0  31358      0 --:--:-- --:--:-- --:--:-- 31717\n",
      "  % Total    % Received % Xferd  Average Speed   Time    Time     Time  Current\n",
      "                                 Dload  Upload   Total   Spent    Left  Speed\n",
      "  0     0    0     0    0     0      0      0 --:--:-- --:--:-- --:--:--     0"
     ]
    },
    {
     "name": "stdout",
     "output_type": "stream",
     "text": [
      "Downloading https://croptalk-spoi.s3.amazonaws.com/SPOI/30_003_90_0067_20101130.pdf to /Users/katerina/Documents/CropGuard/Dec_demo/demo_knowledge/30_003_90_0067_20101130.pdf\n"
     ]
    },
    {
     "name": "stderr",
     "output_type": "stream",
     "text": [
      "100  6885  100  6885    0     0  24408      0 --:--:-- --:--:-- --:--:-- 24589\n",
      "  % Total    % Received % Xferd  Average Speed   Time    Time     Time  Current\n",
      "                                 Dload  Upload   Total   Spent    Left  Speed\n",
      "  0     0    0     0    0     0      0      0 --:--:-- --:--:-- --:--:--     0"
     ]
    },
    {
     "name": "stdout",
     "output_type": "stream",
     "text": [
      "Downloading https://croptalk-spoi.s3.amazonaws.com/SPOI/30_005_90_0067_20101130.pdf to /Users/katerina/Documents/CropGuard/Dec_demo/demo_knowledge/30_005_90_0067_20101130.pdf\n"
     ]
    },
    {
     "name": "stderr",
     "output_type": "stream",
     "text": [
      "100  6987  100  6987    0     0  22528      0 --:--:-- --:--:-- --:--:-- 22908\n",
      "  % Total    % Received % Xferd  Average Speed   Time    Time     Time  Current\n",
      "                                 Dload  Upload   Total   Spent    Left  Speed\n",
      "  0     0    0     0    0     0      0      0 --:--:-- --:--:-- --:--:--     0"
     ]
    },
    {
     "name": "stdout",
     "output_type": "stream",
     "text": [
      "Downloading https://croptalk-spoi.s3.amazonaws.com/SPOI/28_027_90_0075_20101130.pdf to /Users/katerina/Documents/CropGuard/Dec_demo/demo_knowledge/28_027_90_0075_20101130.pdf\n"
     ]
    },
    {
     "name": "stderr",
     "output_type": "stream",
     "text": [
      "100  7607  100  7607    0     0  26402      0 --:--:-- --:--:-- --:--:-- 26785\n",
      "  % Total    % Received % Xferd  Average Speed   Time    Time     Time  Current\n",
      "                                 Dload  Upload   Total   Spent    Left  Speed\n",
      "  0     0    0     0    0     0      0      0 --:--:-- --:--:-- --:--:--     0"
     ]
    },
    {
     "name": "stdout",
     "output_type": "stream",
     "text": [
      "Downloading https://croptalk-spoi.s3.amazonaws.com/SPOI/38_105_90_0067_20101130.pdf to /Users/katerina/Documents/CropGuard/Dec_demo/demo_knowledge/38_105_90_0067_20101130.pdf\n"
     ]
    },
    {
     "name": "stderr",
     "output_type": "stream",
     "text": [
      "100 10488  100 10488    0     0  35577      0 --:--:-- --:--:-- --:--:-- 35917\n",
      "  % Total    % Received % Xferd  Average Speed   Time    Time     Time  Current\n",
      "                                 Dload  Upload   Total   Spent    Left  Speed\n",
      "  0     0    0     0    0     0      0      0 --:--:-- --:--:-- --:--:--     0"
     ]
    },
    {
     "name": "stdout",
     "output_type": "stream",
     "text": [
      "Downloading https://croptalk-spoi.s3.amazonaws.com/SPOI/38_103_90_0067_20101130.pdf to /Users/katerina/Documents/CropGuard/Dec_demo/demo_knowledge/38_103_90_0067_20101130.pdf\n"
     ]
    },
    {
     "name": "stderr",
     "output_type": "stream",
     "text": [
      "100  6176  100  6176    0     0  20576      0 --:--:-- --:--:-- --:--:-- 20864\n",
      "  % Total    % Received % Xferd  Average Speed   Time    Time     Time  Current\n",
      "                                 Dload  Upload   Total   Spent    Left  Speed\n",
      "  0     0    0     0    0     0      0      0 --:--:-- --:--:-- --:--:--     0"
     ]
    },
    {
     "name": "stdout",
     "output_type": "stream",
     "text": [
      "Downloading https://croptalk-spoi.s3.amazonaws.com/SPOI/38_101_90_0067_20101130.pdf to /Users/katerina/Documents/CropGuard/Dec_demo/demo_knowledge/38_101_90_0067_20101130.pdf\n"
     ]
    },
    {
     "name": "stderr",
     "output_type": "stream",
     "text": [
      "100 10148  100 10148    0     0  21331      0 --:--:-- --:--:-- --:--:-- 21454\n",
      "  % Total    % Received % Xferd  Average Speed   Time    Time     Time  Current\n",
      "                                 Dload  Upload   Total   Spent    Left  Speed\n",
      "  0     0    0     0    0     0      0      0 --:--:-- --:--:-- --:--:--     0"
     ]
    },
    {
     "name": "stdout",
     "output_type": "stream",
     "text": [
      "Downloading https://croptalk-spoi.s3.amazonaws.com/SPOI/38_099_90_0067_20101130.pdf to /Users/katerina/Documents/CropGuard/Dec_demo/demo_knowledge/38_099_90_0067_20101130.pdf\n"
     ]
    },
    {
     "name": "stderr",
     "output_type": "stream",
     "text": [
      "100  4876  100  4876    0     0  16553      0 --:--:-- --:--:-- --:--:-- 16813\n",
      "  % Total    % Received % Xferd  Average Speed   Time    Time     Time  Current\n",
      "                                 Dload  Upload   Total   Spent    Left  Speed\n",
      "  0     0    0     0    0     0      0      0 --:--:-- --:--:-- --:--:--     0"
     ]
    },
    {
     "name": "stdout",
     "output_type": "stream",
     "text": [
      "Downloading https://croptalk-spoi.s3.amazonaws.com/SPOI/38_097_90_0067_20101130.pdf to /Users/katerina/Documents/CropGuard/Dec_demo/demo_knowledge/38_097_90_0067_20101130.pdf\n"
     ]
    },
    {
     "name": "stderr",
     "output_type": "stream",
     "text": [
      "100  4877  100  4877    0     0  17089      0 --:--:-- --:--:-- --:--:-- 17294\n",
      "  % Total    % Received % Xferd  Average Speed   Time    Time     Time  Current\n",
      "                                 Dload  Upload   Total   Spent    Left  Speed\n",
      "  0     0    0     0    0     0      0      0 --:--:-- --:--:-- --:--:--     0"
     ]
    },
    {
     "name": "stdout",
     "output_type": "stream",
     "text": [
      "Downloading https://croptalk-spoi.s3.amazonaws.com/SPOI/38_095_90_0067_20101130.pdf to /Users/katerina/Documents/CropGuard/Dec_demo/demo_knowledge/38_095_90_0067_20101130.pdf\n"
     ]
    },
    {
     "name": "stderr",
     "output_type": "stream",
     "text": [
      "100  4876  100  4876    0     0  17299      0 --:--:-- --:--:-- --:--:-- 17476\n",
      "  % Total    % Received % Xferd  Average Speed   Time    Time     Time  Current\n",
      "                                 Dload  Upload   Total   Spent    Left  Speed\n",
      "  0     0    0     0    0     0      0      0 --:--:-- --:--:-- --:--:--     0"
     ]
    },
    {
     "name": "stdout",
     "output_type": "stream",
     "text": [
      "Downloading https://croptalk-spoi.s3.amazonaws.com/SPOI/38_093_90_0067_20101130.pdf to /Users/katerina/Documents/CropGuard/Dec_demo/demo_knowledge/38_093_90_0067_20101130.pdf\n"
     ]
    },
    {
     "name": "stderr",
     "output_type": "stream",
     "text": [
      "100  4877  100  4877    0     0  14396      0 --:--:-- --:--:-- --:--:-- 14514\n",
      "  % Total    % Received % Xferd  Average Speed   Time    Time     Time  Current\n",
      "                                 Dload  Upload   Total   Spent    Left  Speed\n",
      "  0     0    0     0    0     0      0      0 --:--:-- --:--:-- --:--:--     0"
     ]
    },
    {
     "name": "stdout",
     "output_type": "stream",
     "text": [
      "Downloading https://croptalk-spoi.s3.amazonaws.com/SPOI/38_091_90_0067_20101130.pdf to /Users/katerina/Documents/CropGuard/Dec_demo/demo_knowledge/38_091_90_0067_20101130.pdf\n"
     ]
    },
    {
     "name": "stderr",
     "output_type": "stream",
     "text": [
      "100  4877  100  4877    0     0  16256      0 --:--:-- --:--:-- --:--:-- 16420\n",
      "  % Total    % Received % Xferd  Average Speed   Time    Time     Time  Current\n",
      "                                 Dload  Upload   Total   Spent    Left  Speed\n",
      "  0     0    0     0    0     0      0      0 --:--:-- --:--:-- --:--:--     0"
     ]
    },
    {
     "name": "stdout",
     "output_type": "stream",
     "text": [
      "Downloading https://croptalk-spoi.s3.amazonaws.com/SPOI/38_089_90_0067_20101130.pdf to /Users/katerina/Documents/CropGuard/Dec_demo/demo_knowledge/38_089_90_0067_20101130.pdf\n"
     ]
    },
    {
     "name": "stderr",
     "output_type": "stream",
     "text": [
      "100  9983  100  9983    0     0  29941      0 --:--:-- --:--:-- --:--:-- 30251\n",
      "  % Total    % Received % Xferd  Average Speed   Time    Time     Time  Current\n",
      "                                 Dload  Upload   Total   Spent    Left  Speed\n",
      "  0     0    0     0    0     0      0      0 --:--:-- --:--:-- --:--:--     0"
     ]
    },
    {
     "name": "stdout",
     "output_type": "stream",
     "text": [
      "Downloading https://croptalk-spoi.s3.amazonaws.com/SPOI/38_087_90_0067_20101130.pdf to /Users/katerina/Documents/CropGuard/Dec_demo/demo_knowledge/38_087_90_0067_20101130.pdf\n"
     ]
    },
    {
     "name": "stderr",
     "output_type": "stream",
     "text": [
      "100  6649  100  6649    0     0  24898      0 --:--:-- --:--:-- --:--:-- 25281\n",
      "  % Total    % Received % Xferd  Average Speed   Time    Time     Time  Current\n",
      "                                 Dload  Upload   Total   Spent    Left  Speed\n",
      "  0     0    0     0    0     0      0      0 --:--:-- --:--:-- --:--:--     0"
     ]
    },
    {
     "name": "stdout",
     "output_type": "stream",
     "text": [
      "Downloading https://croptalk-spoi.s3.amazonaws.com/SPOI/38_085_90_0067_20101130.pdf to /Users/katerina/Documents/CropGuard/Dec_demo/demo_knowledge/38_085_90_0067_20101130.pdf\n"
     ]
    },
    {
     "name": "stderr",
     "output_type": "stream",
     "text": [
      "100  6646  100  6646    0     0  21823      0 --:--:-- --:--:-- --:--:-- 22153\n",
      "  % Total    % Received % Xferd  Average Speed   Time    Time     Time  Current\n",
      "                                 Dload  Upload   Total   Spent    Left  Speed\n",
      "  0     0    0     0    0     0      0      0 --:--:-- --:--:-- --:--:--     0"
     ]
    },
    {
     "name": "stdout",
     "output_type": "stream",
     "text": [
      "Downloading https://croptalk-spoi.s3.amazonaws.com/SPOI/38_083_90_0067_20101130.pdf to /Users/katerina/Documents/CropGuard/Dec_demo/demo_knowledge/38_083_90_0067_20101130.pdf\n"
     ]
    },
    {
     "name": "stderr",
     "output_type": "stream",
     "text": [
      "100  6653  100  6653    0     0  24563      0 --:--:-- --:--:-- --:--:-- 25011\n",
      "  % Total    % Received % Xferd  Average Speed   Time    Time     Time  Current\n",
      "                                 Dload  Upload   Total   Spent    Left  Speed\n",
      "  0     0    0     0    0     0      0      0 --:--:-- --:--:-- --:--:--     0"
     ]
    },
    {
     "name": "stdout",
     "output_type": "stream",
     "text": [
      "Downloading https://croptalk-spoi.s3.amazonaws.com/SPOI/38_081_90_0067_20101130.pdf to /Users/katerina/Documents/CropGuard/Dec_demo/demo_knowledge/38_081_90_0067_20101130.pdf\n"
     ]
    },
    {
     "name": "stderr",
     "output_type": "stream",
     "text": [
      "100  6175  100  6175    0     0  16339      0 --:--:-- --:--:-- --:--:-- 16422\n",
      "  % Total    % Received % Xferd  Average Speed   Time    Time     Time  Current\n",
      "                                 Dload  Upload   Total   Spent    Left  Speed\n",
      "  0     0    0     0    0     0      0      0 --:--:-- --:--:-- --:--:--     0"
     ]
    },
    {
     "name": "stdout",
     "output_type": "stream",
     "text": [
      "Downloading https://croptalk-spoi.s3.amazonaws.com/SPOI/38_079_90_0067_20101130.pdf to /Users/katerina/Documents/CropGuard/Dec_demo/demo_knowledge/38_079_90_0067_20101130.pdf\n"
     ]
    },
    {
     "name": "stderr",
     "output_type": "stream",
     "text": [
      "100  4881  100  4881    0     0  15934      0 --:--:-- --:--:-- --:--:-- 16215\n",
      "  % Total    % Received % Xferd  Average Speed   Time    Time     Time  Current\n",
      "                                 Dload  Upload   Total   Spent    Left  Speed\n",
      "  0     0    0     0    0     0      0      0 --:--:-- --:--:-- --:--:--     0"
     ]
    },
    {
     "name": "stdout",
     "output_type": "stream",
     "text": [
      "Downloading https://croptalk-spoi.s3.amazonaws.com/SPOI/38_077_90_0067_20101130.pdf to /Users/katerina/Documents/CropGuard/Dec_demo/demo_knowledge/38_077_90_0067_20101130.pdf\n"
     ]
    },
    {
     "name": "stderr",
     "output_type": "stream",
     "text": [
      "100  6179  100  6179    0     0   8583      0 --:--:-- --:--:-- --:--:--  8617\n"
     ]
    },
    {
     "name": "stdout",
     "output_type": "stream",
     "text": [
      "Downloading https://croptalk-spoi.s3.amazonaws.com/SPOI/53_071_90_0067_20101130.pdf to /Users/katerina/Documents/CropGuard/Dec_demo/demo_knowledge/53_071_90_0067_20101130.pdf\n"
     ]
    },
    {
     "name": "stderr",
     "output_type": "stream",
     "text": [
      "  % Total    % Received % Xferd  Average Speed   Time    Time     Time  Current\n",
      "                                 Dload  Upload   Total   Spent    Left  Speed\n",
      "100  7769  100  7769    0     0  11354      0 --:--:-- --:--:-- --:--:-- 11408\n",
      "  % Total    % Received % Xferd  Average Speed   Time    Time     Time  Current\n",
      "                                 Dload  Upload   Total   Spent    Left  Speed\n",
      "  0     0    0     0    0     0      0      0 --:--:-- --:--:-- --:--:--     0"
     ]
    },
    {
     "name": "stdout",
     "output_type": "stream",
     "text": [
      "Downloading https://croptalk-spoi.s3.amazonaws.com/SPOI/53_063_90_0067_20101130.pdf to /Users/katerina/Documents/CropGuard/Dec_demo/demo_knowledge/53_063_90_0067_20101130.pdf\n"
     ]
    },
    {
     "name": "stderr",
     "output_type": "stream",
     "text": [
      "100  7459  100  7459    0     0   9054      0 --:--:-- --:--:-- --:--:--  9107\n",
      "  % Total    % Received % Xferd  Average Speed   Time    Time     Time  Current\n",
      "                                 Dload  Upload   Total   Spent    Left  Speed\n",
      "  0     0    0     0    0     0      0      0 --:--:-- --:--:-- --:--:--     0"
     ]
    },
    {
     "name": "stdout",
     "output_type": "stream",
     "text": [
      "Downloading https://croptalk-spoi.s3.amazonaws.com/SPOI/53_025_90_0067_20101130.pdf to /Users/katerina/Documents/CropGuard/Dec_demo/demo_knowledge/53_025_90_0067_20101130.pdf\n"
     ]
    },
    {
     "name": "stderr",
     "output_type": "stream",
     "text": [
      "100  4016  100  4016    0     0   3417      0  0:00:01  0:00:01 --:--:--  3423\n",
      "  % Total    % Received % Xferd  Average Speed   Time    Time     Time  Current\n",
      "                                 Dload  Upload   Total   Spent    Left  Speed\n",
      "  0     0    0     0    0     0      0      0 --:--:-- --:--:-- --:--:--     0"
     ]
    },
    {
     "name": "stdout",
     "output_type": "stream",
     "text": [
      "Downloading https://croptalk-spoi.s3.amazonaws.com/SPOI/53_023_90_0067_20101130.pdf to /Users/katerina/Documents/CropGuard/Dec_demo/demo_knowledge/53_023_90_0067_20101130.pdf\n"
     ]
    },
    {
     "name": "stderr",
     "output_type": "stream",
     "text": [
      "100  4564  100  4564    0     0   8301      0 --:--:-- --:--:-- --:--:--  8374\n",
      "  % Total    % Received % Xferd  Average Speed   Time    Time     Time  Current\n",
      "                                 Dload  Upload   Total   Spent    Left  Speed\n",
      "  0     0    0     0    0     0      0      0 --:--:-- --:--:-- --:--:--     0"
     ]
    },
    {
     "name": "stdout",
     "output_type": "stream",
     "text": [
      "Downloading https://croptalk-spoi.s3.amazonaws.com/SPOI/53_021_90_0067_20101130.pdf to /Users/katerina/Documents/CropGuard/Dec_demo/demo_knowledge/53_021_90_0067_20101130.pdf\n"
     ]
    },
    {
     "name": "stderr",
     "output_type": "stream",
     "text": [
      "100  4241  100  4241    0     0  13247      0 --:--:-- --:--:-- --:--:-- 13336\n",
      "  % Total    % Received % Xferd  Average Speed   Time    Time     Time  Current\n",
      "                                 Dload  Upload   Total   Spent    Left  Speed\n",
      "  0     0    0     0    0     0      0      0 --:--:-- --:--:-- --:--:--     0"
     ]
    },
    {
     "name": "stdout",
     "output_type": "stream",
     "text": [
      "Downloading https://croptalk-spoi.s3.amazonaws.com/SPOI/53_013_90_0067_20101130.pdf to /Users/katerina/Documents/CropGuard/Dec_demo/demo_knowledge/53_013_90_0067_20101130.pdf\n"
     ]
    },
    {
     "name": "stderr",
     "output_type": "stream",
     "text": [
      "100  7459  100  7459    0     0  27124      0 --:--:-- --:--:-- --:--:-- 27625\n",
      "  % Total    % Received % Xferd  Average Speed   Time    Time     Time  Current\n",
      "                                 Dload  Upload   Total   Spent    Left  Speed\n",
      "  0     0    0     0    0     0      0      0 --:--:-- --:--:-- --:--:--     0"
     ]
    },
    {
     "name": "stdout",
     "output_type": "stream",
     "text": [
      "Downloading https://croptalk-spoi.s3.amazonaws.com/SPOI/38_075_90_0067_20101130.pdf to /Users/katerina/Documents/CropGuard/Dec_demo/demo_knowledge/38_075_90_0067_20101130.pdf\n"
     ]
    },
    {
     "name": "stderr",
     "output_type": "stream",
     "text": [
      "100  6479  100  6479    0     0  23814      0 --:--:-- --:--:-- --:--:-- 24175\n",
      "  % Total    % Received % Xferd  Average Speed   Time    Time     Time  Current\n",
      "                                 Dload  Upload   Total   Spent    Left  Speed\n",
      "  0     0    0     0    0     0      0      0 --:--:-- --:--:-- --:--:--     0"
     ]
    },
    {
     "name": "stdout",
     "output_type": "stream",
     "text": [
      "Downloading https://croptalk-spoi.s3.amazonaws.com/SPOI/53_001_90_0067_20101130.pdf to /Users/katerina/Documents/CropGuard/Dec_demo/demo_knowledge/53_001_90_0067_20101130.pdf\n"
     ]
    },
    {
     "name": "stderr",
     "output_type": "stream",
     "text": [
      "100  4015  100  4015    0     0  13510      0 --:--:-- --:--:-- --:--:-- 13703\n",
      "  % Total    % Received % Xferd  Average Speed   Time    Time     Time  Current\n",
      "                                 Dload  Upload   Total   Spent    Left  Speed\n",
      "  0     0    0     0    0     0      0      0 --:--:-- --:--:-- --:--:--     0"
     ]
    },
    {
     "name": "stdout",
     "output_type": "stream",
     "text": [
      "Downloading https://croptalk-spoi.s3.amazonaws.com/SPOI/38_073_90_0067_20101130.pdf to /Users/katerina/Documents/CropGuard/Dec_demo/demo_knowledge/38_073_90_0067_20101130.pdf\n"
     ]
    },
    {
     "name": "stderr",
     "output_type": "stream",
     "text": [
      "100  6179  100  6179    0     0  15554      0 --:--:-- --:--:-- --:--:-- 15722\n",
      "  % Total    % Received % Xferd  Average Speed   Time    Time     Time  Current\n",
      "                                 Dload  Upload   Total   Spent    Left  Speed\n",
      "  0     0    0     0    0     0      0      0 --:--:-- --:--:-- --:--:--     0"
     ]
    },
    {
     "name": "stdout",
     "output_type": "stream",
     "text": [
      "Downloading https://croptalk-spoi.s3.amazonaws.com/SPOI/38_069_90_0067_20101130.pdf to /Users/katerina/Documents/CropGuard/Dec_demo/demo_knowledge/38_069_90_0067_20101130.pdf\n"
     ]
    },
    {
     "name": "stderr",
     "output_type": "stream",
     "text": [
      "100  6175  100  6175    0     0  19789      0 --:--:-- --:--:-- --:--:-- 20114\n",
      "  % Total    % Received % Xferd  Average Speed   Time    Time     Time  Current\n",
      "                                 Dload  Upload   Total   Spent    Left  Speed\n",
      "  0     0    0     0    0     0      0      0 --:--:-- --:--:-- --:--:--     0"
     ]
    },
    {
     "name": "stdout",
     "output_type": "stream",
     "text": [
      "Downloading https://croptalk-spoi.s3.amazonaws.com/SPOI/38_003_90_0067_20101130.pdf to /Users/katerina/Documents/CropGuard/Dec_demo/demo_knowledge/38_003_90_0067_20101130.pdf\n"
     ]
    },
    {
     "name": "stderr",
     "output_type": "stream",
     "text": [
      "100  4880  100  4880    0     0  17292      0 --:--:-- --:--:-- --:--:-- 17491\n",
      "  % Total    % Received % Xferd  Average Speed   Time    Time     Time  Current\n",
      "                                 Dload  Upload   Total   Spent    Left  Speed\n",
      "  0     0    0     0    0     0      0      0 --:--:-- --:--:-- --:--:--     0"
     ]
    },
    {
     "name": "stdout",
     "output_type": "stream",
     "text": [
      "Downloading https://croptalk-spoi.s3.amazonaws.com/SPOI/38_001_90_0067_20101130.pdf to /Users/katerina/Documents/CropGuard/Dec_demo/demo_knowledge/38_001_90_0067_20101130.pdf\n"
     ]
    },
    {
     "name": "stderr",
     "output_type": "stream",
     "text": [
      "100  6645  100  6645    0     0  24418      0 --:--:-- --:--:-- --:--:-- 24794\n",
      "  % Total    % Received % Xferd  Average Speed   Time    Time     Time  Current\n",
      "                                 Dload  Upload   Total   Spent    Left  Speed\n",
      "  0     0    0     0    0     0      0      0 --:--:-- --:--:-- --:--:--     0"
     ]
    },
    {
     "name": "stdout",
     "output_type": "stream",
     "text": [
      "Downloading https://croptalk-spoi.s3.amazonaws.com/SPOI/30_109_90_0067_20101130.pdf to /Users/katerina/Documents/CropGuard/Dec_demo/demo_knowledge/30_109_90_0067_20101130.pdf\n"
     ]
    },
    {
     "name": "stderr",
     "output_type": "stream",
     "text": [
      "100 10226  100 10226    0     0  37386      0 --:--:-- --:--:-- --:--:-- 38014\n",
      "  % Total    % Received % Xferd  Average Speed   Time    Time     Time  Current\n",
      "                                 Dload  Upload   Total   Spent    Left  Speed\n",
      "  0     0    0     0    0     0      0      0 --:--:-- --:--:-- --:--:--     0"
     ]
    },
    {
     "name": "stdout",
     "output_type": "stream",
     "text": [
      "Downloading https://croptalk-spoi.s3.amazonaws.com/SPOI/30_105_90_0067_20101130.pdf to /Users/katerina/Documents/CropGuard/Dec_demo/demo_knowledge/30_105_90_0067_20101130.pdf\n"
     ]
    },
    {
     "name": "stderr",
     "output_type": "stream",
     "text": [
      "100 10221  100 10221    0     0  31702      0 --:--:-- --:--:-- --:--:-- 31940\n",
      "  % Total    % Received % Xferd  Average Speed   Time    Time     Time  Current\n",
      "                                 Dload  Upload   Total   Spent    Left  Speed\n",
      "  0     0    0     0    0     0      0      0 --:--:-- --:--:-- --:--:--     0"
     ]
    },
    {
     "name": "stdout",
     "output_type": "stream",
     "text": [
      "Downloading https://croptalk-spoi.s3.amazonaws.com/SPOI/30_101_90_0067_20101130.pdf to /Users/katerina/Documents/CropGuard/Dec_demo/demo_knowledge/30_101_90_0067_20101130.pdf\n"
     ]
    },
    {
     "name": "stderr",
     "output_type": "stream",
     "text": [
      "100  6781  100  6781    0     0  25731      0 --:--:-- --:--:-- --:--:-- 26080\n",
      "  % Total    % Received % Xferd  Average Speed   Time    Time     Time  Current\n",
      "                                 Dload  Upload   Total   Spent    Left  Speed\n",
      "  0     0    0     0    0     0      0      0 --:--:-- --:--:-- --:--:--     0"
     ]
    },
    {
     "name": "stdout",
     "output_type": "stream",
     "text": [
      "Downloading https://croptalk-spoi.s3.amazonaws.com/SPOI/30_099_90_0067_20101130.pdf to /Users/katerina/Documents/CropGuard/Dec_demo/demo_knowledge/30_099_90_0067_20101130.pdf\n"
     ]
    },
    {
     "name": "stderr",
     "output_type": "stream",
     "text": [
      "100  6881  100  6881    0     0  20622      0 --:--:-- --:--:-- --:--:-- 20851\n",
      "  % Total    % Received % Xferd  Average Speed   Time    Time     Time  Current\n",
      "                                 Dload  Upload   Total   Spent    Left  Speed\n",
      "  0     0    0     0    0     0      0      0 --:--:-- --:--:-- --:--:--     0"
     ]
    },
    {
     "name": "stdout",
     "output_type": "stream",
     "text": [
      "Downloading https://croptalk-spoi.s3.amazonaws.com/SPOI/30_095_90_0067_20101130.pdf to /Users/katerina/Documents/CropGuard/Dec_demo/demo_knowledge/30_095_90_0067_20101130.pdf\n"
     ]
    },
    {
     "name": "stderr",
     "output_type": "stream",
     "text": [
      "100  6638  100  6638    0     0  22297      0 --:--:-- --:--:-- --:--:-- 22578\n",
      "  % Total    % Received % Xferd  Average Speed   Time    Time     Time  Current\n",
      "                                 Dload  Upload   Total   Spent    Left  Speed\n",
      "  0     0    0     0    0     0      0      0 --:--:-- --:--:-- --:--:--     0"
     ]
    },
    {
     "name": "stdout",
     "output_type": "stream",
     "text": [
      "Downloading https://croptalk-spoi.s3.amazonaws.com/SPOI/30_091_90_0067_20101130.pdf to /Users/katerina/Documents/CropGuard/Dec_demo/demo_knowledge/30_091_90_0067_20101130.pdf\n"
     ]
    },
    {
     "name": "stderr",
     "output_type": "stream",
     "text": [
      "100 10578  100 10578    0     0  34936      0 --:--:-- --:--:-- --:--:-- 35260\n",
      "  % Total    % Received % Xferd  Average Speed   Time    Time     Time  Current\n",
      "                                 Dload  Upload   Total   Spent    Left  Speed\n",
      "  0     0    0     0    0     0      0      0 --:--:-- --:--:-- --:--:--     0"
     ]
    },
    {
     "name": "stdout",
     "output_type": "stream",
     "text": [
      "Downloading https://croptalk-spoi.s3.amazonaws.com/SPOI/30_085_90_0067_20101130.pdf to /Users/katerina/Documents/CropGuard/Dec_demo/demo_knowledge/30_085_90_0067_20101130.pdf\n"
     ]
    },
    {
     "name": "stderr",
     "output_type": "stream",
     "text": [
      "100 10324  100 10324    0     0  26057      0 --:--:-- --:--:-- --:--:-- 26404\n",
      "  % Total    % Received % Xferd  Average Speed   Time    Time     Time  Current\n",
      "                                 Dload  Upload   Total   Spent    Left  Speed\n",
      "  0     0    0     0    0     0      0      0 --:--:-- --:--:-- --:--:--     0"
     ]
    },
    {
     "name": "stdout",
     "output_type": "stream",
     "text": [
      "Downloading https://croptalk-spoi.s3.amazonaws.com/SPOI/30_083_90_0067_20101130.pdf to /Users/katerina/Documents/CropGuard/Dec_demo/demo_knowledge/30_083_90_0067_20101130.pdf\n"
     ]
    },
    {
     "name": "stderr",
     "output_type": "stream",
     "text": [
      "100  9972  100  9972    0     0  34176      0 --:--:-- --:--:-- --:--:-- 34625\n",
      "  % Total    % Received % Xferd  Average Speed   Time    Time     Time  Current\n",
      "                                 Dload  Upload   Total   Spent    Left  Speed\n",
      "  0     0    0     0    0     0      0      0 --:--:-- --:--:-- --:--:--     0"
     ]
    },
    {
     "name": "stdout",
     "output_type": "stream",
     "text": [
      "Downloading https://croptalk-spoi.s3.amazonaws.com/SPOI/30_079_90_0067_20101130.pdf to /Users/katerina/Documents/CropGuard/Dec_demo/demo_knowledge/30_079_90_0067_20101130.pdf\n"
     ]
    },
    {
     "name": "stderr",
     "output_type": "stream",
     "text": [
      "100  6479  100  6479    0     0  17994      0 --:--:-- --:--:-- --:--:-- 18199\n",
      "  % Total    % Received % Xferd  Average Speed   Time    Time     Time  Current\n",
      "                                 Dload  Upload   Total   Spent    Left  Speed\n",
      "  0     0    0     0    0     0      0      0 --:--:-- --:--:-- --:--:--     0"
     ]
    },
    {
     "name": "stdout",
     "output_type": "stream",
     "text": [
      "Downloading https://croptalk-spoi.s3.amazonaws.com/SPOI/30_073_90_0067_20101130.pdf to /Users/katerina/Documents/CropGuard/Dec_demo/demo_knowledge/30_073_90_0067_20101130.pdf\n"
     ]
    },
    {
     "name": "stderr",
     "output_type": "stream",
     "text": [
      "100  6635  100  6635    0     0  17047      0 --:--:-- --:--:-- --:--:-- 17233\n",
      "  % Total    % Received % Xferd  Average Speed   Time    Time     Time  Current\n",
      "                                 Dload  Upload   Total   Spent    Left  Speed\n",
      "  0     0    0     0    0     0      0      0 --:--:-- --:--:-- --:--:--     0"
     ]
    },
    {
     "name": "stdout",
     "output_type": "stream",
     "text": [
      "Downloading https://croptalk-spoi.s3.amazonaws.com/SPOI/30_071_90_0067_20101130.pdf to /Users/katerina/Documents/CropGuard/Dec_demo/demo_knowledge/30_071_90_0067_20101130.pdf\n"
     ]
    },
    {
     "name": "stderr",
     "output_type": "stream",
     "text": [
      "100 10346  100 10346    0     0  35560      0 --:--:-- --:--:-- --:--:-- 36048\n",
      "  % Total    % Received % Xferd  Average Speed   Time    Time     Time  Current\n",
      "                                 Dload  Upload   Total   Spent    Left  Speed\n",
      "  0     0    0     0    0     0      0      0 --:--:-- --:--:-- --:--:--     0"
     ]
    },
    {
     "name": "stdout",
     "output_type": "stream",
     "text": [
      "Downloading https://croptalk-spoi.s3.amazonaws.com/SPOI/30_055_90_0067_20101130.pdf to /Users/katerina/Documents/CropGuard/Dec_demo/demo_knowledge/30_055_90_0067_20101130.pdf\n"
     ]
    },
    {
     "name": "stderr",
     "output_type": "stream",
     "text": [
      "100 10219  100 10219    0     0  30150      0 --:--:-- --:--:-- --:--:-- 30504\n",
      "  % Total    % Received % Xferd  Average Speed   Time    Time     Time  Current\n",
      "                                 Dload  Upload   Total   Spent    Left  Speed\n",
      "  0     0    0     0    0     0      0      0 --:--:-- --:--:-- --:--:--     0"
     ]
    },
    {
     "name": "stdout",
     "output_type": "stream",
     "text": [
      "Downloading https://croptalk-spoi.s3.amazonaws.com/SPOI/30_051_90_0067_20101130.pdf to /Users/katerina/Documents/CropGuard/Dec_demo/demo_knowledge/30_051_90_0067_20101130.pdf\n"
     ]
    },
    {
     "name": "stderr",
     "output_type": "stream",
     "text": [
      "100  6884  100  6884    0     0  23975      0 --:--:-- --:--:-- --:--:-- 24325\n",
      "  % Total    % Received % Xferd  Average Speed   Time    Time     Time  Current\n",
      "                                 Dload  Upload   Total   Spent    Left  Speed\n",
      "  0     0    0     0    0     0      0      0 --:--:-- --:--:-- --:--:--     0"
     ]
    },
    {
     "name": "stdout",
     "output_type": "stream",
     "text": [
      "Downloading https://croptalk-spoi.s3.amazonaws.com/SPOI/30_045_90_0067_20101130.pdf to /Users/katerina/Documents/CropGuard/Dec_demo/demo_knowledge/30_045_90_0067_20101130.pdf\n"
     ]
    },
    {
     "name": "stderr",
     "output_type": "stream",
     "text": [
      "100  6646  100  6646    0     0  19725      0 --:--:-- --:--:-- --:--:-- 19898\n",
      "  % Total    % Received % Xferd  Average Speed   Time    Time     Time  Current\n",
      "                                 Dload  Upload   Total   Spent    Left  Speed\n",
      "  0     0    0     0    0     0      0      0 --:--:-- --:--:-- --:--:--     0"
     ]
    },
    {
     "name": "stdout",
     "output_type": "stream",
     "text": [
      "Downloading https://croptalk-spoi.s3.amazonaws.com/SPOI/30_041_90_0067_20101130.pdf to /Users/katerina/Documents/CropGuard/Dec_demo/demo_knowledge/30_041_90_0067_20101130.pdf\n"
     ]
    },
    {
     "name": "stderr",
     "output_type": "stream",
     "text": [
      "100  6880  100  6880    0     0  21247      0 --:--:-- --:--:-- --:--:-- 21500\n",
      "  % Total    % Received % Xferd  Average Speed   Time    Time     Time  Current\n",
      "                                 Dload  Upload   Total   Spent    Left  Speed\n",
      "  0     0    0     0    0     0      0      0 --:--:-- --:--:-- --:--:--     0"
     ]
    },
    {
     "name": "stdout",
     "output_type": "stream",
     "text": [
      "Downloading https://croptalk-spoi.s3.amazonaws.com/SPOI/30_035_90_0067_20101130.pdf to /Users/katerina/Documents/CropGuard/Dec_demo/demo_knowledge/30_035_90_0067_20101130.pdf\n"
     ]
    },
    {
     "name": "stderr",
     "output_type": "stream",
     "text": [
      "100  6640  100  6640    0     0  22672      0 --:--:-- --:--:-- --:--:-- 22896\n",
      "  % Total    % Received % Xferd  Average Speed   Time    Time     Time  Current\n",
      "                                 Dload  Upload   Total   Spent    Left  Speed\n",
      "  0     0    0     0    0     0      0      0 --:--:-- --:--:-- --:--:--     0"
     ]
    },
    {
     "name": "stdout",
     "output_type": "stream",
     "text": [
      "Downloading https://croptalk-spoi.s3.amazonaws.com/SPOI/30_033_90_0067_20101130.pdf to /Users/katerina/Documents/CropGuard/Dec_demo/demo_knowledge/30_033_90_0067_20101130.pdf\n"
     ]
    },
    {
     "name": "stderr",
     "output_type": "stream",
     "text": [
      "100  6882  100  6882    0     0  24858      0 --:--:-- --:--:-- --:--:-- 25025\n",
      "  % Total    % Received % Xferd  Average Speed   Time    Time     Time  Current\n",
      "                                 Dload  Upload   Total   Spent    Left  Speed\n",
      "  0     0    0     0    0     0      0      0 --:--:-- --:--:-- --:--:--     0"
     ]
    },
    {
     "name": "stdout",
     "output_type": "stream",
     "text": [
      "Downloading https://croptalk-spoi.s3.amazonaws.com/SPOI/30_029_90_0067_20101130.pdf to /Users/katerina/Documents/CropGuard/Dec_demo/demo_knowledge/30_029_90_0067_20101130.pdf\n"
     ]
    },
    {
     "name": "stderr",
     "output_type": "stream",
     "text": [
      "100  6471  100  6471    0     0  23975      0 --:--:-- --:--:-- --:--:-- 24327\n",
      "  % Total    % Received % Xferd  Average Speed   Time    Time     Time  Current\n",
      "                                 Dload  Upload   Total   Spent    Left  Speed\n",
      "  0     0    0     0    0     0      0      0 --:--:-- --:--:-- --:--:--     0"
     ]
    },
    {
     "name": "stdout",
     "output_type": "stream",
     "text": [
      "Downloading https://croptalk-spoi.s3.amazonaws.com/SPOI/30_027_90_0067_20101130.pdf to /Users/katerina/Documents/CropGuard/Dec_demo/demo_knowledge/30_027_90_0067_20101130.pdf\n"
     ]
    },
    {
     "name": "stderr",
     "output_type": "stream",
     "text": [
      "100  6635  100  6635    0     0  21754      0 --:--:-- --:--:-- --:--:-- 21970\n",
      "  % Total    % Received % Xferd  Average Speed   Time    Time     Time  Current\n",
      "                                 Dload  Upload   Total   Spent    Left  Speed\n",
      "  0     0    0     0    0     0      0      0 --:--:-- --:--:-- --:--:--     0"
     ]
    },
    {
     "name": "stdout",
     "output_type": "stream",
     "text": [
      "Downloading https://croptalk-spoi.s3.amazonaws.com/SPOI/30_025_90_0067_20101130.pdf to /Users/katerina/Documents/CropGuard/Dec_demo/demo_knowledge/30_025_90_0067_20101130.pdf\n"
     ]
    },
    {
     "name": "stderr",
     "output_type": "stream",
     "text": [
      "100  6880  100  6880    0     0  22105      0 --:--:-- --:--:-- --:--:-- 22410\n",
      "  % Total    % Received % Xferd  Average Speed   Time    Time     Time  Current\n",
      "                                 Dload  Upload   Total   Spent    Left  Speed\n",
      "  0     0    0     0    0     0      0      0 --:--:-- --:--:-- --:--:--     0"
     ]
    },
    {
     "name": "stdout",
     "output_type": "stream",
     "text": [
      "Downloading https://croptalk-spoi.s3.amazonaws.com/SPOI/30_021_90_0067_20101130.pdf to /Users/katerina/Documents/CropGuard/Dec_demo/demo_knowledge/30_021_90_0067_20101130.pdf\n"
     ]
    },
    {
     "name": "stderr",
     "output_type": "stream",
     "text": [
      "100 10217  100 10217    0     0  32709      0 --:--:-- --:--:-- --:--:-- 33064\n",
      "  % Total    % Received % Xferd  Average Speed   Time    Time     Time  Current\n",
      "                                 Dload  Upload   Total   Spent    Left  Speed\n",
      "  0     0    0     0    0     0      0      0 --:--:-- --:--:-- --:--:--     0"
     ]
    },
    {
     "name": "stdout",
     "output_type": "stream",
     "text": [
      "Downloading https://croptalk-spoi.s3.amazonaws.com/SPOI/30_019_90_0067_20101130.pdf to /Users/katerina/Documents/CropGuard/Dec_demo/demo_knowledge/30_019_90_0067_20101130.pdf\n"
     ]
    },
    {
     "name": "stderr",
     "output_type": "stream",
     "text": [
      "100  9963  100  9963    0     0  33879      0 --:--:-- --:--:-- --:--:-- 34355\n",
      "  % Total    % Received % Xferd  Average Speed   Time    Time     Time  Current\n",
      "                                 Dload  Upload   Total   Spent    Left  Speed\n",
      "  0     0    0     0    0     0      0      0 --:--:-- --:--:-- --:--:--     0"
     ]
    },
    {
     "name": "stdout",
     "output_type": "stream",
     "text": [
      "Downloading https://croptalk-spoi.s3.amazonaws.com/SPOI/30_015_90_0067_20101130.pdf to /Users/katerina/Documents/CropGuard/Dec_demo/demo_knowledge/30_015_90_0067_20101130.pdf\n"
     ]
    },
    {
     "name": "stderr",
     "output_type": "stream",
     "text": [
      "100  6880  100  6880    0     0  21444      0 --:--:-- --:--:-- --:--:-- 21635\n",
      "  % Total    % Received % Xferd  Average Speed   Time    Time     Time  Current\n",
      "                                 Dload  Upload   Total   Spent    Left  Speed\n",
      "  0     0    0     0    0     0      0      0 --:--:-- --:--:-- --:--:--     0"
     ]
    },
    {
     "name": "stdout",
     "output_type": "stream",
     "text": [
      "Downloading https://croptalk-spoi.s3.amazonaws.com/SPOI/30_013_90_0067_20101130.pdf to /Users/katerina/Documents/CropGuard/Dec_demo/demo_knowledge/30_013_90_0067_20101130.pdf\n"
     ]
    },
    {
     "name": "stderr",
     "output_type": "stream",
     "text": [
      "100  6780  100  6780    0     0  25146      0 --:--:-- --:--:-- --:--:-- 25584\n",
      "  % Total    % Received % Xferd  Average Speed   Time    Time     Time  Current\n",
      "                                 Dload  Upload   Total   Spent    Left  Speed\n",
      "  0     0    0     0    0     0      0      0 --:--:-- --:--:-- --:--:--     0"
     ]
    },
    {
     "name": "stdout",
     "output_type": "stream",
     "text": [
      "Downloading https://croptalk-spoi.s3.amazonaws.com/SPOI/30_011_90_0067_20101130.pdf to /Users/katerina/Documents/CropGuard/Dec_demo/demo_knowledge/30_011_90_0067_20101130.pdf\n"
     ]
    },
    {
     "name": "stderr",
     "output_type": "stream",
     "text": [
      "100  6878  100  6878    0     0  17495      0 --:--:-- --:--:-- --:--:-- 17681\n",
      "  % Total    % Received % Xferd  Average Speed   Time    Time     Time  Current\n",
      "                                 Dload  Upload   Total   Spent    Left  Speed\n",
      "  0     0    0     0    0     0      0      0 --:--:-- --:--:-- --:--:--     0"
     ]
    },
    {
     "name": "stdout",
     "output_type": "stream",
     "text": [
      "Downloading https://croptalk-spoi.s3.amazonaws.com/SPOI/38_005_90_0067_20101130.pdf to /Users/katerina/Documents/CropGuard/Dec_demo/demo_knowledge/38_005_90_0067_20101130.pdf\n"
     ]
    },
    {
     "name": "stderr",
     "output_type": "stream",
     "text": [
      "100  4878  100  4878    0     0  15501      0 --:--:-- --:--:-- --:--:-- 15684\n",
      "  % Total    % Received % Xferd  Average Speed   Time    Time     Time  Current\n",
      "                                 Dload  Upload   Total   Spent    Left  Speed\n",
      "  0     0    0     0    0     0      0      0 --:--:-- --:--:-- --:--:--     0"
     ]
    },
    {
     "name": "stdout",
     "output_type": "stream",
     "text": [
      "Downloading https://croptalk-spoi.s3.amazonaws.com/SPOI/38_007_90_0067_20101130.pdf to /Users/katerina/Documents/CropGuard/Dec_demo/demo_knowledge/38_007_90_0067_20101130.pdf\n"
     ]
    },
    {
     "name": "stderr",
     "output_type": "stream",
     "text": [
      "100  6648  100  6648    0     0   9345      0 --:--:-- --:--:-- --:--:--  9389\n",
      "  % Total    % Received % Xferd  Average Speed   Time    Time     Time  Current\n",
      "                                 Dload  Upload   Total   Spent    Left  Speed\n",
      "  0     0    0     0    0     0      0      0 --:--:-- --:--:-- --:--:--     0"
     ]
    },
    {
     "name": "stdout",
     "output_type": "stream",
     "text": [
      "Downloading https://croptalk-spoi.s3.amazonaws.com/SPOI/38_009_90_0067_20101130.pdf to /Users/katerina/Documents/CropGuard/Dec_demo/demo_knowledge/38_009_90_0067_20101130.pdf\n"
     ]
    },
    {
     "name": "stderr",
     "output_type": "stream",
     "text": [
      "100  6476  100  6476    0     0   8073      0 --:--:-- --:--:-- --:--:--  8105\n",
      "  % Total    % Received % Xferd  Average Speed   Time    Time     Time  Current\n",
      "                                 Dload  Upload   Total   Spent    Left  Speed\n",
      "  0     0    0     0    0     0      0      0 --:--:-- --:--:-- --:--:--     0"
     ]
    },
    {
     "name": "stdout",
     "output_type": "stream",
     "text": [
      "Downloading https://croptalk-spoi.s3.amazonaws.com/SPOI/38_011_90_0067_20101130.pdf to /Users/katerina/Documents/CropGuard/Dec_demo/demo_knowledge/38_011_90_0067_20101130.pdf\n"
     ]
    },
    {
     "name": "stderr",
     "output_type": "stream",
     "text": [
      "100  6654  100  6654    0     0   9608      0 --:--:-- --:--:-- --:--:--  9643\n",
      "  % Total    % Received % Xferd  Average Speed   Time    Time     Time  Current\n",
      "                                 Dload  Upload   Total   Spent    Left  Speed\n",
      "  0     0    0     0    0     0      0      0 --:--:-- --:--:-- --:--:--     0"
     ]
    },
    {
     "name": "stdout",
     "output_type": "stream",
     "text": [
      "Downloading https://croptalk-spoi.s3.amazonaws.com/SPOI/38_067_90_0067_20101130.pdf to /Users/katerina/Documents/CropGuard/Dec_demo/demo_knowledge/38_067_90_0067_20101130.pdf\n"
     ]
    },
    {
     "name": "stderr",
     "output_type": "stream",
     "text": [
      "100  6425  100  6425    0     0  10913      0 --:--:-- --:--:-- --:--:-- 10964\n",
      "  % Total    % Received % Xferd  Average Speed   Time    Time     Time  Current\n",
      "                                 Dload  Upload   Total   Spent    Left  Speed\n",
      "  0     0    0     0    0     0      0      0 --:--:-- --:--:-- --:--:--     0"
     ]
    },
    {
     "name": "stdout",
     "output_type": "stream",
     "text": [
      "Downloading https://croptalk-spoi.s3.amazonaws.com/SPOI/38_065_90_0067_20101130.pdf to /Users/katerina/Documents/CropGuard/Dec_demo/demo_knowledge/38_065_90_0067_20101130.pdf\n"
     ]
    },
    {
     "name": "stderr",
     "output_type": "stream",
     "text": [
      "100  9984  100  9984    0     0  14921      0 --:--:-- --:--:-- --:--:-- 15036\n",
      "  % Total    % Received % Xferd  Average Speed   Time    Time     Time  Current\n",
      "                                 Dload  Upload   Total   Spent    Left  Speed\n",
      "  0     0    0     0    0     0      0      0 --:--:-- --:--:-- --:--:--     0"
     ]
    },
    {
     "name": "stdout",
     "output_type": "stream",
     "text": [
      "Downloading https://croptalk-spoi.s3.amazonaws.com/SPOI/38_063_90_0067_20101130.pdf to /Users/katerina/Documents/CropGuard/Dec_demo/demo_knowledge/38_063_90_0067_20101130.pdf\n"
     ]
    },
    {
     "name": "stderr",
     "output_type": "stream",
     "text": [
      "100  4879  100  4879    0     0   8966      0 --:--:-- --:--:-- --:--:--  9018\n",
      "  % Total    % Received % Xferd  Average Speed   Time    Time     Time  Current\n",
      "                                 Dload  Upload   Total   Spent    Left  Speed\n",
      "  0     0    0     0    0     0      0      0 --:--:-- --:--:-- --:--:--     0"
     ]
    },
    {
     "name": "stdout",
     "output_type": "stream",
     "text": [
      "Downloading https://croptalk-spoi.s3.amazonaws.com/SPOI/38_061_90_0067_20101130.pdf to /Users/katerina/Documents/CropGuard/Dec_demo/demo_knowledge/38_061_90_0067_20101130.pdf\n"
     ]
    },
    {
     "name": "stderr",
     "output_type": "stream",
     "text": [
      "100 10152  100 10152    0     0  33947      0 --:--:-- --:--:-- --:--:-- 34530\n",
      "  % Total    % Received % Xferd  Average Speed   Time    Time     Time  Current\n",
      "                                 Dload  Upload   Total   Spent    Left  Speed\n",
      "  0     0    0     0    0     0      0      0 --:--:-- --:--:-- --:--:--     0"
     ]
    },
    {
     "name": "stdout",
     "output_type": "stream",
     "text": [
      "Downloading https://croptalk-spoi.s3.amazonaws.com/SPOI/38_059_90_0067_20101130.pdf to /Users/katerina/Documents/CropGuard/Dec_demo/demo_knowledge/38_059_90_0067_20101130.pdf\n"
     ]
    },
    {
     "name": "stderr",
     "output_type": "stream",
     "text": [
      "100  6649  100  6649    0     0  22298      0 --:--:-- --:--:-- --:--:-- 22615\n",
      "  % Total    % Received % Xferd  Average Speed   Time    Time     Time  Current\n",
      "                                 Dload  Upload   Total   Spent    Left  Speed\n",
      "  0     0    0     0    0     0      0      0 --:--:-- --:--:-- --:--:--     0"
     ]
    },
    {
     "name": "stdout",
     "output_type": "stream",
     "text": [
      "Downloading https://croptalk-spoi.s3.amazonaws.com/SPOI/38_057_90_0067_20101130.pdf to /Users/katerina/Documents/CropGuard/Dec_demo/demo_knowledge/38_057_90_0067_20101130.pdf\n"
     ]
    },
    {
     "name": "stderr",
     "output_type": "stream",
     "text": [
      "100  6649  100  6649    0     0  22911      0 --:--:-- --:--:-- --:--:-- 23167\n",
      "  % Total    % Received % Xferd  Average Speed   Time    Time     Time  Current\n",
      "                                 Dload  Upload   Total   Spent    Left  Speed\n",
      "  0     0    0     0    0     0      0      0 --:--:-- --:--:-- --:--:--     0"
     ]
    },
    {
     "name": "stdout",
     "output_type": "stream",
     "text": [
      "Downloading https://croptalk-spoi.s3.amazonaws.com/SPOI/38_055_90_0067_20101130.pdf to /Users/katerina/Documents/CropGuard/Dec_demo/demo_knowledge/38_055_90_0067_20101130.pdf\n"
     ]
    },
    {
     "name": "stderr",
     "output_type": "stream",
     "text": [
      "100 10477  100 10477    0     0  39142      0 --:--:-- --:--:-- --:--:-- 39836\n",
      "  % Total    % Received % Xferd  Average Speed   Time    Time     Time  Current\n",
      "                                 Dload  Upload   Total   Spent    Left  Speed\n",
      "  0     0    0     0    0     0      0      0 --:--:-- --:--:-- --:--:--     0"
     ]
    },
    {
     "name": "stdout",
     "output_type": "stream",
     "text": [
      "Downloading https://croptalk-spoi.s3.amazonaws.com/SPOI/38_053_90_0067_20101130.pdf to /Users/katerina/Documents/CropGuard/Dec_demo/demo_knowledge/38_053_90_0067_20101130.pdf\n"
     ]
    },
    {
     "name": "stderr",
     "output_type": "stream",
     "text": [
      "100 10482  100 10482    0     0  35798      0 --:--:-- --:--:-- --:--:-- 36269\n",
      "  % Total    % Received % Xferd  Average Speed   Time    Time     Time  Current\n",
      "                                 Dload  Upload   Total   Spent    Left  Speed\n",
      "  0     0    0     0    0     0      0      0 --:--:-- --:--:-- --:--:--     0"
     ]
    },
    {
     "name": "stdout",
     "output_type": "stream",
     "text": [
      "Downloading https://croptalk-spoi.s3.amazonaws.com/SPOI/38_051_90_0067_20101130.pdf to /Users/katerina/Documents/CropGuard/Dec_demo/demo_knowledge/38_051_90_0067_20101130.pdf\n"
     ]
    },
    {
     "name": "stderr",
     "output_type": "stream",
     "text": [
      "100  6658  100  6658    0     0  22232      0 --:--:-- --:--:-- --:--:-- 22493\n",
      "  % Total    % Received % Xferd  Average Speed   Time    Time     Time  Current\n",
      "                                 Dload  Upload   Total   Spent    Left  Speed\n",
      "  0     0    0     0    0     0      0      0 --:--:-- --:--:-- --:--:--     0"
     ]
    },
    {
     "name": "stdout",
     "output_type": "stream",
     "text": [
      "Downloading https://croptalk-spoi.s3.amazonaws.com/SPOI/38_049_90_0067_20101130.pdf to /Users/katerina/Documents/CropGuard/Dec_demo/demo_knowledge/38_049_90_0067_20101130.pdf\n"
     ]
    },
    {
     "name": "stderr",
     "output_type": "stream",
     "text": [
      "100  6627  100  6627    0     0  22822      0 --:--:-- --:--:-- --:--:-- 23171\n",
      "  % Total    % Received % Xferd  Average Speed   Time    Time     Time  Current\n",
      "                                 Dload  Upload   Total   Spent    Left  Speed\n",
      "  0     0    0     0    0     0      0      0 --:--:-- --:--:-- --:--:--     0"
     ]
    },
    {
     "name": "stdout",
     "output_type": "stream",
     "text": [
      "Downloading https://croptalk-spoi.s3.amazonaws.com/SPOI/38_047_90_0067_20101130.pdf to /Users/katerina/Documents/CropGuard/Dec_demo/demo_knowledge/38_047_90_0067_20101130.pdf\n"
     ]
    },
    {
     "name": "stderr",
     "output_type": "stream",
     "text": [
      "100  6645  100  6645    0     0  23018      0 --:--:-- --:--:-- --:--:-- 23234\n",
      "  % Total    % Received % Xferd  Average Speed   Time    Time     Time  Current\n",
      "                                 Dload  Upload   Total   Spent    Left  Speed\n",
      "  0     0    0     0    0     0      0      0 --:--:-- --:--:-- --:--:--     0"
     ]
    },
    {
     "name": "stdout",
     "output_type": "stream",
     "text": [
      "Downloading https://croptalk-spoi.s3.amazonaws.com/SPOI/38_045_90_0067_20101130.pdf to /Users/katerina/Documents/CropGuard/Dec_demo/demo_knowledge/38_045_90_0067_20101130.pdf\n"
     ]
    },
    {
     "name": "stderr",
     "output_type": "stream",
     "text": [
      "100  4878  100  4878    0     0  15247      0 --:--:-- --:--:-- --:--:-- 15339\n",
      "  % Total    % Received % Xferd  Average Speed   Time    Time     Time  Current\n",
      "                                 Dload  Upload   Total   Spent    Left  Speed\n",
      "  0     0    0     0    0     0      0      0 --:--:-- --:--:-- --:--:--     0"
     ]
    },
    {
     "name": "stdout",
     "output_type": "stream",
     "text": [
      "Downloading https://croptalk-spoi.s3.amazonaws.com/SPOI/38_043_90_0067_20101130.pdf to /Users/katerina/Documents/CropGuard/Dec_demo/demo_knowledge/38_043_90_0067_20101130.pdf\n"
     ]
    },
    {
     "name": "stderr",
     "output_type": "stream",
     "text": [
      "100  6655  100  6655    0     0  20395      0 --:--:-- --:--:-- --:--:-- 20603\n",
      "  % Total    % Received % Xferd  Average Speed   Time    Time     Time  Current\n",
      "                                 Dload  Upload   Total   Spent    Left  Speed\n",
      "  0     0    0     0    0     0      0      0 --:--:-- --:--:-- --:--:--     0"
     ]
    },
    {
     "name": "stdout",
     "output_type": "stream",
     "text": [
      "Downloading https://croptalk-spoi.s3.amazonaws.com/SPOI/38_071_90_0067_20101130.pdf to /Users/katerina/Documents/CropGuard/Dec_demo/demo_knowledge/38_071_90_0067_20101130.pdf\n"
     ]
    },
    {
     "name": "stderr",
     "output_type": "stream",
     "text": [
      "100  6430  100  6430    0     0  18358      0 --:--:-- --:--:-- --:--:-- 18583\n",
      "  % Total    % Received % Xferd  Average Speed   Time    Time     Time  Current\n",
      "                                 Dload  Upload   Total   Spent    Left  Speed\n",
      "  0     0    0     0    0     0      0      0 --:--:-- --:--:-- --:--:--     0"
     ]
    },
    {
     "name": "stdout",
     "output_type": "stream",
     "text": [
      "Downloading https://croptalk-spoi.s3.amazonaws.com/SPOI/38_041_90_0067_20101130.pdf to /Users/katerina/Documents/CropGuard/Dec_demo/demo_knowledge/38_041_90_0067_20101130.pdf\n"
     ]
    },
    {
     "name": "stderr",
     "output_type": "stream",
     "text": [
      "100  9991  100  9991    0     0  30526      0 --:--:-- --:--:-- --:--:-- 30836\n",
      "  % Total    % Received % Xferd  Average Speed   Time    Time     Time  Current\n",
      "                                 Dload  Upload   Total   Spent    Left  Speed\n",
      "  0     0    0     0    0     0      0      0 --:--:-- --:--:-- --:--:--     0"
     ]
    },
    {
     "name": "stdout",
     "output_type": "stream",
     "text": [
      "Downloading https://croptalk-spoi.s3.amazonaws.com/SPOI/38_037_90_0067_20101130.pdf to /Users/katerina/Documents/CropGuard/Dec_demo/demo_knowledge/38_037_90_0067_20101130.pdf\n"
     ]
    },
    {
     "name": "stderr",
     "output_type": "stream",
     "text": [
      "100  9977  100  9977    0     0  26613      0 --:--:-- --:--:-- --:--:-- 26892\n",
      "  % Total    % Received % Xferd  Average Speed   Time    Time     Time  Current\n",
      "                                 Dload  Upload   Total   Spent    Left  Speed\n",
      "  0     0    0     0    0     0      0      0 --:--:-- --:--:-- --:--:--     0"
     ]
    },
    {
     "name": "stdout",
     "output_type": "stream",
     "text": [
      "Downloading https://croptalk-spoi.s3.amazonaws.com/SPOI/38_035_90_0067_20101130.pdf to /Users/katerina/Documents/CropGuard/Dec_demo/demo_knowledge/38_035_90_0067_20101130.pdf\n"
     ]
    },
    {
     "name": "stderr",
     "output_type": "stream",
     "text": [
      "100  6435  100  6435    0     0  19196      0 --:--:-- --:--:-- --:--:-- 19441\n",
      "  % Total    % Received % Xferd  Average Speed   Time    Time     Time  Current\n",
      "                                 Dload  Upload   Total   Spent    Left  Speed\n",
      "  0     0    0     0    0     0      0      0 --:--:-- --:--:-- --:--:--     0"
     ]
    },
    {
     "name": "stdout",
     "output_type": "stream",
     "text": [
      "Downloading https://croptalk-spoi.s3.amazonaws.com/SPOI/38_033_90_0067_20101130.pdf to /Users/katerina/Documents/CropGuard/Dec_demo/demo_knowledge/38_033_90_0067_20101130.pdf\n"
     ]
    },
    {
     "name": "stderr",
     "output_type": "stream",
     "text": [
      "100 10001  100 10001    0     0  29618      0 --:--:-- --:--:-- --:--:-- 29853\n",
      "  % Total    % Received % Xferd  Average Speed   Time    Time     Time  Current\n",
      "                                 Dload  Upload   Total   Spent    Left  Speed\n",
      "  0     0    0     0    0     0      0      0 --:--:-- --:--:-- --:--:--     0"
     ]
    },
    {
     "name": "stdout",
     "output_type": "stream",
     "text": [
      "Downloading https://croptalk-spoi.s3.amazonaws.com/SPOI/38_031_90_0067_20101130.pdf to /Users/katerina/Documents/CropGuard/Dec_demo/demo_knowledge/38_031_90_0067_20101130.pdf\n"
     ]
    },
    {
     "name": "stderr",
     "output_type": "stream",
     "text": [
      "100  4878  100  4878    0     0  14342      0 --:--:-- --:--:-- --:--:-- 14517\n",
      "  % Total    % Received % Xferd  Average Speed   Time    Time     Time  Current\n",
      "                                 Dload  Upload   Total   Spent    Left  Speed\n",
      "  0     0    0     0    0     0      0      0 --:--:-- --:--:-- --:--:--     0"
     ]
    },
    {
     "name": "stdout",
     "output_type": "stream",
     "text": [
      "Downloading https://croptalk-spoi.s3.amazonaws.com/SPOI/38_029_90_0067_20101130.pdf to /Users/katerina/Documents/CropGuard/Dec_demo/demo_knowledge/38_029_90_0067_20101130.pdf\n"
     ]
    },
    {
     "name": "stderr",
     "output_type": "stream",
     "text": [
      "100  6649  100  6649    0     0  20415      0 --:--:-- --:--:-- --:--:-- 20585\n",
      "  % Total    % Received % Xferd  Average Speed   Time    Time     Time  Current\n",
      "                                 Dload  Upload   Total   Spent    Left  Speed\n",
      "  0     0    0     0    0     0      0      0 --:--:-- --:--:-- --:--:--     0"
     ]
    },
    {
     "name": "stdout",
     "output_type": "stream",
     "text": [
      "Downloading https://croptalk-spoi.s3.amazonaws.com/SPOI/38_027_90_0067_20101130.pdf to /Users/katerina/Documents/CropGuard/Dec_demo/demo_knowledge/38_027_90_0067_20101130.pdf\n"
     ]
    },
    {
     "name": "stderr",
     "output_type": "stream",
     "text": [
      "100  4878  100  4878    0     0  16441      0 --:--:-- --:--:-- --:--:-- 16648\n",
      "  % Total    % Received % Xferd  Average Speed   Time    Time     Time  Current\n",
      "                                 Dload  Upload   Total   Spent    Left  Speed\n",
      "  0     0    0     0    0     0      0      0 --:--:-- --:--:-- --:--:--     0"
     ]
    },
    {
     "name": "stdout",
     "output_type": "stream",
     "text": [
      "Downloading https://croptalk-spoi.s3.amazonaws.com/SPOI/38_025_90_0067_20101130.pdf to /Users/katerina/Documents/CropGuard/Dec_demo/demo_knowledge/38_025_90_0067_20101130.pdf\n"
     ]
    },
    {
     "name": "stderr",
     "output_type": "stream",
     "text": [
      "100  9981  100  9981    0     0  34569      0 --:--:-- --:--:-- --:--:-- 35021\n",
      "  % Total    % Received % Xferd  Average Speed   Time    Time     Time  Current\n",
      "                                 Dload  Upload   Total   Spent    Left  Speed\n",
      "  0     0    0     0    0     0      0      0 --:--:-- --:--:-- --:--:--     0"
     ]
    },
    {
     "name": "stdout",
     "output_type": "stream",
     "text": [
      "Downloading https://croptalk-spoi.s3.amazonaws.com/SPOI/38_023_90_0067_20101130.pdf to /Users/katerina/Documents/CropGuard/Dec_demo/demo_knowledge/38_023_90_0067_20101130.pdf\n"
     ]
    },
    {
     "name": "stderr",
     "output_type": "stream",
     "text": [
      "100 10129  100 10129    0     0  36071      0 --:--:-- --:--:-- --:--:-- 36566\n",
      "  % Total    % Received % Xferd  Average Speed   Time    Time     Time  Current\n",
      "                                 Dload  Upload   Total   Spent    Left  Speed\n",
      "  0     0    0     0    0     0      0      0 --:--:-- --:--:-- --:--:--     0"
     ]
    },
    {
     "name": "stdout",
     "output_type": "stream",
     "text": [
      "Downloading https://croptalk-spoi.s3.amazonaws.com/SPOI/38_021_90_0067_20101130.pdf to /Users/katerina/Documents/CropGuard/Dec_demo/demo_knowledge/38_021_90_0067_20101130.pdf\n"
     ]
    },
    {
     "name": "stderr",
     "output_type": "stream",
     "text": [
      "100  4879  100  4879    0     0  17411      0 --:--:-- --:--:-- --:--:-- 17613\n",
      "  % Total    % Received % Xferd  Average Speed   Time    Time     Time  Current\n",
      "                                 Dload  Upload   Total   Spent    Left  Speed\n",
      "  0     0    0     0    0     0      0      0 --:--:-- --:--:-- --:--:--     0"
     ]
    },
    {
     "name": "stdout",
     "output_type": "stream",
     "text": [
      "Downloading https://croptalk-spoi.s3.amazonaws.com/SPOI/38_019_90_0067_20101130.pdf to /Users/katerina/Documents/CropGuard/Dec_demo/demo_knowledge/38_019_90_0067_20101130.pdf\n"
     ]
    },
    {
     "name": "stderr",
     "output_type": "stream",
     "text": [
      "100  4878  100  4878    0     0  16939      0 --:--:-- --:--:-- --:--:-- 17115\n",
      "  % Total    % Received % Xferd  Average Speed   Time    Time     Time  Current\n",
      "                                 Dload  Upload   Total   Spent    Left  Speed\n",
      "  0     0    0     0    0     0      0      0 --:--:-- --:--:-- --:--:--     0"
     ]
    },
    {
     "name": "stdout",
     "output_type": "stream",
     "text": [
      "Downloading https://croptalk-spoi.s3.amazonaws.com/SPOI/38_017_90_0067_20101130.pdf to /Users/katerina/Documents/CropGuard/Dec_demo/demo_knowledge/38_017_90_0067_20101130.pdf\n"
     ]
    },
    {
     "name": "stderr",
     "output_type": "stream",
     "text": [
      "100  4878  100  4878    0     0  16891      0 --:--:-- --:--:-- --:--:-- 17115\n",
      "  % Total    % Received % Xferd  Average Speed   Time    Time     Time  Current\n",
      "                                 Dload  Upload   Total   Spent    Left  Speed\n",
      "  0     0    0     0    0     0      0      0 --:--:-- --:--:-- --:--:--     0"
     ]
    },
    {
     "name": "stdout",
     "output_type": "stream",
     "text": [
      "Downloading https://croptalk-spoi.s3.amazonaws.com/SPOI/38_015_90_0067_20101130.pdf to /Users/katerina/Documents/CropGuard/Dec_demo/demo_knowledge/38_015_90_0067_20101130.pdf\n"
     ]
    },
    {
     "name": "stderr",
     "output_type": "stream",
     "text": [
      "100  6796  100  6796    0     0  23131      0 --:--:-- --:--:-- --:--:-- 23273\n",
      "  % Total    % Received % Xferd  Average Speed   Time    Time     Time  Current\n",
      "                                 Dload  Upload   Total   Spent    Left  Speed\n",
      "  0     0    0     0    0     0      0      0 --:--:-- --:--:-- --:--:--     0"
     ]
    },
    {
     "name": "stdout",
     "output_type": "stream",
     "text": [
      "Downloading https://croptalk-spoi.s3.amazonaws.com/SPOI/38_013_90_0067_20101130.pdf to /Users/katerina/Documents/CropGuard/Dec_demo/demo_knowledge/38_013_90_0067_20101130.pdf\n"
     ]
    },
    {
     "name": "stderr",
     "output_type": "stream",
     "text": [
      "100  6844  100  6844    0     0  21805      0 --:--:-- --:--:-- --:--:-- 22077\n",
      "  % Total    % Received % Xferd  Average Speed   Time    Time     Time  Current\n",
      "                                 Dload  Upload   Total   Spent    Left  Speed\n",
      "  0     0    0     0    0     0      0      0 --:--:-- --:--:-- --:--:--     0"
     ]
    },
    {
     "name": "stdout",
     "output_type": "stream",
     "text": [
      "Downloading https://croptalk-spoi.s3.amazonaws.com/SPOI/38_039_90_0067_20101130.pdf to /Users/katerina/Documents/CropGuard/Dec_demo/demo_knowledge/38_039_90_0067_20101130.pdf\n"
     ]
    },
    {
     "name": "stderr",
     "output_type": "stream",
     "text": [
      "100  4881  100  4881    0     0  16534      0 --:--:-- --:--:-- --:--:-- 16715\n",
      "  % Total    % Received % Xferd  Average Speed   Time    Time     Time  Current\n",
      "                                 Dload  Upload   Total   Spent    Left  Speed\n",
      "  0     0    0     0    0     0      0      0 --:--:-- --:--:-- --:--:--     0"
     ]
    },
    {
     "name": "stdout",
     "output_type": "stream",
     "text": [
      "Downloading https://croptalk-spoi.s3.amazonaws.com/SPOI/17_193_90_0072_20101130.pdf to /Users/katerina/Documents/CropGuard/Dec_demo/demo_knowledge/17_193_90_0072_20101130.pdf\n"
     ]
    },
    {
     "name": "stderr",
     "output_type": "stream",
     "text": [
      "100  8295  100  8295    0     0  26460      0 --:--:-- --:--:-- --:--:-- 26672\n",
      "  % Total    % Received % Xferd  Average Speed   Time    Time     Time  Current\n",
      "                                 Dload  Upload   Total   Spent    Left  Speed\n",
      "  0     0    0     0    0     0      0      0 --:--:-- --:--:-- --:--:--     0"
     ]
    },
    {
     "name": "stdout",
     "output_type": "stream",
     "text": [
      "Downloading https://croptalk-spoi.s3.amazonaws.com/SPOI/17_091_90_0072_20101130.pdf to /Users/katerina/Documents/CropGuard/Dec_demo/demo_knowledge/17_091_90_0072_20101130.pdf\n"
     ]
    }
   ],
   "source": [
    "# Save file from s3 url to local directory\n",
    "outdir = 'data/demo_knowledge'\n",
    "if not os.path.exists(outdir):\n",
    "    os.makedirs(outdir)\n",
    "    \n",
    "for i, row in df.iterrows():\n",
    "    url = row['s3_url']\n",
    "    \n",
    "    if row['doc_category'] in ['CP', 'BP', 'CIH']:\n",
    "        # FIX\n",
    "        url = url.replace('.pdf', '.ashx')\n",
    "        filename = os.path.basename(url).replace('.ashx', '.pdf')\n",
    "        outpath = os.path.join(outdir, filename)\n",
    "    else:\n",
    "        filename = os.path.basename(url)\n",
    "        outpath = os.path.join(outdir, filename)\n",
    "    if not os.path.exists(outpath):\n",
    "        print(f'Downloading {url} to {outpath}')\n",
    "        os.system(f'curl -o {outpath} {url}')\n",
    "    else:\n",
    "        print(f'File exists: {outpath}')\n",
    "    "
   ]
  },
  {
   "cell_type": "code",
   "execution_count": 4,
   "metadata": {},
   "outputs": [],
   "source": [
    "vectorestore_dir = '/Users/katerina/Documents/CropGuard/Dec_demo/vectorstore'\n",
    "\n",
    "# Chroma uses the Sentence Transformers all-MiniLM-L6-v2 model to create embeddings\n",
    "emb_fn = embedding_functions.SentenceTransformerEmbeddingFunction(model_name=\"all-MiniLM-L6-v2\")\n",
    "\n",
    "chroma_client = chromadb.PersistentClient(path=vectorestore_dir)\n",
    "collection = chroma_client.get_or_create_collection(name=\"v0\", embedding_function=emb_fn)\n",
    "\n",
    "text_splitter = RecursiveCharacterTextSplitter(\n",
    "    chunk_size=600, chunk_overlap=150, add_start_index=True\n",
    "    )"
   ]
  },
  {
   "cell_type": "code",
   "execution_count": 5,
   "metadata": {},
   "outputs": [],
   "source": [
    "# Store the docs that were indexed\n",
    "indexed_docs = []"
   ]
  },
  {
   "cell_type": "code",
   "execution_count": 6,
   "metadata": {},
   "outputs": [
    {
     "name": "stderr",
     "output_type": "stream",
     "text": [
      "  2%|▏         | 2/118 [00:12<11:56,  6.17s/it]"
     ]
    },
    {
     "name": "stdout",
     "output_type": "stream",
     "text": [
      "\n",
      "cannot open broken document\n",
      "{'source_url': 'https://www.rma.usda.gov/-/media/RMA/Policies/Apple/2011/Apple-Crop-Provisions-11-0054.ashx', 'year': '2011', 'plan': '90', 'commodity': '0054', 'state': '00', 'county': '000', 'doc_category': 'CP', 'title': 'Apple Crop Provisions 11-0054', 'filename': 'Apple-Crop-Provisions-11-0054.pdf', 'plan_commodity_county_state': '90_0054_000_00'}\n",
      "\n",
      "\n"
     ]
    },
    {
     "name": "stderr",
     "output_type": "stream",
     "text": [
      "100%|██████████| 118/118 [14:57<00:00,  7.61s/it]  \n"
     ]
    }
   ],
   "source": [
    "# Create a document loader using Langchain's PyMuPDFLoader\n",
    "\n",
    "import tqdm\n",
    "\n",
    "filedir = '/Users/katerina/Documents/CropGuard/Dec_demo/demo_knowledge'\n",
    "meta_columns = ['source_url', 'year', 'plan', 'commodity', 'state', 'county', 'doc_category', 'title', 'filename', 'plan_commodity_county_state']\n",
    "\n",
    "\n",
    "for i, (_, row) in tqdm.tqdm(enumerate(df.iterrows()), total=len(df)):\n",
    "\n",
    "    if row.filename in indexed_docs:\n",
    "        # print(f\"Skipping {row.filename}\")\n",
    "        continue\n",
    "\n",
    "    row_metadata = row[meta_columns].to_dict()\n",
    "\n",
    "    # load pdf and split into pages and text chunks\n",
    "    filepath = os.path.join(filedir, row.filename)\n",
    "    loader = PyMuPDFLoader(filepath)\n",
    "\n",
    "    try:\n",
    "        doc_pages = loader.load()\n",
    "        doc_splits = text_splitter.split_documents(doc_pages)\n",
    "\n",
    "        # extract texts and pypdf metadata\n",
    "        texts = [doc.page_content for doc in doc_splits]\n",
    "        metas = [doc.metadata for doc in doc_splits]\n",
    "        # embds = [emb_fn(doc.page_content) for doc in doc_splits]\n",
    "\n",
    "        \n",
    "        for d in metas:\n",
    "            # update with rma doc metadata, some fields are overwritten\n",
    "            d.update(row_metadata)\n",
    "            # overwrite source with s3 url\n",
    "            d['source'] = row['s3_url']\n",
    "        \n",
    "        \n",
    "        # create ids for splits\n",
    "        ids = [f\"{d.metadata['filename']}_{d.metadata['plan_commodity_county_state'].replace('_', '-')}_page_{d.metadata['page']}_startindex_{d.metadata['start_index']}\" for d in doc_splits]\n",
    "\n",
    "        # load it into Chroma\n",
    "        collection.add(documents=texts, metadatas=metas, ids=ids) # embeddings=embds)\n",
    "        indexed_docs.append(row_metadata['filename'])\n",
    "\n",
    "    except Exception as e:\n",
    "        print(f\"\\n{e}\\n{row_metadata}\\n\\n\")\n",
    "        continue"
   ]
  },
  {
   "cell_type": "code",
   "execution_count": 7,
   "metadata": {},
   "outputs": [
    {
     "data": {
      "text/plain": [
       "3733"
      ]
     },
     "execution_count": 7,
     "metadata": {},
     "output_type": "execute_result"
    }
   ],
   "source": [
    "collection.count()"
   ]
  },
  {
   "cell_type": "code",
   "execution_count": 8,
   "metadata": {},
   "outputs": [
    {
     "data": {
      "text/plain": [
       "[{'source': 'https://croptalk-spoi.s3.amazonaws.com/SPOI/06_115_90_0054_20231031.pdf',\n",
       "  'file_path': '/Users/katerina/Documents/CropGuard/Dec_demo/demo_knowledge/06_115_90_0054_20231031.pdf',\n",
       "  'page': 0,\n",
       "  'total_pages': 2,\n",
       "  'format': 'PDF 1.3',\n",
       "  'title': 'Special Provisions for insuring 0054 under plan 90 in state 06, county 115',\n",
       "  'author': '',\n",
       "  'subject': '',\n",
       "  'keywords': '',\n",
       "  'creator': 'Microsoft Reporting Services 10.0.0.0',\n",
       "  'producer': 'Microsoft Reporting Services PDF Rendering Extension 10.0.0.0',\n",
       "  'creationDate': \"D:20230816083754-05'00'\",\n",
       "  'modDate': '',\n",
       "  'trapped': '',\n",
       "  'start_index': 0,\n",
       "  'source_url': 'https://pubfs-rma.fpac.usda.gov/pub/Special_Provisions/2024/2024_SPOI_1031.zip',\n",
       "  'year': '2024',\n",
       "  'plan': '90',\n",
       "  'commodity': '0054',\n",
       "  'state': '06',\n",
       "  'county': '115',\n",
       "  'doc_category': 'SP',\n",
       "  'filename': '06_115_90_0054_20231031.pdf',\n",
       "  'plan_commodity_county_state': '90_0054_115_06'},\n",
       " {'source': 'https://croptalk-spoi.s3.amazonaws.com/SPOI/06_115_90_0054_20231031.pdf',\n",
       "  'file_path': '/Users/katerina/Documents/CropGuard/Dec_demo/demo_knowledge/06_115_90_0054_20231031.pdf',\n",
       "  'page': 0,\n",
       "  'total_pages': 2,\n",
       "  'format': 'PDF 1.3',\n",
       "  'title': 'Special Provisions for insuring 0054 under plan 90 in state 06, county 115',\n",
       "  'author': '',\n",
       "  'subject': '',\n",
       "  'keywords': '',\n",
       "  'creator': 'Microsoft Reporting Services 10.0.0.0',\n",
       "  'producer': 'Microsoft Reporting Services PDF Rendering Extension 10.0.0.0',\n",
       "  'creationDate': \"D:20230816083754-05'00'\",\n",
       "  'modDate': '',\n",
       "  'trapped': '',\n",
       "  'start_index': 796,\n",
       "  'source_url': 'https://pubfs-rma.fpac.usda.gov/pub/Special_Provisions/2024/2024_SPOI_1031.zip',\n",
       "  'year': '2024',\n",
       "  'plan': '90',\n",
       "  'commodity': '0054',\n",
       "  'state': '06',\n",
       "  'county': '115',\n",
       "  'doc_category': 'SP',\n",
       "  'filename': '06_115_90_0054_20231031.pdf',\n",
       "  'plan_commodity_county_state': '90_0054_115_06'},\n",
       " {'source': 'https://croptalk-spoi.s3.amazonaws.com/SPOI/06_115_90_0054_20231031.pdf',\n",
       "  'file_path': '/Users/katerina/Documents/CropGuard/Dec_demo/demo_knowledge/06_115_90_0054_20231031.pdf',\n",
       "  'page': 1,\n",
       "  'total_pages': 2,\n",
       "  'format': 'PDF 1.3',\n",
       "  'title': 'Special Provisions for insuring 0054 under plan 90 in state 06, county 115',\n",
       "  'author': '',\n",
       "  'subject': '',\n",
       "  'keywords': '',\n",
       "  'creator': 'Microsoft Reporting Services 10.0.0.0',\n",
       "  'producer': 'Microsoft Reporting Services PDF Rendering Extension 10.0.0.0',\n",
       "  'creationDate': \"D:20230816083754-05'00'\",\n",
       "  'modDate': '',\n",
       "  'trapped': '',\n",
       "  'start_index': 0,\n",
       "  'source_url': 'https://pubfs-rma.fpac.usda.gov/pub/Special_Provisions/2024/2024_SPOI_1031.zip',\n",
       "  'year': '2024',\n",
       "  'plan': '90',\n",
       "  'commodity': '0054',\n",
       "  'state': '06',\n",
       "  'county': '115',\n",
       "  'doc_category': 'SP',\n",
       "  'filename': '06_115_90_0054_20231031.pdf',\n",
       "  'plan_commodity_county_state': '90_0054_115_06'},\n",
       " {'source': 'https://croptalk-spoi.s3.amazonaws.com/SPOI/06_115_90_0054_20231031.pdf',\n",
       "  'file_path': '/Users/katerina/Documents/CropGuard/Dec_demo/demo_knowledge/06_115_90_0054_20231031.pdf',\n",
       "  'page': 1,\n",
       "  'total_pages': 2,\n",
       "  'format': 'PDF 1.3',\n",
       "  'title': 'Special Provisions for insuring 0054 under plan 90 in state 06, county 115',\n",
       "  'author': '',\n",
       "  'subject': '',\n",
       "  'keywords': '',\n",
       "  'creator': 'Microsoft Reporting Services 10.0.0.0',\n",
       "  'producer': 'Microsoft Reporting Services PDF Rendering Extension 10.0.0.0',\n",
       "  'creationDate': \"D:20230816083754-05'00'\",\n",
       "  'modDate': '',\n",
       "  'trapped': '',\n",
       "  'start_index': 810,\n",
       "  'source_url': 'https://pubfs-rma.fpac.usda.gov/pub/Special_Provisions/2024/2024_SPOI_1031.zip',\n",
       "  'year': '2024',\n",
       "  'plan': '90',\n",
       "  'commodity': '0054',\n",
       "  'state': '06',\n",
       "  'county': '115',\n",
       "  'doc_category': 'SP',\n",
       "  'filename': '06_115_90_0054_20231031.pdf',\n",
       "  'plan_commodity_county_state': '90_0054_115_06'},\n",
       " {'source': 'https://croptalk-spoi.s3.amazonaws.com/SPOI/06_115_90_0054_20231031.pdf',\n",
       "  'file_path': '/Users/katerina/Documents/CropGuard/Dec_demo/demo_knowledge/06_115_90_0054_20231031.pdf',\n",
       "  'page': 1,\n",
       "  'total_pages': 2,\n",
       "  'format': 'PDF 1.3',\n",
       "  'title': 'Special Provisions for insuring 0054 under plan 90 in state 06, county 115',\n",
       "  'author': '',\n",
       "  'subject': '',\n",
       "  'keywords': '',\n",
       "  'creator': 'Microsoft Reporting Services 10.0.0.0',\n",
       "  'producer': 'Microsoft Reporting Services PDF Rendering Extension 10.0.0.0',\n",
       "  'creationDate': \"D:20230816083754-05'00'\",\n",
       "  'modDate': '',\n",
       "  'trapped': '',\n",
       "  'start_index': 1647,\n",
       "  'source_url': 'https://pubfs-rma.fpac.usda.gov/pub/Special_Provisions/2024/2024_SPOI_1031.zip',\n",
       "  'year': '2024',\n",
       "  'plan': '90',\n",
       "  'commodity': '0054',\n",
       "  'state': '06',\n",
       "  'county': '115',\n",
       "  'doc_category': 'SP',\n",
       "  'filename': '06_115_90_0054_20231031.pdf',\n",
       "  'plan_commodity_county_state': '90_0054_115_06'}]"
      ]
     },
     "execution_count": 8,
     "metadata": {},
     "output_type": "execute_result"
    }
   ],
   "source": [
    "metas"
   ]
  },
  {
   "cell_type": "code",
   "execution_count": 6,
   "metadata": {},
   "outputs": [
    {
     "data": {
      "text/plain": [
       "{'source': 'https://croptalk-spoi.s3.amazonaws.com/SPOI/06_019_90_0028_20230831.pdf',\n",
       " 'file_path': '/Users/katerina/Documents/CropGuard/Dec_demo/demo_knowledge/06_019_90_0028_20230831.pdf',\n",
       " 'page': 0,\n",
       " 'total_pages': 1,\n",
       " 'format': 'PDF 1.3',\n",
       " 'title': 'Special Provisions for insuring 0028 under plan 90 in 06, 019county',\n",
       " 'author': '',\n",
       " 'subject': '',\n",
       " 'keywords': '',\n",
       " 'creator': 'Microsoft Reporting Services 10.0.0.0',\n",
       " 'producer': 'Microsoft Reporting Services PDF Rendering Extension 10.0.0.0',\n",
       " 'creationDate': \"D:20230816081544-05'00'\",\n",
       " 'modDate': '',\n",
       " 'trapped': '',\n",
       " 'start_index': 0,\n",
       " 'source_url': 'https://pubfs-rma.fpac.usda.gov/pub/Special_Provisions/2024/2024_SPOI_0831.zip',\n",
       " 'year': '2024',\n",
       " 'plan': '90',\n",
       " 'commodity': '0028',\n",
       " 'state': '06',\n",
       " 'county': '019',\n",
       " 'doc_category': 'SP',\n",
       " 'filename': '06_019_90_0028_20230831.pdf',\n",
       " 'plan_commodity_county_state': '90_0028_019_06'}"
      ]
     },
     "execution_count": 6,
     "metadata": {},
     "output_type": "execute_result"
    }
   ],
   "source": [
    "metas[0]"
   ]
  },
  {
   "cell_type": "code",
   "execution_count": 7,
   "metadata": {},
   "outputs": [
    {
     "name": "stdout",
     "output_type": "stream",
     "text": [
      "Indexed 52 documents\n",
      "Not indexed files: set()\n"
     ]
    }
   ],
   "source": [
    "print(f\"Indexed {len(indexed_docs)} documents\")\n",
    "print(f\"Not indexed files: {set(df.filename) - set(indexed_docs)}\")"
   ]
  },
  {
   "cell_type": "markdown",
   "metadata": {},
   "source": [
    "# Test the vectorstore"
   ]
  },
  {
   "cell_type": "code",
   "execution_count": 8,
   "metadata": {},
   "outputs": [
    {
     "name": "stdout",
     "output_type": "stream",
     "text": [
      "There are 3279 docs in the collection\n"
     ]
    }
   ],
   "source": [
    "from langchain.vectorstores import Chroma\n",
    "\n",
    "# Load the collection through langchain's Chroma wrapper\n",
    "# Using langchain's SentenceTransformerEmbeddings wrapper\n",
    "lanngchain_emb = SentenceTransformerEmbeddings(model_name=\"all-MiniLM-L6-v2\")\n",
    "\n",
    "langchain_chroma = Chroma(\n",
    "    client=chroma_client,\n",
    "    collection_name=\"Demo\",\n",
    "    embedding_function=lanngchain_emb,\n",
    ")\n",
    "\n",
    "print(\"There are\", langchain_chroma._collection.count(), \"docs in the collection\")"
   ]
  },
  {
   "cell_type": "code",
   "execution_count": 12,
   "metadata": {},
   "outputs": [],
   "source": [
    "where_filter = {\n",
    "    \"$and\": [\n",
    "        {\n",
    "            \"doc_category\": {\n",
    "                '$eq': 'CP'\n",
    "            }\n",
    "        },\n",
    "        {\n",
    "            \"plan_commodity_county_state\": {\n",
    "                \"$eq\":  \"47_0154_000_00\"\n",
    "            }\n",
    "        }\n",
    "    ]\n",
    "}"
   ]
  },
  {
   "cell_type": "code",
   "execution_count": 19,
   "metadata": {},
   "outputs": [
    {
     "data": {
      "text/plain": [
       "[True, True, True, True, True]"
      ]
     },
     "execution_count": 19,
     "metadata": {},
     "output_type": "execute_result"
    }
   ],
   "source": [
    "matches = langchain_chroma.similarity_search(\"strawberries\", k=5, filter=where_filter)\n",
    "['47_0154_000_00' in m.metadata.values() for m in matches]"
   ]
  },
  {
   "cell_type": "code",
   "execution_count": 20,
   "metadata": {},
   "outputs": [
    {
     "data": {
      "text/plain": [
       "{'author': 'USDA Risk Management Agency',\n",
       " 'commodity': '0154',\n",
       " 'county': '000',\n",
       " 'creationDate': \"D:20170501074444-05'00'\",\n",
       " 'creator': 'Acrobat PDFMaker 11 for Word',\n",
       " 'doc_category': 'CP',\n",
       " 'file_path': '/Users/katerina/Documents/CropGuard/Dec_demo/demo_knowledge/Strawberry-Pilot-Crop-Provisions-18-0154.pdf',\n",
       " 'filename': 'Strawberry-Pilot-Crop-Provisions-18-0154.pdf',\n",
       " 'format': 'PDF 1.6',\n",
       " 'keywords': '',\n",
       " 'modDate': \"D:20170501102358-05'00'\",\n",
       " 'page': 1,\n",
       " 'plan': '47',\n",
       " 'plan_commodity_county_state': '47_0154_000_00',\n",
       " 'producer': 'Adobe PDF Library 11.0',\n",
       " 'source': '/Users/katerina/Documents/CropGuard/Dec_demo/demo_knowledge/Strawberry-Pilot-Crop-Provisions-18-0154.pdf',\n",
       " 'source_url': 'https://www.rma.usda.gov/-/media/RMA/Policies/ARH-Strawberry/2018/Strawberry-Pilot-Crop-Provisions-18-0154.ashx',\n",
       " 'start_index': 3206,\n",
       " 'state': '00',\n",
       " 'subject': 'Provisions',\n",
       " 'title': 'Strawberry Pilot Crop Provisions 18-0154',\n",
       " 'total_pages': 6,\n",
       " 'trapped': '',\n",
       " 'year': '2018'}"
      ]
     },
     "execution_count": 20,
     "metadata": {},
     "output_type": "execute_result"
    }
   ],
   "source": [
    "matches[0].metadata"
   ]
  }
 ],
 "metadata": {
  "kernelspec": {
   "display_name": "venv",
   "language": "python",
   "name": "python3"
  },
  "language_info": {
   "codemirror_mode": {
    "name": "ipython",
    "version": 3
   },
   "file_extension": ".py",
   "mimetype": "text/x-python",
   "name": "python",
   "nbconvert_exporter": "python",
   "pygments_lexer": "ipython3",
   "version": "3.11.4"
  }
 },
 "nbformat": 4,
 "nbformat_minor": 2
}
